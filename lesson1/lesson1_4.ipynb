{
 "cells": [
  {
   "cell_type": "markdown",
   "id": "98712fb1-c440-4770-846d-e496939d8f6c",
   "metadata": {},
   "source": [
    "## **Bài 1.4: <u>Gán và khởi tạo giá trị cho biến</u>**\n"
   ]
  },
  {
   "cell_type": "markdown",
   "id": "8e08ee44-b424-4a0e-ae4f-23abbbfbf9e0",
   "metadata": {},
   "source": [
    "### **Phép gán**"
   ]
  },
  {
   "cell_type": "markdown",
   "id": "7c723c0f-b3ee-429c-911b-a344957b372e",
   "metadata": {},
   "source": [
    "- Sau khi một biến đã được khai báo, bạn có thể gán cho nó một giá trị (trong một câu lệnh riêng) bằng toán tử `=`. Quá trình này được gọi là phép gán và toán tử `=` được gọi là toán tử gán.\n",
    ">```\n",
    ">int width; // define an integer variable named width\n",
    ">width = 5; // assignment of value 5 into variable width\n",
    ">// variable width now has value 5\n",
    ">```\n",
    "- Theo mặc định, phép gán sẽ sao chép giá trị ở vế phải của toán tử `=` sang biến ở vế trái của toán tử. Đây được gọi là gán sao chép (copy assignment).\n",
    "- Ví dụ gán giá trị nhiều lần:\n",
    ">```\n",
    ">#include <iostream>\n",
    ">\n",
    ">int main()\n",
    ">{\n",
    ">\tint width;\n",
    ">\twidth = 5; // copy assignment of value 5 into variable width\n",
    ">\n",
    ">\tstd::cout << width; // prints 5\n",
    ">\n",
    ">\twidth = 7; // change value stored in variable width to 7\n",
    ">\n",
    ">\tstd::cout << width; // prints 7\n",
    ">\n",
    ">\treturn 0;\n",
    ">}\n",
    ">```\n",
    "- Đoạn code này in ra:\n",
    "> `57`\n",
    "- Khi chúng ta gán giá trị `7` cho biến `width`, giá trị `5` trước đó sẽ bị ghi đè. Biến thông thường chỉ có thể chứa một giá trị tại một thời điểm.\n"
   ]
  },
  {
   "cell_type": "markdown",
   "id": "e1267b40-f5b0-4f60-9eab-e072b87b6eac",
   "metadata": {},
   "source": [
    "### **Khởi tạo giá trị cho biến (initialization)** "
   ]
  },
  {
   "cell_type": "markdown",
   "id": "351c4b74-b273-423a-bc1d-2bbdde06821a",
   "metadata": {},
   "source": [
    "- Gán giá trị cho biến yêu cầu ít nhất hai câu lệnh: một để khai báo biến và một để gán giá trị.\n",
    "- Hai bước này có thể được kết hợp. Khi một đối tượng được định nghĩa, bạn có thể tùy chọn cung cấp cho nó một giá trị ban đầu. Quá trình chỉ định giá trị ban đầu cho một đối tượng được gọi là khởi tạo (**initialization**), và cú pháp được sử dụng để khởi tạo một đối tượng được gọi là trình khởi tạo (**initializer**).\n",
    "> - Ví dụ:\n",
    ">```\n",
    ">int width { 5 }; // Định nghĩa biến width và khởi tạo với giá trị ban đầu là 5\n",
    ">\n",
    ">// Biến width bây giờ có giá trị là 5\n",
    ">```\n"
   ]
  },
  {
   "cell_type": "markdown",
   "id": "f1b472eb-c357-47e4-91fb-dcaea2bb714e",
   "metadata": {},
   "source": [
    "### **Các dạng khởi tạo khác nhau**"
   ]
  },
  {
   "cell_type": "markdown",
   "id": "ac91f30b-8181-4841-a6d8-fffcd9cfda3c",
   "metadata": {},
   "source": [
    "- Khởi tạo trong C++ phức tạp hơn so với tưởng tượng, vì vậy chúng ta sẽ chỉ trình bày một cách đơn giản ở đây.\n",
    "- Có 6 cách cơ bản để khởi tạo biến trong C++:\n",
    "    >`int a; // Không có trình khởi tạo (khởi tạo mặc định)`\\\n",
    "    >`int b = 5; // Giá trị ban đầu sau dấu bằng (khởi tạo sao chép)`\\\n",
    "    >`int c( 6 ); // Giá trị ban đầu trong dấu ngoặc đơn (khởi tạo trực tiếp)`\\\n",
    "    >`// Phương thức khởi tạo danh sách (C++11) (ưu tiên)`\\\n",
    "    >`int d { 7 }; // Giá trị ban đầu trong ngoặc nhọn (khởi tạo danh sách trực tiếp)`\\\n",
    "    >`int e = { 8 }; // Giá trị ban đầu trong ngoặc nhọn sau dấu bằng (khởi tạo danh sách sao chép)`\\\n",
    "    >`int f {}; // Trình khởi tạo là ngoặc nhọn trống (khởi tạo giá trị)`\n",
    "    \n"
   ]
  },
  {
   "cell_type": "markdown",
   "id": "e4b419dc-8ea4-4445-bb3e-e4d7b7217e81",
   "metadata": {},
   "source": [
    "#### *<u>Khởi tạo mặc định (Default initialization)</u>.*"
   ]
  },
  {
   "cell_type": "markdown",
   "id": "0cb1258e-4ba8-4f56-b158-1d6ca57c5183",
   "metadata": {},
   "source": [
    "Khi không cung cấp trình khởi tạo (chẳng hạn như đối với biến `a` ở trên), thì đây được gọi là **khởi tạo mặc định**. Trong hầu hết các trường hợp, khởi tạo mặc định không thực hiện bất kỳ khởi tạo nào và để lại biến với giá trị không xác định."
   ]
  },
  {
   "cell_type": "markdown",
   "id": "43c3f0f0-e4f6-46b5-88a2-52f9594267b4",
   "metadata": {},
   "source": [
    "#### *<u>Khởi tạo sao chép (Copy initialization)</u>.*"
   ]
  },
  {
   "cell_type": "markdown",
   "id": "7c91ee88-45a3-496e-a08e-c9be19e05dbf",
   "metadata": {},
   "source": [
    "Khi cung cấp giá trị ban đầu sau dấu bằng, thì đây được gọi là **khởi tạo sao chép**. Hình thức khởi tạo này được thừa hưởng từ **C**.\n",
    ">`int width = 5; // Khởi tạo sao chép giá trị 5 vào biến width`\n",
    "\n",
    "Giống như gán sao chép, nó sao chép giá trị bên phải dấu bằng vào biến được tạo bên trái. Trong đoạn mã trên, biến `width` sẽ được khởi tạo với giá trị `5`.\n",
    "\n",
    "Khởi tạo sao chép không còn được ưa chuộng trong C++ hiện đại do kém hiệu quả hơn các hình thức khởi tạo khác đối với một số kiểu dữ liệu phức tạp. Tuy nhiên, `C++17` đã khắc phục hầu hết các vấn đề này và khởi tạo sao chép hiện đang tìm lại chỗ đứng.\n",
    "\n",
    ">**Đối với người đọc nâng cao**\\\n",
    ">Khởi tạo sao chép cũng được sử dụng bất cứ khi nào các giá trị được sao chép hoặc chuyển đổi ngầm, chẳng hạn như khi truyền đối số cho một hàm theo giá trị, trả về từ một hàm theo giá trị hoặc bắt các ngoại lệ theo giá trị."
   ]
  },
  {
   "cell_type": "markdown",
   "id": "026ca537-eb57-4f19-b3d3-a00962909e5a",
   "metadata": {},
   "source": [
    "#### *<u>Khởi tạo trực tiếp (Direct initialization)</u>.*"
   ]
  },
  {
   "cell_type": "markdown",
   "id": "eea9bbe2-53ff-45f8-9a2e-ac43c38f3980",
   "metadata": {},
   "source": [
    "Khi cung cấp giá trị ban đầu bên trong dấu ngoặc đơn, thì đây được gọi là khởi tạo trực tiếp.\n",
    "\n",
    ">`int width( 5 ); // Khởi tạo trực tiếp giá trị 5 vào biến width`\n",
    "\n",
    "Khởi tạo trực tiếp ban đầu được giới thiệu để cho phép khởi tạo các đối tượng phức tạp (các đối tượng có kiểu lớp, chúng tôi sẽ đề cập trong một chương học sau) hiệu quả hơn. Giống như khởi tạo sao chép, khởi tạo trực tiếp không còn được ưa chuộng trong C++ hiện đại, chủ yếu là do nó bị thay thế bởi khởi tạo danh sách. Tuy nhiên, hiện tại chúng ta biết rằng khởi tạo danh sách có một vài điểm kỳ quặc, do đó khởi tạo trực tiếp lại được sử dụng trong một số trường hợp nhất định.\n",
    "\n",
    "Khởi tạo trực tiếp cũng được sử dụng khi các giá trị được ép kiểu rõ ràng sang một kiểu khác.\n",
    "\n",
    "Một trong những lý do khiến khởi tạo trực tiếp không còn được ưa chuộng là vì nó gây khó khăn trong việc phân biệt biến với hàm. Ví dụ:\n",
    ">`int x();  // Khai báo trước hàm x`\\\n",
    ">`int x(0); // Định nghĩa biến x với giá trị khởi tạo là 0`\n"
   ]
  },
  {
   "cell_type": "markdown",
   "id": "2ac933ba-851c-4d37-a495-a8c29a05719f",
   "metadata": {},
   "source": [
    "#### *<u>Khởi tạo danh sách (List initialization)</u>.*"
   ]
  },
  {
   "cell_type": "markdown",
   "id": "1becc8d5-7407-4bf0-a97c-ad9413056253",
   "metadata": {},
   "source": [
    "Khởi tạo danh sách (List initialization) là cách thức hiện đại để khởi tạo các đối tượng trong C++. Nó còn được gọi là khởi tạo đồng nhất (uniform initialization) hoặc khởi tạo bằng ngoặc nhọn (brace initialization).\n",
    "\n",
    "<u>Ba dạng khởi tạo danh sách:</u>\n",
    "\n",
    "**1.** Khởi tạo danh sách trực tiếp (direct list initialization):\n",
    ">`int width { 5 };    // Khởi tạo biến width với giá trị ban đầu là 5`\n",
    "\n",
    "**2.** Khởi tạo danh sách sao chép (copy list initialization):\n",
    ">`int height = { 6 }; // Gán giá trị 6 cho biến height`\n",
    "\n",
    "**3.** Khởi tạo giá trị (value initialization):\n",
    ">`int depth {};       // Khởi tạo biến depth với giá trị rỗng (sẽ được giải thích chi tiết sau)` \n",
    "\n",
    "Trước khi có khởi tạo danh sách:\n",
    "- Trước đây, tùy thuộc vào kiểu dữ liệu, bạn cần sử dụng khởi tạo sao chép (copy initialization) hoặc khởi tạo trực tiếp (direct initialization). Khởi tạo danh sách được ra đời để cung cấp cú pháp khởi tạo thống nhất (do đó đôi khi được gọi là khởi tạo đồng nhất) hoạt động trong hầu hết các trường hợp.\n",
    "- Ngoài ra, khởi tạo danh sách còn cho phép khởi tạo đối tượng với một danh sách các giá trị (do đó được gọi là khởi tạo danh sách). Ví dụ về cách khởi tạo này sẽ được giới thiệu trong bài học sau về các hàm tạo của `std::vector` và `std::list`.\n",
    "\n",
    "<u>Lợi ích của khởi tạo danh sách:</u>\n",
    "- **Ngăn chặn chuyển đổi hẹp (narrowing conversions)**: Khi sử dụng khởi tạo danh sách, việc gán các giá trị không phù hợp kiểu dữ liệu của biến sẽ gây ra lỗi. Điều này giúp tránh mất mát dữ liệu.\n",
    ">`int width { 4.5 }; // Lỗi: số thập phân không thể gán cho biến nguyên`\n",
    "\n",
    "    - Trong đoạn code trên, biến `width` kiểu `int` (chỉ lưu trữ số nguyên) nhưng chúng ta lại cố gắng gán cho nó một số thập phân (`4.5`).\n",
    "    - **Khởi tạo sao chép** và **khởi tạo trực tiếp** sẽ loại bỏ phần thập phân, gán giá trị `4` cho biến `width`. Trình biên dịch của bạn có thể cảnh báo về việc mất mát dữ liệu này. Tuy nhiên, với khởi tạo danh sách, trình biên dịch bắt buộc phải báo lỗi trong trường hợp này.\n",
    "- **Các phép chuyển đổi không gây mất mát dữ liệu vẫn được phép.**\n",
    "\n",
    "<u>Tóm tắt:</u>\n",
    "\n",
    "Khởi tạo danh sách thường được ưu tiên hơn các hình thức khởi tạo khác vì:\n",
    "\n",
    "- Hoạt động trong hầu hết các trường hợp (tính nhất quán cao).\n",
    "- Ngăn chặn chuyển đổi hẹp (tránh mất mát dữ liệu).\n",
    "- Hỗ trợ khởi tạo với danh sách giá trị (sẽ được học sau).\n",
    "\n",
    "<u>Khuyến nghị:</u>\n",
    "- Trong khi học, nên ưu tiên sử dụng khởi tạo danh sách trực tiếp (hoặc khởi tạo giá trị) để khởi tạo biến.\n"
   ]
  },
  {
   "cell_type": "markdown",
   "id": "cac7128c-4d48-4b82-b9da-8cb2ee7447b6",
   "metadata": {},
   "source": [
    "#### *<u>Khởi tạo giá trị và khởi tạo bằng 0 (Value initialization and zero initialization)</u>.*"
   ]
  },
  {
   "cell_type": "markdown",
   "id": "e5176f69-f8fd-401f-b1e9-3c22fd43733f",
   "metadata": {},
   "source": [
    "<u>Khởi tạo giá trị (Value initialization):</u>\n",
    "- Khi bạn khởi tạo biến bằng ngoặc nhọn rỗng {}, quá trình khởi tạo giá trị (value initialization) diễn ra.\n",
    "- Trong hầu hết các trường hợp, khởi tạo giá trị sẽ gán giá trị 0 cho biến (hoặc giá trị rỗng đối với kiểu dữ liệu phù hợp).\n",
    "- Ví dụ:\n",
    ">`int width {}; // Khởi tạo biến width với giá trị 0 (khởi tạo giá trị / khởi tạo bằng 0)`\n",
    "\n",
    "<u>Câu hỏi:</u> *Nên dùng `{}` hay `{0}` để khởi tạo giá trị?*\n",
    "- Sử dụng giá trị khởi tạo rõ ràng (`{0}`) nếu bạn thực sự sử dụng giá trị đó.\n",
    "- Ví dụ:\n",
    ">`int x {0};    // Khởi tạo rõ ràng biến x với giá trị 0`\\\n",
    ">`std::cout << x; // In ra giá trị 0`\n",
    "\n",
    "<u>LỜI KHUYÊN:</u> Khởi tạo biến ngay khi tạo.\n",
    "- Khởi tạo biến với giá trị mặc định (0, giá trị rỗng, ...) thường là lựa chọn tốt. Điều này giúp bạn tránh những vấn đề do biến chưa được khởi tạo gây ra.\n",
    "- Sử dụng khởi tạo danh sách (list initialization) - Đây là cách thức hiện đại và an toàn để khởi tạo biến trong C++.\n"
   ]
  },
  {
   "cell_type": "markdown",
   "id": "937ea90d-c486-4a13-9fda-7066fc21b236",
   "metadata": {},
   "source": [
    "### **Khởi tạo nhiều biến trong C++**"
   ]
  },
  {
   "cell_type": "markdown",
   "id": "ce1e4a82-9218-4257-a2ce-61011baadddf",
   "metadata": {},
   "source": [
    "<u>Định nghĩa nhiều biến cùng kiểu:</u>\n",
    "- Trong bài trước, chúng ta đã biết có thể khai báo nhiều biến cùng kiểu trong một câu lệnh bằng cách phân cách các tên biến bằng dấu phẩy:\n",
    ">`int a, b;`\n",
    "\n",
    "- Tuy nhiên, theo khuyến cáo, bạn nên tránh sử dụng cách thức này. Tuy nhiên, vì bạn có thể gặp code cũ sử dụng cách này, nên chúng ta vẫn cần tìm hiểu thêm về nó.\n",
    "- Khởi tạo nhiều biến trên cùng một dòng: Bạn có thể khởi tạo nhiều biến được khai báo trên cùng một dòng:\n",
    ">```\n",
    ">int a = 5, b = 6;          // Khởi tạo sao chép (copy initialization)\n",
    ">int c( 7 ), d( 8 );        // Khởi tạo trực tiếp (direct initialization)\n",
    ">int e { 9 }, f { 10 };     // Khởi tạo danh sách trực tiếp (direct brace initialization)\n",
    ">int g = { 9 }, h = { 10 }; // Khởi tạo danh sách sao chép (copy brace initialization)\n",
    ">int i {}, j {};            // Khởi tạo giá trị (value initialization)\n",
    ">```\n",
    "\n",
    "<u>Lỗi thường gặp:</u>\n",
    "- Một lỗi thường gặp là lập trình viên cố gắng khởi tạo cả hai biến bằng một câu lệnh khởi tạo:\n",
    ">`int a, b = 5; // Sai (biến a không được khởi tạo!`\n",
    "- Cách viết chính xác:\n",
    ">`int a = 5, b = 5; // Đúng`\n",
    "- Trong câu lệnh sai ở trên, biến a sẽ không được khởi tạo. Trình biên dịch có thể hoặc không báo lỗi. Nếu không báo lỗi, điều này có thể khiến chương trình của bạn chạy không ổn định hoặc cho ra kết quả không mong đợi.\n",
    "- **Cách nhớ để tránh lỗi:** Cách tốt nhất để nhớ đây là lỗi là xem xét trường hợp khởi tạo trực tiếp hoặc khởi tạo danh sách:\n",
    ">`int a, b( 5 );  // Sai (bị hiểu nhầm là khởi tạo cho cả a và b)`\\\n",
    ">`int c, d{ 5 };  // Sai (bị hiểu nhầm là khởi tạo cho cả c và d)`\n",
    "- Vì dấu ngoặc đơn hoặc ngoặc nhọn thường được đặt ngay cạnh tên biến, điều này khiến cho việc khởi tạo giá trị 5 chỉ dành cho biến b và d, không phải a hoặc c.\n",
    "\n",
    "\n",
    "\n"
   ]
  },
  {
   "cell_type": "markdown",
   "id": "7e7db39f-42e7-4a39-aee6-8a28c7eff698",
   "metadata": {},
   "source": [
    "### **Cảnh báo biến được khởi tạo nhưng không sử dụng (Unused initialized variables warnings)**"
   ]
  },
  {
   "cell_type": "markdown",
   "id": "f5385566-5d5a-4369-b34c-90745a6ac5f7",
   "metadata": {},
   "source": [
    "- Trình biên dịch hiện đại thường sẽ cảnh báo nếu một biến được khởi tạo nhưng không được sử dụng (vì điều này hiếm khi cần thiết). Và nếu bật tùy chọn \"xử lý cảnh báo như lỗi\" (treat warnings as errors), các cảnh báo này sẽ được nâng cấp thành lỗi và khiến quá trình biên dịch thất bại.\n",
    "- Xét ví dụ chương trình đơn giản sau:\n",
    ">```\n",
    ">int main()\n",
    ">{\n",
    ">    int x { 5 }; // Biến x được khai báo và khởi tạo\n",
    ">\n",
    ">    // Nhưng không được sử dụng ở bất kỳ đâu\n",
    ">\n",
    ">    return 0;\n",
    ">}\n",
    ">```\n",
    "- Khi biên dịch chương trình này với trình biên dịch `g++`, lỗi sau sẽ được tạo:\n",
    ">```\n",
    ">prog.cc: In function 'int main()':\n",
    ">prog.cc:3:9: error: unused variable 'x' [-Werror=unused-variable]\n",
    ">```\n",
    "\n",
    "Chương trình sẽ không thể biên dịch thành công.\n",
    "\n",
    "- Có một vài cách đơn giản để khắc phục lỗi này:\\\n",
    "  **1. Xóa bỏ biến không sử dụng:**\\\n",
    "    Nếu biến `x` thực sự không được sử dụng, cách dễ nhất là xóa bỏ định nghĩa của nó (hoặc chú thích nó bằng `//`). Xóa bỏ biến không sử dụng sẽ không ảnh hưởng đến chương trình.\n",
    "  \n",
    "  **2. Sử dụng biến ở một nơi nào đó:**\n",
    "  >```\n",
    "  >#include <iostream>\n",
    "  >\n",
    "  >int main()\n",
    "  >{\n",
    "  >  int x { 5 };\n",
    "  >\n",
    "  >  std::cout << x; // Biến x được sử dụng\n",
    "  >\n",
    "  >  return 0;\n",
    "  >\n",
    "  >}\n",
    "  >\n",
    "  >```\n",
    "\n",
    "    Tuy nhiên, cách này yêu cầu viết thêm code để sử dụng biến và có thể ảnh hưởng đến logic ban đầu của chương trình.\n",
    "\n",
    "\n",
    "\n",
    "\n"
   ]
  },
  {
   "cell_type": "markdown",
   "id": "a8459115-c70a-4266-8283-fa39bdb3c58c",
   "metadata": {},
   "source": [
    "### **Thuộc tính `[[maybe_unused]]` trong `C++17`**\n"
   ]
  },
  {
   "cell_type": "markdown",
   "id": "41235f92-2438-4843-bc3b-99cd92cc4f0b",
   "metadata": {},
   "source": [
    "**Trường hợp không mong muốn xóa bỏ hoặc sử dụng biến:**\n",
    "- Trong một số trường hợp, cả hai cách xử lý ở trên (xóa bỏ biến hoặc sử dụng biến) đều không mong muốn. Ví dụ, giả sử chúng ta có một nhóm các hằng số toán học/vật lý được sử dụng trong nhiều chương trình khác nhau:\n",
    ">```\n",
    ">int main()\n",
    ">{\n",
    ">    double pi { 3.14159 };\n",
    ">    double gravity { 9.8 };\n",
    ">    double phi { 1.61803 };\n",
    ">\n",
    ">    // Giả sử một số hằng số được sử dụng, một số không\n",
    ">\n",
    ">    return 0;\n",
    ">}\n",
    ">```\n",
    "- Nếu chúng ta sử dụng các hằng số này thường xuyên, có thể chúng ta sẽ lưu chúng ở một nơi nào đó và sao chép/dán/nhập khẩu tất cả chúng cùng nhau.\n",
    "- Tuy nhiên, trong bất kỳ chương trình nào mà chúng ta không sử dụng tất cả các giá trị này, trình biên dịch sẽ phàn nàn về mỗi biến không được sử dụng thực tế. Mặc dù chúng ta có thể xóa hoặc chú thích từng biến không sử dụng cho mỗi chương trình, nhưng điều này tốn thời gian và công sức. Và sau này nếu cần đến một biến đã xóa trước đó, chúng ta sẽ phải quay lại và thêm lại nó.\n",
    "\n",
    "**Thuộc tính `[[maybe_unused]]`**\n",
    "- Để giải quyết những trường hợp như vậy, `C++17` giới thiệu thuộc tính `[[maybe_unused]]`, cho phép chúng ta thông báo cho trình biên dịch rằng việc một biến không được sử dụng là chấp nhận được. Trình biên dịch sẽ không tạo ra cảnh báo về biến không sử dụng cho các biến được đánh dấu bằng thuộc tính này.\n",
    "- Chương trình sau đây sẽ không tạo ra cảnh báo/lỗi:\n",
    ">```\n",
    ">int main()\n",
    ">{\n",
    ">    [[maybe_unused]] double pi { 3.14159 };\n",
    ">    [[maybe_unused]] double gravity { 9.8 };\n",
    ">    [[maybe_unused]] double phi { 1.61803 };\n",
    ">\n",
    ">    // Các biến ở trên sẽ không tạo ra cảnh báo về biến không sử dụng\n",
    ">\n",
    ">    return 0;\n",
    ">}\n",
    ">```\n",
    "\n",
    "Ngoài ra, trình biên dịch có thể tối ưu hóa các biến này ra khỏi chương trình, vì vậy chúng không ảnh hưởng đến hiệu suất."
   ]
  }
 ],
 "metadata": {
  "kernelspec": {
   "display_name": "Python 3 (ipykernel)",
   "language": "python",
   "name": "python3"
  },
  "language_info": {
   "codemirror_mode": {
    "name": "ipython",
    "version": 3
   },
   "file_extension": ".py",
   "mimetype": "text/x-python",
   "name": "python",
   "nbconvert_exporter": "python",
   "pygments_lexer": "ipython3",
   "version": "3.12.2"
  }
 },
 "nbformat": 4,
 "nbformat_minor": 5
}
