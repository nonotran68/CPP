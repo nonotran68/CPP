{
 "cells": [
  {
   "cell_type": "markdown",
   "id": "da3b56ef-5d07-4e2f-8228-87b23e8dd3dd",
   "metadata": {
    "jp-MarkdownHeadingCollapsed": true
   },
   "source": [
    "## <u>**Bài 1.7: Từ khóa và cách đặt tên định danh**</u>"
   ]
  },
  {
   "cell_type": "markdown",
   "id": "72400bac-29ff-46e9-ac85-8b53d7fe0e9f",
   "metadata": {},
   "source": [
    "C++ dành riêng một bộ gồm 92 từ (tính đến C++23) được định nghĩa sẵn. Những từ này được gọi là từ khóa (hoặc từ dành riêng), mỗi từ khóa đều có một ý nghĩa đặc biệt trong ngôn ngữ C++."
   ]
  },
  {
   "cell_type": "markdown",
   "id": "1c3d58fb-fd33-46aa-9b8b-f88aaccd5206",
   "metadata": {},
   "source": [
    "| `alignas`<br>`alignof`<br>`and`<br>`and_eq`<br>`asm`<br>`auto`<br>`bitand`<br>`bitor`<br>`bool`<br>`break`<br>`case`<br>`catch`<br>`char`<br>`char8_t` (since `C++20`)<br>`char16_t`<br>`char32_t`<br>`class`<br>`compl`<br>`concept` (since `C++20`)<br>`const`<br>`consteval` (since `C++20`)<br>`constexpr`<br>`constinit` (since `C++20`) | `const_cast`<br>`continue`<br>`co_await` (since `C++20`)<br>`co_return` (since `C++20`)<br>`co_yield` (since `C++20`)<br>`decltype`<br>`default`<br>`delete`<br>`do`<br>`double`<br>`dynamic_cast`<br>`else`<br>`enum`<br>`explicit`<br>`export`<br>`extern`<br>`false`<br>`float`<br>`for`<br>`friend`<br>`goto`<br>`if`<br>`inline` | `int`<br>`long`<br>`mutable`<br>`namespace`<br>`new`<br>`noexcept`<br>`not`<br>`not_eq`<br>`nullptr`<br>`operator`<br>`or`<br>`or_eq`<br>`private`<br>`protected`<br>`public`<br>`register`<br>`reinterpret_cast`<br>`requires` (since `C++20`)<br>`return`<br>`short`<br>`signed`<br>`sizeof`<br>`static` | `static_assert`<br>`static_cast`<br>`struct`<br>`switch`<br>`template`<br>`this`<br>`thread_local`<br>`throw`<br>`true`<br>`try`<br>`typedef`<br>`typeid`<br>`typename`<br>`union`<br>`unsigned`<br>`using`<br>`virtual`<br>`void`<br>`volatile`<br>`wchar_t`<br>`while`<br>`xor`<br>`xor_eq` |\n",
    "|-----------------------------------------------------------------------------------------------------------------------------------------------------------------------------------------------------------------------------------------------------------------------------------------|-----------------------------------------------------------------------------------------------------------------------------------------------------------------------------------------------------------------------------------------------------------------------------------|------------------------------------------------------------------------------------------------------------------------------------------------------------------------------------------------------------------------------------------------------------|-------------------------------------------------------------------------------------------------------------------------------------------------------------------------------------------------------------------------------------------------|"
   ]
  },
  {
   "cell_type": "markdown",
   "id": "62b1b23a-371c-4b74-b582-69faa90e8ef1",
   "metadata": {},
   "source": [
    ">Lưu ý: Các từ khóa được đánh dấu (C++20) được thêm vào trong C++20. Nếu trình biên dịch của bạn không hỗ trợ C++20 (hoặc có chức năng C++20 nhưng mặc định bị tắt), các từ khóa này có thể không hoạt động.\n",
    "\n",
    "C++ cũng định nghĩa các định danh đặc biệt: `override`, `final`, `import` và `module`. Chúng có ý nghĩa cụ thể khi được sử dụng trong một số ngữ cảnh nhất định nhưng không bị dành riêng trong các trường hợp khác.\n",
    "\n",
    "Bạn có thể đã gặp một số từ khóa này, bao gồm `int` và `return`. Cùng với một tập hợp các toán tử, các từ khóa và định danh đặc biệt này định nghĩa toàn bộ ngôn ngữ **C++** (ngoại trừ các lệnh tiền xử lý). Bởi vì từ khóa và định danh đặc biệt có ý nghĩa đặc biệt, IDE của bạn có thể thay đổi màu sắc của các từ này để làm chúng nổi bật so với các định danh khác.\n",
    "\n",
    "Khi hoàn thành loạt bài hướng dẫn này, bạn sẽ hiểu được ý nghĩa của hầu hết các từ khóa này!"
   ]
  },
  {
   "cell_type": "markdown",
   "id": "f2a2c97b-e96c-4725-9ea1-ee386157a98d",
   "metadata": {},
   "source": [
    "### **Quy tắc đặt tên cho định danh (Identifier naming rules)**"
   ]
  },
  {
   "cell_type": "markdown",
   "id": "b373e57c-0743-427b-a9d6-df1cf774205a",
   "metadata": {},
   "source": [
    "Như một lời nhắc nhở, tên của một biến (hoặc hàm, kiểu dữ liệu, hoặc loại đối tượng khác) được gọi là định danh (**identifier**). C++ cung cấp cho bạn nhiều sự linh hoạt để đặt tên cho các định danh theo ý muốn. Tuy nhiên, có một vài quy tắc cần tuân theo khi đặt tên cho định danh:"
   ]
  },
  {
   "cell_type": "markdown",
   "id": "bfbb1521-7ba3-440f-ab62-009ff9380d13",
   "metadata": {},
   "source": [
    "**1. Không trùng với từ khóa:** Từ khóa là các từ được C++ dành riêng để sử dụng cho các mục đích nội bộ của ngôn ngữ và không thể được dùng làm tên cho các định danh.\\\n",
    "**2. Ký tự hợp lệ:** Tên định danh chỉ được bao gồm các ký tự sau:\\\n",
    "    - Chữ cái (in hoa hoặc thường)\\\n",
    "    - Số\\\n",
    "    - Ký tự gạch dưới (_) \\\n",
    "    **Lưu ý:** Không được chứa các ký hiệu khác (ngoại trừ dấu gạch dưới) hoặc khoảng trắng (dấu cách hoặc tab).\\\n",
    "**3. Bắt đầu bằng chữ cái hoặc dấu gạch dưới:** Tên định danh phải bắt đầu bằng một chữ cái (in hoa hoặc thường) hoặc dấu gạch dưới. Không được bắt đầu bằng số.\\\n",
    "**4. Phân biệt chữ hoa/thường:** **C++** phân biệt chữ hoa và chữ thường, do đó `nvalue` khác với `nValue` và khác với `NVALUE`.\n"
   ]
  },
  {
   "cell_type": "markdown",
   "id": "50898387-acb2-4fc9-95cf-b501d7ac8a9d",
   "metadata": {},
   "source": [
    "### **Quy tắc ngón tay cái về cách đặt tên định danh:**"
   ]
  },
  {
   "cell_type": "markdown",
   "id": "ea982132-3e40-4f2a-acfb-8ba957484265",
   "metadata": {},
   "source": [
    "Bây giờ bạn đã biết có thể đặt tên cho biến như thế nào, chúng ta hãy thảo luận về **nên** đặt tên cho biến (hoặc hàm) như thế nào."
   ]
  },
  {
   "cell_type": "markdown",
   "id": "470ef76b-9cac-4c82-8423-3ad2f16b7e95",
   "metadata": {},
   "source": [
    "#### <u>*Quy tắc khuyên dùng:*</u>"
   ]
  },
  {
   "cell_type": "markdown",
   "id": "59d0aef6-7fa7-462b-a495-49e8fbdc3083",
   "metadata": {},
   "source": [
    "1. **Chữ cái thường ở đầu:**\n",
    "- Theo quy ước trong C++, tên biến nên bắt đầu bằng một chữ cái thường. Nếu tên biến là một từ đơn hoặc viết tắt, toàn bộ tên nên được viết thường.\n",
    "\n",
    ">`int giaTri; // Theo quy ước (conventional)`\n",
    ">\n",
    ">`int GiaTri; // Không theo quy ước (nên bắt đầu bằng chữ thường)`\\\n",
    ">`int GIA_TRI; // Không theo quy ước (nên bắt đầu bằng chữ thường và viết toàn bộ chữ thường)`\\\n",
    ">`int GiATrI; // Không theo quy ước (bạn nên gặp bác sĩ tâm lý) ;)`\n",
    "\n",
    "2. **Tên hàm:**\n",
    "- Tên hàm thường cũng được bắt đầu bằng một chữ cái thường (mặc dù có một số ý kiến ​​khác nhau về điểm này). Chúng ta sẽ tuân theo quy ước này, vì hàm chính `main` (mà tất cả các chương trình phải có) bắt đầu bằng chữ thường, giống như tất cả các hàm trong thư viện chuẩn C++.\n",
    "3. **Chữ cái hoa cho kiểu dữ liệu:**\n",
    "- Tên định danh bắt đầu bằng chữ cái in hoa thường được sử dụng cho các kiểu dữ liệu do người dùng tự định nghĩa (chẳng hạn như cấu trúc (**struct**), lớp (**class**) và liệt kê (**enum**), tất cả sẽ được đề cập sau).\n",
    "4. **Cụm từ:**\n",
    "- Nếu tên biến hoặc hàm là nhiều từ, thì có hai quy ước phổ biến: phân cách các từ bằng dấu gạch dưới (đôi khi được gọi là `snake_case` (quy tắc con rắn)) hoặc viết hoa các chữ cái đầu (đôi khi được gọi là `camelCase` (quy tắc lạc đà), vì các chữ cái in hoa nhô lên giống như bướu trên lưng lạc đà).\n",
    "- Ví dụ:\n",
    ">`int ten_bien_cua_toi;  // Theo quy ước (phân cách bằng dấu gạch dưới/snake_case)`\\\n",
    ">`int ten_ham_cua_toi(); // Theo quy ước (phân cách bằng dấu gạch dưới/snake_case)`\n",
    ">\n",
    ">`int TenBienCuaToi;     // Theo quy ước (viết hoa các chữ cái đầu/camelCase)`\\\n",
    ">`int TenHamCuaToi();   // Theo quy ước (viết hoa các chữ cái đầu/camelCase)`\n",
    ">\n",
    ">`int ten bien cua toi;  // Không hợp lệ (khoảng trắng không được phép)`\\\n",
    ">`int ten ham cua toi(); // Không hợp lệ (khoảng trắng không được phép)`\n",
    ">\n",
    ">`int TenBienCuaToi;     // Không theo quy ước (nên bắt đầu bằng chữ thường)`\\\n",
    ">`int TenHamCuaToi();   // Không theo quy ước (nên bắt đầu bằng chữ thường)`\n",
    "\n",
    "Trong hướng dẫn này, chúng tôi thường sử dụng cách viết hoa các chữ cái đầu vì nó dễ đọc hơn (dễ dàng nhầm lẫn dấu gạch dưới với khoảng trắng trong các khối mã dày đặc). Nhưng thông thường, cả hai cách đều được sử dụng - thư viện chuẩn C++ sử dụng phương pháp dấu gạch dưới cho cả biến và hàm. Đôi khi bạn sẽ thấy sự kết hợp của cả hai: quy tắc con rắn được sử dụng cho biến và quy tắc lạc đà được sử dụng cho hàm.\n",
    "\n",
    "Điều đáng lưu ý là nếu bạn đang làm việc với mã của người khác, thì nhìn chung nên tuân theo phong cách của mã bạn đang làm việc hơn là tuân theo quy ước đặt tên một cách cứng nhắc như đã nêu ở trên.\n",
    "\n",
    ">**Thực tiễn:**\n",
    "> - Khi làm việc trong một chương trình hiện có, hãy sử dụng các quy ước của chương trình đó (ngay cả khi chúng không tuân theo các quy tắc hiện đại).\n",
    "> - Sử dụng các quy tắc được khuyên dùng ở trên khi bạn đang viết chương trình mới.\n"
   ]
  },
  {
   "cell_type": "markdown",
   "id": "c974be72-c85c-4405-bbe6-903329807cac",
   "metadata": {},
   "source": [
    "#### <u>*Quy tắc nên tránh:*</u>"
   ]
  },
  {
   "cell_type": "markdown",
   "id": "6657615f-a6df-4b73-b4da-0e7a254d8803",
   "metadata": {},
   "source": [
    "5. **Tránh dấu gạch dưới ở đầu:**\n",
    "- Bạn nên tránh đặt tên định danh bắt đầu bằng dấu gạch dưới, vì những tên này thường được dành riêng cho hệ điều hành, thư viện hoặc trình biên dịch sử dụng.\n",
    "6. **Tên không rõ nghĩa:**\n",
    "- Thứ ba, tên định danh của bạn nên thể hiện rõ ràng ý nghĩa của giá trị mà chúng lưu trữ (đặc biệt nếu đơn vị giá trị biến không rõ ràng). Tên định danh nên được đặt tên theo cách giúp người không biết gì về mã của bạn có thể hiểu được nó nhanh nhất có thể. Ba tháng sau, khi bạn xem lại chương trình của mình, bạn sẽ quên cách hoạt động của nó và sẽ tự cảm ơn bản thân vì đã chọn những tên biến có ý nghĩa.\n",
    "- Tuy nhiên, đặt tên quá phức tạp cho một biến đơn giản sẽ cản trở việc hiểu tổng thể về những gì chương trình đang làm, gần giống như việc đặt tên không chính xác cho một định danh được sử dụng rộng rãi. Do đó, một nguyên tắc hay là làm cho độ dài của tên định danh tương ứng với mức độ phổ biến của nó. Một định danh có công dụng đơn giản có thể có tên ngắn (ví dụ: `i`). Một định danh được sử dụng rộng rãi hơn (ví dụ: hàm được gọi từ nhiều vị trí khác nhau trong chương trình) nên có tên dài hơn và mô tả nhiều hơn (ví dụ: thay vì `open`, hãy thử `openFileOnDisk`).\n",
    "\n"
   ]
  },
  {
   "cell_type": "markdown",
   "id": "82c9d412-60d2-4806-b89e-6450c74e3cb4",
   "metadata": {},
   "source": [
    ">`int dem_k; //không tốt, k nghĩa là gì sau dem`\\\n",
    ">`int soLuongKhachHang; //Tốt, thể hiện số lượng gì đang được đếm`\\\n",
    ">`int i; //Tùy trường hợp có thể tốt hoặc tệ`\\\n",
    ">`int chiSo; //Tùy trường hợp, nếu ta biết đang làm gì`\\\n",
    ">`int tongDiem; //Tùy trường hợp, tốt nếu chỉ có 1 tổng được tính, nếu không thì khá mơ hồ`\\\n",
    ">`int _dem; //Không tốt, tên biến không nên bắt đầu bằng dấu gạch dưới`\\\n",
    ">`int dem; //Tùy trường hợp, nếu chúng ta biết đang đếm cái gì`\\\n",
    ">`int data;\t//Không tốt, loại dữ liệu gì?`\\\n",
    ">`int time;\t//Không tốt, biến đếm thời gian theo đơn vị gì? Giờ, hay phút, giây?`\\\n",
    ">`int soPhutDaChay; //Tốt, mô tả rõ ràng`\\\n",
    ">`int giaTri1, giaTri2; //Tùy trường hợp, khó phân biệt giữa 2 biến`\\\n",
    ">`int soTao; //Tốt, mô tả rõ ràng`\\\n",
    ">`int soQuaiGietDuoc; //Tốt`\\\n",
    ">`int x, y; //Tùy trường hợp, có thể tốt hoặc không`"
   ]
  },
  {
   "cell_type": "markdown",
   "id": "d65d0960-c1f4-4883-9673-602ab26cafe0",
   "metadata": {},
   "source": [
    "7. **Tránh viết tắt:**\n",
    "- Trong mọi trường hợp, hãy tránh sử dụng các viết tắt (trừ khi chúng phổ biến/không gây nhầm lẫn). Mặc dù chúng giúp giảm thời gian bạn cần để viết code, nhưng chúng lại khiến code của bạn khó đọc hơn. Code được đọc nhiều hơn so với việc viết, thời gian bạn tiết kiệm khi viết code sẽ là thời gian mà mọi người đọc nó, bao gồm cả bạn trong tương lai, lãng phí khi đọc. Nếu bạn muốn viết code nhanh hơn, hãy sử dụng tính năng tự động hoàn thành (auto completion) của trình soạn thảo.\n",
    "8. **Lười comment:**\n",
    "- Đối với việc khai báo biến, việc sử dụng comment để mô tả biến sẽ được sử dụng để làm gì hoặc giải thích bất kỳ điều gì khác có thể không rõ ràng là rất hữu ích. Ví dụ: giả sử chúng tôi đã khai báo một biến có tên `soKyTu` được cho là lưu trữ số ký tự trong một đoạn văn bản. Đoạn văn bản **\"Hello World!\"** có 10, 11 hay 12 ký tự? Nó phụ thuộc vào việc chúng ta có bao gồm khoảng trắng hoặc dấu câu hay không. Thay vì đặt tên biến là `soKyTuBaoGomKhoangTrangVaDauCau`, thì một comment được đặt đúng chỗ trên hoặc bên trên dòng khai báo sẽ giúp người dùng hiểu được:\n",
    ">`// Số lượng ký tự trong một đoạn văn bản, bao gồm cả khoảng trắng và dấu câu`\\\n",
    ">`int soKyTu;`"
   ]
  }
 ],
 "metadata": {
  "kernelspec": {
   "display_name": "Python 3 (ipykernel)",
   "language": "python",
   "name": "python3"
  },
  "language_info": {
   "codemirror_mode": {
    "name": "ipython",
    "version": 3
   },
   "file_extension": ".py",
   "mimetype": "text/x-python",
   "name": "python",
   "nbconvert_exporter": "python",
   "pygments_lexer": "ipython3",
   "version": "3.12.2"
  }
 },
 "nbformat": 4,
 "nbformat_minor": 5
}
