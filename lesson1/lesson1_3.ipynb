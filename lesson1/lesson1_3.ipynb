{
 "cells": [
  {
   "cell_type": "markdown",
   "id": "86141476-4c5d-4b87-84f2-25d153acbc75",
   "metadata": {},
   "source": [
    "## **Bài 1.3: <u>Đối tượng và biến trong C++</u>**"
   ]
  },
  {
   "cell_type": "markdown",
   "id": "9282adb5-8f17-4d1c-9de4-1cc5142766d6",
   "metadata": {},
   "source": [
    "### **Dữ liệu và biến**\n",
    "- Ta đã biết rằng phần lớn các chỉ dẫn trong một chương trình là các câu lệnh và hàm là nhóm các câu lệnh thực thi tuần tự. Các câu lệnh bên trong hàm thực hiện các hành động (hy vọng) tạo ra bất kỳ kết quả nào mà chương trình được thiết kế để tạo ra.\n",
    "- Nhưng làm thế nào để các chương trình thực sự tạo ra kết quả? Họ làm như vậy bằng cách thao tác (đọc, thay đổi và ghi) dữ liệu. Trong điện toán, dữ liệu là bất kỳ thông tin nào có thể được di chuyển, xử lý hoặc lưu trữ bởi máy tính.\n",
    "> **Chú ý quan trọng:**\\\n",
    "> Chương trình là tập các chỉ dẫn thao tác với dữ liệu để tạo ra kết quả mong muốn.\n"
   ]
  },
  {
   "cell_type": "markdown",
   "id": "ef3c0890-78e8-40f0-bda0-cddb7a36b989",
   "metadata": {},
   "source": [
    "- Chương trình có thể lấy dữ liệu để xử lý theo nhiều cách khác nhau: từ file hoặc cơ sở dữ liệu, qua mạng, từ người dùng nhập liệu trên bàn phím, hoặc từ chính lập trình viên đưa dữ liệu trực tiếp vào mã nguồn của chương trình. Trong chương trình \"Hello World\" từ bài học đã đề cập, văn bản \"Hello World!\" được chèn trực tiếp vào mã nguồn của chương trình, cung cấp dữ liệu cho chương trình sử dụng. Sau đó, chương trình thao tác với dữ liệu này bằng cách gửi nó đến màn hình để hiển thị.\n",
    "- Dữ liệu trên máy tính thường được lưu trữ ở định dạng hiệu quả cho việc lưu trữ hoặc xử lý (và do đó không thể đọc được bằng con người). Vì vậy, khi chương trình \"Hello World\" được biên dịch, văn bản \"Hello World!\" được chuyển đổi thành định dạng hiệu quả hơn để chương trình sử dụng (dạng nhị phân, chúng ta sẽ thảo luận trong bài học sau).\n"
   ]
  },
  {
   "cell_type": "markdown",
   "id": "4aae6b86-039f-45c4-9641-6eae882ab485",
   "metadata": {},
   "source": [
    "### **Bộ nhớ truy cập ngẫu nhiên (RAM)**"
   ]
  },
  {
   "cell_type": "markdown",
   "id": "49a92725-912d-4cd7-b075-37ff4af5b03c",
   "metadata": {},
   "source": [
    "- Bộ nhớ chính trong máy tính được gọi là Bộ nhớ truy cập ngẫu nhiên (thường được gọi tắt là RAM). Khi chúng ta chạy một chương trình, hệ điều hành sẽ nạp chương trình đó vào RAM. Bất kỳ dữ liệu nào được mã hóa cứng vào chính chương trình (ví dụ: văn bản như \"Hello, world!\") đều được nạp vào thời điểm này.\n",
    "- Hệ điều hành cũng dành một phần RAM bổ sung để chương trình sử dụng trong khi chạy. Các cách sử dụng thông thường cho bộ nhớ này là lưu trữ các giá trị do người dùng nhập vào, lưu trữ dữ liệu đọc từ tệp hoặc mạng, hoặc lưu trữ các giá trị được tính toán trong khi chương trình chạy (ví dụ: tổng của hai giá trị) để có thể sử dụng lại sau.\n",
    "- Bạn có thể hình dung RAM như một dãy các ô được đánh số có thể được sử dụng để lưu trữ dữ liệu trong khi chương trình đang chạy. Ở một số ngôn ngữ lập trình cũ hơn (như Applesoft BASIC), bạn có thể truy cập trực tiếp vào các ô này (ví dụ: bạn có thể viết một lệnh để \"lấy giá trị được lưu trữ trong hộp thư số 7532\")."
   ]
  },
  {
   "cell_type": "markdown",
   "id": "df992354-666b-4137-9edf-02a58d84c3ad",
   "metadata": {},
   "source": [
    "### **Đối tượng và biến:**\n"
   ]
  },
  {
   "cell_type": "markdown",
   "id": "edab66e1-6e92-4aaf-91e8-7a4af7503e20",
   "metadata": {},
   "source": [
    "- Trong C++, việc truy cập trực tiếp vào bộ nhớ được hạn chế. Thay vào đó, chúng ta truy cập bộ nhớ gián tiếp thông qua một đối tượng. **Đối tượng** là một vùng lưu trữ (thường là bộ nhớ) có thể chứa một giá trị và có các thuộc tính liên quan khác (chúng ta sẽ đề cập đến chúng trong các bài học sau). Cách thức trình biên dịch và hệ điều hành phân bổ bộ nhớ cho các đối tượng vượt ra ngoài phạm vi của bài học này. Nhưng điểm mấu chốt ở đây là thay vì nói \"lấy giá trị được lưu trữ trong hộp thư số 7532\", chúng ta có thể nói \"lấy giá trị được lưu trữ bởi đối tượng này\". Điều này có nghĩa là chúng ta có thể tập trung vào việc sử dụng các đối tượng để lưu trữ và truy xuất các giá trị, và không cần phải lo lắng về việc các đối tượng đó thực sự được đặt ở đâu trong bộ nhớ.\n",
    "\n",
    "- Mặc dù các đối tượng trong C++ có thể không được đặt tên (vô danh), nhưng thông thường chúng ta đặt tên cho các đối tượng của mình bằng một **định danh**. Một đối tượng có tên được gọi là **biến**.\n",
    "\n",
    "> **Điểm cần chú ý**:\n",
    "> - Đối tượng: Là nơi lưu trữ giá trị trong bộ nhớ. Tưởng tượng như một chiếc hộp để cất giữ dữ liệu.\n",
    "> - Biến: Là một đối tượng có tên (định danh). Bằng cách đặt tên cho đối tượng, bạn tạo ra cách để dễ dàng tham chiếu và truy cập giá trị mà nó lưu trữ trong suốt chương trình. Giống như dán nhãn cho các hộp để bạn có thể nhanh chóng tìm thấy dữ liệu cụ thể mà bạn cần sau này.\n",
    "\n",
    "> **Thuật ngữ:**\\\n",
    "> Trong lập trình nói chung, thuật ngữ \"đối tượng\" thường đề cập đến một đối tượng không được đặt tên trong bộ nhớ, một biến hoặc một hàm. Trong C++, thuật ngữ \"đối tượng\" có định nghĩa hẹp hơn, không bao gồm hàm.\n"
   ]
  },
  {
   "cell_type": "markdown",
   "id": "052cd12b-d5ba-42f8-be29-8311d883aad7",
   "metadata": {},
   "source": [
    "### **Khai báo biến**"
   ]
  },
  {
   "cell_type": "markdown",
   "id": "403023a7-a28b-4736-aa4a-7037a64ebb1e",
   "metadata": {},
   "source": [
    "- Để tạo một biến, chúng ta sử dụng câu lệnh khai báo:\\\n",
    "  `<kiểu dữ liệu> <tên biến>;`\n",
    "\n",
    "> **VD:**\\\n",
    "> `int x; // define a variable named x, of type int`\n",
    "\n",
    "- Trong giai đoạn biên dịch, khi trình biên dịch nhìn thấy dòng lệnh này, nó sẽ ghi nhận rằng chúng ta đang định nghĩa một biến, đặt tên cho nó là `x` và kiểu của nó là `int` (chúng ta sẽ tìm hiểu thêm về kiểu dữ liệu sau). Từ thời điểm đó trở đi (với một số hạn chế sẽ đề cập trong bài học sau), bất cứ khi nào trình biên dịch nhìn thấy định danh `x`, nó sẽ biết rằng chúng ta đang tham chiếu đến biến này.\n",
    "- Khi chương trình chạy (gọi là runtime), biến sẽ được khởi tạo (instantiate). Khởi tạo là một từ ngữ chuyên môn có nghĩa là đối tượng sẽ được tạo và được gán một địa chỉ bộ nhớ. Biến phải được khởi tạo trước khi chúng có thể được sử dụng để lưu trữ giá trị. Ví dụ, giả sử biến `x` được khởi tạo tại vị trí bộ nhớ `140`. Bất cứ khi nào chương trình sử dụng biến `x`, nó sẽ truy cập vào giá trị tại vị trí bộ nhớ `140`. Một đối tượng được khởi tạo đôi khi được gọi là một thực thể (instance)."
   ]
  },
  {
   "cell_type": "markdown",
   "id": "b01b0365-3bf2-4018-b4e0-56b50bcdcbdb",
   "metadata": {},
   "source": [
    "### **Kiểu dữ liệu**"
   ]
  },
  {
   "cell_type": "markdown",
   "id": "7b2a919b-b1c4-4d5d-a195-4de1a3acd761",
   "metadata": {},
   "source": [
    "- Bây giờ đây, chúng ta đã biết biến là một vùng lưu trữ được đặt tên, có thể chứa một giá trị dữ liệu (chính xác cách dữ liệu được lưu trữ sẽ là chủ đề của một bài học khác). Một kiểu dữ liệu (thường được gọi đơn giản là kiểu) cho trình biên dịch biết loại giá trị nào (ví dụ: số, chữ cái, văn bản, v.v.) mà biến sẽ lưu trữ.\n",
    "- Trong ví dụ trên, biến `x` được gán kiểu `int`, nghĩa là biến `x` sẽ biểu diễn một giá trị nguyên. **Số nguyên** là một số có thể được viết mà không có phần thập phân, chẳng hạn như 4, 27, 0, -2 hoặc -12. Nói ngắn gọn, chúng ta có thể nói rằng `x` là một **biến nguyên**.\n",
    "- Trong C++, kiểu của một biến phải được biết tại thời gian biên dịch (khi chương trình được biên dịch) và kiểu đó không thể thay đổi mà không cần biên dịch lại chương trình. Điều này có nghĩa là một biến nguyên chỉ có thể chứa các giá trị nguyên. Nếu bạn muốn lưu trữ một loại giá trị khác, bạn sẽ cần sử dụng một kiểu khác.\n",
    "- Số nguyên chỉ là một trong nhiều kiểu mà C++ hỗ trợ sẵn. Để minh họa, đây là một ví dụ khác về việc định nghĩa một biến sử dụng kiểu dữ liệu `double`:\n",
    "\n",
    "> `double width; // Định nghĩa một biến tên width, kiểu double`\n",
    "- C++ cũng cho phép bạn tạo các kiểu dữ liệu tùy chỉnh của riêng bạn. Đây là điều chúng ta sẽ thực hiện rất nhiều trong các bài học sau và là một phần tạo nên sức mạnh của C++.\n",
    "- Đối với các chương đầu, chúng ta sẽ tập trung vào các biến nguyên vì chúng đơn giản về mặt khái niệm, nhưng chúng ta sẽ sớm khám phá nhiều kiểu dữ liệu khác mà C++ cung cấp (bao gồm cả `double`)."
   ]
  },
  {
   "cell_type": "markdown",
   "id": "c85b2e23-0be0-4335-8c00-57fdc624e79b",
   "metadata": {},
   "source": [
    "### **Khai báo nhiều biến:**\n"
   ]
  },
  {
   "cell_type": "markdown",
   "id": "d99be244-2fe1-4fc8-b9cb-35cd8cd41296",
   "metadata": {},
   "source": [
    "- Có thể định nghĩa nhiều biến cùng loại trong một câu lệnh bằng cách phân tách các tên bằng dấu phẩy. Hai đoạn mã sau đây thực sự giống nhau:\n",
    "\n",
    ">```\n",
    ">int a;\n",
    ">int b;\n",
    ">```\n",
    "\n",
    "> `int a, b;`\n",
    "- Khi khai báo nhiều biến theo cách này, có hai lỗi phổ biến mà các lập trình viên mới thường mắc phải (không nghiêm trọng vì trình biên dịch sẽ phát hiện những lỗi này và yêu cầu bạn sửa chúng):\n",
    "    - Lỗi thứ nhất: Gán kiểu cho từng biến khi khai báo nhiều biến theo trình tự.\n",
    "    > `int a, int b; // Sai (trình biên dịch báo lỗi)`\n",
    "    - Cách sửa\n",
    "    > `int a, b; //Đúng`\n",
    "    - Lỗi thứ hai: Cố gắng khai báo các biến có kiểu khác nhau trong cùng một câu lệnh, điều này không được phép. Các biến có kiểu khác nhau phải được khai báo trong các câu lệnh riêng biệt.\n",
    "    > `int a, double b; // Sai (trình biên dịch báo lỗi)`\n",
    "    - Cách sửa 1:\n",
    "    >```\n",
    "    >int a; double b; // Đúng (nhưng không khuyến khích)\n",
    "    >```\n",
    "    - Cách sửa 2:\n",
    "    >```\n",
    "    >int a;\n",
    "    >double b; // Đúng và được khuyến khích (dễ đọc hơn)\n",
    "    >```\n",
    "- Giải thích:\n",
    "    - Lỗi thứ nhất xảy ra do bạn cố gắng gán kiểu cho mỗi biến trong một dòng. Trong C++, cách khai báo đúng là liệt kê tên biến, sau đó là kiểu dữ liệu chung cho tất cả các biến.\n",
    "    - Lỗi thứ hai xảy ra do bạn cố gắng khai báo các biến có kiểu khác nhau trong cùng một câu lệnh. Mỗi biến phải được khai báo riêng với kiểu dữ liệu tương ứng.\n"
   ]
  },
  {
   "cell_type": "markdown",
   "id": "39afa266-0787-47bc-a101-1007b9c1da9f",
   "metadata": {},
   "source": [
    "### **Tóm tắt:**\n",
    ">Trong C++, chúng ta sử dụng các **đối tượng** để truy cập vào bộ nhớ. Một đối tượng được đặt tên gọi là **biến**. Biến có một **định danh**, một **kiểu dữ liệu** và một **giá trị** (cùng một số thuộc tính khác không liên quan ở đây). **Kiểu dữ liệu** của biến được sử dụng để xác định cách giải nghĩa giá trị trong bộ nhớ.\n",
    "\n"
   ]
  }
 ],
 "metadata": {
  "kernelspec": {
   "display_name": "Python 3 (ipykernel)",
   "language": "python",
   "name": "python3"
  },
  "language_info": {
   "codemirror_mode": {
    "name": "ipython",
    "version": 3
   },
   "file_extension": ".py",
   "mimetype": "text/x-python",
   "name": "python",
   "nbconvert_exporter": "python",
   "pygments_lexer": "ipython3",
   "version": "3.12.2"
  }
 },
 "nbformat": 4,
 "nbformat_minor": 5
}
