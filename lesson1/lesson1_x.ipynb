{
 "cells": [
  {
   "cell_type": "markdown",
   "id": "9f6861af-a1dc-40ff-83cf-f4bbda6254bf",
   "metadata": {},
   "source": [
    "## **Bài 1.x: <u>Tổng kết và bài kiểm tra</u>**"
   ]
  },
  {
   "cell_type": "markdown",
   "id": "bcbbbe53-fb27-4b7b-a985-fa3829fe6144",
   "metadata": {},
   "source": [
    "### **Tóm tắt:**"
   ]
  },
  {
   "cell_type": "markdown",
   "id": "42408895-4f9b-4b46-b6dd-31fda82eeeab",
   "metadata": {},
   "source": [
    "\n",
    "**Câu lệnh (statement):** Là một dạng hướng dẫn chương trình thực hiện một hành động nào đó. Thường kết thúc bằng dấu chấm phẩy (`;`).\n",
    "\n",
    "**Hàm (function):** Là một tập hợp các câu lệnh được thực thi tuần tự. Mỗi chương trình C++ phải bao gồm một hàm đặc biệt tên là `main`. Khi bạn chạy chương trình, việc thực thi bắt đầu từ đầu hàm `main`.\n",
    "\n",
    "**Định danh (identifier):** Trong lập trình, tên của hàm (hoặc đối tượng, kiểu dữ liệu, mẫu template, v.v.) được gọi là định danh của nó.\n",
    "\n",
    "**Cú pháp (syntax):** Là các quy tắc chi phối cách xây dựng các thành phần của ngôn ngữ C++. **Lỗi cú pháp (syntax error)** xảy ra khi bạn vi phạm các quy tắc ngữ pháp của ngôn ngữ.\n",
    "\n",
    "**Chú thích (comment):** Cho phép lập trình viên để lại ghi chú trong code. C++ hỗ trợ hai loại chú thích:\n",
    "Chú thích dòng bắt đầu bằng `//` và kéo dài đến hết dòng.\n",
    "Chú thích khối bắt đầu bằng `/*` và kết thúc bằng `*/`. Không nên lồng các chú thích khối.\n",
    "Bạn có thể sử dụng chú thích để tạm thời vô hiệu hóa các dòng hoặc phần code. Đây được gọi là đóng chú thích đoạn code `(commenting out your code)`.\n",
    "\n",
    "**Dữ liệu (data):** Là bất kỳ thông tin nào có thể được di chuyển, xử lý hoặc lưu trữ bởi máy tính. Một đơn vị dữ liệu riêng lẻ được gọi là giá trị (value). Các ví dụ phổ biến về giá trị bao gồm chữ cái (ví dụ: `a`), số (ví dụ: `5`) và văn bản (ví dụ: `Xin chào`).\n",
    "\n",
    "**Biến (variable):** Là một vùng nhớ được đặt tên mà chúng ta có thể sử dụng để lưu trữ giá trị. Để tạo biến, chúng ta sử dụng một câu lệnh gọi là **câu lệnh khai báo (definition statement).** Khi chương trình chạy, mỗi biến được khai báo sẽ được khởi tạo (instantiated), nghĩa là nó được gán một địa chỉ nhớ.\n",
    "\n",
    "**Kiểu dữ liệu (data type):** Cho biết với trình biên dịch (compiler) cách diễn giải một phần dữ liệu thành giá trị có ý nghĩa. **Một số nguyên (integer)** là một số có thể được viết mà không có phần thập phân, chẳng hạn như `4`, `27`, `0`, `-2` hoặc `-12`.\n",
    "\n",
    "**Gán sao chép (copy assignment)** (thông qua toán tử `=`) có thể được sử dụng để gán giá trị cho một biến đã được tạo.\n",
    "\n",
    "**Khởi tạo (initialization):** Quá trình chỉ định giá trị ban đầu cho một đối tượng được gọi là khởi tạo, và cú pháp được sử dụng để khởi tạo một đối tượng được gọi là bộ khởi tạo (initializer).\n",
    "\n",
    "Nói một cách đơn giản, C++ hỗ trợ 6 loại khởi tạo cơ bản:"
   ]
  },
  {
   "cell_type": "markdown",
   "id": "d6f1534e-acc1-4cf4-bf95-1465d3b236b2",
   "metadata": {},
   "source": [
    "| **Loại khởi tạo**            | **Ví dụ**        | **Ghi chú**                                                      |\n",
    "|------------------------------|------------------|------------------------------------------------------------------|\n",
    "| Khởi tạo mặc định            | `int x;`         | Trong hầu hết các trường hợp, để biến với giá trị không xác định |\n",
    "| Khởi tạo sao chép            | `int x = 5;`     |                                                                  |\n",
    "| Khởi tạo trực tiếp           | `int x ( 5 );`   | Đôi khi được gọi là khởi tạo bằng dấu ngoặc đơn                  |\n",
    "| Khởi tạo danh sách trực tiếp | `int x { 5 };`   | Không được phép ép kiểu hẹp (narrow conversion)                  |\n",
    "| Khởi tạo danh sách sao chép  | `int x = { 5 };` | Không được phép ép kiểu hẹp                                      |\n",
    "| Khởi tạo giá trị             | `int x {};`      | Thường thực hiện khởi tạo bằng 0                                 |"
   ]
  },
  {
   "cell_type": "markdown",
   "id": "80b40663-3f71-439e-affb-7725b2586e3a",
   "metadata": {},
   "source": [
    "Khởi tạo trực tiếp đôi khi được gọi là khởi tạo bằng dấu ngoặc đơn, và khởi tạo danh sách (bao gồm khởi tạo giá trị) đôi khi được gọi là khởi tạo đồng nhất (uniform initialization) hoặc khởi tạo bằng dấu ngoặc nhọn (brace initialization).\n",
    "Bạn nên ưu tiên khởi tạo bằng dấu ngoặc nhọn so với các dạng khởi tạo khác và ưu tiên khởi tạo so với gán."
   ]
  },
  {
   "cell_type": "markdown",
   "id": "73e742a2-81f1-4159-81ae-f3e6629ea4fc",
   "metadata": {},
   "source": [
    "Mặc dù bạn có thể định nghĩa nhiều biến trong một câu lệnh duy nhất, nhưng tốt hơn là nên định nghĩa và khởi tạo từng biến trên một dòng riêng, trong một câu lệnh riêng biệt.\n",
    "\n",
    "`std::cout` và toán tử `<<` cho phép chúng ta xuất kết quả của một biểu thức ra bảng điều khiển (console).\n",
    "\n",
    "`std::endl` xuất ra một ký tự xuống dòng, buộc con trỏ nhấp nháy của bảng điều khiển di chuyển đến dòng tiếp theo và xả bất kỳ đầu ra nào đang chờ xử lý ra bảng điều khiển. Ký tự `'\\n'` cũng xuất ra một ký tự xuống dòng, nhưng cho phép hệ thống quyết định thời điểm xả đầu ra. Hãy cẩn thận không sử dụng `'/n'` (gạch chéo hướng về trước).\n",
    "\n",
    "`std::cin` và toán tử `>>` cho phép chúng ta lấy giá trị từ bàn phím.\n",
    "\n",
    "Một biến chưa được gán giá trị được gọi là biến chưa được khởi tạo. Việc cố gắng lấy giá trị của một biến chưa được khởi tạo sẽ dẫn đến **trạng thái bất định (undefined behavior)**, có thể biểu hiện theo nhiều cách khác nhau.\n",
    "\n",
    "C++ dành riêng một bộ tên gọi là **từ khóa (keyword)**. Chúng có ý nghĩa đặc biệt trong ngôn ngữ và không được sử dụng làm tên biến.\n",
    "\n",
    "Một giá trị nguyên văn (literal constant) là một giá trị cố định được đưa trực tiếp vào mã nguồn. Ví dụ như `5` và `\"Hello world!\"`.\n",
    "\n",
    "**Một phép toán (operation)** là một quá trình liên quan đến không hoặc nhiều giá trị đầu vào, được gọi là **toán hạng (operand)**. Phép toán cụ thể cần thực hiện được biểu thị bằng **toán tử (operator)** được cung cấp. Kết quả của một phép toán tạo ra một **giá trị đầu ra**.\n",
    "\n",
    "**Toán tử một ngôi (Unary operator)** lấy một toán hạng.\n",
    "**Toán tử hai ngôi (Binary operator)** lấy hai toán hạng, thường được gọi là trái và phải.\n",
    "**Toán tử ba ngôi (Ternary operator)** lấy ba toán hạng.\n",
    "**Toán tử không ngôi (Nullary operator)** lấy không toán hạng.\n",
    "\n",
    "**Một biểu thức (expression)** là một chuỗi các literal, biến, toán tử và lời gọi hàm được tính toán để tạo ra một giá trị đầu ra duy nhất. Việc tính toán giá trị đầu ra này được gọi là **đánh giá (evaluation).** Giá trị được tạo ra là **kết quả (result)** của biểu thức.\n",
    "\n",
    "**Một câu lệnh biểu thức (expression statement)** là một biểu thức được chuyển thành một câu lệnh bằng cách đặt dấu chấm phẩy ở cuối biểu thức.\n",
    "\n",
    "Khi viết chương trình, hãy thêm một vài dòng hoặc một hàm, biên dịch, giải quyết bất kỳ lỗi nào và đảm bảo nó hoạt động. Đừng đợi cho đến khi bạn viết toàn bộ chương trình mới biên dịch nó lần đầu tiên!\n",
    "\n",
    "Tập trung vào việc làm cho mã của bạn hoạt động. Sau khi bạn chắc chắn sẽ giữ lại một phần mã nào đó, thì bạn có thể dành thời gian để loại bỏ (hoặc đóng chú thích) mã tạm thời/gỡ lỗi, thêm chú thích, xử lý các trường hợp lỗi, định dạng mã của bạn, đảm bảo tuân theo các quy trình thực hành tốt nhất, loại bỏ logic trùng lặp, v.v.\n",
    "\n",
    "Các chương trình bản nháp đầu tiên thường lộn xộn và không hoàn hảo. Hầu hết các code cần được dọn dẹp và tinh chỉnh để trở nên tuyệt vời!"
   ]
  }
 ],
 "metadata": {
  "kernelspec": {
   "display_name": "Python 3 (ipykernel)",
   "language": "python",
   "name": "python3"
  },
  "language_info": {
   "codemirror_mode": {
    "name": "ipython",
    "version": 3
   },
   "file_extension": ".py",
   "mimetype": "text/x-python",
   "name": "python",
   "nbconvert_exporter": "python",
   "pygments_lexer": "ipython3",
   "version": "3.12.2"
  }
 },
 "nbformat": 4,
 "nbformat_minor": 5
}
