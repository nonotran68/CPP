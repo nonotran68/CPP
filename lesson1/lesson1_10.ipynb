{
 "cells": [
  {
   "cell_type": "markdown",
   "id": "b12c814c-6313-426e-8870-255a0f266cc9",
   "metadata": {},
   "source": [
    "## **Bài 1.10: <u>Giới thiệu về Biểu thức</u>**"
   ]
  },
  {
   "cell_type": "markdown",
   "id": "78cd3ce0-acc8-4d96-9c03-bae9ed1cffff",
   "metadata": {},
   "source": [
    "### **Biểu thức**"
   ]
  },
  {
   "cell_type": "markdown",
   "id": "e2a15f69-379f-4591-93f4-0ddb030581a1",
   "metadata": {},
   "source": [
    "Xét loạt các câu lệnh sau:\n",
    "\n",
    ">```\n",
    ">// five() là một hàm trả về giá trị 5\n",
    ">int five()\n",
    ">{\n",
    ">    return 5;\n",
    ">}\n",
    ">\n",
    ">int main()\n",
    ">{\n",
    ">    int a{ 2 };             // Khởi tạo biến a với giá trị nguyên văn 2\n",
    ">    int b{ 2 + 3 };         // Khởi tạo biến b với giá trị được tính toán 5\n",
    ">    int c{ (2 * 3) + 4 };   // Khởi tạo biến c với giá trị được tính toán 10\n",
    ">    int d{ b };             // Khởi tạo biến d với giá trị của biến 5\n",
    ">    int e{ five() };        // Khởi tạo biến e với giá trị trả về của hàm 5\n",
    ">\n",
    ">    return 0;\n",
    ">}\n",
    ">```"
   ]
  },
  {
   "cell_type": "markdown",
   "id": "66f1704a-0fb3-432a-8e54-30e220e36736",
   "metadata": {},
   "source": [
    "Mỗi câu lệnh này đều định nghĩa một biến mới và khởi tạo nó với một giá trị. Lưu ý rằng các trình khởi tạo được hiển thị ở trên sử dụng nhiều cấu trúc khác nhau: **literal** (giá trị nguyên văn), **biến**, **toán tử** và **lời gọi hàm**. Bằng cách nào đó, C++ chuyển đổi tất cả những thứ khác nhau này thành một giá trị duy nhất sau đó có thể được sử dụng làm giá trị khởi tạo cho biến.\n",
    "\n",
    "Tất cả các trình khởi tạo này có điểm gì chung? Chúng đều sử dụng một **biểu thức**.\n",
    "\n",
    "**Biểu thức (expression)** là một dãy các literal, biến, toán tử và lời gọi hàm tính toán một giá trị đơn. Quá trình thực thi biểu thức được gọi là **đánh giá (evaluation)**, và giá trị đơn được tạo ra được gọi là **kết quả (result) của biểu thức**.\n",
    "\n"
   ]
  },
  {
   "cell_type": "markdown",
   "id": "030a6c77-4830-4c39-bbb9-b52be349a80a",
   "metadata": {},
   "source": [
    ">**Nội dung liên quan**\n",
    ">\n",
    ">Mặc dù hầu hết các biểu thức được sử dụng để tính toán một giá trị, biểu thức cũng có thể xác định một đối tượng (có thể được đánh giá để lấy giá trị do đối tượng đó giữ) hoặc một hàm (có thể được gọi để lấy giá trị do hàm đó trả về). Chúng tôi sẽ thảo luận thêm về điều này trong **bài 12.2 - Loại giá trị (lvalue và rvalue).**\n",
    ">\n",
    ">Hiện tại, chúng ta sẽ giả sử tất cả các biểu thức đều tính toán các giá trị.\n",
    "\n",
    "Khi một biểu thức được đánh giá, mỗi toán hạng bên trong biểu thức được đánh giá, cho đến khi chỉ còn lại một giá trị duy nhất. Dưới đây là một số ví dụ về các loại biểu thức khác nhau, với chú thích cho biết cách chúng được đánh giá:\n",
    "\n",
    "* `2 // 2 là một literal được đánh giá thành giá trị 2`\n",
    "* `\"Hello world!\" // \"Hello world!\" là một literal được đánh giá thành chuỗi \"Hello world!\"`\n",
    "* `x // x là một biến được đánh giá thành giá trị của x`\n",
    "* `2 + 3 // toán tử + sử dụng toán hạng 2 và 3 để đánh giá thành giá trị 5`\n",
    "* `five() // được đánh giá thành giá trị trả về của hàm five()`\n",
    "\n",
    "Như bạn có thể thấy, các literal được đánh giá thành giá trị riêng của chúng. Biến được đánh giá thành giá trị của biến. Toán tử (chẳng hạn như toán tử `+`) sử dụng toán hạng của chúng để đánh giá thành một giá trị khác. Chúng ta chưa đề cập đến các lời gọi hàm, nhưng trong ngữ cảnh của một biểu thức, các lời gọi hàm được đánh giá thành bất kỳ giá trị nào mà hàm trả về.\n",
    "\n",
    "Biểu thức liên quan đến toán tử có tác dụng phụ phức tạp hơn một chút:\n",
    "\n",
    "- `x = 5 // x = 5 có tác dụng phụ là gán 5 cho x, được đánh giá thành x`\n",
    "- `x = 2 + 3 // có tác dụng phụ là gán 5 cho x, được đánh giá thành x`\n",
    "- `std::cout << x // có tác dụng phụ là in giá trị của x ra console, được đánh giá thành std::cout`"
   ]
  },
  {
   "cell_type": "markdown",
   "id": "b0e6253b-102b-46cf-8bc3-ec627de1cd7e",
   "metadata": {},
   "source": [
    "Lưu ý rằng biểu thức không kết thúc bằng dấu chấm phẩy và không thể được biên dịch riêng lẻ. Ví dụ, nếu bạn cố gắng biên dịch biểu thức `x = 5`, trình biên dịch của bạn sẽ phàn nàn (có thể là về việc thiếu dấu chấm phẩy). Thay vào đó, các biểu thức luôn được đánh giá như một phần của các câu lệnh.\n",
    "\n",
    "Ví dụ, hãy xem xét câu lệnh này:\n",
    "\n",
    ">`int x{ 2 + 3 }; // 2 + 3 là một biểu thức không có dấu chấm phẩy - dấu chấm phẩy nằm ở cuối câu lệnh chứa biểu thức`\n",
    "\n",
    "Nếu bạn phân tích cú pháp của câu lệnh này, nó sẽ trông như thế này\n",
    "\n",
    ">`type identifier { expression };`\n",
    "\n",
    "\n",
    ">**Lưu ý quan trọng**\n",
    ">\n",
    ">Bất cứ nơi nào bạn có thể sử dụng một giá trị đơn lẻ trong C++, bạn cũng có thể sử dụng một biểu thức tạo ra giá trị thay thế, và biểu thức đó sẽ được đánh giá để tạo ra một giá trị đơn.\n",
    "\n"
   ]
  },
  {
   "cell_type": "markdown",
   "id": "b7f85cb3-f0cd-459d-9461-1d629f7a6537",
   "metadata": {},
   "source": [
    "### **Các câu lệnh biểu thức (Expression statements)**"
   ]
  },
  {
   "cell_type": "markdown",
   "id": "0e925e21-c917-49a2-9f24-d2eb618744b8",
   "metadata": {},
   "source": [
    "Một số biểu thức nhất định (chẳng hạn như `x = 5`) hữu ích vì các tác dụng phụ của chúng (trong trường hợp này, là để gán giá trị `5` cho biến `x`). Tuy nhiên, như đã đề cập ở trên, các biểu thức không thể được thực thi riêng lẻ - chúng phải tồn tại như một phần của một câu lệnh. Vậy làm thế nào để chúng ta có thể sử dụng các biểu thức như vậy?\n",
    "\n",
    "May mắn thay, việc chuyển đổi bất kỳ biểu thức nào thành một câu lệnh tương đương là rất dễ dàng. Một **câu lệnh biểu thức (expression statement)** là một câu lệnh bao gồm một biểu thức theo sau dấu chấm phẩy. Khi câu lệnh biểu thức được thực thi, biểu thức sẽ được đánh giá.\n",
    "\n",
    "Do đó, chúng ta có thể lấy bất kỳ biểu thức nào (chẳng hạn như `x = 5`) và biến nó thành một câu lệnh biểu thức (`x = 5;`) có thể được biên dịch.\n",
    "\n",
    "Khi một biểu thức được sử dụng trong một câu lệnh biểu thức, bất kỳ giá trị trả về nào do biểu thức tạo ra sẽ bị loại bỏ (vì nó không được sử dụng).\n",
    "\n"
   ]
  },
  {
   "cell_type": "markdown",
   "id": "2eb545bf-0461-4b81-b657-5493f073ffbc",
   "metadata": {},
   "source": [
    "### **Các câu lệnh biểu thức vô dụng (Useless expression statements)**"
   ]
  },
  {
   "cell_type": "markdown",
   "id": "5890e5bd-4e5c-4f98-8c22-a231497e9db3",
   "metadata": {},
   "source": [
    "Chúng ta cũng có thể tạo các câu lệnh biểu thức có thể biên dịch nhưng không có tác dụng gì. Ví dụ, câu lệnh biểu thức (`2 * 3;`) là một câu lệnh biểu thức có biểu thức được đánh giá thành giá trị kết quả là `6`, sau đó giá trị này bị loại bỏ. Mặc dù hợp lệ về cú pháp, các câu lệnh biểu thức như vậy là vô dụng. Một số trình biên dịch (chẳng hạn như **gcc** và **Clang**) sẽ tạo ra cảnh báo nếu chúng có thể phát hiện ra một câu lệnh biểu thức là vô dụng."
   ]
  },
  {
   "cell_type": "markdown",
   "id": "af1d5252-ac1e-4d88-a91f-00e077fca915",
   "metadata": {},
   "source": [
    "### **Các biểu thức con (Subexpressions), biểu thức đầy đủ (Full expressions) và biểu thức ghép (Compound expressions)**"
   ]
  },
  {
   "cell_type": "markdown",
   "id": "015921b8-c8df-4dd9-bd8f-6fbb09d880e6",
   "metadata": {},
   "source": [
    "Đôi khi chúng ta cần đề cập đến các loại biểu thức cụ thể. Vì mục đích này, chúng ta sẽ định nghĩa một số thuật ngữ liên quan.\n",
    "\n",
    "Xem xét các biểu thức sau:\n",
    "\n",
    "* `2 // 2 là một literal được đánh giá thành giá trị 2`\n",
    "* `2 + 3 // 2 + 3 sử dụng toán tử + để đánh giá thành giá trị 5`\n",
    "* `x = 4 + 5 // 4 + 5 được đánh giá thành giá trị 9, sau đó được gán cho biến x`\n",
    "Nói một cách đơn giản hơn, một **biểu thức con (subexpression)** là một biểu thức được sử dụng như một toán hạng. Ví dụ, các biểu con của `x = 4 + 5` là `x` và `4 + 5`. Các biểu con của `4 + 5` là `4` và `5`.\n",
    "\n",
    "**Biểu thức đầy đủ (full expression)** là một biểu thức không phải là biểu con. Cả ba biểu thức ở trên (`2`, `2 + 3` và `x = 4 + 5`) đều là biểu thức đầy đủ.\n",
    "\n",
    "Trong ngôn ngữ thông thường, một **biểu thức ghép (compound expression)** là một biểu thức chứa hai hoặc nhiều toán tử. `x = 4 + 5` là một **biểu thức ghép** vì nó chứa hai phép toán (toán tử gán `=` và toán tử cộng `+`). `2` và `2 + 3` không phải là biểu thức ghép."
   ]
  }
 ],
 "metadata": {
  "kernelspec": {
   "display_name": "Python 3 (ipykernel)",
   "language": "python",
   "name": "python3"
  },
  "language_info": {
   "codemirror_mode": {
    "name": "ipython",
    "version": 3
   },
   "file_extension": ".py",
   "mimetype": "text/x-python",
   "name": "python",
   "nbconvert_exporter": "python",
   "pygments_lexer": "ipython3",
   "version": "3.12.2"
  }
 },
 "nbformat": 4,
 "nbformat_minor": 5
}
