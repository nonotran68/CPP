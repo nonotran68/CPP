{
 "cells": [
  {
   "cell_type": "markdown",
   "id": "0288dd96-862c-403d-bcc7-4de383c92a74",
   "metadata": {},
   "source": [
    "## **Bài 1.1: <u>Lệnh và cấu trúc của một chương trình C++</u>**"
   ]
  },
  {
   "cell_type": "markdown",
   "id": "02aafbf0-e890-4c07-a67d-163b3b811734",
   "metadata": {},
   "source": [
    "### **Câu lệnh**"
   ]
  },
  {
   "cell_type": "markdown",
   "id": "3ae043ef-1687-4f09-9c8f-e95fd2503d88",
   "metadata": {},
   "source": [
    "- Một chương trình máy tính là 1 chuỗi các chỉ dẫn (instructions) để máy tính thực hiện. Câu lệnh là một loại chỉ dẫn khiến máy tính thực hiện hành động nào đó. Câu lệnh là đơn vị nhỏ nhất trong 1 cấu trúc chương trình C++.\n",
    "- Hầu hết (nhưng không phải tất cả) các câu lệnh C++ đều kết thúc bằng dấu `;`\n",
    "- Vì C++ là 1 ngôn ngữ bậc cao nên 1 câu lệnh có thể dịch thành nhiều lệnh mã máy.\n",
    "> Có nhiều loại câu lệnh trong C++, bao gồm:\n",
    "> - Câu lệnh điều khiển:\n",
    ">   - `if`, `else`, `switch`: Dùng để điều khiển luồng thực thi của chương trình dựa trên điều kiện.\n",
    ">   - `for`, `while`, `do while`: Dùng để lặp lại một khối mã nhiều lần.\n",
    ">   - `break`, `continue`: Dùng để điều khiển việc lặp lại trong các vòng lặp.\n",
    "> - Câu lệnh gán:\n",
    ">   - `=`: Dùng để gán giá trị cho biến.\n",
    "> - Câu lệnh nhập xuất:\n",
    ">   - `cin`, `cout`: Dùng để nhập dữ liệu từ bàn phím và xuất dữ liệu ra màn hình.\n",
    ">   - `cin.get()`, `cout.put()`: Dùng để nhập xuất từng ký tự một.\n",
    "> - Câu lệnh toán học:\n",
    ">   - Các phép toán cộng, trừ, nhân, chia, modulo (`+, -, *, /, %`).\n",
    ">   - Các phép toán toán học nâng cao như `log, exp, sqrt, pow`.\n",
    "> - Câu lệnh logic:\n",
    ">   - `&&`, `||`, `!`: Dùng để thực hiện các phép toán logic AND, OR, NOT.\n",
    "> - Câu lệnh khai báo:\n",
    ">   - `int`, `float`, `char`, `string`: Dùng để khai báo biến với các kiểu dữ liệu khác nhau.\n",
    ">   - `const`, `volatile`: Dùng để khai báo các thuộc tính của biến.\n",
    "> - Câu lệnh khác:\n",
    ">   - `return`: Dùng để trả về giá trị từ hàm.\n",
    ">   - `goto`: Dùng để chuyển đến một nhãn cụ thể trong chương trình.\n",
    ">   -  Vân vân.........."
   ]
  },
  {
   "cell_type": "markdown",
   "id": "dc82b6b3-9574-4814-8afe-fbfd08615747",
   "metadata": {},
   "source": [
    "### **Hàm và hàm main()**"
   ]
  },
  {
   "cell_type": "markdown",
   "id": "76718e99-ce6c-41f5-bcf3-9d9943f46a22",
   "metadata": {},
   "source": [
    "- Trong C++, các câu lệnh thường được nhóm lại thành các đơn vị được gọi là các hàm. **Hàm** là 1 tập hợp các lệnh thực thi tuần tự (từ trên xuống).\n",
    "> ***Quy tắc***:\n",
    "> - Hàm `main()` là điểm bắt đầu của mọi chương trình C++. Hàm này được thực thi đầu tiên khi chương trình khởi chạy.\n",
    "> - Hàm `main()` bắt buộc phải có trong mọi chương trình C++.\n",
    "> - Các chương trình thường kết thúc (chạy xong) sau khi câu lệnh cuối cùng bên trong hàm `main()` được thực thi (mặc dù các chương trình có thể bị hủy sớm trong một số trường hợp hoặc thực hiện một số thao tác dọn dẹp sau đó).\n",
    "- Các hàm thường được viết để thực hiện một công việc cụ thể. Ví dụ: một hàm có tên `max` có thể chứa các câu lệnh tìm ra số nào lớn hơn trong hai số. Hàm có tên là `CalculateGrade` có thể tính điểm của học sinh từ một tập hợp điểm kiểm tra. Một hàm có tên `printEmployee` có thể in thông tin của nhân viên ra bảng điều khiển. Chúng ta sẽ sớm nói nhiều hơn về các hàm vì chúng là công cụ tổ chức được sử dụng phổ biến nhất trong một chương trình.\n",
    "> ***Thuật ngữ***\n",
    "> - Khi thảo luận về hàm, cách viết tắt khá phổ biến là thêm một cặp dấu ngoặc đơn vào cuối tên hàm. Ví dụ: nếu bạn thấy thuật ngữ `main()` hoặc `doSomething()`, thì đây là cách viết tắt tương ứng của các hàm có tên `main` hoặc `doSomething`. Điều này giúp phân biệt hàm với những thứ khác bằng tên (chẳng hạn như biến) mà không cần phải viết từ “hàm” mỗi lần.\n"
   ]
  },
  {
   "cell_type": "markdown",
   "id": "fe306d87-da49-4545-8edd-257008c996ec",
   "metadata": {},
   "source": [
    "### **Phân tích chương trình *\"Hello world\"***"
   ]
  },
  {
   "cell_type": "markdown",
   "id": "2f550d1e-9c22-4349-8a5a-c9eb832c49b0",
   "metadata": {},
   "source": [
    "Bây giờ bạn đã hiểu ngắn gọn về câu lệnh và hàm là gì, hãy quay lại chương trình “Hello world” (xin chào thế giới) và xem xét kỹ hơn chức năng của từng dòng một cách chi tiết hơn.\n",
    "```\n",
    "1 #include <iostream>\n",
    "2 \n",
    "3 int main()\n",
    "4 {\n",
    "5   std::cout << \"Hello world!\";\n",
    "6   return 0;\n",
    "7 }\n",
    "```\n",
    "- Dòng 1 được gọi là chỉ thị tiền xử lí (preprocessor directive). Lệnh tiền xử lý này cho biết rằng chúng ta muốn sử dụng nội dung của thư viện `iostream`, một phần của thư viện chuẩn C++ cho phép chúng ta đọc và ghi văn bản từ/đến bảng điều khiển. Chúng ta cần dòng này để sử dụng `std::cout` trên dòng 5. Việc loại trừ dòng này sẽ dẫn đến lỗi biên dịch trên dòng 5, vì trình biên dịch sẽ không biết `std::cout` là gì.\n",
    "- Dòng 2 trống và bị trình biên dịch bỏ qua. Dòng này chỉ tồn tại để giúp con người dễ đọc chương trình hơn (bằng cách tách chỉ thị tiền xử lý `#include` và các phần tiếp theo của chương trình).\n",
    "- Dòng 3 cho trình biên dịch biết rằng chúng ta sẽ viết (định nghĩa) một hàm có tên (mã định danh) là `main`. Như bạn đã học ở trên, mọi chương trình C++ đều phải có một hàm `main` nếu không sẽ không liên kết được.\n",
    "- Dòng 4 và 7 cho trình biên dịch biết dòng nào là một phần của hàm `main`. Tất cả mọi thứ nằm giữa ngoặc nhọn mở ở dòng 4 và ngoặc nhọn đóng ở dòng 7 được coi là một phần của thân hàm `main`. Đây được gọi là thân hàm.\n",
    "- Dòng 5 là câu lệnh đầu tiên trong hàm `main` và là câu lệnh đầu tiên được thực thi khi chúng tôi chạy chương trình. `std::cout` (viết tắt của “character output”) và toán tử << cho phép chúng tôi hiển thị thông tin trên bảng điều khiển. Trong trường hợp này, chúng tôi đang hiển thị văn bản \"Hello world!\". Câu lệnh này tạo ra đầu ra hiển thị của chương trình.\n",
    "- Dòng 6 là một câu lệnh return. Khi một chương trình thực thi được kết thúc, chương trình sẽ gửi một giá trị trở lại hệ điều hành để cho biết nó có chạy thành công hay không. Câu lệnh return cụ thể này trả về giá trị 0 cho hệ điều hành, có nghĩa là “mọi thứ đều ổn!”. Đây là câu lệnh cuối cùng trong chương trình được thực thi.\n",
    "\n",
    "Tất cả các chương trình chúng tôi viết sẽ tuân theo khuôn mẫu chung này hoặc biến thể của nó.\n",
    "\n",
    "Bạn có thể tự mình biên dịch và chạy chương trình này và bạn sẽ thấy nó xuất ra bảng điều khiển những thông tin sau:\n",
    "> `Hello world!`\n",
    "\n",
    "\n"
   ]
  },
  {
   "cell_type": "markdown",
   "id": "71804147-4f58-4682-a7f0-f21271360090",
   "metadata": {},
   "source": [
    "### **Cú pháp và lỗi cú pháp**"
   ]
  },
  {
   "cell_type": "markdown",
   "id": "6e7d8a01-35bc-4f4b-bb28-497fcc8aa083",
   "metadata": {},
   "source": [
    "- **Cú pháp** là tập hợp các quy tắc chi phối cách viết mã C++ hợp lệ. Nó bao gồm các quy tắc về:\n",
    "  - **Từ khóa**: Các từ khóa được sử dụng để xác định các cấu trúc ngôn ngữ như hàm, vòng lặp và điều kiện.\n",
    "  - **Định danh**: Định danh là tên được sử dụng cho các biến, hàm và các thực thể khác trong chương trình.\n",
    "  - **Toán tử**: Toán tử được sử dụng để thực hiện các phép toán trên các toán hạng.\n",
    "  - **Biểu thức**: Biểu thức là một tập hợp các toán hạng và toán tử được kết hợp để tạo ra một giá trị.\n",
    "  - **Câu lệnh**: Câu lệnh là một chỉ dẫn cho trình biên dịch thực hiện một hành động.\n",
    "  - **Cấu trúc**: Cấu trúc là một cách để nhóm các câu lệnh lại với nhau.\n",
    "- **Lỗi cú pháp** là lỗi xảy ra khi mã C++ vi phạm các quy tắc cú pháp. Lỗi cú pháp sẽ khiến trình biên dịch không thể biên dịch mã.\n",
    "- Một số ví dụ về lỗi cú pháp:\n",
    "    - Sai chính tả từ khóa.\n",
    "    - Thiếu dấu chấm phẩy ở cuối câu lệnh.\n",
    "    - Sai số lượng ngoặc đơn hoặc ngoặc nhọn.\n",
    "    - Sử dụng định danh không hợp lệ.\n",
    "- Cách khắc phục lỗi cú pháp:\n",
    "    - Đọc kỹ thông báo lỗi của trình biên dịch.\n",
    "    - Kiểm tra mã của bạn để tìm các lỗi chính tả và lỗi đánh máy.\n",
    "    - Tham khảo tài liệu về cú pháp C++ để đảm bảo rằng bạn đang sử dụng các quy tắc cú pháp chính xác.\n",
    "- Để tránh lỗi cú pháp:\n",
    "    - Sử dụng trình soạn thảo mã có hỗ trợ tô sáng cú pháp (syntax highlighting).\n",
    "    - Kiểm tra mã của bạn cẩn thận trước khi biên dịch.\n",
    "    - Viết mã theo từng bước nhỏ và kiểm tra từng bước."
   ]
  },
  {
   "cell_type": "markdown",
   "id": "d38bb744-7995-4ad0-a42d-bafe735139de",
   "metadata": {},
   "source": [
    "Hãy xem điều gì sẽ xảy ra nếu chúng ta bỏ qua dấu chấm phẩy ở dòng 5 của chương trình “Hello world”, như sau:\n",
    "```\n",
    "#include <iostream>\n",
    "\n",
    "int main()\n",
    "{\n",
    "   std::cout << \"Hello world!\"\n",
    "   return 0;\n",
    "}\n",
    "```\n",
    "Trình biên dịch sẽ báo lỗi cho chúng ta biết: \n",
    "```\n",
    "ls1.cpp: In function ‘int main()’:\n",
    "ls1.cpp:3:32: error: expected ‘;’ before ‘return’\n",
    "    3 |     std::cout << \"Hello world!\"\n",
    "      |                                ^\n",
    "      |                                ;\n",
    "    4 |     return 0;\n",
    "      |     ~~~~~~                      \n",
    "```"
   ]
  },
  {
   "cell_type": "markdown",
   "id": "a5a201eb-2ca3-4add-9745-adb76e13372a",
   "metadata": {
    "jp-MarkdownHeadingCollapsed": true
   },
   "source": [
    "## **Bài 1.2: <u>Chú thích</u>**"
   ]
  },
  {
   "cell_type": "markdown",
   "id": "dd8f4c66-0f62-4a4a-8383-8ec0754b235c",
   "metadata": {},
   "source": [
    "- Chú thích là những dòng văn bản được thêm vào mã C++ để giúp con người hiểu rõ hơn về mã. Chúng bị trình biên dịch bỏ qua và không ảnh hưởng đến cách chương trình chạy.\n",
    "- Trong C++ có hai kiểu chú thích khác nhau, cả hai đều phục vụ cùng một mục đích: giúp các lập trình viên ghi lại mã theo một cách nào đó.\n",
    "    - **Chú thích một dòng**: Bắt đầu bằng `//` và kết thúc ở cuối dòng.\n",
    "    > <u>Ví dụ:</u>\n",
    "    > \n",
    "    > `std::cout << \"Hello world!\"; // Everything from here to the end of the line is ignored`\n",
    "    - **Chú thích nhiều dòng**: Bắt đầu bằng `/*` và kết thúc bằng `*/`.\n",
    "    > <u>Ví dụ:</u>\n",
    "    > \n",
    "    > `/* Đây là chú thích nhiều dòng`\\\n",
    "    > `Có thể bao gồm nhiều dòng */`\n",
    "- Chú thích có thể được sử dụng để:\n",
    "    - Giải thích mục đích của một đoạn mã.\n",
    "    - Ghi chú về cách thức hoạt động của một đoạn mã.\n",
    "    - Ghi chú về các thay đổi đã được thực hiện đối với mã.\n",
    "    - Ghi chú về các vấn đề tiềm ẩn với mã.\n",
    "- Dưới đây là một số mẹo để sử dụng chú thích hiệu quả:\n",
    "    - Viết chú thích rõ ràng và súc tích.\n",
    "    - Sử dụng chú thích để giải thích những phần mã phức tạp.\n",
    "    - Sử dụng chú thích để ghi chú về các thay đổi quan trọng đối với mã.\n",
    "    - Sử dụng chú thích để ghi chú về các vấn đề tiềm ẩn với mã.\n",
    "    - Tránh sử dụng chú thích để lặp lại thông tin hiển nhiên trong mã."
   ]
  },
  {
   "cell_type": "markdown",
   "id": "62aa2593-82f9-4fc0-92dc-fdaa86005ce9",
   "metadata": {},
   "source": [
    "- Ví dụ về chú thích tốt:\n",
    "  - Giải thích mục đích của đoạn mã:\n",
    "  ```\n",
    "    // Hàm này tính diện tích của một hình vuông\n",
    "    int square_area(int side_length) {\n",
    "      return side_length * side_length;\n",
    "    }\n",
    "  ```\n",
    "  - Ghi chú về cách thức hoạt động của một đoạn mã:\n",
    "  ```\n",
    "    // Vòng lặp này in ra các số từ 1 đến 10\n",
    "    for (int i = 1; i <= 10; i++) {\n",
    "      std::cout << i << std::endl;\n",
    "    }\n",
    "\n",
    "  ```\n",
    "  - Ghi chú về các thay đổi đã được thực hiện đối với mã:\n",
    "  ```\n",
    "    // Đã sửa lỗi trong hàm `square_area`\n",
    "    // Hàm hiện hoạt động chính xác cho tất cả các giá trị đầu vào\n",
    "  ```\n",
    "  - Ghi chú về các vấn đề tiềm ẩn với mã:\n",
    "  ```\n",
    "    // Lưu ý: Hàm này có thể gây tràn bộ nhớ nếu `n` quá lớn\n",
    "    int factorial(int n) {\n",
    "      if (n == 0) {\n",
    "        return 1;\n",
    "      } else {\n",
    "        return n * factorial(n - 1);\n",
    "      }\n",
    "    }\n",
    "\n",
    "  ```\n",
    "- Chú thích tệ:\n",
    "    - Lặp lại thông tin hiển nhiên trong mã:\n",
    "    ```\n",
    "        // int i = 1; // Biến i được khởi tạo với giá trị 1\n",
    "\n",
    "    ```\n",
    "    - Chú thích không rõ ràng:\n",
    "    ```\n",
    "    // Hàm này thực hiện một số phép toán\n",
    "        int do_something(int a, int b) {\n",
    "          // ...\n",
    "        }\n",
    "    ```\n",
    "    - Chú thích không hữu ích:\n",
    "    ```\n",
    "        // Đây là một hàm\n",
    "        void my_function() {\n",
    "          // ...\n",
    "        }\n",
    "    ```\n",
    "- **Chú thích tốt giúp cho mã C++ của bạn dễ đọc và dễ hiểu hơn.**\n"
   ]
  },
  {
   "cell_type": "markdown",
   "id": "ada7a714-995f-4394-b908-15750302d480",
   "metadata": {},
   "source": [
    "## **Bài 1.3: <u>Đối tượng và biến trong C++</u>**"
   ]
  },
  {
   "cell_type": "markdown",
   "id": "7e1d5d7d-8f57-4a9d-9877-e31aa1d749d0",
   "metadata": {},
   "source": [
    "### **Dữ liệu và biến**\n",
    "- Ta đã biết rằng phần lớn các chỉ dẫn trong một chương trình là các câu lệnh và hàm là nhóm các câu lệnh thực thi tuần tự. Các câu lệnh bên trong hàm thực hiện các hành động (hy vọng) tạo ra bất kỳ kết quả nào mà chương trình được thiết kế để tạo ra.\n",
    "- Nhưng làm thế nào để các chương trình thực sự tạo ra kết quả? Họ làm như vậy bằng cách thao tác (đọc, thay đổi và ghi) dữ liệu. Trong điện toán, dữ liệu là bất kỳ thông tin nào có thể được di chuyển, xử lý hoặc lưu trữ bởi máy tính.\n",
    "> **Chú ý quan trọng:**\\\n",
    "> Chương trình là tập các chỉ dẫn thao tác với dữ liệu để tạo ra kết quả mong muốn.\n"
   ]
  },
  {
   "cell_type": "markdown",
   "id": "c98cf87e-4db7-436a-9b89-6c113601de84",
   "metadata": {},
   "source": [
    "- Chương trình có thể lấy dữ liệu để xử lý theo nhiều cách khác nhau: từ file hoặc cơ sở dữ liệu, qua mạng, từ người dùng nhập liệu trên bàn phím, hoặc từ chính lập trình viên đưa dữ liệu trực tiếp vào mã nguồn của chương trình. Trong chương trình \"Hello World\" từ bài học đã đề cập, văn bản \"Hello World!\" được chèn trực tiếp vào mã nguồn của chương trình, cung cấp dữ liệu cho chương trình sử dụng. Sau đó, chương trình thao tác với dữ liệu này bằng cách gửi nó đến màn hình để hiển thị.\n",
    "- Dữ liệu trên máy tính thường được lưu trữ ở định dạng hiệu quả cho việc lưu trữ hoặc xử lý (và do đó không thể đọc được bằng con người). Vì vậy, khi chương trình \"Hello World\" được biên dịch, văn bản \"Hello World!\" được chuyển đổi thành định dạng hiệu quả hơn để chương trình sử dụng (dạng nhị phân, chúng ta sẽ thảo luận trong bài học sau).\n"
   ]
  },
  {
   "cell_type": "markdown",
   "id": "91bcada0-bfda-4631-a5cb-3cb8ba64c43d",
   "metadata": {},
   "source": [
    "### **Bộ nhớ truy cập ngẫu nhiên (RAM)**"
   ]
  },
  {
   "cell_type": "markdown",
   "id": "e2fd125d-7853-491b-ae12-31061a4d2bf8",
   "metadata": {},
   "source": [
    "- Bộ nhớ chính trong máy tính được gọi là Bộ nhớ truy cập ngẫu nhiên (thường được gọi tắt là RAM). Khi chúng ta chạy một chương trình, hệ điều hành sẽ nạp chương trình đó vào RAM. Bất kỳ dữ liệu nào được mã hóa cứng vào chính chương trình (ví dụ: văn bản như \"Hello, world!\") đều được nạp vào thời điểm này.\n",
    "- Hệ điều hành cũng dành một phần RAM bổ sung để chương trình sử dụng trong khi chạy. Các cách sử dụng thông thường cho bộ nhớ này là lưu trữ các giá trị do người dùng nhập vào, lưu trữ dữ liệu đọc từ tệp hoặc mạng, hoặc lưu trữ các giá trị được tính toán trong khi chương trình chạy (ví dụ: tổng của hai giá trị) để có thể sử dụng lại sau.\n",
    "- Bạn có thể hình dung RAM như một dãy các ô được đánh số có thể được sử dụng để lưu trữ dữ liệu trong khi chương trình đang chạy. Ở một số ngôn ngữ lập trình cũ hơn (như Applesoft BASIC), bạn có thể truy cập trực tiếp vào các ô này (ví dụ: bạn có thể viết một lệnh để \"lấy giá trị được lưu trữ trong hộp thư số 7532\")."
   ]
  },
  {
   "cell_type": "markdown",
   "id": "aa62c19c-d8c8-4598-9392-49af668bd375",
   "metadata": {},
   "source": [
    "### **Đối tượng và biến:**\n"
   ]
  },
  {
   "cell_type": "markdown",
   "id": "ac9e97ad-52e7-4766-ae10-602bd10c1206",
   "metadata": {},
   "source": [
    "- Trong C++, việc truy cập trực tiếp vào bộ nhớ được hạn chế. Thay vào đó, chúng ta truy cập bộ nhớ gián tiếp thông qua một đối tượng. **Đối tượng** là một vùng lưu trữ (thường là bộ nhớ) có thể chứa một giá trị và có các thuộc tính liên quan khác (chúng ta sẽ đề cập đến chúng trong các bài học sau). Cách thức trình biên dịch và hệ điều hành phân bổ bộ nhớ cho các đối tượng vượt ra ngoài phạm vi của bài học này. Nhưng điểm mấu chốt ở đây là thay vì nói \"lấy giá trị được lưu trữ trong hộp thư số 7532\", chúng ta có thể nói \"lấy giá trị được lưu trữ bởi đối tượng này\". Điều này có nghĩa là chúng ta có thể tập trung vào việc sử dụng các đối tượng để lưu trữ và truy xuất các giá trị, và không cần phải lo lắng về việc các đối tượng đó thực sự được đặt ở đâu trong bộ nhớ.\n",
    "\n",
    "- Mặc dù các đối tượng trong C++ có thể không được đặt tên (vô danh), nhưng thông thường chúng ta đặt tên cho các đối tượng của mình bằng một **định danh**. Một đối tượng có tên được gọi là **biến**.\n",
    "\n",
    "> **Điểm cần chú ý**:\n",
    "> - Đối tượng: Là nơi lưu trữ giá trị trong bộ nhớ. Tưởng tượng như một chiếc hộp để cất giữ dữ liệu.\n",
    "> - Biến: Là một đối tượng có tên (định danh). Bằng cách đặt tên cho đối tượng, bạn tạo ra cách để dễ dàng tham chiếu và truy cập giá trị mà nó lưu trữ trong suốt chương trình. Giống như dán nhãn cho các hộp để bạn có thể nhanh chóng tìm thấy dữ liệu cụ thể mà bạn cần sau này.\n",
    "\n",
    "> **Thuật ngữ:**\\\n",
    "> Trong lập trình nói chung, thuật ngữ \"đối tượng\" thường đề cập đến một đối tượng không được đặt tên trong bộ nhớ, một biến hoặc một hàm. Trong C++, thuật ngữ \"đối tượng\" có định nghĩa hẹp hơn, không bao gồm hàm.\n"
   ]
  },
  {
   "cell_type": "markdown",
   "id": "301ec831-dbb0-47c4-a7d3-b7d8d67434d7",
   "metadata": {},
   "source": [
    "### **Khai báo biến**"
   ]
  },
  {
   "cell_type": "markdown",
   "id": "5a0f3b2e-ed47-4bf7-a007-dcfde2c66c2a",
   "metadata": {},
   "source": [
    "- Để tạo một biến, chúng ta sử dụng câu lệnh khai báo:\\\n",
    "  `<kiểu dữ liệu> <tên biến>;`\n",
    "\n",
    "> **VD:**\\\n",
    "> `int x; // define a variable named x, of type int`\n",
    "\n",
    "- Trong giai đoạn biên dịch, khi trình biên dịch nhìn thấy dòng lệnh này, nó sẽ ghi nhận rằng chúng ta đang định nghĩa một biến, đặt tên cho nó là `x` và kiểu của nó là `int` (chúng ta sẽ tìm hiểu thêm về kiểu dữ liệu sau). Từ thời điểm đó trở đi (với một số hạn chế sẽ đề cập trong bài học sau), bất cứ khi nào trình biên dịch nhìn thấy định danh `x`, nó sẽ biết rằng chúng ta đang tham chiếu đến biến này.\n",
    "- Khi chương trình chạy (gọi là runtime), biến sẽ được khởi tạo (instantiate). Khởi tạo là một từ ngữ chuyên môn có nghĩa là đối tượng sẽ được tạo và được gán một địa chỉ bộ nhớ. Biến phải được khởi tạo trước khi chúng có thể được sử dụng để lưu trữ giá trị. Ví dụ, giả sử biến `x` được khởi tạo tại vị trí bộ nhớ `140`. Bất cứ khi nào chương trình sử dụng biến `x`, nó sẽ truy cập vào giá trị tại vị trí bộ nhớ `140`. Một đối tượng được khởi tạo đôi khi được gọi là một thực thể (instance)."
   ]
  },
  {
   "cell_type": "markdown",
   "id": "72114b7b-6437-4a8e-bb84-dc692b2b0436",
   "metadata": {},
   "source": [
    "### **Kiểu dữ liệu**"
   ]
  },
  {
   "cell_type": "markdown",
   "id": "dce1a3f5-c3b0-40b0-89ec-28f91e24916a",
   "metadata": {},
   "source": [
    "- Bây giờ đây, chúng ta đã biết biến là một vùng lưu trữ được đặt tên, có thể chứa một giá trị dữ liệu (chính xác cách dữ liệu được lưu trữ sẽ là chủ đề của một bài học khác). Một kiểu dữ liệu (thường được gọi đơn giản là kiểu) cho trình biên dịch biết loại giá trị nào (ví dụ: số, chữ cái, văn bản, v.v.) mà biến sẽ lưu trữ.\n",
    "- Trong ví dụ trên, biến `x` được gán kiểu `int`, nghĩa là biến `x` sẽ biểu diễn một giá trị nguyên. **Số nguyên** là một số có thể được viết mà không có phần thập phân, chẳng hạn như 4, 27, 0, -2 hoặc -12. Nói ngắn gọn, chúng ta có thể nói rằng `x` là một **biến nguyên**.\n",
    "- Trong C++, kiểu của một biến phải được biết tại thời gian biên dịch (khi chương trình được biên dịch) và kiểu đó không thể thay đổi mà không cần biên dịch lại chương trình. Điều này có nghĩa là một biến nguyên chỉ có thể chứa các giá trị nguyên. Nếu bạn muốn lưu trữ một loại giá trị khác, bạn sẽ cần sử dụng một kiểu khác.\n",
    "- Số nguyên chỉ là một trong nhiều kiểu mà C++ hỗ trợ sẵn. Để minh họa, đây là một ví dụ khác về việc định nghĩa một biến sử dụng kiểu dữ liệu `double`:\n",
    "\n",
    "> `double width; // Định nghĩa một biến tên width, kiểu double`\n",
    "- C++ cũng cho phép bạn tạo các kiểu dữ liệu tùy chỉnh của riêng bạn. Đây là điều chúng ta sẽ thực hiện rất nhiều trong các bài học sau và là một phần tạo nên sức mạnh của C++.\n",
    "- Đối với các chương đầu, chúng ta sẽ tập trung vào các biến nguyên vì chúng đơn giản về mặt khái niệm, nhưng chúng ta sẽ sớm khám phá nhiều kiểu dữ liệu khác mà C++ cung cấp (bao gồm cả `double`)."
   ]
  },
  {
   "cell_type": "markdown",
   "id": "19f52a18-44b2-4290-921f-855b06b21c83",
   "metadata": {},
   "source": [
    "### **Khai báo nhiều biến:**\n"
   ]
  },
  {
   "cell_type": "markdown",
   "id": "4d79ae18-9529-4a99-8f2e-1ada8bbad368",
   "metadata": {},
   "source": [
    "- Có thể định nghĩa nhiều biến cùng loại trong một câu lệnh bằng cách phân tách các tên bằng dấu phẩy. Hai đoạn mã sau đây thực sự giống nhau:\n",
    "\n",
    ">```\n",
    ">int a;\n",
    ">int b;\n",
    ">```\n",
    "\n",
    "> `int a, b;`\n",
    "- Khi khai báo nhiều biến theo cách này, có hai lỗi phổ biến mà các lập trình viên mới thường mắc phải (không nghiêm trọng vì trình biên dịch sẽ phát hiện những lỗi này và yêu cầu bạn sửa chúng):\n",
    "    - Lỗi thứ nhất: Gán kiểu cho từng biến khi khai báo nhiều biến theo trình tự.\n",
    "    > `int a, int b; // Sai (trình biên dịch báo lỗi)`\n",
    "    - Cách sửa\n",
    "    > `int a, b; //Đúng`\n",
    "    - Lỗi thứ hai: Cố gắng khai báo các biến có kiểu khác nhau trong cùng một câu lệnh, điều này không được phép. Các biến có kiểu khác nhau phải được khai báo trong các câu lệnh riêng biệt.\n",
    "    > `int a, double b; // Sai (trình biên dịch báo lỗi)`\n",
    "    - Cách sửa 1:\n",
    "    >```\n",
    "    >int a; double b; // Đúng (nhưng không khuyến khích)\n",
    "    >```\n",
    "    - Cách sửa 2:\n",
    "    >```\n",
    "    >int a;\n",
    "    >double b; // Đúng và được khuyến khích (dễ đọc hơn)\n",
    "    >```\n",
    "- Giải thích:\n",
    "    - Lỗi thứ nhất xảy ra do bạn cố gắng gán kiểu cho mỗi biến trong một dòng. Trong C++, cách khai báo đúng là liệt kê tên biến, sau đó là kiểu dữ liệu chung cho tất cả các biến.\n",
    "    - Lỗi thứ hai xảy ra do bạn cố gắng khai báo các biến có kiểu khác nhau trong cùng một câu lệnh. Mỗi biến phải được khai báo riêng với kiểu dữ liệu tương ứng.\n"
   ]
  },
  {
   "cell_type": "markdown",
   "id": "36a2635b-0d3b-4e4b-afe7-32d154a0242a",
   "metadata": {},
   "source": [
    "### **Tóm tắt:**\n",
    ">Trong C++, chúng ta sử dụng các **đối tượng** để truy cập vào bộ nhớ. Một đối tượng được đặt tên gọi là **biến**. Biến có một **định danh**, một **kiểu dữ liệu** và một **giá trị** (cùng một số thuộc tính khác không liên quan ở đây). **Kiểu dữ liệu** của biến được sử dụng để xác định cách giải nghĩa giá trị trong bộ nhớ.\n",
    "\n"
   ]
  },
  {
   "cell_type": "markdown",
   "id": "15f1ae80-3280-464b-bbff-b3bb015fbf82",
   "metadata": {},
   "source": [
    "## **Bài 1.4: <u>Gán và khởi tạo giá trị cho biến</u>**\n"
   ]
  },
  {
   "cell_type": "markdown",
   "id": "2cc9a5c0-9ee3-4b4b-b91b-566489ec8041",
   "metadata": {},
   "source": [
    "### **Phép gán**"
   ]
  },
  {
   "cell_type": "markdown",
   "id": "1695b6db-3fb2-4e95-b836-07f76e69504f",
   "metadata": {},
   "source": [
    "- Sau khi một biến đã được khai báo, bạn có thể gán cho nó một giá trị (trong một câu lệnh riêng) bằng toán tử `=`. Quá trình này được gọi là phép gán và toán tử `=` được gọi là toán tử gán.\n",
    ">```\n",
    ">int width; // define an integer variable named width\n",
    ">width = 5; // assignment of value 5 into variable width\n",
    ">// variable width now has value 5\n",
    ">```\n",
    "- Theo mặc định, phép gán sẽ sao chép giá trị ở vế phải của toán tử `=` sang biến ở vế trái của toán tử. Đây được gọi là gán sao chép (copy assignment).\n",
    "- Ví dụ gán giá trị nhiều lần:\n",
    ">```\n",
    ">#include <iostream>\n",
    ">\n",
    ">int main()\n",
    ">{\n",
    ">\tint width;\n",
    ">\twidth = 5; // copy assignment of value 5 into variable width\n",
    ">\n",
    ">\tstd::cout << width; // prints 5\n",
    ">\n",
    ">\twidth = 7; // change value stored in variable width to 7\n",
    ">\n",
    ">\tstd::cout << width; // prints 7\n",
    ">\n",
    ">\treturn 0;\n",
    ">}\n",
    ">```\n",
    "- Đoạn code này in ra:\n",
    "> `57`\n",
    "- Khi chúng ta gán giá trị `7` cho biến `width`, giá trị `5` trước đó sẽ bị ghi đè. Biến thông thường chỉ có thể chứa một giá trị tại một thời điểm.\n"
   ]
  },
  {
   "cell_type": "markdown",
   "id": "dc17d720-059a-4712-85ce-48c909862a21",
   "metadata": {},
   "source": [
    "### **Khởi tạo giá trị cho biến (initialization)** "
   ]
  },
  {
   "cell_type": "markdown",
   "id": "618a106a-2bfb-4d5d-8136-bf41fa0a806d",
   "metadata": {},
   "source": [
    "- Gán giá trị cho biến yêu cầu ít nhất hai câu lệnh: một để khai báo biến và một để gán giá trị.\n",
    "- Hai bước này có thể được kết hợp. Khi một đối tượng được định nghĩa, bạn có thể tùy chọn cung cấp cho nó một giá trị ban đầu. Quá trình chỉ định giá trị ban đầu cho một đối tượng được gọi là khởi tạo (**initialization**), và cú pháp được sử dụng để khởi tạo một đối tượng được gọi là trình khởi tạo (**initializer**).\n",
    "> - Ví dụ:\n",
    ">```\n",
    ">int width { 5 }; // Định nghĩa biến width và khởi tạo với giá trị ban đầu là 5\n",
    ">\n",
    ">// Biến width bây giờ có giá trị là 5\n",
    ">```\n"
   ]
  },
  {
   "cell_type": "markdown",
   "id": "28dba633-ddf3-474e-839c-04e8a20485f2",
   "metadata": {},
   "source": [
    "### **Các dạng khởi tạo khác nhau**"
   ]
  },
  {
   "cell_type": "markdown",
   "id": "49389d5f-f972-47b7-9ee1-d2d248ec689e",
   "metadata": {},
   "source": [
    "- Khởi tạo trong C++ phức tạp hơn so với tưởng tượng, vì vậy chúng ta sẽ chỉ trình bày một cách đơn giản ở đây.\n",
    "- Có 6 cách cơ bản để khởi tạo biến trong C++:\n",
    "    >`int a; // Không có trình khởi tạo (khởi tạo mặc định)`\\\n",
    "    >`int b = 5; // Giá trị ban đầu sau dấu bằng (khởi tạo sao chép)`\\\n",
    "    >`int c( 6 ); // Giá trị ban đầu trong dấu ngoặc đơn (khởi tạo trực tiếp)`\\\n",
    "    >`// Phương thức khởi tạo danh sách (C++11) (ưu tiên)`\\\n",
    "    >`int d { 7 }; // Giá trị ban đầu trong ngoặc nhọn (khởi tạo danh sách trực tiếp)`\\\n",
    "    >`int e = { 8 }; // Giá trị ban đầu trong ngoặc nhọn sau dấu bằng (khởi tạo danh sách sao chép)`\\\n",
    "    >`int f {}; // Trình khởi tạo là ngoặc nhọn trống (khởi tạo giá trị)`\n",
    "    \n"
   ]
  },
  {
   "cell_type": "markdown",
   "id": "e683e4be-1c01-4b52-9905-5e7c004fc6de",
   "metadata": {},
   "source": [
    "#### *<u>Khởi tạo mặc định (Default initialization)</u>.*"
   ]
  },
  {
   "cell_type": "markdown",
   "id": "b8b8d67d-5e2c-4ef6-bc36-467ac05e0bf7",
   "metadata": {},
   "source": [
    "Khi không cung cấp trình khởi tạo (chẳng hạn như đối với biến `a` ở trên), thì đây được gọi là **khởi tạo mặc định**. Trong hầu hết các trường hợp, khởi tạo mặc định không thực hiện bất kỳ khởi tạo nào và để lại biến với giá trị không xác định."
   ]
  },
  {
   "cell_type": "markdown",
   "id": "bd3d6219-171d-40be-a5f4-afa4d23f1adb",
   "metadata": {},
   "source": [
    "#### *<u>Khởi tạo sao chép (Copy initialization)</u>.*"
   ]
  },
  {
   "cell_type": "markdown",
   "id": "d6ddd709-cdf1-46ad-aa71-44dfe393de3c",
   "metadata": {},
   "source": [
    "Khi cung cấp giá trị ban đầu sau dấu bằng, thì đây được gọi là **khởi tạo sao chép**. Hình thức khởi tạo này được thừa hưởng từ **C**.\n",
    ">`int width = 5; // Khởi tạo sao chép giá trị 5 vào biến width`\n",
    "\n",
    "Giống như gán sao chép, nó sao chép giá trị bên phải dấu bằng vào biến được tạo bên trái. Trong đoạn mã trên, biến `width` sẽ được khởi tạo với giá trị `5`.\n",
    "\n",
    "Khởi tạo sao chép không còn được ưa chuộng trong C++ hiện đại do kém hiệu quả hơn các hình thức khởi tạo khác đối với một số kiểu dữ liệu phức tạp. Tuy nhiên, `C++17` đã khắc phục hầu hết các vấn đề này và khởi tạo sao chép hiện đang tìm lại chỗ đứng.\n",
    "\n",
    ">**Đối với người đọc nâng cao**\\\n",
    ">Khởi tạo sao chép cũng được sử dụng bất cứ khi nào các giá trị được sao chép hoặc chuyển đổi ngầm, chẳng hạn như khi truyền đối số cho một hàm theo giá trị, trả về từ một hàm theo giá trị hoặc bắt các ngoại lệ theo giá trị."
   ]
  },
  {
   "cell_type": "markdown",
   "id": "ec4f9795-661a-4068-9bc0-2b68b4e5023d",
   "metadata": {},
   "source": [
    "#### *<u>Khởi tạo trực tiếp (Direct initialization)</u>.*"
   ]
  },
  {
   "cell_type": "markdown",
   "id": "ade11ac6-2cc1-4828-896d-90701fcef540",
   "metadata": {},
   "source": [
    "Khi cung cấp giá trị ban đầu bên trong dấu ngoặc đơn, thì đây được gọi là khởi tạo trực tiếp.\n",
    "\n",
    ">`int width( 5 ); // Khởi tạo trực tiếp giá trị 5 vào biến width`\n",
    "\n",
    "Khởi tạo trực tiếp ban đầu được giới thiệu để cho phép khởi tạo các đối tượng phức tạp (các đối tượng có kiểu lớp, chúng tôi sẽ đề cập trong một chương học sau) hiệu quả hơn. Giống như khởi tạo sao chép, khởi tạo trực tiếp không còn được ưa chuộng trong C++ hiện đại, chủ yếu là do nó bị thay thế bởi khởi tạo danh sách. Tuy nhiên, hiện tại chúng ta biết rằng khởi tạo danh sách có một vài điểm kỳ quặc, do đó khởi tạo trực tiếp lại được sử dụng trong một số trường hợp nhất định.\n",
    "\n",
    "Khởi tạo trực tiếp cũng được sử dụng khi các giá trị được ép kiểu rõ ràng sang một kiểu khác.\n",
    "\n",
    "Một trong những lý do khiến khởi tạo trực tiếp không còn được ưa chuộng là vì nó gây khó khăn trong việc phân biệt biến với hàm. Ví dụ:\n",
    ">`int x();  // Khai báo trước hàm x`\\\n",
    ">`int x(0); // Định nghĩa biến x với giá trị khởi tạo là 0`\n"
   ]
  },
  {
   "cell_type": "markdown",
   "id": "fd1874fa-98ee-461e-a7f4-7529fa2dfcca",
   "metadata": {},
   "source": [
    "#### *<u>Khởi tạo danh sách (List initialization)</u>.*"
   ]
  },
  {
   "cell_type": "markdown",
   "id": "e018ef2a-6150-4e62-8b2c-7055fbb4c065",
   "metadata": {},
   "source": [
    "Khởi tạo danh sách (List initialization) là cách thức hiện đại để khởi tạo các đối tượng trong C++. Nó còn được gọi là khởi tạo đồng nhất (uniform initialization) hoặc khởi tạo bằng ngoặc nhọn (brace initialization).\n",
    "\n",
    "<u>Ba dạng khởi tạo danh sách:</u>\n",
    "\n",
    "**1.** Khởi tạo danh sách trực tiếp (direct list initialization):\n",
    ">`int width { 5 };    // Khởi tạo biến width với giá trị ban đầu là 5`\n",
    "\n",
    "**2.** Khởi tạo danh sách sao chép (copy list initialization):\n",
    ">`int height = { 6 }; // Gán giá trị 6 cho biến height`\n",
    "\n",
    "**3.** Khởi tạo giá trị (value initialization):\n",
    ">`int depth {};       // Khởi tạo biến depth với giá trị rỗng (sẽ được giải thích chi tiết sau)` \n",
    "\n",
    "Trước khi có khởi tạo danh sách:\n",
    "- Trước đây, tùy thuộc vào kiểu dữ liệu, bạn cần sử dụng khởi tạo sao chép (copy initialization) hoặc khởi tạo trực tiếp (direct initialization). Khởi tạo danh sách được ra đời để cung cấp cú pháp khởi tạo thống nhất (do đó đôi khi được gọi là khởi tạo đồng nhất) hoạt động trong hầu hết các trường hợp.\n",
    "- Ngoài ra, khởi tạo danh sách còn cho phép khởi tạo đối tượng với một danh sách các giá trị (do đó được gọi là khởi tạo danh sách). Ví dụ về cách khởi tạo này sẽ được giới thiệu trong bài học sau về các hàm tạo của `std::vector` và `std::list`.\n",
    "\n",
    "<u>Lợi ích của khởi tạo danh sách:</u>\n",
    "- **Ngăn chặn chuyển đổi hẹp (narrowing conversions)**: Khi sử dụng khởi tạo danh sách, việc gán các giá trị không phù hợp kiểu dữ liệu của biến sẽ gây ra lỗi. Điều này giúp tránh mất mát dữ liệu.\n",
    ">`int width { 4.5 }; // Lỗi: số thập phân không thể gán cho biến nguyên`\n",
    "\n",
    "    - Trong đoạn code trên, biến `width` kiểu `int` (chỉ lưu trữ số nguyên) nhưng chúng ta lại cố gắng gán cho nó một số thập phân (`4.5`).\n",
    "    - **Khởi tạo sao chép** và **khởi tạo trực tiếp** sẽ loại bỏ phần thập phân, gán giá trị `4` cho biến `width`. Trình biên dịch của bạn có thể cảnh báo về việc mất mát dữ liệu này. Tuy nhiên, với khởi tạo danh sách, trình biên dịch bắt buộc phải báo lỗi trong trường hợp này.\n",
    "- **Các phép chuyển đổi không gây mất mát dữ liệu vẫn được phép.**\n",
    "\n",
    "<u>Tóm tắt:</u>\n",
    "\n",
    "Khởi tạo danh sách thường được ưu tiên hơn các hình thức khởi tạo khác vì:\n",
    "\n",
    "- Hoạt động trong hầu hết các trường hợp (tính nhất quán cao).\n",
    "- Ngăn chặn chuyển đổi hẹp (tránh mất mát dữ liệu).\n",
    "- Hỗ trợ khởi tạo với danh sách giá trị (sẽ được học sau).\n",
    "\n",
    "<u>Khuyến nghị:</u>\n",
    "- Trong khi học, nên ưu tiên sử dụng khởi tạo danh sách trực tiếp (hoặc khởi tạo giá trị) để khởi tạo biến.\n"
   ]
  },
  {
   "cell_type": "markdown",
   "id": "0cd70abe-6d92-4032-b2bf-4b08dbe58f09",
   "metadata": {},
   "source": [
    "#### *<u>Khởi tạo giá trị và khởi tạo bằng 0 (Value initialization and zero initialization)</u>.*"
   ]
  },
  {
   "cell_type": "markdown",
   "id": "455025dd-51f6-4e3f-8e9c-207e1aa724d3",
   "metadata": {},
   "source": [
    "<u>Khởi tạo giá trị (Value initialization):</u>\n",
    "- Khi bạn khởi tạo biến bằng ngoặc nhọn rỗng {}, quá trình khởi tạo giá trị (value initialization) diễn ra.\n",
    "- Trong hầu hết các trường hợp, khởi tạo giá trị sẽ gán giá trị 0 cho biến (hoặc giá trị rỗng đối với kiểu dữ liệu phù hợp).\n",
    "- Ví dụ:\n",
    ">`int width {}; // Khởi tạo biến width với giá trị 0 (khởi tạo giá trị / khởi tạo bằng 0)`\n",
    "\n",
    "<u>Câu hỏi:</u> *Nên dùng `{}` hay `{0}` để khởi tạo giá trị?*\n",
    "- Sử dụng giá trị khởi tạo rõ ràng (`{0}`) nếu bạn thực sự sử dụng giá trị đó.\n",
    "- Ví dụ:\n",
    ">`int x {0};    // Khởi tạo rõ ràng biến x với giá trị 0`\\\n",
    ">`std::cout << x; // In ra giá trị 0`\n",
    "\n",
    "<u>LỜI KHUYÊN:</u> Khởi tạo biến ngay khi tạo.\n",
    "- Khởi tạo biến với giá trị mặc định (0, giá trị rỗng, ...) thường là lựa chọn tốt. Điều này giúp bạn tránh những vấn đề do biến chưa được khởi tạo gây ra.\n",
    "- Sử dụng khởi tạo danh sách (list initialization) - Đây là cách thức hiện đại và an toàn để khởi tạo biến trong C++.\n"
   ]
  },
  {
   "cell_type": "markdown",
   "id": "fc74e85f-0b65-4c8d-9abb-3faf5d0a9cd1",
   "metadata": {},
   "source": [
    "### **Khởi tạo nhiều biến trong C++**"
   ]
  },
  {
   "cell_type": "markdown",
   "id": "f77ad34d-b5ce-4e36-b6f4-710aab9413b6",
   "metadata": {},
   "source": [
    "<u>Định nghĩa nhiều biến cùng kiểu:</u>\n",
    "- Trong bài trước, chúng ta đã biết có thể khai báo nhiều biến cùng kiểu trong một câu lệnh bằng cách phân cách các tên biến bằng dấu phẩy:\n",
    ">`int a, b;`\n",
    "\n",
    "- Tuy nhiên, theo khuyến cáo, bạn nên tránh sử dụng cách thức này. Tuy nhiên, vì bạn có thể gặp code cũ sử dụng cách này, nên chúng ta vẫn cần tìm hiểu thêm về nó.\n",
    "- Khởi tạo nhiều biến trên cùng một dòng: Bạn có thể khởi tạo nhiều biến được khai báo trên cùng một dòng:\n",
    ">```\n",
    ">int a = 5, b = 6;          // Khởi tạo sao chép (copy initialization)\n",
    ">int c( 7 ), d( 8 );        // Khởi tạo trực tiếp (direct initialization)\n",
    ">int e { 9 }, f { 10 };     // Khởi tạo danh sách trực tiếp (direct brace initialization)\n",
    ">int g = { 9 }, h = { 10 }; // Khởi tạo danh sách sao chép (copy brace initialization)\n",
    ">int i {}, j {};            // Khởi tạo giá trị (value initialization)\n",
    ">```\n",
    "\n",
    "<u>Lỗi thường gặp:</u>\n",
    "- Một lỗi thường gặp là lập trình viên cố gắng khởi tạo cả hai biến bằng một câu lệnh khởi tạo:\n",
    ">`int a, b = 5; // Sai (biến a không được khởi tạo!`\n",
    "- Cách viết chính xác:\n",
    ">`int a = 5, b = 5; // Đúng`\n",
    "- Trong câu lệnh sai ở trên, biến a sẽ không được khởi tạo. Trình biên dịch có thể hoặc không báo lỗi. Nếu không báo lỗi, điều này có thể khiến chương trình của bạn chạy không ổn định hoặc cho ra kết quả không mong đợi.\n",
    "- **Cách nhớ để tránh lỗi:** Cách tốt nhất để nhớ đây là lỗi là xem xét trường hợp khởi tạo trực tiếp hoặc khởi tạo danh sách:\n",
    ">`int a, b( 5 );  // Sai (bị hiểu nhầm là khởi tạo cho cả a và b)`\\\n",
    ">`int c, d{ 5 };  // Sai (bị hiểu nhầm là khởi tạo cho cả c và d)`\n",
    "- Vì dấu ngoặc đơn hoặc ngoặc nhọn thường được đặt ngay cạnh tên biến, điều này khiến cho việc khởi tạo giá trị 5 chỉ dành cho biến b và d, không phải a hoặc c.\n",
    "\n",
    "\n",
    "\n"
   ]
  },
  {
   "cell_type": "markdown",
   "id": "e7e63f1e-ea8d-4fad-aebb-5a2e9fd339e8",
   "metadata": {},
   "source": [
    "### **Cảnh báo biến được khởi tạo nhưng không sử dụng (Unused initialized variables warnings)**"
   ]
  },
  {
   "cell_type": "markdown",
   "id": "38c16cc9-921f-440e-86cc-61f186798eda",
   "metadata": {},
   "source": [
    "- Trình biên dịch hiện đại thường sẽ cảnh báo nếu một biến được khởi tạo nhưng không được sử dụng (vì điều này hiếm khi cần thiết). Và nếu bật tùy chọn \"xử lý cảnh báo như lỗi\" (treat warnings as errors), các cảnh báo này sẽ được nâng cấp thành lỗi và khiến quá trình biên dịch thất bại.\n",
    "- Xét ví dụ chương trình đơn giản sau:\n",
    ">```\n",
    ">int main()\n",
    ">{\n",
    ">    int x { 5 }; // Biến x được khai báo và khởi tạo\n",
    ">\n",
    ">    // Nhưng không được sử dụng ở bất kỳ đâu\n",
    ">\n",
    ">    return 0;\n",
    ">}\n",
    ">```\n",
    "- Khi biên dịch chương trình này với trình biên dịch `g++`, lỗi sau sẽ được tạo:\n",
    ">```\n",
    ">prog.cc: In function 'int main()':\n",
    ">prog.cc:3:9: error: unused variable 'x' [-Werror=unused-variable]\n",
    ">```\n",
    "\n",
    "Chương trình sẽ không thể biên dịch thành công.\n",
    "\n",
    "- Có một vài cách đơn giản để khắc phục lỗi này:\\\n",
    "  **1. Xóa bỏ biến không sử dụng:**\\\n",
    "    Nếu biến `x` thực sự không được sử dụng, cách dễ nhất là xóa bỏ định nghĩa của nó (hoặc chú thích nó bằng `//`). Xóa bỏ biến không sử dụng sẽ không ảnh hưởng đến chương trình.\n",
    "  \n",
    "  **2. Sử dụng biến ở một nơi nào đó:**\n",
    "  >```\n",
    "  >#include <iostream>\n",
    "  >\n",
    "  >int main()\n",
    "  >{\n",
    "  >  int x { 5 };\n",
    "  >\n",
    "  >  std::cout << x; // Biến x được sử dụng\n",
    "  >\n",
    "  >  return 0;\n",
    "  >\n",
    "  >}\n",
    "  >\n",
    "  >```\n",
    "\n",
    "    Tuy nhiên, cách này yêu cầu viết thêm code để sử dụng biến và có thể ảnh hưởng đến logic ban đầu của chương trình.\n",
    "\n",
    "\n",
    "\n",
    "\n"
   ]
  },
  {
   "cell_type": "markdown",
   "id": "68f30015-cb6a-406c-a797-182c362e5910",
   "metadata": {},
   "source": [
    "### **Thuộc tính `[[maybe_unused]]` trong `C++17`**\n"
   ]
  },
  {
   "cell_type": "markdown",
   "id": "13708047-1350-44ca-9e50-37ca2a6e4cad",
   "metadata": {},
   "source": [
    "**Trường hợp không mong muốn xóa bỏ hoặc sử dụng biến:**\n",
    "- Trong một số trường hợp, cả hai cách xử lý ở trên (xóa bỏ biến hoặc sử dụng biến) đều không mong muốn. Ví dụ, giả sử chúng ta có một nhóm các hằng số toán học/vật lý được sử dụng trong nhiều chương trình khác nhau:\n",
    ">```\n",
    ">int main()\n",
    ">{\n",
    ">    double pi { 3.14159 };\n",
    ">    double gravity { 9.8 };\n",
    ">    double phi { 1.61803 };\n",
    ">\n",
    ">    // Giả sử một số hằng số được sử dụng, một số không\n",
    ">\n",
    ">    return 0;\n",
    ">}\n",
    ">```\n",
    "- Nếu chúng ta sử dụng các hằng số này thường xuyên, có thể chúng ta sẽ lưu chúng ở một nơi nào đó và sao chép/dán/nhập khẩu tất cả chúng cùng nhau.\n",
    "- Tuy nhiên, trong bất kỳ chương trình nào mà chúng ta không sử dụng tất cả các giá trị này, trình biên dịch sẽ phàn nàn về mỗi biến không được sử dụng thực tế. Mặc dù chúng ta có thể xóa hoặc chú thích từng biến không sử dụng cho mỗi chương trình, nhưng điều này tốn thời gian và công sức. Và sau này nếu cần đến một biến đã xóa trước đó, chúng ta sẽ phải quay lại và thêm lại nó.\n",
    "\n",
    "**Thuộc tính `[[maybe_unused]]`**\n",
    "- Để giải quyết những trường hợp như vậy, `C++17` giới thiệu thuộc tính `[[maybe_unused]]`, cho phép chúng ta thông báo cho trình biên dịch rằng việc một biến không được sử dụng là chấp nhận được. Trình biên dịch sẽ không tạo ra cảnh báo về biến không sử dụng cho các biến được đánh dấu bằng thuộc tính này.\n",
    "- Chương trình sau đây sẽ không tạo ra cảnh báo/lỗi:\n",
    ">```\n",
    ">int main()\n",
    ">{\n",
    ">    [[maybe_unused]] double pi { 3.14159 };\n",
    ">    [[maybe_unused]] double gravity { 9.8 };\n",
    ">    [[maybe_unused]] double phi { 1.61803 };\n",
    ">\n",
    ">    // Các biến ở trên sẽ không tạo ra cảnh báo về biến không sử dụng\n",
    ">\n",
    ">    return 0;\n",
    ">}\n",
    ">```\n",
    "\n",
    "Ngoài ra, trình biên dịch có thể tối ưu hóa các biến này ra khỏi chương trình, vì vậy chúng không ảnh hưởng đến hiệu suất."
   ]
  },
  {
   "cell_type": "markdown",
   "id": "d06be0fe-8bff-4cf7-9ad0-0c0bf09c6bfc",
   "metadata": {},
   "source": [
    "## **Bài 1.5: <u>Giới thiệu về `iostream`: `cout`, `cin` và `endl`</u>**\n"
   ]
  },
  {
   "cell_type": "markdown",
   "id": "d2a3786a-9c9a-44e1-b038-55a2d6d47de6",
   "metadata": {},
   "source": [
    "Trong bài học này, chúng ta sẽ tìm hiểu thêm về `std::cout`, đối tượng đã được sử dụng trong chương trình **\"Hello world!\"** để xuất văn bản **\"Hello world!\"** ra màn hình console. Chúng ta cũng sẽ khám phá cách lấy dữ liệu nhập từ người dùng, giúp c chương trình trở nên tương tác hơn."
   ]
  },
  {
   "cell_type": "markdown",
   "id": "eefef7c7-21fd-446c-b7a9-e18c019e53ee",
   "metadata": {},
   "source": [
    "### **Thư viện vào/ra:**"
   ]
  },
  {
   "cell_type": "markdown",
   "id": "73971e14-a589-4afd-b556-89a4cca9f7cf",
   "metadata": {},
   "source": [
    "- Thư viện vào/ra (io library) là một phần của thư viện chuẩn C++ dùng để xử lý các tác vụ nhập và xuất cơ bản.\n",
    "- Chúng ta sẽ sử dụng các chức năng trong thư viện này để lấy dữ liệu từ bàn phím và xuất dữ liệu ra màn hình console.\n",
    "- Phần \"io\" trong \"`iostream`\" là viết tắt của \"`input/output`\" (vào/ra).\n",
    "\n",
    "Để sử dụng các chức năng được định nghĩa trong thư viện `iostream`, chúng ta cần thêm header `iostream` vào đầu của bất kỳ tệp code nào sử dụng các nội dung được định nghĩa trong `iostream`, như sau:\n",
    ">`#include <iostream>`\\\n",
    ">`// Phần còn lại của code sử dụng các chức năng của iostream ở đây `"
   ]
  },
  {
   "cell_type": "markdown",
   "id": "056b4b99-bd08-4cca-8758-d86bbd29eb72",
   "metadata": {},
   "source": [
    "### `std::cout`\n"
   ]
  },
  {
   "cell_type": "markdown",
   "id": "775a9328-8833-4087-819d-c284d9e811d4",
   "metadata": {},
   "source": [
    "Thư viện `iostream` chứa một số biến được định sẵn để chúng ta sử dụng. Một trong những biến hữu ích nhất là `std::cout`, cho phép chúng ta gửi dữ liệu đến console để in ra dưới dạng văn bản. `cout` là viết tắt của \"character output\" (xuất ký tự).\n",
    "\n",
    "Ví dụ chương trình `Hello World`:\n",
    "\n",
    ">```\n",
    ">#include <iostream> // Bao gồm header iostream để sử dụng std::cout\n",
    ">\n",
    ">int main()\n",
    ">{\n",
    ">    std::cout << \"Hello world!\"; // In ra \"Hello world!\" ra màn hình console\n",
    ">\n",
    ">    return 0;\n",
    ">}\n",
    ">```\n",
    "\n",
    "Trong chương trình này, chúng ta đã bao gồm `iostream` để có thể truy cập `std::cout`. Bên trong hàm `main`, chúng ta sử dụng `std::cout` cùng với toán tử chèn (`<<`) để gửi văn bản `\"Hello world!\"` đến console để in ra.\n",
    "\n",
    "`std::cout` có thể in nhiều thứ:\n",
    "- std::cout không chỉ in được text, mà còn có thể in cả số:\n",
    ">```\n",
    ">#include <iostream> // Bao gồm header iostream để sử dụng std::cout\n",
    ">\n",
    ">int main()\n",
    ">{\n",
    ">    std::cout << 4; // In số 4 ra màn hình console\n",
    ">\n",
    ">    return 0;\n",
    ">}\n",
    ">```\n",
    "\n",
    "    Kết quả sẽ là:\n",
    "> `4`\n",
    "\n",
    "- `std::cout` cũng có thể được dùng để in giá trị của các biến:\n",
    ">```\n",
    ">#include <iostream> // Bao gồm header iostream để sử dụng std::cout\n",
    ">\n",
    ">int main()\n",
    ">{\n",
    ">    int x { 5 }; // Khai báo biến x kiểu int và khởi tạo giá trị 5\n",
    ">    std::cout << x; // In giá trị của x (5) ra màn hình console\n",
    ">\n",
    ">    return 0;\n",
    ">}\n",
    ">```\n",
    "- Để in nhiều thứ trên cùng một dòng, toán tử chèn (`<<`) có thể được sử dụng nhiều lần trong một câu lệnh duy nhất để nối (liên kết) nhiều đoạn xuất ra thành một chuỗi.\n",
    "- Ví dụ:\n",
    ">```\n",
    ">#include <iostream> // Bao gồm header iostream để sử dụng std::cout\n",
    ">\n",
    ">int main()\n",
    ">{\n",
    ">    std::cout << \"Hello\" << \" world!\";\n",
    ">    return 0;\n",
    ">}\n",
    ">```\n",
    "\n",
    "    Chương trình này sẽ in ra:\n",
    "> `Hello world!`\n",
    "- Ví dụ in cả text và giá trị biến:\n",
    ">```\n",
    ">#include <iostream> // Bao gồm header iostream để sử dụng std::cout\n",
    ">\n",
    ">int main()\n",
    ">{\n",
    ">    int x { 5 };\n",
    ">    std::cout << \"x is equal to: \" << x;\n",
    ">    return 0;\n",
    ">}\n",
    ">```\n",
    "\n",
    "    Chương trình này sẽ in ra:\n",
    ">`x is equal to: 5`\n",
    "\n",
    "<u>Lưu ý về tiền tố `std::`</u>\n",
    "\n",
    "Giải thích về tiền tố `std::` sẽ được đề cập trong bài học **2.9 - Xung đột tên và Giới thiệu về Namespaces.**"
   ]
  },
  {
   "cell_type": "markdown",
   "id": "83636813-d2b8-4653-9cca-32b4d9a51582",
   "metadata": {},
   "source": [
    "### `std::endl`"
   ]
  },
  {
   "cell_type": "markdown",
   "id": "e499ac48-0933-4fa4-bfdc-74cfba0d369c",
   "metadata": {},
   "source": [
    "- Bạn có thể nghĩ chương trình này sẽ in ra gì?\n",
    ">```\n",
    ">#include <iostream> // Bao gồm header iostream để sử dụng std::cout\n",
    ">\n",
    ">int main()\n",
    ">{\n",
    ">    std::cout << \"Hi!\";\n",
    ">    std::cout << \"My name is Alex.\";\n",
    ">    return 0;\n",
    ">}\n",
    ">```\n",
    "\n",
    "    Kết quả có thể khiến bạn bất ngờ:\n",
    "    >`Hi!My name is Alex.`\n",
    "\n",
    "- Các câu lệnh in riêng biệt (`std::cout`) không nhất thiết dẫn đến in ra các dòng riêng biệt trên console.\n",
    "- **In xuống dòng chủ động:**\n",
    "    - Nếu muốn in ra các dòng riêng biệt trên console, chúng ta cần thông báo cho console biết khi nào di chuyển con trỏ xuống dòng.\n",
    "    - Một cách để thực hiện điều đó là sử dụng `std::endl`. Khi được xuất ra với `std::cout`, `std::endl` sẽ in một ký tự xuống dòng (`\\n`) vào console (khiến con trỏ nhảy đến đầu dòng tiếp theo). Trong ngữ cảnh này, `endl` là viết tắt của \"end line\" (kết thúc dòng).\n",
    "- Ví dụ:\n",
    ">```\n",
    ">#include <iostream> // Bao gồm header iostream để sử dụng std::cout và std::endl\n",
    ">\n",
    ">int main()\n",
    ">{\n",
    ">    std::cout << \"Hi!\" << std::endl; // std::endl sẽ khiến con trỏ nhảy xuống dòng tiếp theo\n",
    ">    std::cout << \"My name is Alex.\" << std::endl;\n",
    ">\n",
    ">    return 0;\n",
    ">}\n",
    ">```\n",
    "\n",
    "    Chương trình này sẽ in ra:\n",
    "    >`Hi!`\\\n",
    "    >`My name is Alex.`\n",
    "\n",
    ">**Mẹo:**\n",
    ">Mẹo về `std::endl`:\n",
    ">\n",
    ">Trong chương trình trên, `std::endl` thứ hai về mặt kỹ thuật không cần thiết, vì chương trình kết thúc ngay sau đó. Tuy nhiên, nó có một vài mục đích hữu ích.\n",
    ">\n",
    ">Thứ nhất, nó giúp chỉ ra rằng dòng xuất ra là một \"hoàn chỉnh\" (chứ không phải là đầu ra một phần được hoàn thành ở đâu đó sau trong code). Theo nghĩa này, nó hoạt động tương tự như việc sử dụng dấu chấm trong tiếng Anh.\n",
    ">\n",
    ">Thứ hai, nó đặt con trỏ trên dòng tiếp theo, vì vậy nếu sau này chúng ta thêm các dòng xuất ra bổ sung (ví dụ: yêu cầu chương trình nói \"bye!\"), các dòng đó sẽ xuất hiện ở vị trí mong đợi (chứ không phải được nối vào dòng xuất ra trước đó).\n",
    ">\n",
    ">Thứ ba, sau khi chạy một file thực thi từ dòng lệnh, một số hệ điều hành không xuất ra dòng mới trước khi hiển thị lại dấu nhắc lệnh. Nếu chương trình của chúng ta không kết thúc với con trỏ trên một dòng mới, dấu nhắc lệnh có thể xuất hiện được nối vào dòng xuất ra trước đó, thay vì ở đầu dòng mới như người dùng mong đợi.\n",
    ">\n",
    "\n"
   ]
  },
  {
   "cell_type": "markdown",
   "id": "3d296a04-ff52-4e32-bed2-1577722232bc",
   "metadata": {},
   "source": [
    "### **`std::cout` được đệm (buffered)**"
   ]
  },
  {
   "cell_type": "markdown",
   "id": "684e4c71-2fe6-4b4a-afad-302c76700c7f",
   "metadata": {},
   "source": [
    "Hãy tưởng tượng về một tàu lượn siêu tốc ở công viên giải trí yêu thích của bạn. Khách tham quan đến (với tốc độ thay đổi) và xếp hàng. Theo định kỳ, một toa tàu đến và chở khách (tối đa bằng sức chứa của toa tàu). Khi toa tàu đầy hoặc đủ thời gian đã trôi qua, toa tàu khởi hành với một nhóm hành khách và bắt đầu chuyến đi. Bất kỳ hành khách nào không thể lên toa tàu hiện tại sẽ đợi toa tàu tiếp theo.\n",
    "\n",
    "Cách thức hoạt động này tương tự như cách dữ liệu xuất ra được gửi đến `std::cout` thường được xử lý trong C++. Các câu lệnh trong chương trình của chúng ta yêu cầu gửi dữ liệu xuất ra cho console. Tuy nhiên, dữ liệu xuất ra đó thường không được gửi ngay lập tức tới console. Thay vào đó, dữ liệu xuất ra được yêu cầu sẽ \"xếp hàng\" và được lưu trữ trong một vùng nhớ được dành riêng để thu thập các yêu cầu như vậy (gọi là **bộ đệm** - **buffer**). Định kỳ, bộ đệm sẽ được \"xả\" (`flush`), nghĩa là tất cả dữ liệu được thu thập trong bộ đệm được chuyển đến đích của nó (trong trường hợp này là console).\n",
    "\n"
   ]
  },
  {
   "cell_type": "markdown",
   "id": "9d7adf17-befd-41ad-9ce0-08aafede60f8",
   "metadata": {},
   "source": [
    "> **Chú thích của tác giả:**\\\n",
    "> Theo một phép ẩn dụ khác, việc xả bộ đệm giống như xả nước bồn cầu. Tất cả \"dữ liệu xuất ra\" được thu thập của bạn sẽ được chuyển đến bất cứ nơi nào nó sẽ đến tiếp theo. (Không hay cho lắm!)\n",
    "\n",
    "Điều này cũng có nghĩa là nếu chương trình của bạn bị lỗi, dừng đột ngột (abort) hoặc tạm dừng (ví dụ: để gỡ lỗi) trước khi bộ đệm được xả, bất kỳ dữ liệu xuất ra nào vẫn còn chờ trong bộ đệm sẽ không được hiển thị.\n",
    "\n"
   ]
  },
  {
   "cell_type": "markdown",
   "id": "a5001627-1c5d-4149-a03e-f7cb12076e92",
   "metadata": {},
   "source": [
    "> **Lưu ý quan trọng:**\n",
    ">\n",
    ">Trái ngược với xuất ra được đệm là xuất ra không được đệm (unbuffered output). Với xuất ra không được đệm, mỗi yêu cầu xuất ra riêng lẻ sẽ được gửi trực tiếp đến thiết bị đầu ra.\n",
    ">\n",
    ">Viết dữ liệu vào bộ đệm thường nhanh, trong khi truyền một loạt dữ liệu đến thiết bị đầu ra thì tương đối chậm. Việc đệm có thể cải thiện hiệu suất đáng kể bằng cách giảm thiểu số lượng truyền chậm cần thực hiện khi có nhiều yêu cầu xuất ra."
   ]
  },
  {
   "cell_type": "markdown",
   "id": "b44a0087-6375-402d-9868-7360f47d936c",
   "metadata": {},
   "source": [
    "### **`std::endl` vs ‘`\\n`’**\n",
    "\n"
   ]
  },
  {
   "cell_type": "markdown",
   "id": "869aad2c-db24-4fac-b163-6fb8d2eb39fb",
   "metadata": {},
   "source": [
    "Trong C++, `std::endl` và '`\\n`' đều được sử dụng để in xuống dòng, nhưng chúng có sự khác biệt về mặt hiệu quả:\n",
    "- `std::endl`:\n",
    "    - Thực hiện hai tác vụ:\n",
    "        - Di chuyển con trỏ xuống dòng tiếp theo trên console.\n",
    "        - Xả (flush) bộ đệm của `std::cout`. Bộ đệm là một vùng nhớ tạm thời lưu trữ dữ liệu xuất ra trước khi gửi đến console.\n",
    "    - Xả bộ đệm có thể hơi kém hiệu quả vì nó liên quan đến việc ghi dữ liệu ra thiết bị đầu ra ngay cả khi chưa cần thiết.\n",
    "- '`\\n`'\n",
    "    - Chỉ thực hiện một tác vụ: di chuyển con trỏ xuống dòng tiếp theo.\n",
    "    - Không xả bộ đệm. Hệ thống sẽ tự động xả bộ đệm theo định kỳ, thường là một cách hiệu quả hơn.\n",
    "    - Thường được ưu tiên sử dụng hơn vì nó:\n",
    "        - Hiệu quả hơn: Tránh việc xả bộ đệm không cần thiết.\n",
    "        - Gọn nhẹ hơn: Dễ gõ hơn `std::endl`.\n",
    "        - Linh hoạt hơn: Có thể nhúng vào trong chuỗi ký tự.\n",
    "    - Ví dụ:\n",
    "    >```\n",
    "    >#include <iostream> // for std::cout\n",
    "    >\n",
    "    >int main()\n",
    "    >{\n",
    "    >    int x { 5 };\n",
    "    >    std::cout << \"x is equal to: \" << x << '\\n'; // Sử dụng '\\n' đơn lẻ\n",
    "    >    std::cout << \"And that's all, folks!\\n\"; // Nhúng '\\n' vào chuỗi ký tự (dùng dấu ngoặc kép đôi, không dùng đơn)\n",
    "    >    return 0;\n",
    "    >}\n",
    "    >```\n",
    "\n",
    "    - Kết quả:\n",
    "    >`x is equal to: 5`\\\n",
    "    >`And that's all, folks!`\n",
    "  - Lưu ý về cách sử dụng ký tự xuống dòng ('`\\n`')\n",
    "    - Khi sử dụng một mình để xuống dòng, '`\\n`' cần được đặt trong dấu ngoặc đơn.\n",
    "    - Khi nhúng vào chuỗi ký tự được bao bọc bởi dấu ngoặc kép đôi, không cần thêm dấu ngoặc đơn cho '`\\n`'."
   ]
  },
  {
   "cell_type": "markdown",
   "id": "82d3a4cd-5a87-4aae-975c-6ae024423582",
   "metadata": {},
   "source": [
    ">**Thực hành tốt nhất:**\\\n",
    ">Sử dụng '`\\n`' thay vì `std::endl` khi in ra văn bản trên console để cải thiện hiệu suất.\n",
    "\n",
    ">**Cảnh báo:**\n",
    "> - '`\\n`' sử dụng dấu gạch chéo ngược (`\\`) để biểu thị ký tự đặc biệt (giống như tất cả các ký tự đặc biệt trong C++), không phải là dấu gạch chéo xuôi (`/`).\n",
    "> - Sử dụng dấu g/ạch chéo xuôi (`/n`) hoặc bao gồm các ký tự khác bên trong dấu ngoặc đơn (ví dụ: '` \\n`' hoặc '`.\\n') sẽ dẫn đến kết quả không mong đợi."
   ]
  },
  {
   "cell_type": "markdown",
   "id": "f33c136d-064a-45e8-9baf-7c66a7d5e6b1",
   "metadata": {},
   "source": [
    "### `std::cin`"
   ]
  },
  {
   "cell_type": "markdown",
   "id": "1a24c3e9-9f6e-4441-82d4-d39c1e540d6e",
   "metadata": {},
   "source": [
    "- `std::cin` là một biến được định sẵn khác trong thư viện `iostream`.\n",
    "- Trong khi `std::cout` in dữ liệu ra console sử dụng toán tử chèn (`<<`), thì `std::cin` (viết tắt của \"character input\" - nhập ký tự) đọc dữ liệu nhập từ bàn phím bằng toán tử trích xuất (`>>`).\n",
    "- Dữ liệu nhập phải được lưu trữ trong một biến để sử dụng.\n",
    "- Ví dụ:\n",
    ">```\n",
    ">#include <iostream>\n",
    ">\n",
    ">int main () {\n",
    ">\tint x;   // định nghĩa biến x để chứa đầu vào của người dùng (và khởi tạo giá trị cho nó)\n",
    ">\tstd::cout << \"Enter a number: \";\t// yêu cầu người dùng nhập số\n",
    ">\tstd::cin >> x;                      // lấy số từ bàn phím và lưu trữ trong biến x\n",
    ">\tstd::cout << \"You entered \" << x << '\\n';\n",
    ">\treturn 0;\n",
    ">}\n",
    ">```\n",
    "\n",
    "Hãy thử biên dịch và chạy chương trình này. Khi bạn chạy chương trình, dòng `5` sẽ in ra \"`Enter a number: `\". Khi mã đến dòng `8`, chương trình sẽ chờ bạn nhập dữ liệu. Sau khi bạn nhập một số (và nhấn `enter`), số bạn nhập sẽ được gán cho biến `x`. Cuối cùng, trên dòng `10`, chương trình sẽ in ra \"`You entered `\" theo sau là số bạn vừa nhập.\n",
    "\n",
    "Ví dụ (tôi nhập 4):\n",
    ">`Enter a number: 4`\\\n",
    ">`You entered 4`\n",
    " \n",
    "Đây là một cách đơn giản để lấy dữ liệu nhập từ bàn phím của người dùng và chúng ta sẽ sử dụng nó trong nhiều ví dụ sắp tới. Lưu ý rằng bạn không cần sử dụng '`\\n`' khi chấp nhận đầu vào, vì người dùng sẽ cần nhấn phím `enter` để đầu vào của họ được chấp nhận và điều này sẽ di chuyển con trỏ xuống dòng tiếp theo trên console.\n",
    "\n",
    "**Đọc nhiều số trên một dòng:**\n",
    "- Trong C++, bạn có thể sử dụng toán tử trích xuất (`>>`) để đọc nhiều giá trị được phân cách bởi khoảng trắng (thường là dấu cách hoặc tab) từ đầu vào tiêu chuẩn (`std::cin`) và lưu trữ chúng vào các biến khác nhau.\n",
    "- Dưới đây là một ví dụ được cải tiến kết hợp các phương pháp hay nhất:\n",
    "\n",
    ">```\n",
    ">#include <iostream>  // for std::cout and std::cin\n",
    ">\n",
    ">int main()\n",
    ">{\n",
    ">    std::cout << \"Enter two numbers seperated by a space: \";\n",
    ">\n",
    ">    int x, y;       // define variable x and y to hold user input\n",
    ">    std::cin >> x >> y; // get number from keyboard and store it in variable x\n",
    ">\n",
    ">    std::cout << \"You entered \" << x << \" and \" << y << '\\n';\n",
    ">    return 0;\n",
    ">}\n",
    ">```\n",
    "\n",
    "- Chương trình sẽ in ra:\n",
    ">`Enter two numbers seperated by a space:  5 6`\\\n",
    ">`You entered 5 and 6`\n",
    "\n",
    ">**Thực tiễn**\\\n",
    ">Mặc dù giá trị do người dùng cung cấp từ `std::cin` cuối cùng sẽ ghi đè lên giá trị khởi tạo, nhưng có một số lý do chính đáng để khởi tạo biến trước khi sử dụng chúng với `std::cin`:\n",
    "> - **Rõ ràng và minh bạch**: Khởi tạo làm cho code của bạn dễ đọc hơn và thể hiện rõ ràng về kiểu dữ liệu dự định và giá trị mặc định tiềm năng của biến. Nó làm rõ rằng biến không được sử dụng trong trạng thái chưa được khởi tạo, điều này có thể dẫn đến hành vi không mong đợi.\n",
    "> - **Xử lý lỗi**: Nếu `std::cin` gặp phải đầu vào không hợp lệ không thể chuyển đổi thành kiểu biến mong đợi (ví dụ: nhập chuỗi trong khi cần số nguyên), trạng thái của biến sẽ `become undefined` (trở nên không xác định). Tuy nhiên, nếu biến được khởi tạo trước, bạn có thể có một giá trị mặc định đã biết để làm việc, `potentially aiding in error handling` (có khả năng hỗ trợ trong việc xử lý lỗi).\n",
    "> - **Tính nhất quán**: Thực thi việc khởi tạo như một practice (thực hành) chung thúc đẩy phong cách code nhất quán và giảm thiểu rủi ro gây ra lỗi do vô tình sử dụng các biến chưa được khởi tạo ở các phần khác của code.\n",
    "\n",
    "\n",
    "\n",
    "\n",
    "\n"
   ]
  },
  {
   "cell_type": "markdown",
   "id": "140e2fba-6da6-4742-b063-5ab72be20cc5",
   "metadata": {},
   "source": [
    "## **Bài 1.6: <u>Biến chưa được khởi tạo trong C/C++</u>**"
   ]
  },
  {
   "cell_type": "markdown",
   "id": "a74ea488-aa49-4534-a994-a9ae92ff3cae",
   "metadata": {},
   "source": [
    "**Không giống như một số ngôn ngữ lập trình khác, C/C++ không tự động khởi tạo hầu hết các biến thành một giá trị nhất định (chẳng hạn như 0).** Khi một biến chưa được khởi tạo được cấp một địa chỉ bộ nhớ để lưu trữ dữ liệu, giá trị mặc định của biến đó là bất kỳ giá trị \"rác\" (garbage value) nào có sẵn trong địa chỉ bộ nhớ đó! Biến chưa được gán một giá trị đã biết (thông qua khởi tạo hoặc gán) được gọi là **biến chưa được khởi tạo** (**uninitialized variable**).\n",
    "\n",
    ">**Thuật ngữ**\\\n",
    ">Nhiều người đọc mong đợi các thuật ngữ \"được khởi tạo\" (**initialized**) và \"chưa được khởi tạo\" (**uninitialized**) là hoàn toàn đối lập, nhưng chúng không hẳn như vậy! Trong ngôn ngữ thông thường, \"được khởi tạo\" có nghĩa là đối tượng được cung cấp một giá trị ban đầu tại thời điểm khai báo. \"Chưa được khởi tạo\" có nghĩa là đối tượng chưa được gán một giá trị đã biết (bằng bất kỳ phương thức nào, bao gồm cả gán). Do đó, một đối tượng không được khởi tạo nhưng sau đó được gán một giá trị thì không còn là chưa được khởi tạo (bởi vì nó đã được cung cấp một giá trị đã biết).\n",
    "\n",
    ">**Tóm tắt**\n",
    ">- Khởi tạo = Đối tượng được cung cấp một giá trị đã biết tại thời điểm khai báo.\n",
    ">- Gán = Đối tượng được cung cấp một giá trị đã biết sau thời điểm khai báo.\n",
    ">- Chưa được khởi tạo = Đối tượng chưa được cung cấp một giá trị đã biết.\n",
    "\n",
    "Liên quan đến điều đó, hãy xem xét định nghĩa biến này:\n",
    ">`int x;`\n",
    "\n",
    "Trong bài học **1.4 - Gán và khởi tạo biến**, chúng tôi đã lưu ý rằng khi không cung cấp trình khởi tạo, biến sẽ được khởi tạo mặc định. Trong hầu hết các trường hợp (chẳng hạn như trường hợp này), khởi tạo mặc định không thực hiện khởi tạo thực tế. Do đó, chúng ta có thể nói `x` là chưa được khởi tạo. Chúng ta tập trung vào kết quả (đối tượng chưa được cung cấp một giá trị đã biết), chứ không phải quá trình.\n",
    "\n",
    ">**Ngoài lề**\\\n",
    ">Sự thiếu khởi tạo này là một tối ưu hóa hiệu suất được thừa hưởng từ C, quay lại thời điểm máy tính còn chậm. Hãy tưởng tượng trường hợp bạn sẽ đọc 100.000 giá trị từ một file. Trong trường hợp đó, bạn có thể tạo 100.000 biến, sau đó điền chúng bằng dữ liệu từ file.\n",
    ">\n",
    ">Nếu C++ khởi tạo tất cả các biến đó với các giá trị mặc định khi tạo, điều này sẽ dẫn đến 100.000 lần khởi tạo (có thể chậm) và mang lại lợi ích rất ít (vì bạn đang ghi đè lên các giá trị đó dù sao).\n",
    ">\n",
    ">Hiện tại, bạn luôn nên khởi tạo các biến của mình vì chi phí thực hiện việc đó không đáng kể so với lợi ích. Khi bạn đã thoải mái hơn với ngôn ngữ, có thể có một số trường hợp nhất định bạn bỏ qua việc khởi tạo vì mục đích tối ưu hóa. Nhưng điều này luôn được thực hiện một cách chọn lọc và cố ý.\n",
    "\n",
    "**Sử dụng giá trị của các biến chưa được khởi tạo có thể dẫn đến kết quả không mong đợi.** Hãy xem xét chương trình ngắn sau đây:\n",
    ">```\n",
    ">#include <iostream>\n",
    ">\n",
    ">int main()\n",
    ">{\n",
    ">    // Định nghĩa một biến integer có tên x\n",
    ">    int x; // Biến này chưa được khởi tạo vì chúng tôi chưa gán giá trị cho nó\n",
    ">\n",
    ">    // In giá trị của x lên màn hình\n",
    ">    std::cout << x << '\\n'; // Ai biết chúng ta sẽ nhận được gì, vì x chưa được khởi tạo\n",
    ">\n",
    ">    return 0;\n",
    ">}\n",
    ">```\n",
    "\n",
    "Trong trường hợp này, máy tính sẽ gán một số bộ nhớ chưa sử dụng cho `x`. Sau đó, nó sẽ gửi giá trị nằm trong vị trí bộ nhớ đó tới `std::cout`, giá trị này sẽ in giá trị (được hiểu là số nguyên). Nhưng nó sẽ in ra giá trị gì? Câu trả lời là “ai biết được!”, và câu trả lời có thể (hoặc không) thay đổi mỗi khi bạn chạy chương trình. Khi tác giả chạy chương trình này trong Visual Studio, `std::cout` đã in giá trị `7177728` một lần và `5277592` tiếp theo. Hãy thoải mái biên dịch và chạy chương trình (máy tính của bạn sẽ không nổ đâu).\n"
   ]
  },
  {
   "cell_type": "markdown",
   "id": "faec6ed7-0a90-4547-abcc-81b51760a050",
   "metadata": {},
   "source": [
    "Hầu hết các trình biên dịch hiện đại sẽ cố gắng phát hiện xem một biến có đang được sử dụng mà chưa được gán giá trị hay không. Nếu phát hiện \n",
    "được, chúng thường sẽ đưa ra cảnh báo hoặc lỗi thời gian biên dịch. Ví dụ, biên dịch chương trình trên trong Visual Studio sẽ tạo ra cảnh báo sau:\n",
    "\n",
    ">`c:\\VCprojects\\test\\test.cpp(11) : warning C4700: uninitialized local variable 'x' used`\n",
    "\n",
    "Đối với `g++`:\n",
    ">```\n",
    ">exp1_6a.cpp: In function ‘int main()’:\n",
    ">exp1_6a.cpp:9:23: error: ‘x’ is used uninitialized [-Werror=uninitialized]\n",
    ">    9 |     std::cout << x << '\\n'; // Ai biết chúng ta sẽ nhận được\n",
    "> gì, vì x chưa được khởi tạo\n",
    ">      |                       ^~~~\n",
    ">exp1_6a.cpp:6:9: note: ‘x’ was declared here\n",
    ">    6 |     int x; // Biến này chưa được khởi tạo vì chúng tôi chưa \n",
    ">gán giá trị cho nó\n",
    ">      |         ^\n",
    ">cc1plus: all warnings being treated as errors\n",
    ">```\n",
    "\n",
    "Nếu trình biên dịch của bạn không cho phép biên dịch và chạy chương trình trên (ví dụ: vì nó coi vấn đề này là lỗi), thì đây là một giải pháp khả thi để giải quyết vấn đề này:\n",
    "\n",
    ">```\n",
    ">#include <iostream>\n",
    ">\n",
    ">void doNothing(int&) // Đừng lo lắng về '&' là gì lúc này, chúng tôi chỉ sử dụng nó để đánh lừa trình biên dịch nghĩ rằng biến x được sử dụng\n",
    ">{\n",
    ">}\n",
    ">\n",
    ">int main()\n",
    ">{\n",
    ">    // Khai báo biến nguyên x\n",
    ">    int x; // Biến này chưa được khởi tạo\n",
    ">\n",
    ">    doNothing(x); // Đánh lừa trình biên dịch nghĩ rằng chúng ta đang gán giá trị cho biến này\n",
    ">\n",
    ">    // In giá trị của x lên màn hình (ai biết được chúng ta sẽ nhận được gì, vì x chưa được khởi tạo).\n",
    ">    std::cout << x << '\\n';\n",
    ">\n",
    ">    return 0;\n",
    ">}\n",
    "\n",
    "Sử dụng biến chưa được khởi tạo là một trong những lỗi phổ biến nhất mà lập trình viên mới mắc phải và không may, nó cũng có thể là một trong những lỗi khó gỡ lỗi nhất (vì chương trình vẫn có thể chạy tốt nếu biến chưa được khởi tạo tình cờ được gán vào một vùng nhớ có giá trị hợp lý, chẳng hạn như 0).\n",
    "\n",
    "Đây là lý do chính cho nguyên tắc hay thực hành tốt nhất là *“luôn khởi tạo các biến của bạn”*.\n"
   ]
  },
  {
   "cell_type": "markdown",
   "id": "1c6902a8-71d3-4acc-9cb6-be9a3a7fe7d9",
   "metadata": {},
   "source": [
    "### **Hành vi bất định (Undefined Behavior)**\n"
   ]
  },
  {
   "cell_type": "markdown",
   "id": "1ed393b8-7aff-4ae5-a8ba-b6c167e246b0",
   "metadata": {},
   "source": [
    "Sử dụng giá trị từ một biến chưa được khởi tạo là ví dụ đầu tiên của chúng tôi về hành vi bất định (undefined behavior). Hành vi bất định (thường được viết tắt là UB) là kết quả của việc thực thi đoạn mã mà hành vi của nó không được xác định rõ ràng bởi ngôn ngữ C++. Trong trường hợp này, ngôn ngữ C++ không có bất kỳ quy tắc nào quy định điều gì sẽ xảy ra nếu bạn sử dụng giá trị của một biến chưa được gán giá trị đã biết. Do đó, nếu bạn thực sự làm điều này, hành vi bất định sẽ xảy ra.\n",
    "\n",
    "Mã triển khai hành vi bất định có thể biểu hiện bất kỳ triệu chứng nào sau đây:\n",
    "- Chương trình của bạn tạo ra các kết quả khác nhau mỗi lần chạy.\n",
    "- Chương trình của bạn luôn tạo ra cùng một kết quả không chính xác.\n",
    "- Chương trình của bạn hoạt động không nhất quán (đôi khi tạo ra kết quả chính xác, đôi khi không).\n",
    "- Chương trình của bạn dường như hoạt động nhưng tạo ra kết quả không chính xác sau này trong chương trình.\n",
    "- Chương trình của bạn bị treo, ngay lập tức hoặc sau đó.\n",
    "- Chương trình của bạn hoạt động trên một số trình biên dịch nhưng không hoạt động trên các trình biên dịch khác.\n",
    "- Chương trình của bạn hoạt động cho đến khi bạn thay đổi một số đoạn mã khác dường như không liên quan.\n",
    "\n",
    ">**Lưu ý của tác giả:**\\\n",
    ">Hành vi bất định giống như một hộp sôcôla. Bạn không bao giờ biết mình sẽ nhận được gì!\n",
    "\n",
    "C++ chứa nhiều trường hợp có thể dẫn đến hành vi bất định nếu bạn không cẩn thận. Chúng tôi sẽ chỉ ra những điều này trong các bài học tương lai bất cứ khi nào chúng tôi gặp chúng. Hãy ghi nhớ những trường hợp này và đảm bảo bạn tránh chúng.\n",
    "\n",
    ">**Nguyên tắc:**\\\n",
    ">Cẩn thận tránh tất cả các tình huống dẫn đến hành vi bất định, chẳng hạn như sử dụng biến chưa được khởi tạo.\n"
   ]
  },
  {
   "cell_type": "markdown",
   "id": "ebe2e9f8-ea68-4b43-bad3-1ba6a04a4da3",
   "metadata": {},
   "source": [
    "### **Hành vi phụ thuộc trình biên dịch (Implementation-defined behavior) và hành không được chỉ định rõ ràng (Unspecified behavior)**\n",
    "\n"
   ]
  },
  {
   "cell_type": "markdown",
   "id": "10d2beb1-b037-4e6b-bdd8-21f780d0073e",
   "metadata": {},
   "source": [
    "#### <u>*Hành vi phụ thuộc trình biên dịch:*</u>"
   ]
  },
  {
   "cell_type": "markdown",
   "id": "a46a9b0c-de63-417a-9145-17d072550c64",
   "metadata": {},
   "source": [
    "- Đây là cách xử lý của một số cú pháp nhất định do trình biên dịch (compiler) quyết định.\n",
    "- Các hành vi này phải nhất quán và được ghi nhận trong tài liệu của trình biên dịch, nhưng kết quả có thể khác nhau giữa các trình biên dịch khác nhau.\n",
    "- **Ví dụ:**\n",
    ">```\n",
    ">#include <iostream>\n",
    ">\n",
    ">int main() {\n",
    ">  std::cout << sizeof(int) << '\\n'; // In ra kích thước bộ nhớ cần thiết cho một kiểu int\n",
    ">  return 0;\n",
    ">}\n",
    ">```\n",
    "\n",
    "    Trong hầu hết các hệ thống, đoạn code này sẽ in ra giá trị `4`, nhưng trên một số hệ thống khác, nó có thể in ra giá trị `2`. Điều này phụ thuộc vào cách trình biên dịch trên từng nền tảng phân bổ bộ nhớ cho kiểu dữ liệu `int`.\n",
    "\n",
    "\n"
   ]
  },
  {
   "cell_type": "markdown",
   "id": "3514b81b-10c8-4258-b928-c33c97a3ec45",
   "metadata": {
    "jp-MarkdownHeadingCollapsed": true
   },
   "source": [
    "#### <u>*Hành vi không được chỉ định rõ ràng (Unspecified Behaviour):*</u>"
   ]
  },
  {
   "cell_type": "markdown",
   "id": "e7f40a86-45e3-4c1f-9efe-522a44035546",
   "metadata": {},
   "source": [
    "- Giống với hành vi phụ thuộc trình biên dịch, hành vi không được chỉ định rõ ràng phụ thuộc vào cách trình biên dịch xử lý, nhưng không bắt trình biên dịch phải ghi nhận lại hành vi đó.\n",
    "Ví dụ: \n",
    "- Thứ tự đánh giá (evaluate) các biểu thức con, thứ tự đánh giá các đối số truyền vào hàm là không được chỉ định rõ ràng, đây là unspecified behaviour."
   ]
  },
  {
   "cell_type": "markdown",
   "id": "213a1990-4245-472f-9bba-74fabad3c2ce",
   "metadata": {},
   "source": [
    "#### *Tại sao nên tránh*"
   ]
  },
  {
   "cell_type": "markdown",
   "id": "41431e9e-6c8b-4dc4-92b2-8d538c7de110",
   "metadata": {},
   "source": [
    "Cả hai loại hành vi lỗi này đều có thể dẫn đến việc chương trình hoạt động không như mong đợi khi được biên dịch trên một trình biên dịch khác, hoặc thậm chí trên cùng một trình biên dịch nếu bạn thay đổi các cài đặt dự án ảnh hưởng đến cách thức hoạt động của trình biên dịch."
   ]
  },
  {
   "cell_type": "markdown",
   "id": "4de7d671-c5e6-469c-ae6a-d923917a53a5",
   "metadata": {},
   "source": [
    "## <u>**Bài 1.7: Từ khóa và cách đặt tên định danh**</u>"
   ]
  },
  {
   "cell_type": "markdown",
   "id": "b348f22f-a070-4a24-835b-f3e5b6d06c1f",
   "metadata": {},
   "source": [
    "C++ dành riêng một bộ gồm 92 từ (tính đến C++23) được định nghĩa sẵn. Những từ này được gọi là từ khóa (hoặc từ dành riêng), mỗi từ khóa đều có một ý nghĩa đặc biệt trong ngôn ngữ C++."
   ]
  },
  {
   "cell_type": "markdown",
   "id": "07119c99-60fb-430c-abef-535a7be78efa",
   "metadata": {},
   "source": [
    "| `alignas`<br>`alignof`<br>`and`<br>`and_eq`<br>`asm`<br>`auto`<br>`bitand`<br>`bitor`<br>`bool`<br>`break`<br>`case`<br>`catch`<br>`char`<br>`char8_t` (since `C++20`)<br>`char16_t`<br>`char32_t`<br>`class`<br>`compl`<br>`concept` (since `C++20`)<br>`const`<br>`consteval` (since `C++20`)<br>`constexpr`<br>`constinit` (since `C++20`) | `const_cast`<br>`continue`<br>`co_await` (since `C++20`)<br>`co_return` (since `C++20`)<br>`co_yield` (since `C++20`)<br>`decltype`<br>`default`<br>`delete`<br>`do`<br>`double`<br>`dynamic_cast`<br>`else`<br>`enum`<br>`explicit`<br>`export`<br>`extern`<br>`false`<br>`float`<br>`for`<br>`friend`<br>`goto`<br>`if`<br>`inline` | `int`<br>`long`<br>`mutable`<br>`namespace`<br>`new`<br>`noexcept`<br>`not`<br>`not_eq`<br>`nullptr`<br>`operator`<br>`or`<br>`or_eq`<br>`private`<br>`protected`<br>`public`<br>`register`<br>`reinterpret_cast`<br>`requires` (since `C++20`)<br>`return`<br>`short`<br>`signed`<br>`sizeof`<br>`static` | `static_assert`<br>`static_cast`<br>`struct`<br>`switch`<br>`template`<br>`this`<br>`thread_local`<br>`throw`<br>`true`<br>`try`<br>`typedef`<br>`typeid`<br>`typename`<br>`union`<br>`unsigned`<br>`using`<br>`virtual`<br>`void`<br>`volatile`<br>`wchar_t`<br>`while`<br>`xor`<br>`xor_eq` |\n",
    "|-----------------------------------------------------------------------------------------------------------------------------------------------------------------------------------------------------------------------------------------------------------------------------------------|-----------------------------------------------------------------------------------------------------------------------------------------------------------------------------------------------------------------------------------------------------------------------------------|------------------------------------------------------------------------------------------------------------------------------------------------------------------------------------------------------------------------------------------------------------|-------------------------------------------------------------------------------------------------------------------------------------------------------------------------------------------------------------------------------------------------|"
   ]
  },
  {
   "cell_type": "markdown",
   "id": "ed0785a3-f2df-48f0-aa07-8d56d4744c54",
   "metadata": {},
   "source": [
    ">Lưu ý: Các từ khóa được đánh dấu (C++20) được thêm vào trong C++20. Nếu trình biên dịch của bạn không hỗ trợ C++20 (hoặc có chức năng C++20 nhưng mặc định bị tắt), các từ khóa này có thể không hoạt động.\n",
    "\n",
    "C++ cũng định nghĩa các định danh đặc biệt: `override`, `final`, `import` và `module`. Chúng có ý nghĩa cụ thể khi được sử dụng trong một số ngữ cảnh nhất định nhưng không bị dành riêng trong các trường hợp khác.\n",
    "\n",
    "Bạn có thể đã gặp một số từ khóa này, bao gồm `int` và `return`. Cùng với một tập hợp các toán tử, các từ khóa và định danh đặc biệt này định nghĩa toàn bộ ngôn ngữ **C++** (ngoại trừ các lệnh tiền xử lý). Bởi vì từ khóa và định danh đặc biệt có ý nghĩa đặc biệt, IDE của bạn có thể thay đổi màu sắc của các từ này để làm chúng nổi bật so với các định danh khác.\n",
    "\n",
    "Khi hoàn thành loạt bài hướng dẫn này, bạn sẽ hiểu được ý nghĩa của hầu hết các từ khóa này!"
   ]
  },
  {
   "cell_type": "markdown",
   "id": "fbdfb82a-27b9-47a5-b8cb-5b40b17a18be",
   "metadata": {},
   "source": [
    "### **Quy tắc đặt tên cho định danh (Identifier naming rules)**"
   ]
  },
  {
   "cell_type": "markdown",
   "id": "dc188f4a-9fdb-4f76-a0b6-ff45268c4849",
   "metadata": {},
   "source": [
    "Như một lời nhắc nhở, tên của một biến (hoặc hàm, kiểu dữ liệu, hoặc loại đối tượng khác) được gọi là định danh (**identifier**). C++ cung cấp cho bạn nhiều sự linh hoạt để đặt tên cho các định danh theo ý muốn. Tuy nhiên, có một vài quy tắc cần tuân theo khi đặt tên cho định danh:"
   ]
  },
  {
   "cell_type": "markdown",
   "id": "25c29d7d-a0ea-42ad-a25b-4955eada65c9",
   "metadata": {},
   "source": [
    "**1. Không trùng với từ khóa:** Từ khóa là các từ được C++ dành riêng để sử dụng cho các mục đích nội bộ của ngôn ngữ và không thể được dùng làm tên cho các định danh.\\\n",
    "**2. Ký tự hợp lệ:** Tên định danh chỉ được bao gồm các ký tự sau:\\\n",
    "    - Chữ cái (in hoa hoặc thường)\\\n",
    "    - Số\\\n",
    "    - Ký tự gạch dưới (_) \\\n",
    "    **Lưu ý:** Không được chứa các ký hiệu khác (ngoại trừ dấu gạch dưới) hoặc khoảng trắng (dấu cách hoặc tab).\\\n",
    "**3. Bắt đầu bằng chữ cái hoặc dấu gạch dưới:** Tên định danh phải bắt đầu bằng một chữ cái (in hoa hoặc thường) hoặc dấu gạch dưới. Không được bắt đầu bằng số.\\\n",
    "**4. Phân biệt chữ hoa/thường:** **C++** phân biệt chữ hoa và chữ thường, do đó `nvalue` khác với `nValue` và khác với `NVALUE`.\n"
   ]
  },
  {
   "cell_type": "markdown",
   "id": "f2914b70-e219-423d-8ddc-78a684b59ad4",
   "metadata": {},
   "source": [
    "### **Quy tắc ngón tay cái về cách đặt tên định danh:**"
   ]
  },
  {
   "cell_type": "markdown",
   "id": "6af3a301-dea1-4e95-8703-d1c5bb960a55",
   "metadata": {},
   "source": [
    "Bây giờ bạn đã biết có thể đặt tên cho biến như thế nào, chúng ta hãy thảo luận về **nên** đặt tên cho biến (hoặc hàm) như thế nào."
   ]
  },
  {
   "cell_type": "markdown",
   "id": "c5a013cc-0785-41f4-9d67-a7130ebf3244",
   "metadata": {},
   "source": [
    "#### <u>*Quy tắc khuyên dùng:*</u>"
   ]
  },
  {
   "cell_type": "markdown",
   "id": "bc2168ff-48bf-4488-a1dd-12b2c63dc21f",
   "metadata": {},
   "source": [
    "1. **Chữ cái thường ở đầu:**\n",
    "- Theo quy ước trong C++, tên biến nên bắt đầu bằng một chữ cái thường. Nếu tên biến là một từ đơn hoặc viết tắt, toàn bộ tên nên được viết thường.\n",
    "\n",
    ">`int giaTri; // Theo quy ước (conventional)`\n",
    ">\n",
    ">`int GiaTri; // Không theo quy ước (nên bắt đầu bằng chữ thường)`\\\n",
    ">`int GIA_TRI; // Không theo quy ước (nên bắt đầu bằng chữ thường và viết toàn bộ chữ thường)`\\\n",
    ">`int GiATrI; // Không theo quy ước (bạn nên gặp bác sĩ tâm lý) ;)`\n",
    "\n",
    "2. **Tên hàm:**\n",
    "- Tên hàm thường cũng được bắt đầu bằng một chữ cái thường (mặc dù có một số ý kiến ​​khác nhau về điểm này). Chúng ta sẽ tuân theo quy ước này, vì hàm chính `main` (mà tất cả các chương trình phải có) bắt đầu bằng chữ thường, giống như tất cả các hàm trong thư viện chuẩn C++.\n",
    "3. **Chữ cái hoa cho kiểu dữ liệu:**\n",
    "- Tên định danh bắt đầu bằng chữ cái in hoa thường được sử dụng cho các kiểu dữ liệu do người dùng tự định nghĩa (chẳng hạn như cấu trúc (**struct**), lớp (**class**) và liệt kê (**enum**), tất cả sẽ được đề cập sau).\n",
    "4. **Cụm từ:**\n",
    "- Nếu tên biến hoặc hàm là nhiều từ, thì có hai quy ước phổ biến: phân cách các từ bằng dấu gạch dưới (đôi khi được gọi là `snake_case` (quy tắc con rắn)) hoặc viết hoa các chữ cái đầu (đôi khi được gọi là `camelCase` (quy tắc lạc đà), vì các chữ cái in hoa nhô lên giống như bướu trên lưng lạc đà).\n",
    "- Ví dụ:\n",
    ">`int ten_bien_cua_toi;  // Theo quy ước (phân cách bằng dấu gạch dưới/snake_case)`\\\n",
    ">`int ten_ham_cua_toi(); // Theo quy ước (phân cách bằng dấu gạch dưới/snake_case)`\n",
    ">\n",
    ">`int TenBienCuaToi;     // Theo quy ước (viết hoa các chữ cái đầu/camelCase)`\\\n",
    ">`int TenHamCuaToi();   // Theo quy ước (viết hoa các chữ cái đầu/camelCase)`\n",
    ">\n",
    ">`int ten bien cua toi;  // Không hợp lệ (khoảng trắng không được phép)`\\\n",
    ">`int ten ham cua toi(); // Không hợp lệ (khoảng trắng không được phép)`\n",
    ">\n",
    ">`int TenBienCuaToi;     // Không theo quy ước (nên bắt đầu bằng chữ thường)`\\\n",
    ">`int TenHamCuaToi();   // Không theo quy ước (nên bắt đầu bằng chữ thường)`\n",
    "\n",
    "Trong hướng dẫn này, chúng tôi thường sử dụng cách viết hoa các chữ cái đầu vì nó dễ đọc hơn (dễ dàng nhầm lẫn dấu gạch dưới với khoảng trắng trong các khối mã dày đặc). Nhưng thông thường, cả hai cách đều được sử dụng - thư viện chuẩn C++ sử dụng phương pháp dấu gạch dưới cho cả biến và hàm. Đôi khi bạn sẽ thấy sự kết hợp của cả hai: quy tắc con rắn được sử dụng cho biến và quy tắc lạc đà được sử dụng cho hàm.\n",
    "\n",
    "Điều đáng lưu ý là nếu bạn đang làm việc với mã của người khác, thì nhìn chung nên tuân theo phong cách của mã bạn đang làm việc hơn là tuân theo quy ước đặt tên một cách cứng nhắc như đã nêu ở trên.\n",
    "\n",
    ">**Thực tiễn:**\n",
    "> - Khi làm việc trong một chương trình hiện có, hãy sử dụng các quy ước của chương trình đó (ngay cả khi chúng không tuân theo các quy tắc hiện đại).\n",
    "> - Sử dụng các quy tắc được khuyên dùng ở trên khi bạn đang viết chương trình mới.\n"
   ]
  },
  {
   "cell_type": "markdown",
   "id": "6455415d-778d-4166-a186-599ed6a33d2f",
   "metadata": {},
   "source": [
    "#### <u>*Quy tắc nên tránh:*</u>"
   ]
  },
  {
   "cell_type": "markdown",
   "id": "9265cc38-aa40-41be-98f5-8ff4bbdd0420",
   "metadata": {},
   "source": [
    "5. **Tránh dấu gạch dưới ở đầu:**\n",
    "- Bạn nên tránh đặt tên định danh bắt đầu bằng dấu gạch dưới, vì những tên này thường được dành riêng cho hệ điều hành, thư viện hoặc trình biên dịch sử dụng.\n",
    "6. **Tên không rõ nghĩa:**\n",
    "- Thứ ba, tên định danh của bạn nên thể hiện rõ ràng ý nghĩa của giá trị mà chúng lưu trữ (đặc biệt nếu đơn vị giá trị biến không rõ ràng). Tên định danh nên được đặt tên theo cách giúp người không biết gì về mã của bạn có thể hiểu được nó nhanh nhất có thể. Ba tháng sau, khi bạn xem lại chương trình của mình, bạn sẽ quên cách hoạt động của nó và sẽ tự cảm ơn bản thân vì đã chọn những tên biến có ý nghĩa.\n",
    "- Tuy nhiên, đặt tên quá phức tạp cho một biến đơn giản sẽ cản trở việc hiểu tổng thể về những gì chương trình đang làm, gần giống như việc đặt tên không chính xác cho một định danh được sử dụng rộng rãi. Do đó, một nguyên tắc hay là làm cho độ dài của tên định danh tương ứng với mức độ phổ biến của nó. Một định danh có công dụng đơn giản có thể có tên ngắn (ví dụ: `i`). Một định danh được sử dụng rộng rãi hơn (ví dụ: hàm được gọi từ nhiều vị trí khác nhau trong chương trình) nên có tên dài hơn và mô tả nhiều hơn (ví dụ: thay vì `open`, hãy thử `openFileOnDisk`).\n",
    "\n"
   ]
  },
  {
   "cell_type": "markdown",
   "id": "2a0df066-27ea-4f6a-b8e8-f15c01db12d9",
   "metadata": {},
   "source": [
    ">`int dem_k; //không tốt, k nghĩa là gì sau dem`\\\n",
    ">`int soLuongKhachHang; //Tốt, thể hiện số lượng gì đang được đếm`\\\n",
    ">`int i; //Tùy trường hợp có thể tốt hoặc tệ`\\\n",
    ">`int chiSo; //Tùy trường hợp, nếu ta biết đang làm gì`\\\n",
    ">`int tongDiem; //Tùy trường hợp, tốt nếu chỉ có 1 tổng được tính, nếu không thì khá mơ hồ`\\\n",
    ">`int _dem; //Không tốt, tên biến không nên bắt đầu bằng dấu gạch dưới`\\\n",
    ">`int dem; //Tùy trường hợp, nếu chúng ta biết đang đếm cái gì`\\\n",
    ">`int data;\t//Không tốt, loại dữ liệu gì?`\\\n",
    ">`int time;\t//Không tốt, biến đếm thời gian theo đơn vị gì? Giờ, hay phút, giây?`\\\n",
    ">`int soPhutDaChay; //Tốt, mô tả rõ ràng`\\\n",
    ">`int giaTri1, giaTri2; //Tùy trường hợp, khó phân biệt giữa 2 biến`\\\n",
    ">`int soTao; //Tốt, mô tả rõ ràng`\\\n",
    ">`int soQuaiGietDuoc; //Tốt`\\\n",
    ">`int x, y; //Tùy trường hợp, có thể tốt hoặc không`"
   ]
  },
  {
   "cell_type": "markdown",
   "id": "1a43ac48-798b-401a-89fa-11b0b073fa47",
   "metadata": {},
   "source": [
    "7. **Tránh viết tắt:**\n",
    "- Trong mọi trường hợp, hãy tránh sử dụng các viết tắt (trừ khi chúng phổ biến/không gây nhầm lẫn). Mặc dù chúng giúp giảm thời gian bạn cần để viết code, nhưng chúng lại khiến code của bạn khó đọc hơn. Code được đọc nhiều hơn so với việc viết, thời gian bạn tiết kiệm khi viết code sẽ là thời gian mà mọi người đọc nó, bao gồm cả bạn trong tương lai, lãng phí khi đọc. Nếu bạn muốn viết code nhanh hơn, hãy sử dụng tính năng tự động hoàn thành (auto completion) của trình soạn thảo.\n",
    "8. **Lười comment:**\n",
    "- Đối với việc khai báo biến, việc sử dụng comment để mô tả biến sẽ được sử dụng để làm gì hoặc giải thích bất kỳ điều gì khác có thể không rõ ràng là rất hữu ích. Ví dụ: giả sử chúng tôi đã khai báo một biến có tên `soKyTu` được cho là lưu trữ số ký tự trong một đoạn văn bản. Đoạn văn bản **\"Hello World!\"** có 10, 11 hay 12 ký tự? Nó phụ thuộc vào việc chúng ta có bao gồm khoảng trắng hoặc dấu câu hay không. Thay vì đặt tên biến là `soKyTuBaoGomKhoangTrangVaDauCau`, thì một comment được đặt đúng chỗ trên hoặc bên trên dòng khai báo sẽ giúp người dùng hiểu được:\n",
    ">`// Số lượng ký tự trong một đoạn văn bản, bao gồm cả khoảng trắng và dấu câu`\\\n",
    ">`int soKyTu;`"
   ]
  },
  {
   "cell_type": "markdown",
   "id": "2194fc63-4b4f-4aee-a42c-45ce03a9e592",
   "metadata": {},
   "source": [
    "## **Bài 1.8: <u>Khoảng trắng và Định dạng cơ bản trong C++</u>**"
   ]
  },
  {
   "cell_type": "markdown",
   "id": "c68d6f04-ca26-41c0-9b97-8fe3732e29f0",
   "metadata": {},
   "source": [
    "**Khoảng trắng (Whitespace)** là một thuật ngữ chỉ các ký tự được sử dụng cho mục đích định dạng. Trong **C++**, nó chủ yếu đề cập đến **dấu cách**, **tab** và **xuống dòng** (**newline**). Khoảng trắng trong C++ thường được dùng cho 3 mục đích: phân cách các thành phần ngôn ngữ nhất định, xuất hiện bên trong văn bản và định dạng code."
   ]
  },
  {
   "cell_type": "markdown",
   "id": "bcd05b7c-7d3a-45a0-9c63-d8933cbd2240",
   "metadata": {},
   "source": [
    "### 1. **Phân cách các thành phần ngôn ngữ:**"
   ]
  },
  {
   "cell_type": "markdown",
   "id": "61daf7d7-fafe-4816-89b6-2fb534da0e69",
   "metadata": {},
   "source": [
    "- Cú pháp của ngôn ngữ yêu cầu một số thành phần được phân cách bằng khoảng trắng. Điều này chủ yếu xảy ra khi hai từ khóa hoặc định danh cần được đặt cạnh nhau, để trình biên dịch có thể phân biệt chúng.\n",
    "- Ví dụ: Khai báo biến phải được phân cách bằng khoảng trắng:\n",
    ">` int x; // int và x phải được phân cách bằng khoảng trắng`\n",
    "\n",
    "    Nếu chúng ta viết `intx` thay thế, trình biên dịch sẽ hiểu đây là một định danh và sau đó báo cáo lại rằng nó không biết định danh `intx` là gì.\n",
    "- Một ví dụ khác, kiểu trả về và tên của hàm phải được phân cách bằng khoảng trắng:\n",
    ">`int main(); // int và main() phải được phân cách bằng khoảng trắng`\n",
    "\n",
    "**Lưu ý về khoảng trắng:**\n",
    "\n",
    "- Khi khoảng trắng có nhiệm vụ như một dấu phân cách, trình biên dịch không quan tâm đến việc sử dụng bao nhiêu khoảng trắng, miễn là có một khoảng trắng nào đó.\n",
    "- Các định nghĩa biến sau đều hợp lệ:\n",
    "\n",
    ">```\n",
    ">int x;\n",
    ">int                y;\n",
    ">            int\n",
    ">z;\n",
    ">```"
   ]
  },
  {
   "cell_type": "markdown",
   "id": "76b08c4e-e1c7-4a6c-99b2-a2e5d1dc9c8e",
   "metadata": {},
   "source": [
    "### 2. **Xuống dòng (Newline) như dấu phân cách:**"
   ]
  },
  {
   "cell_type": "markdown",
   "id": "4436a15b-3254-4948-a1c7-e0fa3f44d354",
   "metadata": {},
   "source": [
    "Trong một số trường hợp, xuống dòng được sử dụng như một dấu phân cách. Inline comment được kết thúc bằng một xuống dòng.\n",
    "\n",
    "**Ví dụ:** Việc thực hiện điều này sẽ khiến bạn gặp rắc rối:\n",
    ">```\n",
    ">std::cout << \"Hello world!\"; // Đây là một phần của comment và\n",
    "Đây không phải là một phần của comment\n",
    ">```"
   ]
  },
  {
   "cell_type": "markdown",
   "id": "3f3e03cf-e1f0-4239-a065-c323ae365ad4",
   "metadata": {},
   "source": [
    "### 3. **Định dạng code:**"
   ]
  },
  {
   "cell_type": "markdown",
   "id": "741dce6d-c0cb-4b9b-a636-3301088b0af6",
   "metadata": {},
   "source": [
    "Khoảng trắng cũng được sử dụng để cải thiện khả năng đọc của code. Mặc dù trình biên dịch không quan tâm đến việc bạn sử dụng bao nhiêu khoảng trắng để thụt lề hoặc giãn cách các dòng, việc sử dụng chúng hợp lý sẽ giúp code dễ hiểu hơn.\n",
    "\n",
    "\n",
    "**Ví dụ: đoạn code sau khó đọc**\n",
    ">```\n",
    ">#include <iostream>\n",
    ">int main(){std::cout<<\"Hello world\";return 0;}\n",
    ">```\n",
    "\n",
    "**Đoạn code sau dễ đọc hơn (nhưng vẫn hơi dày đặc):**\n",
    ">```\n",
    ">#include <iostream>\n",
    ">int main() {\n",
    ">std::cout << \"Hello world\";\n",
    ">return 0;\n",
    ">}\n",
    ">```\n",
    "\n",
    "**Ví dụ về code được định dạng tốt:**\n",
    ">```\n",
    ">#include <iostream>\n",
    ">#include <string>\n",
    ">\n",
    ">int main() {\n",
    ">    std::cout << \"Hello, world!\" << std::endl;\n",
    ">    return 0;\n",
    ">}\n",
    ">```\n",
    "\n",
    "**Ngắt dòng cho các câu lệnh (statement):** Các câu lệnh (statement) có thể được ngắt ra nhiều dòng nếu cần.\n",
    ">```\n",
    ">#include <iostream>\n",
    ">\n",
    ">int main() {\n",
    ">    std::cout\n",
    ">        << \"Hello world\"; // Vẫn hoạt động bình thường\n",
    ">    return 0;\n",
    ">}\n",
    ">```\n",
    "\n",
    "Điều này hữu ích cho các câu lệnh đặc biệt dài."
   ]
  },
  {
   "cell_type": "markdown",
   "id": "f9cc3985-8318-4f6b-8979-49d85231a26a",
   "metadata": {},
   "source": [
    "### **Văn bản được trích dẫn và Khoảng trắng trong Chuỗi (Quoted text and Whitespace in Strings)**"
   ]
  },
  {
   "cell_type": "markdown",
   "id": "dd30b2b9-f73c-46fd-92ec-d67e5d40d569",
   "metadata": {},
   "source": [
    "Văn bản được trích dẫn (**Quoted text**) là một chuỗi ký tự được bao bọc trong dấu nháy kép (`\"`). Số lượng khoảng trắng bên trong văn bản được trích dẫn sẽ được hiểu theo đúng nghĩa đen.\n",
    "\n",
    ">`std::cout << \"Hello world!\"; // In ra \"Hello world!\" (không có khoảng trắng thừa)`\n",
    "\n",
    "Khác với:\n",
    ">`std::cout << \"Hello          world!\"; // In ra \"Hello          world!\" (in cả 8 khoảng trắng)\n",
    "`\n",
    "\n",
    "**Lưu ý:**\n",
    "- Không được phép có xuống dòng (newline) bên trong văn bản được trích dẫn.\n",
    "\n",
    ">`std::cout << \"Hello  // Không được phép!`\\\n",
    ">`     world!\";`\n",
    "- Các đoạn văn bản được trích dẫn được phân cách chỉ bằng khoảng trắng (dấu cách, tab hoặc xuống dòng) sẽ được nối lại với nhau.\n",
    "\n",
    ">`std::cout << \"Hello \"  // Nối \"Hello \"`\\\n",
    ">`          \"world!\";  // với \"world!\"`\\\n",
    ">`// In ra \"Hello world!\"`\n"
   ]
  },
  {
   "cell_type": "markdown",
   "id": "e4c2798f-3d9f-4765-82c2-d2db146af037",
   "metadata": {},
   "source": [
    "### **Định dạng cơ bản trong C++**"
   ]
  },
  {
   "cell_type": "markdown",
   "id": "6b6cfbf4-9966-43a4-b602-3e6cdbc178b3",
   "metadata": {},
   "source": [
    "**Không giống như một số ngôn ngữ khác, C++ không áp đặt bất kỳ hạn chế định dạng nào cho người lập trình.** Vì lý do này, chúng ta nói rằng C++ là ngôn ngữ **không phụ thuộc vào khoảng trắng** (**whitespace-independent**).\n",
    "\n",
    "Đây là một lợi thế nhưng cũng là bất lợi. Một mặt, thật tuyệt vời khi có thể thoải mái làm bất cứ điều gì bạn muốn. Mặt khác, nhiều phương pháp định dạng chương trình C++ khác nhau đã được phát triển trong nhiều năm và bạn sẽ thấy (đôi khi là sự bất đồng đáng kể và gây mất tập trung) về phương pháp nào là tốt nhất. Nguyên tắc cơ bản của chúng tôi là các kiểu cách tốt nhất là những kiểu cách tạo ra code dễ đọc nhất và cung cấp sự nhất quán cao nhất.\n",
    "\n",
    "**Dưới đây là các khuyến nghị của chúng tôi về định dạng cơ bản:**\n",
    "1. <u>Thụt lề (indentation) hay dấu cách (space):</u>\n",
    "- Bạn có thể sử dụng tab hoặc dấu cách để thụt lề (phần lớn các IDE đều có cài đặt cho phép bạn chuyển đổi một lần nhấn tab thành số lượng khoảng trắng thích hợp).\n",
    "- Các nhà phát triển thích sử dụng khoảng trắng có xu hướng làm như vậy bởi vì nó đảm bảo rằng code được căn chỉnh chính xác theo ý định bất kể sử dụng trình soạn thảo hoặc cài đặt nào. Những người ủng hộ việc sử dụng tab tự hỏi tại sao bạn không sử dụng ký tự được thiết kế để thụt lề cho việc thụt lề, đặc biệt là vì bạn có thể đặt độ rộng thành bất kỳ tùy chọn cá nhân nào của bạn. Không có câu trả lời đúng ở đây - và tranh luận về nó giống như tranh luận về việc bánh ngọt hay bánh nướng là ngon hơn. Cuối cùng nó phụ thuộc vào sở thích cá nhân.\n",
    "- Dù bằng cách nào, chúng tôi khuyên bạn nên đặt tab của mình thành thụt lề bằng 4 dấu cách. Một số IDE mặc định thành thụt lề 3 dấu cách, điều này cũng ổn."
   ]
  },
  {
   "cell_type": "markdown",
   "id": "dfc4f22b-aa57-430a-b257-936f53203bf3",
   "metadata": {},
   "source": [
    "2. <u>Ngoặc nhọn trong hàm (Function braces):</u>\n",
    "- Có hai kiểu cách thông thường cho ngoặc nhọn trong hàm.\n",
    "- Nhiều nhà phát triển thích đặt ngoặc nhọn mở trên cùng dòng với câu lệnh:\n",
    ">```\n",
    ">int main() {\n",
    ">    // Các câu lệnh ở đây\n",
    ">}\n",
    ">```\n",
    "\n",
    "Lý do cho điều này là nó làm giảm lượng khoảng trắng theo chiều dọc (vì bạn không dành toàn bộ một dòng cho một ngoặc nhọn mở), do đó bạn có thể chứa nhiều code hơn trên một màn hình. Điều này cải thiện khả năng hiểu code, vì bạn không cần phải cuộn nhiều để hiểu code đang làm gì.\n",
    "\n",
    "Tuy nhiên, trong loạt bài hướng dẫn này, chúng tôi sẽ sử dụng cách thay thế phổ biến, trong đó ngoặc nhọn mở xuất hiện trên dòng riêng của nó:\n",
    ">```\n",
    ">int main()\n",
    ">{\n",
    ">    // Các câu lệnh ở đây\n",
    ">}\n",
    ">```\n",
    "\n",
    "Điều này cải thiện khả năng đọc và ít lỗi hơn vì các cặp ngoặc nhọn của bạn luôn được thụt lề ở cùng một cấp độ. Nếu bạn gặp lỗi trình biên dịch do không khớp ngoặc nhọn, bạn sẽ rất dễ dàng xác định vị trí."
   ]
  },
  {
   "cell_type": "markdown",
   "id": "c9078fd1-e846-43a4-91b6-6c94d6d31495",
   "metadata": {},
   "source": [
    "3. <u>Thụt lề cho các câu lệnh (Statement indentation):</u>\n",
    "- Mỗi câu lệnh trong ngoặc nhọn nên bắt đầu thụt lề một tab tính từ ngoặc nhọn mở của hàm mà nó thuộc về. Ví dụ:\n",
    ">```\n",
    ">int main()\n",
    ">{\n",
    ">    std::cout << \"Hello world!\\n\"; // thụt lề một tab (4 khoảng trắng)\n",
    ">    std::cout << \"Nice to meet you.\\n\"; // thụt lề một tab (4 khoảng trắng)\n",
    ">}\n",
    ">```"
   ]
  },
  {
   "cell_type": "markdown",
   "id": "1d365c28-7ada-43e3-8813-1a2a85e8d66c",
   "metadata": {},
   "source": [
    "4. <u>Độ dài dòng (Line length):</u>\n",
    "- Dòng không nên quá dài. Theo thông lệ, 80 ký tự là tiêu chuẩn thực tế cho độ dài tối đa của một dòng.\n",
    "- Nếu một dòng vượt quá 80 ký tự:\n",
    "    - Chia nhỏ dòng đó: Bạn nên tách dòng đó thành nhiều dòng nhỏ hơn (ở những vị trí thích hợp).\n",
    "    - Thụt lề cho các dòng tiếp theo: Mỗi dòng được tách ra nên được thụt lề thêm một tab so với dòng gốc.\n",
    "    - Căn chỉnh với dòng trên (tùy chọn): Nếu các dòng được tách ra có nội dung tương tự nhau, bạn có thể căn chỉnh chúng với dòng trên để cải thiện khả năng đọc. Chọn cách nào dễ đọc hơn thì cứ dùng cách đó.\n",
    "\n",
    "\n",
    ">```\n",
    ">int main()\n",
    ">{\n",
    ">    std::cout << \"This is a really, really, really, really, really, really, really, \"\n",
    ">        \"really long line\\n\"; // thụt lề thêm một lần cho dòng tiếp theo\n",
    ">\n",
    ">    std::cout << \"This is another really, really, really, really, really, really, really, \"\n",
    ">                 \"really long line\\n\"; // dòng tiếp theo được căn lề bằng với dòng ở trên\n",
    ">\n",
    ">    std::cout << \"This one is short\\n\";\n",
    ">} \n",
    ">```\n",
    "\n",
    ">**Thực tiễn:**\n",
    "Luôn cân nhắc giữ cho các dòng code của bạn có độ dài 80 ký tự trở xuống.\n",
    "\n",
    ">**Mẹo:**\\\n",
    ">Nhiều trình soạn thảo code có một tính năng tích hợp sẵn (hoặc plugin/extension) giúp hiển thị một đường thẳng (được gọi là \"đường dẫn cột\" - column guide) ở một cột nhất định (ví dụ: ở ký tự thứ 80), để bạn có thể dễ dàng xem  khi nào các dòng code của bạn trở nên quá dài.\n",
    "Để biết trình soạn thảo của bạn có hỗ trợ tính năng này không, hãy tìm kiếm trên **Google** bằng cú pháp `\"[Tên trình soạn thảo của bạn] + Column guide\".`"
   ]
  },
  {
   "cell_type": "markdown",
   "id": "64fbaa46-157b-46c8-816c-bff7d2b356f2",
   "metadata": {},
   "source": [
    "5. <u>Phân chia dòng với toán tử</u>\n",
    "- Nếu một dòng dài được phân chia với một toán tử (ví dụ như `<<` hoặc `+`), toán tử đó nên được đặt ở đầu dòng tiếp theo.\n",
    "- **Ví dụ:**\n",
    ">```\n",
    ">std::cout << 3 + 4\n",
    ">    + 5 + 6\n",
    ">    * 7 * 8;\n",
    ">```\n",
    "- Điều này giúp làm rõ ràng hơn rằng các dòng tiếp theo là phần tiếp nối của các dòng trước đó và cho phép bạn căn chỉnh các toán tử ở bên trái, giúp việc đọc dễ dàng hơn.\n",
    "6. <u>Sử dụng khoảng trắng để cải thiện khả năng đọc:</u>\n",
    "- Sử dụng khoảng trắng để làm cho code của bạn dễ đọc hơn bằng cách căn chỉnh các giá trị, bình luận hoặc thêm khoảng cách giữa các khối code.\n",
    "- **Khó đọc:**\n",
    "\n",
    ">```\n",
    ">cost = 57;\n",
    ">pricePerItem = 24;\n",
    ">value = 5;\n",
    ">numberOfItems = 17;\n",
    ">```\n",
    "\n",
    "- **Dễ đọc**\n",
    "    \n",
    ">```\n",
    ">cost          = 57;\n",
    ">pricePerItem  = 24;\n",
    ">value         = 5;\n",
    ">numberOfItems = 17;\n",
    ">```"
   ]
  },
  {
   "cell_type": "markdown",
   "id": "b991a005-803a-4140-9ac9-83ca5493213c",
   "metadata": {},
   "source": [
    "- **Khó đọc:**\n",
    "\n",
    ">```\n",
    ">std::cout << \"Hello world!\\n\"; // cout lives in the iostream library\n",
    ">std::cout << \"It is very nice to meet you!\\n\"; // these comments make the code hard to read\n",
    ">std::cout << \"Yeah!\\n\"; // especially when lines are different lengths\n",
    ">```\n",
    "- **Dễ học:**\n",
    "\n",
    ">```\n",
    ">std::cout << \"Hello world!\\n\";                  // cout lives in the iostream library\n",
    ">std::cout << \"It is very nice to meet you!\\n\";  // these comments are easier to read\n",
    ">std::cout << \"Yeah!\\n\";                         // especially when all lined up\n",
    ">```"
   ]
  },
  {
   "cell_type": "markdown",
   "id": "f19b7c02-c5cf-46ef-95dd-e14a4e9d5922",
   "metadata": {},
   "source": [
    "- **Khó đọc:**\n",
    "\n",
    ">```\n",
    ">// cout lives in the iostream library\n",
    ">std::cout << \"Hello world!\\n\";\n",
    ">// these comments make the code hard to read\n",
    ">std::cout << \"It is very nice to meet you!\\n\";\n",
    ">// especially when all bunched together\n",
    ">std::cout << \"Yeah!\\n\";\n",
    ">```\n",
    "- **Dễ đọc:**\n",
    "\n",
    ">```\n",
    ">// cout lives in the iostream library\n",
    ">std::cout << \"Hello world!\\n\";\n",
    ">\n",
    ">// these comments are easier to read\n",
    ">std::cout << \"It is very nice to meet you!\\n\";\n",
    ">\n",
    ">// when separated by whitespace\n",
    ">std::cout << \"Yeah!\\n\";\n",
    ">```"
   ]
  },
  {
   "cell_type": "markdown",
   "id": "85d7c74f-cdce-4e8c-b006-d6eb889620d0",
   "metadata": {},
   "source": [
    "Trong suốt hướng dẫn này, chúng tôi sẽ tuân theo các quy ước này và chúng sẽ trở thành bản năng thứ hai của bạn. Khi giới thiệu các chủ đề mới với bạn, chúng tôi sẽ giới thiệu các đề xuất về kiểu cách mới để đi kèm với các tính năng đó.\n",
    "\n",
    "Cuối cùng, C++ cung cấp cho bạn sức mạnh để lựa chọn bất kỳ kiểu cách nào mà bạn cảm thấy thoải mái nhất hoặc cho là tốt nhất. Tuy nhiên, chúng tôi đặc biệt khuyên bạn nên sử dụng cùng kiểu cách mà chúng tôi sử dụng cho các ví dụ của mình. Nó đã được hàng nghìn lập trình viên kiểm tra thực tế trên hàng tỷ dòng code và được tối ưu hóa để thành công.\n",
    "\n",
    "**Một ngoại lệ:** Nếu bạn đang làm việc trên codebase của người khác, hãy áp dụng phong cách của họ. Tốt hơn nên ưu tiên sự nhất quán hơn sở thích của bạn."
   ]
  },
  {
   "cell_type": "markdown",
   "id": "6f293834-dfdf-4fb4-81e0-1073f4844512",
   "metadata": {},
   "source": [
    "**Style guide:** là một tài liệu ngắn gọn, thể hiện quan điểm chứa các quy ước lập trình (đôi khi tùy ý), hướng dẫn định dạng và các thực hành tốt nhất. Mục tiêu của một style guide là đảm bảo rằng tất cả các nhà phát triển trong một dự án đều lập trình theo một cách thống nhất.\n",
    "\n",
    "Một số style guide C++ được tham khảo phổ biến bao gồm:\n",
    "\n",
    "[C++ Core Guidelines](http://isocpp.github.io/CppCoreGuidelines/CppCoreGuidelines) - Được bảo trì bởi Bjarne Stroustrup và Herb Sutter.<br>\n",
    "[Google](https://google.github.io/styleguide/cppguide.html)<br>\n",
    "[LLVM](https://llvm.org/docs/CodingStandards.html)<br>\n",
    "[GCC/GNU](https://gcc.gnu.org/codingconventions.html)<br>\n",
    "Nhìn chung, chúng tôi ưu tiên C++ Core Guidelines vì chúng cập nhật và được áp dụng rộng rãi.\n"
   ]
  },
  {
   "cell_type": "markdown",
   "id": "52c7025d-a90d-4dd9-ab43-fc1a98b3e4b4",
   "metadata": {},
   "source": [
    "## **Bài 1.9: <u>Giới thiệu về Literal và Toán tử</u>**"
   ]
  },
  {
   "cell_type": "markdown",
   "id": "601ed4fe-04a3-46e1-bcc2-674fc92e0cab",
   "metadata": {},
   "source": [
    "### **Literal (Giá trị nguyên văn)**:"
   ]
  },
  {
   "cell_type": "markdown",
   "id": "3703367e-2648-4e8f-a1f8-6e4048708efb",
   "metadata": {},
   "source": [
    "Hãy xem xét hai câu lệnh sau:\n",
    "\n",
    ">`std::cout << \"Hello world!\";`\\\n",
    ">`int x { 5 };`\n",
    "\n",
    "`\"Hello world!\"` và `5` là gì? Chúng là **literal** (giá trị nguyên văn). **Literal** (giá trị nguyên văn) là một giá trị cố định được đưa trực tiếp vào mã nguồn. **Literal** và **biến** đều có một giá trị (và một kiểu dữ liệu). Khác với biến (có giá trị có thể được thiết lập và thay đổi thông qua khởi tạo và gán tương ứng), giá trị của **literal** là **cố định** (`5` luôn luôn là `5`). Đây là lý do tại sao **literal** được gọi là hằng giá trị."
   ]
  },
  {
   "cell_type": "markdown",
   "id": "ba9dfeb1-603b-4ed4-ba64-06a2e590a6d0",
   "metadata": {},
   "source": [
    "Để làm nổi bật hơn sự khác biệt giữa literal và biến, chúng ta hãy xem xét chương trình ngắn này:\n",
    "\n",
    ">```\n",
    ">#include <iostream>\n",
    ">\n",
    ">int main()\n",
    ">{\n",
    ">    std::cout << 5 << '\\n'; // in ra giá trị của một literal\n",
    ">\n",
    ">    int x { 5 };\n",
    ">    std::cout << x << '\\n'; // in ra giá trị của một biến\n",
    ">    return 0;\n",
    ">}\n",
    ">```"
   ]
  },
  {
   "cell_type": "markdown",
   "id": "a4e268f1-021c-46de-9dac-a78f29f1334a",
   "metadata": {},
   "source": [
    "Ở dòng 5, chúng ta đang in giá trị `5` ra console. Khi trình biên dịch biên dịch đoạn này, nó sẽ tạo ra code khiến `std::cout` in ra giá trị `5`. Giá trị `5` này được biên dịch vào trong file thực thi và có thể được sử dụng trực tiếp.\n",
    "\n",
    "Ở dòng 7, chúng ta đang tạo một biến tên `x` và khởi tạo nó với giá trị `5`. Trình biên dịch sẽ tạo ra code sao chép giá trị literal `5` vào bất kỳ vị trí bộ nhớ nào được cấp cho `x`. Ở dòng 8, khi chúng ta in `x`, trình biên dịch sẽ tạo ra code khiến `std::cout` in ra giá trị tại vị trí bộ nhớ của x (có giá trị là `5`).\n",
    "\n",
    "Do đó, cả hai câu lệnh in đều thực hiện cùng một tác vụ (in ra giá trị `5`). Nhưng trong trường hợp của literal, giá trị `5` được in ra trực tiếp. Trong trường hợp của biến, giá trị `5` phải được lấy từ bộ nhớ mà biến đó biểu diễn.\n",
    "\n",
    "Điều này cũng giải thích tại sao literal là hằng giá trị trong khi biến có thể thay đổi. Giá trị của literal được đặt trực tiếp vào file thực thi và bản thân file thực thi không thể thay đổi sau khi được tạo. Giá trị của biến được đặt trong bộ nhớ và giá trị của bộ nhớ có thể thay đổi trong khi file thực thi đang chạy.\n",
    "\n",
    ">**Lưu ý quan trọng:**\n",
    ">- Literal là các giá trị được đưa trực tiếp vào mã nguồn. Các giá trị này thường xuất hiện trực tiếp trong code thực thi (trừ khi chúng được tối ưu hóa).\n",
    ">- Đối tượng và biến đại diện cho các vị trí bộ nhớ chứa các giá trị. Các giá trị này có thể được truy xuất theo yêu cầu.\n",
    "\n",
    ">**Nội dung liên quan:**\n",
    ">Chúng ta sẽ tìm hiểu sâu hơn về literal trong bài 5.2 -- Literal.\n",
    "\n"
   ]
  },
  {
   "cell_type": "markdown",
   "id": "abade45d-1481-4252-8aad-06c49f5b2a2b",
   "metadata": {},
   "source": [
    "### **Toán tử trong C++**"
   ]
  },
  {
   "cell_type": "markdown",
   "id": "70d02df5-9c66-46bd-8f8c-0fd64a30e8cb",
   "metadata": {},
   "source": [
    "#### <u>Toán tử</u>\n",
    "\n"
   ]
  },
  {
   "cell_type": "markdown",
   "id": "78a48697-1d3a-4642-923c-61999e37e154",
   "metadata": {},
   "source": [
    "Trong toán học, một **phép toán (operation)** là một phép thực hiện tính toán liên quan đến 0 hoặc nhiều giá trị đầu vào (gọi là **toán hạng - operands**) tạo ra một giá trị mới (gọi là **giá trị đầu ra - output value**). Phép toán cụ thể cần thực hiện được biểu thị bằng một ký hiệu gọi là **toán tử** (operator).\n",
    "\n",
    "Ví dụ: từ nhỏ chúng ta đều học được rằng 2 + 3 bằng 5. Trong trường hợp này, các literal 2 và 3 là toán hạng và ký hiệu + là toán tử cho biết chúng ta cần thực hiện phép cộng toán học trên các toán hạng để tạo ra giá trị mới 5.\n",
    "\n",
    "\n",
    "\n"
   ]
  },
  {
   "cell_type": "markdown",
   "id": "475ce8e4-e204-4a7d-91e7-8b6de0205e43",
   "metadata": {},
   "source": [
    "#### <u>Toán tử trong C++</u>"
   ]
  },
  {
   "cell_type": "markdown",
   "id": "cfcd28b5-511b-45f5-80f7-737cddd86e5a",
   "metadata": {},
   "source": [
    "Trong C++, các phép toán cũng hoạt động tương tự như vậy. Ví dụ:\n",
    ">```\n",
    ">#include <iostream>\n",
    ">\n",
    ">int main()\n",
    ">{\n",
    ">    std::cout << 1 + 2 << '\\n';\n",
    ">\n",
    ">    return 0;\n",
    ">}\n",
    ">```\n",
    "\n",
    "Trong chương trình này, các literal `1` và `2` là toán hạng cho toán tử cộng (`+`), toán tử này tạo ra giá trị đầu ra `3`. Giá trị đầu ra này sau đó được in ra console. Trong C++, giá trị đầu ra của một phép toán thường được gọi là **giá trị trả về (return value).**\n",
    "\n",
    "Bạn có thể đã khá quen thuộc với các toán tử số học tiêu chuẩn thường được sử dụng trong toán học, bao gồm cộng (`+`), trừ (`-`), nhân (`*`), và chia (`/`). Trong C++, gán (`=`) cũng là một toán tử, cũng như toán tử đưa vào (`<<`), trích xuất (`>>`) và so sánh bằng (`==`). Trong khi hầu hết các toán tử có biểu tượng làm tên (ví dụ: `+`, hoặc `==`), thì cũng có một số toán tử là từ khóa (ví dụ: `new`, `delete` và `throw`).\n",
    "\n",
    "**Số lượng toán hạng**\n",
    "\n",
    "Số lượng toán hạng mà một toán tử lấy làm đầu vào được gọi là **arity** (ngôi) của toán tử. Ít người biết từ này có nghĩa là gì, vì vậy đừng sử dụng nó trong cuộc trò chuyện và mong đợi mọi người hiểu bạn đang nói về điều gì. Toán tử trong C++ có bốn loại arity khác nhau:\n",
    "- **Một ngôi (Unary)**: Toán tử một ngôi tác động lên một toán hạng. Ví dụ về toán tử một ngôi là toán tử `-`. Ví dụ, với `-5`, toán tử `-` lấy toán hạng theo nghĩa đen `5` và đảo ngược dấu của nó để tạo ra giá trị đầu ra mới `-5`.\n",
    "- **Hai ngôi (Binary)**: Toán tử hai ngôi tác động lên hai toán hạng (thường được gọi là trái và phải, vì toán hạng trái xuất hiện ở bên trái của toán tử và toán hạng phải xuất hiện ở bên phải của toán tử). Ví dụ về toán tử hai ngôi là toán tử `+`. Ví dụ, với `3 + 4`, toán tử + lấy toán hạng trái `3` và toán hạng phải `4` và áp dụng phép cộng toán học để tạo ra giá trị đầu ra mới `7`. Toán tử chèn (`<<`) và trích xuất (`>>`) là các toán tử hai ngôi, lấy `std::cout` hoặc `std::cin` ở bên trái và giá trị cần xuất ra hoặc biến để nhập vào ở bên phải.\n",
    "- **Ba ngôi (Ternary)**: Toán tử ba ngôi tác động lên ba toán hạng. Chỉ có một toán tử này trong C++ (toán tử điều kiện), chúng ta sẽ tìm hiểu sau.\n",
    "- **Không ngôi (Nullary)**: Toán tử không ngôi tác động lên 0 toán hạng. Cũng chỉ có một toán tử này trong C++ (toán tử `throw`), chúng ta cũng sẽ tìm hiểu sau.\n",
    "\n",
    "Lưu ý rằng một số toán tử có nhiều hơn một nghĩa tùy thuộc vào cách chúng được sử dụng. Ví dụ, toán tử `-` có hai ngữ cảnh. Nó có thể được sử dụng ở dạng một ngôi để đảo ngược dấu của một số (ví dụ: để chuyển đổi `5` thành `-5` hoặc ngược lại), hoặc nó có thể được sử dụng ở dạng hai ngôi để thực hiện phép trừ (ví dụ: `4 - 3`).\n",
    "\n",
    "\n",
    "\n",
    "\n",
    "\n"
   ]
  },
  {
   "cell_type": "markdown",
   "id": "427f888e-9282-450c-9f06-15e38968e1f5",
   "metadata": {},
   "source": [
    "### **Liên kết toán tử**"
   ]
  },
  {
   "cell_type": "markdown",
   "id": "ba34ec7a-9727-4005-b075-9108a4029302",
   "metadata": {},
   "source": [
    "Các toán tử có thể được liên kết với nhau sao cho kết quả đầu ra của một toán tử có thể được sử dụng làm đầu vào cho một toán tử khác. Ví dụ, với biểu thức: `2 * 3 + 4`, toán tử nhân được thực hiện trước tiên, và chuyển đổi toán hạng trái `2` và toán hạng phải `3` thành giá trị trả về `6` (trở thành toán hạng trái cho toán tử cộng). Tiếp theo, toán tử cộng được thực hiện, và chuyển đổi toán hạng trái `6` và toán hạng phải `4` thành giá trị mới `10`.\n",
    "\n",
    "Chúng ta sẽ nói thêm về thứ tự thực thi các toán tử khi chúng ta đi sâu vào chủ đề toán tử. Hiện tại, chỉ cần biết rằng các toán tử số học được thực hiện theo cùng thứ tự như trong toán học chuẩn: **Đầu tiên là dấu ngoặc, tiếp theo là lũy thừa, sau đó là nhân và chia, sau đó là cộng và trừ**. Thứ tự này đôi khi được viết tắt là **PEMDAS**, hoặc được mở rộng thành cụm từ **“Please Excuse My Dear Aunt Sally”** (Vui lòng tha lỗi cho dì Sally thân mến của tôi).\n",
    "\n",
    "\n",
    "\n"
   ]
  },
  {
   "cell_type": "markdown",
   "id": "d427535b-c0b2-4290-9d3b-955d8bcfb39b",
   "metadata": {},
   "source": [
    "### **Giá trị trả về và tác dụng phụ**"
   ]
  },
  {
   "cell_type": "markdown",
   "id": "f52195e8-29e8-4990-9f09-ea72eb51dc8e",
   "metadata": {},
   "source": [
    "Hầu hết các toán tử trong C++ chỉ sử dụng toán hạng của chúng để tính toán một giá trị trả về. <br>\n",
    "Ví dụ, `-5` tạo ra giá trị trả về `-5` và `2 + 3` tạo ra giá trị trả về `5`. Có một vài toán tử không tạo ra giá trị trả về (chẳng hạn như `delete` và `throw`). Chúng ta sẽ đề cập đến những điều này sau.\n",
    "\n",
    "Một số toán tử có các hành vi bổ sung. Một toán tử (hoặc hàm) có một số tác động quan sát được vượt ra ngoài việc tạo ra giá trị trả về được gọi là có **tác dụng phụ** (hay **hiệu ứng lề**) (**side effect**). Ví dụ, khi `x = 5` được đánh giá, toán tử gán có tác dụng phụ là gán giá trị `5` cho biến `x`. Giá trị thay đổi của `x` có thể quan sát được (ví dụ: bằng cách in giá trị của `x`) ngay cả sau khi toán tử thực hiện xong. `std::cout << 5` có tác dụng phụ là in `5` ra console. Chúng ta có thể quan sát thấy thực tế là `5` đã được in ra console ngay cả sau khi `std::cout << 5` đã thực hiện xong.\n",
    "\n",
    "Các toán tử có tác dụng phụ thường được gọi vì hành vi của tác dụng phụ chứ không phải vì giá trị trả về (nếu có) mà các toán tử đó tạo ra.\n",
    "\n",
    ">**Thuật ngữ** <br>\n",
    ">Trong ngôn ngữ thông dụng, thuật ngữ **“tác dụng phụ”** thường được sử dụng để chỉ một kết quả phụ (thường là tiêu cực hoặc không mong đợi) của một điều gì đó khác xảy ra (chẳng hạn như dùng thuốc). Ví dụ, một tác dụng phụ phổ biến của việc uống kháng sinh đường uống là tiêu chảy. Như vậy, chúng ta thường nghĩ về tác dụng phụ như những thứ chúng ta muốn tránh, hoặc những thứ không liên quan đến mục tiêu chính.\n",
    ">\n",
    ">Trong C++, thuật ngữ **“tác dụng phụ”** có một ý nghĩa khác: nó là một tác động quan sát được của một toán tử hoặc hàm vượt ra ngoài việc tạo ra giá trị trả về.\n",
    ">\n",
    ">Vì phép gán có tác dụng quan sát được là thay đổi giá trị của một đối tượng, nên đây được coi là một tác dụng phụ. Chúng ta sử dụng một số toán tử nhất định (ví dụ: toán tử gán) chủ yếu vì các tác dụng phụ của chúng. Trong những trường hợp như vậy, tác dụng phụ vừa có lợi vừa có thể dự đoán được (và giá trị trả về thường là thứ không cần thiết).\n",
    "\n",
    ">**Đối với người đọc nâng cao** <br>\n",
    ">Đối với các toán tử mà chúng ta gọi chủ yếu để lấy giá trị trả về của chúng (ví dụ: toán tử `+` hoặc toán tử `*`), thì giá trị trả về của chúng thường là rõ ràng (ví dụ: tổng hoặc tích của các toán hạng).\n",
    ">\n",
    ">Đối với các toán tử mà chúng ta gọi chủ yếu vì các tác dụng phụ của chúng (ví dụ: toán tử `=` hay toán tử `<<`), thì không phải lúc nào cũng rõ ràng giá trị trả về của chúng là gì (nếu có). Ví dụ, bạn mong đợi giá trị trả về của `x = 5` là gì?\n",
    ">\n",
    ">Cả toán tử `=` và toán tử `<<` (khi được sử dụng để xuất giá trị ra console) đều trả về toán hạng trái của chúng. Do đó, `x = 5` trả về `x` và `std::cout << 5` trả về `std::cout`. Điều này được thực hiện để các toán tử này có thể được **liên kết** (**chaining**).\n",
    ">\n",
    ">Ví dụ, biểu thức `x = y = 5` được tính toán như `x = (y = 5)`. Đầu tiên `y = 5` gán giá trị `5` cho biến `y`. Sau đó phép toán này trả về giá trị của `y`, giá trị này sau đó có thể được gán cho biến `x`.\n",
    ">\n",
    ">Biểu thức `std::cout << \"Hello \" << \"world\"` được tính toán như `(std::cout << \"Hello \") << \"world!\"`. Đầu tiên, nó in `\"Hello \"` ra console. Phép toán này trả về `std::cout`, sau đó nó có thể được sử dụng để in `\"world!\"` ra console.\n",
    ">\n",
    ">Chúng ta sẽ thảo luận thêm về thứ tự thực thi các toán tử trong bài **6.1 - Ưu tiên toán tử và tính kết hợp (Operator precedence and associativity).**"
   ]
  },
  {
   "cell_type": "markdown",
   "id": "a559cce0-6c77-4604-b915-fa0c57d9ef41",
   "metadata": {},
   "source": [
    "## **Bài 1.10: <u>Giới thiệu về Biểu thức</u>**"
   ]
  },
  {
   "cell_type": "markdown",
   "id": "54803bc8-dc04-484c-84d8-1f182a95a9d8",
   "metadata": {},
   "source": [
    "### **Biểu thức**"
   ]
  },
  {
   "cell_type": "markdown",
   "id": "717fc246-4c2c-46ba-a663-e96c2faa74bc",
   "metadata": {},
   "source": [
    "Xét loạt các câu lệnh sau:\n",
    "\n",
    ">```\n",
    ">// five() là một hàm trả về giá trị 5\n",
    ">int five()\n",
    ">{\n",
    ">    return 5;\n",
    ">}\n",
    ">\n",
    ">int main()\n",
    ">{\n",
    ">    int a{ 2 };             // Khởi tạo biến a với giá trị nguyên văn 2\n",
    ">    int b{ 2 + 3 };         // Khởi tạo biến b với giá trị được tính toán 5\n",
    ">    int c{ (2 * 3) + 4 };   // Khởi tạo biến c với giá trị được tính toán 10\n",
    ">    int d{ b };             // Khởi tạo biến d với giá trị của biến 5\n",
    ">    int e{ five() };        // Khởi tạo biến e với giá trị trả về của hàm 5\n",
    ">\n",
    ">    return 0;\n",
    ">}\n",
    ">```"
   ]
  },
  {
   "cell_type": "markdown",
   "id": "4308b04c-9ed2-40dc-97d7-96e9985251f2",
   "metadata": {},
   "source": [
    "Mỗi câu lệnh này đều định nghĩa một biến mới và khởi tạo nó với một giá trị. Lưu ý rằng các trình khởi tạo được hiển thị ở trên sử dụng nhiều cấu trúc khác nhau: **literal** (giá trị nguyên văn), **biến**, **toán tử** và **lời gọi hàm**. Bằng cách nào đó, C++ chuyển đổi tất cả những thứ khác nhau này thành một giá trị duy nhất sau đó có thể được sử dụng làm giá trị khởi tạo cho biến.\n",
    "\n",
    "Tất cả các trình khởi tạo này có điểm gì chung? Chúng đều sử dụng một **biểu thức**.\n",
    "\n",
    "**Biểu thức (expression)** là một dãy các literal, biến, toán tử và lời gọi hàm tính toán một giá trị đơn. Quá trình thực thi biểu thức được gọi là **đánh giá (evaluation)**, và giá trị đơn được tạo ra được gọi là **kết quả (result) của biểu thức**.\n",
    "\n"
   ]
  },
  {
   "cell_type": "markdown",
   "id": "e84cb22d-354d-49eb-91fb-f8718cdcacf3",
   "metadata": {},
   "source": [
    ">**Nội dung liên quan**\n",
    ">\n",
    ">Mặc dù hầu hết các biểu thức được sử dụng để tính toán một giá trị, biểu thức cũng có thể xác định một đối tượng (có thể được đánh giá để lấy giá trị do đối tượng đó giữ) hoặc một hàm (có thể được gọi để lấy giá trị do hàm đó trả về). Chúng tôi sẽ thảo luận thêm về điều này trong **bài 12.2 - Loại giá trị (lvalue và rvalue).**\n",
    ">\n",
    ">Hiện tại, chúng ta sẽ giả sử tất cả các biểu thức đều tính toán các giá trị.\n",
    "\n",
    "Khi một biểu thức được đánh giá, mỗi toán hạng bên trong biểu thức được đánh giá, cho đến khi chỉ còn lại một giá trị duy nhất. Dưới đây là một số ví dụ về các loại biểu thức khác nhau, với chú thích cho biết cách chúng được đánh giá:\n",
    "\n",
    "* `2 // 2 là một literal được đánh giá thành giá trị 2`\n",
    "* `\"Hello world!\" // \"Hello world!\" là một literal được đánh giá thành chuỗi \"Hello world!\"`\n",
    "* `x // x là một biến được đánh giá thành giá trị của x`\n",
    "* `2 + 3 // toán tử + sử dụng toán hạng 2 và 3 để đánh giá thành giá trị 5`\n",
    "* `five() // được đánh giá thành giá trị trả về của hàm five()`\n",
    "\n",
    "Như bạn có thể thấy, các literal được đánh giá thành giá trị riêng của chúng. Biến được đánh giá thành giá trị của biến. Toán tử (chẳng hạn như toán tử `+`) sử dụng toán hạng của chúng để đánh giá thành một giá trị khác. Chúng ta chưa đề cập đến các lời gọi hàm, nhưng trong ngữ cảnh của một biểu thức, các lời gọi hàm được đánh giá thành bất kỳ giá trị nào mà hàm trả về.\n",
    "\n",
    "Biểu thức liên quan đến toán tử có tác dụng phụ phức tạp hơn một chút:\n",
    "\n",
    "- `x = 5 // x = 5 có tác dụng phụ là gán 5 cho x, được đánh giá thành x`\n",
    "- `x = 2 + 3 // có tác dụng phụ là gán 5 cho x, được đánh giá thành x`\n",
    "- `std::cout << x // có tác dụng phụ là in giá trị của x ra console, được đánh giá thành std::cout`"
   ]
  },
  {
   "cell_type": "markdown",
   "id": "a83d2085-518f-4d47-ae55-3f95060eb2c1",
   "metadata": {},
   "source": [
    "Lưu ý rằng biểu thức không kết thúc bằng dấu chấm phẩy và không thể được biên dịch riêng lẻ. Ví dụ, nếu bạn cố gắng biên dịch biểu thức `x = 5`, trình biên dịch của bạn sẽ phàn nàn (có thể là về việc thiếu dấu chấm phẩy). Thay vào đó, các biểu thức luôn được đánh giá như một phần của các câu lệnh.\n",
    "\n",
    "Ví dụ, hãy xem xét câu lệnh này:\n",
    "\n",
    ">`int x{ 2 + 3 }; // 2 + 3 là một biểu thức không có dấu chấm phẩy - dấu chấm phẩy nằm ở cuối câu lệnh chứa biểu thức`\n",
    "\n",
    "Nếu bạn phân tích cú pháp của câu lệnh này, nó sẽ trông như thế này\n",
    "\n",
    ">`type identifier { expression };`\n",
    "\n",
    "\n",
    ">**Lưu ý quan trọng**\n",
    ">\n",
    ">Bất cứ nơi nào bạn có thể sử dụng một giá trị đơn lẻ trong C++, bạn cũng có thể sử dụng một biểu thức tạo ra giá trị thay thế, và biểu thức đó sẽ được đánh giá để tạo ra một giá trị đơn.\n",
    "\n"
   ]
  },
  {
   "cell_type": "markdown",
   "id": "4ed78630-8bde-4ddf-a021-424b722a964e",
   "metadata": {},
   "source": [
    "### **Các câu lệnh biểu thức (Expression statements)**"
   ]
  },
  {
   "cell_type": "markdown",
   "id": "056978b4-bd27-46b7-ace9-8281e10fab3d",
   "metadata": {},
   "source": [
    "Một số biểu thức nhất định (chẳng hạn như `x = 5`) hữu ích vì các tác dụng phụ của chúng (trong trường hợp này, là để gán giá trị `5` cho biến `x`). Tuy nhiên, như đã đề cập ở trên, các biểu thức không thể được thực thi riêng lẻ - chúng phải tồn tại như một phần của một câu lệnh. Vậy làm thế nào để chúng ta có thể sử dụng các biểu thức như vậy?\n",
    "\n",
    "May mắn thay, việc chuyển đổi bất kỳ biểu thức nào thành một câu lệnh tương đương là rất dễ dàng. Một **câu lệnh biểu thức (expression statement)** là một câu lệnh bao gồm một biểu thức theo sau dấu chấm phẩy. Khi câu lệnh biểu thức được thực thi, biểu thức sẽ được đánh giá.\n",
    "\n",
    "Do đó, chúng ta có thể lấy bất kỳ biểu thức nào (chẳng hạn như `x = 5`) và biến nó thành một câu lệnh biểu thức (`x = 5;`) có thể được biên dịch.\n",
    "\n",
    "Khi một biểu thức được sử dụng trong một câu lệnh biểu thức, bất kỳ giá trị trả về nào do biểu thức tạo ra sẽ bị loại bỏ (vì nó không được sử dụng).\n",
    "\n"
   ]
  },
  {
   "cell_type": "markdown",
   "id": "ec572edc-600e-46ef-a886-9a93b682d52a",
   "metadata": {},
   "source": [
    "### **Các câu lệnh biểu thức vô dụng (Useless expression statements)**"
   ]
  },
  {
   "cell_type": "markdown",
   "id": "106ce89d-53e4-4558-885b-1e00f374a148",
   "metadata": {},
   "source": [
    "Chúng ta cũng có thể tạo các câu lệnh biểu thức có thể biên dịch nhưng không có tác dụng gì. Ví dụ, câu lệnh biểu thức (`2 * 3;`) là một câu lệnh biểu thức có biểu thức được đánh giá thành giá trị kết quả là `6`, sau đó giá trị này bị loại bỏ. Mặc dù hợp lệ về cú pháp, các câu lệnh biểu thức như vậy là vô dụng. Một số trình biên dịch (chẳng hạn như **gcc** và **Clang**) sẽ tạo ra cảnh báo nếu chúng có thể phát hiện ra một câu lệnh biểu thức là vô dụng."
   ]
  },
  {
   "cell_type": "markdown",
   "id": "4281a0ba-9a89-4324-9755-07beda30ae0d",
   "metadata": {},
   "source": [
    "### **Các biểu thức con (Subexpressions), biểu thức đầy đủ (Full expressions) và biểu thức ghép (Compound expressions)**"
   ]
  },
  {
   "cell_type": "markdown",
   "id": "37ed57f3-5f37-444b-8f83-6801c1f27a41",
   "metadata": {},
   "source": [
    "Đôi khi chúng ta cần đề cập đến các loại biểu thức cụ thể. Vì mục đích này, chúng ta sẽ định nghĩa một số thuật ngữ liên quan.\n",
    "\n",
    "Xem xét các biểu thức sau:\n",
    "\n",
    "* `2 // 2 là một literal được đánh giá thành giá trị 2`\n",
    "* `2 + 3 // 2 + 3 sử dụng toán tử + để đánh giá thành giá trị 5`\n",
    "* `x = 4 + 5 // 4 + 5 được đánh giá thành giá trị 9, sau đó được gán cho biến x`\n",
    "Nói một cách đơn giản hơn, một **biểu thức con (subexpression)** là một biểu thức được sử dụng như một toán hạng. Ví dụ, các biểu con của `x = 4 + 5` là `x` và `4 + 5`. Các biểu con của `4 + 5` là `4` và `5`.\n",
    "\n",
    "**Biểu thức đầy đủ (full expression)** là một biểu thức không phải là biểu con. Cả ba biểu thức ở trên (`2`, `2 + 3` và `x = 4 + 5`) đều là biểu thức đầy đủ.\n",
    "\n",
    "Trong ngôn ngữ thông thường, một **biểu thức ghép (compound expression)** là một biểu thức chứa hai hoặc nhiều toán tử. `x = 4 + 5` là một **biểu thức ghép** vì nó chứa hai phép toán (toán tử gán `=` và toán tử cộng `+`). `2` và `2 + 3` không phải là biểu thức ghép."
   ]
  },
  {
   "cell_type": "markdown",
   "id": "58691eeb-58c2-4b2b-a285-6be4f289c879",
   "metadata": {},
   "source": [
    "## **Bài 1.11: <u>Phát triển chương trình đầu tiên của bạn</u>**"
   ]
  },
  {
   "cell_type": "markdown",
   "id": "ed778778-8cde-4bd4-8822-84ce26084bea",
   "metadata": {},
   "source": [
    "### **Giới thiệu**"
   ]
  },
  {
   "cell_type": "markdown",
   "id": "b30a2379-78bc-4517-80b6-cf6030951a17",
   "metadata": {},
   "source": [
    "Các bài học trước đã giới thiệu rất nhiều thuật ngữ và khái niệm mà chúng ta sẽ sử dụng trong hầu hết mọi chương trình được tạo. Trong bài học này, chúng ta sẽ hướng dẫn bạn từng bước về quá trình tích hợp các kiến thức này vào chương trình đơn giản đầu tiên của mình."
   ]
  },
  {
   "cell_type": "markdown",
   "id": "e0226796-f247-4ff0-838d-87365284b69d",
   "metadata": {},
   "source": [
    "### **\"Nhân đôi\"**"
   ]
  },
  {
   "cell_type": "markdown",
   "id": "19a98f7f-dd8b-46be-81d2-ece2c18d52e2",
   "metadata": {},
   "source": [
    "Trước tiên, hãy tạo một chương trình yêu cầu người dùng nhập một số nguyên, đợi người dùng nhập số nguyên, sau đó thông báo cho họ biết kết quả của phép nhân `2` với số đó. Chương trình sẽ tạo ra đầu ra sau (giả sử tôi nhập `4`):\n",
    ">`Enter an integer: 4`\n",
    ">`Double that number is: 8`\n",
    "\n",
    "Chúng ta sẽ giải quyết bài toán này như thế nào? Theo từng bước.\n",
    "\n",
    ">**Thực hành tốt**\n",
    ">\n",
    ">Lập trình viên mới thường cố gắng viết toàn bộ chương trình cùng một lúc, sau đó sẽ bị choáng ngợp khi gặp nhiều lỗi. Chiến lược tốt hơn là thêm từng phần một, đảm bảo nó có thể biên dịch và kiểm tra nó. Sau đó, khi bạn chắc chắn nó hoạt động, hãy chuyển sang phần tiếp theo."
   ]
  },
  {
   "cell_type": "markdown",
   "id": "72accb76-8891-4ce0-b48c-20cfae42ddba",
   "metadata": {},
   "source": [
    "Chúng ta sẽ áp dụng chiến lược đó ở đây. Khi chúng ta thực hiện từng bước, hãy gõ (không sao chép/dán) từng chương trình vào trình soạn thảo mã của bạn, biên dịch và chạy nó.\n",
    "\n",
    "Đầu tiên, ta sẽ tạo một dự án mới.\n",
    "\n",
    "Bây giờ chúng ta hãy bắt đầu với một số bộ khung cơ bản. Chúng ta biết mình sẽ cần một hàm `main()` (vì tất cả các chương trình C++ đều phải có một hàm), vì vậy nếu IDE của bạn không tạo ra một hàm trống khi bạn tạo một dự án mới, hãy tạo một hàm:\n",
    "\n",
    ">```\n",
    ">int main()\n",
    ">{\n",
    ">    return 0;\n",
    ">}\n",
    ">```"
   ]
  },
  {
   "cell_type": "markdown",
   "id": "2e3d14cd-f397-46c3-ae55-a6c7223c4d16",
   "metadata": {},
   "source": [
    "Chúng ta biết mình sẽ cần xuất văn bản ra console và lấy văn bản từ bàn phím của người dùng, vì vậy chúng ta cần `#include <iostream>` để truy cập vào `std::cout` và `std::cin`.\n",
    "\n",
    ">```\n",
    ">#include <iostream>\n",
    ">\n",
    ">int main()\n",
    ">{\n",
    ">    return 0;\n",
    ">}\n",
    ">```"
   ]
  },
  {
   "cell_type": "markdown",
   "id": "af53eafb-e729-499c-89d0-eb906b9f9fbf",
   "metadata": {},
   "source": [
    "Bây giờ hãy thông báo cho người dùng rằng chúng ta cần họ nhập một số nguyên:\n",
    "\n",
    ">```\n",
    ">#include <iostream>\n",
    ">\n",
    ">int main()\n",
    ">{\n",
    ">    std::cout << \"Enter an integer: \";\n",
    ">\n",
    ">    return 0;\n",
    ">}\n",
    ">```"
   ]
  },
  {
   "cell_type": "markdown",
   "id": "bc9dfc3e-6a78-4e3d-9391-a342791bacca",
   "metadata": {},
   "source": [
    "Lúc này, chương trình của bạn sẽ tạo ra kết quả này:\n",
    "\n",
    ">`Enter an integer:`\n",
    "\n",
    "và sau đó kết thúc.\n",
    "\n"
   ]
  },
  {
   "cell_type": "markdown",
   "id": "991c8354-771b-4072-9425-7af50449ac8b",
   "metadata": {},
   "source": [
    "Tiếp theo, chúng ta sẽ lấy đầu vào của người dùng. Chúng ta sẽ sử dụng `std::cin` và toán tử `>>` để lấy đầu vào của người dùng. Nhưng chúng ta cũng cần định nghĩa một biến để lưu trữ đầu vào đó để sử dụng sau này.\n",
    "\n",
    ">```\n",
    ">#include <iostream>\n",
    ">\n",
    ">int main() // Lưu ý: chương trình này có lỗi ở đâu đó\n",
    ">{\n",
    ">    std::cout << \"Enter an integer: \";\n",
    ">\n",
    ">    int num{ }; // Định nghĩa biến num là một biến kiểu số nguyên\n",
    ">    std::cin >> num; // Lấy giá trị số nguyên từ bàn phím của người dùng\n",
    ">\n",
    ">    return 0;\n",
    ">}\n",
    ">```"
   ]
  },
  {
   "cell_type": "markdown",
   "id": "a78c153b-e522-4a78-bda5-b47d25ef577b",
   "metadata": {},
   "source": [
    "Đã đến lúc biên dịch chương trình của chúng ta, và rồi...<br>\n",
    "Ố ồ, đây là những gì tác giả nhận được trên Visual Studio 2017"
   ]
  },
  {
   "cell_type": "markdown",
   "id": "d7e4b4a0-03b4-475c-937d-434d2d039348",
   "metadata": {},
   "source": [
    ">```\n",
    ">1>------ Build started: Project: Double, Configuration: Release Win32 ------\n",
    ">1>Double.cpp\n",
    ">1>c:\\vcprojects\\double\\double.cpp(8): error C2678: binary '<<': no operator found which takes a left-hand operand of type 'std::istream' (or there is no acceptable conversion)\n",
    ">1>c:\\vcprojects\\double\\double.cpp: note: could be 'built-in C++ operator<<(bool, int)'\n",
    ">1>c:\\vcprojects\\double\\double.cpp: note: while trying to match the argument list '(std::istream, int)'\n",
    ">1>Done building project \"Double.vcxproj\" -- FAILED.\n",
    ">========== Build: 0 succeeded, 1 failed, 0 up-to-date, 0 skipped ==========\n",
    ">```"
   ]
  },
  {
   "cell_type": "markdown",
   "id": "fd94a73a-a95b-4456-9543-cde66f81ce30",
   "metadata": {},
   "source": [
    "Ôi chao! Chúng ta đã gặp lỗi biên dịch!\n",
    "\n",
    "Trước tiên, vì chương trình đã biên dịch được trước khi chúng ta thực hiện cập nhật mới nhất này, và bây giờ không biên dịch được nữa, nên lỗi chắc chắn phải nằm trong đoạn mã vừa thêm (dòng 7 và 8). Điều đó giúp giảm đáng kể lượng mã cần kiểm tra để tìm lỗi. Dòng 7 khá đơn giản (chỉ là định nghĩa biến), vì vậy lỗi có thể không nằm ở đó. Điều đó khiến dòng 8 trở thành thủ phạm có khả năng nhất.\n",
    "\n",
    "Thứ hai, thông báo lỗi này không dễ đọc. Nhưng hãy cùng phân tích một số yếu tố chính: Trình biên dịch đang thông báo cho chúng ta rằng nó gặp lỗi ở dòng 8. Điều đó có nghĩa là lỗi thực sự có thể nằm ở dòng 8 hoặc có thể là dòng trước đó, điều này củng cố đánh giá trước đó của chúng ta. Tiếp theo, trình biên dịch đang thông báo cho bạn rằng nó không thể tìm thấy toán tử '<<' nào có toán hạng bên trái kiểu std::istream (đó là kiểu của std::cin). Nói cách khác, toán tử << không biết phải làm gì với std::cin, vì vậy lỗi có thể nằm ở cách chúng ta sử dụng std::cin hoặc cách chúng ta sử dụng toán tử <<.\n",
    "\n",
    "Bạn có thấy lỗi chưa? Nếu chưa, hãy dành một chút thời gian và xem liệu bạn có thể tìm thấy nó không.\n",
    "\n",
    "Đây là chương trình chứa mã đã sửa:\n",
    "\n",
    ">```\n",
    ">#include <iostream>\n",
    ">\n",
    ">int main()\n",
    ">{\n",
    ">    std::cout << \"Enter an integer: \";\n",
    ">\n",
    ">    int num{ };\n",
    ">    std::cin >> num; // std::cin sử dụng toán tử >>, không phải toán tử <<!\n",
    ">\n",
    ">    return 0;\n",
    ">}\n",
    ">```"
   ]
  },
  {
   "cell_type": "markdown",
   "id": "02d44b3f-ca51-479a-b77b-20d32a9a61aa",
   "metadata": {},
   "source": [
    "Bây giờ chương trình sẽ được biên dịch và chúng ta có thể kiểm tra nó. Chương trình sẽ đợi bạn nhập một số, vì vậy hãy nhập `4`. Đầu ra sẽ trông như thế này:\n",
    "\n"
   ]
  },
  {
   "cell_type": "markdown",
   "id": "b10b4ec8-e9ec-44ee-b235-1541aee0a776",
   "metadata": {},
   "source": [
    ">`Enter an integer: 4`\n"
   ]
  },
  {
   "cell_type": "markdown",
   "id": "ae8370cd-3365-48bb-b4be-3a00a2ae1123",
   "metadata": {},
   "source": [
    "Gần xong rồi! Bước cuối cùng là nhân đôi số đó.\n",
    "\n",
    "Khi hoàn thành bước cuối cùng này, chương trình của chúng ta sẽ biên dịch và chạy thành công, tạo ra đầu ra mong muốn.\n",
    "\n",
    "Có (ít nhất) 3 cách để chúng ta có thể thực hiện điều này. Hãy cùng đi từ tệ nhất đến tốt nhất."
   ]
  },
  {
   "cell_type": "markdown",
   "id": "16702607-0954-49e4-9997-a69025a89c10",
   "metadata": {},
   "source": [
    "#### *<u>Giải pháp không tốt:</u>*"
   ]
  },
  {
   "cell_type": "markdown",
   "id": "6dc20fc5-640f-4b4c-ae31-f00fdf316877",
   "metadata": {},
   "source": [
    ">```\n",
    ">#include <iostream>\n",
    ">\n",
    ">// Phiên bản tệ nhất\n",
    ">int main()\n",
    ">{\n",
    ">    std::cout << \"Enter an integer: \";\n",
    ">\n",
    ">    int num{ };\n",
    ">    std::cin >> num;\n",
    ">\n",
    ">    num = num * 2; // Nhân đôi giá trị của num, sau đó gán lại giá trị đó cho num\n",
    ">\n",
    ">    std::cout << \"Double that number is: \" << num << '\\n';\n",
    ">\n",
    ">    return 0;\n",
    ">}\n",
    ">```"
   ]
  },
  {
   "cell_type": "markdown",
   "id": "1c1b5de0-ba72-4d83-8868-eb4b4f959d00",
   "metadata": {},
   "source": [
    "**Giải thích:**\n",
    "\n",
    "Trong giải pháp này, chúng ta sử dụng một biểu thức để nhân `num` với `2`, sau đó gán lại giá trị đó cho `num`. Từ thời điểm đó trở đi, `num` sẽ chứa giá trị được nhân đôi của chúng ta.\n",
    "\n",
    "**Tại sao đây là giải pháp tồi:**\n",
    "\n",
    "- Mất tính minh bạch: Trước khi thực hiện câu lệnh gán, `num` chứa giá trị nhập vào của người dùng. Sau khi gán, nó chứa một giá trị khác. Điều này gây nhầm lẫn.\n",
    "- Ghi đè dữ liệu người dùng: Chúng ta ghi đè lên giá trị nhập vào của người dùng bằng cách gán một giá trị mới cho biến `num`. Do đó, nếu sau này chúng ta muốn mở rộng chương trình để thực hiện một thao tác khác với giá trị nhập vào đó (ví dụ: nhân ba giá trị nhập vào của người dùng), thì giá trị đó đã bị mất."
   ]
  },
  {
   "cell_type": "markdown",
   "id": "7054c245-ace3-4d87-9599-76d3c04ccc4b",
   "metadata": {},
   "source": [
    "#### *<u>Giải pháp tương đối tốt:</u>*"
   ]
  },
  {
   "cell_type": "markdown",
   "id": "e845fd65-4eff-42d3-88c4-84c761fc3c5c",
   "metadata": {},
   "source": [
    ">```\n",
    ">#include <iostream>\n",
    ">\n",
    ">// Phiên bản ít tệ hơn\n",
    ">int main()\n",
    ">{\n",
    ">    std::cout << \"Enter an integer: \";\n",
    ">\n",
    ">    int num{ };\n",
    ">    std::cin >> num;\n",
    ">\n",
    ">    int doublenum{ num * 2 }; // Định nghĩa một biến mới và khởi tạo nó với num * 2\n",
    ">    std::cout << \"Double that number is: \" << doublenum << '\\n'; // Sau đó in giá trị của biến đó ở đây\n",
    ">\n",
    ">    return 0;\n",
    ">}\n",
    ">```\n",
    "\n",
    "**Giải thích:**\n",
    "\n",
    "Giải pháp này khá dễ đọc và hiểu, đồng thời giải quyết cả hai vấn đề gặp phải trong giải pháp tồi tệ nhất.\n",
    "\n",
    "**Nhược điểm:**\n",
    "\n",
    "Nhược điểm chính ở đây là chúng ta đang định nghĩa một biến mới (làm tăng độ phức tạp) để lưu trữ một giá trị mà chúng ta chỉ sử dụng một lần. Chúng ta có thể làm tốt hơn thế.\n",
    "\n"
   ]
  },
  {
   "cell_type": "markdown",
   "id": "e3211191-efbb-495a-a78e-bf82506c4cb4",
   "metadata": {},
   "source": [
    "#### *<u>Giải pháp được ưu tiên</u>*"
   ]
  },
  {
   "cell_type": "markdown",
   "id": "d44ce1c5-784a-4c04-b4d3-c65ddb5740a8",
   "metadata": {},
   "source": [
    ">```\n",
    ">#include <iostream>\n",
    ">\n",
    ">// Phiên bản được ưu tiên\n",
    ">int main()\n",
    ">{\n",
    ">    std::cout << \"Enter an integer: \";\n",
    ">\n",
    ">    int num{ };\n",
    ">    std::cin >> num;\n",
    ">\n",
    ">    std::cout << \"Double that number is: \" <<  num * 2 << '\\n'; // Sử dụng biểu thức để nhân num * 2 tại thời điểm chúng ta sẽ in ra nó\n",
    ">\n",
    ">    return 0;\n",
    ">}\n",
    ">```\n",
    "\n",
    "**Giải thích:**\n",
    "\n",
    "Đây là giải pháp được ưu tiên nhất. Khi `std::cout` thực thi, biểu thức `num * 2` sẽ được tính toán và kết quả sẽ là giá trị gấp đôi của `num`. Giá trị đó sẽ được in ra. Bản thân giá trị trong `num` sẽ không bị thay đổi, vì vậy chúng ta có thể sử dụng lại nó sau này nếu muốn.\n",
    "\n",
    "Phiên bản này là giải pháp tham khảo của chúng tôi."
   ]
  },
  {
   "cell_type": "markdown",
   "id": "9570e110-cb0d-408d-a067-3e6d74d77274",
   "metadata": {},
   "source": [
    ">**Lưu ý của tác giả**\n",
    ">\n",
    ">Mục tiêu đầu tiên và quan trọng nhất của lập trình là khiến chương trình hoạt động. Một chương trình không hoạt động sẽ vô dụng bất kể được viết tốt đến đâu.\n",
    ">\n",
    ">Tuy nhiên, có một câu nói mà tôi rất tâm đắc: \"Bạn phải viết một chương trình một lần để biết cách bạn nên viết nó ngay từ đầu.\" Điều này nói lên rằng giải pháp tốt nhất thường không hiển nhiên, và các giải pháp đầu tiên của chúng ta cho các vấn đề thường không tốt như chúng có thể.\n",
    ">\n",
    ">Khi chúng ta tập trung vào việc tìm cách để làm cho chương trình hoạt động, thì việc đầu tư nhiều thời gian vào mã mà chúng ta thậm chí không biết có giữ lại không là không hợp lý. Vì vậy, chúng tôi sử dụng các phím tắt. Chúng tôi bỏ qua những thứ như xử lý lỗi và chú thích. Chúng tôi rải mã gỡ lỗi xuyên suốt giải pháp của mình để giúp chúng tôi chẩn đoán các vấn đề và tìm lỗi. Chúng tôi học hỏi khi thực hiện - những thứ chúng tôi nghĩ có thể hoạt động thì hóa ra lại không, và chúng tôi phải quay lại và thử một cách tiếp cận khác.\n",
    ">\n",
    ">Kết quả cuối cùng là các giải pháp ban đầu của chúng tôi thường không được cấu trúc tốt, mạnh mẽ (chống lỗi), dễ đọc hoặc ngắn gọn. Vì vậy, một khi chương trình của bạn hoạt động, công việc của bạn thực sự chưa hoàn thành (trừ khi chương trình chỉ sử dụng một lần/bỏ đi). Bước tiếp theo là dọn dẹp mã của bạn. Điều này bao gồm các việc như: xóa (hoặc chú thích) mã tạm thời/gỡ lỗi, thêm chú thích, xử lý các trường hợp lỗi, định dạng mã của bạn và đảm bảo tuân theo các quy trình thực hành tốt nhất. Và thậm chí sau đó, chương trình của bạn có thể không đơn giản như nó có thể - có lẽ có logic trùng lặp có thể được hợp nhất, hoặc nhiều câu lệnh có thể được kết hợp, hoặc các biến không cần thiết, hoặc hàng ngàn điều nhỏ nhặt khác có thể được đơn giản hóa. Quá nhiều lập trình viên mới tập trung vào tối ưu hóa hiệu suất trong khi họ nên tối ưu hóa khả năng bảo trì.\n",
    ">\n",
    ">Rất ít giải pháp được trình bày trong các hướng dẫn này có kết quả tuyệt vời ngay từ lần đầu tiên. Thay vào đó, chúng là kết quả của quá trình tinh chỉnh liên tục cho đến khi không thể tìm thấy gì khác để cải thiện. Và trong nhiều trường hợp, người đọc vẫn tìm thấy nhiều điều khác để gợi ý cải tiến!\n",
    ">\n",
    ">Tất cả những điều này thực sự để nói: đừng thất vọng nếu/khi các giải pháp của bạn không được tối ưu hóa tuyệt vời ngay từ đầu. Điều đó là bình thường. Hoàn thiện trong lập trình là một quá trình lặp lại (yêu cầu lặp lại nhiều lần)."
   ]
  },
  {
   "cell_type": "markdown",
   "id": "0330662c-a0d1-4d4d-92a9-1866a8dfdd17",
   "metadata": {},
   "source": [
    ">**Lưu ý của tác giả**\n",
    ">\n",
    ">Một điều nữa: Bạn có thể đang nghĩ, \"C++ có quá nhiều quy tắc và khái niệm. Làm thế nào để nhớ tất cả những thứ này?\".\n",
    ">\n",
    ">Câu trả lời ngắn gọn: Bạn không cần nhớ. C++ là sự kết hợp giữa việc sử dụng những gì bạn đã biết và việc tra cứu cách thực hiện phần còn lại.\n",
    ">\n",
    ">Khi bạn đọc trang web này lần đầu tiên, hãy tập trung ít hơn vào việc ghi nhớ các chi tiết cụ thể, mà nhiều hơn vào việc hiểu những gì có thể. Sau đó, khi bạn cần triển khai một cái gì đó trong chương trình bạn đang viết, bạn có thể quay lại đây (hoặc đến một trang web tham khảo) và làm mới lại kiến thức của mình về cách thực hiện."
   ]
  },
  {
   "cell_type": "markdown",
   "id": "4192db4a-d9a8-4625-9284-977fceec3288",
   "metadata": {},
   "source": [
    "## **Bài 1.x: <u>Tổng kết và bài kiểm tra</u>**"
   ]
  },
  {
   "cell_type": "markdown",
   "id": "4efe2ff3-6be7-4e7b-bdb6-3edb447c38f1",
   "metadata": {},
   "source": [
    "### **Tóm tắt:**"
   ]
  },
  {
   "cell_type": "markdown",
   "id": "9266dfd3-f20e-459d-b9aa-de480fa13783",
   "metadata": {},
   "source": [
    "\n",
    "**Câu lệnh (statement):** Là một dạng hướng dẫn chương trình thực hiện một hành động nào đó. Thường kết thúc bằng dấu chấm phẩy (`;`).\n",
    "\n",
    "**Hàm (function):** Là một tập hợp các câu lệnh được thực thi tuần tự. Mỗi chương trình C++ phải bao gồm một hàm đặc biệt tên là `main`. Khi bạn chạy chương trình, việc thực thi bắt đầu từ đầu hàm `main`.\n",
    "\n",
    "**Định danh (identifier):** Trong lập trình, tên của hàm (hoặc đối tượng, kiểu dữ liệu, mẫu template, v.v.) được gọi là định danh của nó.\n",
    "\n",
    "**Cú pháp (syntax):** Là các quy tắc chi phối cách xây dựng các thành phần của ngôn ngữ C++. **Lỗi cú pháp (syntax error)** xảy ra khi bạn vi phạm các quy tắc ngữ pháp của ngôn ngữ.\n",
    "\n",
    "**Chú thích (comment):** Cho phép lập trình viên để lại ghi chú trong code. C++ hỗ trợ hai loại chú thích:\n",
    "Chú thích dòng bắt đầu bằng `//` và kéo dài đến hết dòng.\n",
    "Chú thích khối bắt đầu bằng `/*` và kết thúc bằng `*/`. Không nên lồng các chú thích khối.\n",
    "Bạn có thể sử dụng chú thích để tạm thời vô hiệu hóa các dòng hoặc phần code. Đây được gọi là đóng chú thích đoạn code `(commenting out your code)`.\n",
    "\n",
    "**Dữ liệu (data):** Là bất kỳ thông tin nào có thể được di chuyển, xử lý hoặc lưu trữ bởi máy tính. Một đơn vị dữ liệu riêng lẻ được gọi là giá trị (value). Các ví dụ phổ biến về giá trị bao gồm chữ cái (ví dụ: `a`), số (ví dụ: `5`) và văn bản (ví dụ: `Xin chào`).\n",
    "\n",
    "**Biến (variable):** Là một vùng nhớ được đặt tên mà chúng ta có thể sử dụng để lưu trữ giá trị. Để tạo biến, chúng ta sử dụng một câu lệnh gọi là **câu lệnh khai báo (definition statement).** Khi chương trình chạy, mỗi biến được khai báo sẽ được khởi tạo (instantiated), nghĩa là nó được gán một địa chỉ nhớ.\n",
    "\n",
    "**Kiểu dữ liệu (data type):** Cho biết với trình biên dịch (compiler) cách diễn giải một phần dữ liệu thành giá trị có ý nghĩa. **Một số nguyên (integer)** là một số có thể được viết mà không có phần thập phân, chẳng hạn như `4`, `27`, `0`, `-2` hoặc `-12`.\n",
    "\n",
    "**Gán sao chép (copy assignment)** (thông qua toán tử `=`) có thể được sử dụng để gán giá trị cho một biến đã được tạo.\n",
    "\n",
    "**Khởi tạo (initialization):** Quá trình chỉ định giá trị ban đầu cho một đối tượng được gọi là khởi tạo, và cú pháp được sử dụng để khởi tạo một đối tượng được gọi là bộ khởi tạo (initializer).\n",
    "\n",
    "Nói một cách đơn giản, C++ hỗ trợ 6 loại khởi tạo cơ bản:"
   ]
  },
  {
   "cell_type": "markdown",
   "id": "fd2e585a-3412-424b-97eb-44b85ff629e5",
   "metadata": {},
   "source": [
    "| **Loại khởi tạo**            | **Ví dụ**        | **Ghi chú**                                                      |\n",
    "|------------------------------|------------------|------------------------------------------------------------------|\n",
    "| Khởi tạo mặc định            | `int x;`         | Trong hầu hết các trường hợp, để biến với giá trị không xác định |\n",
    "| Khởi tạo sao chép            | `int x = 5;`     |                                                                  |\n",
    "| Khởi tạo trực tiếp           | `int x ( 5 );`   | Đôi khi được gọi là khởi tạo bằng dấu ngoặc đơn                  |\n",
    "| Khởi tạo danh sách trực tiếp | `int x { 5 };`   | Không được phép ép kiểu hẹp (narrow conversion)                  |\n",
    "| Khởi tạo danh sách sao chép  | `int x = { 5 };` | Không được phép ép kiểu hẹp                                      |\n",
    "| Khởi tạo giá trị             | `int x {};`      | Thường thực hiện khởi tạo bằng 0                                 |"
   ]
  },
  {
   "cell_type": "markdown",
   "id": "2baabcff-6858-421b-816a-0f3740df84be",
   "metadata": {},
   "source": [
    "Khởi tạo trực tiếp đôi khi được gọi là khởi tạo bằng dấu ngoặc đơn, và khởi tạo danh sách (bao gồm khởi tạo giá trị) đôi khi được gọi là khởi tạo đồng nhất (uniform initialization) hoặc khởi tạo bằng dấu ngoặc nhọn (brace initialization).\n",
    "Bạn nên ưu tiên khởi tạo bằng dấu ngoặc nhọn so với các dạng khởi tạo khác và ưu tiên khởi tạo so với gán."
   ]
  },
  {
   "cell_type": "markdown",
   "id": "10a12077-1282-4a34-81a6-25f91e4dbbf1",
   "metadata": {},
   "source": [
    "Mặc dù bạn có thể định nghĩa nhiều biến trong một câu lệnh duy nhất, nhưng tốt hơn là nên định nghĩa và khởi tạo từng biến trên một dòng riêng, trong một câu lệnh riêng biệt.\n",
    "\n",
    "`std::cout` và toán tử `<<` cho phép chúng ta xuất kết quả của một biểu thức ra bảng điều khiển (console).\n",
    "\n",
    "`std::endl` xuất ra một ký tự xuống dòng, buộc con trỏ nhấp nháy của bảng điều khiển di chuyển đến dòng tiếp theo và xả bất kỳ đầu ra nào đang chờ xử lý ra bảng điều khiển. Ký tự `'\\n'` cũng xuất ra một ký tự xuống dòng, nhưng cho phép hệ thống quyết định thời điểm xả đầu ra. Hãy cẩn thận không sử dụng `'/n'` (gạch chéo hướng về trước).\n",
    "\n",
    "`std::cin` và toán tử `>>` cho phép chúng ta lấy giá trị từ bàn phím.\n",
    "\n",
    "Một biến chưa được gán giá trị được gọi là biến chưa được khởi tạo. Việc cố gắng lấy giá trị của một biến chưa được khởi tạo sẽ dẫn đến **hành vi bất định (undefined behavior)**, có thể biểu hiện theo nhiều cách khác nhau.\n",
    "\n",
    "C++ dành riêng một bộ tên gọi là **từ khóa (keyword)**. Chúng có ý nghĩa đặc biệt trong ngôn ngữ và không được sử dụng làm tên biến.\n",
    "\n",
    "Một giá trị nguyên văn (literal constant) là một giá trị cố định được đưa trực tiếp vào mã nguồn. Ví dụ như `5` và `\"Hello world!\"`.\n",
    "\n",
    "**Một phép toán (operation)** là một quá trình liên quan đến không hoặc nhiều giá trị đầu vào, được gọi là **toán hạng (operand)**. Phép toán cụ thể cần thực hiện được biểu thị bằng **toán tử (operator)** được cung cấp. Kết quả của một phép toán tạo ra một **giá trị đầu ra**.\n",
    "\n",
    "**Toán tử một ngôi (Unary operator)** lấy một toán hạng.\n",
    "**Toán tử hai ngôi (Binary operator)** lấy hai toán hạng, thường được gọi là trái và phải.\n",
    "**Toán tử ba ngôi (Ternary operator)** lấy ba toán hạng.\n",
    "**Toán tử không ngôi (Nullary operator)** lấy không toán hạng.\n",
    "\n",
    "**Một biểu thức (expression)** là một chuỗi các literal, biến, toán tử và lời gọi hàm được tính toán để tạo ra một giá trị đầu ra duy nhất. Việc tính toán giá trị đầu ra này được gọi là **đánh giá (evaluation).** Giá trị được tạo ra là **kết quả (result)** của biểu thức.\n",
    "\n",
    "**Một câu lệnh biểu thức (expression statement)** là một biểu thức được chuyển thành một câu lệnh bằng cách đặt dấu chấm phẩy ở cuối biểu thức.\n",
    "\n",
    "Khi viết chương trình, hãy thêm một vài dòng hoặc một hàm, biên dịch, giải quyết bất kỳ lỗi nào và đảm bảo nó hoạt động. Đừng đợi cho đến khi bạn viết toàn bộ chương trình mới biên dịch nó lần đầu tiên!\n",
    "\n",
    "Tập trung vào việc làm cho mã của bạn hoạt động. Sau khi bạn chắc chắn sẽ giữ lại một phần mã nào đó, thì bạn có thể dành thời gian để loại bỏ (hoặc đóng chú thích) mã tạm thời/gỡ lỗi, thêm chú thích, xử lý các trường hợp lỗi, định dạng mã của bạn, đảm bảo tuân theo các quy trình thực hành tốt nhất, loại bỏ logic trùng lặp, v.v.\n",
    "\n",
    "Các chương trình bản nháp đầu tiên thường lộn xộn và không hoàn hảo. Hầu hết các code cần được dọn dẹp và tinh chỉnh để trở nên tuyệt vời!"
   ]
  }
 ],
 "metadata": {
  "kernelspec": {
   "display_name": "Python 3 (ipykernel)",
   "language": "python",
   "name": "python3"
  },
  "language_info": {
   "codemirror_mode": {
    "name": "ipython",
    "version": 3
   },
   "file_extension": ".py",
   "mimetype": "text/x-python",
   "name": "python",
   "nbconvert_exporter": "python",
   "pygments_lexer": "ipython3",
   "version": "3.12.2"
  }
 },
 "nbformat": 4,
 "nbformat_minor": 5
}
