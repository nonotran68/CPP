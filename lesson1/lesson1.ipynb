{
 "cells": [
  {
   "cell_type": "markdown",
   "id": "0288dd96-862c-403d-bcc7-4de383c92a74",
   "metadata": {},
   "source": [
    "# **Bài 1**: <u>Lệnh và cấu trúc của một chương trình C++</u>"
   ]
  },
  {
   "cell_type": "markdown",
   "id": "02aafbf0-e890-4c07-a67d-163b3b811734",
   "metadata": {},
   "source": [
    "### **Câu lệnh**"
   ]
  },
  {
   "cell_type": "markdown",
   "id": "3ae043ef-1687-4f09-9c8f-e95fd2503d88",
   "metadata": {},
   "source": [
    "- Một chương trình máy tính là 1 chuỗi các chỉ dẫn (instructions) để máy tính thực hiện. Câu lệnh là một loại chỉ dẫn khiến máy tính thực hiện hành động nào đó. Câu lệnh là đơn vị nhỏ nhất trong 1 cấu trúc chương trình C++.\n",
    "- Hầu hết (nhưng không phải tất cả) các câu lệnh C++ đều kết thúc bằng dấu `;`\n",
    "- Vì C++ là 1 ngôn ngữ bậc cao nên 1 câu lệnh có thể dịch thành nhiều lệnh mã máy.\n",
    "> Có nhiều loại câu lệnh trong C++, bao gồm:\n",
    "> - Câu lệnh điều khiển:\n",
    ">   - `if`, `else`, `switch`: Dùng để điều khiển luồng thực thi của chương trình dựa trên điều kiện.\n",
    ">   - `for`, `while`, `do while`: Dùng để lặp lại một khối mã nhiều lần.\n",
    ">   - `break`, `continue`: Dùng để điều khiển việc lặp lại trong các vòng lặp.\n",
    "> - Câu lệnh gán:\n",
    ">   - `=`: Dùng để gán giá trị cho biến.\n",
    "> - Câu lệnh nhập xuất:\n",
    ">   - `cin`, `cout`: Dùng để nhập dữ liệu từ bàn phím và xuất dữ liệu ra màn hình.\n",
    ">   - `cin.get()`, `cout.put()`: Dùng để nhập xuất từng ký tự một.\n",
    "> - Câu lệnh toán học:\n",
    ">   - Các phép toán cộng, trừ, nhân, chia, modulo (`+, -, *, /, %`).\n",
    ">   - Các phép toán toán học nâng cao như `log, exp, sqrt, pow`.\n",
    "> - Câu lệnh logic:\n",
    ">   - `&&`, `||`, `!`: Dùng để thực hiện các phép toán logic AND, OR, NOT.\n",
    "> - Câu lệnh khai báo:\n",
    ">   - `int`, `float`, `char`, `string`: Dùng để khai báo biến với các kiểu dữ liệu khác nhau.\n",
    ">   - `const`, `volatile`: Dùng để khai báo các thuộc tính của biến.\n",
    "> - Câu lệnh khác:\n",
    ">   - `return`: Dùng để trả về giá trị từ hàm.\n",
    ">   - `goto`: Dùng để chuyển đến một nhãn cụ thể trong chương trình.\n",
    ">   -  Vân vân.........."
   ]
  },
  {
   "cell_type": "markdown",
   "id": "dc82b6b3-9574-4814-8afe-fbfd08615747",
   "metadata": {},
   "source": [
    "### **Hàm và hàm main()**"
   ]
  },
  {
   "cell_type": "markdown",
   "id": "76718e99-ce6c-41f5-bcf3-9d9943f46a22",
   "metadata": {},
   "source": [
    "- Trong C++, các câu lệnh thường được nhóm lại thành các đơn vị được gọi là các hàm. **Hàm** là 1 tập hợp các lệnh thực thi tuần tự (từ trên xuống).\n",
    "> ***Quy tắc***:\n",
    "> - Hàm `main()` là điểm bắt đầu của mọi chương trình C++. Hàm này được thực thi đầu tiên khi chương trình khởi chạy.\n",
    "> - Hàm `main()` bắt buộc phải có trong mọi chương trình C++.\n",
    "> - Các chương trình thường kết thúc (chạy xong) sau khi câu lệnh cuối cùng bên trong hàm `main()` được thực thi (mặc dù các chương trình có thể bị hủy sớm trong một số trường hợp hoặc thực hiện một số thao tác dọn dẹp sau đó).\n",
    "- Các hàm thường được viết để thực hiện một công việc cụ thể. Ví dụ: một hàm có tên `max` có thể chứa các câu lệnh tìm ra số nào lớn hơn trong hai số. Hàm có tên là `CalculateGrade` có thể tính điểm của học sinh từ một tập hợp điểm kiểm tra. Một hàm có tên `printEmployee` có thể in thông tin của nhân viên ra bảng điều khiển. Chúng ta sẽ sớm nói nhiều hơn về các hàm vì chúng là công cụ tổ chức được sử dụng phổ biến nhất trong một chương trình.\n",
    "> ***Thuật ngữ***\n",
    "> - Khi thảo luận về hàm, cách viết tắt khá phổ biến là thêm một cặp dấu ngoặc đơn vào cuối tên hàm. Ví dụ: nếu bạn thấy thuật ngữ `main()` hoặc `doSomething()`, thì đây là cách viết tắt tương ứng của các hàm có tên `main` hoặc `doSomething`. Điều này giúp phân biệt hàm với những thứ khác bằng tên (chẳng hạn như biến) mà không cần phải viết từ “hàm” mỗi lần.\n"
   ]
  },
  {
   "cell_type": "markdown",
   "id": "fe306d87-da49-4545-8edd-257008c996ec",
   "metadata": {},
   "source": [
    "### **Phân tích chương trình *\"Hello world\"***"
   ]
  },
  {
   "cell_type": "markdown",
   "id": "2f550d1e-9c22-4349-8a5a-c9eb832c49b0",
   "metadata": {},
   "source": [
    "Bây giờ bạn đã hiểu ngắn gọn về câu lệnh và hàm là gì, hãy quay lại chương trình “Hello world” (xin chào thế giới) và xem xét kỹ hơn chức năng của từng dòng một cách chi tiết hơn.\n",
    "```\n",
    "1 #include <iostream>\n",
    "2 \n",
    "3 int main()\n",
    "4 {\n",
    "5   std::cout << \"Hello world!\";\n",
    "6   return 0;\n",
    "7 }\n",
    "```\n",
    "- Dòng 1 được gọi là chỉ thị tiền xử lí (preprocessor directive). Lệnh tiền xử lý này cho biết rằng chúng ta muốn sử dụng nội dung của thư viện `iostream`, một phần của thư viện chuẩn C++ cho phép chúng ta đọc và ghi văn bản từ/đến bảng điều khiển. Chúng ta cần dòng này để sử dụng `std::cout` trên dòng 5. Việc loại trừ dòng này sẽ dẫn đến lỗi biên dịch trên dòng 5, vì trình biên dịch sẽ không biết `std::cout` là gì.\n",
    "- Dòng 2 trống và bị trình biên dịch bỏ qua. Dòng này chỉ tồn tại để giúp con người dễ đọc chương trình hơn (bằng cách tách chỉ thị tiền xử lý `#include` và các phần tiếp theo của chương trình).\n",
    "- Dòng 3 cho trình biên dịch biết rằng chúng ta sẽ viết (định nghĩa) một hàm có tên (mã định danh) là `main`. Như bạn đã học ở trên, mọi chương trình C++ đều phải có một hàm `main` nếu không sẽ không liên kết được.\n",
    "- Dòng 4 và 7 cho trình biên dịch biết dòng nào là một phần của hàm `main`. Tất cả mọi thứ nằm giữa ngoặc nhọn mở ở dòng 4 và ngoặc nhọn đóng ở dòng 7 được coi là một phần của thân hàm `main`. Đây được gọi là thân hàm.\n",
    "- Dòng 5 là câu lệnh đầu tiên trong hàm `main` và là câu lệnh đầu tiên được thực thi khi chúng tôi chạy chương trình. `std::cout` (viết tắt của “character output”) và toán tử << cho phép chúng tôi hiển thị thông tin trên bảng điều khiển. Trong trường hợp này, chúng tôi đang hiển thị văn bản \"Hello world!\". Câu lệnh này tạo ra đầu ra hiển thị của chương trình.\n",
    "- Dòng 6 là một câu lệnh return. Khi một chương trình thực thi được kết thúc, chương trình sẽ gửi một giá trị trở lại hệ điều hành để cho biết nó có chạy thành công hay không. Câu lệnh return cụ thể này trả về giá trị 0 cho hệ điều hành, có nghĩa là “mọi thứ đều ổn!”. Đây là câu lệnh cuối cùng trong chương trình được thực thi.\n",
    "\n",
    "Tất cả các chương trình chúng tôi viết sẽ tuân theo khuôn mẫu chung này hoặc biến thể của nó.\n",
    "\n",
    "Bạn có thể tự mình biên dịch và chạy chương trình này và bạn sẽ thấy nó xuất ra bảng điều khiển những thông tin sau:\n",
    "> `Hello world!`\n",
    "\n",
    "\n"
   ]
  },
  {
   "cell_type": "markdown",
   "id": "71804147-4f58-4682-a7f0-f21271360090",
   "metadata": {},
   "source": [
    "### **Cú pháp và lỗi cú pháp**"
   ]
  },
  {
   "cell_type": "markdown",
   "id": "6e7d8a01-35bc-4f4b-bb28-497fcc8aa083",
   "metadata": {},
   "source": [
    "- **Cú pháp** là tập hợp các quy tắc chi phối cách viết mã C++ hợp lệ. Nó bao gồm các quy tắc về:\n",
    "  - **Từ khóa**: Các từ khóa được sử dụng để xác định các cấu trúc ngôn ngữ như hàm, vòng lặp và điều kiện.\n",
    "  - **Định danh**: Định danh là tên được sử dụng cho các biến, hàm và các thực thể khác trong chương trình.\n",
    "  - **Toán tử**: Toán tử được sử dụng để thực hiện các phép toán trên các toán hạng.\n",
    "  - **Biểu thức**: Biểu thức là một tập hợp các toán hạng và toán tử được kết hợp để tạo ra một giá trị.\n",
    "  - **Câu lệnh**: Câu lệnh là một chỉ dẫn cho trình biên dịch thực hiện một hành động.\n",
    "  - **Cấu trúc**: Cấu trúc là một cách để nhóm các câu lệnh lại với nhau.\n",
    "- **Lỗi cú pháp** là lỗi xảy ra khi mã C++ vi phạm các quy tắc cú pháp. Lỗi cú pháp sẽ khiến trình biên dịch không thể biên dịch mã.\n",
    "- Một số ví dụ về lỗi cú pháp:\n",
    "    - Sai chính tả từ khóa.\n",
    "    - Thiếu dấu chấm phẩy ở cuối câu lệnh.\n",
    "    - Sai số lượng ngoặc đơn hoặc ngoặc nhọn.\n",
    "    - Sử dụng định danh không hợp lệ.\n",
    "- Cách khắc phục lỗi cú pháp:\n",
    "    - Đọc kỹ thông báo lỗi của trình biên dịch.\n",
    "    - Kiểm tra mã của bạn để tìm các lỗi chính tả và lỗi đánh máy.\n",
    "    - Tham khảo tài liệu về cú pháp C++ để đảm bảo rằng bạn đang sử dụng các quy tắc cú pháp chính xác.\n",
    "- Để tránh lỗi cú pháp:\n",
    "    - Sử dụng trình soạn thảo mã có hỗ trợ tô sáng cú pháp (syntax highlighting).\n",
    "    - Kiểm tra mã của bạn cẩn thận trước khi biên dịch.\n",
    "    - Viết mã theo từng bước nhỏ và kiểm tra từng bước."
   ]
  },
  {
   "cell_type": "markdown",
   "id": "d38bb744-7995-4ad0-a42d-bafe735139de",
   "metadata": {},
   "source": [
    "Hãy xem điều gì sẽ xảy ra nếu chúng ta bỏ qua dấu chấm phẩy ở dòng 5 của chương trình “Hello world”, như sau:\n",
    "```\n",
    "#include <iostream>\n",
    "\n",
    "int main()\n",
    "{\n",
    "   std::cout << \"Hello world!\"\n",
    "   return 0;\n",
    "}\n",
    "```\n",
    "Trình biên dịch sẽ báo lỗi cho chúng ta biết: \n",
    "```\n",
    "ls1.cpp: In function ‘int main()’:\n",
    "ls1.cpp:3:32: error: expected ‘;’ before ‘return’\n",
    "    3 |     std::cout << \"Hello world!\"\n",
    "      |                                ^\n",
    "      |                                ;\n",
    "    4 |     return 0;\n",
    "      |     ~~~~~~                      \n",
    "```"
   ]
  },
  {
   "cell_type": "markdown",
   "id": "a5a201eb-2ca3-4add-9745-adb76e13372a",
   "metadata": {},
   "source": [
    "### **Chú thích**"
   ]
  },
  {
   "cell_type": "markdown",
   "id": "dd8f4c66-0f62-4a4a-8383-8ec0754b235c",
   "metadata": {},
   "source": [
    "- Chú thích là những dòng văn bản được thêm vào mã C++ để giúp con người hiểu rõ hơn về mã. Chúng bị trình biên dịch bỏ qua và không ảnh hưởng đến cách chương trình chạy.\n",
    "- Trong C++ có hai kiểu chú thích khác nhau, cả hai đều phục vụ cùng một mục đích: giúp các lập trình viên ghi lại mã theo một cách nào đó.\n",
    "    - **Chú thích một dòng**: Bắt đầu bằng `//` và kết thúc ở cuối dòng.\n",
    "    > <u>Ví dụ:</u>\n",
    "    > \n",
    "    > `std::cout << \"Hello world!\"; // Everything from here to the end of the line is ignored`\n",
    "    - **Chú thích nhiều dòng**: Bắt đầu bằng `/*` và kết thúc bằng `*/`.\n",
    "    > <u>Ví dụ:</u>\n",
    "    > \n",
    "    > `/* Đây là chú thích nhiều dòng`\\\n",
    "    > `Có thể bao gồm nhiều dòng */`\n",
    "- Chú thích có thể được sử dụng để:\n",
    "    - Giải thích mục đích của một đoạn mã.\n",
    "    - Ghi chú về cách thức hoạt động của một đoạn mã.\n",
    "    - Ghi chú về các thay đổi đã được thực hiện đối với mã.\n",
    "    - Ghi chú về các vấn đề tiềm ẩn với mã.\n",
    "- Dưới đây là một số mẹo để sử dụng chú thích hiệu quả:\n",
    "    - Viết chú thích rõ ràng và súc tích.\n",
    "    - Sử dụng chú thích để giải thích những phần mã phức tạp.\n",
    "    - Sử dụng chú thích để ghi chú về các thay đổi quan trọng đối với mã.\n",
    "    - Sử dụng chú thích để ghi chú về các vấn đề tiềm ẩn với mã.\n",
    "    - Tránh sử dụng chú thích để lặp lại thông tin hiển nhiên trong mã."
   ]
  },
  {
   "cell_type": "markdown",
   "id": "62aa2593-82f9-4fc0-92dc-fdaa86005ce9",
   "metadata": {},
   "source": [
    "- Ví dụ về chú thích tốt:\n",
    "  - Giải thích mục đích của đoạn mã:\n",
    "  ```\n",
    "    // Hàm này tính diện tích của một hình vuông\n",
    "    int square_area(int side_length) {\n",
    "      return side_length * side_length;\n",
    "    }\n",
    "  ```\n",
    "  - Ghi chú về cách thức hoạt động của một đoạn mã:\n",
    "  ```\n",
    "    // Vòng lặp này in ra các số từ 1 đến 10\n",
    "    for (int i = 1; i <= 10; i++) {\n",
    "      std::cout << i << std::endl;\n",
    "    }\n",
    "\n",
    "  ```\n",
    "  - Ghi chú về các thay đổi đã được thực hiện đối với mã:\n",
    "  ```\n",
    "    // Đã sửa lỗi trong hàm `square_area`\n",
    "    // Hàm hiện hoạt động chính xác cho tất cả các giá trị đầu vào\n",
    "  ```\n",
    "  - Ghi chú về các vấn đề tiềm ẩn với mã:\n",
    "  ```\n",
    "    // Lưu ý: Hàm này có thể gây tràn bộ nhớ nếu `n` quá lớn\n",
    "    int factorial(int n) {\n",
    "      if (n == 0) {\n",
    "        return 1;\n",
    "      } else {\n",
    "        return n * factorial(n - 1);\n",
    "      }\n",
    "    }\n",
    "\n",
    "  ```\n",
    "- Chú thích tệ:\n",
    "    - Lặp lại thông tin hiển nhiên trong mã:\n",
    "    ```\n",
    "        // int i = 1; // Biến i được khởi tạo với giá trị 1\n",
    "\n",
    "    ```\n",
    "    - Chú thích không rõ ràng:\n",
    "    ```\n",
    "    // Hàm này thực hiện một số phép toán\n",
    "        int do_something(int a, int b) {\n",
    "          // ...\n",
    "        }\n",
    "    ```\n",
    "    - Chú thích không hữu ích:\n",
    "    ```\n",
    "        // Đây là một hàm\n",
    "        void my_function() {\n",
    "          // ...\n",
    "        }\n",
    "    ```\n",
    "- **Chú thích tốt giúp cho mã C++ của bạn dễ đọc và dễ hiểu hơn.**\n"
   ]
  },
  {
   "cell_type": "markdown",
   "id": "ada7a714-995f-4394-b908-15750302d480",
   "metadata": {},
   "source": []
  }
 ],
 "metadata": {
  "kernelspec": {
   "display_name": "Python 3 (ipykernel)",
   "language": "python",
   "name": "python3"
  },
  "language_info": {
   "codemirror_mode": {
    "name": "ipython",
    "version": 3
   },
   "file_extension": ".py",
   "mimetype": "text/x-python",
   "name": "python",
   "nbconvert_exporter": "python",
   "pygments_lexer": "ipython3",
   "version": "3.12.2"
  }
 },
 "nbformat": 4,
 "nbformat_minor": 5
}
