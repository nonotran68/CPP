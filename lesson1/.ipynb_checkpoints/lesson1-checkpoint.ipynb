{
 "cells": [
  {
   "cell_type": "markdown",
   "id": "0288dd96-862c-403d-bcc7-4de383c92a74",
   "metadata": {},
   "source": [
    "# **Bài 1.1: <u>Lệnh và cấu trúc của một chương trình C++</u>**"
   ]
  },
  {
   "cell_type": "markdown",
   "id": "02aafbf0-e890-4c07-a67d-163b3b811734",
   "metadata": {},
   "source": [
    "### **Câu lệnh**"
   ]
  },
  {
   "cell_type": "markdown",
   "id": "3ae043ef-1687-4f09-9c8f-e95fd2503d88",
   "metadata": {},
   "source": [
    "- Một chương trình máy tính là 1 chuỗi các chỉ dẫn (instructions) để máy tính thực hiện. Câu lệnh là một loại chỉ dẫn khiến máy tính thực hiện hành động nào đó. Câu lệnh là đơn vị nhỏ nhất trong 1 cấu trúc chương trình C++.\n",
    "- Hầu hết (nhưng không phải tất cả) các câu lệnh C++ đều kết thúc bằng dấu `;`\n",
    "- Vì C++ là 1 ngôn ngữ bậc cao nên 1 câu lệnh có thể dịch thành nhiều lệnh mã máy.\n",
    "> Có nhiều loại câu lệnh trong C++, bao gồm:\n",
    "> - Câu lệnh điều khiển:\n",
    ">   - `if`, `else`, `switch`: Dùng để điều khiển luồng thực thi của chương trình dựa trên điều kiện.\n",
    ">   - `for`, `while`, `do while`: Dùng để lặp lại một khối mã nhiều lần.\n",
    ">   - `break`, `continue`: Dùng để điều khiển việc lặp lại trong các vòng lặp.\n",
    "> - Câu lệnh gán:\n",
    ">   - `=`: Dùng để gán giá trị cho biến.\n",
    "> - Câu lệnh nhập xuất:\n",
    ">   - `cin`, `cout`: Dùng để nhập dữ liệu từ bàn phím và xuất dữ liệu ra màn hình.\n",
    ">   - `cin.get()`, `cout.put()`: Dùng để nhập xuất từng ký tự một.\n",
    "> - Câu lệnh toán học:\n",
    ">   - Các phép toán cộng, trừ, nhân, chia, modulo (`+, -, *, /, %`).\n",
    ">   - Các phép toán toán học nâng cao như `log, exp, sqrt, pow`.\n",
    "> - Câu lệnh logic:\n",
    ">   - `&&`, `||`, `!`: Dùng để thực hiện các phép toán logic AND, OR, NOT.\n",
    "> - Câu lệnh khai báo:\n",
    ">   - `int`, `float`, `char`, `string`: Dùng để khai báo biến với các kiểu dữ liệu khác nhau.\n",
    ">   - `const`, `volatile`: Dùng để khai báo các thuộc tính của biến.\n",
    "> - Câu lệnh khác:\n",
    ">   - `return`: Dùng để trả về giá trị từ hàm.\n",
    ">   - `goto`: Dùng để chuyển đến một nhãn cụ thể trong chương trình.\n",
    ">   -  Vân vân.........."
   ]
  },
  {
   "cell_type": "markdown",
   "id": "dc82b6b3-9574-4814-8afe-fbfd08615747",
   "metadata": {},
   "source": [
    "### **Hàm và hàm main()**"
   ]
  },
  {
   "cell_type": "markdown",
   "id": "76718e99-ce6c-41f5-bcf3-9d9943f46a22",
   "metadata": {},
   "source": [
    "- Trong C++, các câu lệnh thường được nhóm lại thành các đơn vị được gọi là các hàm. **Hàm** là 1 tập hợp các lệnh thực thi tuần tự (từ trên xuống).\n",
    "> ***Quy tắc***:\n",
    "> - Hàm `main()` là điểm bắt đầu của mọi chương trình C++. Hàm này được thực thi đầu tiên khi chương trình khởi chạy.\n",
    "> - Hàm `main()` bắt buộc phải có trong mọi chương trình C++.\n",
    "> - Các chương trình thường kết thúc (chạy xong) sau khi câu lệnh cuối cùng bên trong hàm `main()` được thực thi (mặc dù các chương trình có thể bị hủy sớm trong một số trường hợp hoặc thực hiện một số thao tác dọn dẹp sau đó).\n",
    "- Các hàm thường được viết để thực hiện một công việc cụ thể. Ví dụ: một hàm có tên `max` có thể chứa các câu lệnh tìm ra số nào lớn hơn trong hai số. Hàm có tên là `CalculateGrade` có thể tính điểm của học sinh từ một tập hợp điểm kiểm tra. Một hàm có tên `printEmployee` có thể in thông tin của nhân viên ra bảng điều khiển. Chúng ta sẽ sớm nói nhiều hơn về các hàm vì chúng là công cụ tổ chức được sử dụng phổ biến nhất trong một chương trình.\n",
    "> ***Thuật ngữ***\n",
    "> - Khi thảo luận về hàm, cách viết tắt khá phổ biến là thêm một cặp dấu ngoặc đơn vào cuối tên hàm. Ví dụ: nếu bạn thấy thuật ngữ `main()` hoặc `doSomething()`, thì đây là cách viết tắt tương ứng của các hàm có tên `main` hoặc `doSomething`. Điều này giúp phân biệt hàm với những thứ khác bằng tên (chẳng hạn như biến) mà không cần phải viết từ “hàm” mỗi lần.\n"
   ]
  },
  {
   "cell_type": "markdown",
   "id": "fe306d87-da49-4545-8edd-257008c996ec",
   "metadata": {},
   "source": [
    "### **Phân tích chương trình *\"Hello world\"***"
   ]
  },
  {
   "cell_type": "markdown",
   "id": "2f550d1e-9c22-4349-8a5a-c9eb832c49b0",
   "metadata": {},
   "source": [
    "Bây giờ bạn đã hiểu ngắn gọn về câu lệnh và hàm là gì, hãy quay lại chương trình “Hello world” (xin chào thế giới) và xem xét kỹ hơn chức năng của từng dòng một cách chi tiết hơn.\n",
    "```\n",
    "1 #include <iostream>\n",
    "2 \n",
    "3 int main()\n",
    "4 {\n",
    "5   std::cout << \"Hello world!\";\n",
    "6   return 0;\n",
    "7 }\n",
    "```\n",
    "- Dòng 1 được gọi là chỉ thị tiền xử lí (preprocessor directive). Lệnh tiền xử lý này cho biết rằng chúng ta muốn sử dụng nội dung của thư viện `iostream`, một phần của thư viện chuẩn C++ cho phép chúng ta đọc và ghi văn bản từ/đến bảng điều khiển. Chúng ta cần dòng này để sử dụng `std::cout` trên dòng 5. Việc loại trừ dòng này sẽ dẫn đến lỗi biên dịch trên dòng 5, vì trình biên dịch sẽ không biết `std::cout` là gì.\n",
    "- Dòng 2 trống và bị trình biên dịch bỏ qua. Dòng này chỉ tồn tại để giúp con người dễ đọc chương trình hơn (bằng cách tách chỉ thị tiền xử lý `#include` và các phần tiếp theo của chương trình).\n",
    "- Dòng 3 cho trình biên dịch biết rằng chúng ta sẽ viết (định nghĩa) một hàm có tên (mã định danh) là `main`. Như bạn đã học ở trên, mọi chương trình C++ đều phải có một hàm `main` nếu không sẽ không liên kết được.\n",
    "- Dòng 4 và 7 cho trình biên dịch biết dòng nào là một phần của hàm `main`. Tất cả mọi thứ nằm giữa ngoặc nhọn mở ở dòng 4 và ngoặc nhọn đóng ở dòng 7 được coi là một phần của thân hàm `main`. Đây được gọi là thân hàm.\n",
    "- Dòng 5 là câu lệnh đầu tiên trong hàm `main` và là câu lệnh đầu tiên được thực thi khi chúng tôi chạy chương trình. `std::cout` (viết tắt của “character output”) và toán tử << cho phép chúng tôi hiển thị thông tin trên bảng điều khiển. Trong trường hợp này, chúng tôi đang hiển thị văn bản \"Hello world!\". Câu lệnh này tạo ra đầu ra hiển thị của chương trình.\n",
    "- Dòng 6 là một câu lệnh return. Khi một chương trình thực thi được kết thúc, chương trình sẽ gửi một giá trị trở lại hệ điều hành để cho biết nó có chạy thành công hay không. Câu lệnh return cụ thể này trả về giá trị 0 cho hệ điều hành, có nghĩa là “mọi thứ đều ổn!”. Đây là câu lệnh cuối cùng trong chương trình được thực thi.\n",
    "\n",
    "Tất cả các chương trình chúng tôi viết sẽ tuân theo khuôn mẫu chung này hoặc biến thể của nó.\n",
    "\n",
    "Bạn có thể tự mình biên dịch và chạy chương trình này và bạn sẽ thấy nó xuất ra bảng điều khiển những thông tin sau:\n",
    "> `Hello world!`\n",
    "\n",
    "\n"
   ]
  },
  {
   "cell_type": "markdown",
   "id": "71804147-4f58-4682-a7f0-f21271360090",
   "metadata": {},
   "source": [
    "### **Cú pháp và lỗi cú pháp**"
   ]
  },
  {
   "cell_type": "markdown",
   "id": "6e7d8a01-35bc-4f4b-bb28-497fcc8aa083",
   "metadata": {},
   "source": [
    "- **Cú pháp** là tập hợp các quy tắc chi phối cách viết mã C++ hợp lệ. Nó bao gồm các quy tắc về:\n",
    "  - **Từ khóa**: Các từ khóa được sử dụng để xác định các cấu trúc ngôn ngữ như hàm, vòng lặp và điều kiện.\n",
    "  - **Định danh**: Định danh là tên được sử dụng cho các biến, hàm và các thực thể khác trong chương trình.\n",
    "  - **Toán tử**: Toán tử được sử dụng để thực hiện các phép toán trên các toán hạng.\n",
    "  - **Biểu thức**: Biểu thức là một tập hợp các toán hạng và toán tử được kết hợp để tạo ra một giá trị.\n",
    "  - **Câu lệnh**: Câu lệnh là một chỉ dẫn cho trình biên dịch thực hiện một hành động.\n",
    "  - **Cấu trúc**: Cấu trúc là một cách để nhóm các câu lệnh lại với nhau.\n",
    "- **Lỗi cú pháp** là lỗi xảy ra khi mã C++ vi phạm các quy tắc cú pháp. Lỗi cú pháp sẽ khiến trình biên dịch không thể biên dịch mã.\n",
    "- Một số ví dụ về lỗi cú pháp:\n",
    "    - Sai chính tả từ khóa.\n",
    "    - Thiếu dấu chấm phẩy ở cuối câu lệnh.\n",
    "    - Sai số lượng ngoặc đơn hoặc ngoặc nhọn.\n",
    "    - Sử dụng định danh không hợp lệ.\n",
    "- Cách khắc phục lỗi cú pháp:\n",
    "    - Đọc kỹ thông báo lỗi của trình biên dịch.\n",
    "    - Kiểm tra mã của bạn để tìm các lỗi chính tả và lỗi đánh máy.\n",
    "    - Tham khảo tài liệu về cú pháp C++ để đảm bảo rằng bạn đang sử dụng các quy tắc cú pháp chính xác.\n",
    "- Để tránh lỗi cú pháp:\n",
    "    - Sử dụng trình soạn thảo mã có hỗ trợ tô sáng cú pháp (syntax highlighting).\n",
    "    - Kiểm tra mã của bạn cẩn thận trước khi biên dịch.\n",
    "    - Viết mã theo từng bước nhỏ và kiểm tra từng bước."
   ]
  },
  {
   "cell_type": "markdown",
   "id": "d38bb744-7995-4ad0-a42d-bafe735139de",
   "metadata": {},
   "source": [
    "Hãy xem điều gì sẽ xảy ra nếu chúng ta bỏ qua dấu chấm phẩy ở dòng 5 của chương trình “Hello world”, như sau:\n",
    "```\n",
    "#include <iostream>\n",
    "\n",
    "int main()\n",
    "{\n",
    "   std::cout << \"Hello world!\"\n",
    "   return 0;\n",
    "}\n",
    "```\n",
    "Trình biên dịch sẽ báo lỗi cho chúng ta biết: \n",
    "```\n",
    "ls1.cpp: In function ‘int main()’:\n",
    "ls1.cpp:3:32: error: expected ‘;’ before ‘return’\n",
    "    3 |     std::cout << \"Hello world!\"\n",
    "      |                                ^\n",
    "      |                                ;\n",
    "    4 |     return 0;\n",
    "      |     ~~~~~~                      \n",
    "```"
   ]
  },
  {
   "cell_type": "markdown",
   "id": "a5a201eb-2ca3-4add-9745-adb76e13372a",
   "metadata": {},
   "source": [
    "## **1.2: <u>Chú thích</u>**"
   ]
  },
  {
   "cell_type": "markdown",
   "id": "dd8f4c66-0f62-4a4a-8383-8ec0754b235c",
   "metadata": {},
   "source": [
    "- Chú thích là những dòng văn bản được thêm vào mã C++ để giúp con người hiểu rõ hơn về mã. Chúng bị trình biên dịch bỏ qua và không ảnh hưởng đến cách chương trình chạy.\n",
    "- Trong C++ có hai kiểu chú thích khác nhau, cả hai đều phục vụ cùng một mục đích: giúp các lập trình viên ghi lại mã theo một cách nào đó.\n",
    "    - **Chú thích một dòng**: Bắt đầu bằng `//` và kết thúc ở cuối dòng.\n",
    "    > <u>Ví dụ:</u>\n",
    "    > \n",
    "    > `std::cout << \"Hello world!\"; // Everything from here to the end of the line is ignored`\n",
    "    - **Chú thích nhiều dòng**: Bắt đầu bằng `/*` và kết thúc bằng `*/`.\n",
    "    > <u>Ví dụ:</u>\n",
    "    > \n",
    "    > `/* Đây là chú thích nhiều dòng`\\\n",
    "    > `Có thể bao gồm nhiều dòng */`\n",
    "- Chú thích có thể được sử dụng để:\n",
    "    - Giải thích mục đích của một đoạn mã.\n",
    "    - Ghi chú về cách thức hoạt động của một đoạn mã.\n",
    "    - Ghi chú về các thay đổi đã được thực hiện đối với mã.\n",
    "    - Ghi chú về các vấn đề tiềm ẩn với mã.\n",
    "- Dưới đây là một số mẹo để sử dụng chú thích hiệu quả:\n",
    "    - Viết chú thích rõ ràng và súc tích.\n",
    "    - Sử dụng chú thích để giải thích những phần mã phức tạp.\n",
    "    - Sử dụng chú thích để ghi chú về các thay đổi quan trọng đối với mã.\n",
    "    - Sử dụng chú thích để ghi chú về các vấn đề tiềm ẩn với mã.\n",
    "    - Tránh sử dụng chú thích để lặp lại thông tin hiển nhiên trong mã."
   ]
  },
  {
   "cell_type": "markdown",
   "id": "62aa2593-82f9-4fc0-92dc-fdaa86005ce9",
   "metadata": {},
   "source": [
    "- Ví dụ về chú thích tốt:\n",
    "  - Giải thích mục đích của đoạn mã:\n",
    "  ```\n",
    "    // Hàm này tính diện tích của một hình vuông\n",
    "    int square_area(int side_length) {\n",
    "      return side_length * side_length;\n",
    "    }\n",
    "  ```\n",
    "  - Ghi chú về cách thức hoạt động của một đoạn mã:\n",
    "  ```\n",
    "    // Vòng lặp này in ra các số từ 1 đến 10\n",
    "    for (int i = 1; i <= 10; i++) {\n",
    "      std::cout << i << std::endl;\n",
    "    }\n",
    "\n",
    "  ```\n",
    "  - Ghi chú về các thay đổi đã được thực hiện đối với mã:\n",
    "  ```\n",
    "    // Đã sửa lỗi trong hàm `square_area`\n",
    "    // Hàm hiện hoạt động chính xác cho tất cả các giá trị đầu vào\n",
    "  ```\n",
    "  - Ghi chú về các vấn đề tiềm ẩn với mã:\n",
    "  ```\n",
    "    // Lưu ý: Hàm này có thể gây tràn bộ nhớ nếu `n` quá lớn\n",
    "    int factorial(int n) {\n",
    "      if (n == 0) {\n",
    "        return 1;\n",
    "      } else {\n",
    "        return n * factorial(n - 1);\n",
    "      }\n",
    "    }\n",
    "\n",
    "  ```\n",
    "- Chú thích tệ:\n",
    "    - Lặp lại thông tin hiển nhiên trong mã:\n",
    "    ```\n",
    "        // int i = 1; // Biến i được khởi tạo với giá trị 1\n",
    "\n",
    "    ```\n",
    "    - Chú thích không rõ ràng:\n",
    "    ```\n",
    "    // Hàm này thực hiện một số phép toán\n",
    "        int do_something(int a, int b) {\n",
    "          // ...\n",
    "        }\n",
    "    ```\n",
    "    - Chú thích không hữu ích:\n",
    "    ```\n",
    "        // Đây là một hàm\n",
    "        void my_function() {\n",
    "          // ...\n",
    "        }\n",
    "    ```\n",
    "- **Chú thích tốt giúp cho mã C++ của bạn dễ đọc và dễ hiểu hơn.**\n"
   ]
  },
  {
   "cell_type": "markdown",
   "id": "ada7a714-995f-4394-b908-15750302d480",
   "metadata": {},
   "source": [
    "## **Bài 1.3: <u>Đối tượng và biến trong C++</u>**"
   ]
  },
  {
   "cell_type": "markdown",
   "id": "7e1d5d7d-8f57-4a9d-9877-e31aa1d749d0",
   "metadata": {},
   "source": [
    "### **Dữ liệu và biến**\n",
    "- Ta đã biết rằng phần lớn các chỉ dẫn trong một chương trình là các câu lệnh và hàm là nhóm các câu lệnh thực thi tuần tự. Các câu lệnh bên trong hàm thực hiện các hành động (hy vọng) tạo ra bất kỳ kết quả nào mà chương trình được thiết kế để tạo ra.\n",
    "- Nhưng làm thế nào để các chương trình thực sự tạo ra kết quả? Họ làm như vậy bằng cách thao tác (đọc, thay đổi và ghi) dữ liệu. Trong điện toán, dữ liệu là bất kỳ thông tin nào có thể được di chuyển, xử lý hoặc lưu trữ bởi máy tính.\n",
    "> **Chú ý quan trọng:**\\\n",
    "> Chương trình là tập các chỉ dẫn thao tác với dữ liệu để tạo ra kết quả mong muốn.\n"
   ]
  },
  {
   "cell_type": "markdown",
   "id": "c98cf87e-4db7-436a-9b89-6c113601de84",
   "metadata": {},
   "source": [
    "- Chương trình có thể lấy dữ liệu để xử lý theo nhiều cách khác nhau: từ file hoặc cơ sở dữ liệu, qua mạng, từ người dùng nhập liệu trên bàn phím, hoặc từ chính lập trình viên đưa dữ liệu trực tiếp vào mã nguồn của chương trình. Trong chương trình \"Hello World\" từ bài học đã đề cập, văn bản \"Hello World!\" được chèn trực tiếp vào mã nguồn của chương trình, cung cấp dữ liệu cho chương trình sử dụng. Sau đó, chương trình thao tác với dữ liệu này bằng cách gửi nó đến màn hình để hiển thị.\n",
    "- Dữ liệu trên máy tính thường được lưu trữ ở định dạng hiệu quả cho việc lưu trữ hoặc xử lý (và do đó không thể đọc được bằng con người). Vì vậy, khi chương trình \"Hello World\" được biên dịch, văn bản \"Hello World!\" được chuyển đổi thành định dạng hiệu quả hơn để chương trình sử dụng (dạng nhị phân, chúng ta sẽ thảo luận trong bài học sau).\n"
   ]
  },
  {
   "cell_type": "markdown",
   "id": "91bcada0-bfda-4631-a5cb-3cb8ba64c43d",
   "metadata": {},
   "source": [
    "### **Bộ nhớ truy cập ngẫu nhiên (RAM)**"
   ]
  },
  {
   "cell_type": "markdown",
   "id": "e2fd125d-7853-491b-ae12-31061a4d2bf8",
   "metadata": {},
   "source": [
    "- Bộ nhớ chính trong máy tính được gọi là Bộ nhớ truy cập ngẫu nhiên (thường được gọi tắt là RAM). Khi chúng ta chạy một chương trình, hệ điều hành sẽ nạp chương trình đó vào RAM. Bất kỳ dữ liệu nào được mã hóa cứng vào chính chương trình (ví dụ: văn bản như \"Hello, world!\") đều được nạp vào thời điểm này.\n",
    "- Hệ điều hành cũng dành một phần RAM bổ sung để chương trình sử dụng trong khi chạy. Các cách sử dụng thông thường cho bộ nhớ này là lưu trữ các giá trị do người dùng nhập vào, lưu trữ dữ liệu đọc từ tệp hoặc mạng, hoặc lưu trữ các giá trị được tính toán trong khi chương trình chạy (ví dụ: tổng của hai giá trị) để có thể sử dụng lại sau.\n",
    "- Bạn có thể hình dung RAM như một dãy các ô được đánh số có thể được sử dụng để lưu trữ dữ liệu trong khi chương trình đang chạy. Ở một số ngôn ngữ lập trình cũ hơn (như Applesoft BASIC), bạn có thể truy cập trực tiếp vào các ô này (ví dụ: bạn có thể viết một lệnh để \"lấy giá trị được lưu trữ trong hộp thư số 7532\")."
   ]
  },
  {
   "cell_type": "markdown",
   "id": "aa62c19c-d8c8-4598-9392-49af668bd375",
   "metadata": {},
   "source": [
    "### **Đối tượng và biến:**\n"
   ]
  },
  {
   "cell_type": "markdown",
   "id": "ac9e97ad-52e7-4766-ae10-602bd10c1206",
   "metadata": {},
   "source": [
    "- Trong C++, việc truy cập trực tiếp vào bộ nhớ được hạn chế. Thay vào đó, chúng ta truy cập bộ nhớ gián tiếp thông qua một đối tượng. **Đối tượng** là một vùng lưu trữ (thường là bộ nhớ) có thể chứa một giá trị và có các thuộc tính liên quan khác (chúng ta sẽ đề cập đến chúng trong các bài học sau). Cách thức trình biên dịch và hệ điều hành phân bổ bộ nhớ cho các đối tượng vượt ra ngoài phạm vi của bài học này. Nhưng điểm mấu chốt ở đây là thay vì nói \"lấy giá trị được lưu trữ trong hộp thư số 7532\", chúng ta có thể nói \"lấy giá trị được lưu trữ bởi đối tượng này\". Điều này có nghĩa là chúng ta có thể tập trung vào việc sử dụng các đối tượng để lưu trữ và truy xuất các giá trị, và không cần phải lo lắng về việc các đối tượng đó thực sự được đặt ở đâu trong bộ nhớ.\n",
    "\n",
    "- Mặc dù các đối tượng trong C++ có thể không được đặt tên (vô danh), nhưng thông thường chúng ta đặt tên cho các đối tượng của mình bằng một **định danh**. Một đối tượng có tên được gọi là **biến**.\n",
    "\n",
    "> **Điểm cần chú ý**:\n",
    "> - Đối tượng: Là nơi lưu trữ giá trị trong bộ nhớ. Tưởng tượng như một chiếc hộp để cất giữ dữ liệu.\n",
    "> - Biến: Là một đối tượng có tên (định danh). Bằng cách đặt tên cho đối tượng, bạn tạo ra cách để dễ dàng tham chiếu và truy cập giá trị mà nó lưu trữ trong suốt chương trình. Giống như dán nhãn cho các hộp để bạn có thể nhanh chóng tìm thấy dữ liệu cụ thể mà bạn cần sau này.\n",
    "\n",
    "> **Thuật ngữ:**\\\n",
    "> Trong lập trình nói chung, thuật ngữ \"đối tượng\" thường đề cập đến một đối tượng không được đặt tên trong bộ nhớ, một biến hoặc một hàm. Trong C++, thuật ngữ \"đối tượng\" có định nghĩa hẹp hơn, không bao gồm hàm.\n"
   ]
  },
  {
   "cell_type": "markdown",
   "id": "301ec831-dbb0-47c4-a7d3-b7d8d67434d7",
   "metadata": {},
   "source": [
    "### **Khai báo biến**"
   ]
  },
  {
   "cell_type": "markdown",
   "id": "5a0f3b2e-ed47-4bf7-a007-dcfde2c66c2a",
   "metadata": {},
   "source": [
    "- Để tạo một biến, chúng ta sử dụng câu lệnh khai báo:\\\n",
    "  `<kiểu dữ liệu> <tên biến>;`\n",
    "\n",
    "> **VD:**\\\n",
    "> `int x; // define a variable named x, of type int`\n",
    "\n",
    "- Trong giai đoạn biên dịch, khi trình biên dịch nhìn thấy dòng lệnh này, nó sẽ ghi nhận rằng chúng ta đang định nghĩa một biến, đặt tên cho nó là `x` và kiểu của nó là `int` (chúng ta sẽ tìm hiểu thêm về kiểu dữ liệu sau). Từ thời điểm đó trở đi (với một số hạn chế sẽ đề cập trong bài học sau), bất cứ khi nào trình biên dịch nhìn thấy định danh `x`, nó sẽ biết rằng chúng ta đang tham chiếu đến biến này.\n",
    "- Khi chương trình chạy (gọi là runtime), biến sẽ được khởi tạo (instantiate). Khởi tạo là một từ ngữ chuyên môn có nghĩa là đối tượng sẽ được tạo và được gán một địa chỉ bộ nhớ. Biến phải được khởi tạo trước khi chúng có thể được sử dụng để lưu trữ giá trị. Ví dụ, giả sử biến `x` được khởi tạo tại vị trí bộ nhớ `140`. Bất cứ khi nào chương trình sử dụng biến `x`, nó sẽ truy cập vào giá trị tại vị trí bộ nhớ `140`. Một đối tượng được khởi tạo đôi khi được gọi là một thực thể (instance)."
   ]
  },
  {
   "cell_type": "markdown",
   "id": "72114b7b-6437-4a8e-bb84-dc692b2b0436",
   "metadata": {},
   "source": [
    "### **Kiểu dữ liệu**"
   ]
  },
  {
   "cell_type": "markdown",
   "id": "dce1a3f5-c3b0-40b0-89ec-28f91e24916a",
   "metadata": {},
   "source": [
    "- Bây giờ đây, chúng ta đã biết biến là một vùng lưu trữ được đặt tên, có thể chứa một giá trị dữ liệu (chính xác cách dữ liệu được lưu trữ sẽ là chủ đề của một bài học khác). Một kiểu dữ liệu (thường được gọi đơn giản là kiểu) cho trình biên dịch biết loại giá trị nào (ví dụ: số, chữ cái, văn bản, v.v.) mà biến sẽ lưu trữ.\n",
    "- Trong ví dụ trên, biến `x` được gán kiểu `int`, nghĩa là biến `x` sẽ biểu diễn một giá trị nguyên. **Số nguyên** là một số có thể được viết mà không có phần thập phân, chẳng hạn như 4, 27, 0, -2 hoặc -12. Nói ngắn gọn, chúng ta có thể nói rằng `x` là một **biến nguyên**.\n",
    "- Trong C++, kiểu của một biến phải được biết tại thời gian biên dịch (khi chương trình được biên dịch) và kiểu đó không thể thay đổi mà không cần biên dịch lại chương trình. Điều này có nghĩa là một biến nguyên chỉ có thể chứa các giá trị nguyên. Nếu bạn muốn lưu trữ một loại giá trị khác, bạn sẽ cần sử dụng một kiểu khác.\n",
    "- Số nguyên chỉ là một trong nhiều kiểu mà C++ hỗ trợ sẵn. Để minh họa, đây là một ví dụ khác về việc định nghĩa một biến sử dụng kiểu dữ liệu `double`:\n",
    "\n",
    "> `double width; // Định nghĩa một biến tên width, kiểu double`\n",
    "- C++ cũng cho phép bạn tạo các kiểu dữ liệu tùy chỉnh của riêng bạn. Đây là điều chúng ta sẽ thực hiện rất nhiều trong các bài học sau và là một phần tạo nên sức mạnh của C++.\n",
    "- Đối với các chương đầu, chúng ta sẽ tập trung vào các biến nguyên vì chúng đơn giản về mặt khái niệm, nhưng chúng ta sẽ sớm khám phá nhiều kiểu dữ liệu khác mà C++ cung cấp (bao gồm cả `double`)."
   ]
  },
  {
   "cell_type": "markdown",
   "id": "19f52a18-44b2-4290-921f-855b06b21c83",
   "metadata": {},
   "source": [
    "### **Khai báo nhiều biến:**\n"
   ]
  },
  {
   "cell_type": "markdown",
   "id": "4d79ae18-9529-4a99-8f2e-1ada8bbad368",
   "metadata": {},
   "source": [
    "- Có thể định nghĩa nhiều biến cùng loại trong một câu lệnh bằng cách phân tách các tên bằng dấu phẩy. Hai đoạn mã sau đây thực sự giống nhau:\n",
    "\n",
    ">```\n",
    ">int a;\n",
    ">int b;\n",
    ">```\n",
    "\n",
    "> `int a, b;`\n",
    "- Khi khai báo nhiều biến theo cách này, có hai lỗi phổ biến mà các lập trình viên mới thường mắc phải (không nghiêm trọng vì trình biên dịch sẽ phát hiện những lỗi này và yêu cầu bạn sửa chúng):\n",
    "    - Lỗi thứ nhất: Gán kiểu cho từng biến khi khai báo nhiều biến theo trình tự.\n",
    "    > `int a, int b; // Sai (trình biên dịch báo lỗi)`\n",
    "    - Cách sửa\n",
    "    > `int a, b; //Đúng`\n",
    "    - Lỗi thứ hai: Cố gắng khai báo các biến có kiểu khác nhau trong cùng một câu lệnh, điều này không được phép. Các biến có kiểu khác nhau phải được khai báo trong các câu lệnh riêng biệt.\n",
    "    > `int a, double b; // Sai (trình biên dịch báo lỗi)`\n",
    "    - Cách sửa 1:\n",
    "    >```\n",
    "    >int a; double b; // Đúng (nhưng không khuyến khích)\n",
    "    >```\n",
    "    - Cách sửa 2:\n",
    "    >```\n",
    "    >int a;\n",
    "    >double b; // Đúng và được khuyến khích (dễ đọc hơn)\n",
    "    >```\n",
    "- Giải thích:\n",
    "    - Lỗi thứ nhất xảy ra do bạn cố gắng gán kiểu cho mỗi biến trong một dòng. Trong C++, cách khai báo đúng là liệt kê tên biến, sau đó là kiểu dữ liệu chung cho tất cả các biến.\n",
    "    - Lỗi thứ hai xảy ra do bạn cố gắng khai báo các biến có kiểu khác nhau trong cùng một câu lệnh. Mỗi biến phải được khai báo riêng với kiểu dữ liệu tương ứng.\n"
   ]
  },
  {
   "cell_type": "markdown",
   "id": "36a2635b-0d3b-4e4b-afe7-32d154a0242a",
   "metadata": {},
   "source": [
    "### **Tóm tắt:**\n",
    ">Trong C++, chúng ta sử dụng các **đối tượng** để truy cập vào bộ nhớ. Một đối tượng được đặt tên gọi là **biến**. Biến có một **định danh**, một **kiểu dữ liệu** và một **giá trị** (cùng một số thuộc tính khác không liên quan ở đây). **Kiểu dữ liệu** của biến được sử dụng để xác định cách giải nghĩa giá trị trong bộ nhớ.\n",
    "\n"
   ]
  },
  {
   "cell_type": "markdown",
   "id": "15f1ae80-3280-464b-bbff-b3bb015fbf82",
   "metadata": {},
   "source": [
    "## **Bài 1.4 - <u>Gán và khởi tạo giá trị cho biến</u>**\n"
   ]
  },
  {
   "cell_type": "markdown",
   "id": "2cc9a5c0-9ee3-4b4b-b91b-566489ec8041",
   "metadata": {},
   "source": [
    "### **Phép gán**"
   ]
  },
  {
   "cell_type": "markdown",
   "id": "1695b6db-3fb2-4e95-b836-07f76e69504f",
   "metadata": {},
   "source": [
    "- Sau khi một biến đã được khai báo, bạn có thể gán cho nó một giá trị (trong một câu lệnh riêng) bằng toán tử `=`. Quá trình này được gọi là phép gán và toán tử `=` được gọi là toán tử gán.\n",
    ">```\n",
    ">int width; // define an integer variable named width\n",
    ">width = 5; // assignment of value 5 into variable width\n",
    ">// variable width now has value 5\n",
    ">```\n",
    "- Theo mặc định, phép gán sẽ sao chép giá trị ở vế phải của toán tử `=` sang biến ở vế trái của toán tử. Đây được gọi là gán sao chép (copy assignment).\n",
    "- Ví dụ gán giá trị nhiều lần:\n",
    ">```\n",
    ">#include <iostream>\n",
    ">\n",
    ">int main()\n",
    ">{\n",
    ">\tint width;\n",
    ">\twidth = 5; // copy assignment of value 5 into variable width\n",
    ">\n",
    ">\tstd::cout << width; // prints 5\n",
    ">\n",
    ">\twidth = 7; // change value stored in variable width to 7\n",
    ">\n",
    ">\tstd::cout << width; // prints 7\n",
    ">\n",
    ">\treturn 0;\n",
    ">}\n",
    ">```\n",
    "- Đoạn code này in ra:\n",
    "> `57`\n",
    "- Khi chúng ta gán giá trị `7` cho biến `width`, giá trị `5` trước đó sẽ bị ghi đè. Biến thông thường chỉ có thể chứa một giá trị tại một thời điểm.\n"
   ]
  },
  {
   "cell_type": "markdown",
   "id": "dc17d720-059a-4712-85ce-48c909862a21",
   "metadata": {},
   "source": [
    "### **Khởi tạo giá trị cho biến (initialization)** "
   ]
  },
  {
   "cell_type": "markdown",
   "id": "618a106a-2bfb-4d5d-8136-bf41fa0a806d",
   "metadata": {},
   "source": [
    "- Gán giá trị cho biến yêu cầu ít nhất hai câu lệnh: một để khai báo biến và một để gán giá trị.\n",
    "- Hai bước này có thể được kết hợp. Khi một đối tượng được định nghĩa, bạn có thể tùy chọn cung cấp cho nó một giá trị ban đầu. Quá trình chỉ định giá trị ban đầu cho một đối tượng được gọi là khởi tạo (**initialization**), và cú pháp được sử dụng để khởi tạo một đối tượng được gọi là trình khởi tạo (**initializer**).\n",
    "> - Ví dụ:\n",
    ">```\n",
    ">int width { 5 }; // Định nghĩa biến width và khởi tạo với giá trị ban đầu là 5\n",
    ">\n",
    ">// Biến width bây giờ có giá trị là 5\n",
    ">```\n"
   ]
  },
  {
   "cell_type": "markdown",
   "id": "28dba633-ddf3-474e-839c-04e8a20485f2",
   "metadata": {},
   "source": [
    "### **Các dạng khởi tạo khác nhau**"
   ]
  },
  {
   "cell_type": "markdown",
   "id": "49389d5f-f972-47b7-9ee1-d2d248ec689e",
   "metadata": {},
   "source": [
    "- Khởi tạo trong C++ phức tạp hơn so với tưởng tượng, vì vậy chúng ta sẽ chỉ trình bày một cách đơn giản ở đây.\n",
    "- Có 6 cách cơ bản để khởi tạo biến trong C++:\n",
    "    >`int a; // Không có trình khởi tạo (khởi tạo mặc định)`\\\n",
    "    >`int b = 5; // Giá trị ban đầu sau dấu bằng (khởi tạo sao chép)`\\\n",
    "    >`int c( 6 ); // Giá trị ban đầu trong dấu ngoặc đơn (khởi tạo trực tiếp)`\\\n",
    "    >`// Phương thức khởi tạo danh sách (C++11) (ưu tiên)`\\\n",
    "    >`int d { 7 }; // Giá trị ban đầu trong ngoặc nhọn (khởi tạo danh sách trực tiếp)`\\\n",
    "    >`int e = { 8 }; // Giá trị ban đầu trong ngoặc nhọn sau dấu bằng (khởi tạo danh sách sao chép)`\\\n",
    "    >`int f {}; // Trình khởi tạo là ngoặc nhọn trống (khởi tạo giá trị)`\n",
    "    \n"
   ]
  },
  {
   "cell_type": "markdown",
   "id": "e683e4be-1c01-4b52-9905-5e7c004fc6de",
   "metadata": {},
   "source": [
    "#### *<u>Khởi tạo mặc định (Default initialization)</u>.*"
   ]
  },
  {
   "cell_type": "markdown",
   "id": "b8b8d67d-5e2c-4ef6-bc36-467ac05e0bf7",
   "metadata": {},
   "source": [
    "Khi không cung cấp trình khởi tạo (chẳng hạn như đối với biến `a` ở trên), thì đây được gọi là **khởi tạo mặc định**. Trong hầu hết các trường hợp, khởi tạo mặc định không thực hiện bất kỳ khởi tạo nào và để lại biến với giá trị không xác định."
   ]
  },
  {
   "cell_type": "markdown",
   "id": "bd3d6219-171d-40be-a5f4-afa4d23f1adb",
   "metadata": {},
   "source": [
    "#### *<u>Khởi tạo sao chép (Copy initialization)</u>.*"
   ]
  },
  {
   "cell_type": "markdown",
   "id": "d6ddd709-cdf1-46ad-aa71-44dfe393de3c",
   "metadata": {},
   "source": [
    "Khi cung cấp giá trị ban đầu sau dấu bằng, thì đây được gọi là **khởi tạo sao chép**. Hình thức khởi tạo này được thừa hưởng từ **C**.\n",
    ">`int width = 5; // Khởi tạo sao chép giá trị 5 vào biến width`\n",
    "\n",
    "Giống như gán sao chép, nó sao chép giá trị bên phải dấu bằng vào biến được tạo bên trái. Trong đoạn mã trên, biến `width` sẽ được khởi tạo với giá trị `5`.\n",
    "\n",
    "Khởi tạo sao chép không còn được ưa chuộng trong C++ hiện đại do kém hiệu quả hơn các hình thức khởi tạo khác đối với một số kiểu dữ liệu phức tạp. Tuy nhiên, `C++17` đã khắc phục hầu hết các vấn đề này và khởi tạo sao chép hiện đang tìm lại chỗ đứng.\n",
    "\n",
    ">**Đối với người đọc nâng cao**\\\n",
    ">Khởi tạo sao chép cũng được sử dụng bất cứ khi nào các giá trị được sao chép hoặc chuyển đổi ngầm, chẳng hạn như khi truyền đối số cho một hàm theo giá trị, trả về từ một hàm theo giá trị hoặc bắt các ngoại lệ theo giá trị."
   ]
  },
  {
   "cell_type": "markdown",
   "id": "ec4f9795-661a-4068-9bc0-2b68b4e5023d",
   "metadata": {},
   "source": [
    "#### *<u>Khởi tạo trực tiếp (Direct initialization)</u>.*"
   ]
  },
  {
   "cell_type": "markdown",
   "id": "ade11ac6-2cc1-4828-896d-90701fcef540",
   "metadata": {},
   "source": [
    "Khi cung cấp giá trị ban đầu bên trong dấu ngoặc đơn, thì đây được gọi là khởi tạo trực tiếp.\n",
    "\n",
    ">`int width( 5 ); // Khởi tạo trực tiếp giá trị 5 vào biến width`\n",
    "\n",
    "Khởi tạo trực tiếp ban đầu được giới thiệu để cho phép khởi tạo các đối tượng phức tạp (các đối tượng có kiểu lớp, chúng tôi sẽ đề cập trong một chương học sau) hiệu quả hơn. Giống như khởi tạo sao chép, khởi tạo trực tiếp không còn được ưa chuộng trong C++ hiện đại, chủ yếu là do nó bị thay thế bởi khởi tạo danh sách. Tuy nhiên, hiện tại chúng ta biết rằng khởi tạo danh sách có một vài điểm kỳ quặc, do đó khởi tạo trực tiếp lại được sử dụng trong một số trường hợp nhất định.\n",
    "\n",
    "Khởi tạo trực tiếp cũng được sử dụng khi các giá trị được ép kiểu rõ ràng sang một kiểu khác.\n",
    "\n",
    "Một trong những lý do khiến khởi tạo trực tiếp không còn được ưa chuộng là vì nó gây khó khăn trong việc phân biệt biến với hàm. Ví dụ:\n",
    ">`int x();  // Khai báo trước hàm x`\\\n",
    ">`int x(0); // Định nghĩa biến x với giá trị khởi tạo là 0`\n"
   ]
  },
  {
   "cell_type": "markdown",
   "id": "fd1874fa-98ee-461e-a7f4-7529fa2dfcca",
   "metadata": {},
   "source": [
    "#### *<u>Khởi tạo danh sách (List initialization)</u>.*"
   ]
  },
  {
   "cell_type": "markdown",
   "id": "e018ef2a-6150-4e62-8b2c-7055fbb4c065",
   "metadata": {},
   "source": [
    "Khởi tạo danh sách (List initialization) là cách thức hiện đại để khởi tạo các đối tượng trong C++. Nó còn được gọi là khởi tạo đồng nhất (uniform initialization) hoặc khởi tạo bằng ngoặc nhọn (brace initialization).\n",
    "\n",
    "<u>Ba dạng khởi tạo danh sách:</u>\n",
    "\n",
    "**1.** Khởi tạo danh sách trực tiếp (direct list initialization):\n",
    ">`int width { 5 };    // Khởi tạo biến width với giá trị ban đầu là 5`\n",
    "\n",
    "**2.** Khởi tạo danh sách sao chép (copy list initialization):\n",
    ">`int height = { 6 }; // Gán giá trị 6 cho biến height`\n",
    "\n",
    "**3.** Khởi tạo giá trị (value initialization):\n",
    ">`int depth {};       // Khởi tạo biến depth với giá trị rỗng (sẽ được giải thích chi tiết sau)` \n",
    "\n",
    "Trước khi có khởi tạo danh sách:\n",
    "- Trước đây, tùy thuộc vào kiểu dữ liệu, bạn cần sử dụng khởi tạo sao chép (copy initialization) hoặc khởi tạo trực tiếp (direct initialization). Khởi tạo danh sách được ra đời để cung cấp cú pháp khởi tạo thống nhất (do đó đôi khi được gọi là khởi tạo đồng nhất) hoạt động trong hầu hết các trường hợp.\n",
    "- Ngoài ra, khởi tạo danh sách còn cho phép khởi tạo đối tượng với một danh sách các giá trị (do đó được gọi là khởi tạo danh sách). Ví dụ về cách khởi tạo này sẽ được giới thiệu trong bài học sau về các hàm tạo của `std::vector` và `std::list`.\n",
    "\n",
    "<u>Lợi ích của khởi tạo danh sách:</u>\n",
    "- **Ngăn chặn chuyển đổi hẹp (narrowing conversions)**: Khi sử dụng khởi tạo danh sách, việc gán các giá trị không phù hợp kiểu dữ liệu của biến sẽ gây ra lỗi. Điều này giúp tránh mất mát dữ liệu.\n",
    ">`int width { 4.5 }; // Lỗi: số thập phân không thể gán cho biến nguyên`\n",
    "\n",
    "    - Trong đoạn code trên, biến `width` kiểu `int` (chỉ lưu trữ số nguyên) nhưng chúng ta lại cố gắng gán cho nó một số thập phân (`4.5`).\n",
    "    - **Khởi tạo sao chép** và **khởi tạo trực tiếp** sẽ loại bỏ phần thập phân, gán giá trị `4` cho biến `width`. Trình biên dịch của bạn có thể cảnh báo về việc mất mát dữ liệu này. Tuy nhiên, với khởi tạo danh sách, trình biên dịch bắt buộc phải báo lỗi trong trường hợp này.\n",
    "- **Các phép chuyển đổi không gây mất mát dữ liệu vẫn được phép.**\n",
    "\n",
    "<u>Tóm tắt:</u>\n",
    "\n",
    "Khởi tạo danh sách thường được ưu tiên hơn các hình thức khởi tạo khác vì:\n",
    "\n",
    "- Hoạt động trong hầu hết các trường hợp (tính nhất quán cao).\n",
    "- Ngăn chặn chuyển đổi hẹp (tránh mất mát dữ liệu).\n",
    "- Hỗ trợ khởi tạo với danh sách giá trị (sẽ được học sau).\n",
    "\n",
    "<u>Khuyến nghị:</u>\n",
    "- Trong khi học, nên ưu tiên sử dụng khởi tạo danh sách trực tiếp (hoặc khởi tạo giá trị) để khởi tạo biến.\n"
   ]
  },
  {
   "cell_type": "markdown",
   "id": "0cd70abe-6d92-4032-b2bf-4b08dbe58f09",
   "metadata": {},
   "source": [
    "#### *<u>Khởi tạo giá trị và khởi tạo bằng 0 (Value initialization and zero initialization)</u>.*"
   ]
  },
  {
   "cell_type": "markdown",
   "id": "455025dd-51f6-4e3f-8e9c-207e1aa724d3",
   "metadata": {},
   "source": [
    "<u>Khởi tạo giá trị (Value initialization):</u>\n",
    "- Khi bạn khởi tạo biến bằng ngoặc nhọn rỗng {}, quá trình khởi tạo giá trị (value initialization) diễn ra.\n",
    "- Trong hầu hết các trường hợp, khởi tạo giá trị sẽ gán giá trị 0 cho biến (hoặc giá trị rỗng đối với kiểu dữ liệu phù hợp).\n",
    "- Ví dụ:\n",
    ">`int width {}; // Khởi tạo biến width với giá trị 0 (khởi tạo giá trị / khởi tạo bằng 0)`\n",
    "\n",
    "<u>Câu hỏi:</u> *Nên dùng `{}` hay `{0}` để khởi tạo giá trị?*\n",
    "- Sử dụng giá trị khởi tạo rõ ràng (`{0}`) nếu bạn thực sự sử dụng giá trị đó.\n",
    "- Ví dụ:\n",
    ">`int x {0};    // Khởi tạo rõ ràng biến x với giá trị 0`\\\n",
    ">`std::cout << x; // In ra giá trị 0`\n",
    "\n",
    "<u>LỜI KHUYÊN:</u> Khởi tạo biến ngay khi tạo.\n",
    "- Khởi tạo biến với giá trị mặc định (0, giá trị rỗng, ...) thường là lựa chọn tốt. Điều này giúp bạn tránh những vấn đề do biến chưa được khởi tạo gây ra.\n",
    "- Sử dụng khởi tạo danh sách (list initialization) - Đây là cách thức hiện đại và an toàn để khởi tạo biến trong C++.\n"
   ]
  },
  {
   "cell_type": "markdown",
   "id": "fc74e85f-0b65-4c8d-9abb-3faf5d0a9cd1",
   "metadata": {},
   "source": [
    "### **Khởi tạo nhiều biến trong C++**"
   ]
  },
  {
   "cell_type": "markdown",
   "id": "f77ad34d-b5ce-4e36-b6f4-710aab9413b6",
   "metadata": {},
   "source": [
    "<u>Định nghĩa nhiều biến cùng kiểu:</u>\n",
    "- Trong bài trước, chúng ta đã biết có thể khai báo nhiều biến cùng kiểu trong một câu lệnh bằng cách phân cách các tên biến bằng dấu phẩy:\n",
    ">`int a, b;`\n",
    "\n",
    "- Tuy nhiên, theo khuyến cáo, bạn nên tránh sử dụng cách thức này. Tuy nhiên, vì bạn có thể gặp code cũ sử dụng cách này, nên chúng ta vẫn cần tìm hiểu thêm về nó.\n",
    "- Khởi tạo nhiều biến trên cùng một dòng: Bạn có thể khởi tạo nhiều biến được khai báo trên cùng một dòng:\n",
    ">```\n",
    ">int a = 5, b = 6;          // Khởi tạo sao chép (copy initialization)\n",
    ">int c( 7 ), d( 8 );        // Khởi tạo trực tiếp (direct initialization)\n",
    ">int e { 9 }, f { 10 };     // Khởi tạo danh sách trực tiếp (direct brace initialization)\n",
    ">int g = { 9 }, h = { 10 }; // Khởi tạo danh sách sao chép (copy brace initialization)\n",
    ">int i {}, j {};            // Khởi tạo giá trị (value initialization)\n",
    ">```\n",
    "\n",
    "<u>Lỗi thường gặp:</u>\n",
    "- Một lỗi thường gặp là lập trình viên cố gắng khởi tạo cả hai biến bằng một câu lệnh khởi tạo:\n",
    ">`int a, b = 5; // Sai (biến a không được khởi tạo!`\n",
    "- Cách viết chính xác:\n",
    ">`int a = 5, b = 5; // Đúng`\n",
    "- Trong câu lệnh sai ở trên, biến a sẽ không được khởi tạo. Trình biên dịch có thể hoặc không báo lỗi. Nếu không báo lỗi, điều này có thể khiến chương trình của bạn chạy không ổn định hoặc cho ra kết quả không mong đợi.\n",
    "- **Cách nhớ để tránh lỗi:** Cách tốt nhất để nhớ đây là lỗi là xem xét trường hợp khởi tạo trực tiếp hoặc khởi tạo danh sách:\n",
    ">`int a, b( 5 );  // Sai (bị hiểu nhầm là khởi tạo cho cả a và b)`\\\n",
    ">`int c, d{ 5 };  // Sai (bị hiểu nhầm là khởi tạo cho cả c và d)`\n",
    "- Vì dấu ngoặc đơn hoặc ngoặc nhọn thường được đặt ngay cạnh tên biến, điều này khiến cho việc khởi tạo giá trị 5 chỉ dành cho biến b và d, không phải a hoặc c.\n",
    "\n",
    "\n",
    "\n"
   ]
  },
  {
   "cell_type": "markdown",
   "id": "e7e63f1e-ea8d-4fad-aebb-5a2e9fd339e8",
   "metadata": {},
   "source": [
    "### **Cảnh báo biến được khởi tạo nhưng không sử dụng (Unused initialized variables warnings)**"
   ]
  },
  {
   "cell_type": "markdown",
   "id": "38c16cc9-921f-440e-86cc-61f186798eda",
   "metadata": {},
   "source": [
    "- Trình biên dịch hiện đại thường sẽ cảnh báo nếu một biến được khởi tạo nhưng không được sử dụng (vì điều này hiếm khi cần thiết). Và nếu bật tùy chọn \"xử lý cảnh báo như lỗi\" (treat warnings as errors), các cảnh báo này sẽ được nâng cấp thành lỗi và khiến quá trình biên dịch thất bại.\n",
    "- Xét ví dụ chương trình đơn giản sau:\n",
    ">```\n",
    ">int main()\n",
    ">{\n",
    ">    int x { 5 }; // Biến x được khai báo và khởi tạo\n",
    ">\n",
    ">    // Nhưng không được sử dụng ở bất kỳ đâu\n",
    ">\n",
    ">    return 0;\n",
    ">}\n",
    ">```\n",
    "- Khi biên dịch chương trình này với trình biên dịch `g++`, lỗi sau sẽ được tạo:\n",
    ">```\n",
    ">prog.cc: In function 'int main()':\n",
    ">prog.cc:3:9: error: unused variable 'x' [-Werror=unused-variable]\n",
    ">```\n",
    "\n",
    "Chương trình sẽ không thể biên dịch thành công.\n",
    "\n",
    "- Có một vài cách đơn giản để khắc phục lỗi này:\\\n",
    "  **1. Xóa bỏ biến không sử dụng:**\\\n",
    "    Nếu biến `x` thực sự không được sử dụng, cách dễ nhất là xóa bỏ định nghĩa của nó (hoặc chú thích nó bằng `//`). Xóa bỏ biến không sử dụng sẽ không ảnh hưởng đến chương trình.\n",
    "  \n",
    "  **2. Sử dụng biến ở một nơi nào đó:**\n",
    "  >```\n",
    "  >#include <iostream>\n",
    "  >\n",
    "  >int main()\n",
    "  >{\n",
    "  >  int x { 5 };\n",
    "  >\n",
    "  >  std::cout << x; // Biến x được sử dụng\n",
    "  >\n",
    "  >  return 0;\n",
    "  >\n",
    "  >}\n",
    "  >\n",
    "  >```\n",
    "\n",
    "    Tuy nhiên, cách này yêu cầu viết thêm code để sử dụng biến và có thể ảnh hưởng đến logic ban đầu của chương trình.\n",
    "\n",
    "\n",
    "\n",
    "\n"
   ]
  },
  {
   "cell_type": "markdown",
   "id": "68f30015-cb6a-406c-a797-182c362e5910",
   "metadata": {},
   "source": [
    "### **Thuộc tính `[[maybe_unused]]` trong `C++17`**\n"
   ]
  },
  {
   "cell_type": "markdown",
   "id": "13708047-1350-44ca-9e50-37ca2a6e4cad",
   "metadata": {},
   "source": [
    "**Trường hợp không mong muốn xóa bỏ hoặc sử dụng biến:**\n",
    "- Trong một số trường hợp, cả hai cách xử lý ở trên (xóa bỏ biến hoặc sử dụng biến) đều không mong muốn. Ví dụ, giả sử chúng ta có một nhóm các hằng số toán học/vật lý được sử dụng trong nhiều chương trình khác nhau:\n",
    ">```\n",
    ">int main()\n",
    ">{\n",
    ">    double pi { 3.14159 };\n",
    ">    double gravity { 9.8 };\n",
    ">    double phi { 1.61803 };\n",
    ">\n",
    ">    // Giả sử một số hằng số được sử dụng, một số không\n",
    ">\n",
    ">    return 0;\n",
    ">}\n",
    ">```\n",
    "- Nếu chúng ta sử dụng các hằng số này thường xuyên, có thể chúng ta sẽ lưu chúng ở một nơi nào đó và sao chép/dán/nhập khẩu tất cả chúng cùng nhau.\n",
    "- Tuy nhiên, trong bất kỳ chương trình nào mà chúng ta không sử dụng tất cả các giá trị này, trình biên dịch sẽ phàn nàn về mỗi biến không được sử dụng thực tế. Mặc dù chúng ta có thể xóa hoặc chú thích từng biến không sử dụng cho mỗi chương trình, nhưng điều này tốn thời gian và công sức. Và sau này nếu cần đến một biến đã xóa trước đó, chúng ta sẽ phải quay lại và thêm lại nó.\n",
    "\n",
    "**Thuộc tính `[[maybe_unused]]`**\n",
    "- Để giải quyết những trường hợp như vậy, `C++17` giới thiệu thuộc tính `[[maybe_unused]]`, cho phép chúng ta thông báo cho trình biên dịch rằng việc một biến không được sử dụng là chấp nhận được. Trình biên dịch sẽ không tạo ra cảnh báo về biến không sử dụng cho các biến được đánh dấu bằng thuộc tính này.\n",
    "- Chương trình sau đây sẽ không tạo ra cảnh báo/lỗi:\n",
    ">```\n",
    ">int main()\n",
    ">{\n",
    ">    [[maybe_unused]] double pi { 3.14159 };\n",
    ">    [[maybe_unused]] double gravity { 9.8 };\n",
    ">    [[maybe_unused]] double phi { 1.61803 };\n",
    ">\n",
    ">    // Các biến ở trên sẽ không tạo ra cảnh báo về biến không sử dụng\n",
    ">\n",
    ">    return 0;\n",
    ">}\n",
    ">```\n",
    "\n",
    "Ngoài ra, trình biên dịch có thể tối ưu hóa các biến này ra khỏi chương trình, vì vậy chúng không ảnh hưởng đến hiệu suất."
   ]
  },
  {
   "cell_type": "markdown",
   "id": "d4ffe785-c0de-4e10-a6eb-f1a4268c8adc",
   "metadata": {},
   "source": [
    "## **Bài 1.5: <u>Giới thiệu về `iostream`: `cout`, `cin` và `endl`</u>**\n"
   ]
  },
  {
   "cell_type": "markdown",
   "id": "d2a3786a-9c9a-44e1-b038-55a2d6d47de6",
   "metadata": {},
   "source": [
    "Trong bài học này, chúng ta sẽ tìm hiểu thêm về `std::cout`, đối tượng đã được sử dụng trong chương trình **\"Hello world!\"** để xuất văn bản **\"Hello world!\"** ra màn hình console. Chúng ta cũng sẽ khám phá cách lấy dữ liệu nhập từ người dùng, giúp c chương trình trở nên tương tác hơn."
   ]
  },
  {
   "cell_type": "markdown",
   "id": "eefef7c7-21fd-446c-b7a9-e18c019e53ee",
   "metadata": {},
   "source": [
    "### **Thư viện vào/ra:**"
   ]
  },
  {
   "cell_type": "markdown",
   "id": "73971e14-a589-4afd-b556-89a4cca9f7cf",
   "metadata": {},
   "source": [
    "- Thư viện vào/ra (io library) là một phần của thư viện chuẩn C++ dùng để xử lý các tác vụ nhập và xuất cơ bản.\n",
    "- Chúng ta sẽ sử dụng các chức năng trong thư viện này để lấy dữ liệu từ bàn phím và xuất dữ liệu ra màn hình console.\n",
    "- Phần \"io\" trong \"`iostream`\" là viết tắt của \"`input/output`\" (vào/ra).\n",
    "\n",
    "Để sử dụng các chức năng được định nghĩa trong thư viện `iostream`, chúng ta cần thêm header `iostream` vào đầu của bất kỳ tệp code nào sử dụng các nội dung được định nghĩa trong `iostream`, như sau:\n",
    ">`#include <iostream>`\\\n",
    ">`// Phần còn lại của code sử dụng các chức năng của iostream ở đây `"
   ]
  },
  {
   "cell_type": "markdown",
   "id": "056b4b99-bd08-4cca-8758-d86bbd29eb72",
   "metadata": {},
   "source": [
    "### `std::cout`\n"
   ]
  },
  {
   "cell_type": "markdown",
   "id": "775a9328-8833-4087-819d-c284d9e811d4",
   "metadata": {},
   "source": [
    "Thư viện `iostream` chứa một số biến được định sẵn để chúng ta sử dụng. Một trong những biến hữu ích nhất là `std::cout`, cho phép chúng ta gửi dữ liệu đến console để in ra dưới dạng văn bản. `cout` là viết tắt của \"character output\" (xuất ký tự).\n",
    "\n",
    "Ví dụ chương trình `Hello World`:\n",
    "\n",
    ">```\n",
    ">#include <iostream> // Bao gồm header iostream để sử dụng std::cout\n",
    ">\n",
    ">int main()\n",
    ">{\n",
    ">    std::cout << \"Hello world!\"; // In ra \"Hello world!\" ra màn hình console\n",
    ">\n",
    ">    return 0;\n",
    ">}\n",
    ">```\n",
    "\n",
    "Trong chương trình này, chúng ta đã bao gồm `iostream` để có thể truy cập `std::cout`. Bên trong hàm `main`, chúng ta sử dụng `std::cout` cùng với toán tử chèn (`<<`) để gửi văn bản `\"Hello world!\"` đến console để in ra.\n",
    "\n",
    "`std::cout` có thể in nhiều thứ:\n",
    "- std::cout không chỉ in được text, mà còn có thể in cả số:\n",
    ">```\n",
    ">#include <iostream> // Bao gồm header iostream để sử dụng std::cout\n",
    ">\n",
    ">int main()\n",
    ">{\n",
    ">    std::cout << 4; // In số 4 ra màn hình console\n",
    ">\n",
    ">    return 0;\n",
    ">}\n",
    ">```\n",
    "\n",
    "    Kết quả sẽ là:\n",
    "> `4`\n",
    "\n",
    "- `std::cout` cũng có thể được dùng để in giá trị của các biến:\n",
    ">```\n",
    ">#include <iostream> // Bao gồm header iostream để sử dụng std::cout\n",
    ">\n",
    ">int main()\n",
    ">{\n",
    ">    int x { 5 }; // Khai báo biến x kiểu int và khởi tạo giá trị 5\n",
    ">    std::cout << x; // In giá trị của x (5) ra màn hình console\n",
    ">\n",
    ">    return 0;\n",
    ">}\n",
    ">```\n",
    "- Để in nhiều thứ trên cùng một dòng, toán tử chèn (`<<`) có thể được sử dụng nhiều lần trong một câu lệnh duy nhất để nối (liên kết) nhiều đoạn xuất ra thành một chuỗi.\n",
    "- Ví dụ:\n",
    ">```\n",
    ">#include <iostream> // Bao gồm header iostream để sử dụng std::cout\n",
    ">\n",
    ">int main()\n",
    ">{\n",
    ">    std::cout << \"Hello\" << \" world!\";\n",
    ">    return 0;\n",
    ">}\n",
    ">```\n",
    "\n",
    "    Chương trình này sẽ in ra:\n",
    "> `Hello world!`\n",
    "- Ví dụ in cả text và giá trị biến:\n",
    ">```\n",
    ">#include <iostream> // Bao gồm header iostream để sử dụng std::cout\n",
    ">\n",
    ">int main()\n",
    ">{\n",
    ">    int x { 5 };\n",
    ">    std::cout << \"x is equal to: \" << x;\n",
    ">    return 0;\n",
    ">}\n",
    ">```\n",
    "\n",
    "    Chương trình này sẽ in ra:\n",
    ">`x is equal to: 5`\n",
    "\n",
    "<u>Lưu ý về tiền tố `std::`</u>\n",
    "\n",
    "Giải thích về tiền tố `std::` sẽ được đề cập trong bài học **2.9 - Xung đột tên và Giới thiệu về Namespaces.**"
   ]
  },
  {
   "cell_type": "markdown",
   "id": "83636813-d2b8-4653-9cca-32b4d9a51582",
   "metadata": {},
   "source": [
    "### `std::endl`"
   ]
  },
  {
   "cell_type": "markdown",
   "id": "e499ac48-0933-4fa4-bfdc-74cfba0d369c",
   "metadata": {},
   "source": [
    "- Bạn có thể nghĩ chương trình này sẽ in ra gì?\n",
    ">```\n",
    ">#include <iostream> // Bao gồm header iostream để sử dụng std::cout\n",
    ">\n",
    ">int main()\n",
    ">{\n",
    ">    std::cout << \"Hi!\";\n",
    ">    std::cout << \"My name is Alex.\";\n",
    ">    return 0;\n",
    ">}\n",
    ">```\n",
    "\n",
    "    Kết quả có thể khiến bạn bất ngờ:\n",
    "    >`Hi!My name is Alex.`\n",
    "\n",
    "- Các câu lệnh in riêng biệt (`std::cout`) không nhất thiết dẫn đến in ra các dòng riêng biệt trên console.\n",
    "- **In xuống dòng chủ động:**\n",
    "    - Nếu muốn in ra các dòng riêng biệt trên console, chúng ta cần thông báo cho console biết khi nào di chuyển con trỏ xuống dòng.\n",
    "    - Một cách để thực hiện điều đó là sử dụng `std::endl`. Khi được xuất ra với `std::cout`, `std::endl` sẽ in một ký tự xuống dòng (`\\n`) vào console (khiến con trỏ nhảy đến đầu dòng tiếp theo). Trong ngữ cảnh này, `endl` là viết tắt của \"end line\" (kết thúc dòng).\n",
    "- Ví dụ:\n",
    ">```\n",
    ">#include <iostream> // Bao gồm header iostream để sử dụng std::cout và std::endl\n",
    ">\n",
    ">int main()\n",
    ">{\n",
    ">    std::cout << \"Hi!\" << std::endl; // std::endl sẽ khiến con trỏ nhảy xuống dòng tiếp theo\n",
    ">    std::cout << \"My name is Alex.\" << std::endl;\n",
    ">\n",
    ">    return 0;\n",
    ">}\n",
    ">```\n",
    "\n",
    "    Chương trình này sẽ in ra:\n",
    "    >`Hi!`\\\n",
    "    >`My name is Alex.`\n",
    "\n",
    ">**Mẹo:**\n",
    ">Mẹo về `std::endl`:\n",
    ">\n",
    ">Trong chương trình trên, `std::endl` thứ hai về mặt kỹ thuật không cần thiết, vì chương trình kết thúc ngay sau đó. Tuy nhiên, nó có một vài mục đích hữu ích.\n",
    ">\n",
    ">Thứ nhất, nó giúp chỉ ra rằng dòng xuất ra là một \"hoàn chỉnh\" (chứ không phải là đầu ra một phần được hoàn thành ở đâu đó sau trong code). Theo nghĩa này, nó hoạt động tương tự như việc sử dụng dấu chấm trong tiếng Anh.\n",
    ">\n",
    ">Thứ hai, nó đặt con trỏ trên dòng tiếp theo, vì vậy nếu sau này chúng ta thêm các dòng xuất ra bổ sung (ví dụ: yêu cầu chương trình nói \"bye!\"), các dòng đó sẽ xuất hiện ở vị trí mong đợi (chứ không phải được nối vào dòng xuất ra trước đó).\n",
    ">\n",
    ">Thứ ba, sau khi chạy một file thực thi từ dòng lệnh, một số hệ điều hành không xuất ra dòng mới trước khi hiển thị lại dấu nhắc lệnh. Nếu chương trình của chúng ta không kết thúc với con trỏ trên một dòng mới, dấu nhắc lệnh có thể xuất hiện được nối vào dòng xuất ra trước đó, thay vì ở đầu dòng mới như người dùng mong đợi.\n",
    ">\n",
    "\n"
   ]
  },
  {
   "cell_type": "markdown",
   "id": "3d296a04-ff52-4e32-bed2-1577722232bc",
   "metadata": {},
   "source": [
    "### **`std::cout` được đệm (buffered)**"
   ]
  },
  {
   "cell_type": "markdown",
   "id": "684e4c71-2fe6-4b4a-afad-302c76700c7f",
   "metadata": {},
   "source": [
    "Hãy tưởng tượng về một tàu lượn siêu tốc ở công viên giải trí yêu thích của bạn. Khách tham quan đến (với tốc độ thay đổi) và xếp hàng. Theo định kỳ, một toa tàu đến và chở khách (tối đa bằng sức chứa của toa tàu). Khi toa tàu đầy hoặc đủ thời gian đã trôi qua, toa tàu khởi hành với một nhóm hành khách và bắt đầu chuyến đi. Bất kỳ hành khách nào không thể lên toa tàu hiện tại sẽ đợi toa tàu tiếp theo.\n",
    "\n",
    "Cách thức hoạt động này tương tự như cách dữ liệu xuất ra được gửi đến `std::cout` thường được xử lý trong C++. Các câu lệnh trong chương trình của chúng ta yêu cầu gửi dữ liệu xuất ra cho console. Tuy nhiên, dữ liệu xuất ra đó thường không được gửi ngay lập tức tới console. Thay vào đó, dữ liệu xuất ra được yêu cầu sẽ \"xếp hàng\" và được lưu trữ trong một vùng nhớ được dành riêng để thu thập các yêu cầu như vậy (gọi là **bộ đệm** - **buffer**). Định kỳ, bộ đệm sẽ được \"xả\" (`flush`), nghĩa là tất cả dữ liệu được thu thập trong bộ đệm được chuyển đến đích của nó (trong trường hợp này là console).\n",
    "\n"
   ]
  },
  {
   "cell_type": "markdown",
   "id": "9d7adf17-befd-41ad-9ce0-08aafede60f8",
   "metadata": {},
   "source": [
    "> **Chú thích của tác giả:**\\\n",
    "> Theo một phép ẩn dụ khác, việc xả bộ đệm giống như xả nước bồn cầu. Tất cả \"dữ liệu xuất ra\" được thu thập của bạn sẽ được chuyển đến bất cứ nơi nào nó sẽ đến tiếp theo. (Không hay cho lắm!)\n",
    "\n",
    "Điều này cũng có nghĩa là nếu chương trình của bạn bị lỗi, dừng đột ngột (abort) hoặc tạm dừng (ví dụ: để gỡ lỗi) trước khi bộ đệm được xả, bất kỳ dữ liệu xuất ra nào vẫn còn chờ trong bộ đệm sẽ không được hiển thị.\n",
    "\n"
   ]
  },
  {
   "cell_type": "markdown",
   "id": "a5001627-1c5d-4149-a03e-f7cb12076e92",
   "metadata": {},
   "source": [
    "> **Lưu ý quan trọng:**\n",
    ">\n",
    ">Trái ngược với xuất ra được đệm là xuất ra không được đệm (unbuffered output). Với xuất ra không được đệm, mỗi yêu cầu xuất ra riêng lẻ sẽ được gửi trực tiếp đến thiết bị đầu ra.\n",
    ">\n",
    ">Viết dữ liệu vào bộ đệm thường nhanh, trong khi truyền một loạt dữ liệu đến thiết bị đầu ra thì tương đối chậm. Việc đệm có thể cải thiện hiệu suất đáng kể bằng cách giảm thiểu số lượng truyền chậm cần thực hiện khi có nhiều yêu cầu xuất ra."
   ]
  },
  {
   "cell_type": "markdown",
   "id": "b44a0087-6375-402d-9868-7360f47d936c",
   "metadata": {},
   "source": [
    "### **`std::endl` vs ‘`\\n`’**\n",
    "\n"
   ]
  },
  {
   "cell_type": "markdown",
   "id": "869aad2c-db24-4fac-b163-6fb8d2eb39fb",
   "metadata": {},
   "source": [
    "Trong C++, std::endl và '\\n' đều được sử dụng để in xuống dòng, nhưng chúng có sự khác biệt về mặt hiệu quả:\n",
    "- `std::endl`:\n",
    "    - Thực hiện hai tác vụ:\n",
    "        - Di chuyển con trỏ xuống dòng tiếp theo trên console.\n",
    "        - Xả (flush) bộ đệm của std::cout. Bộ đệm là một vùng nhớ tạm thời lưu trữ dữ liệu xuất ra trước khi gửi đến console.\n",
    "    - Xả bộ đệm có thể hơi kém hiệu quả vì nó liên quan đến việc ghi dữ liệu ra thiết bị đầu ra ngay cả khi chưa cần thiết.\n",
    "\n"
   ]
  }
 ],
 "metadata": {
  "kernelspec": {
   "display_name": "Python 3 (ipykernel)",
   "language": "python",
   "name": "python3"
  },
  "language_info": {
   "codemirror_mode": {
    "name": "ipython",
    "version": 3
   },
   "file_extension": ".py",
   "mimetype": "text/x-python",
   "name": "python",
   "nbconvert_exporter": "python",
   "pygments_lexer": "ipython3",
   "version": "3.12.2"
  }
 },
 "nbformat": 4,
 "nbformat_minor": 5
}
