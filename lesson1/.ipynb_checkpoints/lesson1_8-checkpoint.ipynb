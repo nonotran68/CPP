{
 "cells": [
  {
   "cell_type": "markdown",
   "id": "91d786b1-f5a8-42ce-8096-d933ac114ac2",
   "metadata": {},
   "source": [
    "## **Bài 1.8: <u>Khoảng trắng và Định dạng cơ bản trong C++</u>**"
   ]
  },
  {
   "cell_type": "markdown",
   "id": "8dd3a8b1-09e0-413c-879c-00e611665afe",
   "metadata": {},
   "source": [
    "**Khoảng trắng (Whitespace)** là một thuật ngữ chỉ các ký tự được sử dụng cho mục đích định dạng. Trong **C++**, nó chủ yếu đề cập đến **dấu cách**, **tab** và **xuống dòng** (**newline**). Khoảng trắng trong C++ thường được dùng cho 3 mục đích: phân cách các thành phần ngôn ngữ nhất định, xuất hiện bên trong văn bản và định dạng code."
   ]
  },
  {
   "cell_type": "markdown",
   "id": "2bd5f725-52c9-46f4-944d-9c1e16ad29c0",
   "metadata": {},
   "source": [
    "### 1. **Phân cách các thành phần ngôn ngữ:**"
   ]
  },
  {
   "cell_type": "markdown",
   "id": "36aca5a3-7657-4c31-951a-bbfd55463d95",
   "metadata": {},
   "source": [
    "- Cú pháp của ngôn ngữ yêu cầu một số thành phần được phân cách bằng khoảng trắng. Điều này chủ yếu xảy ra khi hai từ khóa hoặc định danh cần được đặt cạnh nhau, để trình biên dịch có thể phân biệt chúng.\n",
    "- Ví dụ: Khai báo biến phải được phân cách bằng khoảng trắng:\n",
    ">` int x; // int và x phải được phân cách bằng khoảng trắng`\n",
    "\n",
    "    Nếu chúng ta viết `intx` thay thế, trình biên dịch sẽ hiểu đây là một định danh và sau đó báo cáo lại rằng nó không biết định danh `intx` là gì.\n",
    "- Một ví dụ khác, kiểu trả về và tên của hàm phải được phân cách bằng khoảng trắng:\n",
    ">`int main(); // int và main() phải được phân cách bằng khoảng trắng`\n",
    "\n",
    "**Lưu ý về khoảng trắng:**\n",
    "\n",
    "- Khi khoảng trắng có nhiệm vụ như một dấu phân cách, trình biên dịch không quan tâm đến việc sử dụng bao nhiêu khoảng trắng, miễn là có một khoảng trắng nào đó.\n",
    "- Các định nghĩa biến sau đều hợp lệ:\n",
    "\n",
    ">```\n",
    ">int x;\n",
    ">int                y;\n",
    ">            int\n",
    ">z;\n",
    ">```"
   ]
  },
  {
   "cell_type": "markdown",
   "id": "e127edc4-931e-4405-93fc-04077b347419",
   "metadata": {},
   "source": [
    "### 2. **Xuống dòng (Newline) như dấu phân cách:**"
   ]
  },
  {
   "cell_type": "markdown",
   "id": "ce5dd2a0-a684-4fc7-8650-31126bef2085",
   "metadata": {},
   "source": [
    "Trong một số trường hợp, xuống dòng được sử dụng như một dấu phân cách. Inline comment được kết thúc bằng một xuống dòng.\n",
    "\n",
    "**Ví dụ:** Việc thực hiện điều này sẽ khiến bạn gặp rắc rối:\n",
    ">```\n",
    ">std::cout << \"Hello world!\"; // Đây là một phần của comment và\n",
    "Đây không phải là một phần của comment\n",
    ">```"
   ]
  },
  {
   "cell_type": "markdown",
   "id": "4509661c-26f7-438b-b45f-fd6b6649162b",
   "metadata": {},
   "source": [
    "### 3. **Định dạng code:**"
   ]
  },
  {
   "cell_type": "markdown",
   "id": "97711bf9-8aa9-4b9b-811d-23f4ed2dc50e",
   "metadata": {},
   "source": [
    "Khoảng trắng cũng được sử dụng để cải thiện khả năng đọc của code. Mặc dù trình biên dịch không quan tâm đến việc bạn sử dụng bao nhiêu khoảng trắng để thụt lề hoặc giãn cách các dòng, việc sử dụng chúng hợp lý sẽ giúp code dễ hiểu hơn.\n",
    "\n",
    "\n",
    "**Ví dụ: đoạn code sau khó đọc**\n",
    ">```\n",
    ">#include <iostream>\n",
    ">int main(){std::cout<<\"Hello world\";return 0;}\n",
    ">```\n",
    "\n",
    "**Đoạn code sau dễ đọc hơn (nhưng vẫn hơi dày đặc):**\n",
    ">```\n",
    ">#include <iostream>\n",
    ">int main() {\n",
    ">std::cout << \"Hello world\";\n",
    ">return 0;\n",
    ">}\n",
    ">```\n",
    "\n",
    "**Ví dụ về code được định dạng tốt:**\n",
    ">```\n",
    ">#include <iostream>\n",
    ">#include <string>\n",
    ">\n",
    ">int main() {\n",
    ">    std::cout << \"Hello, world!\" << std::endl;\n",
    ">    return 0;\n",
    ">}\n",
    ">```\n",
    "\n",
    "**Ngắt dòng cho các câu lệnh (statement):** Các câu lệnh (statement) có thể được ngắt ra nhiều dòng nếu cần.\n",
    ">```\n",
    ">#include <iostream>\n",
    ">\n",
    ">int main() {\n",
    ">    std::cout\n",
    ">        << \"Hello world\"; // Vẫn hoạt động bình thường\n",
    ">    return 0;\n",
    ">}\n",
    ">```\n",
    "\n",
    "Điều này hữu ích cho các câu lệnh đặc biệt dài."
   ]
  },
  {
   "cell_type": "markdown",
   "id": "c0743cf8-939e-49e4-b415-bdf9bd5e083d",
   "metadata": {},
   "source": [
    "### **Văn bản được trích dẫn và Khoảng trắng trong Chuỗi (Quoted text and Whitespace in Strings)**"
   ]
  },
  {
   "cell_type": "markdown",
   "id": "e01a0646-da00-427a-8ed7-5074fb78fb64",
   "metadata": {},
   "source": [
    "Văn bản được trích dẫn (**Quoted text**) là một chuỗi ký tự được bao bọc trong dấu nháy kép (`\"`). Số lượng khoảng trắng bên trong văn bản được trích dẫn sẽ được hiểu theo đúng nghĩa đen.\n",
    "\n",
    ">`std::cout << \"Hello world!\"; // In ra \"Hello world!\" (không có khoảng trắng thừa)`\n",
    "\n",
    "Khác với:\n",
    ">`std::cout << \"Hello          world!\"; // In ra \"Hello          world!\" (in cả 8 khoảng trắng)\n",
    "`\n",
    "\n",
    "**Lưu ý:**\n",
    "- Không được phép có xuống dòng (newline) bên trong văn bản được trích dẫn.\n",
    "\n",
    ">`std::cout << \"Hello  // Không được phép!`\\\n",
    ">`     world!\";`\n",
    "- Các đoạn văn bản được trích dẫn được phân cách chỉ bằng khoảng trắng (dấu cách, tab hoặc xuống dòng) sẽ được nối lại với nhau.\n",
    "\n",
    ">`std::cout << \"Hello \"  // Nối \"Hello \"`\\\n",
    ">`          \"world!\";  // với \"world!\"`\\\n",
    ">`// In ra \"Hello world!\"`\n"
   ]
  },
  {
   "cell_type": "markdown",
   "id": "f54ea99b-e04f-4166-9954-1b700f79932a",
   "metadata": {},
   "source": [
    "### **Định dạng cơ bản trong C++**"
   ]
  },
  {
   "cell_type": "markdown",
   "id": "44746c85-15eb-4f5f-8304-59a4c6b3abce",
   "metadata": {},
   "source": [
    "**Không giống như một số ngôn ngữ khác, C++ không áp đặt bất kỳ hạn chế định dạng nào cho người lập trình.** Vì lý do này, chúng ta nói rằng C++ là ngôn ngữ **không phụ thuộc vào khoảng trắng** (**whitespace-independent**).\n",
    "\n",
    "Đây là một lợi thế nhưng cũng là bất lợi. Một mặt, thật tuyệt vời khi có thể thoải mái làm bất cứ điều gì bạn muốn. Mặt khác, nhiều phương pháp định dạng chương trình C++ khác nhau đã được phát triển trong nhiều năm và bạn sẽ thấy (đôi khi là sự bất đồng đáng kể và gây mất tập trung) về phương pháp nào là tốt nhất. Nguyên tắc cơ bản của chúng tôi là các kiểu cách tốt nhất là những kiểu cách tạo ra code dễ đọc nhất và cung cấp sự nhất quán cao nhất.\n",
    "\n",
    "**Dưới đây là các khuyến nghị của chúng tôi về định dạng cơ bản:**\n",
    "1. <u>Thụt lề (indentation) hay dấu cách (space):</u>\n",
    "- Bạn có thể sử dụng tab hoặc dấu cách để thụt lề (phần lớn các IDE đều có cài đặt cho phép bạn chuyển đổi một lần nhấn tab thành số lượng khoảng trắng thích hợp).\n",
    "- Các nhà phát triển thích sử dụng khoảng trắng có xu hướng làm như vậy bởi vì nó đảm bảo rằng code được căn chỉnh chính xác theo ý định bất kể sử dụng trình soạn thảo hoặc cài đặt nào. Những người ủng hộ việc sử dụng tab tự hỏi tại sao bạn không sử dụng ký tự được thiết kế để thụt lề cho việc thụt lề, đặc biệt là vì bạn có thể đặt độ rộng thành bất kỳ tùy chọn cá nhân nào của bạn. Không có câu trả lời đúng ở đây - và tranh luận về nó giống như tranh luận về việc bánh ngọt hay bánh nướng là ngon hơn. Cuối cùng nó phụ thuộc vào sở thích cá nhân.\n",
    "- Dù bằng cách nào, chúng tôi khuyên bạn nên đặt tab của mình thành thụt lề bằng 4 dấu cách. Một số IDE mặc định thành thụt lề 3 dấu cách, điều này cũng ổn."
   ]
  },
  {
   "cell_type": "markdown",
   "id": "03c4aa5d-5053-4445-af8d-97f06e50efb2",
   "metadata": {},
   "source": [
    "2. <u>Ngoặc nhọn trong hàm (Function braces):</u>\n",
    "- Có hai kiểu cách thông thường cho ngoặc nhọn trong hàm.\n",
    "- Nhiều nhà phát triển thích đặt ngoặc nhọn mở trên cùng dòng với câu lệnh:\n",
    ">```\n",
    ">int main() {\n",
    ">    // Các câu lệnh ở đây\n",
    ">}\n",
    ">```\n",
    "\n",
    "Lý do cho điều này là nó làm giảm lượng khoảng trắng theo chiều dọc (vì bạn không dành toàn bộ một dòng cho một ngoặc nhọn mở), do đó bạn có thể chứa nhiều code hơn trên một màn hình. Điều này cải thiện khả năng hiểu code, vì bạn không cần phải cuộn nhiều để hiểu code đang làm gì.\n",
    "\n",
    "Tuy nhiên, trong loạt bài hướng dẫn này, chúng tôi sẽ sử dụng cách thay thế phổ biến, trong đó ngoặc nhọn mở xuất hiện trên dòng riêng của nó:\n",
    ">```\n",
    ">int main()\n",
    ">{\n",
    ">    // Các câu lệnh ở đây\n",
    ">}\n",
    ">```\n",
    "\n",
    "Điều này cải thiện khả năng đọc và ít lỗi hơn vì các cặp ngoặc nhọn của bạn luôn được thụt lề ở cùng một cấp độ. Nếu bạn gặp lỗi trình biên dịch do không khớp ngoặc nhọn, bạn sẽ rất dễ dàng xác định vị trí."
   ]
  },
  {
   "cell_type": "markdown",
   "id": "b59f84ef-da66-4a9f-bc11-9294147befe1",
   "metadata": {},
   "source": [
    "3. <u>Thụt lề cho các câu lệnh (Statement indentation):</u>\n",
    "- Mỗi câu lệnh trong ngoặc nhọn nên bắt đầu thụt lề một tab tính từ ngoặc nhọn mở của hàm mà nó thuộc về. Ví dụ:\n",
    ">```\n",
    ">int main()\n",
    ">{\n",
    ">    std::cout << \"Hello world!\\n\"; // thụt lề một tab (4 khoảng trắng)\n",
    ">    std::cout << \"Nice to meet you.\\n\"; // thụt lề một tab (4 khoảng trắng)\n",
    ">}\n",
    ">```"
   ]
  },
  {
   "cell_type": "markdown",
   "id": "d7ce5573-36a6-430d-ace7-f760652f742d",
   "metadata": {},
   "source": [
    "4. <u>Độ dài dòng (Line length):</u>\n",
    "- Dòng không nên quá dài. Theo thông lệ, 80 ký tự là tiêu chuẩn thực tế cho độ dài tối đa của một dòng.\n",
    "- Nếu một dòng vượt quá 80 ký tự:\n",
    "    - Chia nhỏ dòng đó: Bạn nên tách dòng đó thành nhiều dòng nhỏ hơn (ở những vị trí thích hợp).\n",
    "    - Thụt lề cho các dòng tiếp theo: Mỗi dòng được tách ra nên được thụt lề thêm một tab so với dòng gốc.\n",
    "    - Căn chỉnh với dòng trên (tùy chọn): Nếu các dòng được tách ra có nội dung tương tự nhau, bạn có thể căn chỉnh chúng với dòng trên để cải thiện khả năng đọc. Chọn cách nào dễ đọc hơn thì cứ dùng cách đó.\n",
    "\n",
    "\n",
    ">```\n",
    ">int main()\n",
    ">{\n",
    ">    std::cout << \"This is a really, really, really, really, really, really, really, \"\n",
    ">        \"really long line\\n\"; // thụt lề thêm một lần cho dòng tiếp theo\n",
    ">\n",
    ">    std::cout << \"This is another really, really, really, really, really, really, really, \"\n",
    ">                 \"really long line\\n\"; // dòng tiếp theo được căn lề bằng với dòng ở trên\n",
    ">\n",
    ">    std::cout << \"This one is short\\n\";\n",
    ">} \n",
    ">```\n",
    "\n",
    ">**Thực tiễn:**\n",
    "Luôn cân nhắc giữ cho các dòng code của bạn có độ dài 80 ký tự trở xuống.\n",
    "\n",
    ">**Mẹo:**\\\n",
    ">Nhiều trình soạn thảo code có một tính năng tích hợp sẵn (hoặc plugin/extension) giúp hiển thị một đường thẳng (được gọi là \"đường dẫn cột\" - column guide) ở một cột nhất định (ví dụ: ở ký tự thứ 80), để bạn có thể dễ dàng xem  khi nào các dòng code của bạn trở nên quá dài.\n",
    "Để biết trình soạn thảo của bạn có hỗ trợ tính năng này không, hãy tìm kiếm trên **Google** bằng cú pháp `\"[Tên trình soạn thảo của bạn] + Column guide\".`"
   ]
  },
  {
   "cell_type": "markdown",
   "id": "ed1fd9a7-b739-4831-8c86-842a1fe5e836",
   "metadata": {},
   "source": [
    "5. <u>Phân chia dòng với toán tử</u>\n",
    "- Nếu một dòng dài được phân chia với một toán tử (ví dụ như `<<` hoặc `+`), toán tử đó nên được đặt ở đầu dòng tiếp theo.\n",
    "- **Ví dụ:**\n",
    ">```\n",
    ">std::cout << 3 + 4\n",
    ">    + 5 + 6\n",
    ">    * 7 * 8;\n",
    ">```\n",
    "- Điều này giúp làm rõ ràng hơn rằng các dòng tiếp theo là phần tiếp nối của các dòng trước đó và cho phép bạn căn chỉnh các toán tử ở bên trái, giúp việc đọc dễ dàng hơn.\n",
    "6. <u>Sử dụng khoảng trắng để cải thiện khả năng đọc:</u>\n",
    "- Sử dụng khoảng trắng để làm cho code của bạn dễ đọc hơn bằng cách căn chỉnh các giá trị, bình luận hoặc thêm khoảng cách giữa các khối code.\n",
    "- **Khó đọc:**\n",
    "\n",
    ">```\n",
    ">cost = 57;\n",
    ">pricePerItem = 24;\n",
    ">value = 5;\n",
    ">numberOfItems = 17;\n",
    ">```\n",
    "\n",
    "- **Dễ đọc**\n",
    "    \n",
    ">```\n",
    ">cost          = 57;\n",
    ">pricePerItem  = 24;\n",
    ">value         = 5;\n",
    ">numberOfItems = 17;\n",
    ">```"
   ]
  },
  {
   "cell_type": "markdown",
   "id": "0191f226-fbe9-4fcc-8c45-cac1226cd6ee",
   "metadata": {},
   "source": [
    "- **Khó đọc:**\n",
    "\n",
    ">```\n",
    ">std::cout << \"Hello world!\\n\"; // cout lives in the iostream library\n",
    ">std::cout << \"It is very nice to meet you!\\n\"; // these comments make the code hard to read\n",
    ">std::cout << \"Yeah!\\n\"; // especially when lines are different lengths\n",
    ">```\n",
    "- **Dễ học:**\n",
    "\n",
    ">```\n",
    ">std::cout << \"Hello world!\\n\";                  // cout lives in the iostream library\n",
    ">std::cout << \"It is very nice to meet you!\\n\";  // these comments are easier to read\n",
    ">std::cout << \"Yeah!\\n\";                         // especially when all lined up\n",
    ">```"
   ]
  },
  {
   "cell_type": "markdown",
   "id": "17155e8d-9476-4e85-8ecd-d458e3d3280c",
   "metadata": {},
   "source": [
    "- **Khó đọc:**\n",
    "\n",
    ">```\n",
    ">// cout lives in the iostream library\n",
    ">std::cout << \"Hello world!\\n\";\n",
    ">// these comments make the code hard to read\n",
    ">std::cout << \"It is very nice to meet you!\\n\";\n",
    ">// especially when all bunched together\n",
    ">std::cout << \"Yeah!\\n\";\n",
    ">```\n",
    "- **Dễ đọc:**\n",
    "\n",
    ">```\n",
    ">// cout lives in the iostream library\n",
    ">std::cout << \"Hello world!\\n\";\n",
    ">\n",
    ">// these comments are easier to read\n",
    ">std::cout << \"It is very nice to meet you!\\n\";\n",
    ">\n",
    ">// when separated by whitespace\n",
    ">std::cout << \"Yeah!\\n\";\n",
    ">```"
   ]
  },
  {
   "cell_type": "markdown",
   "id": "66d8e9bc-5abc-49ef-acf0-a05403cff7f0",
   "metadata": {},
   "source": [
    "Trong suốt hướng dẫn này, chúng tôi sẽ tuân theo các quy ước này và chúng sẽ trở thành bản năng thứ hai của bạn. Khi giới thiệu các chủ đề mới với bạn, chúng tôi sẽ giới thiệu các đề xuất về kiểu cách mới để đi kèm với các tính năng đó.\n",
    "\n",
    "Cuối cùng, C++ cung cấp cho bạn sức mạnh để lựa chọn bất kỳ kiểu cách nào mà bạn cảm thấy thoải mái nhất hoặc cho là tốt nhất. Tuy nhiên, chúng tôi đặc biệt khuyên bạn nên sử dụng cùng kiểu cách mà chúng tôi sử dụng cho các ví dụ của mình. Nó đã được hàng nghìn lập trình viên kiểm tra thực tế trên hàng tỷ dòng code và được tối ưu hóa để thành công.\n",
    "\n",
    "**Một ngoại lệ:** Nếu bạn đang làm việc trên codebase của người khác, hãy áp dụng phong cách của họ. Tốt hơn nên ưu tiên sự nhất quán hơn sở thích của bạn."
   ]
  },
  {
   "cell_type": "markdown",
   "id": "5adcfd90-a7c7-4111-8b84-bfd0295aaad8",
   "metadata": {},
   "source": [
    "**Style guide:** là một tài liệu ngắn gọn, thể hiện quan điểm chứa các quy ước lập trình (đôi khi tùy ý), hướng dẫn định dạng và các thực hành tốt nhất. Mục tiêu của một style guide là đảm bảo rằng tất cả các nhà phát triển trong một dự án đều lập trình theo một cách thống nhất.\n",
    "\n",
    "Một số style guide C++ được tham khảo phổ biến bao gồm:\n",
    "\n",
    "[C++ Core Guidelines](http://isocpp.github.io/CppCoreGuidelines/CppCoreGuidelines) - Được bảo trì bởi Bjarne Stroustrup và Herb Sutter.<br>\n",
    "[Google](https://google.github.io/styleguide/cppguide.html)<br>\n",
    "[LLVM](https://llvm.org/docs/CodingStandards.html)<br>\n",
    "[GCC/GNU](https://gcc.gnu.org/codingconventions.html)<br>\n",
    "Nhìn chung, chúng tôi ưu tiên C++ Core Guidelines vì chúng cập nhật và được áp dụng rộng rãi.\n"
   ]
  }
 ],
 "metadata": {
  "kernelspec": {
   "display_name": "Python 3 (ipykernel)",
   "language": "python",
   "name": "python3"
  },
  "language_info": {
   "codemirror_mode": {
    "name": "ipython",
    "version": 3
   },
   "file_extension": ".py",
   "mimetype": "text/x-python",
   "name": "python",
   "nbconvert_exporter": "python",
   "pygments_lexer": "ipython3",
   "version": "3.12.2"
  }
 },
 "nbformat": 4,
 "nbformat_minor": 5
}
