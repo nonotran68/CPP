{
 "cells": [
  {
   "cell_type": "markdown",
   "id": "7158895b-9dfc-457b-af5b-afa78ff442dc",
   "metadata": {},
   "source": [
    "## **Bài 1.5: <u>Giới thiệu về `iostream`: `cout`, `cin` và `endl`</u>**\n"
   ]
  },
  {
   "cell_type": "markdown",
   "id": "c6b9604b-a67d-4547-9200-d6a85f7a3e69",
   "metadata": {},
   "source": [
    "Trong bài học này, chúng ta sẽ tìm hiểu thêm về `std::cout`, đối tượng đã được sử dụng trong chương trình **\"Hello world!\"** để xuất văn bản **\"Hello world!\"** ra màn hình console. Chúng ta cũng sẽ khám phá cách lấy dữ liệu nhập từ người dùng, giúp c chương trình trở nên tương tác hơn."
   ]
  },
  {
   "cell_type": "markdown",
   "id": "194b3c09-01f1-4193-b334-bf2678c141cb",
   "metadata": {},
   "source": [
    "### **Thư viện vào/ra:**"
   ]
  },
  {
   "cell_type": "markdown",
   "id": "b1fb9b6f-568b-48a9-8499-ac78bb2f550c",
   "metadata": {},
   "source": [
    "- Thư viện vào/ra (io library) là một phần của thư viện chuẩn C++ dùng để xử lý các tác vụ nhập và xuất cơ bản.\n",
    "- Chúng ta sẽ sử dụng các chức năng trong thư viện này để lấy dữ liệu từ bàn phím và xuất dữ liệu ra màn hình console.\n",
    "- Phần \"io\" trong \"`iostream`\" là viết tắt của \"`input/output`\" (vào/ra).\n",
    "\n",
    "Để sử dụng các chức năng được định nghĩa trong thư viện `iostream`, chúng ta cần thêm header `iostream` vào đầu của bất kỳ tệp code nào sử dụng các nội dung được định nghĩa trong `iostream`, như sau:\n",
    ">`#include <iostream>`\\\n",
    ">`// Phần còn lại của code sử dụng các chức năng của iostream ở đây `"
   ]
  },
  {
   "cell_type": "markdown",
   "id": "c1218327-4e6b-4571-bc6d-7006288df8c7",
   "metadata": {},
   "source": [
    "### `std::cout`\n"
   ]
  },
  {
   "cell_type": "markdown",
   "id": "f76d4e31-95d4-4821-9b98-ada9ffe4ca08",
   "metadata": {},
   "source": [
    "Thư viện `iostream` chứa một số biến được định sẵn để chúng ta sử dụng. Một trong những biến hữu ích nhất là `std::cout`, cho phép chúng ta gửi dữ liệu đến console để in ra dưới dạng văn bản. `cout` là viết tắt của \"character output\" (xuất ký tự).\n",
    "\n",
    "Ví dụ chương trình `Hello World`:\n",
    "\n",
    ">```\n",
    ">#include <iostream> // Bao gồm header iostream để sử dụng std::cout\n",
    ">\n",
    ">int main()\n",
    ">{\n",
    ">    std::cout << \"Hello world!\"; // In ra \"Hello world!\" ra màn hình console\n",
    ">\n",
    ">    return 0;\n",
    ">}\n",
    ">```\n",
    "\n",
    "Trong chương trình này, chúng ta đã bao gồm `iostream` để có thể truy cập `std::cout`. Bên trong hàm `main`, chúng ta sử dụng `std::cout` cùng với toán tử chèn (`<<`) để gửi văn bản `\"Hello world!\"` đến console để in ra.\n",
    "\n",
    "`std::cout` có thể in nhiều thứ:\n",
    "- std::cout không chỉ in được text, mà còn có thể in cả số:\n",
    ">```\n",
    ">#include <iostream> // Bao gồm header iostream để sử dụng std::cout\n",
    ">\n",
    ">int main()\n",
    ">{\n",
    ">    std::cout << 4; // In số 4 ra màn hình console\n",
    ">\n",
    ">    return 0;\n",
    ">}\n",
    ">```\n",
    "\n",
    "    Kết quả sẽ là:\n",
    "> `4`\n",
    "\n",
    "- `std::cout` cũng có thể được dùng để in giá trị của các biến:\n",
    ">```\n",
    ">#include <iostream> // Bao gồm header iostream để sử dụng std::cout\n",
    ">\n",
    ">int main()\n",
    ">{\n",
    ">    int x { 5 }; // Khai báo biến x kiểu int và khởi tạo giá trị 5\n",
    ">    std::cout << x; // In giá trị của x (5) ra màn hình console\n",
    ">\n",
    ">    return 0;\n",
    ">}\n",
    ">```\n",
    "- Để in nhiều thứ trên cùng một dòng, toán tử chèn (`<<`) có thể được sử dụng nhiều lần trong một câu lệnh duy nhất để nối (liên kết) nhiều đoạn xuất ra thành một chuỗi.\n",
    "- Ví dụ:\n",
    ">```\n",
    ">#include <iostream> // Bao gồm header iostream để sử dụng std::cout\n",
    ">\n",
    ">int main()\n",
    ">{\n",
    ">    std::cout << \"Hello\" << \" world!\";\n",
    ">    return 0;\n",
    ">}\n",
    ">```\n",
    "\n",
    "    Chương trình này sẽ in ra:\n",
    "> `Hello world!`\n",
    "- Ví dụ in cả text và giá trị biến:\n",
    ">```\n",
    ">#include <iostream> // Bao gồm header iostream để sử dụng std::cout\n",
    ">\n",
    ">int main()\n",
    ">{\n",
    ">    int x { 5 };\n",
    ">    std::cout << \"x is equal to: \" << x;\n",
    ">    return 0;\n",
    ">}\n",
    ">```\n",
    "\n",
    "    Chương trình này sẽ in ra:\n",
    ">`x is equal to: 5`\n",
    "\n",
    "<u>Lưu ý về tiền tố `std::`</u>\n",
    "\n",
    "Giải thích về tiền tố `std::` sẽ được đề cập trong bài học **2.9 - Xung đột tên và Giới thiệu về Namespaces.**"
   ]
  },
  {
   "cell_type": "markdown",
   "id": "5c9cd96b-27bb-442a-99c9-d04872745ac5",
   "metadata": {},
   "source": [
    "### `std::endl`"
   ]
  },
  {
   "cell_type": "markdown",
   "id": "23a294e2-ab25-4792-b4a1-11d8b5951063",
   "metadata": {},
   "source": [
    "- Bạn có thể nghĩ chương trình này sẽ in ra gì?\n",
    ">```\n",
    ">#include <iostream> // Bao gồm header iostream để sử dụng std::cout\n",
    ">\n",
    ">int main()\n",
    ">{\n",
    ">    std::cout << \"Hi!\";\n",
    ">    std::cout << \"My name is Alex.\";\n",
    ">    return 0;\n",
    ">}\n",
    ">```\n",
    "\n",
    "    Kết quả có thể khiến bạn bất ngờ:\n",
    "    >`Hi!My name is Alex.`\n",
    "\n",
    "- Các câu lệnh in riêng biệt (`std::cout`) không nhất thiết dẫn đến in ra các dòng riêng biệt trên console.\n",
    "- **In xuống dòng chủ động:**\n",
    "    - Nếu muốn in ra các dòng riêng biệt trên console, chúng ta cần thông báo cho console biết khi nào di chuyển con trỏ xuống dòng.\n",
    "    - Một cách để thực hiện điều đó là sử dụng `std::endl`. Khi được xuất ra với `std::cout`, `std::endl` sẽ in một ký tự xuống dòng (`\\n`) vào console (khiến con trỏ nhảy đến đầu dòng tiếp theo). Trong ngữ cảnh này, `endl` là viết tắt của \"end line\" (kết thúc dòng).\n",
    "- Ví dụ:\n",
    ">```\n",
    ">#include <iostream> // Bao gồm header iostream để sử dụng std::cout và std::endl\n",
    ">\n",
    ">int main()\n",
    ">{\n",
    ">    std::cout << \"Hi!\" << std::endl; // std::endl sẽ khiến con trỏ nhảy xuống dòng tiếp theo\n",
    ">    std::cout << \"My name is Alex.\" << std::endl;\n",
    ">\n",
    ">    return 0;\n",
    ">}\n",
    ">```\n",
    "\n",
    "    Chương trình này sẽ in ra:\n",
    "    >`Hi!`\\\n",
    "    >`My name is Alex.`\n",
    "\n",
    ">**Mẹo:**\n",
    ">Mẹo về `std::endl`:\n",
    ">\n",
    ">Trong chương trình trên, `std::endl` thứ hai về mặt kỹ thuật không cần thiết, vì chương trình kết thúc ngay sau đó. Tuy nhiên, nó có một vài mục đích hữu ích.\n",
    ">\n",
    ">Thứ nhất, nó giúp chỉ ra rằng dòng xuất ra là một \"hoàn chỉnh\" (chứ không phải là đầu ra một phần được hoàn thành ở đâu đó sau trong code). Theo nghĩa này, nó hoạt động tương tự như việc sử dụng dấu chấm trong tiếng Anh.\n",
    ">\n",
    ">Thứ hai, nó đặt con trỏ trên dòng tiếp theo, vì vậy nếu sau này chúng ta thêm các dòng xuất ra bổ sung (ví dụ: yêu cầu chương trình nói \"bye!\"), các dòng đó sẽ xuất hiện ở vị trí mong đợi (chứ không phải được nối vào dòng xuất ra trước đó).\n",
    ">\n",
    ">Thứ ba, sau khi chạy một file thực thi từ dòng lệnh, một số hệ điều hành không xuất ra dòng mới trước khi hiển thị lại dấu nhắc lệnh. Nếu chương trình của chúng ta không kết thúc với con trỏ trên một dòng mới, dấu nhắc lệnh có thể xuất hiện được nối vào dòng xuất ra trước đó, thay vì ở đầu dòng mới như người dùng mong đợi.\n",
    ">\n",
    "\n"
   ]
  },
  {
   "cell_type": "markdown",
   "id": "2708596a-b1d6-474b-aedd-e9ae8cc12104",
   "metadata": {},
   "source": [
    "### **`std::cout` được đệm (buffered)**"
   ]
  },
  {
   "cell_type": "markdown",
   "id": "463d15a8-d132-4f28-a513-bf3d0f263efe",
   "metadata": {},
   "source": [
    "Hãy tưởng tượng về một tàu lượn siêu tốc ở công viên giải trí yêu thích của bạn. Khách tham quan đến (với tốc độ thay đổi) và xếp hàng. Theo định kỳ, một toa tàu đến và chở khách (tối đa bằng sức chứa của toa tàu). Khi toa tàu đầy hoặc đủ thời gian đã trôi qua, toa tàu khởi hành với một nhóm hành khách và bắt đầu chuyến đi. Bất kỳ hành khách nào không thể lên toa tàu hiện tại sẽ đợi toa tàu tiếp theo.\n",
    "\n",
    "Cách thức hoạt động này tương tự như cách dữ liệu xuất ra được gửi đến `std::cout` thường được xử lý trong C++. Các câu lệnh trong chương trình của chúng ta yêu cầu gửi dữ liệu xuất ra cho console. Tuy nhiên, dữ liệu xuất ra đó thường không được gửi ngay lập tức tới console. Thay vào đó, dữ liệu xuất ra được yêu cầu sẽ \"xếp hàng\" và được lưu trữ trong một vùng nhớ được dành riêng để thu thập các yêu cầu như vậy (gọi là **bộ đệm** - **buffer**). Định kỳ, bộ đệm sẽ được \"xả\" (`flush`), nghĩa là tất cả dữ liệu được thu thập trong bộ đệm được chuyển đến đích của nó (trong trường hợp này là console).\n",
    "\n"
   ]
  },
  {
   "cell_type": "markdown",
   "id": "93a9f6c9-b368-4893-bc46-5eb79b55ade3",
   "metadata": {},
   "source": [
    "> **Chú thích của tác giả:**\\\n",
    "> Theo một phép ẩn dụ khác, việc xả bộ đệm giống như xả nước bồn cầu. Tất cả \"dữ liệu xuất ra\" được thu thập của bạn sẽ được chuyển đến bất cứ nơi nào nó sẽ đến tiếp theo. (Không hay cho lắm!)\n",
    "\n",
    "Điều này cũng có nghĩa là nếu chương trình của bạn bị lỗi, dừng đột ngột (abort) hoặc tạm dừng (ví dụ: để gỡ lỗi) trước khi bộ đệm được xả, bất kỳ dữ liệu xuất ra nào vẫn còn chờ trong bộ đệm sẽ không được hiển thị.\n",
    "\n"
   ]
  },
  {
   "cell_type": "markdown",
   "id": "01c050d6-69c2-4373-b5a0-6fc4f590fbe7",
   "metadata": {},
   "source": [
    "> **Lưu ý quan trọng:**\n",
    ">\n",
    ">Trái ngược với xuất ra được đệm là xuất ra không được đệm (unbuffered output). Với xuất ra không được đệm, mỗi yêu cầu xuất ra riêng lẻ sẽ được gửi trực tiếp đến thiết bị đầu ra.\n",
    ">\n",
    ">Viết dữ liệu vào bộ đệm thường nhanh, trong khi truyền một loạt dữ liệu đến thiết bị đầu ra thì tương đối chậm. Việc đệm có thể cải thiện hiệu suất đáng kể bằng cách giảm thiểu số lượng truyền chậm cần thực hiện khi có nhiều yêu cầu xuất ra."
   ]
  },
  {
   "cell_type": "markdown",
   "id": "e5e73dd3-1f0e-4c4d-9681-78666f15bf7d",
   "metadata": {},
   "source": [
    "### **`std::endl` vs ‘`\\n`’**\n",
    "\n"
   ]
  },
  {
   "cell_type": "markdown",
   "id": "9c9c4eb3-25ff-4e5d-8d47-d9a159f8accc",
   "metadata": {},
   "source": [
    "Trong C++, `std::endl` và '`\\n`' đều được sử dụng để in xuống dòng, nhưng chúng có sự khác biệt về mặt hiệu quả:\n",
    "- `std::endl`:\n",
    "    - Thực hiện hai tác vụ:\n",
    "        - Di chuyển con trỏ xuống dòng tiếp theo trên console.\n",
    "        - Xả (flush) bộ đệm của `std::cout`. Bộ đệm là một vùng nhớ tạm thời lưu trữ dữ liệu xuất ra trước khi gửi đến console.\n",
    "    - Xả bộ đệm có thể hơi kém hiệu quả vì nó liên quan đến việc ghi dữ liệu ra thiết bị đầu ra ngay cả khi chưa cần thiết.\n",
    "- '`\\n`'\n",
    "    - Chỉ thực hiện một tác vụ: di chuyển con trỏ xuống dòng tiếp theo.\n",
    "    - Không xả bộ đệm. Hệ thống sẽ tự động xả bộ đệm theo định kỳ, thường là một cách hiệu quả hơn.\n",
    "    - Thường được ưu tiên sử dụng hơn vì nó:\n",
    "        - Hiệu quả hơn: Tránh việc xả bộ đệm không cần thiết.\n",
    "        - Gọn nhẹ hơn: Dễ gõ hơn `std::endl`.\n",
    "        - Linh hoạt hơn: Có thể nhúng vào trong chuỗi ký tự.\n",
    "    - Ví dụ:\n",
    "    >```\n",
    "    >#include <iostream> // for std::cout\n",
    "    >\n",
    "    >int main()\n",
    "    >{\n",
    "    >    int x { 5 };\n",
    "    >    std::cout << \"x is equal to: \" << x << '\\n'; // Sử dụng '\\n' đơn lẻ\n",
    "    >    std::cout << \"And that's all, folks!\\n\"; // Nhúng '\\n' vào chuỗi ký tự (dùng dấu ngoặc kép đôi, không dùng đơn)\n",
    "    >    return 0;\n",
    "    >}\n",
    "    >```\n",
    "\n",
    "    - Kết quả:\n",
    "    >`x is equal to: 5`\\\n",
    "    >`And that's all, folks!`\n",
    "  - Lưu ý về cách sử dụng ký tự xuống dòng ('`\\n`')\n",
    "    - Khi sử dụng một mình để xuống dòng, '`\\n`' cần được đặt trong dấu ngoặc đơn.\n",
    "    - Khi nhúng vào chuỗi ký tự được bao bọc bởi dấu ngoặc kép đôi, không cần thêm dấu ngoặc đơn cho '`\\n`'."
   ]
  },
  {
   "cell_type": "markdown",
   "id": "011384d3-e812-4227-8399-c96f93aa259b",
   "metadata": {},
   "source": [
    ">**Thực hành tốt nhất:**\\\n",
    ">Sử dụng '`\\n`' thay vì `std::endl` khi in ra văn bản trên console để cải thiện hiệu suất.\n",
    "\n",
    ">**Cảnh báo:**\n",
    "> - '`\\n`' sử dụng dấu gạch chéo ngược (`\\`) để biểu thị ký tự đặc biệt (giống như tất cả các ký tự đặc biệt trong C++), không phải là dấu gạch chéo xuôi (`/`).\n",
    "> - Sử dụng dấu g/ạch chéo xuôi (`/n`) hoặc bao gồm các ký tự khác bên trong dấu ngoặc đơn (ví dụ: '` \\n`' hoặc '`.\\n') sẽ dẫn đến kết quả không mong đợi."
   ]
  },
  {
   "cell_type": "markdown",
   "id": "2cafd9e3-ffd3-42d7-b211-ac6dbee082f9",
   "metadata": {},
   "source": [
    "### `std::cin`"
   ]
  },
  {
   "cell_type": "markdown",
   "id": "4a98a5c7-b1d3-46c1-90ae-1871d63ad291",
   "metadata": {},
   "source": [
    "- `std::cin` là một biến được định sẵn khác trong thư viện `iostream`.\n",
    "- Trong khi `std::cout` in dữ liệu ra console sử dụng toán tử chèn (`<<`), thì `std::cin` (viết tắt của \"character input\" - nhập ký tự) đọc dữ liệu nhập từ bàn phím bằng toán tử trích xuất (`>>`).\n",
    "- Dữ liệu nhập phải được lưu trữ trong một biến để sử dụng.\n",
    "- Ví dụ:\n",
    ">```\n",
    ">#include <iostream>\n",
    ">\n",
    ">int main () {\n",
    ">\tint x;   // định nghĩa biến x để chứa đầu vào của người dùng (và khởi tạo giá trị cho nó)\n",
    ">\tstd::cout << \"Enter a number: \";\t// yêu cầu người dùng nhập số\n",
    ">\tstd::cin >> x;                      // lấy số từ bàn phím và lưu trữ trong biến x\n",
    ">\tstd::cout << \"You entered \" << x << '\\n';\n",
    ">\treturn 0;\n",
    ">}\n",
    ">```\n",
    "\n",
    "Hãy thử biên dịch và chạy chương trình này. Khi bạn chạy chương trình, dòng `5` sẽ in ra \"`Enter a number: `\". Khi mã đến dòng `8`, chương trình sẽ chờ bạn nhập dữ liệu. Sau khi bạn nhập một số (và nhấn `enter`), số bạn nhập sẽ được gán cho biến `x`. Cuối cùng, trên dòng `10`, chương trình sẽ in ra \"`You entered `\" theo sau là số bạn vừa nhập.\n",
    "\n",
    "Ví dụ (tôi nhập 4):\n",
    ">`Enter a number: 4`\\\n",
    ">`You entered 4`\n",
    " \n",
    "Đây là một cách đơn giản để lấy dữ liệu nhập từ bàn phím của người dùng và chúng ta sẽ sử dụng nó trong nhiều ví dụ sắp tới. Lưu ý rằng bạn không cần sử dụng '`\\n`' khi chấp nhận đầu vào, vì người dùng sẽ cần nhấn phím `enter` để đầu vào của họ được chấp nhận và điều này sẽ di chuyển con trỏ xuống dòng tiếp theo trên console.\n",
    "\n",
    "**Đọc nhiều số trên một dòng:**\n",
    "- Trong C++, bạn có thể sử dụng toán tử trích xuất (`>>`) để đọc nhiều giá trị được phân cách bởi khoảng trắng (thường là dấu cách hoặc tab) từ đầu vào tiêu chuẩn (`std::cin`) và lưu trữ chúng vào các biến khác nhau.\n",
    "- Dưới đây là một ví dụ được cải tiến kết hợp các phương pháp hay nhất:\n",
    "\n",
    ">```\n",
    ">#include <iostream>  // for std::cout and std::cin\n",
    ">\n",
    ">int main()\n",
    ">{\n",
    ">    std::cout << \"Enter two numbers seperated by a space: \";\n",
    ">\n",
    ">    int x, y;       // define variable x and y to hold user input\n",
    ">    std::cin >> x >> y; // get number from keyboard and store it in variable x\n",
    ">\n",
    ">    std::cout << \"You entered \" << x << \" and \" << y << '\\n';\n",
    ">    return 0;\n",
    ">}\n",
    ">```\n",
    "\n",
    "- Chương trình sẽ in ra:\n",
    ">`Enter two numbers seperated by a space:  5 6`\\\n",
    ">`You entered 5 and 6`\n",
    "\n",
    ">**Thực tiễn**\\\n",
    ">Mặc dù giá trị do người dùng cung cấp từ `std::cin` cuối cùng sẽ ghi đè lên giá trị khởi tạo, nhưng có một số lý do chính đáng để khởi tạo biến trước khi sử dụng chúng với `std::cin`:\n",
    "> - **Rõ ràng và minh bạch**: Khởi tạo làm cho code của bạn dễ đọc hơn và thể hiện rõ ràng về kiểu dữ liệu dự định và giá trị mặc định tiềm năng của biến. Nó làm rõ rằng biến không được sử dụng trong trạng thái chưa được khởi tạo, điều này có thể dẫn đến hành vi không mong đợi.\n",
    "> - **Xử lý lỗi**: Nếu `std::cin` gặp phải đầu vào không hợp lệ không thể chuyển đổi thành kiểu biến mong đợi (ví dụ: nhập chuỗi trong khi cần số nguyên), trạng thái của biến sẽ `become undefined` (trở nên không xác định). Tuy nhiên, nếu biến được khởi tạo trước, bạn có thể có một giá trị mặc định đã biết để làm việc, `potentially aiding in error handling` (có khả năng hỗ trợ trong việc xử lý lỗi).\n",
    "> - **Tính nhất quán**: Thực thi việc khởi tạo như một practice (thực hành) chung thúc đẩy phong cách code nhất quán và giảm thiểu rủi ro gây ra lỗi do vô tình sử dụng các biến chưa được khởi tạo ở các phần khác của code.\n",
    "\n",
    "\n",
    "\n",
    "\n",
    "\n"
   ]
  }
 ],
 "metadata": {
  "kernelspec": {
   "display_name": "Python 3 (ipykernel)",
   "language": "python",
   "name": "python3"
  },
  "language_info": {
   "codemirror_mode": {
    "name": "ipython",
    "version": 3
   },
   "file_extension": ".py",
   "mimetype": "text/x-python",
   "name": "python",
   "nbconvert_exporter": "python",
   "pygments_lexer": "ipython3",
   "version": "3.12.2"
  }
 },
 "nbformat": 4,
 "nbformat_minor": 5
}
