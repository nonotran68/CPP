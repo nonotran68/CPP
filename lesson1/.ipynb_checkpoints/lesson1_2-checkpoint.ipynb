{
 "cells": [
  {
   "cell_type": "markdown",
   "id": "01e586d8-85f3-41df-86e2-bf33c0cd90c1",
   "metadata": {},
   "source": [
    "## **Bài 1.2: <u>Chú thích</u>**"
   ]
  },
  {
   "cell_type": "markdown",
   "id": "358bcc0a-d914-4412-875e-69411b295e4a",
   "metadata": {},
   "source": [
    "- Chú thích là những dòng văn bản được thêm vào mã C++ để giúp con người hiểu rõ hơn về mã. Chúng bị trình biên dịch bỏ qua và không ảnh hưởng đến cách chương trình chạy.\n",
    "- Trong C++ có hai kiểu chú thích khác nhau, cả hai đều phục vụ cùng một mục đích: giúp các lập trình viên ghi lại mã theo một cách nào đó.\n",
    "    - **Chú thích một dòng**: Bắt đầu bằng `//` và kết thúc ở cuối dòng.\n",
    "    > <u>Ví dụ:</u>\n",
    "    > \n",
    "    > `std::cout << \"Hello world!\"; // Everything from here to the end of the line is ignored`\n",
    "    - **Chú thích nhiều dòng**: Bắt đầu bằng `/*` và kết thúc bằng `*/`.\n",
    "    > <u>Ví dụ:</u>\n",
    "    > \n",
    "    > `/* Đây là chú thích nhiều dòng`\\\n",
    "    > `Có thể bao gồm nhiều dòng */`\n",
    "- Chú thích có thể được sử dụng để:\n",
    "    - Giải thích mục đích của một đoạn mã.\n",
    "    - Ghi chú về cách thức hoạt động của một đoạn mã.\n",
    "    - Ghi chú về các thay đổi đã được thực hiện đối với mã.\n",
    "    - Ghi chú về các vấn đề tiềm ẩn với mã.\n",
    "- Dưới đây là một số mẹo để sử dụng chú thích hiệu quả:\n",
    "    - Viết chú thích rõ ràng và súc tích.\n",
    "    - Sử dụng chú thích để giải thích những phần mã phức tạp.\n",
    "    - Sử dụng chú thích để ghi chú về các thay đổi quan trọng đối với mã.\n",
    "    - Sử dụng chú thích để ghi chú về các vấn đề tiềm ẩn với mã.\n",
    "    - Tránh sử dụng chú thích để lặp lại thông tin hiển nhiên trong mã."
   ]
  },
  {
   "cell_type": "markdown",
   "id": "e1bfd231-f230-4875-a23b-e9a5a1799270",
   "metadata": {},
   "source": [
    "- Ví dụ về chú thích tốt:\n",
    "  - Giải thích mục đích của đoạn mã:\n",
    "  ```\n",
    "    // Hàm này tính diện tích của một hình vuông\n",
    "    int square_area(int side_length) {\n",
    "      return side_length * side_length;\n",
    "    }\n",
    "  ```\n",
    "  - Ghi chú về cách thức hoạt động của một đoạn mã:\n",
    "  ```\n",
    "    // Vòng lặp này in ra các số từ 1 đến 10\n",
    "    for (int i = 1; i <= 10; i++) {\n",
    "      std::cout << i << std::endl;\n",
    "    }\n",
    "\n",
    "  ```\n",
    "  - Ghi chú về các thay đổi đã được thực hiện đối với mã:\n",
    "  ```\n",
    "    // Đã sửa lỗi trong hàm `square_area`\n",
    "    // Hàm hiện hoạt động chính xác cho tất cả các giá trị đầu vào\n",
    "  ```\n",
    "  - Ghi chú về các vấn đề tiềm ẩn với mã:\n",
    "  ```\n",
    "    // Lưu ý: Hàm này có thể gây tràn bộ nhớ nếu `n` quá lớn\n",
    "    int factorial(int n) {\n",
    "      if (n == 0) {\n",
    "        return 1;\n",
    "      } else {\n",
    "        return n * factorial(n - 1);\n",
    "      }\n",
    "    }\n",
    "\n",
    "  ```\n",
    "- Chú thích tệ:\n",
    "    - Lặp lại thông tin hiển nhiên trong mã:\n",
    "    ```\n",
    "        // int i = 1; // Biến i được khởi tạo với giá trị 1\n",
    "\n",
    "    ```\n",
    "    - Chú thích không rõ ràng:\n",
    "    ```\n",
    "    // Hàm này thực hiện một số phép toán\n",
    "        int do_something(int a, int b) {\n",
    "          // ...\n",
    "        }\n",
    "    ```\n",
    "    - Chú thích không hữu ích:\n",
    "    ```\n",
    "        // Đây là một hàm\n",
    "        void my_function() {\n",
    "          // ...\n",
    "        }\n",
    "    ```\n",
    "- **Chú thích tốt giúp cho mã C++ của bạn dễ đọc và dễ hiểu hơn.**\n"
   ]
  }
 ],
 "metadata": {
  "kernelspec": {
   "display_name": "Python 3 (ipykernel)",
   "language": "python",
   "name": "python3"
  },
  "language_info": {
   "codemirror_mode": {
    "name": "ipython",
    "version": 3
   },
   "file_extension": ".py",
   "mimetype": "text/x-python",
   "name": "python",
   "nbconvert_exporter": "python",
   "pygments_lexer": "ipython3",
   "version": "3.12.2"
  }
 },
 "nbformat": 4,
 "nbformat_minor": 5
}
