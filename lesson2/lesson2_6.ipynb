{
 "cells": [
  {
   "cell_type": "markdown",
   "id": "8b4e5294-902e-4a5a-9686-c2f94e76eabe",
   "metadata": {},
   "source": [
    "## **Bài 2.6: <u>Tại sao hàm hữu ích và cách sử dụng chúng hiệu quả</u>**"
   ]
  },
  {
   "cell_type": "markdown",
   "id": "7e5caacc-e7dd-4bd1-9628-c38a94df85b6",
   "metadata": {},
   "source": [
    "Bây giờ, khi chúng ta đã tìm hiểu về hàm và một số khả năng cơ bản của chúng, hãy cùng xem xét kỹ hơn lý do tại sao chúng hữu ích."
   ]
  },
  {
   "cell_type": "markdown",
   "id": "eabe48bd-dbc8-4c5f-8e2f-22e6ae8641fb",
   "metadata": {},
   "source": [
    "### **Tại sao sử dụng hàm?**"
   ]
  },
  {
   "cell_type": "markdown",
   "id": "4b9a8ca9-f683-4e25-bd60-916c9f65df05",
   "metadata": {},
   "source": [
    "Lập trình viên mới thường hỏi, \"Chẳng phải chúng ta chỉ cần đặt tất cả mã bên trong hàm `main` sao?\" Đối với các chương trình đơn giản, bạn hoàn toàn có thể làm được điều đó. Tuy nhiên, hàm cung cấp một số lợi ích khiến chúng cực kỳ hữu ích trong các chương trình có độ dài hoặc phức tạp không tầm thường."
   ]
  },
  {
   "cell_type": "markdown",
   "id": "41fd5d5c-83b3-46d0-af3a-f032ee38721a",
   "metadata": {},
   "source": [
    "**1**. **Tổ chức** - Khi chương trình ngày càng phức tạp, việc chứa tất cả mã bên trong hàm `main` sẽ trở nên phức tạp hơn. Hàm gần giống như một chương trình nhỏ mà chúng ta có thể viết riêng biệt với chương trình chính, mà không cần phải nghĩ đến phần còn lại của chương trình trong khi viết. Điều này cho phép chúng ta phân tách một chương trình phức tạp thành các phần nhỏ hơn, dễ quản lý hơn, giúp giảm thiểu tổng thể tính phức tạp của chương trình."
   ]
  },
  {
   "cell_type": "markdown",
   "id": "f284dd76-d2c7-485c-a3c5-769a8107779a",
   "metadata": {},
   "source": [
    "**2**. **Tái sử dụng** - Sau khi một hàm được viết, nó có thể được gọi nhiều lần từ bên trong chương trình. Điều này tránh được việc sao chép mã (**\"Đừng lặp lại chính mình\"**) và giảm thiểu khả năng xảy ra lỗi sao chép/dán. Hàm cũng có thể được chia sẻ với các chương trình khác, giúp giảm lượng mã phải viết từ đầu (và kiểm tra lại) mỗi lần."
   ]
  },
  {
   "cell_type": "markdown",
   "id": "62db7912-d374-43a4-96e7-5ff010fd4d56",
   "metadata": {},
   "source": [
    "**3**. **Kiểm thử** - Do hàm giảm thiểu sự trùng lặp mã, nên ngay từ đầu sẽ có ít mã hơn để kiểm thử. Ngoài ra, vì các hàm là các đơn vị độc lập, nên một khi chúng ta đã kiểm thử một hàm để đảm bảo nó hoạt động, chúng ta không cần phải kiểm thử lại trừ khi chúng ta thay đổi nó. Điều này làm giảm lượng mã chúng ta phải kiểm thử cùng một lúc, giúp việc tìm lỗi (hoặc tránh lỗi ngay từ đầu) dễ dàng hơn nhiều.\n",
    "\n"
   ]
  },
  {
   "cell_type": "markdown",
   "id": "6e7b7572-3188-426d-a8b6-ca26cadcca50",
   "metadata": {},
   "source": [
    "**4**. **Mở rộng** - Khi chúng ta cần mở rộng chương trình để xử lý một trường hợp mà trước đây nó không xử lý được, hàm cho phép chúng ta thực hiện thay đổi ở một vị trí và thay đổi đó sẽ có hiệu lực mỗi lần hàm được gọi."
   ]
  },
  {
   "cell_type": "markdown",
   "id": "ca7eb225-0b1d-48ef-a2a3-54606da06392",
   "metadata": {},
   "source": [
    "**5**. **Trừu tượng** - Để sử dụng một hàm, bạn chỉ cần biết tên, đầu vào, đầu ra và vị trí của nó. Bạn không cần biết cách hoạt động của nó hoặc mã khác mà nó phụ thuộc để sử dụng nó. Điều này làm giảm lượng kiến thức cần thiết để sử dụng mã của người khác (bao gồm mọi thứ trong thư viện chuẩn)."
   ]
  },
  {
   "cell_type": "markdown",
   "id": "ea4605e6-285a-47d2-8b88-6b4cf7313ee8",
   "metadata": {},
   "source": [
    "### **Sử dụng hàm hiệu quả**"
   ]
  },
  {
   "cell_type": "markdown",
   "id": "56beaade-07f5-44f3-9634-1aae5227a119",
   "metadata": {},
   "source": [
    "Một trong những thách thức lớn nhất mà lập trình viên mới gặp phải (bên cạnh việc học ngôn ngữ) là hiểu khi nào và làm thế nào để sử dụng hàm một cách hiệu quả. Dưới đây là một vài hướng dẫn cơ bản để viết hàm:"
   ]
  },
  {
   "cell_type": "markdown",
   "id": "a0cf2f4d-700b-4790-972e-8c0efcdf5ad7",
   "metadata": {},
   "source": [
    "- Nhóm các câu lệnh xuất hiện nhiều lần trong chương trình thường nên được chuyển thành một hàm. Ví dụ, nếu chúng ta đang đọc dữ liệu nhập từ người dùng nhiều lần theo cùng một cách, đó là một ứng dụng tuyệt vời cho hàm. Nếu chúng ta xuất ra thứ gì đó theo cùng một cách ở nhiều vị trí khác nhau, thì đó cũng là một ứng dụng tuyệt vời cho hàm."
   ]
  },
  {
   "cell_type": "markdown",
   "id": "39888e28-1427-4b36-842d-862942444680",
   "metadata": {},
   "source": [
    "- Mã có một tập hợp đầu vào và đầu ra được xác định rõ ràng là một ứng cử viên cho hàm (đặc biệt nếu nó phức tạp). Ví dụ, nếu chúng ta có một danh sách các mục mà chúng ta muốn sắp xếp, thì mã để thực hiện việc sắp xếp sẽ tạo ra một hàm tuyệt vời, ngay cả khi nó chỉ được thực hiện một lần. Đầu vào là danh sách chưa được sắp xếp và đầu ra là danh sách đã được sắp xếp. Một hàm tiềm năng tốt khác là mã mô phỏng việc lăn một con xúc xắc 6 mặt. Chương trình hiện tại của bạn chỉ có thể sử dụng nó ở một vị trí, nhưng nếu bạn biến nó thành một hàm, nó đã sẵn sàng để được tái sử dụng nếu sau này bạn mở rộng chương trình hoặc trong một chương trình tương lai."
   ]
  },
  {
   "cell_type": "markdown",
   "id": "d3e3c6e5-7008-4a92-9e40-4bb235429ef7",
   "metadata": {},
   "source": [
    "- Một hàm thường nên thực hiện một (và chỉ một) tác vụ."
   ]
  },
  {
   "cell_type": "markdown",
   "id": "2fd9e2bb-beff-473d-ad87-584302cae525",
   "metadata": {},
   "source": [
    "- Khi một hàm trở nên quá dài, quá phức tạp hoặc khó hiểu, nó có thể được chia thành nhiều hàm phụ. Đây được gọi là **refactoring (tái cấu trúc)**. Chúng tôi sẽ thảo luận thêm về tái cấu trúc trong **bài học 3.10 - Tìm ra vấn đề trước khi chúng trở thành rắc rối.**\n"
   ]
  },
  {
   "cell_type": "markdown",
   "id": "29e00c24-9a36-47aa-a370-b1d637222fac",
   "metadata": {},
   "source": [
    "Thông thường, khi học C++, bạn sẽ viết nhiều chương trình liên quan đến 3 nhiệm vụ phụ:\n",
    "\n",
    "- Đọc dữ liệu nhập từ người dùng\n",
    "- Tính toán một giá trị từ các đầu vào\n",
    "- In ra giá trị đã tính toán\n",
    "\n",
    "Đối với các chương trình đơn giản (ví dụ: ít hơn 20 dòng code), một số hoặc tất cả các nhiệm vụ này có thể được thực hiện trong hàm main. Tuy nhiên, đối với các chương trình dài hơn (hoặc chỉ để thực hành), mỗi nhiệm vụ này đều là một ứng dụng tuyệt vời cho một hàm riêng lẻ."
   ]
  },
  {
   "cell_type": "markdown",
   "id": "c6d5080d-dcf7-4076-9ac7-609f43dfec60",
   "metadata": {},
   "source": [
    "### **Sai lầm của lập trình viên mới**"
   ]
  },
  {
   "cell_type": "markdown",
   "id": "995a1fbb-3178-4018-9833-4eae374e5f4d",
   "metadata": {},
   "source": [
    "Lập trình viên mới thường kết hợp việc tính toán giá trị và in ra giá trị đã tính toán thành một hàm duy nhất. Tuy nhiên, điều này vi phạm quy tắc “chỉ một nhiệm vụ” cho các hàm. Một hàm tính toán giá trị nên trả về giá trị đó cho hàm gọi và để hàm gọi quyết định làm gì với giá trị đã tính toán (chẳng hạn như gọi một hàm khác để in ra giá trị)."
   ]
  }
 ],
 "metadata": {
  "kernelspec": {
   "display_name": "Python 3 (ipykernel)",
   "language": "python",
   "name": "python3"
  },
  "language_info": {
   "codemirror_mode": {
    "name": "ipython",
    "version": 3
   },
   "file_extension": ".py",
   "mimetype": "text/x-python",
   "name": "python",
   "nbconvert_exporter": "python",
   "pygments_lexer": "ipython3",
   "version": "3.12.2"
  }
 },
 "nbformat": 4,
 "nbformat_minor": 5
}
