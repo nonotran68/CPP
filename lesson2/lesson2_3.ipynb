{
 "cells": [
  {
   "cell_type": "markdown",
   "id": "49e7b982-3a5c-4536-9f81-c6fe663d847e",
   "metadata": {},
   "source": [
    "## **Bài 2.3: <u>Hàm `void` (Hàm Không Trả Giá Trị)</u>**"
   ]
  },
  {
   "cell_type": "markdown",
   "id": "b80a00d0-2100-44ed-ac90-34420044369f",
   "metadata": {},
   "source": [
    "Trong bài học trước **(2.1 - Giới thiệu về Hàm)**, chúng ta đã thấy cú pháp cho định nghĩa một hàm trông như thế này:\n",
    "\n",
    ">```\n",
    ">returnType tên_hàm() // tên_hàm được thay thế bằng tên hàm của bạn\n",
    ">{\n",
    ">  // Code của bạn ở đây\n",
    ">}\n",
    ">```\n",
    "\n",
    "Mặc dù chúng tôi đã trình bày các ví dụ về hàm có kiểu trả về `void`, nhưng chúng tôi không thảo luận về ý nghĩa của nó. Trong bài học này, chúng ta sẽ khám phá các hàm có kiểu trả về `void`."
   ]
  },
  {
   "cell_type": "markdown",
   "id": "4cb581d3-10aa-4571-b747-c038cbaa1736",
   "metadata": {},
   "source": [
    "### **Giá trị trả về `void`**"
   ]
  },
  {
   "cell_type": "markdown",
   "id": "ed8d11ed-d92a-449b-b7d6-9968b6162e01",
   "metadata": {},
   "source": [
    "Hàm không nhất thiết phải trả về giá trị cho chương trình gọi nó. Để thông báo cho trình biên dịch rằng một hàm không trả về giá trị, kiểu trả về `void` được sử dụng. Ví dụ:\n",
    "\n",
    ">```\n",
    ">#include <iostream>\n",
    ">\n",
    ">// void nghĩa là hàm không trả về giá trị cho hàm gọi\n",
    ">void printHi()\n",
    ">{\n",
    ">  std::cout << \"Hi\" << '\\n';\n",
    ">\n",
    ">  // Hàm này không trả về giá trị nên không cần câu lệnh return\n",
    ">}\n",
    ">\n",
    ">int main()\n",
    ">{\n",
    ">  printHi(); // ổn: hàm printHi() được gọi, không có giá trị được trả về\n",
    ">\n",
    ">  return 0;\n",
    ">}\n",
    ">```"
   ]
  },
  {
   "cell_type": "markdown",
   "id": "f38a37ab-b6bc-45b2-96db-2d36c4616263",
   "metadata": {},
   "source": [
    "Trong ví dụ trên, hàm `printHi` có một hành vi có nghĩa (nó in ra `“Hi”`) nhưng nó không cần trả về bất cứ thứ gì cho chương trình gọi. Do đó, `printHi` được đặt kiểu trả về là `void`.\n",
    "\n",
    "Khi `main` gọi `printHi`, mã trong `printHi` được thực thi và “Hi” được in ra. Khi kết thúc `printHi`, quyền điều khiển trở lại `main` và chương trình tiếp tục.\n",
    "\n",
    "Một hàm không trả về giá trị được gọi là hàm không trả giá trị (hoặc hàm `void`)."
   ]
  },
  {
   "cell_type": "markdown",
   "id": "45f9d914-032d-4626-a8a5-28a140eb5f44",
   "metadata": {},
   "source": [
    "### **Hàm `void` không cần câu lệnh `return`**"
   ]
  },
  {
   "cell_type": "markdown",
   "id": "1999cf80-4d17-495d-b9d6-f656a940b44c",
   "metadata": {},
   "source": [
    "Một hàm `void` sẽ tự động nhảy về hàm gọi ở cuối hàm. Không cần câu lệnh `return`.\n",
    "\n",
    "Câu lệnh `return` (với không có giá trị trả về nào, hay `return` trống) có thể được sử dụng trong một hàm `void` - một câu lệnh như vậy sẽ khiến hàm nhảy về hàm gọi tại điểm mà câu lệnh `return` được thực thi. Điều này cũng giống như những gì xảy ra ở cuối hàm. Do đó, việc đặt một câu lệnh `return` trống ở cuối hàm `void` là thừa:\n",
    "\n",
    ">```\n",
    ">#include <iostream>\n",
    ">\n",
    ">// void nghĩa là hàm không trả về giá trị cho chương trình gọi\n",
    ">void printHi()\n",
    ">{\n",
    ">  std::cout << \"Hi\" << '\\n';\n",
    ">\n",
    ">  return; // yêu cầu trình biên dịch trả về cho hàm gọi - điều này thừa vì lệnh return; sẽ luôn xảy ra ở cuối hàm!\n",
    ">} // hàm sẽ trả về cho chương trình gọi tại đây\n",
    ">\n",
    ">int main()\n",
    ">{\n",
    ">  printHi();\n",
    ">\n",
    ">  return 0;\n",
    ">}\n",
    ">```\n",
    "\n",
    ">**Thực hành tốt nhất**<br>\n",
    ">Không đặt câu lệnh `return` ở cuối hàm `void`."
   ]
  },
  {
   "cell_type": "markdown",
   "id": "1390ba34-af38-44fd-9551-41e8e229ab77",
   "metadata": {},
   "source": [
    "### **Hàm `void` không thể sử dụng trong biểu thức yêu cầu giá trị**"
   ]
  },
  {
   "cell_type": "markdown",
   "id": "6170586a-c4bf-4f64-9754-c0316dca4b2b",
   "metadata": {},
   "source": [
    "Một số loại biểu thức yêu cầu giá trị. Ví dụ:\n",
    "\n",
    ">```\n",
    ">#include <iostream>\n",
    ">\n",
    ">int main()\n",
    ">{\n",
    ">    std::cout << 5; // ok: 5 is a literal value that we're sending to the console to be printed\n",
    ">    std::cout << ;  // compile error: no value provided\n",
    ">\n",
    ">    return 0;\n",
    ">}\n",
    ">```\n",
    "\n",
    "Trong chương trình trên, giá trị cần in phải được cung cấp ở phía bên phải của `std::cout <<`. Nếu không cung cấp giá trị, trình biên dịch sẽ tạo ra lỗi cú pháp. Vì lần gọi thứ hai đến `std::cout` không cung cấp giá trị để in ra, điều này gây ra lỗi."
   ]
  },
  {
   "cell_type": "markdown",
   "id": "9996f464-09d1-4a00-8132-1f5c86854a46",
   "metadata": {},
   "source": [
    "Bây giờ hãy xem xét chương trình sau:\n",
    "\n",
    ">```\n",
    ">#include <iostream>\n",
    ">\n",
    ">// void nghĩa là hàm không trả về giá trị cho chương trình gọi\n",
    ">void printHi()\n",
    ">{\n",
    ">  std::cout << \"Hi\" << '\\n';\n",
    ">}\n",
    ">\n",
    ">int main()\n",
    ">{\n",
    ">  printHi(); // ổn: hàm printHi() được gọi, không có giá trị được trả về\n",
    ">\n",
    ">  std::cout << printHi(); // lỗi biên dịch\n",
    ">\n",
    ">  return 0;\n",
    ">}\n",
    ">```\n",
    "\n",
    "Lần gọi đầu tiên đến `printHi()` được gọi trong một bối cảnh không yêu cầu giá trị. Vì hàm không trả về giá trị nên điều này là ổn.\n",
    "\n",
    "Lần gọi hàm thứ hai đến hàm `printHi()` thậm chí sẽ không được biên dịch. Hàm `printHi` có kiểu trả về là `void`, nghĩa là nó không trả về giá trị. Tuy nhiên, câu lệnh này đang cố gắng gửi giá trị trả về của `printHi` đến `std::cout` để in ra. `std::cout` không biết cách xử lý điều này (nó sẽ xuất ra giá trị gì?). Do đó, trình biên dịch sẽ đánh dấu đây là lỗi. Bạn cần phải chú thích dòng code này để chương trình có thể biên dịch."
   ]
  },
  {
   "cell_type": "markdown",
   "id": "a205c3ed-c32f-4c81-ba9d-6f6b23323115",
   "metadata": {},
   "source": [
    ">**Mẹo**<br>\n",
    ">Một số câu lệnh yêu cầu cung cấp giá trị, một số khác thì không.\n",
    ">\n",
    ">Khi chúng ta có một câu lệnh chỉ bao gồm một lời gọi hàm (ví dụ như `printHi()` đầu tiên trong ví dụ trên), chúng ta đang gọi một hàm vì hành vi của nó, chứ không phải giá trị trả về của nó. Trong trường hợp này, chúng ta có thể gọi một hàm không trả về giá trị hoặc có thể gọi một hàm trả về giá trị và bỏ qua giá trị trả về đó.\n",
    ">\n",
    ">Khi chúng ta gọi một hàm trong bối cảnh yêu cầu giá trị (ví dụ như `std::cout`), thì phải cung cấp một giá trị. Trong ngữ cảnh như vậy, chúng ta chỉ có thể gọi các hàm trả về giá trị.\n",
    ">\n",
    ">>```\n",
    ">>#include <iostream>\n",
    ">>\n",
    ">>// Hàm không trả về giá trị\n",
    ">>void returnNothing()\n",
    ">>{\n",
    ">>}\n",
    ">>\n",
    ">>// Hàm trả về một giá trị\n",
    ">>int returnFive()\n",
    ">>{\n",
    ">>    return 5;\n",
    ">>}\n",
    ">>\n",
    ">>int main()\n",
    ">>{\n",
    ">>    // Khi gọi một hàm riêng lẻ, không yêu cầu giá trị\n",
    ">>    returnNothing(); // ok: chúng ta có thể gọi một hàm không trả về giá trị\n",
    ">>    returnFive();    // ok: chúng ta có thể gọi một hàm trả về giá trị và bỏ qua giá trị trả về đó\n",
    ">>\n",
    ">>    // Khi gọi một hàm trong bối cảnh yêu cầu giá trị (như std::cout)\n",
    ">>    std::cout << returnFive();    // ok: chúng ta có thể gọi một hàm trả về giá trị và giá trị đó sẽ được sử dụng\n",
    ">>    std::cout << returnNothing(); // lỗi biên dịch: chúng ta không thể gọi một hàm trả về void trong ngữ cảnh này\n",
    ">>\n",
    ">>    return 0;\n",
    ">>}\n",
    ">>```"
   ]
  },
  {
   "cell_type": "markdown",
   "id": "18a8edcb-de92-41f7-93e8-92c621a2dd42",
   "metadata": {},
   "source": [
    "### **Trả về giá trị từ hàm void gây ra lỗi biên dịch**"
   ]
  },
  {
   "cell_type": "markdown",
   "id": "04b450ba-dd27-40d5-93df-efb0d0f0b379",
   "metadata": {},
   "source": [
    "Việc cố gắng trả về giá trị từ một hàm không trả về giá trị sẽ dẫn đến lỗi biên dịch:\n",
    "\n",
    ">```\n",
    ">void printHi() // Hàm này không trả về giá trị\n",
    ">{\n",
    ">    std::cout << \"In printHi()\" << '\\n';\n",
    ">\n",
    ">    return 5; // lỗi biên dịch: chúng ta đang cố gắng trả về giá trị\n",
    ">}\n",
    ">```"
   ]
  }
 ],
 "metadata": {
  "kernelspec": {
   "display_name": "Python 3 (ipykernel)",
   "language": "python",
   "name": "python3"
  },
  "language_info": {
   "codemirror_mode": {
    "name": "ipython",
    "version": 3
   },
   "file_extension": ".py",
   "mimetype": "text/x-python",
   "name": "python",
   "nbconvert_exporter": "python",
   "pygments_lexer": "ipython3",
   "version": "3.12.2"
  }
 },
 "nbformat": 4,
 "nbformat_minor": 5
}
