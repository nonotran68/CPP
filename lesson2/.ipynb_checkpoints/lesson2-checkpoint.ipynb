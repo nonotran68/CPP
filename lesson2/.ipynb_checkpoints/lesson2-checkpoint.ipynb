{
 "cells": [
  {
   "cell_type": "markdown",
   "id": "a8e97dfe-55ee-4fb5-8109-8867dfa74b42",
   "metadata": {
    "jp-MarkdownHeadingCollapsed": true
   },
   "source": [
    "## **Bài 2.1: <u>Giới thiệu về hàm</u>**"
   ]
  },
  {
   "cell_type": "markdown",
   "id": "252b9ebd-aee7-4303-9b25-2cc53903bf3b",
   "metadata": {},
   "source": [
    "Trong chương trước, chúng ta đã định nghĩa hàm là một tập hợp các câu lệnh được thực thi tuần tự. Mặc dù điều đó hoàn toàn đúng, nhưng định nghĩa đó không cung cấp nhiều thông tin chi tiết về lý do tại sao hàm lại hữu ích. Hãy cập nhật định nghĩa của chúng ta: **Hàm** là một chuỗi các câu lệnh có thể tái sử dụng được thiết kế để thực hiện một công việc cụ thể."
   ]
  },
  {
   "cell_type": "markdown",
   "id": "4ae355fc-df73-4c64-86c2-73588f301cb4",
   "metadata": {},
   "source": [
    "Bạn đã biết rằng mọi chương trình thực thi đều phải có một hàm được đặt tên là `main` (chính là nơi chương trình bắt đầu thực thi khi được chạy). Tuy nhiên, khi chương trình bắt đầu trở nên dài hơn, việc đặt tất cả code bên trong hàm main sẽ ngày càng khó quản lý. Hàm cung cấp một cách để chúng ta chia nhỏ chương trình thành các khối nhỏ, mô-đun dễ dàng tổ chức, kiểm tra và sử dụng hơn. Hầu hết các chương trình sử dụng nhiều hàm. Thư viện chuẩn C++ đi kèm với rất nhiều hàm đã được viết sẵn để bạn sử dụng - tuy nhiên, việc viết hàm của riêng bạn cũng rất phổ biến. Các hàm do bạn tự viết được gọi là **hàm do người dùng định nghĩa (user-defined functions).**"
   ]
  },
  {
   "cell_type": "markdown",
   "id": "136a30a0-4647-42d0-aab4-9a368ee5d11d",
   "metadata": {},
   "source": [
    "Hãy xem xét một trường hợp có thể xảy ra trong thực tế: bạn đang đọc sách, thì bạn nhớ ra mình cần gọi điện thoại. Bạn đánh dấu trang sách, thực hiện cuộc gọi điện thoại và khi kết thúc cuộc gọi, bạn quay lại vị trí đã đánh dấu và tiếp tục đọc sách chính xác từ nơi bạn dừng lại."
   ]
  },
  {
   "cell_type": "markdown",
   "id": "840b5a23-c9b0-4d59-a217-20de63557753",
   "metadata": {},
   "source": [
    "Các chương trình C++ cũng có thể hoạt động theo cách tương tự. Một chương trình sẽ thực thi các câu lệnh tuần tự bên trong một hàm khi nó gặp một lời gọi hàm. **Lời gọi hàm** là một biểu thức yêu cầu CPU tạm dừng hàm hiện tại và thực thi một hàm khác. CPU “đánh dấu” tại điểm thực thi hiện tại, sau đó gọi (thực thi) hàm được đặt tên trong lời gọi hàm. Khi hàm được gọi kết thúc, CPU quay trở lại điểm đã đánh dấu và tiếp tục thực thi.\n",
    "\n",
    "**Hàm khởi tạo lời gọi hàm được gọi là hàm gọi (caller), còn hàm được gọi bởi caller được gọi là callee (hay hàm được gọi).**"
   ]
  },
  {
   "cell_type": "markdown",
   "id": "1ae72200-b6d1-4bbc-8ec9-aeab66dc19a2",
   "metadata": {},
   "source": [
    "### **Hàm do người dùng định nghĩa** "
   ]
  },
  {
   "cell_type": "markdown",
   "id": "ae666f9c-f2d6-41a8-9114-f1ad4298688d",
   "metadata": {},
   "source": [
    "Trước tiên, hãy bắt đầu với cú pháp cơ bản nhất để định nghĩa một hàm do người dùng định nghĩa. Trong vài bài học tiếp theo, tất cả các hàm do người dùng định nghĩa sẽ có dạng sau:\n",
    "\n",
    ">```\n",
    ">returnType functionName() // Đây là tiêu đề hàm (thông báo cho trình biên dịch về sự tồn tại của hàm)\n",
    ">{\n",
    ">    // Đây là thân hàm (thông báo cho trình biên dịch hàm này làm gì)\n",
    ">}\n",
    ">```\n",
    "\n",
    "Dòng đầu tiên được gọi không chính thức là **tiêu đề hàm (function header)**, nó thông báo cho trình biên dịch về sự tồn tại của một hàm, tên của hàm và một số thông tin khác mà chúng ta sẽ đề cập trong các bài học tiếp theo (như kiểu trả về và kiểu tham số).\n",
    "\n",
    "Trong bài học này, chúng ta sẽ sử dụng **kiểu trả về (`returnType`)** là `int` (cho hàm `main()`) hoặc `void` (nếu không cần kiểu). Hiện tại, đừng lo lắng về chúng, vì chúng ta sẽ nói thêm về kiểu trả về và giá trị trả về trong bài học tiếp theo **(2.2 - Giá trị trả về của hàm (hàm trả về giá trị)).**\n",
    "\n",
    "Giống như biến có tên, các hàm do người dùng định nghĩa cũng có tên. **Tên hàm (functionName)** là tên (định danh) của hàm do người dùng định nghĩa của bạn.\n",
    "\n",
    "Dấu ngoặc đơn sau định danh cho biết với trình biên dịch rằng chúng ta đang định nghĩa một hàm.\n",
    "\n",
    "Các dấu ngoặc nhọn và các câu lệnh bên trong được gọi là **thân hàm (function body).** Đây là nơi chứa các câu lệnh xác định chức năng của hàm của bạn.\n",
    "\n",
    "Dưới đây là một chương trình mẫu cho thấy cách định nghĩa và gọi một hàm mới:\n",
    "\n",
    ">```\n",
    ">#include <iostream> // for std::cout\n",
    ">\n",
    ">// Định nghĩa hàm do người dùng định nghĩa doPrint()\n",
    ">void doPrint() // doPrint() là hàm được gọi trong ví dụ này\n",
    ">{\n",
    ">    std::cout << \"In doPrint()\\n\";\n",
    ">}\n",
    ">\n",
    ">// Định nghĩa hàm main()\n",
    ">int main()\n",
    ">{\n",
    ">    std::cout << \"Starting main()\\n\";\n",
    ">    doPrint(); // Tạm dừng main() bằng cách thực hiện một lời gọi hàm đến doPrint(). main() là hàm gọi.\n",
    ">    std::cout << \"Ending main()\\n\"; // câu lệnh này được thực thi sau khi doPrint() kết thúc\n",
    ">\n",
    ">    return 0;\n",
    ">}\n",
    ">```\n"
   ]
  },
  {
   "cell_type": "markdown",
   "id": "512904b6-b4bc-4beb-9ccc-8ec0a1ab2720",
   "metadata": {},
   "source": [
    "Chương trình này tạo ra đầu ra sau:\n",
    ">```\n",
    ">Starting main()\n",
    ">In doPrint()\n",
    ">Ending main()\n",
    ">```\n",
    "\n",
    "Chương trình này bắt đầu thực thi ở đầu hàm `main`, và dòng đầu tiên được thực thi sẽ in ra `Starting main()`.\n",
    "\n",
    "Dòng thứ hai trong `main` là một lời gọi hàm đến hàm `doPrint`. Chúng ta gọi hàm `doPrint` bằng cách thêm một cặp dấu ngoặc đơn vào tên hàm như thế này: `doPrint()`.<br>\n",
    "Lưu ý rằng nếu bạn quên dấu ngoặc đơn, chương trình của bạn có thể không biên dịch được (và nếu có, thì hàm sẽ không được gọi)."
   ]
  },
  {
   "cell_type": "markdown",
   "id": "ac25959d-6c4d-44ed-b74a-3e7d2d57c1ce",
   "metadata": {},
   "source": [
    ">**Cảnh báo** <br>\n",
    ">Đừng quên thêm dấu ngoặc đơn `()` sau tên hàm khi thực hiện lời gọi hàm.\n",
    "\n",
    "Vì một lời gọi hàm đã được thực hiện, việc thực thi các câu lệnh trong `main` bị tạm dừng và thực thi nhảy đến đầu của hàm được gọi `doPrint`. Dòng đầu tiên (và duy nhất) trong `doPrint` in ra `In doPrint()`. Khi `doPrint` kết thúc, việc thực thi quay trở lại hàm gọi (ở đây: hàm `main`) và tiếp tục từ điểm dừng lại. Do đó, câu lệnh tiếp theo được thực thi trong `main` in ra `Ending main()`."
   ]
  },
  {
   "cell_type": "markdown",
   "id": "d94b4fa4-fdd8-46c1-958f-c7462f8a0690",
   "metadata": {},
   "source": [
    "### **Gọi hàm nhiều lần**"
   ]
  },
  {
   "cell_type": "markdown",
   "id": "4e4b7ab1-4fb7-4247-8e5c-bd693c13a463",
   "metadata": {},
   "source": [
    "Một điều hữu ích về hàm là chúng có thể được gọi nhiều lần. Đây là một chương trình minh họa điều này:\n",
    "\n",
    ">```\n",
    ">#include <iostream> // for std::cout\n",
    ">\n",
    ">void doPrint()\n",
    ">{\n",
    ">    std::cout << \"In doPrint()\\n\";\n",
    ">}\n",
    ">\n",
    ">// Định nghĩa hàm main()\n",
    ">int main()\n",
    ">{\n",
    ">    std::cout << \"Starting main()\\n\";\n",
    ">    doPrint(); // doPrint() được gọi lần đầu tiên\n",
    ">    doPrint(); // doPrint() được gọi lần thứ hai\n",
    ">    std::cout << \"Ending main()\\n\";\n",
    ">\n",
    ">    return 0;\n",
    ">}\n",
    ">```\n",
    "\n",
    "Chương trình này tạo ra đầu ra sau:\n",
    ">```\n",
    ">Starting main()\n",
    ">In doPrint()\n",
    ">In doPrint()\n",
    ">Ending main()\n",
    ">```\n",
    "\n",
    "Vì `doPrint` được gọi hai lần bởi `main`, `doPrint` thực thi hai lần và `In doPrint()` được in ra hai lần (một lần cho mỗi lời gọi)."
   ]
  },
  {
   "cell_type": "markdown",
   "id": "0006dbe5-1574-4e9f-af9c-899fec0f974b",
   "metadata": {},
   "source": [
    "### **Hàm có thể gọi hàm khác, hàm khác lại gọi hàm khác**"
   ]
  },
  {
   "cell_type": "markdown",
   "id": "835f14e8-b013-4a5e-b226-13178bbc911d",
   "metadata": {},
   "source": [
    "Bạn đã thấy rằng hàm `main` có thể gọi một hàm khác (chẳng hạn như hàm `doPrint` trong ví dụ ở trên). Bất kỳ hàm nào cũng có thể gọi bất kỳ hàm nào khác. Trong chương trình sau, hàm `main` gọi hàm `doA`, hàm `doA` lại gọi hàm `doB`:\n",
    "\n",
    ">```\n",
    ">#include <iostream> // for std::cout\n",
    ">\n",
    ">void doB()\n",
    ">{\n",
    ">    std::cout << \"In doB()\\n\";\n",
    ">}\n",
    ">\n",
    ">\n",
    ">void doA()\n",
    ">{\n",
    ">    std::cout << \"Starting doA()\\n\";\n",
    ">\n",
    ">    doB();\n",
    ">\n",
    ">.    std::cout << \"Ending doA()\\n\";\n",
    ">}\n",
    ">\n",
    ">// Định nghĩa hàm main()\n",
    ">int main()\n",
    ">{\n",
    ">    std::cout << \"Starting main()\\n\";\n",
    ">\n",
    ">    doA();\n",
    ">\n",
    ">    std::cout << \"Ending main()\\n\";\n",
    ">\n",
    ">    return 0;\n",
    ">}\n",
    ">```\n",
    "\n",
    "Chương trình này tạo ra đầu ra sau:\n",
    ">```\n",
    ">Starting main()\n",
    ">Starting doA()\n",
    ">In doB()\n",
    ">Ending doA()\n",
    ">Ending main()\n",
    ">```\n",
    "\n",
    "**Giải thích:**\n",
    "\n",
    "- Chương trình bắt đầu thực thi tại hàm `main`.\n",
    "- Dòng đầu tiên trong main in ra `\"Starting main()\"`.\n",
    "- Tiếp theo, `main` gọi hàm `doA` bằng cách sử dụng `doA()`.\n",
    "- Khi `doA` được gọi, nó in ra `\"Starting doA()\"`.\n",
    "- Bên trong `doA`, nó lại gọi hàm `doB` bằng cách sử dụng `doB()`.\n",
    "- Lúc này, điều khiển nhảy đến hàm `doB`.\n",
    "- `doB` in ra `\"In doB()\"`.\n",
    "- Sau khi `doB` thực thi xong, điều khiển quay trở lại `doA` (hàm gọi `doB`).\n",
    "- `doA` in ra `\"Ending doA()\"`.\n",
    "- Điều khiển quay trở lại `main` (hàm gọi `doA`).\n",
    "- `main` in ra `\"Ending main()\"`.\n",
    "- Chương trình kết thúc.\n",
    "\n",
    "**Tóm lại:**\n",
    "\n",
    "Các hàm có thể gọi cho nhau, tạo ra các chuỗi thực thi phức tạp hơn. Bất kỳ hàm nào cũng có thể gọi bất kỳ hàm nào khác, miễn là hàm được gọi đã được định nghĩa trước đó trong chương trình."
   ]
  },
  {
   "cell_type": "markdown",
   "id": "f1506016-5bab-427d-8220-78f32940f7b9",
   "metadata": {},
   "source": [
    "### **C++ không hỗ trợ hàm lồng nhau**"
   ]
  },
  {
   "cell_type": "markdown",
   "id": "a3dc957a-61d3-4d16-a7ec-2df8078f56b8",
   "metadata": {},
   "source": [
    "Trái ngược với một số ngôn ngữ lập trình khác, C++ không cho phép định nghĩa hàm bên trong các hàm khác. Tính năng này được gọi là định nghĩa hàm lồng nhau. (nested function)"
   ]
  },
  {
   "cell_type": "markdown",
   "id": "85d56d62-befe-475b-9cc0-2afabf6ee43c",
   "metadata": {},
   "source": [
    ">```\n",
    ">#include <iostream>\n",
    ">\n",
    ">int main() {\n",
    ">    void foo() { // Dòng này bất hợp lệ trong C++\n",
    ">        std::cout << \"foo!\\n\";\n",
    ">    }\n",
    ">\n",
    ">    foo(); // Dòng này cố gắng gọi hàm lồng nhau\n",
    ">    return 0;\n",
    ">}\n",
    ">```\n",
    "\n",
    "**Lỗi:** Dòng `void foo()` cố gắng định nghĩa một hàm có tên `foo` bên trong hàm `main`. Điều này không được phép trong C++.\n",
    "\n",
    "Trong C++, các hàm cần được định nghĩa bên ngoài các hàm khác:\n",
    "\n",
    ">```\n",
    ">#include <iostream>\n",
    ">\n",
    ">void foo() { // Định nghĩa hàm bên ngoài main\n",
    ">    std::cout << \"foo!\\n\";\n",
    ">}\n",
    ">\n",
    ">int main() {\n",
    ">    foo(); // Gọi hàm foo\n",
    ">    return 0;\n",
    ">}\n",
    ">```\n",
    "\n",
    ">**Thông tin bổ sung:** <br>\n",
    ">Biến siêu cú pháp: Mã sử dụng `\"foo\"` làm tên giữ chỗ cho hàm. Những tên giữ chỗ này thường được sử dụng khi tên cụ thể không quan trọng để minh họa một khái niệm.<br>\n",
    "Các ví dụ phổ biến khác bao gồm `\"bar\"`, `\"baz\"` hoặc các từ 3 chữ cái kết thúc bằng `\"oo\"` (`goo`, `moo`, `boo`)."
   ]
  },
  {
   "cell_type": "markdown",
   "id": "4fb909ce-019d-4082-8afe-e389dc836de2",
   "metadata": {
    "jp-MarkdownHeadingCollapsed": true
   },
   "source": [
    "## **Bài 2.2: <u>Hàm trả về giá trị (value-returning functions)</u>**"
   ]
  },
  {
   "cell_type": "markdown",
   "id": "08c07e82-6b0f-40b9-99ed-3b1286c63132",
   "metadata": {},
   "source": [
    "Xét đoạn chương trình sau:\n",
    "\n",
    ">```\n",
    ">#include <iostream>\n",
    ">\n",
    ">int main() {\n",
    ">    // Nhận giá trị từ người dùng\n",
    ">    std::cout << \"Nhập một số nguyên: \";\n",
    ">    int num{};\n",
    ">    std::cin >> num;\n",
    ">\n",
    ">    // In ra giá trị gấp đôi\n",
    ">    std::cout << num << \" nhân đôi là: \" << num * 2 << '\\n';\n",
    ">\n",
    ">    return 0;\n",
    ">}\n",
    ">```\n",
    "\n",
    "Chương trình này được cấu thành từ hai phần: Đầu tiên, chúng ta nhận giá trị từ người dùng. Sau đó, chúng ta thông báo cho người dùng giá trị đó nhân đôi là bao nhiêu.\n",
    "\n",
    "Mặc dù chương trình này đủ đơn giản để không cần chia thành nhiều hàm, nhưng nếu chúng ta muốn chia tách thì sao? Nhận giá trị số nguyên từ người dùng là một công việc được xác định rõ ràng mà chương trình của chúng ta cần thực hiện, do đó nó sẽ là một ứng cử viên tốt cho một hàm.\n",
    "\n",
    "Vì vậy, hãy viết một chương trình để thực hiện việc này:\n",
    "\n",
    ">```\n",
    ">// Chương trình này không hoạt động\n",
    ">#include <iostream>\n",
    ">\n",
    ">void getValueFromUser() {\n",
    ">    std::cout << \"Nhập một số nguyên: \";\n",
    ">    int input{};\n",
    ">    std::cin >> input;\n",
    ">}\n",
    ">\n",
    ">int main() {\n",
    ">    getValueFromUser(); // Yêu cầu người dùng nhập dữ liệu\n",
    ">\n",
    ">    int num{}; // Làm thế nào để lấy giá trị từ getValueFromUser() và sử dụng nó để khởi tạo biến này?\n",
    ">\n",
    ">    std::cout << num << \" nhân đôi là: \" << num * 2 << '\\n';\n",
    ">\n",
    ">    return 0;\n",
    ">}\n",
    ">```\n",
    "\n",
    "Mặc dù chương trình này là một nỗ lực giải quyết tốt, nhưng nó không hoàn toàn hoạt động.\n",
    "\n",
    "Khi hàm `getValueFromUser` được gọi, người dùng được yêu cầu nhập một số nguyên như mong đợi. Nhưng giá trị họ nhập vào sẽ bị mất khi `getValueFromUser` kết thúc và quyền điều khiển trở lại `main`. Biến num không bao giờ được khởi tạo bằng giá trị người dùng nhập vào, do đó chương trình luôn in ra kết quả `0`."
   ]
  },
  {
   "cell_type": "markdown",
   "id": "bb047b4a-423c-42f9-9045-15f9c12e1298",
   "metadata": {},
   "source": [
    "### **Giá trị trả về**"
   ]
  },
  {
   "cell_type": "markdown",
   "id": "4c534f8b-437a-4fb9-b4cb-a4c86b3d6613",
   "metadata": {},
   "source": [
    "Khi bạn viết một hàm do người dùng định nghĩa, bạn có thể xác định xem hàm của bạn có trả về giá trị cho trình gọi hay không. Để trả về giá trị cho trình gọi, cần hai điều."
   ]
  },
  {
   "cell_type": "markdown",
   "id": "de5ede64-c11e-4952-b9d2-b54987dd767c",
   "metadata": {},
   "source": [
    "#### **1. Kiểu trả về của hàm (Return Type):**"
   ]
  },
  {
   "cell_type": "markdown",
   "id": "8249e0c3-a219-4d35-bb75-22a4690e1d96",
   "metadata": {},
   "source": [
    "Thứ nhất, hàm của bạn phải chỉ định loại giá trị sẽ được trả về. Điều này được thực hiện bằng cách đặt kiểu trả về của hàm, là kiểu được xác định trước tên hàm. Trong ví dụ trên, hàm `getValueFromUser` có kiểu trả về là `void` (có nghĩa là không có giá trị nào được trả về cho trình gọi), và hàm `main` có kiểu trả về là `int` (nghĩa là một giá trị kiểu `int` sẽ được trả về cho trình gọi). Lưu ý rằng điều này không xác định chính xác giá trị cụ thể được trả về - nó chỉ xác định kiểu của giá trị sẽ được trả về.\n",
    "\n",
    ">**Bài học liên quan:**<br>\n",
    ">Chúng ta sẽ khám phá thêm về các hàm trả về `void` trong bài học tiếp theo **(2.3 - Hàm Void (hàm không trả về giá trị)).**"
   ]
  },
  {
   "cell_type": "markdown",
   "id": "5dbab055-e12b-40bf-8600-4b086c50f091",
   "metadata": {},
   "source": [
    "#### **2. Sử dụng câu lệnh return (Return Statement)**"
   ]
  },
  {
   "cell_type": "markdown",
   "id": "5ce3f910-429d-474e-8313-6ec91e4fbdd6",
   "metadata": {},
   "source": [
    "Thứ hai, bên trong hàm sẽ trả về một giá trị, chúng ta sử dụng câu lệnh `return` để chỉ định giá trị cụ thể được trả về cho trình gọi. Giá trị cụ thể được trả về từ một hàm được gọi là **giá trị trả về** của hàm. Khi câu lệnh `return` được thực thi, hàm thoát ngay lập tức và giá trị trả về được sao chép từ hàm trở lại hàm gọi. Quá trình này được gọi là **trả về theo giá trị (return by value).**\n",
    "\n"
   ]
  },
  {
   "cell_type": "markdown",
   "id": "3b58ace7-d7d4-4b5c-abe9-ae0cf2deac35",
   "metadata": {},
   "source": [
    "Ví dụ:<br>\n",
    "Hãy xem một hàm đơn giản trả về một giá trị số nguyên và một chương trình mẫu gọi hàm đó:\n",
    "\n",
    ">```\n",
    ">#include <iostream>\n",
    ">\n",
    ">// int là kiểu trả về\n",
    ">// Kiểu trả về int có nghĩa là hàm sẽ trả về một giá trị số nguyên nào đó cho trình gọi (giá trị cụ thể không được chỉ định ở đây)\n",
    ">int returnFive() {\n",
    ">    // Câu lệnh return chỉ định giá trị cụ thể sẽ được trả về\n",
    ">    return 5; // Trả về giá trị cụ thể 5 cho hàm gọi.\n",
    ">}\n",
    ">\n",
    ">int main() {\n",
    ">    std::cout << returnFive() << '\\n'; // In 5\n",
    ">    std::cout << returnFive() + 2 << '\\n'; // In 7\n",
    ">\n",
    ">    returnFive(); // Không sao: giá trị 5 được trả về, nhưng bị bỏ qua vì main() không làm gì với nó\n",
    ">\n",
    ">    return 0;\n",
    ">}\n",
    ">```\n",
    "Hãy thận trọng khi sử dụng các đoạn mã.\n",
    "Khi chạy, chương trình này in:\n",
    "\n",
    ">`5`\\\n",
    ">`7`"
   ]
  },
  {
   "cell_type": "markdown",
   "id": "5cbc12ec-c6f2-4d65-92fa-89b267788a78",
   "metadata": {},
   "source": [
    "#### **Thứ tự thực thi:**\n"
   ]
  },
  {
   "cell_type": "markdown",
   "id": "f82b0ca3-0d87-44f5-bb19-fa4891d6fdc4",
   "metadata": {},
   "source": [
    "- Quá trình thực thi bắt đầu từ đầu hàm `main`.\n",
    "- Trong câu lệnh đầu tiên, lệnh gọi hàm `returnFive` được đánh giá, dẫn đến việc hàm `returnFive` được gọi.\n",
    "- Hàm `returnFive` trả về giá trị cụ thể là `5` hàm gọi (hàm `main`), sau đó giá trị này được in ra console thông qua `std::cout`.\n",
    "- Trong lệnh gọi hàm thứ hai, lệnh gọi hàm `returnFive` được đánh giá, dẫn đến việc hàm `returnFive` được gọi lại lần nữa. Hàm `returnFive` trả về giá trị `5` cho hàm gọi. Biểu thức `5 + 2` được tính toán để tạo ra kết quả `7`, sau đó được in ra console thông qua `std::cout`.\n",
    "- Trong câu lệnh thứ ba, hàm `returnFive` được gọi lại, dẫn đến việc giá trị `5` được trả về cho hàm gọi. Tuy nhiên, hàm `main` không làm gì với giá trị trả về này, vì vậy không có gì khác xảy ra (giá trị trả về bị bỏ qua).\n",
    "\n",
    ">**Lưu ý:**<br>\n",
    ">Giá trị trả về sẽ không được in ra trừ khi trình gọi gửi chúng đến console thông qua `std::cout`. Trong trường hợp cuối cùng ở trên, giá trị trả về không được gửi đến `std::cout`, vì vậy không có gì được in ra.\n",
    "\n",
    ">**Mẹo:**<br>\n",
    ">Khi một hàm được gọi trả về giá trị, hàm gọi nó có thể quyết định sử dụng giá trị đó trong một biểu thức hoặc câu lệnh (ví dụ: sử dụng nó để khởi tạo biến hoặc gửi nó đến `std::cout`) hoặc bỏ qua nó (bằng cách không làm gì khác). Nếu hàm gọi bỏ qua giá trị trả về, nó sẽ bị loại bỏ (không có gì được thực hiện với nó)."
   ]
  },
  {
   "cell_type": "markdown",
   "id": "fad7d151-6592-40d2-9d84-4aa2c7af2fb7",
   "metadata": {},
   "source": [
    "### **Giải quyết bài toán thách thức đặt ra ở đầu bài**"
   ]
  },
  {
   "cell_type": "markdown",
   "id": "cf0c922b-5f9d-4c8e-b122-d4520aa4f3f0",
   "metadata": {},
   "source": [
    "Giờ đây, với những kiến thức vừa học, chúng ta có thể sửa chữa chương trình được giới thiệu ở đầu bài:"
   ]
  },
  {
   "cell_type": "markdown",
   "id": "4fb9c215-b784-4bf5-b988-8a6310b3bc6a",
   "metadata": {},
   "source": [
    ">```\n",
    ">#include <iostream>\n",
    ">int getValueFromUser() { // Hàm này hiện trả về một giá trị kiểu số nguyên\n",
    ">    std::cout << \"Enter an integer: \";\n",
    ">    int input {};\n",
    ">    std::cin >> input;\n",
    ">    return input; // Trả về giá trị người dùng nhập cho hàm gọi\n",
    ">}\n",
    ">int main() {\n",
    ">    int num { getValueFromUser() }; // Khởi tạo num bằng giá trị trả về của getValueFromUser()\n",
    ">    std::cout << num << \" doubled is: \" << num * 2 << '\\n';\n",
    ">\n",
    ">    return 0;\n",
    ">}\n",
    ">```"
   ]
  },
  {
   "cell_type": "markdown",
   "id": "50a2fed2-a3a9-4100-942a-37a0f2ed590c",
   "metadata": {},
   "source": [
    "**Giải thích:**\n",
    "\n",
    "Khi chương trình này thực thi, câu lệnh đầu tiên trong `main` sẽ tạo một biến int có tên `num`. Khi chương trình khởi tạo `num`, nó sẽ thấy có một lệnh gọi hàm `getValueFromUser()`, do đó chương trình sẽ thực thi hàm đó. Hàm `getValueFromUser` yêu cầu người dùng nhập giá trị, sau đó trả giá trị đó về cho trình gọi (`main`). Giá trị trả về này được sử dụng làm giá trị khởi tạo cho biến `num`.\n",
    "\n",
    "Hãy tự biên dịch chương trình này và chạy nó vài lần để kiểm tra xem nó hoạt động chính xác hay không.\n"
   ]
  },
  {
   "cell_type": "markdown",
   "id": "be7082c3-a5f9-4376-a1e3-497203f6402a",
   "metadata": {},
   "source": [
    "### **Xem xét lại hàm `main()`:**"
   ]
  },
  {
   "cell_type": "markdown",
   "id": "a3bc01dd-acee-48a9-b3a9-0e91fee2a69e",
   "metadata": {},
   "source": [
    "Bây giờ bạn đã có những công cụ khái niệm để hiểu cách thức hoạt động thực sự của hàm `main`. Khi chương trình được thực thi, hệ điều hành sẽ gọi hàm `main`. Sau đó, quá trình thực thi nhảy đến đầu của `main`. Các câu lệnh trong `main` được thực thi tuần tự. Cuối cùng, `main` trả về một giá trị kiểu số nguyên (thường là `0`), và chương trình của bạn kết thúc. Giá trị trả về từ `main` đôi khi được gọi là **mã trạng thái (status code, còn được gọi là mã thoát (exit code) hoặc hiếm khi gọi là mã trả về (return code))**, vì nó được sử dụng để báo hiệu chương trình có chạy thành công hay không.\n",
    "\n",
    "Theo định nghĩa, mã trạng thái `0` có nghĩa là chương trình đã chạy thành công.\n",
    "\n",
    ">**Thực hành:**\n",
    ">\n",
    ">Hàm main của bạn nên trả về giá trị 0 nếu chương trình chạy bình thường.\n",
    "\n",
    "Mã trạng thái khác 0 thường được sử dụng để báo hiệu lỗi (mặc dù điều này đúng trên hầu hết các hệ điều hành, nhưng về mặt lý thuyết, nó không đảm bảo tính di động).\n",
    "\n",
    ">**Đối với người đọc nâng cao:**\n",
    ">\n",
    ">Chuẩn C++ chỉ định nghĩa ý nghĩa của 3 mã trạng thái: `0`, `EXIT_SUCCESS` và `EXIT_FAILURE`. `0` và `EXIT_SUCCESS` đều có nghĩa là chương trình chạy thành công. `EXIT_FAILURE` có nghĩa là chương trình không chạy thành công.\n",
    ">\n",
    ">`EXIT_SUCCESS` và `EXIT_FAILURE` là các macro tiền xử lý được định nghĩa trong tiêu đề <cstdlib>:\n",
    ">\n",
    ">>```\n",
    ">>#include <cstdlib> // for EXIT_SUCCESS and EXIT_FAILURE\n",
    ">>\n",
    ">>int main()\n",
    ">>{\n",
    ">>    return EXIT_SUCCESS;\n",
    ">>}\n",
    ">>```\n",
    "\n",
    "Nếu bạn muốn tối đa hóa khả năng di động, bạn chỉ nên sử dụng `0` hoặc `EXIT_SUCCESS` để báo hiệu kết thúc thành công, hoặc `EXIT_FAILURE` để báo hiệu kết thúc không thành công.\n",
    "\n",
    ">**Lưu ý:**\n",
    ">\n",
    ">**C++** không cho phép gọi hàm main() một cách trực tiếp.\n",
    "\n",
    ">**Ngoài lề:**\n",
    ">\n",
    ">**C** cho phép gọi `main()` trực tiếp, vì vậy một số trình biên dịch **C++**\n",
    "> sẽ cho phép điều này vì lý do tương thích.\n",
    "\n",
    "Hiện tại, bạn cũng nên định nghĩa hàm `main()` ở cuối tệp mã của bạn, bên dưới các hàm khác, và tránh gọi nó trực tiếp."
   ]
  },
  {
   "cell_type": "markdown",
   "id": "4886c735-bef9-43c4-89f5-b08a7c651ea9",
   "metadata": {},
   "source": [
    "### **Một hàm trả về giá trị mà không trả về giá trị sẽ tạo ra hành vi bất định.**"
   ]
  },
  {
   "cell_type": "markdown",
   "id": "46e13927-7dfc-4438-ba6b-7f589988de4f",
   "metadata": {},
   "source": [
    "Một hàm trả giá trị được thiết kế để cung cấp một giá trị cụ thể (số nguyên, chuỗi ký tự, đối tượng, ...) cho đoạn mã gọi hàm đó. Một hàm là hàm trả về giá trị nếu kiểu trả về là bất kỳ thứ gì ngoại trừ `void`. Kiểu trả về của hàm xác định loại dữ liệu mà nó sẽ trả về. Các kiểu trả về phổ biến gồm `int` (số nguyên), `double` (số thực), `string` (chuỗi ký tự), và các kiểu dữ liệu do bạn tự định nghĩa."
   ]
  },
  {
   "cell_type": "markdown",
   "id": "1eec5aec-2331-45c5-b768-8a442c5ea5a8",
   "metadata": {},
   "source": [
    "Một hàm trả về giá trị phải trả về một giá trị của kiểu đó (sử dụng câu lệnh `return`), nếu không sẽ tạo ra hành vi bất định.\n",
    "\n",
    ">**Nội dung liên quan**\n",
    ">\n",
    ">Chúng tôi thảo luận về **hành vi bất định** trong **[bài học 1.6 - Biến chưa khởi tạo và hành vi bất định](../lesson1/lesson1_6.ipynb).**\n",
    "\n",
    "**Hành vi bất định:**\n",
    "\n",
    ">```\n",
    ">#include <iostream>\n",
    ">\n",
    ">int getValueFromUserUB() { // Hàm này được khai báo để trả về một số nguyên\n",
    ">  std::cout << \"Nhập một số nguyên: \";\n",
    ">  int input;\n",
    ">  std::cin >> input;\n",
    ">\n",
    ">  // Lưu ý: Không có câu lệnh return!\n",
    ">}\n",
    ">\n",
    ">int main() {\n",
    ">  int num = getValueFromUserUB(); // Cố gắng sử dụng giá trị trả về\n",
    ">\n",
    ">  std::cout << num << \" nhân đôi là: \" << num * 2 << std::endl;\n",
    ">\n",
    ">  return 0;\n",
    ">}\n",
    ">```"
   ]
  },
  {
   "cell_type": "markdown",
   "id": "46fbd0c7-8de0-438d-817f-d68be6e34ce6",
   "metadata": {},
   "source": [
    "Trong ví dụ này, hàm `getValueFromUserUB` được khai báo để trả về một số nguyên, nhưng nó thiếu câu lệnh `return` để cung cấp giá trị đó. Việc thiếu sót này dẫn đến hành vi bất định:\n",
    "- Chương trình có thể bị lỗi hoặc tạo ra kết quả không mong đợi.\n",
    "- Giá trị được gán cho `num` trong `main` trở nên bất định, dẫn đến lỗi tiềm ẩn khi sử dụng nó trong các phép tính.\n",
    "\n",
    "May mắn thay, nhiều trình biên dịch hiện đại sẽ cảnh báo khi gặp hàm được khai báo để trả về giá trị nhưng thiếu `return`. Những cảnh báo này giúp bạn phát hiện lỗi và ngăn chặn hành vi bất định.\n",
    "\n",
    "Trong hầu hết các trường hợp, trình biên dịch sẽ phát hiện nếu bạn quên trả về một giá trị. Tuy nhiên, trong một số trường hợp phức tạp, trình biên dịch có thể không thể xác định một cách chính xác liệu hàm của bạn có trả về một giá trị hay không trong tất cả các trường hợp, vì vậy bạn không nên phụ thuộc vào điều này.\n",
    "\n",
    ">**Lưu ý**\n",
    ">- Luôn sử dụng return trong các hàm trả giá trị. Điều này giúp mã của bạn dễ hiểu, dự đoán được và ít lỗi hơn."
   ]
  },
  {
   "cell_type": "markdown",
   "id": "d52d88cf-d23b-4fa7-9640-42fee72d924d",
   "metadata": {},
   "source": [
    "### **Hàm `main()` sẽ ngầm định `return 0;` nếu lệnh return không được cấp**"
   ]
  },
  {
   "cell_type": "markdown",
   "id": "ffe06667-8657-4eba-bd84-5452d940f637",
   "metadata": {},
   "source": [
    "Hàm `main` là một trường hợp đặc biệt. Nếu `main` không có câu lệnh `return` rõ ràng, mặc định nó sẽ trả về `0`. Tuy nhiên, nên thành lập thói quen sử dụng `return` với giá trị cụ thể trong `main` để thể hiện ý định và duy trì tính nhất quán với các hàm khác (mà sẽ gây ra hành vi bất định nếu thiếu `return`).\n"
   ]
  },
  {
   "cell_type": "markdown",
   "id": "f5b96f5d-6381-4625-a85c-fd0b607b52e9",
   "metadata": {},
   "source": [
    "### **Hàm chỉ có thể trả về một giá trị:**"
   ]
  },
  {
   "cell_type": "markdown",
   "id": "2dcc89c7-0b9f-436f-8d76-4cbab83035a1",
   "metadata": {},
   "source": [
    "Một hàm trả về giá trị chỉ có thể trả về một giá trị duy nhất cho người gọi mỗi lần nó được gọi.\n",
    "\n",
    "Lưu ý rằng giá trị được cung cấp trong câu lệnh `return` không cần phải là literal -- nó có thể là kết quả của bất kỳ biểu thức hợp lệ nào, bao gồm biến hoặc thậm chí là một lời gọi đến một hàm trả về giá trị khác. Trong ví dụ của hàm `getValueFromUser()` ở trên, chúng ta đã trả về một biến `input`, chứa giá trị mà người dùng nhập vào.\n",
    "\n",
    "Mặc dù các hàm thường chỉ trả về một giá trị duy nhất, nhưng có những kỹ thuật trong lập trình (như truyền đối số theo tham chiếu hoặc trả về cấu trúc) cho phép bạn truyền tải dữ liệu phức tạp hơn. Những khái niệm này sẽ được đề cập trong các bài học sau.\n",
    "\n"
   ]
  },
  {
   "cell_type": "markdown",
   "id": "de8751ff-8c79-4e77-b5f2-3bab2503766b",
   "metadata": {},
   "source": [
    "### **Ý nghĩa của giá trị trả về của hàm:**"
   ]
  },
  {
   "cell_type": "markdown",
   "id": "9f4cca66-3ce8-4a00-8bc3-ed3aa58bb9d2",
   "metadata": {},
   "source": [
    "Ý nghĩa của giá trị trả về bởi một hàm được xác định bởi tác giả của hàm đó. Một số hàm sử dụng giá trị trả về như mã trạng thái, để báo hiệu chúng thành công hay thất bại. Các hàm khác trả về một giá trị được tính toán hoặc lựa chọn. Một số hàm khác không trả về gì (chúng ta sẽ xem các ví dụ về những hàm này trong bài học tiếp theo).\n",
    "\n",
    "Do có nhiều khả năng khác nhau, nên tốt nhất là bạn nên ghi chú hàm của mình bằng một bình luận cho biết ý nghĩa của các giá trị trả về. Ví dụ:"
   ]
  },
  {
   "cell_type": "markdown",
   "id": "a431eb63-d172-4644-8652-251e1a3fc09e",
   "metadata": {},
   "source": [
    ">```\n",
    ">// Hàm yêu cầu người dùng nhập giá trị\n",
    ">// Giá trị trả về là số nguyên được người dùng nhập từ bàn phím\n",
    ">int getValueFromUser()\n",
    ">{\n",
    ">  std::cout << \"Nhập một số nguyên: \";\n",
    ">  int input{};\n",
    ">  std::cin >> input;\n",
    ">\n",
    ">  return input; // trả về giá trị người dùng nhập cho chương trình gọi\n",
    ">}\n",
    ">```"
   ]
  },
  {
   "cell_type": "markdown",
   "id": "1541554c-2f33-4683-a79a-38e31c097257",
   "metadata": {},
   "source": [
    "### **Sử dụng lại hàm**"
   ]
  },
  {
   "cell_type": "markdown",
   "id": "d6871628-b278-433e-9824-da119878ea22",
   "metadata": {},
   "source": [
    "Bây giờ chúng ta có thể minh họa một ví dụ hay về việc sử dụng lại hàm. Xem xét chương trình sau:\n",
    "\n",
    ">```\n",
    ">#include <iostream>\n",
    ">\n",
    ">int main()\n",
    ">{\n",
    ">  int x{};\n",
    ">  std::cout << \"Nhập một số nguyên: \";\n",
    ">  std::cin >> x;\n",
    ">\n",
    ">  int y{};\n",
    ">  std::cout << \"Nhập một số nguyên: \";\n",
    ">  std::cin >> y;\n",
    ">\n",
    ">  std::cout << x << \" + \" << y << \" = \" << x + y << '\\n';\n",
    ">\n",
    ">  return 0;\n",
    ">}\n",
    ">```\n",
    "\n",
    "Mặc dù chương trình này hoạt động, nhưng nó hơi thừa. Thực tế, chương trình này vi phạm một trong những nguyên tắc cốt lõi của lập trình tốt: **Đừng Lặp Lại Chính Mình** (thường được viết tắt là **DRY - Don't Repeat Yourself).**\n",
    "\n",
    "Tại sao mã lặp lại là không tốt? Nếu chúng ta muốn thay đổi văn bản `\"Nhập một số nguyên:\"` thành thứ khác, chúng ta sẽ phải cập nhật nó ở hai vị trí. Và nếu chúng ta muốn khởi tạo 10 biến thay vì 2 thì sao? Điều đó sẽ tạo ra rất nhiều mã thừa (khiến chương trình của chúng ta dài hơn và khó hiểu hơn), và tạo ra nhiều chỗ cho lỗi đánh máy.\n",
    "\n",
    "Hãy cập nhật chương trình này để sử dụng hàm `getValueFromUser` mà chúng ta đã phát triển ở trên:\n",
    "\n",
    ">```\n",
    ">#include <iostream>\n",
    ">\n",
    ">int getValueFromUser()\n",
    ">{\n",
    ">  std::cout << \"Nhập một số nguyên: \";\n",
    ">  int input{};\n",
    ">  std::cin >> input;\n",
    ">\n",
    ">  return input;\n",
    ">}\n",
    ">\n",
    ">int main()\n",
    ">{\n",
    ">  int x{ getValueFromUser() }; // gọi getValueFromUser lần đầu\n",
    ">  int y{ getValueFromUser() }; // gọi getValueFromUser lần thứ hai\n",
    ">\n",
    ">  std::cout << x << \" + \" << y << \" = \" << x + y << '\\n';\n",
    ">\n",
    ">  return 0;\n",
    ">}\n",
    ">```\n",
    "\n",
    "Chương trình này tạo ra đầu ra sau:\n",
    ">```\n",
    ">Nhập một số nguyên: 5\n",
    ">Nhập một số nguyên: 7\n",
    ">5 + 7 = 12\n",
    ">```\n",
    "\n",
    "Trong chương trình này, chúng ta gọi `getValueFromUser` hai lần, một lần để khởi tạo biến `x` và một lần để khởi tạo biến `y`. Điều đó giúp chúng ta tránh việc sao chép mã để lấy đầu vào của người dùng và giảm thiểu khả năng mắc lỗi. Một khi chúng ta biết `getValueFromUser` hoạt động, chúng ta có thể gọi nó nhiều lần theo ý muốn.\n",
    "\n",
    "Đây là bản chất của **lập trình mô-đun**: khả năng viết một hàm, kiểm tra nó, đảm bảo nó hoạt động và sau đó biết rằng chúng ta có thể sử dụng lại nó nhiều lần tùy thích và nó sẽ tiếp tục hoạt động (miễn là chúng ta không sửa đổi hàm - tại thời điểm đó chúng ta sẽ phải kiểm tra lại)."
   ]
  },
  {
   "cell_type": "markdown",
   "id": "67400597-0c08-42a6-a5e0-8d7168b8b393",
   "metadata": {},
   "source": [
    ">**Thực hành tốt nhất: Tránh lặp lại mã (DRY)**<br>\n",
    ">**Nguyên tắc <u>DRY</u> (Don't Repeat Yourself - Tránh lặp lại chính mình):**\n",
    ">- Nếu bạn cần thực hiện một tác vụ nhiều hơn một lần, hãy cân nhắc cách sửa đổi mã để loại bỏ càng nhiều sự trùng lặp càng tốt.\n",
    ">- Biến có thể được sử dụng để lưu trữ kết quả của các phép tính cần sử dụng nhiều lần (để chúng ta không phải lặp lại phép tính).\n",
    ">- Hàm có thể được sử dụng để xác định một chuỗi các lệnh mà chúng ta muốn thực thi nhiều hơn một lần.\n",
    ">- Vòng lặp (sẽ được đề cập trong một chương sau) có thể được sử dụng để thực thi một câu lệnh nhiều hơn một lần.\n",
    "\n",
    ">**Lưu ý:**<br>\n",
    ">DRY là một nguyên tắc hướng dẫn, không phải quy tắc tuyệt đối. Quá chia nhỏ mã thành các phần quá nhỏ có thể ảnh hưởng đến khả năng hiểu tổng thể của chương trình.\n",
    ">Ngược lại của **DRY** là **WET (“Write everything twice” - Viết mọi thứ hai lần).**"
   ]
  },
  {
   "cell_type": "markdown",
   "id": "dc013a33-815e-44fd-9aa1-12905547f1af",
   "metadata": {
    "jp-MarkdownHeadingCollapsed": true
   },
   "source": [
    "## **Bài 2.3: <u>Hàm `void` (Hàm Không Trả Giá Trị)</u>**"
   ]
  },
  {
   "cell_type": "markdown",
   "id": "5242844f-1b9d-49ad-a3d9-496cba805bc9",
   "metadata": {},
   "source": [
    "Trong bài học trước **(2.1 - Giới thiệu về Hàm)**, chúng ta đã thấy cú pháp cho định nghĩa một hàm trông như thế này:\n",
    "\n",
    ">```\n",
    ">returnType tên_hàm() // tên_hàm được thay thế bằng tên hàm của bạn\n",
    ">{\n",
    ">  // Code của bạn ở đây\n",
    ">}\n",
    ">```\n",
    "\n",
    "Mặc dù chúng tôi đã trình bày các ví dụ về hàm có kiểu trả về `void`, nhưng chúng tôi không thảo luận về ý nghĩa của nó. Trong bài học này, chúng ta sẽ khám phá các hàm có kiểu trả về `void`."
   ]
  },
  {
   "cell_type": "markdown",
   "id": "72f9ff0b-7f20-4b08-8dd3-b85537a2065c",
   "metadata": {},
   "source": [
    "### **Giá trị trả về `void`**"
   ]
  },
  {
   "cell_type": "markdown",
   "id": "66edb7f1-c351-4e11-a266-e09c73ae3cdd",
   "metadata": {},
   "source": [
    "Hàm không nhất thiết phải trả về giá trị cho chương trình gọi nó. Để thông báo cho trình biên dịch rằng một hàm không trả về giá trị, kiểu trả về `void` được sử dụng. Ví dụ:\n",
    "\n",
    ">```\n",
    ">#include <iostream>\n",
    ">\n",
    ">// void nghĩa là hàm không trả về giá trị cho hàm gọi\n",
    ">void printHi()\n",
    ">{\n",
    ">  std::cout << \"Hi\" << '\\n';\n",
    ">\n",
    ">  // Hàm này không trả về giá trị nên không cần câu lệnh return\n",
    ">}\n",
    ">\n",
    ">int main()\n",
    ">{\n",
    ">  printHi(); // ổn: hàm printHi() được gọi, không có giá trị được trả về\n",
    ">\n",
    ">  return 0;\n",
    ">}\n",
    ">```"
   ]
  },
  {
   "cell_type": "markdown",
   "id": "e765f42e-c6fa-4609-89f3-2ef9703147a8",
   "metadata": {},
   "source": [
    "Trong ví dụ trên, hàm `printHi` có một hành vi có nghĩa (nó in ra `“Hi”`) nhưng nó không cần trả về bất cứ thứ gì cho chương trình gọi. Do đó, `printHi` được đặt kiểu trả về là `void`.\n",
    "\n",
    "Khi `main` gọi `printHi`, mã trong `printHi` được thực thi và “Hi” được in ra. Khi kết thúc `printHi`, quyền điều khiển trở lại `main` và chương trình tiếp tục.\n",
    "\n",
    "Một hàm không trả về giá trị được gọi là hàm không trả giá trị (hoặc hàm `void`)."
   ]
  },
  {
   "cell_type": "markdown",
   "id": "dda0acfd-1040-4c01-a449-94940626df61",
   "metadata": {},
   "source": [
    "### **Hàm `void` không cần câu lệnh `return`**"
   ]
  },
  {
   "cell_type": "markdown",
   "id": "ffad157d-71fc-447c-93ce-fd54c916ebcc",
   "metadata": {},
   "source": [
    "Một hàm `void` sẽ tự động nhảy về hàm gọi ở cuối hàm. Không cần câu lệnh `return`.\n",
    "\n",
    "Câu lệnh `return` (với không có giá trị trả về nào, hay `return` trống) có thể được sử dụng trong một hàm `void` - một câu lệnh như vậy sẽ khiến hàm nhảy về hàm gọi tại điểm mà câu lệnh `return` được thực thi. Điều này cũng giống như những gì xảy ra ở cuối hàm. Do đó, việc đặt một câu lệnh `return` trống ở cuối hàm `void` là thừa:\n",
    "\n",
    ">```\n",
    ">#include <iostream>\n",
    ">\n",
    ">// void nghĩa là hàm không trả về giá trị cho chương trình gọi\n",
    ">void printHi()\n",
    ">{\n",
    ">  std::cout << \"Hi\" << '\\n';\n",
    ">\n",
    ">  return; // yêu cầu trình biên dịch trả về cho hàm gọi - điều này thừa vì lệnh return; sẽ luôn xảy ra ở cuối hàm!\n",
    ">} // hàm sẽ trả về cho chương trình gọi tại đây\n",
    ">\n",
    ">int main()\n",
    ">{\n",
    ">  printHi();\n",
    ">\n",
    ">  return 0;\n",
    ">}\n",
    ">```\n",
    "\n",
    ">**Thực hành tốt nhất**<br>\n",
    ">Không đặt câu lệnh `return` ở cuối hàm `void`."
   ]
  },
  {
   "cell_type": "markdown",
   "id": "a775a4ff-09bc-4266-a6e8-6aa69b0839d0",
   "metadata": {},
   "source": [
    "### **Hàm `void` không thể sử dụng trong biểu thức yêu cầu giá trị**"
   ]
  },
  {
   "cell_type": "markdown",
   "id": "15c58e32-84be-44d9-906a-b3dfed327de3",
   "metadata": {},
   "source": [
    "Một số loại biểu thức yêu cầu giá trị. Ví dụ:\n",
    "\n",
    ">```\n",
    ">#include <iostream>\n",
    ">\n",
    ">int main()\n",
    ">{\n",
    ">    std::cout << 5; // ok: 5 is a literal value that we're sending to the console to be printed\n",
    ">    std::cout << ;  // compile error: no value provided\n",
    ">\n",
    ">    return 0;\n",
    ">}\n",
    ">```\n",
    "\n",
    "Trong chương trình trên, giá trị cần in phải được cung cấp ở phía bên phải của `std::cout <<`. Nếu không cung cấp giá trị, trình biên dịch sẽ tạo ra lỗi cú pháp. Vì lần gọi thứ hai đến `std::cout` không cung cấp giá trị để in ra, điều này gây ra lỗi."
   ]
  },
  {
   "cell_type": "markdown",
   "id": "d951de5a-52af-4059-9ad6-d28790503aec",
   "metadata": {},
   "source": [
    "Bây giờ hãy xem xét chương trình sau:\n",
    "\n",
    ">```\n",
    ">#include <iostream>\n",
    ">\n",
    ">// void nghĩa là hàm không trả về giá trị cho chương trình gọi\n",
    ">void printHi()\n",
    ">{\n",
    ">  std::cout << \"Hi\" << '\\n';\n",
    ">}\n",
    ">\n",
    ">int main()\n",
    ">{\n",
    ">  printHi(); // ổn: hàm printHi() được gọi, không có giá trị được trả về\n",
    ">\n",
    ">  std::cout << printHi(); // lỗi biên dịch\n",
    ">\n",
    ">  return 0;\n",
    ">}\n",
    ">```\n",
    "\n",
    "Lần gọi đầu tiên đến `printHi()` được gọi trong một bối cảnh không yêu cầu giá trị. Vì hàm không trả về giá trị nên điều này là ổn.\n",
    "\n",
    "Lần gọi hàm thứ hai đến hàm `printHi()` thậm chí sẽ không được biên dịch. Hàm `printHi` có kiểu trả về là `void`, nghĩa là nó không trả về giá trị. Tuy nhiên, câu lệnh này đang cố gắng gửi giá trị trả về của `printHi` đến `std::cout` để in ra. `std::cout` không biết cách xử lý điều này (nó sẽ xuất ra giá trị gì?). Do đó, trình biên dịch sẽ đánh dấu đây là lỗi. Bạn cần phải chú thích dòng code này để chương trình có thể biên dịch."
   ]
  },
  {
   "cell_type": "markdown",
   "id": "14835f15-ca07-4d15-b627-a8c83ce45785",
   "metadata": {},
   "source": [
    ">**Mẹo**<br>\n",
    ">Một số câu lệnh yêu cầu cung cấp giá trị, một số khác thì không.\n",
    ">\n",
    ">Khi chúng ta có một câu lệnh chỉ bao gồm một lời gọi hàm (ví dụ như `printHi()` đầu tiên trong ví dụ trên), chúng ta đang gọi một hàm vì hành vi của nó, chứ không phải giá trị trả về của nó. Trong trường hợp này, chúng ta có thể gọi một hàm không trả về giá trị hoặc có thể gọi một hàm trả về giá trị và bỏ qua giá trị trả về đó.\n",
    ">\n",
    ">Khi chúng ta gọi một hàm trong bối cảnh yêu cầu giá trị (ví dụ như `std::cout`), thì phải cung cấp một giá trị. Trong ngữ cảnh như vậy, chúng ta chỉ có thể gọi các hàm trả về giá trị.\n",
    ">\n",
    ">>```\n",
    ">>#include <iostream>\n",
    ">>\n",
    ">>// Hàm không trả về giá trị\n",
    ">>void returnNothing()\n",
    ">>{\n",
    ">>}\n",
    ">>\n",
    ">>// Hàm trả về một giá trị\n",
    ">>int returnFive()\n",
    ">>{\n",
    ">>    return 5;\n",
    ">>}\n",
    ">>\n",
    ">>int main()\n",
    ">>{\n",
    ">>    // Khi gọi một hàm riêng lẻ, không yêu cầu giá trị\n",
    ">>    returnNothing(); // ok: chúng ta có thể gọi một hàm không trả về giá trị\n",
    ">>    returnFive();    // ok: chúng ta có thể gọi một hàm trả về giá trị và bỏ qua giá trị trả về đó\n",
    ">>\n",
    ">>    // Khi gọi một hàm trong bối cảnh yêu cầu giá trị (như std::cout)\n",
    ">>    std::cout << returnFive();    // ok: chúng ta có thể gọi một hàm trả về giá trị và giá trị đó sẽ được sử dụng\n",
    ">>    std::cout << returnNothing(); // lỗi biên dịch: chúng ta không thể gọi một hàm trả về void trong ngữ cảnh này\n",
    ">>\n",
    ">>    return 0;\n",
    ">>}\n",
    ">>```"
   ]
  },
  {
   "cell_type": "markdown",
   "id": "ad6ab5cf-6693-404d-8139-f70f678d6a1b",
   "metadata": {},
   "source": [
    "### **Trả về giá trị từ hàm void gây ra lỗi biên dịch**"
   ]
  },
  {
   "cell_type": "markdown",
   "id": "fc911c78-992b-43a6-bbaa-647c5f797f27",
   "metadata": {},
   "source": [
    "Việc cố gắng trả về giá trị từ một hàm không trả về giá trị sẽ dẫn đến lỗi biên dịch:\n",
    "\n",
    ">```\n",
    ">void printHi() // Hàm này không trả về giá trị\n",
    ">{\n",
    ">    std::cout << \"In printHi()\" << '\\n';\n",
    ">\n",
    ">    return 5; // lỗi biên dịch: chúng ta đang cố gắng trả về giá trị\n",
    ">}\n",
    ">```"
   ]
  },
  {
   "cell_type": "markdown",
   "id": "fc1091ee-c9e2-44ba-9ee9-f0f72cc7e226",
   "metadata": {
    "jp-MarkdownHeadingCollapsed": true
   },
   "source": [
    "## **Bài 2.4: <u>Giới thiệu về tham số và đối số của hàm (function parameter and function argument)</u>**"
   ]
  },
  {
   "cell_type": "markdown",
   "id": "c19fb8b3-fed7-44d3-a07c-eedd16844a69",
   "metadata": {},
   "source": [
    "Trong bài học trước, chúng ta đã học được rằng hàm có thể trả về giá trị cho chương trình gọi nó. Chúng ta đã sử dụng điều đó để tạo ra hàm `getValueFromUser` theo mô hình:\n",
    "\n",
    ">```\n",
    ">#include <iostream>\n",
    ">\n",
    ">int getValueFromUser()\n",
    ">{\n",
    ">  std::cout << \"Nhập một số nguyên: \";\n",
    ">  int input{};\n",
    ">  std::cin >> input;\n",
    ">\n",
    ">  return input;\n",
    ">}\n",
    ">\n",
    ">int main()\n",
    ">{\n",
    ">  int num{ getValueFromUser() };\n",
    ">\n",
    ">  std::cout << num << \" nhân đôi là: \" << num * 2 << '\\n';\n",
    ">\n",
    ">  return 0;\n",
    ">}\n",
    ">```"
   ]
  },
  {
   "cell_type": "markdown",
   "id": "16bf7610-c0f9-4571-8008-bf3d88807e21",
   "metadata": {},
   "source": [
    "Tuy nhiên, nếu chúng ta muốn đặt dòng xuất ra vào một hàm riêng biệt thì sao? Bạn có thể thử như thế này:\n",
    "\n",
    ">```\n",
    ">#include <iostream>\n",
    ">\n",
    ">int getValueFromUser()\n",
    ">{\n",
    ">  std::cout << \"Nhập một số nguyên: \";\n",
    ">  int input{};\n",
    ">  std::cin >> input;\n",
    ">\n",
    ">  return input;\n",
    ">}\n",
    ">\n",
    ">// Hàm này sẽ không được biên dịch\n",
    ">void printDouble()\n",
    ">{\n",
    ">  std::cout << num << \" doubled is: \" << num * 2 << '\\n';\n",
    ">}\n",
    ">\n",
    ">int main()\n",
    ">{\n",
    ">  int num{ getValueFromUser() };\n",
    ">\n",
    ">  printDouble();\n",
    ">\n",
    ">  return 0;\n",
    ">}\n",
    ">```\n",
    "\n",
    "Chương trình trên sẽ không được biên dịch, vì hàm `printDouble` không biết định danh `num` là gì. Bạn có thể thử định nghĩa `num` như một biến bên trong hàm `printDouble`:\n",
    "\n",
    ">```\n",
    ">void printDouble()\n",
    ">{\n",
    ">  int num{}; // chúng tôi đã thêm dòng này\n",
    ">  std::cout << num << \" doubled is: \" << num * 2 << '\\n';\n",
    ">}\n",
    ">```\n",
    "\n",
    "Mặc dù điều này giải quyết lỗi trình biên dịch và khiến chương trình có thể biên dịch được, chương trình vẫn hoạt động không chính xác (nó luôn in `“0 nhân đôi là: 0”`). Vấn đề cốt lõi ở đây là hàm `printDouble` không có cách nào để truy cập vào giá trị do người dùng nhập.\n",
    "\n",
    "Chúng ta cần một cách nào đó để truyền giá trị của biến `num` sang hàm `printDouble` để `printDouble` có thể sử dụng giá trị đó trong thân hàm."
   ]
  },
  {
   "cell_type": "markdown",
   "id": "0d85b969-7ae1-478e-a45b-f28a4f7adbc6",
   "metadata": {},
   "source": [
    "### **Tham Số Hàm và Đối Số**"
   ]
  },
  {
   "cell_type": "markdown",
   "id": "858d1a2e-abc4-4793-8f1c-ba82c5dd3e01",
   "metadata": {},
   "source": [
    "Trong nhiều trường hợp, việc có thể truyền thông tin cho một hàm được gọi là rất hữu ích, để hàm đó có dữ liệu để làm việc. Ví dụ, nếu chúng ta muốn viết một hàm để cộng hai số, chúng ta cần một cách nào đó để báo cho hàm biết hai số nào cần cộng khi chúng ta gọi nó. Bằng cách nào khác, hàm sẽ biết phải cộng cái gì? Chúng ta thực hiện điều đó thông qua tham số và đối số hàm.\n",
    "\n",
    "- **Tham số hàm** là một biến được sử dụng trong tiêu đề của hàm. Tham số hàm hoạt động gần giống hệt với các biến được định nghĩa bên trong hàm, nhưng có một điểm khác biệt: chúng được khởi tạo với giá trị được cung cấp bởi hàm gọi của hàm đó.\n",
    "\n",
    "Tham số hàm được định nghĩa trong tiêu đề hàm bằng cách đặt chúng vào giữa dấu ngoặc đơn sau tên hàm, với nhiều tham số được phân cách bằng dấu phẩy.\n",
    "\n",
    "Dưới đây là một số ví dụ về hàm với số lượng tham số khác nhau:\n",
    "\n",
    ">```\n",
    ">// Hàm này không nhận tham số nào\n",
    ">// Nó không phụ thuộc vào hàm gọi truyền vào thứ gì\n",
    ">void doPrint()\n",
    ">{\n",
    ">  std::cout << \"In doPrint()\\n\";\n",
    ">}\n",
    ">\n",
    ">// Hàm này nhận một tham số nguyên có tên x\n",
    ">// Hàm gọi sẽ cung cấp giá trị của x\n",
    ">void printValue(int x)\n",
    ">{\n",
    ">  std::cout << x << '\\n';\n",
    ">}\n",
    ">\n",
    ">// Hàm này có hai tham số nguyên, một tên là x và một tên là y\n",
    ">// Hàm gọi sẽ cung cấp giá trị của cả x và y\n",
    ">int add(int x, int y)\n",
    ">{\n",
    ">  return x + y;\n",
    ">}\n",
    ">```\n",
    "\n",
    "- **Đối số** là một giá trị được truyền từ caller cho hàm khi thực hiện một lời gọi hàm:\n",
    "\n",
    ">`doPrint(); // Lời gọi này không có đối số`\\\n",
    ">`printValue(6); // 6 là đối số được truyền cho hàm printValue()`\\\n",
    ">`add(2, 3); // 2 và 3 là các đối số được truyền cho hàm add()`\n",
    "\n",
    "Lưu ý rằng nhiều đối số cũng được phân cách bằng dấu phẩy."
   ]
  },
  {
   "cell_type": "markdown",
   "id": "0be25323-10c2-4480-9813-5e4fe6485093",
   "metadata": {},
   "source": [
    "### **Cách tham số hàm và đối số hoạt động cùng nhau**"
   ]
  },
  {
   "cell_type": "markdown",
   "id": "5d50b075-72e8-4add-bcee-f2023409552d",
   "metadata": {},
   "source": [
    "Khi một hàm được gọi, tất cả các tham số của hàm được tạo thành các biến và giá trị của từng đối số được sao chép vào tham số tương ứng (sử dụng khởi tạo sao chép (copy initialization)). Quá trình này được gọi là **truyền theo giá trị (pass by value)**. Tham số hàm sử dụng truyền theo giá trị được gọi là **tham số giá trị (value parameter)**.\n",
    "\n",
    "**Ví dụ:**\n",
    "\n",
    ">```\n",
    ">#include <iostream>\n",
    ">\n",
    ">// Hàm này có hai tham số nguyên, một tên là x và một tên là y\n",
    ">// Giá trị của x và y được truyền vào bởi hàm gọi\n",
    ">void printValues(int x, int y)\n",
    ">{\n",
    ">  std::cout << x << '\\n';\n",
    ">  std.cout << y << '\\n';\n",
    ">}\n",
    ">\n",
    ">int main()\n",
    ">{\n",
    ">  printValues(6, 7); // Lời gọi hàm này có hai đối số, 6 và 7\n",
    ">\n",
    ">  return 0;\n",
    ">}\n",
    ">```\n",
    "\n",
    "Khi hàm `printValues` được gọi với đối số `6` và `7`, tham số `x` của `printValues` được tạo và khởi tạo với giá trị `6`, và tham số `y` của `printValues` được tạo và khởi tạo với giá trị `7`.\n",
    "\n",
    "Điều này dẫn đến đầu ra:\n",
    ">```\n",
    ">6\n",
    ">7\n",
    ">```\n",
    "\n",
    "Lưu ý rằng số lượng đối số nói chung phải khớp với số lượng tham số hàm, nếu không trình biên dịch sẽ báo lỗi. Đối số được truyền cho một hàm có thể là bất kỳ biểu thức hợp lệ nào (vì đối số về cơ bản chỉ là một bộ khởi tạo cho tham số và bộ khởi tạo có thể là bất kỳ biểu thức hợp lệ nào)."
   ]
  },
  {
   "cell_type": "markdown",
   "id": "1d579704-a359-4528-bf8c-d68d270275a5",
   "metadata": {},
   "source": [
    "### **Khắc phục chương trình ở đầu bài**"
   ]
  },
  {
   "cell_type": "markdown",
   "id": "e5b73b9d-1954-4a73-bb1f-92396a145346",
   "metadata": {},
   "source": [
    "Bây giờ chúng ta đã có công cụ cần thiết để sửa chữa chương trình được trình bày ở đầu bài học:\n",
    "\n",
    ">```\n",
    ">#include <iostream>\n",
    ">\n",
    ">int getValueFromUser()\n",
    ">{\n",
    ">    std::cout << \"Nhập một số nguyên: \";\n",
    ">    int input{};\n",
    ">    std::cin >> input;\n",
    ">\n",
    ">    return input;\n",
    ">}\n",
    ">\n",
    ">void printDouble(int value) // Hàm này bây giờ có một tham số kiểu nguyên\n",
    ">{\n",
    ">    std::cout << value << \" doubled is: \" << value * 2 << '\\n';\n",
    ">}\n",
    ">\n",
    ">int main()\n",
    ">{\n",
    ">    int num { getValueFromUser() };\n",
    ">\n",
    ">    printDouble(num);\n",
    ">\n",
    ">    return 0;\n",
    ">}\n",
    ">```\n",
    "\n",
    "Trong chương trình này, biến `num` đầu tiên được khởi tạo với giá trị do người dùng nhập. Sau đó, hàm `printDouble` được gọi và giá trị của đối số `num` được sao chép vào tham số `value` của hàm `printDouble`. Hàm `printDouble` sau đó sử dụng giá trị của tham số `value`."
   ]
  },
  {
   "cell_type": "markdown",
   "id": "2bdaad3b-892f-4080-8d56-b6831789ddaa",
   "metadata": {},
   "source": [
    "### **Sử dụng giá trị trả về của hàm làm đối số**"
   ]
  },
  {
   "cell_type": "markdown",
   "id": "56a052da-1ad6-4fd9-b0da-9db6f2e71eee",
   "metadata": {},
   "source": [
    "Trong bài toán trên, chúng ta có thể thấy rằng biến `num` chỉ được sử dụng một lần, để truyền giá trị trả về của hàm `getValueFromUser` cho đối số của hàm gọi `printDouble`.\n",
    "\n",
    "Chúng ta có thể đơn giản hóa ví dụ trên một chút như sau:\n",
    "\n",
    ">```\n",
    ">#include <iostream>\n",
    ">\n",
    ">int getValueFromUser() {\n",
    ">  std::cout << \"Nhập một số nguyên: \";\n",
    ">  int input{};\n",
    ">  std::cin >> input;\n",
    ">\n",
    ">  return input;\n",
    ">}\n",
    ">\n",
    ">void printDouble(int value) {\n",
    ">  std::cout << value << \" nhân đôi là: \" << value * 2 << '\\n';\n",
    ">}\n",
    ">\n",
    ">int main() {\n",
    ">  printDouble(getValueFromUser());\n",
    ">\n",
    ">  return 0;\n",
    ">}\n",
    ">```\n",
    "\n",
    "Bây giờ, chúng ta đang sử dụng giá trị trả về của hàm `getValueFromUser` trực tiếp làm đối số cho hàm `printDouble`!\n",
    "\n",
    "Mặc dù chương trình này gọn hơn (và làm rõ rằng giá trị do người dùng nhập sẽ không được sử dụng cho việc gì khác), bạn cũng có thể thấy cú pháp gọn này hơi khó đọc. Nếu bạn cảm thấy thoải mái hơn khi sử dụng phiên bản sử dụng biến thay thế, thì không sao cả."
   ]
  },
  {
   "cell_type": "markdown",
   "id": "46be8932-b07d-4e3f-83c1-209379749e88",
   "metadata": {},
   "source": [
    "### **Cách tham số hàm và giá trị trả về hoạt động cùng nhau**"
   ]
  },
  {
   "cell_type": "markdown",
   "id": "2894a702-3855-4ebb-b4cf-01169c6d9f89",
   "metadata": {},
   "source": [
    "Bằng cách sử dụng cả tham số và giá trị trả về, chúng ta có thể tạo các hàm nhận dữ liệu làm đầu vào, thực hiện một số phép tính với dữ liệu đó và trả về giá trị cho chương trình gọi.\n",
    "\n",
    "Dưới đây là một ví dụ về một hàm rất đơn giản cộng hai số lại với nhau và trả về kết quả cho chương trình gọi:\n",
    "\n",
    ">```\n",
    ">#include <iostream>\n",
    ">\n",
    ">// Hàm add() nhận hai số nguyên làm tham số và trả về kết quả của tổng của chúng\n",
    ">// Giá trị của x và y được xác định bởi hàm gọi add()\n",
    ">int add(int x, int y)\n",
    ">{\n",
    ">    return x + y;\n",
    ">}\n",
    ">\n",
    ">// Hàm main không nhận tham số\n",
    ">int main()\n",
    ">{\n",
    ">    std::cout << add(4, 5) << '\\n'; // Các đối số 4 và 5 được truyền cho hàm add()\n",
    ">    return 0;\n",
    ">}\n",
    ">```\n",
    "\n",
    "Thực thi bắt đầu từ đầu của hàm `main`. Khi `add(4, 5)` được đánh giá, hàm `add` được gọi, với tham số `x` được khởi tạo với giá trị `4` và tham số `y` được khởi tạo với giá trị `5`.\n",
    "\n",
    "Câu lệnh `return` trong hàm `add` tính toán `x + y` để tạo ra giá trị `9`, sau đó trả về `main`. Giá trị `9` này sau đó được gửi đến `std::cout` để in ra console.\n",
    "\n",
    ">**Kết quả:** `9`\n",
    "\n",
    "**Minh họa bằng ảnh:**<br>\n",
    ">![Parameters return](ParametersReturn.webp)"
   ]
  },
  {
   "cell_type": "markdown",
   "id": "89a1db3b-0fd6-42d1-bc17-6c83943ceaac",
   "metadata": {},
   "source": [
    "### **Các ví dụ thêm về tham số và giá trị trả về**"
   ]
  },
  {
   "cell_type": "markdown",
   "id": "9e5e9050-0b36-4828-98ca-744cfdabcc7a",
   "metadata": {},
   "source": [
    "Hãy xem một số lời gọi hàm khác:\n",
    "\n",
    ">```\n",
    ">#include <iostream>\n",
    ">\n",
    ">int add(int x, int y)\n",
    ">{\n",
    ">    return x + y;\n",
    ">}\n",
    ">\n",
    ">int multiply(int z, int w)\n",
    ">{\n",
    ">    return z * w;\n",
    ">}\n",
    ">\n",
    ">int main()\n",
    ">{\n",
    ">    std::cout << add(4, 5) << '\\n'; // Trong hàm add() x=4, y=5, nên x+y=9\n",
    ">    std::cout << add(1 + 2, 3 * 4) << '\\n'; // Trong hàm add() x=3, y=12, nên x+y=15\n",
    ">\n",
    ">    int a{ 5 };\n",
    ">    std::cout << add(a, a) << '\\n'; // tính toán (5 + 5)\n",
    ">\n",
    ">    std::cout << add(1, multiply(2, 3)) << '\\n'; // tính toán 1 + (2 * 3)\n",
    ">    std::cout << add(1, add(2, 3)) << '\\n'; // tính toán 1 + (2 + 3)\n",
    ">\n",
    ">    return 0;\n",
    ">}\n",
    ">```\n",
    "\n",
    "Chương trình này tạo ra đầu ra:\n",
    "\n",
    ">```\n",
    ">9\n",
    ">15\n",
    ">10\n",
    ">7\n",
    ">6\n",
    ">```\n",
    "\n",
    "- Câu lệnh đầu tiên đơn giản.\n",
    "- Trong câu lệnh thứ hai, các đối số là các biểu thức được tính toán trước khi được truyền. Trong trường hợp này, `1 + 2` được tính toán thành `3`, vì vậy `3` được sao chép vào tham số `x`. `3 * 4` được tính toán thành `12`, vì vậy `12` được sao chép vào tham số `y`. `add(3, 12)` tương ứng với `15`.\n",
    "\n",
    "- Cặp câu lệnh tiếp theo cũng tương đối dễ hiểu:\n",
    ">```\n",
    ">int a{ 5 };\n",
    ">std::cout << add(a, a) << '\\n'; // tính toán (5 + 5)\n",
    ">```\n",
    "\n",
    "    Trong trường hợp này, `add()` được gọi và giá trị của `a` được sao chép vào cả hai tham số `x` và `y`. Vì `a` có giá trị `5`, nên `add(a, a) = add(5, 5)`, tương ứng với giá trị `10`.\n",
    "\n",
    "- Chúng ta hãy xem xét câu lệnh khó nhằn đầu tiên trong nhóm:\n",
    ">`std::cout << add(1, multiply(2, 3)) << '\\n'; // tính toán 1 + (2 * 3)`\n",
    "\n",
    "    Khi hàm `add` được thực thi, chương trình cần xác định giá trị cho các tham số `x` và `y`. `x` đơn giản vì chúng ta vừa truyền cho nó số nguyên `1`. Để lấy giá trị cho tham số `y`, trước tiên nó cần tính toán `multiply(2, 3)`.\n",
    "\n",
    "    Chương trình gọi `multiply` và khởi tạo `z = 2` và `w = 3`, vì vậy `multiply(2, 3)` trả về giá trị số nguyên `6`. Giá trị trả về `6` đó bây giờ có thể được sử dụng để khởi tạo tham số `y` của hàm `add`. `add(1, 6)` trả về số nguyên `7`, sau đó được truyền cho `std::cout` để in ra.\n",
    "\n",
    "- Tóm gọn hơn: `add(1, multiply(2, 3))` tương ứng với `add(1, 6)` -> tương ứng với `7`\n",
    "\n",
    "- Câu lệnh sau trông khó hiểu vì một trong các đối số được truyền cho `add` là một lời gọi khác cho `add`.\n",
    ">`std::cout << add(1, add(2, 3)) << '\\n'; // tính toán 1 + (2 + 3)`\n",
    "\n",
    "    Nhưng trường hợp này hoạt động hoàn toàn giống như trường hợp trước đó. `add(2, 3)` giải quyết trước tiên, dẫn đến giá trị trả về là `5`. Bây giờ nó có thể giải quyết `add(1, 5)`, tương ứng với giá trị `6`, được truyền cho `std::cout` để in ra.\n",
    "\n",
    "    Tóm gọn hơn: `add(1, add(2, 3))` tương ứng với `add(1, 5)` -> tương ứng với `6`"
   ]
  },
  {
   "cell_type": "markdown",
   "id": "9936e8f3-4335-4fa8-8e48-5f3e8eed634b",
   "metadata": {},
   "source": [
    "### **Tham Số Không Được Sử Dụng**"
   ]
  },
  {
   "cell_type": "markdown",
   "id": "1bf0887e-210c-4172-a9d0-6ad82f378b25",
   "metadata": {},
   "source": [
    "Trong một số trường hợp, bạn sẽ gặp các hàm có các tham số không được sử dụng trong thân hàm. Chúng được gọi là **tham số không tham chiếu hay tham số không được sử dụng (unreferenced parameters or unused parameter)**.\n",
    "\n",
    "Điều này có thể xảy ra khi một tham số hàm đã từng được sử dụng nhưng không còn được sử dụng nữa.\n",
    "\n",
    "**Ví dụ đơn giản:**\n",
    "\n",
    ">```\n",
    ">void doSomething(int count) // cảnh báo: tham số count không được tham chiếu\n",
    ">{\n",
    ">  // Hàm này đã từng làm gì đó với count nhưng không còn được sử dụng nữa\n",
    ">}\n",
    ">\n",
    ">int main()\n",
    ">{\n",
    ">  doSomething(4);\n",
    ">\n",
    ">  return 0;\n",
    ">}\n",
    ">```"
   ]
  },
  {
   "cell_type": "markdown",
   "id": "af5aa6ce-f7b1-4b92-82c0-cdfc0869f9c3",
   "metadata": {},
   "source": [
    "Giống như các biến cục bộ không được sử dụng, trình biên dịch của bạn có thể sẽ cảnh báo rằng biến count đã được định nghĩa nhưng không được sử dụng.\n",
    "\n",
    ">**Điểm mấu chốt**<br>\n",
    "Nếu đơn giản xóa tham số hàm không được sử dụng, thì bất kỳ lời gọi hàm hiện có nào cũng sẽ bị lỗi (vì lời gọi hàm sẽ cung cấp nhiều đối số hơn so với hàm có thể chấp nhận).\n",
    "\n",
    "Trong định nghĩa hàm, tên của tham số hàm là tùy chọn. Do đó, trong trường hợp một tham số hàm cần tồn tại nhưng không được sử dụng trong thân hàm, bạn chỉ cần bỏ qua tên. Tham số không có tên được gọi là **tham số không tên (unnamed parameter)**:\n",
    ">```\n",
    ">void doSomething(int) // ok: unnamed parameter will not generate warning\n",
    ">{\n",
    ">}\n",
    ">```\n",
    "\n",
    "Hướng dẫn chuẩn C++ của Google khuyên nên sử dụng chú thích để ghi lại tham số không tên là gì:\n",
    "\n",
    ">```\n",
    ">void doSomething(int /*count*/) // Sử dụng cho người đọc nâng cao\n",
    ">{\n",
    ">}\n",
    ">```"
   ]
  },
  {
   "cell_type": "markdown",
   "id": "70a02f88-954b-44b7-b6fa-19a39c1cb3ec",
   "metadata": {},
   "source": [
    ">**Đối với người đọc nâng cao**<br>\n",
    ">Trong C++ nâng cao, có những trường hợp khác mà tham số hàm không được tham chiếu xảy ra. Ví dụ, C++ sử dụng sự tồn tại của một tham số hàm không được tham chiếu để phân biệt giữa toán tử tiền tố `++` (ví dụ: `++foo`) và toán tử hậu tố `++` (ví dụ: `foo++`). Chúng tôi sẽ đề cập đến điều này trong **bài học 21.8 - Nạp chồng toán tử tăng và giảm**.\n",
    "\n",
    ">**Lưu ý từ tác giả**<br>\n",
    ">Nếu tham số không tên vẫn chưa có ý nghĩa đối với bạn, đừng lo lắng. Chúng ta sẽ gặp lại chúng trong các bài học sau, khi chúng ta có nhiều ngữ cảnh hơn để giải thích khi nào chúng hữu ích.\n",
    "\n",
    ">**Thực hành tốt**<br>\n",
    ">Khi một tham số hàm tồn tại nhưng không được sử dụng trong thân hàm, thì không đặt tên cho nó. Bạn có thể tùy chọn đặt tên bên trong một chú thích."
   ]
  },
  {
   "cell_type": "markdown",
   "id": "70d71882-7352-48cd-8233-905787ec04d0",
   "metadata": {},
   "source": [
    "### **Kết luận**"
   ]
  },
  {
   "cell_type": "markdown",
   "id": "cc2987b6-d04f-4d6f-81b8-c2c3b4e9a515",
   "metadata": {},
   "source": [
    "Tham số hàm và giá trị trả về là những cơ chế then chốt để viết các hàm theo cách có thể tái sử dụng được. Chúng cho phép chúng ta viết các hàm thực hiện các tác vụ và trả về kết quả đã truy xuất hoặc tính toán cho chương trình gọi mà không cần biết trước các đầu vào hoặc đầu ra cụ thể."
   ]
  },
  {
   "cell_type": "markdown",
   "id": "23fc1fee-4d17-4ab2-a40b-6e70eb0b8cdb",
   "metadata": {
    "jp-MarkdownHeadingCollapsed": true
   },
   "source": [
    "## **Bài 2.5: <u> Giới thiệu về phạm vi cục bộ</u>**"
   ]
  },
  {
   "cell_type": "markdown",
   "id": "9bf5375f-dc65-4389-89b3-6e907ea2f804",
   "metadata": {},
   "source": [
    "### **Biến cục bộ**"
   ]
  },
  {
   "cell_type": "markdown",
   "id": "603b82e6-36ed-4c4f-9241-b9b1b7b167ee",
   "metadata": {},
   "source": [
    "Biến được khai báo bên trong thân hàm được gọi là **biến cục bộ** (trái ngược với **biến toàn cục**, chúng ta sẽ thảo luận trong chương sau):\n",
    ">```\n",
    ">int add(int x, int y) {\n",
    ">  int z{ x + y }; // z là biến cục bộ\n",
    ">  return z;\n",
    ">}\n",
    ">```\n",
    "\n",
    "Tham số hàm cũng thường được coi là biến cục bộ và chúng ta sẽ xếp chúng vào loại đó:\n",
    ">```\n",
    ">int add(int x, int y) // tham số hàm x và y là biến cục bộ\n",
    ">{\n",
    ">  int z{ x + y };\n",
    ">  return z;\n",
    ">}\n",
    ">```\n",
    "\n",
    "Trong bài học này, chúng ta sẽ xem xét chi tiết một số thuộc tính của biến cục bộ.\n",
    "\n"
   ]
  },
  {
   "cell_type": "markdown",
   "id": "26431cb9-1491-44ff-9848-a1fee474f7ff",
   "metadata": {},
   "source": [
    "### **Vòng đời của biến cục bộ**"
   ]
  },
  {
   "cell_type": "markdown",
   "id": "0b400300-2c8c-43df-9d89-006fbfda59d9",
   "metadata": {},
   "source": [
    "Trong **[bài học 1.3 - Đối tượng và biến trong C++](../lesson1/lesson1_3.ipynb)**, chúng ta đã thảo luận về cách khai báo biến như `int x;` sẽ khiến biến được khởi tạo khi câu lệnh này được thực thi. Tham số hàm được tạo và khởi tạo khi hàm được nhập, và các biến trong thân hàm được tạo và khởi tạo tại điểm khai báo.\n",
    "\n",
    "**Ví dụ:**\n",
    "\n",
    ">```\n",
    ">int add(int x, int y) // x và y được tạo và khởi tạo tại đây\n",
    ">{\n",
    ">  int z{ x + y };   // z được tạo và khởi tạo tại đây\n",
    ">  return z;\n",
    ">}\n",
    ">```\n",
    "\n",
    "Câu hỏi tiếp theo được đặt ra là, \"Vậy một biến được khởi tạo thì bị hủy khi nào?\". Biến cục bộ bị hủy theo thứ tự ngược lại với thứ tự tạo ở cuối cặp ngoặc nhọn nơi nó được khai báo (hoặc đối với tham số hàm, ở cuối hàm).\n",
    "\n",
    "**Dễ hiểu hơn**\n",
    "- **Tạo:**\n",
    "  - Biến cục bộ được tạo khi chúng được khai báo trong thân hàm hoặc khối mã khác.\n",
    "  - Tham số hàm cũng được coi là biến cục bộ và được tạo khi hàm được gọi.\n",
    "  - Biến cục bộ được khởi tạo với giá trị mặc định của kiểu dữ liệu của chúng khi được tạo.\n",
    "- **Hủy:**\n",
    "  - Biến cục bộ bị hủy khi khối mã nơi chúng được khai báo kết thúc.\n",
    "  - Biến cục bộ không thể được truy cập sau khi chúng bị hủy.\n",
    "\n",
    ">```\n",
    ">int add(int x, int y)\n",
    ">{\n",
    ">    int z{ x + y };\n",
    ">\n",
    ">    return z; //this is the end of function, any lines after this return doesn't count\n",
    ">} // z, y, and x destroyed here if there is no return value\n",
    ">```\n",
    "\n",
    "Giống như tuổi thọ của một người được xác định là khoảng thời gian giữa khi sinh và khi chết, vòng đời của một đối tượng được xác định là khoảng thời gian giữa khi nó được tạo và bị hủy. Lưu ý rằng việc tạo và hủy biến xảy ra khi **chương trình đang chạy** (gọi là **thời gian chạy**), không phải tại **thời gian biên dịch**. Do đó, vòng đời là một thuộc tính của **thời gian chạy** (runtime).\n",
    "\n"
   ]
  },
  {
   "cell_type": "markdown",
   "id": "a7027228-c78b-49c5-a36b-948d4ea15d7c",
   "metadata": {},
   "source": [
    ">**Đối với người đọc nâng cao**<br>\n",
    ">Các quy tắc về tạo, khởi tạo và hủy ở trên là những đảm bảo. Nghĩa là, các đối tượng phải được tạo và khởi tạo muộn nhất là tại điểm khai báo và bị hủy không sớm hơn cuối cặp ngoặc nhọn nơi chúng được khai báo (hoặc đối với tham số hàm, ở cuối hàm).\n",
    ">\n",
    ">Trên thực tế, đặc tả C++ cung cấp cho trình biên dịch rất nhiều linh hoạt để xác định thời điểm tạo và hủy biến cục bộ. Đối tượng có thể được tạo sớm hơn hoặc hủy muộn hơn vì mục đích tối ưu hóa. Thông thường, biến cục bộ được tạo khi hàm được nhập và hủy theo thứ tự ngược lại với thứ tự tạo khi hàm thoát. Chúng ta sẽ thảo luận chi tiết hơn về điều này trong bài học sau, khi chúng ta nói về ngăn xếp cuộc gọi (**call stack**)."
   ]
  },
  {
   "cell_type": "markdown",
   "id": "51cae78a-a8af-4ad6-a794-80dd8962a623",
   "metadata": {},
   "source": [
    "Đây là một chương trình C++ phức tạp hơn một chút để minh họa vòng đời của biến có tên x:\n",
    "\n",
    ">```\n",
    ">#include <iostream>\n",
    ">\n",
    ">void doSomething()\n",
    ">{\n",
    ">    std::cout << \"Hello!\\n\";\n",
    ">}\n",
    ">\n",
    ">int main()\n",
    ">{\n",
    ">    int x{ 0 };    // Vòng đời của x bắt đầu tại đây\n",
    ">\n",
    ">    doSomething(); // x vẫn tồn tại trong suốt lời gọi hàm này\n",
    ">\n",
    ">    return 0;\n",
    ">} // Vòng đời của x kết thúc tại đây\n",
    "\n",
    "Trong chương trình trên, vòng đời của `x` bắt đầu từ điểm khai báo đến cuối hàm `main`. Điều này bao gồm thời gian thực thi hàm `doSomething`.\n",
    "\n",
    "**Phân tích chi tiết:**\n",
    "\n",
    "- Dòng `int x {0};`: Biến `x` được khai báo kiểu `int` và khởi tạo với giá trị `0`. Lúc này, biến `x` được tạo (khởi tạo vùng nhớ) và tuổi thọ của nó bắt đầu.\n",
    "- Dòng `doSomething();`: Hàm `doSomething` được gọi. Tuy nhiên, `x` là biến cục bộ của hàm `main` nên nó không bị hủy trong quá trình thực thi `doSomething`. Biến `x` vẫn tồn tại và có thể truy cập được trong suốt lời gọi hàm này.\n",
    "- Dòng `return 0;`: Hàm `main` kết thúc. Lúc này, biến `x` được đánh dấu để hủy vì nó là biến cục bộ của `main`. Biến `x` không còn khả dụng sau dòng này.\n"
   ]
  },
  {
   "cell_type": "markdown",
   "id": "91bdaefd-2aca-48fd-915c-e5b368c96f12",
   "metadata": {},
   "source": [
    "### **Khi một đối tượng bị hủy, điều gì xảy ra?**"
   ]
  },
  {
   "cell_type": "markdown",
   "id": "5adc42ce-b619-4431-8b04-cf36cb83e784",
   "metadata": {},
   "source": [
    "Trong hầu hết các trường hợp, không có gì xảy ra. Đối tượng bị hủy trở nên không hợp lệ và bất kỳ việc sử dụng thêm đối tượng đó sẽ dẫn đến **hành vi bất định (undefined behavior)**. Vào một thời điểm nào đó sau khi hủy, bộ nhớ được sử dụng bởi đối tượng sẽ được giải phóng để sử dụng lại.\n",
    "\n",
    ">**Đối với người đọc nâng cao:**<br>\n",
    "Nếu đối tượng là một đối tượng kiểu lớp (`class type object`), trước khi hủy, một hàm đặc biệt gọi là hàm hủy (`destructor`) sẽ được kích hoạt. Trong nhiều trường hợp, hàm hủy không làm gì, do đó không phát sinh thêm chi phí nào."
   ]
  },
  {
   "cell_type": "markdown",
   "id": "d335a80e-5b48-4f1d-aa95-b009cee41987",
   "metadata": {},
   "source": [
    "### **Phạm vi cục bộ**"
   ]
  },
  {
   "cell_type": "markdown",
   "id": "6b4939c7-f329-4927-9618-26960c536d79",
   "metadata": {},
   "source": [
    "**Phạm vi (scope)** của một định danh xác định vị trí định danh đó có thể được nhìn thấy và sử dụng trong mã nguồn. Khi một định danh có thể được nhìn thấy và sử dụng, chúng ta nói nó **nằm trong phạm vi (in scope)**. Khi một định danh không thể nhìn thấy, chúng ta không thể sử dụng nó và chúng ta nói nó **nằm ngoài phạm vi (out of scope)**. **Phạm vi** là một **thuộc tính** của **thời gian biên dịch (compile-time property)**, và việc cố gắng sử dụng một định danh khi nó không nằm trong phạm vi sẽ dẫn đến **lỗi biên dịch (compile error).**"
   ]
  },
  {
   "cell_type": "markdown",
   "id": "202e69b2-81ad-481d-863c-5e8722bfc729",
   "metadata": {},
   "source": [
    "**Phạm vi của một biến cục bộ** bắt đầu tại điểm khai báo biến và kết thúc ở cuối cặp ngoặc nhọn nơi nó được khai báo (hoặc đối với tham số hàm, ở cuối hàm). Điều này đảm bảo biến không thể được sử dụng trước điểm khai báo (ngay cả khi trình biên dịch chọn tạo chúng trước đó). Biến cục bộ được khai báo trong một hàm cũng không nằm trong phạm vi của các hàm khác được gọi lên sau đó.\n",
    "\n",
    ">```\n",
    ">#include <iostream>\n",
    ">\n",
    ">// x không nằm trong phạm vi bất cứ nơi nào trong hàm này\n",
    ">void doSomething()\n",
    ">{\n",
    ">    std::cout << \"Hello!\\n\";\n",
    ">}\n",
    ">\n",
    ">int main()\n",
    ">{\n",
    ">    // x không thể được sử dụng ở đây vì nó chưa nằm trong phạm vi\n",
    ">\n",
    ">    int x{ 0 }; // x bắt đầu nằm trong phạm vi ở đây và bây giờ có thể được sử dụng trong hàm này\n",
    ">\n",
    ">    doSomething();\n",
    ">\n",
    ">    return 0;\n",
    ">} // x ra khỏi phạm vi ở đây và không còn được sử dụng nữa\n",
    ">```\n",
    "\n",
    "Trong chương trình trên, biến `x` bắt đầu nằm trong phạm vi tại điểm khai báo và ra khỏi phạm vi ở cuối hàm `main`. Lưu ý rằng biến `x` không nằm trong phạm vi bất kỳ nơi nào bên trong hàm `doSomething`. Việc hàm `main` gọi hàm `doSomething` không liên quan trong ngữ cảnh này."
   ]
  },
  {
   "cell_type": "markdown",
   "id": "4f428819-b541-4722-adb4-5870338e868c",
   "metadata": {},
   "source": [
    "### **\"Out of Scope\" và \"Going Out of Scope\"**"
   ]
  },
  {
   "cell_type": "markdown",
   "id": "b80e96bd-2952-4c39-9f0f-0d38f6c5d9e7",
   "metadata": {},
   "source": [
    "Các thuật ngữ \"out of scope\" (ngoài phạm vi) và \"going out of scope\" (ra khỏi phạm vi) có thể gây nhầm lẫn cho lập trình viên mới."
   ]
  },
  {
   "cell_type": "markdown",
   "id": "296c3e2b-7266-45c4-8778-b042885007f0",
   "metadata": {},
   "source": [
    "#### *<u>Out of Scope (Ngoài phạm vi)</u>*"
   ]
  },
  {
   "cell_type": "markdown",
   "id": "8c62c9ce-a8a3-4ee5-aae1-4f05f24799cd",
   "metadata": {},
   "source": [
    "Một định danh được coi là **\"out of scope\"** bất cứ nơi nào nó không thể được truy cập trong code. Trong ví dụ trên, định danh `x` nằm trong phạm vi từ điểm khai báo của nó đến cuối hàm `main`. Định danh `x` nằm ngoài phạm vi bên ngoài vùng code đó."
   ]
  },
  {
   "cell_type": "markdown",
   "id": "b141273a-cd8a-407b-bef5-5ef10b6abacc",
   "metadata": {},
   "source": [
    "#### *<u>Going Out of Scope (Ra khỏi phạm vi)</u>*"
   ]
  },
  {
   "cell_type": "markdown",
   "id": "f6fc4a4e-87a4-43ea-ba84-53ea1f2be5a6",
   "metadata": {},
   "source": [
    "Thuật ngữ **\"going out of scope\"** thường được áp dụng cho các đối tượng (object) chứ không phải định danh. Chúng ta nói một đối tượng **\"goes out of scope\" (ra khỏi phạm vi)** ở cuối phạm vi (ngoặc nhọn đóng) nơi đối tượng được khởi tạo. Trong ví dụ trên, đối tượng có tên `x` ra khỏi phạm vi ở cuối hàm `main`."
   ]
  },
  {
   "cell_type": "markdown",
   "id": "7ba9fadb-70ba-4fb6-b2d7-fcb46af33f02",
   "metadata": {},
   "source": [
    "Vòng đời của một biến cục bộ kết thúc tại thời điểm biến đó ra khỏi phạm vi, vì vậy các biến cục bộ bị hủy tại thời điểm này.\n",
    "\n",
    "Lưu ý rằng không phải tất cả các kiểu biến đều bị hủy khi chúng ra khỏi phạm vi. Chúng ta sẽ thấy các ví dụ về điều này trong các bài học tương lai."
   ]
  },
  {
   "cell_type": "markdown",
   "id": "2b00c133-35fb-4aaf-8140-b20407d464a1",
   "metadata": {},
   "source": [
    "### **Ví dụ khác** "
   ]
  },
  {
   "cell_type": "markdown",
   "id": "03a3e443-d1c4-41a7-ac44-2316e4691b57",
   "metadata": {},
   "source": [
    "Đây là một ví dụ phức tạp hơn một chút. Hãy nhớ rằng, **vòng đời** là thuộc tính của **thời gian chạy (runtime)**, còn **phạm vi** là thuộc tính của **thời gian biên dịch (compile-time)**, vì vậy mặc dù chúng ta đang nói về cả hai trong cùng một chương trình, chúng được áp dụng tại các thời điểm khác nhau."
   ]
  },
  {
   "cell_type": "markdown",
   "id": "99b9fee4-74a4-445d-baa3-cbca98cfd613",
   "metadata": {},
   "source": [
    ">```\n",
    ">#include <iostream>\n",
    ">\n",
    ">int add(int x, int y) // x và y được tạo và bắt đầu nằm trong phạm vi ở đây\n",
    ">{\n",
    ">    // x và y chỉ nhìn thấy/sử dụng được trong hàm này\n",
    ">    return x + y;\n",
    ">} // y và x ra khỏi phạm vi và bị hủy ở đây\n",
    ">\n",
    ">int main()\n",
    ">{\n",
    ">    int a{ 5 }; // a được tạo, khởi tạo và bắt đầu nằm trong phạm vi ở đây\n",
    ">    int b{ 6 }; // b được tạo, khởi tạo và bắt đầu nằm trong phạm vi ở đây\n",
    ">\n",
    ">    // a và b chỉ sử dụng được trong hàm này\n",
    ">    std::cout << add(a, b) << '\\n'; // gọi hàm add() với x=5 và y=6\n",
    ">\n",
    ">    return 0;\n",
    ">} // b và a ra khỏi phạm vi và bị hủy ở đây\n",
    ">```\n",
    "\n",
    "Tham số `x` và `y` được tạo khi hàm `add` được gọi, chỉ có thể được nhìn thấy/sử dụng trong hàm `add` và bị hủy ở cuối hàm `add`. Biến `a` và `b` được tạo trong hàm `main`, chỉ có thể được nhìn thấy/sử dụng trong hàm `main` và bị hủy ở cuối hàm `main`.\n",
    "\n",
    "**Phân tích chi tiết**\n",
    "\n",
    "Để nâng cao hiểu biết của bạn về cách tất cả điều này hoạt động cùng nhau, chúng ta hãy theo dõi chi tiết hơn chương trình này. Các bước diễn ra theo thứ tự:\n",
    "\n",
    "1. Chương trình bắt đầu chạy từ đầu hàm `main`.\n",
    "2. Biến `a` của hàm `main` được tạo và gán giá trị `5`.\n",
    "3. Biến `b` của hàm `main` được tạo và gán giá trị `6`.\n",
    "4. Hàm `add` được gọi với các giá trị đối số là `5` và `6`.\n",
    "5. Tham số `x` và `y` của hàm `add` được tạo và khởi tạo với các giá trị tương ứng là `5` và `6`.\n",
    "6. Biểu thức `x + y` được tính toán để ra kết quả là `11`.\n",
    "7. Hàm `add` sao chép giá trị `11` trở lại hàm gọi `main`.\n",
    "8. Tham số `y` và `x` của hàm `add` bị hủy.\n",
    "9. Hàm `main` in giá trị `11` ra console.\n",
    "10. Hàm `main` trả về `0` cho hệ điều hành.\n",
    "11. Biến `b` và `a` của hàm main bị hủy.\n",
    "\n",
    "Lưu ý rằng nếu hàm `add` được gọi hai lần, thì các tham số `x` và `y` sẽ được tạo và hủy hai lần - một lần cho mỗi lần gọi. Trong một chương trình có nhiều hàm và các lệnh gọi"
   ]
  },
  {
   "cell_type": "markdown",
   "id": "6a867a25-f164-4286-8ad3-4128cf67c30f",
   "metadata": {},
   "source": [
    "### **Sự tách biệt biến theo phạm vi hàm**"
   ]
  },
  {
   "cell_type": "markdown",
   "id": "8d31656c-20a5-49c1-9ff1-3cd3c05fc53b",
   "metadata": {},
   "source": [
    "Trong ví dụ trên, rất dễ dàng để thấy rằng các biến `a` và `b` khác với các biến `x` và `y`.\n",
    "\n",
    "Bây giờ hãy xem xét chương trình tương tự sau:\n",
    "\n",
    ">```\n",
    ">#include <iostream>\n",
    ">\n",
    ">int add(int x, int y) // x và y của add được tạo và bắt đầu nằm trong phạm vi ở đây\n",
    ">{\n",
    ">    // x và y của add chỉ nhìn thấy/sử dụng được trong hàm này\n",
    ">    return x + y;\n",
    ">} // y và x của add ra khỏi phạm vi và bị hủy ở đây\n",
    ">\n",
    ">int main()\n",
    ">{\n",
    ">    int x{ 5 }; // x của main được tạo, khởi tạo và bắt đầu nằm trong phạm vi ở đây\n",
    ">    int y{ 6 }; // y của main được tạo, khởi tạo và bắt đầu nằm trong phạm vi ở đây\n",
    ">\n",
    ">    // x và y của main chỉ sử dụng được trong hàm này\n",
    ">    std::cout << add(x, y) << '\\n'; // calls function add() with x=5 and y=6\n",
    ">\n",
    ">    return 0;\n",
    ">} // y và x của main ra khỏi phạm vi và bị hủy ở đây\n",
    ">```\n",
    "\n",
    "Trong ví dụ này, tất cả những gì chúng ta đã làm là thay đổi tên của các biến `a` và `b` bên trong hàm main thành `x` và `y`. Chương trình này biên dịch và chạy giống hệt nhau, mặc dù các hàm `main` và `add` đều có các biến được đặt tên là `x` và `y`. Tại sao điều này hoạt động?"
   ]
  },
  {
   "cell_type": "markdown",
   "id": "9c86f173-b1c2-464f-bb26-d9409d363a97",
   "metadata": {},
   "source": [
    "Thứ nhất, chúng ta cần nhận ra rằng mặc dù các hàm `main` và `add` đều có các biến được đặt tên là `x` và `y`, nhưng các biến này là riêng biệt. Biến `x` và `y` trong hàm `main` không liên quan gì đến biến `x` và `y` trong hàm `add` - chúng chỉ trùng tên nhau mà thôi.\n",
    "\n",
    "Thứ hai, khi bên trong hàm `main`, tên `x` và `y` tham chiếu đến các biến cục bộ `x` và `y` của main. Các biến đó chỉ có thể được nhìn thấy (và sử dụng) bên trong `main`. Tương tự, khi bên trong hàm `add`, tên `x` và `y` tham chiếu đến tham số hàm `x` và `y`, chúng chỉ có thể được nhìn thấy (và sử dụng) bên trong `add`.\n",
    "\n",
    "Nói tóm lại, cả `add` và `main` đều không biết hàm kia có các biến cùng tên. Bởi vì phạm vi không chồng chéo, nên trình biên dịch luôn luôn rõ ràng biến `x` và `y` nào đang được tham chiếu tại bất kỳ thời điểm nào.\n",
    "\n",
    ">**Ý chính**<br>\n",
    ">Tên được sử dụng cho tham số hàm hoặc biến được khai báo trong thân hàm chỉ nhìn thấy được trong hàm khai báo chúng. Điều này có nghĩa là các biến cục bộ trong một hàm có thể được đặt tên mà không cần quan tâm đến tên của các biến trong các hàm khác. Điều này giúp các hàm hoạt động độc lập.\n",
    "\n",
    "Chúng ta sẽ thảo luận thêm về phạm vi cục bộ và các loại phạm vi khác trong chương học sau."
   ]
  },
  {
   "cell_type": "markdown",
   "id": "1d9dba92-76b5-427c-b68b-0ff7304ca990",
   "metadata": {},
   "source": [
    "### **Vị trí khai báo biến cục bộ**"
   ]
  },
  {
   "cell_type": "markdown",
   "id": "f2f82c94-a60a-469b-90b8-1b0d0fd0a217",
   "metadata": {},
   "source": [
    "Trong C++ hiện đại, cách thực hành tốt nhất là biến cục bộ bên trong thân hàm nên được khai báo càng gần lần sử dụng đầu tiên của chúng càng hợp lý:\n",
    "\n",
    ">```\n",
    ">#include <iostream>\n",
    ">\n",
    ">int main()\n",
    ">{\n",
    ">    std::cout << \"Nhập một số nguyên: \";\n",
    ">    int x{};       // x được khai báo tại đây\n",
    ">    std::cin >> x; // và được sử dụng tại đây\n",
    ">\n",
    ">    std::cout << \"Nhập một số nguyên khác: \";\n",
    ">    int y{};       // y được khai báo tại đây\n",
    ">    std::cin >> y; // và được sử dụng tại đây\n",
    ">\n",
    ">    int sum{ x + y }; // sum có thể được khởi tạo với giá trị mong muốn\n",
    ">    std::cout << \"Tổng là: \" << sum << '\\n';\n",
    ">\n",
    ">    return 0;\n",
    ">}\n",
    ">```"
   ]
  },
  {
   "cell_type": "markdown",
   "id": "ddade7fb-168a-4469-b3f4-1d4469bc163a",
   "metadata": {},
   "source": [
    "Trong ví dụ trên, mỗi biến được khai báo ngay trước khi được sử dụng lần đầu tiên. Không cần quá khắt khe về điều này - nếu bạn muốn đổi chỗ dòng 5 và 6 thì cũng không sao.\n",
    "\n",
    ">**Thực hành tốt nhất**<br>\n",
    ">Khai báo biến cục bộ của bạn càng gần lần sử dụng đầu tiên của chúng càng hợp lý.\n",
    "\n",
    ">**Ngoài lề**<br>\n",
    ">Do những hạn chế của các trình biên dịch cũ, nguyên thủy hơn, ngôn ngữ C từng yêu cầu tất cả các biến cục bộ được khai báo ở đầu hàm. Chương trình C++ tương đương sử dụng phong cách đó sẽ trông như thế này:\n",
    ">>```\n",
    ">>#include <iostream>\n",
    ">>\n",
    ">>int main()\n",
    ">>{\n",
    ">>    int x{}, y{}, sum{}; // chúng được sử dụng như thế nào?\n",
    ">>\n",
    ">>    std::cout << \"Nhập một số nguyên: \";\n",
    ">>    std::cin >> x;\n",
    ">>\n",
    ">>    std::cout << \"Nhập một số nguyên khác: \";\n",
    ">>    std::cin >> y;\n",
    ">>\n",
    ">>    sum = x + y;\n",
    ">>    std::cout << \"Tổng là: \" << sum << '\\n';\n",
    ">>\n",
    ">>    return 0;\n",
    ">>}\n",
    ">>```\n",
    ">\n",
    ">Phong cách này không tối ưu vì một số lý do:\n",
    ">- Mục đích sử dụng các biến này không rõ ràng tại thời điểm khai báo. Bạn phải quét qua toàn bộ hàm để xác định vị trí và cách sử dụng từng biến.\n",
    ">- Giá trị khởi tạo dự định có thể không có sẵn ở đầu hàm (ví dụ: chúng ta không thể khởi tạo `sum` thành giá trị mong muốn vì chúng ta chưa biết giá trị của `x` và `y`).\n",
    ">- Có thể có nhiều dòng giữa toán tử khởi tạo của biến và lần sử dụng đầu tiên của nó. Nếu chúng ta không nhớ giá trị nó được khởi tạo, chúng ta sẽ phải cuộn lại đầu hàm, điều này gây mất tập trung.\n",
    ">\n",
    ">Giới hạn này đã được dỡ bỏ trong tiêu chuẩn ngôn ngữ C99."
   ]
  },
  {
   "cell_type": "markdown",
   "id": "aee94c21-14de-47d7-bac3-420bb75648c8",
   "metadata": {},
   "source": [
    "### **Giới thiệu về đối tượng tạm thời** "
   ]
  },
  {
   "cell_type": "markdown",
   "id": "bf446abf-595c-4795-bcdf-056ffc37c848",
   "metadata": {},
   "source": [
    "Một **đối tượng tạm thời** (còn được gọi là **đối tượng ẩn danh**) là một đối tượng không tên do trình biên dịch tạo ra để lưu trữ giá trị tạm thời.\n",
    "\n",
    "Có nhiều cách khác nhau để tạo ra các giá trị tạm thời, nhưng đây là một cách phổ biến:\n",
    "\n",
    ">```\n",
    ">#include <iostream>\n",
    ">\n",
    ">int getValueFromUser()\n",
    ">{\n",
    ">    std::cout << \"Nhập một số nguyên: \";\n",
    ">    int input{};\n",
    ">    std::cin >> input;\n",
    ">\n",
    ">    return input; // trả về giá trị của input cho hàm gọi\n",
    ">}\n",
    ">\n",
    ">int main()\n",
    ">{\n",
    ">    std::cout << getValueFromUser() << '\\n'; // giá trị trả về được lưu trữ ở đâu?\n",
    ">\n",
    ">    return 0;\n",
    ">}\n",
    ">```\n",
    "\n",
    "Trong chương trình trên, hàm `getValueFromUser()` trả về giá trị được lưu trữ trong biến cục bộ `input` cho hàm gọi. Bởi vì `input` sẽ bị hủy ở cuối hàm, nên hàm gọi nhận được một bản sao của giá trị để nó có giá trị có thể sử dụng ngay cả sau khi `input` bị hủy.\n",
    "\n",
    "Nhưng giá trị được sao chép lại cho hàm gọi được lưu trữ ở đâu? Chúng tôi chưa khai báo bất kỳ biến nào trong `main()`. Câu trả lời là giá trị trả về được lưu trữ trong một **đối tượng tạm thời**. Đối tượng tạm thời này sau đó được truyền cho `std::cout` để in ra.\n",
    "\n",
    "**Đặc điểm của đối tượng tạm thời**\n",
    "- Đối tượng tạm thời không có phạm vi (điều này hợp lý, vì phạm vi là thuộc tính của một định danh, và đối tượng tạm thời không có định danh).\n",
    "- Đối tượng tạm thời bị hủy ở cuối biểu thức đầy đủ trong đó chúng được tạo. Do đó, đối tượng tạm thời được tạo để chứa giá trị trả về của `getValueFromUser()` bị hủy sau khi `std::cout << getValueFromUser() << '\\n'` thực thi.\n",
    "- Trong trường hợp một đối tượng tạm thời được sử dụng để khởi tạo một biến, việc khởi tạo xảy ra trước khi hủy đối tượng tạm thời.\n",
    "\n",
    "**Cải tiến của C++ hiện đại**\n",
    "\n",
    "Trong C++ hiện đại (đặc biệt là từ **C++17**), trình biên dịch có nhiều thủ thuật để tránh tạo các đối tượng tạm thời ở những nơi trước đây nó cần phải tạo. Trong ví dụ trên, vì giá trị trả về của `getValueFromUser()` được xuất ra ngay lập tức, trình biên dịch có thể bỏ qua việc tạo và hủy đối tượng tạm thời trong `main()`, và sử dụng giá trị trả về của `getValueFromUser()` để khởi tạo trực tiếp tham số của toán tử `<<`."
   ]
  },
  {
   "cell_type": "markdown",
   "id": "09c24938-7723-4086-80b1-5c72049f45c0",
   "metadata": {
    "jp-MarkdownHeadingCollapsed": true
   },
   "source": [
    "## **Bài 2.6: <u>Tại sao hàm hữu ích và cách sử dụng chúng hiệu quả</u>**"
   ]
  },
  {
   "cell_type": "markdown",
   "id": "d77bce08-51a7-4ef3-8aed-9d6c4b589fcd",
   "metadata": {},
   "source": [
    "Bây giờ, khi chúng ta đã tìm hiểu về hàm và một số khả năng cơ bản của chúng, hãy cùng xem xét kỹ hơn lý do tại sao chúng hữu ích."
   ]
  },
  {
   "cell_type": "markdown",
   "id": "7796810a-d47e-4dc1-a749-bc6244a9a0ec",
   "metadata": {},
   "source": [
    "### **Tại sao sử dụng hàm?**"
   ]
  },
  {
   "cell_type": "markdown",
   "id": "b3e866b4-4ae5-4ce1-9074-44cea0bd9452",
   "metadata": {},
   "source": [
    "Lập trình viên mới thường hỏi, \"Chẳng phải chúng ta chỉ cần đặt tất cả mã bên trong hàm `main` sao?\" Đối với các chương trình đơn giản, bạn hoàn toàn có thể làm được điều đó. Tuy nhiên, hàm cung cấp một số lợi ích khiến chúng cực kỳ hữu ích trong các chương trình có độ dài hoặc phức tạp không tầm thường."
   ]
  },
  {
   "cell_type": "markdown",
   "id": "74abbc8a-0c67-4d06-a6fd-7ed83981ba63",
   "metadata": {},
   "source": [
    "**1**. **Tổ chức** - Khi chương trình ngày càng phức tạp, việc chứa tất cả mã bên trong hàm `main` sẽ trở nên phức tạp hơn. Hàm gần giống như một chương trình nhỏ mà chúng ta có thể viết riêng biệt với chương trình chính, mà không cần phải nghĩ đến phần còn lại của chương trình trong khi viết. Điều này cho phép chúng ta phân tách một chương trình phức tạp thành các phần nhỏ hơn, dễ quản lý hơn, giúp giảm thiểu tổng thể tính phức tạp của chương trình."
   ]
  },
  {
   "cell_type": "markdown",
   "id": "220bb7b7-c82b-4fe3-8cc1-91c64121fc92",
   "metadata": {},
   "source": [
    "**2**. **Tái sử dụng** - Sau khi một hàm được viết, nó có thể được gọi nhiều lần từ bên trong chương trình. Điều này tránh được việc sao chép mã (**\"Đừng lặp lại chính mình\"**) và giảm thiểu khả năng xảy ra lỗi sao chép/dán. Hàm cũng có thể được chia sẻ với các chương trình khác, giúp giảm lượng mã phải viết từ đầu (và kiểm tra lại) mỗi lần."
   ]
  },
  {
   "cell_type": "markdown",
   "id": "30d146b3-fc80-4242-b5ba-bf62d23945ef",
   "metadata": {},
   "source": [
    "**3**. **Kiểm thử** - Do hàm giảm thiểu sự trùng lặp mã, nên ngay từ đầu sẽ có ít mã hơn để kiểm thử. Ngoài ra, vì các hàm là các đơn vị độc lập, nên một khi chúng ta đã kiểm thử một hàm để đảm bảo nó hoạt động, chúng ta không cần phải kiểm thử lại trừ khi chúng ta thay đổi nó. Điều này làm giảm lượng mã chúng ta phải kiểm thử cùng một lúc, giúp việc tìm lỗi (hoặc tránh lỗi ngay từ đầu) dễ dàng hơn nhiều.\n",
    "\n"
   ]
  },
  {
   "cell_type": "markdown",
   "id": "a354b3bc-3402-4601-8413-92f50e5f8623",
   "metadata": {},
   "source": [
    "**4**. **Mở rộng** - Khi chúng ta cần mở rộng chương trình để xử lý một trường hợp mà trước đây nó không xử lý được, hàm cho phép chúng ta thực hiện thay đổi ở một vị trí và thay đổi đó sẽ có hiệu lực mỗi lần hàm được gọi."
   ]
  },
  {
   "cell_type": "markdown",
   "id": "a9b21bb4-d071-46a7-b32e-aae0ec2bc848",
   "metadata": {},
   "source": [
    "**5**. **Trừu tượng** - Để sử dụng một hàm, bạn chỉ cần biết tên, đầu vào, đầu ra và vị trí của nó. Bạn không cần biết cách hoạt động của nó hoặc mã khác mà nó phụ thuộc để sử dụng nó. Điều này làm giảm lượng kiến thức cần thiết để sử dụng mã của người khác (bao gồm mọi thứ trong thư viện chuẩn)."
   ]
  },
  {
   "cell_type": "markdown",
   "id": "2664c2c9-7f3c-40da-9acd-8ff96cba944a",
   "metadata": {},
   "source": [
    "### **Sử dụng hàm hiệu quả**"
   ]
  },
  {
   "cell_type": "markdown",
   "id": "2612bdc6-002a-4686-9dea-6a4b3f54288a",
   "metadata": {},
   "source": [
    "Một trong những thách thức lớn nhất mà lập trình viên mới gặp phải (bên cạnh việc học ngôn ngữ) là hiểu khi nào và làm thế nào để sử dụng hàm một cách hiệu quả. Dưới đây là một vài hướng dẫn cơ bản để viết hàm:"
   ]
  },
  {
   "cell_type": "markdown",
   "id": "fb7ac310-ba6a-43bd-bf4e-fa4056364f97",
   "metadata": {},
   "source": [
    "- Nhóm các câu lệnh xuất hiện nhiều lần trong chương trình thường nên được chuyển thành một hàm. Ví dụ, nếu chúng ta đang đọc dữ liệu nhập từ người dùng nhiều lần theo cùng một cách, đó là một ứng dụng tuyệt vời cho hàm. Nếu chúng ta xuất ra thứ gì đó theo cùng một cách ở nhiều vị trí khác nhau, thì đó cũng là một ứng dụng tuyệt vời cho hàm."
   ]
  },
  {
   "cell_type": "markdown",
   "id": "f7f6d648-c2da-4d58-899e-7bfa4fdb5c72",
   "metadata": {},
   "source": [
    "- Mã có một tập hợp đầu vào và đầu ra được xác định rõ ràng là một ứng cử viên cho hàm (đặc biệt nếu nó phức tạp). Ví dụ, nếu chúng ta có một danh sách các mục mà chúng ta muốn sắp xếp, thì mã để thực hiện việc sắp xếp sẽ tạo ra một hàm tuyệt vời, ngay cả khi nó chỉ được thực hiện một lần. Đầu vào là danh sách chưa được sắp xếp và đầu ra là danh sách đã được sắp xếp. Một hàm tiềm năng tốt khác là mã mô phỏng việc lăn một con xúc xắc 6 mặt. Chương trình hiện tại của bạn chỉ có thể sử dụng nó ở một vị trí, nhưng nếu bạn biến nó thành một hàm, nó đã sẵn sàng để được tái sử dụng nếu sau này bạn mở rộng chương trình hoặc trong một chương trình tương lai."
   ]
  },
  {
   "cell_type": "markdown",
   "id": "a8fb9cc1-a2c0-4cca-86f4-1e0b3e8adf71",
   "metadata": {},
   "source": [
    "- Một hàm thường nên thực hiện một (và chỉ một) tác vụ."
   ]
  },
  {
   "cell_type": "markdown",
   "id": "e6cadee4-a1e5-4c38-8d9c-6b066deaa10d",
   "metadata": {},
   "source": [
    "- Khi một hàm trở nên quá dài, quá phức tạp hoặc khó hiểu, nó có thể được chia thành nhiều hàm phụ. Đây được gọi là **refactoring (tái cấu trúc)**. Chúng tôi sẽ thảo luận thêm về tái cấu trúc trong **bài học 3.10 - Tìm ra vấn đề trước khi chúng trở thành rắc rối.**\n"
   ]
  },
  {
   "cell_type": "markdown",
   "id": "e3ab610d-b433-4092-8cfd-751fa5d63da5",
   "metadata": {},
   "source": [
    "Thông thường, khi học C++, bạn sẽ viết nhiều chương trình liên quan đến 3 nhiệm vụ phụ:\n",
    "\n",
    "- Đọc dữ liệu nhập từ người dùng\n",
    "- Tính toán một giá trị từ các đầu vào\n",
    "- In ra giá trị đã tính toán\n",
    "\n",
    "Đối với các chương trình đơn giản (ví dụ: ít hơn 20 dòng code), một số hoặc tất cả các nhiệm vụ này có thể được thực hiện trong hàm main. Tuy nhiên, đối với các chương trình dài hơn (hoặc chỉ để thực hành), mỗi nhiệm vụ này đều là một ứng dụng tuyệt vời cho một hàm riêng lẻ."
   ]
  },
  {
   "cell_type": "markdown",
   "id": "d5cfa5d6-7cd1-424b-8b88-1414a0943b34",
   "metadata": {},
   "source": [
    "### **Sai lầm của lập trình viên mới**"
   ]
  },
  {
   "cell_type": "markdown",
   "id": "4924af87-a521-4f4f-a1fa-4efed402f4d3",
   "metadata": {},
   "source": [
    "Lập trình viên mới thường kết hợp việc tính toán giá trị và in ra giá trị đã tính toán thành một hàm duy nhất. Tuy nhiên, điều này vi phạm quy tắc “chỉ một nhiệm vụ” cho các hàm. Một hàm tính toán giá trị nên trả về giá trị đó cho hàm gọi và để hàm gọi quyết định làm gì với giá trị đã tính toán (chẳng hạn như gọi một hàm khác để in ra giá trị)."
   ]
  },
  {
   "cell_type": "markdown",
   "id": "8d1fb827-3780-4cbe-a354-e8278552e11f",
   "metadata": {
    "jp-MarkdownHeadingCollapsed": true
   },
   "source": [
    "## **Bài 2.7: <u>Tiền khai báo và Định nghĩa Hàm (Forward declarations and Definitions of Functions)</u>**"
   ]
  },
  {
   "cell_type": "markdown",
   "id": "7ea22ebd-f1e0-4274-be22-121efe95219e",
   "metadata": {},
   "source": [
    "### **Giới thiệu:** "
   ]
  },
  {
   "cell_type": "markdown",
   "id": "754179c9-b037-48c9-9387-ef3137797c85",
   "metadata": {},
   "source": [
    "Hãy xem xét chương trình mẫu có vẻ vô hại này:\n",
    "\n",
    ">```\n",
    ">#include <iostream>\n",
    ">\n",
    ">int main()\n",
    ">{\n",
    ">    std::cout << \"Tổng của 3 và 4 là: \" << add(3, 4) << '\\n';\n",
    ">    return 0;\n",
    ">}\n",
    ">\n",
    ">int add(int x, int y)\n",
    ">{\n",
    ">    return x + y;\n",
    ">}\n",
    ">```\n",
    "\n",
    "Bạn mong đợi chương trình này sẽ trả về kết quả:\n",
    ">`Tổng của 3 và 4 là: 7`"
   ]
  },
  {
   "cell_type": "markdown",
   "id": "289b835f-1e7c-40d4-b0af-d576200d8687",
   "metadata": {},
   "source": [
    "Nhưng trên thực tế, nó không thể biên dịch được! Visual Studio tạo ra lỗi biên dịch sau:\n",
    ">`add.cpp(5) : error C3861: 'add': identifier not found`\n",
    "\n",
    "Đối với trình biên dịch GCC:\n",
    ">```\n",
    ">2_7notForwardDeclareFunc.cpp: In function ‘int main()’:\n",
    ">2_7notForwardDeclareFunc.cpp:4:44: error: ‘add’ was not declared in \n",
    ">this scope\n",
    ">    4 |     std::cout << \"Tổng của 3 và 4 là: \" << add(3,4) << '\\n';\n",
    ">      |                                            ^~~\n",
    ">```\n"
   ]
  },
  {
   "cell_type": "markdown",
   "id": "602181a3-ba0a-4121-807d-af190c000773",
   "metadata": {},
   "source": [
    "### **Xử lý vấn đề:** "
   ]
  },
  {
   "cell_type": "markdown",
   "id": "941cd75a-be2a-4a27-ace0-e2ad71c7d07a",
   "metadata": {},
   "source": [
    "Để khắc phục sự cố này, chúng ta cần giải quyết vấn đề là trình biên dịch không biết `add` là gì. Có hai cách phổ biến để giải quyết vấn đề."
   ]
  },
  {
   "cell_type": "markdown",
   "id": "c9b4ca31-a12d-4358-a07b-0b5aa205e353",
   "metadata": {},
   "source": [
    "#### *<u>Cách 1: Sắp xếp lại định nghĩa hàm</u>*\n",
    "\n"
   ]
  },
  {
   "cell_type": "markdown",
   "id": "b36a2ef2-4e53-4860-8a8a-af688c586872",
   "metadata": {},
   "source": [
    "Một cách để giải quyết vấn đề là sắp xếp lại các định nghĩa hàm để add được định nghĩa trước `main`:\n",
    "\n",
    ">```\n",
    ">#include <iostream>\n",
    ">\n",
    ">int add(int x, int y)\n",
    ">{\n",
    ">    return x + y;\n",
    ">}\n",
    ">\n",
    ">int main()\n",
    ">{\n",
    ">    std::cout << \"Tổng của 3 và 4 là: \" << add(3, 4) << '\\n';\n",
    ">    return 0;\n",
    ">}\n",
    ">```\n",
    "\n",
    "Bằng cách đó, vào thời điểm `main` gọi `add`, trình biên dịch sẽ đã biết `add` là gì. Bởi vì đây là một chương trình đơn giản nên việc thay đổi này tương đối dễ dàng thực hiện. Tuy nhiên, trong một chương trình lớn hơn, việc cố gắng tìm ra hàm nào gọi các hàm khác (và theo thứ tự nào) để chúng có thể được khai báo tuần tự có thể tốn nhiều công sức.\n",
    "\n",
    "Hơn nữa, tùy chọn này không phải lúc nào cũng khả thi. Giả sử chúng ta đang viết một chương trình có hai hàm `A` và `B`. Nếu hàm `A` gọi hàm `B` và hàm `B` gọi hàm `A`, thì không có cách nào để sắp xếp các hàm theo cách làm cho trình biên dịch hài lòng. Nếu bạn định nghĩa `A` trước, trình biên dịch sẽ phàn nàn rằng nó không biết `B` là gì. Nếu bạn định nghĩa `B` trước, trình biên dịch sẽ phàn nàn rằng nó không biết `A` là gì.\n",
    "\n"
   ]
  },
  {
   "cell_type": "markdown",
   "id": "19019803-37b6-4037-8b02-1e62e905e771",
   "metadata": {},
   "source": [
    "#### *<u>Cách 2: Sử dụng tiền khai báo</u>*"
   ]
  },
  {
   "cell_type": "markdown",
   "id": "f946030d-e661-439f-aeef-fcccee2981cd",
   "metadata": {},
   "source": [
    "Chúng ta cũng có thể khắc phục sự cố này bằng cách sử dụng tiền khai báo.\n",
    "\n",
    "**Tiền khai báo (forward declaration)** cho phép chúng ta thông báo với trình biên dịch về sự tồn tại của một định danh trước khi thực sự định nghĩa định danh đó.\n",
    "\n",
    "Đối với các hàm, điều này cho phép chúng ta thông báo với trình biên dịch về sự tồn tại của một hàm trước khi chúng ta định nghĩa thân hàm. Bằng cách này, khi trình biên dịch gặp phải một lệnh gọi đến hàm, nó sẽ hiểu rằng chúng ta đang thực hiện một lệnh gọi hàm và có thể kiểm tra để đảm bảo chúng ta đang gọi hàm chính xác, ngay cả khi nó chưa biết hàm được định nghĩa như thế nào hoặc ở đâu."
   ]
  },
  {
   "cell_type": "markdown",
   "id": "4f81115a-a690-4169-9ebd-9f16c0ef4bb9",
   "metadata": {},
   "source": [
    "Để viết tiền khai báo cho một hàm, chúng ta sử dụng một câu lệnh khai báo hàm được gọi là **nguyên mẫu hàm**. **Nguyên mẫu hàm** bao gồm: **kiểu trả về, tên và kiểu tham số của hàm**, được kết thúc bằng **dấu chấm phẩy**. Tên của các tham số có thể tùy chọn. Thân hàm không được bao gồm trong khai báo."
   ]
  },
  {
   "cell_type": "markdown",
   "id": "96cdf595-cd93-4c82-b30d-ec5c69096917",
   "metadata": {},
   "source": [
    "Đây là nguyên mẫu hàm cho hàm `add`:\n",
    "\n",
    ">```\n",
    ">int add(int x, int y); // Nguyên mẫu hàm bao gồm kiểu trả về, tên, tham số và dấu chấm phẩy. Không có thân hàm!\n",
    ">```\n"
   ]
  },
  {
   "cell_type": "markdown",
   "id": "29bb341b-f80a-4560-9467-4bc0c6498d75",
   "metadata": {},
   "source": [
    "Ta sẽ sử dụng tiền khai báo để xử lí ví dụ ở đầu bài: "
   ]
  },
  {
   "cell_type": "markdown",
   "id": "b9527959-9e50-4b35-9951-720bc62fd81c",
   "metadata": {},
   "source": [
    ">```\n",
    ">#include <iostream>\n",
    ">\n",
    ">int add(int x, int y); // Tiền khai báo add() (sử dụng nguyên mẫu hàm)\n",
    ">\n",
    ">int main()\n",
    ">{\n",
    ">    std::cout << \"Tổng của 3 và 4 là: \" << add(3, 4) << '\\n'; // Điều này hoạt động vì chúng ta đã viết tiền khai báo cho add() ở trên\n",
    ">    return 0;\n",
    ">}\n",
    ">\n",
    ">int add(int x, int y) // Mặc dù thân hàm của add() không được định nghĩa cho đến đây\n",
    ">{\n",
    ">    return x + y;\n",
    ">}\n",
    ">```"
   ]
  },
  {
   "cell_type": "markdown",
   "id": "efb181e7-0524-4d4f-997b-cfacd4a9e149",
   "metadata": {},
   "source": [
    "Bây giờ, khi trình biên dịch đến lệnh gọi `add` trong `main`, nó sẽ biết `add` trông như thế nào (một hàm nhận hai tham số kiểu số nguyên và trả về một giá trị kiểu số nguyên), và nó sẽ không phàn nàn.\n",
    "\n",
    "Điều đáng chú ý là nguyên mẫu hàm không cần chỉ định tên của các tham số (vì chúng không được coi là một phần của khai báo hàm). Trong đoạn mã ở trên, bạn cũng có thể khai báo trước hàm của mình như thế này:\n",
    "\n",
    ">`int add(int, int); // Khai báo hàm hợp lệ`\n",
    "\n",
    "Tuy nhiên, chúng tôi thích đặt tên cho các tham số của mình (sử dụng cùng tên với hàm thực tế). Điều này cho phép bạn hiểu các tham số của hàm chỉ bằng cách nhìn vào khai báo. Ví dụ: nếu bạn nhìn thấy khai báo `void doSomething(int, int, int)`, bạn có thể nghĩ rằng bạn nhớ mỗi tham số đại diện cho cái gì, nhưng bạn cũng có thể hiểu sai.\n",
    "\n",
    "Ngoài ra, nhiều công cụ tạo tài liệu tự động sẽ tạo tài liệu từ nội dung của các tệp header, đây là nơi các khai báo thường được đặt. Chúng tôi thảo luận về các tệp header và khai báo trong bài học **2.11 - Tệp header.**\n"
   ]
  },
  {
   "cell_type": "markdown",
   "id": "bd56c789-f676-4006-a356-25e422b3556d",
   "metadata": {},
   "source": [
    ">**Thực hành tốt nhất**<br>\n",
    ">Giữ lại tên tham số trong tiền khai báo hàm của bạn.\n",
    "\n",
    ">**Mẹo:**<br>\n",
    ">Bạn có thể dễ dàng tạo các tiền khai báo hàm bằng cách sao chép/dán tiêu đề hàm của bạn và thêm dấu chấm phẩy."
   ]
  },
  {
   "cell_type": "markdown",
   "id": "11276ed9-beef-4b55-8364-df20ba69de4a",
   "metadata": {},
   "source": [
    "### **Tại sao sử dụng khai báo trước?**"
   ]
  },
  {
   "cell_type": "markdown",
   "id": "89ba780e-fc4f-43d0-b0df-66f6afaa29fe",
   "metadata": {},
   "source": [
    "Bạn có thể tự hỏi tại sao chúng ta lại sử dụng tiền khai báo nếu chúng ta có thể sắp xếp lại các hàm để làm cho chương trình của chúng ta hoạt động.\n",
    "\n",
    "Thông thường, tiền khai báo được sử dụng để thông báo cho trình biên dịch về sự tồn tại của một số hàm được định nghĩa trong một tệp mã khác. Sắp xếp lại không thể thực hiện được trong trường hợp này vì hàm gọi và hàm được gọi nằm trong các tệp hoàn toàn khác nhau! Chúng tôi sẽ thảo luận về điều này chi tiết hơn trong bài học tiếp theo **(2.8 - Chương trình với nhiều tệp mã).**\n",
    "\n",
    "Tiền khai báo cũng có thể được sử dụng để định nghĩa các hàm của chúng ta theo cách không phụ thuộc vào thứ tự. Điều này cho phép chúng ta định nghĩa các hàm theo bất kỳ thứ tự nào để tối đa hóa tổ chức (ví dụ: bằng cách nhóm các hàm liên quan lại với nhau) hoặc theo sự hiểu biết của người đọc.\n",
    "\n",
    "Ít phổ biến hơn, có những trường hợp khi chúng ta có hai hàm gọi lẫn nhau. Sắp xếp lại cũng không thể thực hiện được trong trường hợp này, vì không có cách nào để sắp xếp lại các hàm sao cho mỗi hàm xuất hiện trước hàm kia. Tiền khai báo cung cấp cho chúng ta một cách để giải quyết các phụ thuộc theo vòng tròn như vậy."
   ]
  },
  {
   "cell_type": "markdown",
   "id": "0f325173-fc77-47da-9f0b-78fef5ab9736",
   "metadata": {},
   "source": [
    "### **Quên Thân Hàm**"
   ]
  },
  {
   "cell_type": "markdown",
   "id": "20918e5a-bece-49e9-9e79-22d5ebfefd47",
   "metadata": {},
   "source": [
    "Lập trình viên mới thường tự hỏi điều gì sẽ xảy ra nếu họ tiền khai báo một hàm nhưng không định nghĩa nó.\n",
    "\n",
    "Câu trả lời là: phụ thuộc. Nếu tiền khai báo được thực hiện, nhưng hàm không bao giờ được gọi, chương trình sẽ biên dịch và chạy tốt. Tuy nhiên, nếu tiền khai báo được thực hiện và hàm được gọi, nhưng chương trình không bao giờ định nghĩa hàm, thì chương trình sẽ biên dịch ổn, nhưng trình liên kết sẽ phàn nàn rằng nó không thể giải quyết lệnh gọi hàm.\n",
    "\n",
    "Xem xét chương trình sau:\n",
    "\n",
    ">```\n",
    ">#include <iostream>\n",
    ">\n",
    ">int add(int x, int y); // Khai báo trước add()\n",
    ">\n",
    ">int main()\n",
    ">{\n",
    ">    std::cout << \"Tổng của 3 và 4 là: \" << add(3, 4) << '\\n';\n",
    ">    return 0;\n",
    ">}\n",
    ">\n",
    ">// Lưu ý: Không có định nghĩa cho hàm add\n",
    ">```\n",
    "\n",
    "Trong chương trình này, chúng tôi khai báo trước `add`, và chúng tôi gọi `add`, nhưng chúng tôi không bao giờ định nghĩa `add` ở bất kỳ đâu. Khi chúng tôi cố gắng biên dịch chương trình này, Visual Studio tạo ra thông báo sau:\n",
    "\n",
    ">```\n",
    ">Compiling...\n",
    ">add.cpp\n",
    ">Linking...\n",
    ">add.obj : error LNK2001: unresolved external symbol \"int __cdecl add(int,int)\" (?add@@YAHHH@Z)\n",
    ">add.exe : fatal error LNK1120: 1 unresolved externals\n",
    ">```\n",
    "\n",
    "\n",
    "Như bạn có thể thấy, chương trình đã được biên dịch bình thường, nhưng nó bị lỗi ở giai đoạn liên kết vì `int add(int, int)` không bao giờ được định nghĩa."
   ]
  },
  {
   "cell_type": "markdown",
   "id": "89b9fdf3-76b3-4a1e-adb2-2c8983a6e810",
   "metadata": {},
   "source": [
    "### **Các loại tiền khai báo khác**"
   ]
  },
  {
   "cell_type": "markdown",
   "id": "c492c79a-9583-44c3-84ad-8c9c1ff63475",
   "metadata": {},
   "source": [
    "Tiền khai báo thường được sử dụng nhất với các hàm. Tuy nhiên, tiền khai báo cũng có thể được sử dụng với các định danh khác trong C++, chẳng hạn như biến và kiểu dữ liệu. Biến và kiểu dữ liệu có cú pháp tiền khai báo khác nhau, vì vậy chúng tôi sẽ đề cập đến chúng trong các bài học sau."
   ]
  },
  {
   "cell_type": "markdown",
   "id": "dae7dc99-8297-473e-b679-d4a48a7a5a67",
   "metadata": {},
   "source": [
    "### **Khai báo vs. Định nghĩa**"
   ]
  },
  {
   "cell_type": "markdown",
   "id": "0bd30045-27c0-4e15-8f25-286ca5ef992d",
   "metadata": {},
   "source": [
    "Trong C++, bạn sẽ thường xuyên nghe thấy các từ **\"khai báo\"** và **\"định nghĩa\"** được sử dụng, và thường được sử dụng thay thế cho nhau. Chúng có nghĩa là gì? Bây giờ bạn đã có đủ kiến thức cơ bản để hiểu sự khác biệt giữa hai điều này.\n",
    "\n",
    "**Khai báo (declaration)** thông báo cho trình biên dịch về sự tồn tại của một định danh và thông tin kiểu liên quan của nó. Dưới đây là một số ví dụ về khai báo:\n",
    ">```\n",
    ">int add(int x, int y); // Thông báo cho trình biên dịch về một hàm có tên \"add\" nhận hai tham số kiểu int và trả về một kiểu int. Không có thân hàm!\n",
    ">int x;                 // Thông báo cho trình biên dịch về một biến kiểu int có tên x\n",
    ">```\n",
    "\n",
    "**Định nghĩa (definition)** cung cấp cho trình biên dịch thông tin chi tiết về cách thức hoạt động của định danh. Nó bao gồm cả **khai báo** và **cung cấp phần thân (implementation)** của định danh. Phần thân cho trình biên dịch biết cách thực thi các hàm, khởi tạo biến, hoặc cấu trúc lớp.\n",
    "\n",
    ">```\n",
    ">int x = 10; // Định nghĩa biến `x` kiểu `int` và gán giá trị 10\n",
    ">void printMessage() {\n",
    ">  std::cout << \"Hello, World!\" << std::endl;\n",
    ">}\n",
    ">class Person {\n",
    ">public:\n",
    ">  std::string name;\n",
    ">  int age;\n",
    ">};\n",
    ">```"
   ]
  },
  {
   "cell_type": "markdown",
   "id": "4acff21d-f3ee-44ff-a3b4-985d81749a0b",
   "metadata": {},
   "source": [
    "Trong C++, tất cả định nghĩa đều là khai báo. Do đó `int x;` vừa là định nghĩa vừa là khai báo.\n",
    "\n",
    "Ngược lại, không phải tất cả các khai báo đều là định nghĩa. Khai báo không phải là định nghĩa được gọi là **khai báo thuần túy (pure declaration)**. Các loại khai báo thuần túy bao gồm tiền khai báo cho hàm, biến và kiểu dữ liệu.\n",
    "\n",
    ">**Thuật ngữ**<br>\n",
    ">Trong ngôn ngữ thông thường, thuật ngữ **\"khai báo\"** thường được dùng để chỉ **\"khai báo thuần túy\"**, và **\"định nghĩa\"** được dùng để chỉ **\"định nghĩa đồng thời là khai báo\"**. Do đó, chúng ta thường gọi `int x;` là một định nghĩa, mặc dù nó vừa là định nghĩa vừa là khai báo.\n",
    "\n",
    "Khi trình biên dịch gặp một định danh, nó sẽ kiểm tra để đảm bảo việc sử dụng định danh đó hợp lệ (ví dụ: định danh đó nằm trong phạm vi, nó được sử dụng theo cách cú pháp hợp lệ, v.v.).\n",
    "\n",
    "Trong hầu hết các trường hợp, khai báo là đủ để cho phép trình biên dịch đảm bảo định danh đang được sử dụng đúng cách. Ví dụ, khi trình biên dịch gặp lệnh gọi hàm `add(5, 6)`, nếu nó đã thấy khai báo cho `add(int, int)`, thì nó có thể xác nhận rằng `add` thực sự là một hàm nhận hai tham số kiểu `int`. Nó không cần thực sự thấy định nghĩa của hàm `add` (có thể nằm trong một tệp khác).\n",
    "\n",
    "Tuy nhiên, có một vài trường hợp trình biên dịch phải có thể nhìn thấy định nghĩa đầy đủ để sử dụng một định danh (chẳng hạn như đối với định nghĩa **khuôn mẫu (template)** và định nghĩa **kiểu dữ liệu**, cả hai đều sẽ được thảo luận trong các bài học sau)."
   ]
  },
  {
   "cell_type": "markdown",
   "id": "0d418ba1-79ca-48b2-99d5-d95e0845a61e",
   "metadata": {},
   "source": [
    "**Tóm lại:**\n",
    "- Khai báo chỉ thông báo cho trình biên dịch về sự tồn tại của một định danh.\n",
    "- Định nghĩa cung cấp cho trình biên dịch thông tin chi tiết về cách thức hoạt động của định danh.\n",
    "- Định nghĩa bao gồm cả khai báo.\n",
    "\n",
    "**Lưu ý:**\n",
    "\n",
    "- Không phải tất cả các định danh đều cần được định nghĩa. Ví dụ, bạn có thể tiền khai báo một hàm mà không cần định nghĩa nó, và trình biên dịch sẽ cho phép bạn sử dụng tên hàm trong biểu thức. Tuy nhiên, bạn sẽ không thể thực sự gọi hàm cho đến khi nó được định nghĩa.\n",
    "- Trong một số trường hợp, bạn có thể thấy các thuật ngữ **\"khai báo nguyên mẫu\" (prototype declaration)** và **\"khai báo hàm\" (function declaration)** được sử dụng thay thế cho nhau. Cả hai đều đề cập đến việc khai báo một hàm mà không cung cấp phần thân của nó."
   ]
  },
  {
   "cell_type": "markdown",
   "id": "2a5f152e-407b-4a64-9996-e49ea2fdf22e",
   "metadata": {},
   "source": [
    "### **Quy tắc định nghĩa một lần (One definition rule hay ODR)**\n",
    " "
   ]
  },
  {
   "cell_type": "markdown",
   "id": "94fd451c-bc34-41db-afba-f3b31fe9100a",
   "metadata": {},
   "source": [
    "**Quy tắc định nghĩa một lần (ODR)** là một quy tắc nổi tiếng trong C++. **ODR** có ba phần:\n",
    "- **Trong một tệp:** Mỗi hàm, biến, kiểu hoặc khuôn mẫu chỉ có thể có một định nghĩa. Các định nghĩa xuất hiện trong các phạm vi khác nhau (ví dụ: biến cục bộ được định nghĩa bên trong các hàm khác nhau hoặc hàm được định nghĩa bên trong các không gian tên khác nhau) không vi phạm quy tắc này.\n",
    "- **Trong một chương trình:** Mỗi hàm hoặc biến chỉ có thể có một định nghĩa. Quy tắc này tồn tại vì các chương trình có thể có nhiều hơn một tệp (chúng tôi sẽ đề cập đến điều này trong bài học tiếp theo). Các hàm và biến không hiển thị với trình liên kết bị loại trừ khỏi quy tắc này (được thảo luận thêm trong bài học **7.6 - Liên kết nội bộ**).\n",
    "- **Kiểu, mẫu, hàm nội tuyến và biến nội tuyến** được phép có các định nghĩa trùng lặp trong các tệp khác nhau, miễn là mỗi định nghĩa đều giống hệt nhau. Chúng tôi chưa đề cập đến hầu hết những thứ này, vì vậy đừng lo lắng về điều này ngay bây giờ - chúng tôi sẽ quay lại vấn đề này khi nó có liên quan."
   ]
  },
  {
   "cell_type": "markdown",
   "id": "c9fe906a-94f1-4204-8b0e-083272da67ac",
   "metadata": {},
   "source": [
    "**Vi phạm phần 1** của ODR sẽ khiến trình biên dịch thông báo lỗi định nghĩa lại. **Vi phạm phần 2** của ODR sẽ khiến trình liên kết thông báo lỗi định nghĩa lại. **Vi phạm phần 3** của ODR sẽ dẫn đến hành vi bất định."
   ]
  },
  {
   "cell_type": "markdown",
   "id": "7f4457a8-eb35-4e9f-b992-8d7bbfa24acd",
   "metadata": {},
   "source": [
    "Đây là một ví dụ về việc vi phạm phần 1:\n",
    "\n",
    ">```\n",
    ">int add(int x, int y)\n",
    ">{\n",
    ">     return x + y;\n",
    ">}\n",
    ">\n",
    ">int add(int x, int y) // Vi phạm ODR, chúng ta đã định nghĩa hàm add(int, int)\n",
    ">{\n",
    ">     return x + y;\n",
    ">}\n",
    ">\n",
    ">int main()\n",
    ">{\n",
    ">    int x{};\n",
    ">    int x{ 5 }; // Vi phạm ODR, chúng ta đã định nghĩa x\n",
    ">}\n",
    ">```\n",
    "\n",
    "Trong ví dụ này, hàm `add(int, int)` được định nghĩa hai lần (trong phạm vi toàn cục) và biến cục bộ `int x` được định nghĩa hai lần (trong phạm vi của `main()`). Do đó, trình biên dịch Visual Studio thông báo các lỗi biên dịch sau:\n",
    "\n",
    ">```\n",
    ">project3.cpp(9): error C2084: function 'int add(int,int)' already has a body\n",
    ">project3.cpp(3): note: see previous definition of 'add'\n",
    ">project3.cpp(16): error C2086: 'int x': redefinition\n",
    ">project3.cpp(15): note: see declaration of 'x'\n",
    ">```\n",
    "\n",
    "Tuy nhiên, việc `main()` có biến cục bộ được định nghĩa là `int x` và `add()` cũng có tham số hàm được định nghĩa là `int x` thì không phải là vi phạm ODR phần 1. Các định nghĩa này xảy ra trong các phạm vi khác nhau (trong phạm vi của mỗi hàm tương ứng), vì vậy chúng được coi là các định nghĩa riêng biệt cho hai đối tượng riêng biệt, không phải là định nghĩa và định nghĩa lại của cùng một đối tượng.\n",
    "\n",
    ">**Đối với người đọc nâng cao**<br>\n",
    ">Các hàm có cùng một định danh nhưng có các bộ tham số khác nhau cũng được coi là các hàm riêng biệt, vì vậy các định nghĩa như vậy không vi phạm ODR. Chúng tôi sẽ thảo luận thêm về điều này trong bài học **11.1 - Giới thiệu về nạp chồng hàm**.\n",
    "\n"
   ]
  },
  {
   "cell_type": "markdown",
   "id": "f53401ed-8035-4d0c-9d73-44b0e1cbe178",
   "metadata": {},
   "source": [
    "## **Bài 2.8: <u>Chương trình với nhiều tệp mã</u>**"
   ]
  },
  {
   "cell_type": "markdown",
   "id": "1537127e-f4ac-4ae3-8423-89b8ac7a8196",
   "metadata": {},
   "source": [
    "Khi chương trình trở nên lớn hơn, việc chia chúng thành nhiều tệp khác nhau cho mục đích tổ chức hoặc tái sử dụng mã là điều thường thấy. Một lợi thế của việc làm việc với IDE là chúng giúp việc làm việc với nhiều tệp trở nên dễ dàng hơn nhiều. Bạn đã biết cách tạo và biên dịch các dự án tệp đơn. Thêm các tệp mới vào các dự án hiện có rất dễ dàng.\n",
    "\n",
    ">**Thực hành tốt nhất**<br>\n",
    ">Khi bạn thêm các tệp mã mới vào dự án của mình, hãy đặt cho chúng phần mở rộng .cpp"
   ]
  },
  {
   "cell_type": "markdown",
   "id": "3a70b7a2-5157-4b25-9e39-d983245720c5",
   "metadata": {},
   "source": [
    ">**Đối với người dùng Visual Studio:**\n",
    ">\n",
    ">Nhấp chuột phải vào thư mục **Source Files** (hoặc tên dự án) trong cửa sổ **Solution Explorer**, và chọn **Add > New Item…** (**Thêm > Thêm Mục Mới…**).\n",
    ">\n",
    ">![](VS-AddNewItem1.png)\n",
    ">\n",
    ">Kiểm tra xem bạn đã chọn **C++ File (.cpp)** (Tệp C++ (.cpp)) chưa. Đặt tên cho tệp mới và nó sẽ được thêm vào dự án của bạn.\n",
    ">\n",
    ">**Lưu ý:** Visual Studio của bạn có thể chọn hiển thị cho bạn chế độ xem gọn thay vì chế độ xem đầy đủ như được hiển thị ở trên. Bạn có thể sử dụng chế độ xem gọn hoặc nhấp vào **\"Show all Templates\"** (Hiển thị tất cả Mẫu) để chuyển sang chế độ xem đầy đủ.\n",
    ">\n",
    ">![](VS-AddNewItem2.webp)\n",
    ">\n",
    ">**Lưu ý:** Nếu bạn tạo một tệp mới từ menu **File** (Tệp) thay vì từ dự án của mình trong **Solution Explorer**, thì tệp mới sẽ không được tự động thêm vào dự án của bạn. Bạn sẽ phải thêm nó vào dự án theo cách thủ công. Để thực hiện việc này, hãy nhấp chuột phải vào **Source Files** trong **Solution Explorer**, chọn **Add > Existing Item** (Thêm > Mục Hiện Có), rồi chọn tệp của bạn.\n",
    ">\n",
    ">Bây giờ, khi bạn biên dịch chương trình của mình, bạn sẽ thấy trình biên dịch liệt kê tên tệp của mình khi nó biên dịch nó."
   ]
  },
  {
   "cell_type": "markdown",
   "id": "05df10f1-d582-448f-8123-fdf78027c947",
   "metadata": {},
   "source": [
    ">**Đối với người dùng Code::Blocks**\n",
    ">\n",
    ">Trong Code::Blocks, hãy đi tới menu **File** (Tệp) và chọn **New > File…** (Mới > Tệp…).\n",
    ">\n",
    ">![](CB-AddNewItem1.webp)\n",
    ">\n",
    ">Trong hộp thoại **New from template** (Mới từ mẫu), chọn **C/C++ source** (Nguồn C/C++) và nhấp vào **Go** (Đi).\n",
    ">\n",
    ">![](CB-AddNewItem2.png)\n",
    ">\n",
    ">Lúc này, bạn có thể thấy hoặc không thấy hộp thoại **welcome to the C/C++ source file wizard** (chào mừng đến trình hướng dẫn tệp nguồn C/C++). Nếu có, hãy nhấp vào **Next** (Tiếp theo).\n",
    ">\n",
    ">![](CB-AddNewItem3.webp)\n",
    ">\n",
    ">Trên trang tiếp theo của trình hướng dẫn, chọn \"**C++**\" và nhấp vào **Next** (Tiếp theo).\n",
    ">\n",
    ">![](CB-AddNewItem4.webp)\n",
    ">\n",
    ">Bây giờ, đặt tên cho tệp mới (đừng quên phần mở rộng .cpp), và nhấp vào nút **All** (Tất cả) để đảm bảo tất cả các mục tiêu xây dựng được chọn. Cuối cùng, chọn **Finish** (Hoàn thành).\n",
    ">\n",
    ">![](CB-AddNewItem5.webp)\n",
    ">\n",
    ">Bây giờ, khi bạn biên dịch chương trình của mình, bạn sẽ thấy trình biên dịch liệt kê tên tệp của mình khi nó biên dịch nó."
   ]
  },
  {
   "cell_type": "markdown",
   "id": "abddcbf3-ea15-4a04-8681-d7af4042d099",
   "metadata": {},
   "source": [
    ">**Đối với người dùng GCC/G++**\n",
    ">\n",
    ">Từ dòng lệnh, bạn có thể tự tạo tệp bổ sung bằng trình soạn thảo yêu thích của mình và đặt tên cho nó. Khi bạn biên dịch chương trình của mình, bạn cần bao gồm tất cả các tệp mã liên quan trên dòng biên dịch. Ví dụ: `g++ main.cpp add.cpp -o main` , trong đó `main.cpp` và `add.cpp` là tên các tệp mã của bạn và `main` là tên của tệp đầu ra.\n",
    "\n",
    ">**Đối với người dùng VS Code**\n",
    ">\n",
    ">Để tạo một tệp mới, chọn **View > Explorer** từ thanh điều hướng trên cùng để mở ngăn **Explorer**, sau đó nhấp vào biểu tượng **New File** (Tệp mới) ở bên phải tên dự án. Hoặc, chọn **File > New File** (Tệp > Tệp mới) từ thanh điều hướng trên cùng. Sau đó, đặt tên cho tệp mới của bạn (đừng quên phần mở rộng .cpp). Nếu tệp xuất hiện bên trong thư mục .vscode, hãy kéo nó lên một cấp tới thư mục dự án.\n",
    ">\n",
    ">Tiếp theo, hãy mở tệp `tasks.json` và tìm dòng `\"${file}\"`,.\n",
    ">\n",
    ">Bạn có hai lựa chọn ở đây:\n",
    ">\n",
    ">Nếu bạn muốn rõ ràng về việc các tệp nào được biên dịch, hãy thay thế `\"${file}\"`, bằng tên của từng tệp bạn muốn biên dịch, mỗi tệp trên một dòng, giống như này:\n",
    ">>```\n",
    ">>\"main.cpp\",\n",
    ">>\"add.cpp\",\n"
   ]
  },
  {
   "cell_type": "markdown",
   "id": "5610201c-e124-480c-af5a-cd82325b1706",
   "metadata": {},
   "source": [
    "### **Ví dụ về chương trình nhiều tệp mã**"
   ]
  },
  {
   "cell_type": "markdown",
   "id": "472c473f-8c6b-4846-a8d4-4d4e2ac91858",
   "metadata": {},
   "source": [
    "Trong bài học [**2.7 - Tiền khai báo và định nghĩa hàm**](lesson2_7.ipynb), chúng tôi đã xem xét một chương trình tệp đơn không thể biên dịch được:\n",
    ">```\n",
    ">#include <iostream>\n",
    ">\n",
    ">int main()\n",
    ">{\n",
    ">  std::cout << \"The sum of 3 and 4 is: \" << add(3, 4) << '\\n';\n",
    ">  return 0;\n",
    ">}\n",
    ">\n",
    ">int add(int x, int y)\n",
    ">{\n",
    ">  return x + y;\n",
    ">}\n",
    ">```\n",
    "\n",
    "Khi trình biên dịch đến lệnh gọi hàm `add` trên dòng *5* của `main`, nó không biết `add` là gì, bởi vì chúng tôi chưa định nghĩa `add` cho đến dòng *9*! Giải pháp của chúng tôi là sắp xếp lại các hàm (đặt `add` lên đầu) hoặc sử dụng **tiền khai báo** cho `add`.\n",
    "\n",
    "Bây giờ, chúng ta hãy xem xét một chương trình đa tệp tương tự:"
   ]
  },
  {
   "cell_type": "markdown",
   "id": "d3165e1d-59b5-4612-bda0-66204e705df1",
   "metadata": {},
   "source": [
    "**add.cpp:**\n",
    ">```\n",
    ">int add(int x, int y)\n",
    ">{\n",
    ">  return x + y;\n",
    ">}"
   ]
  },
  {
   "cell_type": "markdown",
   "id": "3af34c4c-8b98-45b4-8c8a-35c959f3dfe8",
   "metadata": {},
   "source": [
    "**main.cpp:**\n",
    ">```\n",
    ">#include <iostream>\n",
    ">\n",
    ">int main()\n",
    ">{\n",
    ">  std::cout << \"The sum of 3 and 4 is: \" << add(3, 4) << '\\n'; // lỗi biên dịch\n",
    ">  return 0;\n",
    ">}"
   ]
  },
  {
   "cell_type": "markdown",
   "id": "c84f942d-9cab-4501-a403-86738dacd485",
   "metadata": {},
   "source": [
    "Trình biên dịch của bạn có thể biên dịch `add.cpp` hoặc `main.cpp` trước. Dù bằng cách nào, `main.cpp` sẽ không thể biên dịch được, dẫn đến lỗi trình biên dịch giống như ví dụ trước:\n",
    ">`main.cpp(5) : error C3861: 'add': identifier not found`\n",
    "\n",
    "Lý do cũng chính xác như vậy: khi trình biên dịch đến dòng *5* của `main.cpp`, nó không biết định danh `add` là gì.\n",
    "\n",
    "Hãy nhớ rằng, trình biên dịch biên dịch từng tệp riêng lẻ. Nó không biết về nội dung của các tệp mã khác hoặc ghi nhớ bất kỳ điều gì nó đã thấy từ các tệp mã được biên dịch trước đó. Vì vậy, ngay cả khi trình biên dịch có thể đã thấy định nghĩa của hàm `add` trước đó (nếu nó biên dịch `add.cpp` trước), thì nó cũng không nhớ.\n",
    "\n",
    "Khả năng hiển thị hạn chế và bộ nhớ ngắn này là có chủ đích, vì một vài lý do:\n",
    "- Nó cho phép các tệp nguồn của một dự án được biên dịch theo bất kỳ thứ tự nào.\n",
    "- Khi chúng tôi thay đổi một tệp nguồn, chỉ tệp nguồn đó cần được biên dịch lại.\n",
    "- Nó giảm khả năng xung đột tên giữa các định danh trong các tệp khác nhau.\n",
    "\n",
    "Chúng tôi sẽ khám phá những gì xảy ra khi tên xung đột trong bài học tiếp theo ([**2.9 - Xung đột tên và Giới thiệu về Không gian tên**](lesson2_9.cpp)).\n",
    "\n",
    "Các tùy chọn giải pháp của chúng tôi ở đây giống như trước: đặt định nghĩa của hàm `add` trước hàm `main`, hoặc đáp ứng trình biên dịch bằng tiền khai báo. Trong trường hợp này, vì hàm `add` nằm trong một tệp khác, nên tùy chọn sắp xếp lại không khả thi."
   ]
  },
  {
   "cell_type": "markdown",
   "id": "dc428950-ff5c-48d4-a33f-9f41e999ea4c",
   "metadata": {},
   "source": [
    "Giải pháp ở đây là sử dụng tiền khai báo:\n",
    "\n",
    "**main.cpp (với tiền khai báo):**\n",
    ">```\n",
    ">#include <iostream>\n",
    ">\n",
    ">int add(int x, int y); // cần thiết để main.cpp biết rằng add() là một hàm được định nghĩa ở nơi khác\n",
    ">\n",
    ">int main()\n",
    ">{\n",
    ">  std::cout << \"The sum of 3 and 4 is: \" << add(3, 4) << '\\n';\n",
    ">  return 0;\n",
    ">}\n",
    "\n",
    "**add.cpp**\n",
    ">```\n",
    ">int add(int x, int y)\n",
    ">{\n",
    ">  return x + y;\n",
    ">}\n",
    "\n",
    "Bây giờ, khi trình biên dịch đang biên dịch `main.cpp`, nó sẽ biết định danh `add` là gì và hài lòng. Trình liên kết sẽ kết nối lệnh gọi hàm `add` trong `main.cpp` với định nghĩa của hàm `add` trong `add.cpp`.\n",
    "\n",
    "Sử dụng phương pháp này, chúng ta có thể cho các tệp truy cập vào các hàm nằm trong một tệp khác.\n",
    "\n",
    "Hãy thử tự biên dịch `add.cpp` và `main.cpp` với tiền khai báo. Nếu bạn gặp lỗi trình liên kết, hãy đảm bảo bạn đã thêm `add.cpp` vào dự án hoặc dòng biên dịch của mình một cách chính xác."
   ]
  },
  {
   "cell_type": "markdown",
   "id": "bf7af9bf-7f92-4dd4-8a50-7fca94becc6f",
   "metadata": {},
   "source": [
    ">**Mẹo**<br>\n",
    ">Do trình biên dịch biên dịch từng tệp mã riêng lẻ (và sau đó quên những gì nó đã thấy), mỗi tệp mã sử dụng `std::cout` hoặc `std::cin` đều cần `#include <iostream>`.\n",
    ">\n",
    ">Trong ví dụ trên, nếu `add.cpp` sử dụng `std::cout` hoặc `std::cin`, thì nó cũng cần `#include <iostream>`.\n",
    "\n",
    ">**Kiến thức trọng tâm**<br>\n",
    ">Khi một định danh được sử dụng trong một biểu thức, định danh đó phải được kết nối với định nghĩa của nó.\n",
    ">- Nếu trình biên dịch không thấy khai báo trước hoặc định nghĩa cho định danh trong tệp đang được biên dịch, thì nó sẽ báo lỗi tại điểm mà định danh được sử dụng.\n",
    ">- Hoặc là, nếu định nghĩa tồn tại trong cùng một tệp, trình biên dịch sẽ kết nối việc sử dụng định danh với định nghĩa của nó.\n",
    ">- Hoặc là, nếu định nghĩa tồn tại trong một tệp khác (và trình liên kết có thể nhìn thấy), thì trình liên kết sẽ kết nối việc sử dụng định danh với định nghĩa của nó.\n",
    ">\n",
    ">Nếu không thì cuối cùng, trình liên kết sẽ báo lỗi cho biết nó không thể tìm thấy định nghĩa cho định danh.\n"
   ]
  },
  {
   "cell_type": "code",
   "execution_count": null,
   "id": "e3be3364-a3cf-4fdb-ba63-58ac27517d5c",
   "metadata": {},
   "outputs": [],
   "source": []
  }
 ],
 "metadata": {
  "kernelspec": {
   "display_name": "Python 3 (ipykernel)",
   "language": "python",
   "name": "python3"
  },
  "language_info": {
   "codemirror_mode": {
    "name": "ipython",
    "version": 3
   },
   "file_extension": ".py",
   "mimetype": "text/x-python",
   "name": "python",
   "nbconvert_exporter": "python",
   "pygments_lexer": "ipython3",
   "version": "3.12.2"
  }
 },
 "nbformat": 4,
 "nbformat_minor": 5
}
