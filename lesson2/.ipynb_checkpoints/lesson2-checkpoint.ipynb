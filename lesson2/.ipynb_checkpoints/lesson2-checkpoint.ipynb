{
 "cells": [
  {
   "cell_type": "markdown",
   "id": "a8e97dfe-55ee-4fb5-8109-8867dfa74b42",
   "metadata": {},
   "source": [
    "## **Bài 2.1: <u>Giới thiệu về hàm</u>**"
   ]
  },
  {
   "cell_type": "markdown",
   "id": "252b9ebd-aee7-4303-9b25-2cc53903bf3b",
   "metadata": {},
   "source": [
    "Trong chương trước, chúng ta đã định nghĩa hàm là một tập hợp các câu lệnh được thực thi tuần tự. Mặc dù điều đó hoàn toàn đúng, nhưng định nghĩa đó không cung cấp nhiều thông tin chi tiết về lý do tại sao hàm lại hữu ích. Hãy cập nhật định nghĩa của chúng ta: **Hàm** là một chuỗi các câu lệnh có thể tái sử dụng được thiết kế để thực hiện một công việc cụ thể."
   ]
  },
  {
   "cell_type": "markdown",
   "id": "4ae355fc-df73-4c64-86c2-73588f301cb4",
   "metadata": {},
   "source": [
    "Bạn đã biết rằng mọi chương trình thực thi đều phải có một hàm được đặt tên là `main` (chính là nơi chương trình bắt đầu thực thi khi được chạy). Tuy nhiên, khi chương trình bắt đầu trở nên dài hơn, việc đặt tất cả code bên trong hàm main sẽ ngày càng khó quản lý. Hàm cung cấp một cách để chúng ta chia nhỏ chương trình thành các khối nhỏ, mô-đun dễ dàng tổ chức, kiểm tra và sử dụng hơn. Hầu hết các chương trình sử dụng nhiều hàm. Thư viện chuẩn C++ đi kèm với rất nhiều hàm đã được viết sẵn để bạn sử dụng - tuy nhiên, việc viết hàm của riêng bạn cũng rất phổ biến. Các hàm do bạn tự viết được gọi là **hàm do người dùng định nghĩa (user-defined functions).**"
   ]
  },
  {
   "cell_type": "markdown",
   "id": "136a30a0-4647-42d0-aab4-9a368ee5d11d",
   "metadata": {},
   "source": [
    "Hãy xem xét một trường hợp có thể xảy ra trong thực tế: bạn đang đọc sách, thì bạn nhớ ra mình cần gọi điện thoại. Bạn đánh dấu trang sách, thực hiện cuộc gọi điện thoại và khi kết thúc cuộc gọi, bạn quay lại vị trí đã đánh dấu và tiếp tục đọc sách chính xác từ nơi bạn dừng lại."
   ]
  },
  {
   "cell_type": "markdown",
   "id": "840b5a23-c9b0-4d59-a217-20de63557753",
   "metadata": {},
   "source": [
    "Các chương trình C++ cũng có thể hoạt động theo cách tương tự. Một chương trình sẽ thực thi các câu lệnh tuần tự bên trong một hàm khi nó gặp một lời gọi hàm. **Lời gọi hàm** là một biểu thức yêu cầu CPU tạm dừng hàm hiện tại và thực thi một hàm khác. CPU “đánh dấu” tại điểm thực thi hiện tại, sau đó gọi (thực thi) hàm được đặt tên trong lời gọi hàm. Khi hàm được gọi kết thúc, CPU quay trở lại điểm đã đánh dấu và tiếp tục thực thi.\n",
    "\n",
    "**Hàm khởi tạo lời gọi hàm được gọi là hàm gọi (caller), còn hàm được gọi bởi caller được gọi là callee (hay hàm được gọi).**"
   ]
  },
  {
   "cell_type": "markdown",
   "id": "1ae72200-b6d1-4bbc-8ec9-aeab66dc19a2",
   "metadata": {},
   "source": [
    "### **Hàm do người dùng định nghĩa** "
   ]
  },
  {
   "cell_type": "markdown",
   "id": "ae666f9c-f2d6-41a8-9114-f1ad4298688d",
   "metadata": {},
   "source": [
    "Trước tiên, hãy bắt đầu với cú pháp cơ bản nhất để định nghĩa một hàm do người dùng định nghĩa. Trong vài bài học tiếp theo, tất cả các hàm do người dùng định nghĩa sẽ có dạng sau:\n",
    "\n",
    ">```\n",
    ">returnType functionName() // Đây là tiêu đề hàm (thông báo cho trình biên dịch về sự tồn tại của hàm)\n",
    ">{\n",
    ">    // Đây là thân hàm (thông báo cho trình biên dịch hàm này làm gì)\n",
    ">}\n",
    ">```\n",
    "\n",
    "Dòng đầu tiên được gọi không chính thức là **tiêu đề hàm (function header)**, nó thông báo cho trình biên dịch về sự tồn tại của một hàm, tên của hàm và một số thông tin khác mà chúng ta sẽ đề cập trong các bài học tiếp theo (như kiểu trả về và kiểu tham số).\n",
    "\n",
    "Trong bài học này, chúng ta sẽ sử dụng **kiểu trả về (`returnType`)** là `int` (cho hàm `main()`) hoặc `void` (nếu không cần kiểu). Hiện tại, đừng lo lắng về chúng, vì chúng ta sẽ nói thêm về kiểu trả về và giá trị trả về trong bài học tiếp theo **(2.2 - Giá trị trả về của hàm (hàm trả về giá trị)).**\n",
    "\n",
    "Giống như biến có tên, các hàm do người dùng định nghĩa cũng có tên. **Tên hàm (functionName)** là tên (định danh) của hàm do người dùng định nghĩa của bạn.\n",
    "\n",
    "Dấu ngoặc đơn sau định danh cho biết với trình biên dịch rằng chúng ta đang định nghĩa một hàm.\n",
    "\n",
    "Các dấu ngoặc nhọn và các câu lệnh bên trong được gọi là **thân hàm (function body).** Đây là nơi chứa các câu lệnh xác định chức năng của hàm của bạn.\n",
    "\n",
    "Dưới đây là một chương trình mẫu cho thấy cách định nghĩa và gọi một hàm mới:\n",
    "\n",
    ">```\n",
    ">#include <iostream> // for std::cout\n",
    ">\n",
    ">// Định nghĩa hàm do người dùng định nghĩa doPrint()\n",
    ">void doPrint() // doPrint() là hàm được gọi trong ví dụ này\n",
    ">{\n",
    ">    std::cout << \"In doPrint()\\n\";\n",
    ">}\n",
    ">\n",
    ">// Định nghĩa hàm main()\n",
    ">int main()\n",
    ">{\n",
    ">    std::cout << \"Starting main()\\n\";\n",
    ">    doPrint(); // Tạm dừng main() bằng cách thực hiện một lời gọi hàm đến doPrint(). main() là hàm gọi.\n",
    ">    std::cout << \"Ending main()\\n\"; // câu lệnh này được thực thi sau khi doPrint() kết thúc\n",
    ">\n",
    ">    return 0;\n",
    ">}\n",
    ">```\n"
   ]
  },
  {
   "cell_type": "markdown",
   "id": "512904b6-b4bc-4beb-9ccc-8ec0a1ab2720",
   "metadata": {},
   "source": [
    "Chương trình này tạo ra đầu ra sau:\n",
    ">```\n",
    ">Starting main()\n",
    ">In doPrint()\n",
    ">Ending main()\n",
    ">```\n",
    "\n",
    "Chương trình này bắt đầu thực thi ở đầu hàm `main`, và dòng đầu tiên được thực thi sẽ in ra `Starting main()`.\n",
    "\n",
    "Dòng thứ hai trong `main` là một lời gọi hàm đến hàm `doPrint`. Chúng ta gọi hàm `doPrint` bằng cách thêm một cặp dấu ngoặc đơn vào tên hàm như thế này: `doPrint()`.<br>\n",
    "Lưu ý rằng nếu bạn quên dấu ngoặc đơn, chương trình của bạn có thể không biên dịch được (và nếu có, thì hàm sẽ không được gọi)."
   ]
  },
  {
   "cell_type": "markdown",
   "id": "ac25959d-6c4d-44ed-b74a-3e7d2d57c1ce",
   "metadata": {},
   "source": [
    ">**Cảnh báo** <br>\n",
    ">Đừng quên thêm dấu ngoặc đơn `()` sau tên hàm khi thực hiện lời gọi hàm.\n",
    "\n",
    "Vì một lời gọi hàm đã được thực hiện, việc thực thi các câu lệnh trong `main` bị tạm dừng và thực thi nhảy đến đầu của hàm được gọi `doPrint`. Dòng đầu tiên (và duy nhất) trong `doPrint` in ra `In doPrint()`. Khi `doPrint` kết thúc, việc thực thi quay trở lại hàm gọi (ở đây: hàm `main`) và tiếp tục từ điểm dừng lại. Do đó, câu lệnh tiếp theo được thực thi trong `main` in ra `Ending main()`."
   ]
  },
  {
   "cell_type": "markdown",
   "id": "d94b4fa4-fdd8-46c1-958f-c7462f8a0690",
   "metadata": {},
   "source": [
    "### **Gọi hàm nhiều lần**"
   ]
  },
  {
   "cell_type": "markdown",
   "id": "4e4b7ab1-4fb7-4247-8e5c-bd693c13a463",
   "metadata": {},
   "source": [
    "Một điều hữu ích về hàm là chúng có thể được gọi nhiều lần. Đây là một chương trình minh họa điều này:\n",
    "\n",
    ">```\n",
    ">#include <iostream> // for std::cout\n",
    ">\n",
    ">void doPrint()\n",
    ">{\n",
    ">    std::cout << \"In doPrint()\\n\";\n",
    ">}\n",
    ">\n",
    ">// Định nghĩa hàm main()\n",
    ">int main()\n",
    ">{\n",
    ">    std::cout << \"Starting main()\\n\";\n",
    ">    doPrint(); // doPrint() được gọi lần đầu tiên\n",
    ">    doPrint(); // doPrint() được gọi lần thứ hai\n",
    ">    std::cout << \"Ending main()\\n\";\n",
    ">\n",
    ">    return 0;\n",
    ">}\n",
    ">```\n",
    "\n",
    "Chương trình này tạo ra đầu ra sau:\n",
    ">```\n",
    ">Starting main()\n",
    ">In doPrint()\n",
    ">In doPrint()\n",
    ">Ending main()\n",
    ">```\n",
    "\n",
    "Vì `doPrint` được gọi hai lần bởi `main`, `doPrint` thực thi hai lần và `In doPrint()` được in ra hai lần (một lần cho mỗi lời gọi)."
   ]
  },
  {
   "cell_type": "markdown",
   "id": "0006dbe5-1574-4e9f-af9c-899fec0f974b",
   "metadata": {},
   "source": [
    "### **Hàm có thể gọi hàm khác, hàm khác lại gọi hàm khác**"
   ]
  },
  {
   "cell_type": "markdown",
   "id": "835f14e8-b013-4a5e-b226-13178bbc911d",
   "metadata": {},
   "source": [
    "Bạn đã thấy rằng hàm `main` có thể gọi một hàm khác (chẳng hạn như hàm `doPrint` trong ví dụ ở trên). Bất kỳ hàm nào cũng có thể gọi bất kỳ hàm nào khác. Trong chương trình sau, hàm `main` gọi hàm `doA`, hàm `doA` lại gọi hàm `doB`:\n",
    "\n",
    ">```\n",
    ">#include <iostream> // for std::cout\n",
    ">\n",
    ">void doB()\n",
    ">{\n",
    ">    std::cout << \"In doB()\\n\";\n",
    ">}\n",
    ">\n",
    ">\n",
    ">void doA()\n",
    ">{\n",
    ">    std::cout << \"Starting doA()\\n\";\n",
    ">\n",
    ">    doB();\n",
    ">\n",
    ">.    std::cout << \"Ending doA()\\n\";\n",
    ">}\n",
    ">\n",
    ">// Định nghĩa hàm main()\n",
    ">int main()\n",
    ">{\n",
    ">    std::cout << \"Starting main()\\n\";\n",
    ">\n",
    ">    doA();\n",
    ">\n",
    ">    std::cout << \"Ending main()\\n\";\n",
    ">\n",
    ">    return 0;\n",
    ">}\n",
    ">```\n",
    "\n",
    "Chương trình này tạo ra đầu ra sau:\n",
    ">```\n",
    ">Starting main()\n",
    ">Starting doA()\n",
    ">In doB()\n",
    ">Ending doA()\n",
    ">Ending main()\n",
    ">```\n",
    "\n",
    "**Giải thích:**\n",
    "\n",
    "- Chương trình bắt đầu thực thi tại hàm `main`.\n",
    "- Dòng đầu tiên trong main in ra `\"Starting main()\"`.\n",
    "- Tiếp theo, `main` gọi hàm `doA` bằng cách sử dụng `doA()`.\n",
    "- Khi `doA` được gọi, nó in ra `\"Starting doA()\"`.\n",
    "- Bên trong `doA`, nó lại gọi hàm `doB` bằng cách sử dụng `doB()`.\n",
    "- Lúc này, điều khiển nhảy đến hàm `doB`.\n",
    "- `doB` in ra `\"In doB()\"`.\n",
    "- Sau khi `doB` thực thi xong, điều khiển quay trở lại `doA` (hàm gọi `doB`).\n",
    "- `doA` in ra `\"Ending doA()\"`.\n",
    "- Điều khiển quay trở lại `main` (hàm gọi `doA`).\n",
    "- `main` in ra `\"Ending main()\"`.\n",
    "- Chương trình kết thúc.\n",
    "\n",
    "**Tóm lại:**\n",
    "\n",
    "Các hàm có thể gọi cho nhau, tạo ra các chuỗi thực thi phức tạp hơn. Bất kỳ hàm nào cũng có thể gọi bất kỳ hàm nào khác, miễn là hàm được gọi đã được định nghĩa trước đó trong chương trình."
   ]
  },
  {
   "cell_type": "markdown",
   "id": "f1506016-5bab-427d-8220-78f32940f7b9",
   "metadata": {},
   "source": [
    "### **C++ không hỗ trợ hàm lồng nhau**"
   ]
  },
  {
   "cell_type": "markdown",
   "id": "a3dc957a-61d3-4d16-a7ec-2df8078f56b8",
   "metadata": {},
   "source": [
    "Trái ngược với một số ngôn ngữ lập trình khác, C++ không cho phép định nghĩa hàm bên trong các hàm khác. Tính năng này được gọi là định nghĩa hàm lồng nhau. (nested function)"
   ]
  },
  {
   "cell_type": "markdown",
   "id": "85d56d62-befe-475b-9cc0-2afabf6ee43c",
   "metadata": {},
   "source": [
    ">```\n",
    ">#include <iostream>\n",
    ">\n",
    ">int main() {\n",
    ">    void foo() { // Dòng này bất hợp lệ trong C++\n",
    ">        std::cout << \"foo!\\n\";\n",
    ">    }\n",
    ">\n",
    ">    foo(); // Dòng này cố gắng gọi hàm lồng nhau\n",
    ">    return 0;\n",
    ">}\n",
    ">```\n",
    "\n",
    "**Lỗi:** Dòng `void foo()` cố gắng định nghĩa một hàm có tên `foo` bên trong hàm `main`. Điều này không được phép trong C++.\n",
    "\n",
    "Trong C++, các hàm cần được định nghĩa bên ngoài các hàm khác:\n",
    "\n",
    ">```\n",
    ">#include <iostream>\n",
    ">\n",
    ">void foo() { // Định nghĩa hàm bên ngoài main\n",
    ">    std::cout << \"foo!\\n\";\n",
    ">}\n",
    ">\n",
    ">int main() {\n",
    ">    foo(); // Gọi hàm foo\n",
    ">    return 0;\n",
    ">}\n",
    ">```\n",
    "\n",
    ">**Thông tin bổ sung:** <br>\n",
    ">Biến siêu cú pháp: Mã sử dụng `\"foo\"` làm tên giữ chỗ cho hàm. Những tên giữ chỗ này thường được sử dụng khi tên cụ thể không quan trọng để minh họa một khái niệm.<br>\n",
    "Các ví dụ phổ biến khác bao gồm `\"bar\"`, `\"baz\"` hoặc các từ 3 chữ cái kết thúc bằng `\"oo\"` (`goo`, `moo`, `boo`)."
   ]
  },
  {
   "cell_type": "markdown",
   "id": "4fb909ce-019d-4082-8afe-e389dc836de2",
   "metadata": {},
   "source": [
    "## **Bài 2.2: <u>Hàm trả về giá trị (value-returning functions)</u>**"
   ]
  },
  {
   "cell_type": "markdown",
   "id": "08c07e82-6b0f-40b9-99ed-3b1286c63132",
   "metadata": {},
   "source": [
    "Xét đoạn chương trình sau:\n",
    "\n",
    ">```\n",
    ">#include <iostream>\n",
    ">\n",
    ">int main() {\n",
    ">    // Nhận giá trị từ người dùng\n",
    ">    std::cout << \"Nhập một số nguyên: \";\n",
    ">    int num{};\n",
    ">    std::cin >> num;\n",
    ">\n",
    ">    // In ra giá trị gấp đôi\n",
    ">    std::cout << num << \" nhân đôi là: \" << num * 2 << '\\n';\n",
    ">\n",
    ">    return 0;\n",
    ">}\n",
    ">```\n",
    "\n",
    "Chương trình này được cấu thành từ hai phần: Đầu tiên, chúng ta nhận giá trị từ người dùng. Sau đó, chúng ta thông báo cho người dùng giá trị đó nhân đôi là bao nhiêu.\n",
    "\n",
    "Mặc dù chương trình này đủ đơn giản để không cần chia thành nhiều hàm, nhưng nếu chúng ta muốn chia tách thì sao? Nhận giá trị số nguyên từ người dùng là một công việc được xác định rõ ràng mà chương trình của chúng ta cần thực hiện, do đó nó sẽ là một ứng cử viên tốt cho một hàm.\n",
    "\n",
    "Vì vậy, hãy viết một chương trình để thực hiện việc này:\n",
    "\n",
    ">```\n",
    ">// Chương trình này không hoạt động\n",
    ">#include <iostream>\n",
    ">\n",
    ">void getValueFromUser() {\n",
    ">    std::cout << \"Nhập một số nguyên: \";\n",
    ">    int input{};\n",
    ">    std::cin >> input;\n",
    ">}\n",
    ">\n",
    ">int main() {\n",
    ">    getValueFromUser(); // Yêu cầu người dùng nhập dữ liệu\n",
    ">\n",
    ">    int num{}; // Làm thế nào để lấy giá trị từ getValueFromUser() và sử dụng nó để khởi tạo biến này?\n",
    ">\n",
    ">    std::cout << num << \" nhân đôi là: \" << num * 2 << '\\n';\n",
    ">\n",
    ">    return 0;\n",
    ">}\n",
    ">```\n",
    "\n",
    "Mặc dù chương trình này là một nỗ lực giải quyết tốt, nhưng nó không hoàn toàn hoạt động.\n",
    "\n",
    "Khi hàm `getValueFromUser` được gọi, người dùng được yêu cầu nhập một số nguyên như mong đợi. Nhưng giá trị họ nhập vào sẽ bị mất khi `getValueFromUser` kết thúc và quyền điều khiển trở lại `main`. Biến num không bao giờ được khởi tạo bằng giá trị người dùng nhập vào, do đó chương trình luôn in ra kết quả `0`."
   ]
  },
  {
   "cell_type": "markdown",
   "id": "bb047b4a-423c-42f9-9045-15f9c12e1298",
   "metadata": {},
   "source": [
    "### **Giá trị trả về**"
   ]
  },
  {
   "cell_type": "markdown",
   "id": "4c534f8b-437a-4fb9-b4cb-a4c86b3d6613",
   "metadata": {},
   "source": [
    "Khi bạn viết một hàm do người dùng định nghĩa, bạn có thể xác định xem hàm của bạn có trả về giá trị cho trình gọi hay không. Để trả về giá trị cho trình gọi, cần hai điều."
   ]
  },
  {
   "cell_type": "markdown",
   "id": "de5ede64-c11e-4952-b9d2-b54987dd767c",
   "metadata": {},
   "source": [
    "#### **1. Kiểu trả về của hàm (Return Type):**"
   ]
  },
  {
   "cell_type": "markdown",
   "id": "8249e0c3-a219-4d35-bb75-22a4690e1d96",
   "metadata": {},
   "source": [
    "Thứ nhất, hàm của bạn phải chỉ định loại giá trị sẽ được trả về. Điều này được thực hiện bằng cách đặt kiểu trả về của hàm, là kiểu được xác định trước tên hàm. Trong ví dụ trên, hàm `getValueFromUser` có kiểu trả về là `void` (có nghĩa là không có giá trị nào được trả về cho trình gọi), và hàm `main` có kiểu trả về là `int` (nghĩa là một giá trị kiểu `int` sẽ được trả về cho trình gọi). Lưu ý rằng điều này không xác định chính xác giá trị cụ thể được trả về - nó chỉ xác định kiểu của giá trị sẽ được trả về.\n",
    "\n",
    ">**Bài học liên quan:**<br>\n",
    ">Chúng ta sẽ khám phá thêm về các hàm trả về `void` trong bài học tiếp theo **(2.3 - Hàm Void (hàm không trả về giá trị)).**"
   ]
  },
  {
   "cell_type": "markdown",
   "id": "5dbab055-e12b-40bf-8600-4b086c50f091",
   "metadata": {},
   "source": [
    "#### **2. Sử dụng câu lệnh return (Return Statement)**"
   ]
  },
  {
   "cell_type": "markdown",
   "id": "5ce3f910-429d-474e-8313-6ec91e4fbdd6",
   "metadata": {},
   "source": [
    "Thứ hai, bên trong hàm sẽ trả về một giá trị, chúng ta sử dụng câu lệnh `return` để chỉ định giá trị cụ thể được trả về cho trình gọi. Giá trị cụ thể được trả về từ một hàm được gọi là **giá trị trả về** của hàm. Khi câu lệnh `return` được thực thi, hàm thoát ngay lập tức và giá trị trả về được sao chép từ hàm trở lại hàm gọi. Quá trình này được gọi là **trả về theo giá trị (return by value).**\n",
    "\n"
   ]
  },
  {
   "cell_type": "markdown",
   "id": "3b58ace7-d7d4-4b5c-abe9-ae0cf2deac35",
   "metadata": {},
   "source": [
    "Ví dụ:<br>\n",
    "Hãy xem một hàm đơn giản trả về một giá trị số nguyên và một chương trình mẫu gọi hàm đó:\n",
    "\n",
    ">```\n",
    ">#include <iostream>\n",
    ">\n",
    ">// int là kiểu trả về\n",
    ">// Kiểu trả về int có nghĩa là hàm sẽ trả về một giá trị số nguyên nào đó cho trình gọi (giá trị cụ thể không được chỉ định ở đây)\n",
    ">int returnFive() {\n",
    ">    // Câu lệnh return chỉ định giá trị cụ thể sẽ được trả về\n",
    ">    return 5; // Trả về giá trị cụ thể 5 cho hàm gọi.\n",
    ">}\n",
    ">\n",
    ">int main() {\n",
    ">    std::cout << returnFive() << '\\n'; // In 5\n",
    ">    std::cout << returnFive() + 2 << '\\n'; // In 7\n",
    ">\n",
    ">    returnFive(); // Không sao: giá trị 5 được trả về, nhưng bị bỏ qua vì main() không làm gì với nó\n",
    ">\n",
    ">    return 0;\n",
    ">}\n",
    ">```\n",
    "Hãy thận trọng khi sử dụng các đoạn mã.\n",
    "Khi chạy, chương trình này in:\n",
    "\n",
    ">`5`\\\n",
    ">`7`"
   ]
  },
  {
   "cell_type": "markdown",
   "id": "5cbc12ec-c6f2-4d65-92fa-89b267788a78",
   "metadata": {},
   "source": [
    "#### **Thứ tự thực thi:**\n"
   ]
  },
  {
   "cell_type": "markdown",
   "id": "f82b0ca3-0d87-44f5-bb19-fa4891d6fdc4",
   "metadata": {},
   "source": [
    "- Quá trình thực thi bắt đầu từ đầu hàm `main`.\n",
    "- Trong câu lệnh đầu tiên, lệnh gọi hàm `returnFive` được đánh giá, dẫn đến việc hàm `returnFive` được gọi.\n",
    "- Hàm `returnFive` trả về giá trị cụ thể là `5` hàm gọi (hàm `main`), sau đó giá trị này được in ra console thông qua `std::cout`.\n",
    "- Trong lệnh gọi hàm thứ hai, lệnh gọi hàm `returnFive` được đánh giá, dẫn đến việc hàm `returnFive` được gọi lại lần nữa. Hàm `returnFive` trả về giá trị `5` cho hàm gọi. Biểu thức `5 + 2` được tính toán để tạo ra kết quả `7`, sau đó được in ra console thông qua `std::cout`.\n",
    "- Trong câu lệnh thứ ba, hàm `returnFive` được gọi lại, dẫn đến việc giá trị `5` được trả về cho hàm gọi. Tuy nhiên, hàm `main` không làm gì với giá trị trả về này, vì vậy không có gì khác xảy ra (giá trị trả về bị bỏ qua).\n",
    "\n",
    ">**Lưu ý:**<br>\n",
    ">Giá trị trả về sẽ không được in ra trừ khi trình gọi gửi chúng đến console thông qua `std::cout`. Trong trường hợp cuối cùng ở trên, giá trị trả về không được gửi đến `std::cout`, vì vậy không có gì được in ra.\n",
    "\n",
    ">**Mẹo:**<br>\n",
    ">Khi một hàm được gọi trả về giá trị, hàm gọi nó có thể quyết định sử dụng giá trị đó trong một biểu thức hoặc câu lệnh (ví dụ: sử dụng nó để khởi tạo biến hoặc gửi nó đến `std::cout`) hoặc bỏ qua nó (bằng cách không làm gì khác). Nếu hàm gọi bỏ qua giá trị trả về, nó sẽ bị loại bỏ (không có gì được thực hiện với nó)."
   ]
  },
  {
   "cell_type": "markdown",
   "id": "fad7d151-6592-40d2-9d84-4aa2c7af2fb7",
   "metadata": {},
   "source": [
    "### **Giải quyết bài toán thách thức đặt ra ở đầu bài**"
   ]
  },
  {
   "cell_type": "markdown",
   "id": "cf0c922b-5f9d-4c8e-b122-d4520aa4f3f0",
   "metadata": {},
   "source": [
    "Giờ đây, với những kiến thức vừa học, chúng ta có thể sửa chữa chương trình được giới thiệu ở đầu bài:"
   ]
  },
  {
   "cell_type": "markdown",
   "id": "4fb9c215-b784-4bf5-b988-8a6310b3bc6a",
   "metadata": {},
   "source": [
    ">```\n",
    ">#include <iostream>\n",
    ">int getValueFromUser() { // Hàm này hiện trả về một giá trị kiểu số nguyên\n",
    ">    std::cout << \"Enter an integer: \";\n",
    ">    int input {};\n",
    ">    std::cin >> input;\n",
    ">    return input; // Trả về giá trị người dùng nhập cho hàm gọi\n",
    ">}\n",
    ">int main() {\n",
    ">    int num { getValueFromUser() }; // Khởi tạo num bằng giá trị trả về của getValueFromUser()\n",
    ">    std::cout << num << \" doubled is: \" << num * 2 << '\\n';\n",
    ">\n",
    ">    return 0;\n",
    ">}\n",
    ">```"
   ]
  },
  {
   "cell_type": "markdown",
   "id": "50a2fed2-a3a9-4100-942a-37a0f2ed590c",
   "metadata": {},
   "source": [
    "**Giải thích:**\n",
    "\n",
    "Khi chương trình này thực thi, câu lệnh đầu tiên trong `main` sẽ tạo một biến int có tên `num`. Khi chương trình khởi tạo `num`, nó sẽ thấy có một lệnh gọi hàm `getValueFromUser()`, do đó chương trình sẽ thực thi hàm đó. Hàm `getValueFromUser` yêu cầu người dùng nhập giá trị, sau đó trả giá trị đó về cho trình gọi (`main`). Giá trị trả về này được sử dụng làm giá trị khởi tạo cho biến `num`.\n",
    "\n",
    "Hãy tự biên dịch chương trình này và chạy nó vài lần để kiểm tra xem nó hoạt động chính xác hay không.\n"
   ]
  },
  {
   "cell_type": "markdown",
   "id": "be7082c3-a5f9-4376-a1e3-497203f6402a",
   "metadata": {},
   "source": [
    "### **Xem xét lại hàm `main()`:**"
   ]
  },
  {
   "cell_type": "markdown",
   "id": "a3bc01dd-acee-48a9-b3a9-0e91fee2a69e",
   "metadata": {},
   "source": [
    "Bây giờ bạn đã có những công cụ khái niệm để hiểu cách thức hoạt động thực sự của hàm `main`. Khi chương trình được thực thi, hệ điều hành sẽ gọi hàm `main`. Sau đó, quá trình thực thi nhảy đến đầu của `main`. Các câu lệnh trong `main` được thực thi tuần tự. Cuối cùng, `main` trả về một giá trị kiểu số nguyên (thường là `0`), và chương trình của bạn kết thúc. Giá trị trả về từ `main` đôi khi được gọi là **mã trạng thái (status code, còn được gọi là mã thoát (exit code) hoặc hiếm khi gọi là mã trả về (return code))**, vì nó được sử dụng để báo hiệu chương trình có chạy thành công hay không.\n",
    "\n",
    "Theo định nghĩa, mã trạng thái `0` có nghĩa là chương trình đã chạy thành công.\n",
    "\n",
    ">**Thực hành:**\n",
    ">\n",
    ">Hàm main của bạn nên trả về giá trị 0 nếu chương trình chạy bình thường.\n",
    "\n",
    "Mã trạng thái khác 0 thường được sử dụng để báo hiệu lỗi (mặc dù điều này đúng trên hầu hết các hệ điều hành, nhưng về mặt lý thuyết, nó không đảm bảo tính di động).\n",
    "\n",
    ">**Đối với người đọc nâng cao:**\n",
    ">\n",
    ">Chuẩn C++ chỉ định nghĩa ý nghĩa của 3 mã trạng thái: `0`, `EXIT_SUCCESS` và `EXIT_FAILURE`. `0` và `EXIT_SUCCESS` đều có nghĩa là chương trình chạy thành công. `EXIT_FAILURE` có nghĩa là chương trình không chạy thành công.\n",
    ">\n",
    ">`EXIT_SUCCESS` và `EXIT_FAILURE` là các macro tiền xử lý được định nghĩa trong tiêu đề <cstdlib>:\n",
    ">\n",
    ">>```\n",
    ">>#include <cstdlib> // for EXIT_SUCCESS and EXIT_FAILURE\n",
    ">>\n",
    ">>int main()\n",
    ">>{\n",
    ">>    return EXIT_SUCCESS;\n",
    ">>}\n",
    ">>```\n",
    "\n",
    "Nếu bạn muốn tối đa hóa khả năng di động, bạn chỉ nên sử dụng `0` hoặc `EXIT_SUCCESS` để báo hiệu kết thúc thành công, hoặc `EXIT_FAILURE` để báo hiệu kết thúc không thành công.\n",
    "\n",
    ">**Lưu ý:**\n",
    ">\n",
    ">**C++** không cho phép gọi hàm main() một cách trực tiếp.\n",
    "\n",
    ">**Ngoài lề:**\n",
    ">\n",
    ">**C** cho phép gọi `main()` trực tiếp, vì vậy một số trình biên dịch **C++**\n",
    "> sẽ cho phép điều này vì lý do tương thích.\n",
    "\n",
    "Hiện tại, bạn cũng nên định nghĩa hàm `main()` ở cuối tệp mã của bạn, bên dưới các hàm khác, và tránh gọi nó trực tiếp."
   ]
  },
  {
   "cell_type": "markdown",
   "id": "4886c735-bef9-43c4-89f5-b08a7c651ea9",
   "metadata": {},
   "source": [
    "### **Một hàm trả về giá trị mà không trả về giá trị sẽ tạo ra hành vi bất định.**"
   ]
  },
  {
   "cell_type": "markdown",
   "id": "46e13927-7dfc-4438-ba6b-7f589988de4f",
   "metadata": {},
   "source": [
    "Một hàm trả giá trị được thiết kế để cung cấp một giá trị cụ thể (số nguyên, chuỗi ký tự, đối tượng, ...) cho đoạn mã gọi hàm đó. Một hàm là hàm trả về giá trị nếu kiểu trả về là bất kỳ thứ gì ngoại trừ `void`. Kiểu trả về của hàm xác định loại dữ liệu mà nó sẽ trả về. Các kiểu trả về phổ biến gồm `int` (số nguyên), `double` (số thực), `string` (chuỗi ký tự), và các kiểu dữ liệu do bạn tự định nghĩa."
   ]
  },
  {
   "cell_type": "markdown",
   "id": "1eec5aec-2331-45c5-b768-8a442c5ea5a8",
   "metadata": {},
   "source": [
    "Một hàm trả về giá trị phải trả về một giá trị của kiểu đó (sử dụng câu lệnh `return`), nếu không sẽ tạo ra hành vi bất định.\n",
    "\n",
    ">**Nội dung liên quan**\n",
    ">\n",
    ">Chúng tôi thảo luận về **hành vi bất định** trong **[bài học 1.6 - Biến chưa khởi tạo và hành vi bất định](../lesson1/lesson1_6.ipynb).**\n",
    "\n",
    "**Hành vi bất định:**\n",
    "\n",
    ">```\n",
    ">#include <iostream>\n",
    ">\n",
    ">int getValueFromUserUB() { // Hàm này được khai báo để trả về một số nguyên\n",
    ">  std::cout << \"Nhập một số nguyên: \";\n",
    ">  int input;\n",
    ">  std::cin >> input;\n",
    ">\n",
    ">  // Lưu ý: Không có câu lệnh return!\n",
    ">}\n",
    ">\n",
    ">int main() {\n",
    ">  int num = getValueFromUserUB(); // Cố gắng sử dụng giá trị trả về\n",
    ">\n",
    ">  std::cout << num << \" nhân đôi là: \" << num * 2 << std::endl;\n",
    ">\n",
    ">  return 0;\n",
    ">}\n",
    ">```"
   ]
  },
  {
   "cell_type": "markdown",
   "id": "46fbd0c7-8de0-438d-817f-d68be6e34ce6",
   "metadata": {},
   "source": [
    "Trong ví dụ này, hàm `getValueFromUserUB` được khai báo để trả về một số nguyên, nhưng nó thiếu câu lệnh `return` để cung cấp giá trị đó. Việc thiếu sót này dẫn đến hành vi bất định:\n",
    "- Chương trình có thể bị lỗi hoặc tạo ra kết quả không mong đợi.\n",
    "- Giá trị được gán cho `num` trong `main` trở nên bất định, dẫn đến lỗi tiềm ẩn khi sử dụng nó trong các phép tính.\n",
    "\n",
    "May mắn thay, nhiều trình biên dịch hiện đại sẽ cảnh báo khi gặp hàm được khai báo để trả về giá trị nhưng thiếu `return`. Những cảnh báo này giúp bạn phát hiện lỗi và ngăn chặn hành vi bất định.\n",
    "\n",
    "Trong hầu hết các trường hợp, trình biên dịch sẽ phát hiện nếu bạn quên trả về một giá trị. Tuy nhiên, trong một số trường hợp phức tạp, trình biên dịch có thể không thể xác định một cách chính xác liệu hàm của bạn có trả về một giá trị hay không trong tất cả các trường hợp, vì vậy bạn không nên phụ thuộc vào điều này.\n",
    "\n",
    ">**Lưu ý**\n",
    ">- Luôn sử dụng return trong các hàm trả giá trị. Điều này giúp mã của bạn dễ hiểu, dự đoán được và ít lỗi hơn."
   ]
  },
  {
   "cell_type": "markdown",
   "id": "d52d88cf-d23b-4fa7-9640-42fee72d924d",
   "metadata": {},
   "source": [
    "### **Hàm `main()` sẽ ngầm định `return 0;` nếu lệnh return không được cấp**"
   ]
  },
  {
   "cell_type": "markdown",
   "id": "ffe06667-8657-4eba-bd84-5452d940f637",
   "metadata": {},
   "source": [
    "Hàm `main` là một trường hợp đặc biệt. Nếu `main` không có câu lệnh `return` rõ ràng, mặc định nó sẽ trả về `0`. Tuy nhiên, nên thành lập thói quen sử dụng `return` với giá trị cụ thể trong `main` để thể hiện ý định và duy trì tính nhất quán với các hàm khác (mà sẽ gây ra hành vi bất định nếu thiếu `return`).\n"
   ]
  },
  {
   "cell_type": "markdown",
   "id": "f5b96f5d-6381-4625-a85c-fd0b607b52e9",
   "metadata": {},
   "source": [
    "### **Hàm chỉ có thể trả về một giá trị:**"
   ]
  },
  {
   "cell_type": "markdown",
   "id": "2dcc89c7-0b9f-436f-8d76-4cbab83035a1",
   "metadata": {},
   "source": [
    "Một hàm trả về giá trị chỉ có thể trả về một giá trị duy nhất cho người gọi mỗi lần nó được gọi.\n",
    "\n",
    "Lưu ý rằng giá trị được cung cấp trong câu lệnh `return` không cần phải là literal -- nó có thể là kết quả của bất kỳ biểu thức hợp lệ nào, bao gồm biến hoặc thậm chí là một lời gọi đến một hàm trả về giá trị khác. Trong ví dụ của hàm `getValueFromUser()` ở trên, chúng ta đã trả về một biến `input`, chứa giá trị mà người dùng nhập vào.\n",
    "\n",
    "Mặc dù các hàm thường chỉ trả về một giá trị duy nhất, nhưng có những kỹ thuật trong lập trình (như truyền đối số theo tham chiếu hoặc trả về cấu trúc) cho phép bạn truyền tải dữ liệu phức tạp hơn. Những khái niệm này sẽ được đề cập trong các bài học sau.\n",
    "\n"
   ]
  },
  {
   "cell_type": "markdown",
   "id": "de8751ff-8c79-4e77-b5f2-3bab2503766b",
   "metadata": {},
   "source": [
    "### **Ý nghĩa của giá trị trả về của hàm:**"
   ]
  },
  {
   "cell_type": "code",
   "execution_count": null,
   "id": "2f3f9933-1449-44c0-8748-8d5f5d8f2bfc",
   "metadata": {},
   "outputs": [],
   "source": []
  }
 ],
 "metadata": {
  "kernelspec": {
   "display_name": "Python 3 (ipykernel)",
   "language": "python",
   "name": "python3"
  },
  "language_info": {
   "codemirror_mode": {
    "name": "ipython",
    "version": 3
   },
   "file_extension": ".py",
   "mimetype": "text/x-python",
   "name": "python",
   "nbconvert_exporter": "python",
   "pygments_lexer": "ipython3",
   "version": "3.12.2"
  }
 },
 "nbformat": 4,
 "nbformat_minor": 5
}
