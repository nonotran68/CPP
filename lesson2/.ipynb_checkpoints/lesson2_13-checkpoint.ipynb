{
 "cells": [
  {
   "cell_type": "markdown",
   "id": "31abfdd4-3304-4aaa-bc0b-a732cb4efdbf",
   "metadata": {},
   "source": [
    "## **Bài 2.13: <u>Cách thiết kế chương trình đầu tiên của bạn</u>**"
   ]
  },
  {
   "cell_type": "markdown",
   "id": "fadd5ca8-5164-4063-b09b-6ea1116c35a8",
   "metadata": {},
   "source": [
    "Bây giờ, khi bạn đã học được một số kiến thức cơ bản về chương trình, chúng ta hãy xem xét kỹ hơn cách thiết kế chương trình.\n",
    "\n",
    "Khi bạn ngồi xuống để viết chương trình, thông thường bạn sẽ có một ý tưởng nào đó, mà bạn muốn viết chương trình cho nó. Lập trình viên mới thường gặp khó khăn trong việc chuyển đổi ý tưởng đó thành mã thực tế. Nhưng hóa ra, bạn đã có sẵn nhiều kỹ năng giải quyết vấn đề cần thiết, có được từ cuộc sống hàng ngày.\n",
    "\n",
    "Điều quan trọng nhất cần nhớ (và khó thực hiện nhất) là thiết kế chương trình của bạn trước khi bắt đầu viết mã. Trong nhiều khía cạnh, lập trình giống như kiến trúc. Điều gì sẽ xảy ra nếu bạn cố gắng xây dựng một ngôi nhà mà không theo một bản vẽ kiến trúc? Rất có khả năng, trừ khi bạn là người rất tài năng, bạn sẽ có một ngôi nhà gặp nhiều vấn đề: tường không thẳng, mái dột, v.v... Tương tự, nếu bạn cố gắng lập trình trước khi có một kế hoạch tốt để tiến lên, bạn có thể thấy rằng mã của bạn có rất nhiều vấn đề và bạn sẽ phải dành nhiều thời gian để sửa những vấn đề hoàn toàn có thể tránh được chỉ với một chút suy nghĩ trước.\n",
    "\n",
    "Một chút lập kế hoạch trước sẽ giúp bạn tiết kiệm thời gian và giảm bớt sự thất vọng trong thời gian dài.\n",
    "\n",
    "Trong bài học này, chúng ta sẽ trình bày một cách tiếp cận tổng quát để chuyển đổi các ý tưởng thành các chương trình chức năng đơn giản."
   ]
  },
  {
   "cell_type": "markdown",
   "id": "b698a6c5-b349-4342-a3f8-f50230a7028b",
   "metadata": {},
   "source": [
    "### **Bước thiết kế 1: Xác định mục tiêu của bạn**"
   ]
  },
  {
   "cell_type": "markdown",
   "id": "db50abd4-7822-4d3e-a6f7-65bc4dce7e39",
   "metadata": {},
   "source": [
    "Để viết một chương trình thành công, trước tiên bạn cần xác định mục tiêu của mình là gì. Lý tưởng nhất, bạn nên nêu điều này trong một hoặc hai câu. Thường thì việc thể hiện điều này như một kết quả hướng đến người dùng sẽ hữu ích. **Ví dụ:**\n",
    "\n",
    "- Cho phép người dùng tổ chức một danh sách tên và số điện thoại liên quan.\n",
    "- Tạo các hầm ngục ngẫu nhiên, thứ sẽ tạo ra các hang động thú vị.\n",
    "- Tạo danh sách các khuyến nghị về cổ phiếu cho các cổ phiếu có cổ tức cao.\n",
    "- Lập mô hình thời gian cần thiết để một quả bóng rơi khỏi tháp rơi xuống đất.\n",
    "\n",
    "Mặc dù bước này có vẻ hiển nhiên, nhưng nó cũng rất quan trọng. Điều tồi tệ nhất bạn có thể làm là viết một chương trình không thực sự thực hiện những gì bạn (hoặc sếp của bạn) mong muốn!"
   ]
  },
  {
   "cell_type": "markdown",
   "id": "d3bb69c1-1f2e-4eee-83f5-b024381938a0",
   "metadata": {},
   "source": [
    "### **Bước thiết kế 2: Xác định các yêu cầu**"
   ]
  },
  {
   "cell_type": "markdown",
   "id": "f12b132a-177c-4f3a-8b57-2ac582852065",
   "metadata": {},
   "source": [
    "Mặc dù việc xác định vấn đề của bạn giúp bạn xác định kết quả mong muốn, nhưng nó vẫn còn mơ hồ. Bước tiếp theo là suy nghĩ về các yêu cầu.\n",
    "\n",
    "Yêu cầu là một từ mỹ miều cho cả những ràng buộc mà giải pháp của bạn cần tuân theo (ví dụ: ngân sách, thời gian, không gian, bộ nhớ, v.v.) cũng như các khả năng mà chương trình phải thể hiện để đáp ứng nhu cầu của người dùng. Lưu ý rằng các yêu cầu của bạn cũng nên tập trung vào \"cái gì\", không phải \"như thế nào\".\n",
    "\n",
    "**Ví dụ:**\n",
    "\n",
    "- Số điện thoại nên được lưu để có thể truy xuất lại sau.\n",
    "- Hầm ngục ngẫu nhiên luôn phải chứa một lối đi từ lối vào đến lối ra.\n",
    "- Các khuyến nghị về cổ phiếu nên tận dụng dữ liệu giá lịch sử.\n",
    "- Người dùng có thể nhập chiều cao của tháp.\n",
    "- Chúng ta cần một phiên bản có thể kiểm thử trong vòng 7 ngày.\n",
    "- Chương trình phải tạo ra kết quả trong vòng 10 giây kể từ khi người dùng gửi yêu cầu.\n",
    "- Chương trình phải chạy ổn định trong hơn 99,9% phiên sử dụng của người dùng.\n",
    "\n",
    "Một vấn đề duy nhất có thể dẫn đến nhiều yêu cầu và giải pháp không được coi là “hoàn thành” cho đến khi đáp ứng tất cả các yêu cầu đó."
   ]
  },
  {
   "cell_type": "markdown",
   "id": "bd5e0298-7398-4c35-be54-fe3317990aad",
   "metadata": {},
   "source": [
    "### **Bước thiết kế 3: Xác định công cụ, mục tiêu và phương án dự phòng của bạn**"
   ]
  },
  {
   "cell_type": "markdown",
   "id": "0cbf28fc-eb26-433e-b0f9-1c5f89e5b6fb",
   "metadata": {},
   "source": [
    "Khi bạn là một lập trình viên dày dạn kinh nghiệm, có nhiều bước khác thường diễn ra tại thời điểm này, bao gồm:\n",
    "\n",
    "- Xác định kiến trúc mục tiêu và / hoặc hệ điều hành mà chương trình của bạn sẽ chạy trên đó.\n",
    "- Xác định bộ công cụ bạn sẽ sử dụng.\n",
    "- Xác định xem bạn sẽ viết chương trình một mình hay là một phần của nhóm.\n",
    "- Xác định chiến lược kiểm thử / phản hồi / phát hành của bạn.\n",
    "- Xác định cách bạn sẽ sao lưu mã của mình.\n",
    "\n",
    "Tuy nhiên, đối với một lập trình viên mới, câu trả lời cho những câu hỏi này thường đơn giản: Bạn đang viết một chương trình cho mục đích sử dụng của riêng bạn, một mình, trên hệ thống của riêng bạn, sử dụng một IDE mà bạn đã tải xuống và mã của bạn có thể không được ai khác ngoài bạn sử dụng. Điều này giúp mọi thứ trở nên dễ dàng.\n",
    "\n",
    "Tuy nhiên, nếu bạn định làm việc với bất kỳ thứ gì phức tạp, bạn nên có kế hoạch sao lưu mã của mình. Chỉ nén hoặc sao chép thư mục vào một vị trí khác trên máy tính của bạn là không đủ (mặc dù điều này tốt hơn là không làm gì). Nếu hệ thống của bạn bị lỗi, bạn sẽ mất tất cả. Một chiến lược sao lưu tốt bao gồm việc sao chép mã của bạn ra khỏi hệ thống của bạn hoàn toàn. Có rất nhiều cách dễ dàng để thực hiện việc này: Nén tệp và gửi email cho chính bạn, tải lên dịch vụ lưu trữ đám mây (ví dụ: **Dropbox**), sử dụng giao thức truyền tệp (ví dụ: **SFTP**) để tải lên máy khác, sao chép nó sang máy khác trên mạng cục bộ của bạn hoặc sử dụng hệ thống quản lý phiên bản nằm trên máy khác hoặc trên đám mây (ví dụ: **github**). Hệ thống quản lý phiên bản có thêm lợi thế không chỉ có thể khôi phục các tệp của bạn mà còn có thể đưa chúng trở lại phiên bản trước đó."
   ]
  },
  {
   "cell_type": "markdown",
   "id": "0d33a0e2-872a-4982-8e57-151b8ebc6fee",
   "metadata": {},
   "source": [
    "### **Bước thiết kế 4: Chia nhỏ các vấn đề khó thành các vấn đề dễ**"
   ]
  },
  {
   "cell_type": "markdown",
   "id": "b0b48c74-eb2e-4d84-a084-3b2fc2c44533",
   "metadata": {},
   "source": [
    "Ngoài đời thực, chúng ta thường cần thực hiện các tác vụ rất phức tạp. Cố gắng tìm ra cách thực hiện các nhiệm vụ này có thể rất khó khăn. Trong những trường hợp như vậy, chúng ta thường sử dụng **phương pháp giải quyết vấn đề từ trên xuống (*top-down*)**. Nghĩa là, thay vì giải quyết một tác vụ phức tạp lớn, chúng ta chia tác vụ đó thành nhiều tác vụ phụ, mỗi tác vụ riêng lẻ đều dễ giải quyết hơn. Nếu các tác vụ phụ đó vẫn quá khó giải quyết, chúng có thể được chia nhỏ hơn nữa. Bằng cách liên tục chia các tác vụ phức tạp thành các tác vụ đơn giản hơn, cuối cùng bạn có thể đến một điểm mà mỗi tác vụ riêng lẻ đều có thể xử lí dễ dàng.\n",
    "\n",
    "Hãy xem một ví dụ về điều này. Giả sử chúng ta muốn dọn dẹp nhà cửa. Bậc thang nhiệm vụ hiện tại của chúng ta trông như thế này:\n",
    "- Dọn dẹp nhà cửa\n",
    "\n",
    "Dọn dẹp toàn bộ ngôi nhà là một công việc khá lớn để hoàn thành trong một lần liên tục. Vì vậy hãy chia nhỏ nó thành các tác vụ phụ:\n",
    "\n",
    "- Dọn dẹp nhà cửa\n",
    "    - Hút bụi thảm\n",
    "    - Lau chùi phòng tắm\n",
    "    - Vệ sinh nhà bếp\n",
    "\n",
    "Bây giờ nó dễ quản lý hơn, vì bây giờ chúng ta có các tác vụ phụ mà chúng ta có thể tập trung vào từng tác vụ. Tuy nhiên, chúng ta có thể chia nhỏ một số tác vụ này thành các tác vụ nhỏ hơn:\n",
    "\n",
    "- Dọn dẹp nhà cửa\n",
    "    - Hút bụi thảm\n",
    "    - Lau chùi phòng tắm\n",
    "        - Cọ toilet (ugh!)\n",
    "        - Rửa bồn rửa mặt\n",
    "    - Vệ sinh nhà bếp\n",
    "        - Dọn dẹp mặt bàn\n",
    "        - Lau chùi mặt bàn\n",
    "        - Cọ bồn rửa mặt\n",
    "        - Đem rác đi vứt\n",
    "Bây giờ chúng ta có một hệ thống phân cấp các tác vụ, không có tác vụ nào đặc biệt khó khăn. Bằng cách hoàn thành từng mục phụ tương đối dễ quản lý này, chúng ta có thể hoàn thành tác vụ tổng thể khó khăn hơn là ***dọn dẹp nhà cửa***."
   ]
  },
  {
   "cell_type": "markdown",
   "id": "86daab79-32a3-46d2-a64c-cda99e8b3193",
   "metadata": {},
   "source": [
    "Cách khác để tạo ra một hệ thống phân cấp các nhiệm vụ là thực hiện theo **phương pháp từ dưới lên (*bottom-up*)**. Trong phương pháp này, chúng ta sẽ bắt đầu từ một danh sách các nhiệm vụ dễ dàng và xây dựng hệ thống phân cấp bằng cách nhóm chúng lại với nhau.\n",
    "\n",
    "Ví dụ, nhiều người phải đi làm hoặc đi học vào các ngày trong tuần, vì vậy hãy nói rằng chúng ta muốn giải quyết vấn đề **“đi làm”**. Nếu bạn được hỏi bạn đã làm những công việc gì vào buổi sáng để đi từ giường đến cơ quan, bạn có thể đưa ra danh sách sau:\n",
    "\n",
    "- Lấy quần áo\n",
    "- Mặc quần áo\n",
    "- Ăn sáng\n",
    "- Đi làm\n",
    "- Đánh răng\n",
    "- Ra khỏi giường\n",
    "- Chuẩn bị bữa ăn sáng\n",
    "- Lấy xe đạp\n",
    "- Đi tắm\n",
    "\n",
    "Sử dụng phương pháp ***bottom-up***, chúng ta có thể tổ chức chúng thành một hệ thống phân cấp các mục bằng cách tìm kiếm các cách để nhóm các mục có điểm tương đồng với nhau:\n",
    "\n",
    "- Từ giường đến cơ quan\n",
    "    - Những thứ trong phòng ngủ\n",
    "        - Tắt báo thức\n",
    "        - Ra khỏi giường\n",
    "        - Lấy quần áo\n",
    "    - Những thứ trong phòng tắm\n",
    "        - Đi tắm\n",
    "        - Mặc quần áo\n",
    "        - Đánh răng\n",
    "    - Những thứ cho bữa ăn sáng\n",
    "        - Pha cà phê hoặc trà\n",
    "        - Ăn ngũ cốc\n",
    "    - Những thứ về phương tiện đi lại\n",
    "        - Lên xe đạp\n",
    "        - Đi làm\n",
    "\n",
    "Hóa ra, các hệ thống phân cấp tác vụ này cực kỳ hữu ích trong lập trình, bởi vì một khi bạn có hệ thống phân cấp tác vụ, về bản chất bạn đã xác định cấu trúc của toàn bộ chương trình. Tác vụ cấp cao nhất (trong trường hợp này là *“Dọn dẹp nhà cửa”* hoặc *“Đi làm”*) trở thành `main()` (bởi vì đó là vấn đề chính bạn đang cố gắng giải quyết). Các mục phụ trở thành các hàm trong chương trình.\n",
    "\n",
    "Nếu một trong các mục (hàm) có vẻ quá khó để triển khai, chỉ cần chia nhỏ mục đó thành nhiều mục phụ / hàm phụ. Cuối cùng, bạn sẽ đạt đến một điểm mà mỗi hàm trong chương trình của bạn đều có thể triển khai một cách đơn giản.\n",
    "\n"
   ]
  },
  {
   "cell_type": "markdown",
   "id": "27db18b8-d108-4315-90e3-f62640f07eb5",
   "metadata": {},
   "source": [
    "### **Bước thiết kế 5: Xác định trình tự các sự kiện**"
   ]
  },
  {
   "cell_type": "markdown",
   "id": "750e3f4c-dfab-48f2-9a6d-0f0c54c2e9c0",
   "metadata": {},
   "source": [
    "Bây giờ chương trình của bạn đã có cấu trúc, đã đến lúc xác định cách liên kết tất cả các tác vụ lại với nhau. Bước đầu tiên là xác định trình tự các sự kiện sẽ được thực hiện. Ví dụ, khi bạn dậy vào buổi sáng, bạn thực hiện các tác vụ ở trên theo thứ tự nào? Nó có thể trông giống như thế này:\n",
    "\n",
    "1. Những thứ trong phòng ngủ\n",
    "2. Những thứ trong phòng tắm\n",
    "3. Những thứ cho bữa ăn sáng\n",
    "4. Những thứ về phương tiện đi lại\n",
    "\n",
    "Nếu chúng ta đang viết một chương trình tính toán, chúng ta có thể thực hiện các thao tác theo thứ tự này:\n",
    "\n",
    "- Lấy số thứ nhất từ người dùng\n",
    "- Lấy phép toán từ người dùng\n",
    "- Lấy số thứ hai từ người dùng\n",
    "- Tính toán kết quả\n",
    "- In kết quả\n",
    "\n",
    "Lúc này, chúng ta đã sẵn sàng để triển khai."
   ]
  },
  {
   "cell_type": "markdown",
   "id": "6c55f024-edab-428a-8ab0-6880670d0414",
   "metadata": {},
   "source": [
    "### **Bước triển khai 1: Vạch ra hàm chính của bạn**"
   ]
  },
  {
   "cell_type": "markdown",
   "id": "2cae703d-082c-4ba1-9698-c4f93cc61857",
   "metadata": {},
   "source": [
    "Bây giờ chúng ta đã sẵn sàng để bắt đầu triển khai. Các trình tự trên có thể được sử dụng để phác thảo chương trình chính của bạn. Hiện tại, đừng lo lắng về đầu vào và đầu ra.\n",
    "\n",
    ">```\n",
    ">int main()\n",
    ">{\n",
    ">//    doBedroomThings(); // Bình luận vì hàm chưa được định nghĩa\n",
    ">//    doBathroomThings(); // Bình luận vì hàm chưa được định nghĩa\n",
    ">//    doBreakfastThings(); // Bình luận vì hàm chưa được định nghĩa\n",
    ">//    doTransportationThings(); // Bình luận vì hàm chưa được định nghĩa\n",
    ">\n",
    ">    return 0;\n",
    ">}\n",
    ">```\n",
    "\n",
    "Hoặc trong trường hợp của chương trình tính toán:\n",
    ">```\n",
    ">int main()\n",
    ">{\n",
    ">      // Lấy số thứ nhất từ người dùng // Bình luận vì hàm chưa được định nghĩa\n",
    ">//    getUserInput();\n",
    ">\n",
    ">      // Lấy phép toán từ người dùng // Bình luận vì hàm chưa được định nghĩa\n",
    ">//    getMathematicalOperation();\n",
    ">\n",
    ">      // Lấy số thứ hai từ người dùng // Bình luận vì hàm chưa được định nghĩa\n",
    ">//    getUserInput();\n",
    ">\n",
    ">      // Tính toán kết quả // Bình luận vì hàm chưa được định nghĩa\n",
    ">//    calculateResult();\n",
    ">\n",
    ">      // In kết quả // Bình luận vì hàm chưa được định nghĩa\n",
    ">//    printResult();\n",
    ">\n",
    ">    return 0;\n",
    "}\n",
    ">```\n",
    "\n",
    "Lưu ý rằng nếu bạn định sử dụng phương pháp \"phác thảo\" này để xây dựng chương trình của mình, các hàm của bạn sẽ không được biên dịch vì các định nghĩa chưa tồn tại. Bình luận các lệnh gọi hàm cho đến khi bạn sẵn sàng triển khai định nghĩa hàm là một cách để giải quyết việc này (và là cách chúng ta sẽ trình bày ở đây). Ngoài ra, bạn có thể tạo các khung (stub) cho các hàm của mình (tạo các hàm giữ chỗ với thân rỗng) để chương trình của bạn có thể biên dịch."
   ]
  },
  {
   "cell_type": "markdown",
   "id": "a0d6ecfc-682c-41d8-b9d3-b0f620ddd93d",
   "metadata": {},
   "source": [
    "### **Bước triển khai 2: Triển khai từng hàm**"
   ]
  },
  {
   "cell_type": "markdown",
   "id": "c6cdd126-31f6-43e5-9da5-73e049c6c862",
   "metadata": {},
   "source": [
    "Trong bước này, đối với mỗi hàm, bạn sẽ thực hiện ba điều:\n",
    "- Xác định kiểu hàm (đầu vào và đầu ra)\n",
    "- Viết hàm\n",
    "- Kiểm tra hàm\n",
    "\n",
    "Nếu các hàm của bạn được phân tích đủ chi tiết, thì mỗi hàm sẽ trở nên khá đơn giản và dễ dàng. Nếu một hàm nhất định vẫn có vẻ quá phức tạp để triển khai, có lẽ nó cần được chia thành các hàm phụ có thể triển khai dễ dàng hơn (hoặc có thể bạn đã thực hiện sai thứ tự và cần xem xét lại trình tự các sự kiện của mình).\n",
    "\n",
    "Hãy thực hiện hàm đầu tiên từ ví dụ chương trình máy tính cầm tay:\n",
    "\n",
    ">```\n",
    ">#include <iostream>\n",
    ">\n",
    ">// Triển khai đầy đủ của hàm getUserInput\n",
    ">int getUserInput()\n",
    ">{\n",
    ">    std::cout << \"Nhập một số nguyên: \";\n",
    ">    int input{};\n",
    ">    std::cin >> input;\n",
    ">\n",
    ">    return input;\n",
    ">}\n",
    ">\n",
    ">int main()\n",
    ">{\n",
    ">    // Lấy số thứ nhất từ người dùng\n",
    ">    int value{ getUserInput() }; // Lưu ý rằng chúng ta đã bao gồm mã ở đây để kiểm tra giá trị trả về!\n",
    ">    std::cout << value << '\\n'; // mã gỡ lỗi để đảm bảo getUserInput() hoạt động, chúng ta sẽ xóa bỏ sau này\n",
    ">\n",
    ">    // Lấy phép toán từ người dùng\n",
    ">//    getMathematicalOperation();\n",
    ">\n",
    ">    // Lấy số thứ hai từ người dùng\n",
    ">//    getUserInput();\n",
    ">\n",
    ">    // Tính toán kết quả\n",
    ">//    calculateResult();\n",
    ">\n",
    ">    // In kết quả\n",
    ">//    printResult();\n",
    ">\n",
    ">    return 0;\n",
    ">}\n",
    ">```\n",
    "\n",
    "Đầu tiên, chúng ta xác định rằng hàm `getUserInput` không nhận bất kỳ đối số nào và sẽ trả về một giá trị kiểu `int` cho người gọi. Điều đó được phản ánh trong kiểu hàm có giá trị trả về là `int` và không có tham số. Tiếp theo, chúng ta đã viết thân hàm, bao gồm 4 câu lệnh đơn giản. Cuối cùng, chúng ta đã triển khai một số mã tạm thời trong hàm `main` để kiểm tra xem hàm `getUserInput` (bao gồm cả giá trị trả về của nó) có hoạt động chính xác hay không.\n",
    "\n",
    "Chúng ta có thể chạy chương trình này nhiều lần với các giá trị đầu vào khác nhau và đảm bảo rằng chương trình hoạt động như mong đợi tại thời điểm này. Nếu chúng ta tìm thấy thứ gì đó không hoạt động, chúng ta biết vấn đề nằm ở đoạn mã vừa viết.\n",
    "\n",
    "Khi chúng ta tin tưởng chương trình hoạt động như dự định cho đến thời điểm này, chúng ta có thể xóa mã kiểm tra tạm thời và tiến hành triển khai hàm tiếp theo (hàm `getMathematicalOperation`). Chúng ta sẽ không hoàn thành chương trình trong bài học này, vì trước tiên chúng ta cần đề cập thêm một số chủ đề bổ sung.\n",
    "\n",
    "**Ghi nhớ:** Không triển khai toàn bộ chương trình của bạn trong một lần. Hãy thực hiện từng bước, kiểm tra từng bước trước khi tiến hành.\n",
    "\n",
    ">**Nội dung liên quan**<br>\n",
    ">Chúng tôi sẽ đề cập chi tiết hơn về kiểm thử trong bài học **9.1 - Giới thiệu về kiểm thử.**"
   ]
  },
  {
   "cell_type": "markdown",
   "id": "1037ce9d-b4cd-49dd-9d14-d141054a7f5f",
   "metadata": {},
   "source": [
    "### **Bước triển khai 3: Kiểm thử cuối cùng**"
   ]
  },
  {
   "cell_type": "markdown",
   "id": "ba1f8e04-8e85-4bcf-9224-be9f8e2a94c1",
   "metadata": {},
   "source": [
    "Khi chương trình của bạn được “hoàn thành”, bước cuối cùng là kiểm tra toàn bộ chương trình và đảm bảo nó hoạt động như dự định. Nếu nó không hoạt động, hãy sửa chữa nó."
   ]
  },
  {
   "cell_type": "markdown",
   "id": "dd2a3c89-c5fe-41d0-b099-039446f25f96",
   "metadata": {},
   "source": [
    "### **Lời khuyên khi viết chương trình**"
   ]
  },
  {
   "cell_type": "markdown",
   "id": "812d4d2c-2ef0-4f0e-96a0-c54affcb3484",
   "metadata": {},
   "source": [
    "- **Giữ cho chương trình của bạn đơn giản lúc bắt đầu:** Thường thì các lập trình viên mới có tầm nhìn vĩ mô về tất cả những điều họ muốn chương trình của mình thực hiện. \"Tôi muốn viết một trò chơi nhập vai với đồ họa và âm thanh, quái vật và ngục tối ngẫu nhiên, với một thị trấn bạn có thể đến thăm để bán những vật phẩm bạn tìm thấy trong ngục tối.\" Nếu bạn cố gắng viết thứ gì đó quá phức tạp để bắt đầu, bạn sẽ trở nên quá tải và nản lòng vì thiếu tiến bộ. Thay vào đó, hãy biến mục tiêu đầu tiên của bạn trở nên đơn giản nhất có thể, thứ gì đó chắc chắn nằm trong tầm với của bạn. Ví dụ: \"Tôi muốn có thể hiển thị một vùng 2 chiều trên màn hình\".\n",
    "- **Thêm các tính năng theo thời gian:** Sau khi chương trình đơn giản của bạn hoạt động tốt, bạn có thể thêm các tính năng vào đó. Ví dụ, một khi bạn có thể hiển thị vùng không gian, hãy thêm một nhân vật có thể đi lại xung quanh. Sau khi bạn có thể đi lại, hãy thêm các bức tường có thể cản trở tiến trình của bạn. Khi bạn có tường, hãy xây dựng một thị trấn đơn giản từ chúng. Khi bạn có một thị trấn, hãy thêm thương gia. Bằng cách thêm từng tính năng một cách gia tăng, chương trình của bạn sẽ dần trở nên phức tạp hơn mà không khiến bạn quá tải trong quá trình này.\n",
    "- **Tập trung vào một tác vụ tại một thời điểm:** Đừng cố gắng mã hóa tất cả mọi thứ cùng một lúc và đừng phân tán sự chú ý của bạn trên nhiều tác vụ. Tập trung vào một tác vụ tại mỗi một thời điểm. Thà có một tác vụ hoạt động và năm tác vụ chưa được bắt đầu còn hơn là sáu tác vụ hoạt động nửa vời. Nếu bạn phân tán sự chú ý, bạn có nhiều khả năng mắc lỗi và quên các chi tiết quan trọng.\n",
    "- **Kiểm tra từng phần của mã khi bạn chạy:** Các lập trình viên mới thường sẽ viết toàn bộ chương trình trong một lần. Sau đó, khi họ biên dịch nó lần đầu tiên, trình biên dịch báo cáo hàng trăm lỗi. Điều này không chỉ có thể gây ra sự nản lòng, mà nếu mã của bạn không hoạt động, thì việc tìm ra nguyên nhân có thể rất khó. Thay vào đó, hãy viết một đoạn mã, sau đó biên dịch và kiểm tra ngay lập tức. Nếu nó không hoạt động, bạn sẽ biết chính xác vấn đề nằm ở đâu và sẽ dễ dàng sửa chữa. Khi bạn chắc chắn rằng mã hoạt động, hãy chuyển sang phần tiếp theo và lặp lại. Việc viết xong mã của bạn có thể mất nhiều thời gian hơn, nhưng khi bạn hoàn thành, toàn bộ chương trình sẽ hoạt động và bạn không cần phải mất gấp đôi thời gian để tìm ra lý do tại sao nó không hoạt động.\n",
    "- **Đừng đầu tư vào việc hoàn thiện mã sớm:** Bản nháp đầu tiên của một tính năng (hoặc chương trình) hiếm khi tốt. Hơn nữa, các chương trình có xu hướng phát triển theo thời gian, khi bạn thêm các khả năng và tìm ra cách tốt hơn để cấu trúc mọi thứ. Nếu bạn đầu tư quá sớm vào việc \"đánh bóng\" mã của mình (thêm nhiều tài liệu, tuân thủ đầy đủ các thực hành tốt nhất, thực hiện tối ưu hóa), bạn có nguy cơ mất tất cả khoản đầu tư đó khi cần thay đổi mã. Thay vào đó, hãy làm cho các tính năng của bạn hoạt động tối thiểu, sau đó tiếp tục. Khi bạn tin tưởng vào các giải pháp của mình, hãy áp dụng các lớp \"đánh bóng\" tiếp theo. Đừng hướng đến sự hoàn hảo - các chương trình không tầm thường không bao giờ hoàn hảo và luôn có thêm việc gì đó có thể được thực hiện để cải thiện chúng. Hãy đạt đến mức “đủ tốt” và tiếp tục.\n",
    "- **Tối ưu hóa cho khả năng bảo trì, không phải hiệu suất:** Có một câu nói nổi tiếng (của Donald Knuth) rằng *\"premature optimization is the root of all evil”* (*\"Tối ưu hoá sớm là khởi đầu của tất cả tội ác.\"* ). Các lập trình viên mới thường dành quá nhiều thời gian suy nghĩ về cách tối ưu hóa vi mô code của họ (ví dụ: cố gắng tìm ra câu lệnh nào trong 2 câu lệnh chạy nhanh hơn). Điều này hiếm khi quan trọng. Hầu hết các lợi ích về hiệu suất đến từ cấu trúc chương trình tốt, sử dụng các công cụ và khả năng phù hợp cho vấn đề đang xử lý và tuân theo các thực hành tốt nhất. Thời gian bổ sung nên được sử dụng để cải thiện khả năng bảo trì của mã. Tìm kiếm và loại bỏ các đoạn mã trùng lặp. Chia các hàm dài thành các hàm ngắn hơn. Thay thế mã khó sử dụng hoặc khó hiểu bằng thứ gì đó tốt hơn. Kết quả cuối cùng sẽ là mã dễ cải thiện và tối ưu hóa hơn sau này (sau khi bạn đã xác định được nơi thực sự cần tối ưu hóa) và ít lỗi hơn. Chúng tôi cung cấp một số đề xuất bổ sung trong bài học **3.10 - Tìm kiếm các vấn đề trước khi chúng trở thành rắc rối.**\n",
    "\n",
    ">***Một hệ thống phức tạp hoạt động được luôn được phát triển từ một hệ thống đơn giản hoạt động được\n",
    ".***<br>\n",
    "— **John Gall, SYSTEMANTICS: How Systems Work and Especially How They Fail, trang 71**"
   ]
  },
  {
   "cell_type": "markdown",
   "id": "f9b8c4e1-2d5f-41d3-9bb9-67b9f09beec4",
   "metadata": {},
   "source": [
    "### **Kết luận**"
   ]
  },
  {
   "cell_type": "markdown",
   "id": "9e8ee733-6c0d-499c-b57c-f00338320e0e",
   "metadata": {},
   "source": [
    "Nhiều lập trình viên mới thường rút ngắn quy trình thiết kế (bởi vì nó có vẻ tốn nhiều công sức và/hoặc không thú vị bằng việc viết mã). Tuy nhiên, đối với bất kỳ dự án nào không tầm thường, việc thực hiện theo các bước này sẽ giúp bạn tiết kiệm được rất nhiều thời gian trong tương lai. Dành một chút thời gian lên kế hoạch trước sẽ giúp bạn tiết kiệm được rất nhiều công sức gỡ rối lỗi về sau.\n",
    "\n",
    ">**Ý chính**<br>\n",
    ">Dành một chút thời gian suy nghĩ về cách cấu trúc chương trình của bạn ngay từ đầu sẽ dẫn đến mã tốt hơn và ít thời gian hơn để tìm và sửa lỗi.\n",
    ">\n",
    ">*Tôi cho rằng đây có thể là điều quan trọng nhất trong lập trình và một số người trong chúng tôi, giống như tôi lúc đầu, đã coi nhẹ nó.*<br>\n",
    ">**— Bạn đọc Emeka Daniel, BÌNH LUẬN TRÊN LEARNCPP.COM**\n",
    "\n",
    "Khi bạn trở nên thoải mái hơn với những khái niệm và mẹo này, chúng sẽ bắt đầu đến với bạn một cách tự nhiên hơn. Cuối cùng, bạn sẽ đạt đến mức có thể viết toàn bộ hàm (và các chương trình ngắn) mà không cần lập kế hoạch trước."
   ]
  }
 ],
 "metadata": {
  "kernelspec": {
   "display_name": "Python 3 (ipykernel)",
   "language": "python",
   "name": "python3"
  },
  "language_info": {
   "codemirror_mode": {
    "name": "ipython",
    "version": 3
   },
   "file_extension": ".py",
   "mimetype": "text/x-python",
   "name": "python",
   "nbconvert_exporter": "python",
   "pygments_lexer": "ipython3",
   "version": "3.12.2"
  }
 },
 "nbformat": 4,
 "nbformat_minor": 5
}
