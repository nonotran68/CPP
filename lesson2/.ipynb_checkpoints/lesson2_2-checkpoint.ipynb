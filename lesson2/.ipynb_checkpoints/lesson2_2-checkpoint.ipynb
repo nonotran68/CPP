{
 "cells": [
  {
   "cell_type": "markdown",
   "id": "84bde838-7f51-4e7c-a397-1bf369374b89",
   "metadata": {},
   "source": [
    "## **Bài 2.2: <u>Hàm trả về giá trị (value-returning functions)</u>**"
   ]
  },
  {
   "cell_type": "markdown",
   "id": "46ef2e27-d707-4caf-a1f2-e73f8d2b21df",
   "metadata": {},
   "source": [
    "Xét đoạn chương trình sau:\n",
    "\n",
    ">```\n",
    ">#include <iostream>\n",
    ">\n",
    ">int main() {\n",
    ">    // Nhận giá trị từ người dùng\n",
    ">    std::cout << \"Nhập một số nguyên: \";\n",
    ">    int num{};\n",
    ">    std::cin >> num;\n",
    ">\n",
    ">    // In ra giá trị gấp đôi\n",
    ">    std::cout << num << \" nhân đôi là: \" << num * 2 << '\\n';\n",
    ">\n",
    ">    return 0;\n",
    ">}\n",
    ">```\n",
    "\n",
    "Chương trình này được cấu thành từ hai phần: Đầu tiên, chúng ta nhận giá trị từ người dùng. Sau đó, chúng ta thông báo cho người dùng giá trị đó nhân đôi là bao nhiêu.\n",
    "\n",
    "Mặc dù chương trình này đủ đơn giản để không cần chia thành nhiều hàm, nhưng nếu chúng ta muốn chia tách thì sao? Nhận giá trị số nguyên từ người dùng là một công việc được xác định rõ ràng mà chương trình của chúng ta cần thực hiện, do đó nó sẽ là một ứng cử viên tốt cho một hàm.\n",
    "\n",
    "Vì vậy, hãy viết một chương trình để thực hiện việc này:\n",
    "\n",
    ">```\n",
    ">// Chương trình này không hoạt động\n",
    ">#include <iostream>\n",
    ">\n",
    ">void getValueFromUser() {\n",
    ">    std::cout << \"Nhập một số nguyên: \";\n",
    ">    int input{};\n",
    ">    std::cin >> input;\n",
    ">}\n",
    ">\n",
    ">int main() {\n",
    ">    getValueFromUser(); // Yêu cầu người dùng nhập dữ liệu\n",
    ">\n",
    ">    int num{}; // Làm thế nào để lấy giá trị từ getValueFromUser() và sử dụng nó để khởi tạo biến này?\n",
    ">\n",
    ">    std::cout << num << \" nhân đôi là: \" << num * 2 << '\\n';\n",
    ">\n",
    ">    return 0;\n",
    ">}\n",
    ">```\n",
    "\n",
    "Mặc dù chương trình này là một nỗ lực giải quyết tốt, nhưng nó không hoàn toàn hoạt động.\n",
    "\n",
    "Khi hàm `getValueFromUser` được gọi, người dùng được yêu cầu nhập một số nguyên như mong đợi. Nhưng giá trị họ nhập vào sẽ bị mất khi `getValueFromUser` kết thúc và quyền điều khiển trở lại `main`. Biến num không bao giờ được khởi tạo bằng giá trị người dùng nhập vào, do đó chương trình luôn in ra kết quả `0`."
   ]
  },
  {
   "cell_type": "markdown",
   "id": "88261e96-fd40-4efc-a92c-6058f57788b1",
   "metadata": {},
   "source": [
    "### **Giá trị trả về**"
   ]
  },
  {
   "cell_type": "markdown",
   "id": "57bfdca2-df09-4ba5-b7da-da09c3ea4229",
   "metadata": {},
   "source": [
    "Khi bạn viết một hàm do người dùng định nghĩa, bạn có thể xác định xem hàm của bạn có trả về giá trị cho trình gọi hay không. Để trả về giá trị cho trình gọi, cần hai điều."
   ]
  },
  {
   "cell_type": "markdown",
   "id": "0ffc9651-2fbf-46d5-b233-c7818776370d",
   "metadata": {},
   "source": [
    "#### **1. Kiểu trả về của hàm (Return Type):**"
   ]
  },
  {
   "cell_type": "markdown",
   "id": "3051d654-3fdc-4e4b-b299-e81298e1d32f",
   "metadata": {},
   "source": [
    "Thứ nhất, hàm của bạn phải chỉ định loại giá trị sẽ được trả về. Điều này được thực hiện bằng cách đặt kiểu trả về của hàm, là kiểu được xác định trước tên hàm. Trong ví dụ trên, hàm `getValueFromUser` có kiểu trả về là `void` (có nghĩa là không có giá trị nào được trả về cho trình gọi), và hàm `main` có kiểu trả về là `int` (nghĩa là một giá trị kiểu `int` sẽ được trả về cho trình gọi). Lưu ý rằng điều này không xác định chính xác giá trị cụ thể được trả về - nó chỉ xác định kiểu của giá trị sẽ được trả về.\n",
    "\n",
    ">**Bài học liên quan:**<br>\n",
    ">Chúng ta sẽ khám phá thêm về các hàm trả về `void` trong bài học tiếp theo **(2.3 - Hàm Void (hàm không trả về giá trị)).**"
   ]
  },
  {
   "cell_type": "markdown",
   "id": "f50fb447-4689-42ca-86ec-9bbb610537f6",
   "metadata": {},
   "source": [
    "#### **2. Sử dụng câu lệnh return (Return Statement)**"
   ]
  },
  {
   "cell_type": "markdown",
   "id": "918bf711-63a4-46dc-81c8-469e56cfcc11",
   "metadata": {},
   "source": [
    "Thứ hai, bên trong hàm sẽ trả về một giá trị, chúng ta sử dụng câu lệnh `return` để chỉ định giá trị cụ thể được trả về cho trình gọi. Giá trị cụ thể được trả về từ một hàm được gọi là **giá trị trả về** của hàm. Khi câu lệnh `return` được thực thi, hàm thoát ngay lập tức và giá trị trả về được sao chép từ hàm trở lại hàm gọi. Quá trình này được gọi là **trả về theo giá trị (return by value).**\n",
    "\n"
   ]
  },
  {
   "cell_type": "markdown",
   "id": "2b51ddf5-d3ca-4b62-8fa5-5f36f1650e2f",
   "metadata": {},
   "source": [
    "Ví dụ:<br>\n",
    "Hãy xem một hàm đơn giản trả về một giá trị số nguyên và một chương trình mẫu gọi hàm đó:\n",
    "\n",
    ">```\n",
    ">#include <iostream>\n",
    ">\n",
    ">// int là kiểu trả về\n",
    ">// Kiểu trả về int có nghĩa là hàm sẽ trả về một giá trị số nguyên nào đó cho trình gọi (giá trị cụ thể không được chỉ định ở đây)\n",
    ">int returnFive() {\n",
    ">    // Câu lệnh return chỉ định giá trị cụ thể sẽ được trả về\n",
    ">    return 5; // Trả về giá trị cụ thể 5 cho hàm gọi.\n",
    ">}\n",
    ">\n",
    ">int main() {\n",
    ">    std::cout << returnFive() << '\\n'; // In 5\n",
    ">    std::cout << returnFive() + 2 << '\\n'; // In 7\n",
    ">\n",
    ">    returnFive(); // Không sao: giá trị 5 được trả về, nhưng bị bỏ qua vì main() không làm gì với nó\n",
    ">\n",
    ">    return 0;\n",
    ">}\n",
    ">```\n",
    "Hãy thận trọng khi sử dụng các đoạn mã.\n",
    "Khi chạy, chương trình này in:\n",
    "\n",
    ">`5`\\\n",
    ">`7`"
   ]
  },
  {
   "cell_type": "markdown",
   "id": "220747e5-a69d-4ac2-bd44-4dfcd3cdd1d1",
   "metadata": {},
   "source": [
    "#### **Thứ tự thực thi:**\n"
   ]
  },
  {
   "cell_type": "markdown",
   "id": "66dea186-79f7-45e5-9f31-8fcb5e3145ee",
   "metadata": {},
   "source": [
    "- Quá trình thực thi bắt đầu từ đầu hàm `main`.\n",
    "- Trong câu lệnh đầu tiên, lệnh gọi hàm `returnFive` được đánh giá, dẫn đến việc hàm `returnFive` được gọi.\n",
    "- Hàm `returnFive` trả về giá trị cụ thể là `5` hàm gọi (hàm `main`), sau đó giá trị này được in ra console thông qua `std::cout`.\n",
    "- Trong lệnh gọi hàm thứ hai, lệnh gọi hàm `returnFive` được đánh giá, dẫn đến việc hàm `returnFive` được gọi lại lần nữa. Hàm `returnFive` trả về giá trị `5` cho hàm gọi. Biểu thức `5 + 2` được tính toán để tạo ra kết quả `7`, sau đó được in ra console thông qua `std::cout`.\n",
    "- Trong câu lệnh thứ ba, hàm `returnFive` được gọi lại, dẫn đến việc giá trị `5` được trả về cho hàm gọi. Tuy nhiên, hàm `main` không làm gì với giá trị trả về này, vì vậy không có gì khác xảy ra (giá trị trả về bị bỏ qua).\n",
    "\n",
    ">**Lưu ý:**<br>\n",
    ">Giá trị trả về sẽ không được in ra trừ khi trình gọi gửi chúng đến console thông qua `std::cout`. Trong trường hợp cuối cùng ở trên, giá trị trả về không được gửi đến `std::cout`, vì vậy không có gì được in ra.\n",
    "\n",
    ">**Mẹo:**<br>\n",
    ">Khi một hàm được gọi trả về giá trị, hàm gọi nó có thể quyết định sử dụng giá trị đó trong một biểu thức hoặc câu lệnh (ví dụ: sử dụng nó để khởi tạo biến hoặc gửi nó đến `std::cout`) hoặc bỏ qua nó (bằng cách không làm gì khác). Nếu hàm gọi bỏ qua giá trị trả về, nó sẽ bị loại bỏ (không có gì được thực hiện với nó)."
   ]
  },
  {
   "cell_type": "markdown",
   "id": "b875193d-efde-489e-a960-65d301d161c0",
   "metadata": {},
   "source": [
    "### **Giải quyết bài toán thách thức đặt ra ở đầu bài**"
   ]
  },
  {
   "cell_type": "markdown",
   "id": "51168c13-9c7d-44ca-980a-6a6efdeba1fe",
   "metadata": {},
   "source": [
    "Giờ đây, với những kiến thức vừa học, chúng ta có thể sửa chữa chương trình được giới thiệu ở đầu bài:"
   ]
  },
  {
   "cell_type": "markdown",
   "id": "274eb9f8-5b77-4709-b7e0-6719f7da77e0",
   "metadata": {},
   "source": [
    ">```\n",
    ">#include <iostream>\n",
    ">int getValueFromUser() { // Hàm này hiện trả về một giá trị kiểu số nguyên\n",
    ">    std::cout << \"Enter an integer: \";\n",
    ">    int input {};\n",
    ">    std::cin >> input;\n",
    ">    return input; // Trả về giá trị người dùng nhập cho hàm gọi\n",
    ">}\n",
    ">int main() {\n",
    ">    int num { getValueFromUser() }; // Khởi tạo num bằng giá trị trả về của getValueFromUser()\n",
    ">    std::cout << num << \" doubled is: \" << num * 2 << '\\n';\n",
    ">\n",
    ">    return 0;\n",
    ">}\n",
    ">```"
   ]
  },
  {
   "cell_type": "markdown",
   "id": "e4b65efc-9f19-4bac-8325-a419b3dfb918",
   "metadata": {},
   "source": [
    "**Giải thích:**\n",
    "\n",
    "Khi chương trình này thực thi, câu lệnh đầu tiên trong `main` sẽ tạo một biến int có tên `num`. Khi chương trình khởi tạo `num`, nó sẽ thấy có một lệnh gọi hàm `getValueFromUser()`, do đó chương trình sẽ thực thi hàm đó. Hàm `getValueFromUser` yêu cầu người dùng nhập giá trị, sau đó trả giá trị đó về cho trình gọi (`main`). Giá trị trả về này được sử dụng làm giá trị khởi tạo cho biến `num`.\n",
    "\n",
    "Hãy tự biên dịch chương trình này và chạy nó vài lần để kiểm tra xem nó hoạt động chính xác hay không.\n"
   ]
  },
  {
   "cell_type": "markdown",
   "id": "34e3a237-04ea-4e7c-87a0-3c41731ec4c9",
   "metadata": {},
   "source": [
    "### **Xem xét lại hàm `main()`:**"
   ]
  },
  {
   "cell_type": "markdown",
   "id": "10e98bab-f831-4728-b145-96fe78fe7979",
   "metadata": {},
   "source": [
    "Bây giờ bạn đã có những công cụ khái niệm để hiểu cách thức hoạt động thực sự của hàm `main`. Khi chương trình được thực thi, hệ điều hành sẽ gọi hàm `main`. Sau đó, quá trình thực thi nhảy đến đầu của `main`. Các câu lệnh trong `main` được thực thi tuần tự. Cuối cùng, `main` trả về một giá trị kiểu số nguyên (thường là `0`), và chương trình của bạn kết thúc. Giá trị trả về từ `main` đôi khi được gọi là **mã trạng thái (status code, còn được gọi là mã thoát (exit code) hoặc hiếm khi gọi là mã trả về (return code))**, vì nó được sử dụng để báo hiệu chương trình có chạy thành công hay không.\n",
    "\n",
    "Theo định nghĩa, mã trạng thái `0` có nghĩa là chương trình đã chạy thành công.\n",
    "\n",
    ">**Thực hành:**\n",
    ">\n",
    ">Hàm main của bạn nên trả về giá trị 0 nếu chương trình chạy bình thường.\n",
    "\n",
    "Mã trạng thái khác 0 thường được sử dụng để báo hiệu lỗi (mặc dù điều này đúng trên hầu hết các hệ điều hành, nhưng về mặt lý thuyết, nó không đảm bảo tính di động).\n",
    "\n",
    ">**Đối với người đọc nâng cao:**\n",
    ">\n",
    ">Chuẩn C++ chỉ định nghĩa ý nghĩa của 3 mã trạng thái: `0`, `EXIT_SUCCESS` và `EXIT_FAILURE`. `0` và `EXIT_SUCCESS` đều có nghĩa là chương trình chạy thành công. `EXIT_FAILURE` có nghĩa là chương trình không chạy thành công.\n",
    ">\n",
    ">`EXIT_SUCCESS` và `EXIT_FAILURE` là các macro tiền xử lý được định nghĩa trong tiêu đề <cstdlib>:\n",
    ">\n",
    ">>```\n",
    ">>#include <cstdlib> // for EXIT_SUCCESS and EXIT_FAILURE\n",
    ">>\n",
    ">>int main()\n",
    ">>{\n",
    ">>    return EXIT_SUCCESS;\n",
    ">>}\n",
    ">>```\n",
    "\n",
    "Nếu bạn muốn tối đa hóa khả năng di động, bạn chỉ nên sử dụng `0` hoặc `EXIT_SUCCESS` để báo hiệu kết thúc thành công, hoặc `EXIT_FAILURE` để báo hiệu kết thúc không thành công.\n",
    "\n",
    ">**Lưu ý:**\n",
    ">\n",
    ">**C++** không cho phép gọi hàm main() một cách trực tiếp.\n",
    "\n",
    ">**Ngoài lề:**\n",
    ">\n",
    ">**C** cho phép gọi `main()` trực tiếp, vì vậy một số trình biên dịch **C++**\n",
    "> sẽ cho phép điều này vì lý do tương thích.\n",
    "\n",
    "Hiện tại, bạn cũng nên định nghĩa hàm `main()` ở cuối tệp mã của bạn, bên dưới các hàm khác, và tránh gọi nó trực tiếp."
   ]
  },
  {
   "cell_type": "markdown",
   "id": "037e3b9a-0654-4d2b-b8c6-6f4d365171ce",
   "metadata": {},
   "source": [
    "### **Một hàm trả về giá trị mà không trả về giá trị sẽ tạo ra hành vi bất định.**"
   ]
  },
  {
   "cell_type": "markdown",
   "id": "7e92e1a1-d859-4272-b387-eaf410730356",
   "metadata": {},
   "source": [
    "Một hàm trả giá trị được thiết kế để cung cấp một giá trị cụ thể (số nguyên, chuỗi ký tự, đối tượng, ...) cho đoạn mã gọi hàm đó. Một hàm là hàm trả về giá trị nếu kiểu trả về là bất kỳ thứ gì ngoại trừ `void`. Kiểu trả về của hàm xác định loại dữ liệu mà nó sẽ trả về. Các kiểu trả về phổ biến gồm `int` (số nguyên), `double` (số thực), `string` (chuỗi ký tự), và các kiểu dữ liệu do bạn tự định nghĩa."
   ]
  },
  {
   "cell_type": "markdown",
   "id": "46e33de8-e471-475d-b76c-ce03b11416ab",
   "metadata": {},
   "source": [
    "Một hàm trả về giá trị phải trả về một giá trị của kiểu đó (sử dụng câu lệnh `return`), nếu không sẽ tạo ra hành vi bất định.\n",
    "\n",
    ">**Nội dung liên quan**\n",
    ">\n",
    ">Chúng tôi thảo luận về **hành vi bất định** trong **[bài học 1.6 - Biến chưa khởi tạo và hành vi bất định](../lesson1/lesson1_6.ipynb).**\n",
    "\n",
    "**Hành vi bất định:**\n",
    "\n",
    ">```\n",
    ">#include <iostream>\n",
    ">\n",
    ">int getValueFromUserUB() { // Hàm này được khai báo để trả về một số nguyên\n",
    ">  std::cout << \"Nhập một số nguyên: \";\n",
    ">  int input;\n",
    ">  std::cin >> input;\n",
    ">\n",
    ">  // Lưu ý: Không có câu lệnh return!\n",
    ">}\n",
    ">\n",
    ">int main() {\n",
    ">  int num = getValueFromUserUB(); // Cố gắng sử dụng giá trị trả về\n",
    ">\n",
    ">  std::cout << num << \" nhân đôi là: \" << num * 2 << std::endl;\n",
    ">\n",
    ">  return 0;\n",
    ">}\n",
    ">```"
   ]
  },
  {
   "cell_type": "markdown",
   "id": "3fc967d5-b683-4cc4-ae5d-1a016265b02f",
   "metadata": {},
   "source": [
    "Trong ví dụ này, hàm `getValueFromUserUB` được khai báo để trả về một số nguyên, nhưng nó thiếu câu lệnh `return` để cung cấp giá trị đó. Việc thiếu sót này dẫn đến hành vi bất định:\n",
    "- Chương trình có thể bị lỗi hoặc tạo ra kết quả không mong đợi.\n",
    "- Giá trị được gán cho `num` trong `main` trở nên bất định, dẫn đến lỗi tiềm ẩn khi sử dụng nó trong các phép tính.\n",
    "\n",
    "May mắn thay, nhiều trình biên dịch hiện đại sẽ cảnh báo khi gặp hàm được khai báo để trả về giá trị nhưng thiếu `return`. Những cảnh báo này giúp bạn phát hiện lỗi và ngăn chặn hành vi bất định.\n",
    "\n",
    "Trong hầu hết các trường hợp, trình biên dịch sẽ phát hiện nếu bạn quên trả về một giá trị. Tuy nhiên, trong một số trường hợp phức tạp, trình biên dịch có thể không thể xác định một cách chính xác liệu hàm của bạn có trả về một giá trị hay không trong tất cả các trường hợp, vì vậy bạn không nên phụ thuộc vào điều này.\n",
    "\n",
    ">**Lưu ý**\n",
    ">- Luôn sử dụng return trong các hàm trả giá trị. Điều này giúp mã của bạn dễ hiểu, dự đoán được và ít lỗi hơn."
   ]
  },
  {
   "cell_type": "markdown",
   "id": "3496478d-ebb1-4105-8eb8-f3226f95b2d9",
   "metadata": {},
   "source": [
    "### **Hàm `main()` sẽ ngầm định `return 0;` nếu lệnh return không được cấp**"
   ]
  },
  {
   "cell_type": "markdown",
   "id": "5ae89586-4241-4474-b393-01f069c85932",
   "metadata": {},
   "source": [
    "Hàm `main` là một trường hợp đặc biệt. Nếu `main` không có câu lệnh `return` rõ ràng, mặc định nó sẽ trả về `0`. Tuy nhiên, nên thành lập thói quen sử dụng `return` với giá trị cụ thể trong `main` để thể hiện ý định và duy trì tính nhất quán với các hàm khác (mà sẽ gây ra hành vi bất định nếu thiếu `return`).\n"
   ]
  },
  {
   "cell_type": "markdown",
   "id": "25ef477e-f563-4faf-9a93-c5ac111cfe84",
   "metadata": {},
   "source": [
    "### **Hàm chỉ có thể trả về một giá trị:**"
   ]
  },
  {
   "cell_type": "markdown",
   "id": "374c8107-2885-4046-af87-9170458278ee",
   "metadata": {},
   "source": [
    "Một hàm trả về giá trị chỉ có thể trả về một giá trị duy nhất cho người gọi mỗi lần nó được gọi.\n",
    "\n",
    "Lưu ý rằng giá trị được cung cấp trong câu lệnh `return` không cần phải là literal -- nó có thể là kết quả của bất kỳ biểu thức hợp lệ nào, bao gồm biến hoặc thậm chí là một lời gọi đến một hàm trả về giá trị khác. Trong ví dụ của hàm `getValueFromUser()` ở trên, chúng ta đã trả về một biến `input`, chứa giá trị mà người dùng nhập vào.\n",
    "\n",
    "Mặc dù các hàm thường chỉ trả về một giá trị duy nhất, nhưng có những kỹ thuật trong lập trình (như truyền đối số theo tham chiếu hoặc trả về cấu trúc) cho phép bạn truyền tải dữ liệu phức tạp hơn. Những khái niệm này sẽ được đề cập trong các bài học sau.\n",
    "\n"
   ]
  },
  {
   "cell_type": "markdown",
   "id": "f1126ffe-f7e8-4c8f-82a3-ee9a9e4e8659",
   "metadata": {},
   "source": [
    "### **Ý nghĩa của giá trị trả về của hàm:**"
   ]
  },
  {
   "cell_type": "markdown",
   "id": "9c22a557-c4d1-43df-9a79-bb34216c62b4",
   "metadata": {},
   "source": [
    "Ý nghĩa của giá trị trả về bởi một hàm được xác định bởi tác giả của hàm đó. Một số hàm sử dụng giá trị trả về như mã trạng thái, để báo hiệu chúng thành công hay thất bại. Các hàm khác trả về một giá trị được tính toán hoặc lựa chọn. Một số hàm khác không trả về gì (chúng ta sẽ xem các ví dụ về những hàm này trong bài học tiếp theo).\n",
    "\n",
    "Do có nhiều khả năng khác nhau, nên tốt nhất là bạn nên ghi chú hàm của mình bằng một bình luận cho biết ý nghĩa của các giá trị trả về. Ví dụ:"
   ]
  },
  {
   "cell_type": "markdown",
   "id": "cfbe31fb-9d53-45d8-b89c-c60c5cd0ac19",
   "metadata": {},
   "source": [
    ">```\n",
    ">// Hàm yêu cầu người dùng nhập giá trị\n",
    ">// Giá trị trả về là số nguyên được người dùng nhập từ bàn phím\n",
    ">int getValueFromUser()\n",
    ">{\n",
    ">  std::cout << \"Nhập một số nguyên: \";\n",
    ">  int input{};\n",
    ">  std::cin >> input;\n",
    ">\n",
    ">  return input; // trả về giá trị người dùng nhập cho chương trình gọi\n",
    ">}\n",
    ">```"
   ]
  },
  {
   "cell_type": "markdown",
   "id": "883044bf-e691-4bec-a144-fd4fb63fadba",
   "metadata": {},
   "source": [
    "### **Sử dụng lại hàm**"
   ]
  },
  {
   "cell_type": "markdown",
   "id": "18651bae-dfb4-4ef6-9121-d30f15edffdb",
   "metadata": {},
   "source": [
    "Bây giờ chúng ta có thể minh họa một ví dụ hay về việc sử dụng lại hàm. Xem xét chương trình sau:\n",
    "\n",
    ">```\n",
    ">#include <iostream>\n",
    ">\n",
    ">int main()\n",
    ">{\n",
    ">  int x{};\n",
    ">  std::cout << \"Nhập một số nguyên: \";\n",
    ">  std::cin >> x;\n",
    ">\n",
    ">  int y{};\n",
    ">  std::cout << \"Nhập một số nguyên: \";\n",
    ">  std::cin >> y;\n",
    ">\n",
    ">  std::cout << x << \" + \" << y << \" = \" << x + y << '\\n';\n",
    ">\n",
    ">  return 0;\n",
    ">}\n",
    ">```\n",
    "\n",
    "Mặc dù chương trình này hoạt động, nhưng nó hơi thừa. Thực tế, chương trình này vi phạm một trong những nguyên tắc cốt lõi của lập trình tốt: **Đừng Lặp Lại Chính Mình** (thường được viết tắt là **DRY - Don't Repeat Yourself).**\n",
    "\n",
    "Tại sao mã lặp lại là không tốt? Nếu chúng ta muốn thay đổi văn bản `\"Nhập một số nguyên:\"` thành thứ khác, chúng ta sẽ phải cập nhật nó ở hai vị trí. Và nếu chúng ta muốn khởi tạo 10 biến thay vì 2 thì sao? Điều đó sẽ tạo ra rất nhiều mã thừa (khiến chương trình của chúng ta dài hơn và khó hiểu hơn), và tạo ra nhiều chỗ cho lỗi đánh máy.\n",
    "\n",
    "Hãy cập nhật chương trình này để sử dụng hàm `getValueFromUser` mà chúng ta đã phát triển ở trên:\n",
    "\n",
    ">```\n",
    ">#include <iostream>\n",
    ">\n",
    ">int getValueFromUser()\n",
    ">{\n",
    ">  std::cout << \"Nhập một số nguyên: \";\n",
    ">  int input{};\n",
    ">  std::cin >> input;\n",
    ">\n",
    ">  return input;\n",
    ">}\n",
    ">\n",
    ">int main()\n",
    ">{\n",
    ">  int x{ getValueFromUser() }; // gọi getValueFromUser lần đầu\n",
    ">  int y{ getValueFromUser() }; // gọi getValueFromUser lần thứ hai\n",
    ">\n",
    ">  std::cout << x << \" + \" << y << \" = \" << x + y << '\\n';\n",
    ">\n",
    ">  return 0;\n",
    ">}\n",
    ">```\n",
    "\n",
    "Chương trình này tạo ra đầu ra sau:\n",
    ">```\n",
    ">Nhập một số nguyên: 5\n",
    ">Nhập một số nguyên: 7\n",
    ">5 + 7 = 12\n",
    ">```\n",
    "\n",
    "Trong chương trình này, chúng ta gọi `getValueFromUser` hai lần, một lần để khởi tạo biến `x` và một lần để khởi tạo biến `y`. Điều đó giúp chúng ta tránh việc sao chép mã để lấy đầu vào của người dùng và giảm thiểu khả năng mắc lỗi. Một khi chúng ta biết `getValueFromUser` hoạt động, chúng ta có thể gọi nó nhiều lần theo ý muốn.\n",
    "\n",
    "Đây là bản chất của **lập trình mô-đun**: khả năng viết một hàm, kiểm tra nó, đảm bảo nó hoạt động và sau đó biết rằng chúng ta có thể sử dụng lại nó nhiều lần tùy thích và nó sẽ tiếp tục hoạt động (miễn là chúng ta không sửa đổi hàm - tại thời điểm đó chúng ta sẽ phải kiểm tra lại)."
   ]
  },
  {
   "cell_type": "markdown",
   "id": "09aba3d1-1ca9-492b-8f60-6f17d3bb3a86",
   "metadata": {},
   "source": [
    ">**Thực hành tốt nhất: Tránh lặp lại mã (DRY)**<br>\n",
    ">**Nguyên tắc <u>DRY</u> (Don't Repeat Yourself - Tránh lặp lại chính mình):**\n",
    ">- Nếu bạn cần thực hiện một tác vụ nhiều hơn một lần, hãy cân nhắc cách sửa đổi mã để loại bỏ càng nhiều sự trùng lặp càng tốt.\n",
    ">- Biến có thể được sử dụng để lưu trữ kết quả của các phép tính cần sử dụng nhiều lần (để chúng ta không phải lặp lại phép tính).\n",
    ">- Hàm có thể được sử dụng để xác định một chuỗi các lệnh mà chúng ta muốn thực thi nhiều hơn một lần.\n",
    ">- Vòng lặp (sẽ được đề cập trong một chương sau) có thể được sử dụng để thực thi một câu lệnh nhiều hơn một lần.\n",
    "\n",
    ">**Lưu ý:**<br>\n",
    ">DRY là một nguyên tắc hướng dẫn, không phải quy tắc tuyệt đối. Quá chia nhỏ mã thành các phần quá nhỏ có thể ảnh hưởng đến khả năng hiểu tổng thể của chương trình.\n",
    ">Ngược lại của **DRY** là **WET (“Write everything twice” - Viết mọi thứ hai lần).**"
   ]
  }
 ],
 "metadata": {
  "kernelspec": {
   "display_name": "Python 3 (ipykernel)",
   "language": "python",
   "name": "python3"
  },
  "language_info": {
   "codemirror_mode": {
    "name": "ipython",
    "version": 3
   },
   "file_extension": ".py",
   "mimetype": "text/x-python",
   "name": "python",
   "nbconvert_exporter": "python",
   "pygments_lexer": "ipython3",
   "version": "3.12.2"
  }
 },
 "nbformat": 4,
 "nbformat_minor": 5
}
