{
 "cells": [
  {
   "cell_type": "markdown",
   "id": "e2b38490-458d-4708-96e1-5ec19f9ef5ae",
   "metadata": {},
   "source": [
    "## **Bài 2.10: <u>Giới thiệu về bộ tiền xử lí (Preprocessor)</u>**\n",
    "\n"
   ]
  },
  {
   "cell_type": "markdown",
   "id": "2df51e8a-effe-4af9-91b9-7bc153a26276",
   "metadata": {},
   "source": [
    "Khi bạn biên dịch dự án của mình, bạn có thể mong đợi trình biên dịch sẽ biên dịch từng tệp mã chính xác như những gì bạn đã viết. Thực tế không phải như vậy.\n",
    "\n",
    "Thay vào đó, trước khi biên dịch, mỗi tệp mã nguồn (.cpp) đều trải qua giai đoạn **tiền xử lý (preprocessing)**. Trong giai đoạn này, một chương trình gọi là **preprocessor (bộ tiền xử lý)** thực hiện các thay đổi khác nhau đối với văn bản của tệp mã. **Bộ tiền xử lí** không thực sự sửa đổi các tệp mã gốc theo bất kỳ cách nào - thay vào đó, tất cả các thay đổi do **bộ tiền xử lí** thực hiện đều diễn ra tạm thời trong bộ nhớ hoặc sử dụng các tệp tạm thời.\n",
    "\n",
    ">**Ngoài lề**<br>\n",
    ">Trong lịch sử, preprocessor là một chương trình riêng biệt với trình biên dịch, nhưng trong các trình biên dịch hiện đại, preprocessor có thể được tích hợp ngay vào chính trình biên dịch.\n",
    "\n",
    "Hầu hết những gì bộ tiền xử lí làm đều khá nhàm chán. **Ví dụ:** nó loại bỏ các chú thích và đảm bảo mỗi tệp mã kết thúc bằng một dòng mới. Tuy nhiên, bộ tiền xử lí có một vai trò rất quan trọng: nó là thứ xử lý các chỉ thị **`#include`** (chúng ta sẽ thảo luận thêm về điều này sau đây một lát).\n",
    "\n",
    "Khi bộ tiền xử lí hoàn thành việc xử lý một tệp mã, kết quả thu được gọi là một **đơn vị dịch (translation unit)**. Đơn vị dịch này sau đó được biên dịch bởi trình biên dịch.\n",
    "\n",
    ">**Nội dung liên quan**<br>\n",
    ">Toàn bộ quá trình tiền xử lý, biên dịch và liên kết được gọi là **dịch (translation)**.\n",
    ">\n",
    ">Nếu bạn tò mò, đây là danh sách [các giai đoạn dịch](https://en.cppreference.com/w/cpp/language/translation_phases). Tính đến thời điểm viết bài này, tiền xử lý bao gồm các giai đoạn từ 1 đến 4, và biên dịch là các giai đoạn từ 5 đến 7.\n",
    "\n"
   ]
  },
  {
   "cell_type": "markdown",
   "id": "32cf0da6-4e3c-44b9-8bf0-b7acbbfc2853",
   "metadata": {},
   "source": [
    "### **Chỉ thị tiền xử lí (preprocessor directive)**"
   ]
  },
  {
   "cell_type": "markdown",
   "id": "3d9ec434-77bd-4b5a-b15b-4fd2aa69693c",
   "metadata": {},
   "source": [
    "Khi bộ tiền xử lí chạy, nó quét qua tệp mã (từ trên xuống dưới), tìm kiếm các chỉ thị tiền xử lí. Chỉ thị tiền xử lí (thường được gọi tắt là chỉ thị) là các hướng dẫn bắt đầu bằng ký hiệu `#` và kết thúc bằng **một dòng mới** (**KHÔNG PHẢI** dấu chấm phẩy). Các chỉ thị này yêu cầu bộ tiền xử lí thực hiện một số tác vụ thao tác văn bản nhất định. Lưu ý rằng bộ tiền xử lí không hiểu cú pháp C++ - thay vào đó, các chỉ thị có cú pháp riêng của chúng (trong một số trường hợp giống với cú pháp C++ và trong một số trường hợp khác thì không).\n",
    "\n",
    "Trong bài học này, chúng ta sẽ xem xét một số chỉ thị tiền xử lí phổ biến nhất.\n",
    "\n",
    ">**Ngoài lề**<br>\n",
    ">Chỉ thị bằng `using` (giới thiệu trong bài học **[2.9 - Xung đột tên và Giới thiệu về không gian tên](lesson2_9.ipynb)**) không phải là chỉ thị tiền xử lí (và do đó không được proprocessor xử lý). Vì vậy, mặc dù thuật ngữ *directive* thường có nghĩa là *preprocessor directive*, nhưng đây không phải lúc nào cũng đúng."
   ]
  },
  {
   "cell_type": "markdown",
   "id": "587f5fcc-b2cd-4397-a790-a58b06804096",
   "metadata": {},
   "source": [
    "### **`#Include`** "
   ]
  },
  {
   "cell_type": "markdown",
   "id": "b8d5da36-c2cb-4f4b-bf8c-e41840794822",
   "metadata": {},
   "source": [
    "Bạn đã thấy chỉ thị `#include` được sử dụng (thường để `#include <iostream>`). Khi bạn `#include` một tệp, preprocessor sẽ thay thế chỉ thị `#include` bằng nội dung của tệp được *include*. Sau đó, nội dung được *include* sẽ được tiền xử lý (có thể dẫn đến việc các `#include` bổ sung được xử lý đệ quy), sau đó phần còn lại của tệp được tiền xử lí.\n",
    "\n",
    "**Xem xét chương trình sau:**\n",
    ">```\n",
    ">#include <iostream>\n",
    ">\n",
    ">int main()\n",
    ">{\n",
    ">    std::cout << \"Hello, world!\\n\";\n",
    ">    return 0;\n",
    ">}"
   ]
  },
  {
   "cell_type": "markdown",
   "id": "fc5ac125-f8cc-4202-9487-511b337cdcd5",
   "metadata": {},
   "source": [
    "Khi bộ tiền xử lí chạy trên chương trình này, nó sẽ thay thế `#include <iostream>` bằng nội dung của tệp có tên **\"`iostream`\"** và sau đó xử lý trước nội dung được include rồi đến phần còn lại của tệp.\n",
    "\n",
    "Khi bộ tiền xử lí hoàn thành việc xử lý tệp mã cùng với tất cả nội dung được `#include`, kết quả thu được gọi là một **đơn vị dịch (translation unit). Đơn vị dịch** là thứ được gửi đến trình biên dịch để được biên dịch.\n",
    "\n",
    ">**Điểm mấu chốt**<br>\n",
    ">Một đơn vị dịch bao gồm cả mã được xử lý từ tệp mã, cũng như mã được xử lý từ tất cả các tệp được `#include`.\n",
    "\n",
    "Vì `#include` gần như chỉ được sử dụng để *include* các tệp `header`, chúng ta sẽ thảo luận chi tiết hơn về `#include` trong bài học tiếp theo (khi chúng ta thảo luận về các tệp `header`)."
   ]
  },
  {
   "cell_type": "markdown",
   "id": "1a07694c-fe58-4694-bc89-8f2da614f36e",
   "metadata": {},
   "source": [
    "### **`#define`**"
   ]
  },
  {
   "cell_type": "markdown",
   "id": "686155a6-d142-4720-a0bd-82f84ffa4e78",
   "metadata": {},
   "source": [
    "Chỉ thị `#define` có thể được sử dụng để tạo một **macro**. Trong C++, một **macro** là một quy tắc xác định cách văn bản đầu vào được chuyển đổi thành văn bản đầu ra thay thế.\n",
    "\n",
    "Có hai loại macro cơ bản: **macro giống đối tượng** (object-like macro) và **macro giống hàm** (function-like macro).\n",
    "\n",
    "**Macro giống hàm** hoạt động giống như các hàm và phục vụ mục đích tương tự. Việc sử dụng chúng thường được coi là không an toàn và hầu hết mọi thứ chúng có thể làm đều có thể được thực hiện bởi một hàm thông thường.\n",
    "\n",
    "**Macro giống đối tượng** có thể được định nghĩa theo một trong hai cách:\n",
    ">```\n",
    ">#define IDENTIFIER\n",
    ">#define IDENTIFIER substitution_text\n",
    "\n",
    "Định nghĩa trên cùng không có văn bản thay thế, trong khi định nghĩa dưới cùng thì có. Do đây là các chỉ thị tiền xử lí (không phải câu lệnh), lưu ý rằng không có mẫu nào kết thúc bằng dấu chấm phẩy.\n",
    "\n",
    "Định danh cho một macro sử dụng cùng các quy tắc đặt tên như các định danh thông thường: chúng có thể sử dụng các chữ cái, số và dấu gạch dưới, không thể bắt đầu bằng một số và không nên bắt đầu bằng dấu gạch dưới. Theo quy ước, tên macro thường được viết HOA, phân cách bằng dấu gạch dưới."
   ]
  },
  {
   "cell_type": "markdown",
   "id": "39496700-02bf-4425-8850-747d81a8885f",
   "metadata": {},
   "source": [
    "### **Macro giống đối tượng với văn bản thay thế**"
   ]
  },
  {
   "cell_type": "markdown",
   "id": "3ab1731d-bb0f-4bc0-8cfa-6e67cd6ddac0",
   "metadata": {},
   "source": [
    "Khi bộ tiền xử lí gặp phải chỉ thị này, bất kỳ sự xuất hiện tiếp theo của định danh sẽ được thay thế bằng *substitution_text* (văn bản thay thế). Theo truyền thống, định danh được viết HOA HẾT CHỮ CÁI, sử dụng dấu gạch dưới để biểu thị khoảng trắng.\n",
    "\n",
    "**Xem xét chương trình sau:**\n",
    ">```\n",
    ">#include <iostream>\n",
    ">\n",
    ">#define MY_NAME \"Alex\"\n",
    ">\n",
    ">int main()\n",
    ">{\n",
    ">    std::cout << \"My name is: \" << MY_NAME << '\\n';\n",
    ">\n",
    ">    return 0;\n",
    ">}\n",
    ">```"
   ]
  },
  {
   "cell_type": "markdown",
   "id": "8a831953-ba87-46d7-bc0c-1b1891c8f2d5",
   "metadata": {},
   "source": [
    "Bộ tiền xử lí sẽ chuyển đổi chương trình trên thành:\n",
    ">```\n",
    ">// Nội dung của iostream được chèn vào đây\n",
    ">\n",
    ">int main()\n",
    ">{\n",
    ">    std::cout << \"My name is: \" << \"Alex\" << '\\n';\n",
    ">    return 0;\n",
    ">}\n",
    ">```\n",
    "\n",
    "Chạy chương trình này sẽ in ra kết quả `My name is: Alex`.\n",
    "\n",
    "**Macro giống đối tượng với văn bản thay thế** đã từng được sử dụng (trong **C**) như một cách để gán tên cho các giá trị cố định (**literals**). Điều này không còn cần thiết nữa, vì **C++** cung cấp các phương thức tốt hơn. Macro giống đối tượng với văn bản thay thế thường chỉ nên xuất hiện trong *code cũ* (*legacy code*).\n",
    "\n",
    "Chúng tôi khuyên bạn nên tránh hoàn toàn các loại macro này, vì có những cách tốt hơn để thực hiện những việc như vậy. Chúng tôi sẽ thảo luận thêm về điều này trong bài học **5.1 – Biến hằng (hằng được đặt tên)**."
   ]
  },
  {
   "cell_type": "markdown",
   "id": "bdddf415-0382-4ecf-b670-1c38da797012",
   "metadata": {},
   "source": [
    "### **Macro giống đối tượng không có văn bản thay thế** "
   ]
  },
  {
   "cell_type": "markdown",
   "id": "59c24998-b386-43b1-baae-48979300ff37",
   "metadata": {},
   "source": [
    "Macro giống đối tượng cũng có thể được định nghĩa mà không cần văn bản thay thế.\n",
    "\n",
    "**Ví dụ:**\n",
    ">```\n",
    ">#define USE_YEN\n",
    "\n",
    "Macro ở dạng này hoạt động như bạn mong đợi: bất kỳ sự xuất hiện tiếp theo của định danh sẽ bị loại bỏ và không được thay thế bằng gì cả!\n",
    "\n",
    "Điều này có vẻ khá vô dụng, và nó thực sự vô dụng cho việc thay thế văn bản. Tuy nhiên, đây không phải là mục đích sử dụng thông thường của dạng chỉ thị này. Chúng ta sẽ thảo luận về cách sử dụng dạng này ngay sau đây.\n",
    "\n",
    "Không giống như macro giống đối tượng với văn bản thay thế, macro dạng này thường được coi là chấp nhận được để sử dụng."
   ]
  },
  {
   "cell_type": "markdown",
   "id": "3714b58d-be89-4991-a547-0e6868512964",
   "metadata": {},
   "source": [
    "### **Biên dịch có điều kiện (Conditional compilation)**"
   ]
  },
  {
   "cell_type": "markdown",
   "id": "7bb81df2-6991-4565-baeb-2ca7571b4435",
   "metadata": {},
   "source": [
    "Các chỉ thị tiền xử lý **biên dịch có điều kiện (conditional compilation)** cho phép bạn chỉ định điều kiện để một thứ gì đó được biên dịch hay không. Có khá nhiều chỉ thị tiền xử lý dịch thuật điều kiện khác nhau, nhưng chúng ta chỉ đề cập đến ba loại được sử dụng nhiều nhất ở đây: `#ifdef`, `#ifndef` và `#endif`.\n",
    "\n",
    "Chỉ thị tiền xử lý `#ifdef` cho phép bộ tiền xử lí kiểm tra xem một định danh đã được `#defined` trước đó chưa. Nếu có, mã giữa `#ifdef` và `#endif` tương ứng sẽ được biên dịch. Ngược lại, mã sẽ bị bỏ qua.\n",
    "\n",
    "**Xem xét chương trình sau:**\n",
    ">```\n",
    ">#include <iostream>\n",
    ">\n",
    ">#define PRINT_JOE\n",
    ">\n",
    ">int main()\n",
    ">{\n",
    ">#ifdef PRINT_JOE\n",
    ">    std::cout << \"Joe\\n\"; // sẽ được biên dịch vì PRINT_JOE được định nghĩa\n",
    ">#endif\n",
    ">\n",
    ">#ifdef PRINT_BOB\n",
    ">    std::cout << \"Bob\\n\"; // sẽ bị loại trừ vì PRINT_BOB không được định nghĩa\n",
    ">#endif\n",
    ">\n",
    ">    return 0;\n",
    ">}\n",
    ">```\n",
    "\n",
    "Vì `PRINT_JOE` đã được `#define`, dòng `std::cout << \"Joe\\n\"` sẽ được biên dịch. Vì `PRINT_BOB` chưa được `#define`, dòng `std::cout << \"Bob\\n\"` sẽ bị bỏ qua.\n",
    "\n",
    "`#ifndef` là ngược lại với `#ifdef`, nó cho phép bạn kiểm tra xem một định danh đã KHÔNG được `#defined` hay chưa."
   ]
  },
  {
   "cell_type": "markdown",
   "id": "04a78ae2-9ea2-4aec-aa24-80a063001425",
   "metadata": {},
   "source": [
    ">```\n",
    ">#include <iostream>\n",
    ">\n",
    ">int main()\n",
    ">{\n",
    ">#ifndef PRINT_BOB\n",
    ">    std::cout << \"Bob\\n\";\n",
    ">#endif\n",
    ">\n",
    ">    return 0;\n",
    ">}\n",
    ">```\n",
    "\n",
    "Chương trình này in ra \"`Bob`\", bởi vì `PRINT_BOB` chưa bao giờ được `#defined`.\n",
    "\n",
    "Thay cho `#ifdef PRINT_BOB` và `#ifndef PRINT_BOB`, bạn cũng sẽ thấy `#if defined(PRINT_BOB)` và `#if !defined(PRINT_BOB)`. Chúng hoạt động giống nhau, nhưng sử dụng cú pháp theo phong cách C++ hơn một chút."
   ]
  },
  {
   "cell_type": "markdown",
   "id": "625230fc-2884-4a89-91c1-bbe5513fc18d",
   "metadata": {},
   "source": [
    "### **`#if 0`**"
   ]
  },
  {
   "cell_type": "markdown",
   "id": "1b7bb7c4-d69b-42cf-8d30-4c83e77a2bc2",
   "metadata": {},
   "source": [
    "Một cách sử dụng phổ biến khác của chỉ thị biên dịch điều kiện liên quan đến việc sử dụng `#if 0` để loại trừ một khối mã khỏi việc được biên dịch (giống như thể nó nằm bên trong một khối chú thích):\n",
    "\n",
    ">```\n",
    ">#include <iostream>\n",
    ">\n",
    ">int main()\n",
    ">{\n",
    ">  std::cout << \"Joe\\n\";\n",
    ">\n",
    ">#if 0 // Bỏ qua mọi thứ bắt đầu từ đây\n",
    ">  std::cout << \"Bob\\n\";\n",
    ">  std::cout << \"Steve\\n\";\n",
    ">#endif // cho đến điểm này\n",
    ">\n",
    ">  return 0;\n",
    ">}\n",
    ">```"
   ]
  },
  {
   "cell_type": "markdown",
   "id": "08586691-1284-4403-a60e-a07c1f7d44e2",
   "metadata": {},
   "source": [
    "Đoạn mã ở trên chỉ in ra \"`Joe`\", vì \"`Bob`\" và \"`Steve`\" bị loại trừ khỏi quá trình biên dịch bởi chỉ thị tiền xử lý `#if 0`.\n",
    "\n",
    "Điều này cung cấp một cách thuận tiện để \"chú thích\" ra mã chứa các chú thích nhiều dòng (không thể được chú thích ra bằng cách sử dụng một chú thích nhiều dòng khác do các chú thích nhiều dòng không thể lồng nhau):\n",
    ">```\n",
    ">#include <iostream>\n",
    ">\n",
    ">int main()\n",
    ">{\n",
    ">  std::cout << \"Joe\\n\";\n",
    ">\n",
    ">#if 0 // Bỏ qua mọi thứ bắt đầu từ đây\n",
    ">  std::cout << \"Bob\\n\";\n",
    ">  /* Một số\n",
    ">   * chú thích nhiều dòng\n",
    ">   * ở đây\n",
    ">   */\n",
    ">  std::cout << \"Steve\\n\";\n",
    ">#endif // cho đến điểm này\n",
    ">\n",
    ">  return 0;\n",
    ">}\n",
    ">```\n",
    "\n",
    "Để bật lại tạm thời mã đã được bọc trong `#if 0`, bạn có thể đổi `#if 0` thành `#if 1`:\n",
    ">```\n",
    ">#include <iostream>\n",
    ">\n",
    ">int main()\n",
    ">{\n",
    ">  std::cout << \"Joe\\n\";\n",
    ">\n",
    ">#if 1 // luôn đúng, vì vậy mã sau đây sẽ được biên dịch\n",
    ">  std::cout << \"Bob\\n\";\n",
    ">  /* Một số\n",
    ">   * chú thích nhiều dòng\n",
    ">   * ở đây\n",
    ">   */\n",
    ">  std::cout << \"Steve\\n\";\n",
    ">#endif\n",
    ">\n",
    ">  return 0;\n",
    ">}\n",
    ">```"
   ]
  },
  {
   "cell_type": "markdown",
   "id": "8a12ba44-01ed-46fa-abbb-170bcee4e59c",
   "metadata": {},
   "source": [
    "### **Macro giống đối tượng không ảnh hưởng đến các chỉ thị tiền xử lý khác**"
   ]
  },
  {
   "cell_type": "markdown",
   "id": "2ee3d7d5-bad0-4cfe-bc10-c65e767f41a4",
   "metadata": {},
   "source": [
    "Bây giờ bạn có thể đang tự hỏi:\n",
    ">```\n",
    ">#define PRINT_JOE\n",
    ">\n",
    ">#ifdef PRINT_JOE\n",
    ">// ...\n",
    ">```"
   ]
  },
  {
   "cell_type": "markdown",
   "id": "d6132586-6e15-41c4-b61a-4ca15ef6b387",
   "metadata": {},
   "source": [
    "Vì chúng ta đã định nghĩa `PRINT_JOE` thành một giá trị rỗng, tại sao bộ tiền xử lí không thay thế `PRINT_JOE` trong `#ifdef PRINT_JOE` thành giá trị rỗng?\n",
    "\n",
    "Macro chỉ gây ra việc thay thế văn bản cho các lệnh không phải là lệnh tiền xử lý. Vì `#ifdef PRINT_JOE` là một lệnh tiền xử lý, nên việc thay thế văn bản không áp dụng cho `PRINT_JOE` trong lệnh này.\n",
    "\n",
    "**Một ví dụ khác:**\n",
    "\n",
    ">```\n",
    ">#define FOO 9 // Đây là chỉ thị macro\n",
    ">\n",
    ">#ifdef FOO // FOO này không bị thay thế vì nó là một phần của một chỉ thị tiền xử lý khác\n",
    ">    std::cout << FOO << '\\n'; // FOO này được thay thế thành 9 vì nó là một phần của mã thông thường\n",
    ">#endif\n",
    ">```\n",
    "\n",
    "Tuy nhiên, đầu ra cuối cùng của bộ tiền xử lí không chứa bất kỳ chỉ thị nào cả - tất cả chúng đều được xử lí/loại bỏ trước khi biên dịch, vì trình biên dịch sẽ không biết phải làm gì với chúng."
   ]
  },
  {
   "cell_type": "markdown",
   "id": "0c031152-c475-4bef-9afc-a0854127cadf",
   "metadata": {},
   "source": [
    "### **Phạm vi của `#define`**"
   ]
  },
  {
   "cell_type": "markdown",
   "id": "719cfe0e-def6-4b9d-83ac-e007971aa96e",
   "metadata": {},
   "source": [
    "Các chỉ thị được xử lí trước khi biên dịch, từ trên xuống dưới trên cơ sở từng tệp.\n",
    "\n",
    "**Xét chương trình sau:**\n",
    ">```\n",
    ">#include <iostream>\n",
    ">\n",
    ">void foo()\n",
    ">{\n",
    ">#define MY_NAME \"Alex\"\n",
    ">}\n",
    ">\n",
    ">int main()\n",
    ">{\n",
    ">\tstd::cout << \"My name is: \" << MY_NAME << '\\n';\n",
    ">\n",
    ">\treturn 0;\n",
    ">}\n",
    ">```\n",
    "\n",
    "Mặc dù trông giống như `#define MY_NAME \"Alex\"` được định nghĩa bên trong hàm `foo`, nhưng bộ tiền xử lí sẽ không nhận thấy, vì nó không hiểu các khái niệm C++ như hàm. Do đó, chương trình này hoạt động giống hệt như chương trình có `#define MY_NAME \"Alex\"` được định nghĩa trước hoặc ngay sau hàm foo. Để dễ đọc, bạn thường sẽ muốn `#define` các định danh bên ngoài các hàm.\n",
    "\n",
    "Sau khi bộ tiền xử lí chạy xong, tất cả các định danh được định nghĩa từ tệp đó sẽ bị loại bỏ. Điều này có nghĩa là các chỉ thị chỉ có giá trị từ điểm định nghĩa đến cuối tệp mà chúng được định nghĩa. Các chỉ thị được định nghĩa trong một tệp mã không ảnh hưởng đến các tệp mã khác trong cùng một dự án.\n",
    "\n",
    "**Xem xét ví dụ sau:**\n",
    "\n",
    "**function.cpp:**\n",
    ">```\n",
    ">#include <iostream>\n",
    ">\n",
    ">void doSomething()\n",
    ">{\n",
    ">#ifdef PRINT\n",
    ">    std::cout << \"Printing!\\n\";\n",
    ">#endif\n",
    ">#ifndef PRINT\n",
    ">    std::cout << \"Not printing!\\n\";\n",
    ">#endif\n",
    ">}\n",
    ">```\n",
    "\n",
    "**main.cpp:**\n",
    ">```\n",
    ">void doSomething(); // Khai báo trước cho hàm doSomething()\n",
    ">\n",
    ">#define PRINT\n",
    ">\n",
    ">int main()\n",
    ">{\n",
    ">    doSomething();\n",
    ">\n",
    ">    return 0;\n",
    ">}\n",
    ">```\n",
    "\n",
    "Chương trình trên sẽ in ra:\n",
    ">`Not printing!`\n",
    "\n",
    "Mặc dù `PRINT` đã được định nghĩa trong `main.cpp`, điều đó không ảnh hưởng đến bất kỳ mã nào trong `function.cpp` (`PRINT` chỉ được `#define` từ điểm định nghĩa đến cuối tệp `main.cpp`). Điều này sẽ có hậu quả khi chúng ta thảo luận về các **header guard** trong bài học sắp tới."
   ]
  }
 ],
 "metadata": {
  "kernelspec": {
   "display_name": "Python 3 (ipykernel)",
   "language": "python",
   "name": "python3"
  },
  "language_info": {
   "codemirror_mode": {
    "name": "ipython",
    "version": 3
   },
   "file_extension": ".py",
   "mimetype": "text/x-python",
   "name": "python",
   "nbconvert_exporter": "python",
   "pygments_lexer": "ipython3",
   "version": "3.12.2"
  }
 },
 "nbformat": 4,
 "nbformat_minor": 5
}
