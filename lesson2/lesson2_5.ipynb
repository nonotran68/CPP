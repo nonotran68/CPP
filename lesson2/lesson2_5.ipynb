{
 "cells": [
  {
   "cell_type": "markdown",
   "id": "af46894b-f6f9-4e50-b26e-7d7c061fe7f4",
   "metadata": {},
   "source": [
    "## **Bài 2.5: <u> Giới thiệu về phạm vi cục bộ</u>**"
   ]
  },
  {
   "cell_type": "markdown",
   "id": "72ac6948-d148-4835-8e63-6359e625d1fb",
   "metadata": {},
   "source": [
    "### **Biến cục bộ**"
   ]
  },
  {
   "cell_type": "markdown",
   "id": "033103c8-2c98-47c8-8248-5ce2275a1051",
   "metadata": {},
   "source": [
    "Biến được khai báo bên trong thân hàm được gọi là **biến cục bộ** (trái ngược với **biến toàn cục**, chúng ta sẽ thảo luận trong chương sau):\n",
    ">```\n",
    ">int add(int x, int y) {\n",
    ">  int z{ x + y }; // z là biến cục bộ\n",
    ">  return z;\n",
    ">}\n",
    ">```\n",
    "\n",
    "Tham số hàm cũng thường được coi là biến cục bộ và chúng ta sẽ xếp chúng vào loại đó:\n",
    ">```\n",
    ">int add(int x, int y) // tham số hàm x và y là biến cục bộ\n",
    ">{\n",
    ">  int z{ x + y };\n",
    ">  return z;\n",
    ">}\n",
    ">```\n",
    "\n",
    "Trong bài học này, chúng ta sẽ xem xét chi tiết một số thuộc tính của biến cục bộ.\n",
    "\n"
   ]
  },
  {
   "cell_type": "markdown",
   "id": "441ae73f-93ae-4120-b67b-170dd7fd2612",
   "metadata": {},
   "source": [
    "### **Vòng đời của biến cục bộ**"
   ]
  },
  {
   "cell_type": "markdown",
   "id": "e0bb6bcb-03e6-4261-8cbe-871a66007614",
   "metadata": {},
   "source": [
    "Trong **[bài học 1.3 - Đối tượng và biến trong C++](../lesson1/lesson1_3.ipynb)**, chúng ta đã thảo luận về cách khai báo biến như `int x;` sẽ khiến biến được khởi tạo khi câu lệnh này được thực thi. Tham số hàm được tạo và khởi tạo khi hàm được nhập, và các biến trong thân hàm được tạo và khởi tạo tại điểm khai báo.\n",
    "\n",
    "**Ví dụ:**\n",
    "\n",
    ">```\n",
    ">int add(int x, int y) // x và y được tạo và khởi tạo tại đây\n",
    ">{\n",
    ">  int z{ x + y };   // z được tạo và khởi tạo tại đây\n",
    ">  return z;\n",
    ">}\n",
    ">```\n",
    "\n",
    "Câu hỏi tiếp theo được đặt ra là, \"Vậy một biến được khởi tạo thì bị hủy khi nào?\". Biến cục bộ bị hủy theo thứ tự ngược lại với thứ tự tạo ở cuối cặp ngoặc nhọn nơi nó được khai báo (hoặc đối với tham số hàm, ở cuối hàm).\n",
    "\n",
    "**Dễ hiểu hơn**\n",
    "- **Tạo:**\n",
    "  - Biến cục bộ được tạo khi chúng được khai báo trong thân hàm hoặc khối mã khác.\n",
    "  - Tham số hàm cũng được coi là biến cục bộ và được tạo khi hàm được gọi.\n",
    "  - Biến cục bộ được khởi tạo với giá trị mặc định của kiểu dữ liệu của chúng khi được tạo.\n",
    "- **Hủy:**\n",
    "  - Biến cục bộ bị hủy khi khối mã nơi chúng được khai báo kết thúc.\n",
    "  - Biến cục bộ không thể được truy cập sau khi chúng bị hủy.\n",
    "\n",
    ">```\n",
    ">int add(int x, int y)\n",
    ">{\n",
    ">    int z{ x + y };\n",
    ">\n",
    ">    return z; //this is the end of function, any lines after this return doesn't count\n",
    ">} // z, y, and x destroyed here if there is no return value\n",
    ">```\n",
    "\n",
    "Giống như tuổi thọ của một người được xác định là khoảng thời gian giữa khi sinh và khi chết, vòng đời của một đối tượng được xác định là khoảng thời gian giữa khi nó được tạo và bị hủy. Lưu ý rằng việc tạo và hủy biến xảy ra khi **chương trình đang chạy** (gọi là **thời gian chạy**), không phải tại **thời gian biên dịch**. Do đó, vòng đời là một thuộc tính của **thời gian chạy** (runtime).\n",
    "\n"
   ]
  },
  {
   "cell_type": "markdown",
   "id": "019717b6-37d1-445d-8222-f88729c4fe2d",
   "metadata": {},
   "source": [
    ">**Đối với người đọc nâng cao**<br>\n",
    ">Các quy tắc về tạo, khởi tạo và hủy ở trên là những đảm bảo. Nghĩa là, các đối tượng phải được tạo và khởi tạo muộn nhất là tại điểm khai báo và bị hủy không sớm hơn cuối cặp ngoặc nhọn nơi chúng được khai báo (hoặc đối với tham số hàm, ở cuối hàm).\n",
    ">\n",
    ">Trên thực tế, đặc tả C++ cung cấp cho trình biên dịch rất nhiều linh hoạt để xác định thời điểm tạo và hủy biến cục bộ. Đối tượng có thể được tạo sớm hơn hoặc hủy muộn hơn vì mục đích tối ưu hóa. Thông thường, biến cục bộ được tạo khi hàm được nhập và hủy theo thứ tự ngược lại với thứ tự tạo khi hàm thoát. Chúng ta sẽ thảo luận chi tiết hơn về điều này trong bài học sau, khi chúng ta nói về ngăn xếp cuộc gọi (**call stack**)."
   ]
  },
  {
   "cell_type": "markdown",
   "id": "8965b33e-4778-4260-aa1b-0f6197c74585",
   "metadata": {},
   "source": [
    "Đây là một chương trình C++ phức tạp hơn một chút để minh họa vòng đời của biến có tên x:\n",
    "\n",
    ">```\n",
    ">#include <iostream>\n",
    ">\n",
    ">void doSomething()\n",
    ">{\n",
    ">    std::cout << \"Hello!\\n\";\n",
    ">}\n",
    ">\n",
    ">int main()\n",
    ">{\n",
    ">    int x{ 0 };    // Vòng đời của x bắt đầu tại đây\n",
    ">\n",
    ">    doSomething(); // x vẫn tồn tại trong suốt lời gọi hàm này\n",
    ">\n",
    ">    return 0;\n",
    ">} // Vòng đời của x kết thúc tại đây\n",
    "\n",
    "Trong chương trình trên, vòng đời của `x` bắt đầu từ điểm khai báo đến cuối hàm `main`. Điều này bao gồm thời gian thực thi hàm `doSomething`.\n",
    "\n",
    "**Phân tích chi tiết:**\n",
    "\n",
    "- Dòng `int x {0};`: Biến `x` được khai báo kiểu `int` và khởi tạo với giá trị `0`. Lúc này, biến `x` được tạo (khởi tạo vùng nhớ) và tuổi thọ của nó bắt đầu.\n",
    "- Dòng `doSomething();`: Hàm `doSomething` được gọi. Tuy nhiên, `x` là biến cục bộ của hàm `main` nên nó không bị hủy trong quá trình thực thi `doSomething`. Biến `x` vẫn tồn tại và có thể truy cập được trong suốt lời gọi hàm này.\n",
    "- Dòng `return 0;`: Hàm `main` kết thúc. Lúc này, biến `x` được đánh dấu để hủy vì nó là biến cục bộ của `main`. Biến `x` không còn khả dụng sau dòng này.\n"
   ]
  },
  {
   "cell_type": "markdown",
   "id": "213536ad-4ed7-43c6-bf97-01b5cbcfbbad",
   "metadata": {},
   "source": [
    "### **Khi một đối tượng bị hủy, điều gì xảy ra?**"
   ]
  },
  {
   "cell_type": "markdown",
   "id": "207a764f-43cb-4221-b7cf-f43434c067ee",
   "metadata": {},
   "source": [
    "Trong hầu hết các trường hợp, không có gì xảy ra. Đối tượng bị hủy trở nên không hợp lệ và bất kỳ việc sử dụng thêm đối tượng đó sẽ dẫn đến **hành vi bất định (undefined behavior)**. Vào một thời điểm nào đó sau khi hủy, bộ nhớ được sử dụng bởi đối tượng sẽ được giải phóng để sử dụng lại.\n",
    "\n",
    ">**Đối với người đọc nâng cao:**<br>\n",
    "Nếu đối tượng là một đối tượng kiểu lớp (`class type object`), trước khi hủy, một hàm đặc biệt gọi là hàm hủy (`destructor`) sẽ được kích hoạt. Trong nhiều trường hợp, hàm hủy không làm gì, do đó không phát sinh thêm chi phí nào."
   ]
  },
  {
   "cell_type": "markdown",
   "id": "a5bdede6-73e9-4153-8715-25d85423b1ca",
   "metadata": {},
   "source": [
    "### **Phạm vi cục bộ**"
   ]
  },
  {
   "cell_type": "markdown",
   "id": "cca420ef-0742-44dc-868d-55c86d5db644",
   "metadata": {},
   "source": [
    "**Phạm vi (scope)** của một định danh xác định vị trí định danh đó có thể được nhìn thấy và sử dụng trong mã nguồn. Khi một định danh có thể được nhìn thấy và sử dụng, chúng ta nói nó **nằm trong phạm vi (in scope)**. Khi một định danh không thể nhìn thấy, chúng ta không thể sử dụng nó và chúng ta nói nó **nằm ngoài phạm vi (out of scope)**. **Phạm vi** là một **thuộc tính** của **thời gian biên dịch (compile-time property)**, và việc cố gắng sử dụng một định danh khi nó không nằm trong phạm vi sẽ dẫn đến **lỗi biên dịch (compile error).**"
   ]
  },
  {
   "cell_type": "markdown",
   "id": "c638a4d5-d6b1-4e45-b94d-cd4b0f43e6b5",
   "metadata": {},
   "source": [
    "**Phạm vi của một biến cục bộ** bắt đầu tại điểm khai báo biến và kết thúc ở cuối cặp ngoặc nhọn nơi nó được khai báo (hoặc đối với tham số hàm, ở cuối hàm). Điều này đảm bảo biến không thể được sử dụng trước điểm khai báo (ngay cả khi trình biên dịch chọn tạo chúng trước đó). Biến cục bộ được khai báo trong một hàm cũng không nằm trong phạm vi của các hàm khác được gọi lên sau đó.\n",
    "\n",
    ">```\n",
    ">#include <iostream>\n",
    ">\n",
    ">// x không nằm trong phạm vi bất cứ nơi nào trong hàm này\n",
    ">void doSomething()\n",
    ">{\n",
    ">    std::cout << \"Hello!\\n\";\n",
    ">}\n",
    ">\n",
    ">int main()\n",
    ">{\n",
    ">    // x không thể được sử dụng ở đây vì nó chưa nằm trong phạm vi\n",
    ">\n",
    ">    int x{ 0 }; // x bắt đầu nằm trong phạm vi ở đây và bây giờ có thể được sử dụng trong hàm này\n",
    ">\n",
    ">    doSomething();\n",
    ">\n",
    ">    return 0;\n",
    ">} // x ra khỏi phạm vi ở đây và không còn được sử dụng nữa\n",
    ">```\n",
    "\n",
    "Trong chương trình trên, biến `x` bắt đầu nằm trong phạm vi tại điểm khai báo và ra khỏi phạm vi ở cuối hàm `main`. Lưu ý rằng biến `x` không nằm trong phạm vi bất kỳ nơi nào bên trong hàm `doSomething`. Việc hàm `main` gọi hàm `doSomething` không liên quan trong ngữ cảnh này."
   ]
  },
  {
   "cell_type": "markdown",
   "id": "d1de4358-710f-4409-b1da-8abea20e3522",
   "metadata": {},
   "source": [
    "### **\"Out of Scope\" và \"Going Out of Scope\"**"
   ]
  },
  {
   "cell_type": "markdown",
   "id": "7322706b-427d-4f9a-8c33-35e3080569de",
   "metadata": {},
   "source": [
    "Các thuật ngữ \"out of scope\" (ngoài phạm vi) và \"going out of scope\" (ra khỏi phạm vi) có thể gây nhầm lẫn cho lập trình viên mới."
   ]
  },
  {
   "cell_type": "markdown",
   "id": "c465eaee-5b12-4732-b7b6-bc653d7f2005",
   "metadata": {},
   "source": [
    "#### *<u>Out of Scope (Ngoài phạm vi)</u>*"
   ]
  },
  {
   "cell_type": "markdown",
   "id": "20184385-6e35-467c-8caa-fb3938fd6ce0",
   "metadata": {},
   "source": [
    "Một định danh được coi là **\"out of scope\"** bất cứ nơi nào nó không thể được truy cập trong code. Trong ví dụ trên, định danh `x` nằm trong phạm vi từ điểm khai báo của nó đến cuối hàm `main`. Định danh `x` nằm ngoài phạm vi bên ngoài vùng code đó."
   ]
  },
  {
   "cell_type": "markdown",
   "id": "11f95d42-cc7b-4cc8-9962-57208c2e876c",
   "metadata": {},
   "source": [
    "#### *<u>Going Out of Scope (Ra khỏi phạm vi)</u>*"
   ]
  },
  {
   "cell_type": "markdown",
   "id": "d4b721a3-dbbf-41e3-9c40-f425eb15622c",
   "metadata": {},
   "source": [
    "Thuật ngữ **\"going out of scope\"** thường được áp dụng cho các đối tượng (object) chứ không phải định danh. Chúng ta nói một đối tượng **\"goes out of scope\" (ra khỏi phạm vi)** ở cuối phạm vi (ngoặc nhọn đóng) nơi đối tượng được khởi tạo. Trong ví dụ trên, đối tượng có tên `x` ra khỏi phạm vi ở cuối hàm `main`."
   ]
  },
  {
   "cell_type": "markdown",
   "id": "b9894129-da05-440a-bb86-ffbc917c84b3",
   "metadata": {},
   "source": [
    "Vòng đời của một biến cục bộ kết thúc tại thời điểm biến đó ra khỏi phạm vi, vì vậy các biến cục bộ bị hủy tại thời điểm này.\n",
    "\n",
    "Lưu ý rằng không phải tất cả các kiểu biến đều bị hủy khi chúng ra khỏi phạm vi. Chúng ta sẽ thấy các ví dụ về điều này trong các bài học tương lai."
   ]
  },
  {
   "cell_type": "markdown",
   "id": "2150d430-3489-4797-af2d-cfe78b296b9a",
   "metadata": {},
   "source": [
    "### **Ví dụ khác** "
   ]
  },
  {
   "cell_type": "markdown",
   "id": "b1e32e21-a833-4dd7-a925-c9f6f8bbd626",
   "metadata": {},
   "source": [
    "Đây là một ví dụ phức tạp hơn một chút. Hãy nhớ rằng, **vòng đời** là thuộc tính của **thời gian chạy (runtime)**, còn **phạm vi** là thuộc tính của **thời gian biên dịch (compile-time)**, vì vậy mặc dù chúng ta đang nói về cả hai trong cùng một chương trình, chúng được áp dụng tại các thời điểm khác nhau."
   ]
  },
  {
   "cell_type": "markdown",
   "id": "b5ed5e66-a495-4d6f-9deb-14262b57c3ab",
   "metadata": {},
   "source": [
    ">```\n",
    ">#include <iostream>\n",
    ">\n",
    ">int add(int x, int y) // x và y được tạo và bắt đầu nằm trong phạm vi ở đây\n",
    ">{\n",
    ">    // x và y chỉ nhìn thấy/sử dụng được trong hàm này\n",
    ">    return x + y;\n",
    ">} // y và x ra khỏi phạm vi và bị hủy ở đây\n",
    ">\n",
    ">int main()\n",
    ">{\n",
    ">    int a{ 5 }; // a được tạo, khởi tạo và bắt đầu nằm trong phạm vi ở đây\n",
    ">    int b{ 6 }; // b được tạo, khởi tạo và bắt đầu nằm trong phạm vi ở đây\n",
    ">\n",
    ">    // a và b chỉ sử dụng được trong hàm này\n",
    ">    std::cout << add(a, b) << '\\n'; // gọi hàm add() với x=5 và y=6\n",
    ">\n",
    ">    return 0;\n",
    ">} // b và a ra khỏi phạm vi và bị hủy ở đây\n",
    ">```\n",
    "\n",
    "Tham số `x` và `y` được tạo khi hàm `add` được gọi, chỉ có thể được nhìn thấy/sử dụng trong hàm `add` và bị hủy ở cuối hàm `add`. Biến `a` và `b` được tạo trong hàm `main`, chỉ có thể được nhìn thấy/sử dụng trong hàm `main` và bị hủy ở cuối hàm `main`.\n",
    "\n",
    "**Phân tích chi tiết**\n",
    "\n",
    "Để nâng cao hiểu biết của bạn về cách tất cả điều này hoạt động cùng nhau, chúng ta hãy theo dõi chi tiết hơn chương trình này. Các bước diễn ra theo thứ tự:\n",
    "\n",
    "1. Chương trình bắt đầu chạy từ đầu hàm `main`.\n",
    "2. Biến `a` của hàm `main` được tạo và gán giá trị `5`.\n",
    "3. Biến `b` của hàm `main` được tạo và gán giá trị `6`.\n",
    "4. Hàm `add` được gọi với các giá trị đối số là `5` và `6`.\n",
    "5. Tham số `x` và `y` của hàm `add` được tạo và khởi tạo với các giá trị tương ứng là `5` và `6`.\n",
    "6. Biểu thức `x + y` được tính toán để ra kết quả là `11`.\n",
    "7. Hàm `add` sao chép giá trị `11` trở lại hàm gọi `main`.\n",
    "8. Tham số `y` và `x` của hàm `add` bị hủy.\n",
    "9. Hàm `main` in giá trị `11` ra console.\n",
    "10. Hàm `main` trả về `0` cho hệ điều hành.\n",
    "11. Biến `b` và `a` của hàm main bị hủy.\n",
    "\n",
    "Lưu ý rằng nếu hàm `add` được gọi hai lần, thì các tham số `x` và `y` sẽ được tạo và hủy hai lần - một lần cho mỗi lần gọi. Trong một chương trình có nhiều hàm và các lệnh gọi"
   ]
  },
  {
   "cell_type": "markdown",
   "id": "aed037db-8b60-45fb-8081-2b0efa0ac8eb",
   "metadata": {},
   "source": [
    "### **Sự tách biệt biến theo phạm vi hàm**"
   ]
  },
  {
   "cell_type": "markdown",
   "id": "24d7e093-fcb5-4002-b929-c9fe9b20554e",
   "metadata": {},
   "source": [
    "Trong ví dụ trên, rất dễ dàng để thấy rằng các biến `a` và `b` khác với các biến `x` và `y`.\n",
    "\n",
    "Bây giờ hãy xem xét chương trình tương tự sau:\n",
    "\n",
    ">```\n",
    ">#include <iostream>\n",
    ">\n",
    ">int add(int x, int y) // x và y của add được tạo và bắt đầu nằm trong phạm vi ở đây\n",
    ">{\n",
    ">    // x và y của add chỉ nhìn thấy/sử dụng được trong hàm này\n",
    ">    return x + y;\n",
    ">} // y và x của add ra khỏi phạm vi và bị hủy ở đây\n",
    ">\n",
    ">int main()\n",
    ">{\n",
    ">    int x{ 5 }; // x của main được tạo, khởi tạo và bắt đầu nằm trong phạm vi ở đây\n",
    ">    int y{ 6 }; // y của main được tạo, khởi tạo và bắt đầu nằm trong phạm vi ở đây\n",
    ">\n",
    ">    // x và y của main chỉ sử dụng được trong hàm này\n",
    ">    std::cout << add(x, y) << '\\n'; // calls function add() with x=5 and y=6\n",
    ">\n",
    ">    return 0;\n",
    ">} // y và x của main ra khỏi phạm vi và bị hủy ở đây\n",
    ">```\n",
    "\n",
    "Trong ví dụ này, tất cả những gì chúng ta đã làm là thay đổi tên của các biến `a` và `b` bên trong hàm main thành `x` và `y`. Chương trình này biên dịch và chạy giống hệt nhau, mặc dù các hàm `main` và `add` đều có các biến được đặt tên là `x` và `y`. Tại sao điều này hoạt động?"
   ]
  },
  {
   "cell_type": "markdown",
   "id": "b1b3c2b6-7b04-432d-b635-a6a5fdccd79a",
   "metadata": {},
   "source": [
    "Thứ nhất, chúng ta cần nhận ra rằng mặc dù các hàm `main` và `add` đều có các biến được đặt tên là `x` và `y`, nhưng các biến này là riêng biệt. Biến `x` và `y` trong hàm `main` không liên quan gì đến biến `x` và `y` trong hàm `add` - chúng chỉ trùng tên nhau mà thôi.\n",
    "\n",
    "Thứ hai, khi bên trong hàm `main`, tên `x` và `y` tham chiếu đến các biến cục bộ `x` và `y` của main. Các biến đó chỉ có thể được nhìn thấy (và sử dụng) bên trong `main`. Tương tự, khi bên trong hàm `add`, tên `x` và `y` tham chiếu đến tham số hàm `x` và `y`, chúng chỉ có thể được nhìn thấy (và sử dụng) bên trong `add`.\n",
    "\n",
    "Nói tóm lại, cả `add` và `main` đều không biết hàm kia có các biến cùng tên. Bởi vì phạm vi không chồng chéo, nên trình biên dịch luôn luôn rõ ràng biến `x` và `y` nào đang được tham chiếu tại bất kỳ thời điểm nào.\n",
    "\n",
    ">**Ý chính**<br>\n",
    ">Tên được sử dụng cho tham số hàm hoặc biến được khai báo trong thân hàm chỉ nhìn thấy được trong hàm khai báo chúng. Điều này có nghĩa là các biến cục bộ trong một hàm có thể được đặt tên mà không cần quan tâm đến tên của các biến trong các hàm khác. Điều này giúp các hàm hoạt động độc lập.\n",
    "\n",
    "Chúng ta sẽ thảo luận thêm về phạm vi cục bộ và các loại phạm vi khác trong chương học sau."
   ]
  },
  {
   "cell_type": "markdown",
   "id": "bec2577a-b3a5-495d-9f10-a5b13ae310af",
   "metadata": {},
   "source": [
    "### **Vị trí khai báo biến cục bộ**"
   ]
  },
  {
   "cell_type": "markdown",
   "id": "4e978fa6-4bea-46fb-963f-d16a9e748f94",
   "metadata": {},
   "source": [
    "Trong C++ hiện đại, cách thực hành tốt nhất là biến cục bộ bên trong thân hàm nên được khai báo càng gần lần sử dụng đầu tiên của chúng càng hợp lý:\n",
    "\n",
    ">```\n",
    ">#include <iostream>\n",
    ">\n",
    ">int main()\n",
    ">{\n",
    ">    std::cout << \"Nhập một số nguyên: \";\n",
    ">    int x{};       // x được khai báo tại đây\n",
    ">    std::cin >> x; // và được sử dụng tại đây\n",
    ">\n",
    ">    std::cout << \"Nhập một số nguyên khác: \";\n",
    ">    int y{};       // y được khai báo tại đây\n",
    ">    std::cin >> y; // và được sử dụng tại đây\n",
    ">\n",
    ">    int sum{ x + y }; // sum có thể được khởi tạo với giá trị mong muốn\n",
    ">    std::cout << \"Tổng là: \" << sum << '\\n';\n",
    ">\n",
    ">    return 0;\n",
    ">}\n",
    ">```"
   ]
  },
  {
   "cell_type": "markdown",
   "id": "acae415c-06af-4200-a854-37ea489cbd51",
   "metadata": {},
   "source": [
    "Trong ví dụ trên, mỗi biến được khai báo ngay trước khi được sử dụng lần đầu tiên. Không cần quá khắt khe về điều này - nếu bạn muốn đổi chỗ dòng 5 và 6 thì cũng không sao.\n",
    "\n",
    ">**Thực hành tốt nhất**<br>\n",
    ">Khai báo biến cục bộ của bạn càng gần lần sử dụng đầu tiên của chúng càng hợp lý.\n",
    "\n",
    ">**Ngoài lề**<br>\n",
    ">Do những hạn chế của các trình biên dịch cũ, nguyên thủy hơn, ngôn ngữ C từng yêu cầu tất cả các biến cục bộ được khai báo ở đầu hàm. Chương trình C++ tương đương sử dụng phong cách đó sẽ trông như thế này:\n",
    ">>```\n",
    ">>#include <iostream>\n",
    ">>\n",
    ">>int main()\n",
    ">>{\n",
    ">>    int x{}, y{}, sum{}; // chúng được sử dụng như thế nào?\n",
    ">>\n",
    ">>    std::cout << \"Nhập một số nguyên: \";\n",
    ">>    std::cin >> x;\n",
    ">>\n",
    ">>    std::cout << \"Nhập một số nguyên khác: \";\n",
    ">>    std::cin >> y;\n",
    ">>\n",
    ">>    sum = x + y;\n",
    ">>    std::cout << \"Tổng là: \" << sum << '\\n';\n",
    ">>\n",
    ">>    return 0;\n",
    ">>}\n",
    ">>```\n",
    ">\n",
    ">Phong cách này không tối ưu vì một số lý do:\n",
    ">- Mục đích sử dụng các biến này không rõ ràng tại thời điểm khai báo. Bạn phải quét qua toàn bộ hàm để xác định vị trí và cách sử dụng từng biến.\n",
    ">- Giá trị khởi tạo dự định có thể không có sẵn ở đầu hàm (ví dụ: chúng ta không thể khởi tạo `sum` thành giá trị mong muốn vì chúng ta chưa biết giá trị của `x` và `y`).\n",
    ">- Có thể có nhiều dòng giữa toán tử khởi tạo của biến và lần sử dụng đầu tiên của nó. Nếu chúng ta không nhớ giá trị nó được khởi tạo, chúng ta sẽ phải cuộn lại đầu hàm, điều này gây mất tập trung.\n",
    ">\n",
    ">Giới hạn này đã được dỡ bỏ trong tiêu chuẩn ngôn ngữ C99."
   ]
  },
  {
   "cell_type": "markdown",
   "id": "cf45ae64-5c56-4b72-913a-1eedca62cf2c",
   "metadata": {},
   "source": [
    "### **Giới thiệu về đối tượng tạm thời** "
   ]
  },
  {
   "cell_type": "markdown",
   "id": "6916e450-e1d5-4ef0-a459-91180a532bb0",
   "metadata": {},
   "source": [
    "Một **đối tượng tạm thời** (còn được gọi là **đối tượng ẩn danh**) là một đối tượng không tên do trình biên dịch tạo ra để lưu trữ giá trị tạm thời.\n",
    "\n",
    "Có nhiều cách khác nhau để tạo ra các giá trị tạm thời, nhưng đây là một cách phổ biến:\n",
    "\n",
    ">```\n",
    ">#include <iostream>\n",
    ">\n",
    ">int getValueFromUser()\n",
    ">{\n",
    ">    std::cout << \"Nhập một số nguyên: \";\n",
    ">    int input{};\n",
    ">    std::cin >> input;\n",
    ">\n",
    ">    return input; // trả về giá trị của input cho hàm gọi\n",
    ">}\n",
    ">\n",
    ">int main()\n",
    ">{\n",
    ">    std::cout << getValueFromUser() << '\\n'; // giá trị trả về được lưu trữ ở đâu?\n",
    ">\n",
    ">    return 0;\n",
    ">}\n",
    ">```\n",
    "\n",
    "Trong chương trình trên, hàm `getValueFromUser()` trả về giá trị được lưu trữ trong biến cục bộ `input` cho hàm gọi. Bởi vì `input` sẽ bị hủy ở cuối hàm, nên hàm gọi nhận được một bản sao của giá trị để nó có giá trị có thể sử dụng ngay cả sau khi `input` bị hủy.\n",
    "\n",
    "Nhưng giá trị được sao chép lại cho hàm gọi được lưu trữ ở đâu? Chúng tôi chưa khai báo bất kỳ biến nào trong `main()`. Câu trả lời là giá trị trả về được lưu trữ trong một **đối tượng tạm thời**. Đối tượng tạm thời này sau đó được truyền cho `std::cout` để in ra.\n",
    "\n",
    "**Đặc điểm của đối tượng tạm thời**\n",
    "- Đối tượng tạm thời không có phạm vi (điều này hợp lý, vì phạm vi là thuộc tính của một định danh, và đối tượng tạm thời không có định danh).\n",
    "- Đối tượng tạm thời bị hủy ở cuối biểu thức đầy đủ trong đó chúng được tạo. Do đó, đối tượng tạm thời được tạo để chứa giá trị trả về của `getValueFromUser()` bị hủy sau khi `std::cout << getValueFromUser() << '\\n'` thực thi.\n",
    "- Trong trường hợp một đối tượng tạm thời được sử dụng để khởi tạo một biến, việc khởi tạo xảy ra trước khi hủy đối tượng tạm thời.\n",
    "\n",
    "**Cải tiến của C++ hiện đại**\n",
    "\n",
    "Trong C++ hiện đại (đặc biệt là từ **C++17**), trình biên dịch có nhiều thủ thuật để tránh tạo các đối tượng tạm thời ở những nơi trước đây nó cần phải tạo. Trong ví dụ trên, vì giá trị trả về của `getValueFromUser()` được xuất ra ngay lập tức, trình biên dịch có thể bỏ qua việc tạo và hủy đối tượng tạm thời trong `main()`, và sử dụng giá trị trả về của `getValueFromUser()` để khởi tạo trực tiếp tham số của toán tử `<<`."
   ]
  }
 ],
 "metadata": {
  "kernelspec": {
   "display_name": "Python 3 (ipykernel)",
   "language": "python",
   "name": "python3"
  },
  "language_info": {
   "codemirror_mode": {
    "name": "ipython",
    "version": 3
   },
   "file_extension": ".py",
   "mimetype": "text/x-python",
   "name": "python",
   "nbconvert_exporter": "python",
   "pygments_lexer": "ipython3",
   "version": "3.12.2"
  }
 },
 "nbformat": 4,
 "nbformat_minor": 5
}
