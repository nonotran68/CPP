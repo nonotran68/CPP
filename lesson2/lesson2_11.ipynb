{
 "cells": [
  {
   "cell_type": "markdown",
   "id": "c012a35e-0ae0-4f8b-bcba-28a2e2a5efd6",
   "metadata": {},
   "source": [
    "## **Bài 2.11: <u>Tệp tiêu đề (header files)</u>**"
   ]
  },
  {
   "cell_type": "markdown",
   "id": "47cdfc41-d88f-41a9-bee3-3a8853b742c5",
   "metadata": {},
   "source": [
    "### **Tiêu đề và mục đích của chúng**"
   ]
  },
  {
   "cell_type": "markdown",
   "id": "4d7a92fb-aff6-4e61-935b-9ce36e5b18f2",
   "metadata": {},
   "source": [
    "Khi chương trình phát triển lớn hơn (và sử dụng nhiều tệp hơn), việc phải khai báo trước mọi hàm bạn muốn sử dụng được định nghĩa trong một tệp khác sẽ ngày càng tẻ nhạt. Sẽ không tuyệt vời sao nếu bạn có thể đặt tất cả các khai báo trước của mình vào một vị trí và sau đó nhập chúng khi cần?\n",
    "\n",
    "Các tệp mã C++ (có phần mở rộng .cpp) không phải là tệp duy nhất thường thấy trong các chương trình C++. Loại tệp khác được gọi là tệp tiêu đề (header file). Tệp tiêu đề thường có phần mở rộng là .h, nhưng đôi khi bạn sẽ thấy chúng có phần mở rộng là .hpp hoặc không có phần mở rộng nào cả. Mục đích chính của một tệp header là truyền các khai báo đến các tệp mã (.cpp).\n",
    "\n",
    ">**Điểm mấu chốt**<br>\n",
    ">Tệp header cho phép chúng ta đặt các khai báo ở một vị trí và sau đó nhập chúng bất cứ nơi nào chúng ta cần. Điều này có thể giúp tiết kiệm rất nhiều việc gõ phím trong các chương trình đa tệp."
   ]
  },
  {
   "cell_type": "markdown",
   "id": "b6fa6e46-dfce-4029-ba6e-d0f5ad81f48e",
   "metadata": {},
   "source": [
    "### **Sử dụng tệp tiêu đề của thư viện chuẩn**"
   ]
  },
  {
   "cell_type": "markdown",
   "id": "838d93e7-a27e-4cc5-a79b-6f0def6ea6a4",
   "metadata": {},
   "source": [
    "**Xem xét chương trình sau:**\n",
    ">```\n",
    ">#include <iostream>\n",
    ">\n",
    ">int main()\n",
    ">{\n",
    ">    std::cout << \"Hello, world!\";\n",
    ">    return 0;\n",
    ">}\n",
    ">```"
   ]
  },
  {
   "cell_type": "markdown",
   "id": "852322c9-5f47-4abc-a8fb-4c34338bb629",
   "metadata": {},
   "source": [
    "Chương trình này in \"`Hello, world!`\" ra console bằng cách sử dụng `std::cout`. Tuy nhiên, chương trình này không bao giờ cung cấp định nghĩa hoặc khai báo cho `std::cout`, vậy trình biên dịch biết `std::cout` là gì?\n",
    "\n",
    "Câu trả lời là `std::cout` đã được khai báo trước trong tệp header \"`iostream`\". Khi chúng ta `#include <iostream>`, chúng ta yêu cầu bộ tiền xử lí sao chép tất cả nội dung (bao gồm cả khai báo trước cho `std::cout`) từ tệp có tên \"`iostream`\" vào tệp thực hiện việc `#include`.\n",
    "\n",
    ">**Điểm mấu chốt**<br>\n",
    ">Khi bạn `#include` một tệp, nội dung của tệp được *include* sẽ được chèn vào điểm *include*. Điều này cung cấp một cách hữu ích để kéo các khai báo từ tệp khác.\n",
    "\n",
    "Hãy xem xét điều gì sẽ xảy ra nếu header `iostream` không tồn tại. Bất cứ nơi nào bạn sử dụng `std::cout`, bạn sẽ phải nhập hoặc sao chép thủ công tất cả các khai báo liên quan đến `std::cout` vào đầu mỗi tệp sử dụng `std::cout`! Điều này sẽ đòi hỏi rất nhiều kiến thức về cách `std::cout` được khai báo và sẽ là một khối lượng công việc lớn. Thậm chí tệ hơn, nếu một nguyên mẫu hàm được thêm hoặc thay đổi, chúng ta sẽ phải cập nhật thủ công tất cả các khai báo trước.\n",
    "\n",
    "Vì vậy, việc sử dụng `#include <iostream>` đơn giản hơn nhiều!"
   ]
  },
  {
   "cell_type": "markdown",
   "id": "f127d979-919a-4846-8952-6eb1816a0fb7",
   "metadata": {},
   "source": [
    "### **Sử dụng tệp tiêu đề để truyền vào các tiền khai báo**"
   ]
  },
  {
   "cell_type": "markdown",
   "id": "8780cc3c-2d9f-414b-8a57-1e6c6bd32327",
   "metadata": {},
   "source": [
    "Bây giờ chúng ta hãy quay lại ví dụ mà chúng ta đã thảo luận trong bài học trước. Khi kết thúc, chúng ta có hai tệp, `add.cpp` và `main.cpp`, trông như thế này:\n",
    "\n",
    "**add.cpp:**\n",
    ">```\n",
    ">int add(int x, int y)\n",
    ">{\n",
    ">    return x + y;\n",
    ">}\n",
    ">```\n",
    "\n",
    "**main.cpp:**\n",
    ">```\n",
    ">#include <iostream>\n",
    ">\n",
    ">int add(int x, int y); // Khai báo trước bằng cách sử dụng nguyên mẫu hàm\n",
    ">\n",
    ">int main()\n",
    ">{\n",
    ">    std::cout << \"Tổng của 3 và 4 là \" << add(3, 4) << '\\n';\n",
    ">    return 0;\n",
    ">}\n",
    ">```\n",
    "\n",
    "(Nếu bạn đang tạo lại ví dụ này từ đầu, đừng quên thêm add.cpp vào project của bạn để nó được biên dịch).\n",
    "\n",
    "Trong ví dụ này, chúng ta đã sử dụng một khai báo trước để trình biên dịch biết định danh `add` là gì khi biên dịch `main.cpp`. Như đã đề cập trước đây, việc thêm thủ công các khai báo trước cho mọi hàm bạn muốn sử dụng nằm trong một tệp khác có thể nhanh chóng trở nên tẻ nhạt.\n",
    "\n",
    "Hãy viết một tệp tiêu đề để giải quyết vấn đề này. Viết một tệp tiêu đề là một điều dễ dàng đáng ngạc nhiên, vì tệp chỉ bao gồm hai phần:\n",
    "\n",
    "**Bộ bảo vệ tiêu đề (header guard)**, chúng ta sẽ thảo luận chi tiết hơn trong bài học tiếp theo (**2.12 - Bộ bảo vệ tiêu đề**).\n",
    "Nội dung thực tế của tệp tiêu đề, đây nên là các tiền khai báo cho tất cả các định danh mà chúng ta muốn các tệp khác có thể nhìn thấy.\n",
    "Việc thêm một tệp tiêu đề vào project hoạt động tương tự như việc thêm một tệp mã nguồn (được đề cập trong bài học **2.8 - Chương trình với nhiều tệp mã**).\n",
    "\n",
    "Nếu đang sử dụng IDE, hãy thực hiện các bước tương tự và chọn **\"Header\"** thay vì **\"Source\"** khi được hỏi. Tệp tiêu đề sẽ xuất hiện như một phần của project.\n",
    "\n",
    "Nếu sử dụng dòng lệnh, chỉ cần tạo một tệp mới trong trình soạn thảo yêu thích của bạn trong cùng thư mục với các tệp nguồn (.cpp) của bạn. Không giống như các tệp nguồn, tệp tiêu đề không nên được thêm vào lệnh biên dịch của bạn (chúng được bao gồm ngầm theo các lệnh `#include` và được biên dịch như một phần của các tệp nguồn).\n",
    "\n",
    ">**Thực hành tốt nhất**<br>\n",
    ">Ưu tiên sử dụng hậu tố *.h* khi đặt tên cho các tệp tiêu đề của bạn (trừ khi project của bạn đã tuân theo một quy ước khác)."
   ]
  },
  {
   "cell_type": "markdown",
   "id": "3386353a-9085-42d8-9f84-1e01ffffe9be",
   "metadata": {},
   "source": [
    "Đây là một quy ước lâu đời cho các tệp tiêu đề C++, và hầu hết các IDE vẫn mặc định sử dụng *.h* thay vì các tùy chọn khác.\n",
    "\n",
    "Các tệp tiêu đề thường được ghép nối với các tệp mã, với tệp tiêu đề cung cấp các tiền khai báo cho tệp mã tương ứng. Vì tệp tiêu đề của chúng ta sẽ chứa một tiền khai báo cho các hàm được định nghĩa trong `add.cpp`, chúng tôi sẽ đặt tên cho tệp header mới của chúng tôi là `add.h`.\n",
    "\n",
    ">**Thực hành tốt nhất**<br>\n",
    ">Nếu một tệp tiêu đề được ghép nối với một tệp mã (ví dụ: `add.h` với `add.cpp`), thì cả hai đều nên có cùng tên cơ sở (`add`)."
   ]
  },
  {
   "cell_type": "markdown",
   "id": "a81eac59-3f3f-4f05-95fa-cca9091b0d0f",
   "metadata": {},
   "source": [
    "**Ví dụ:**\n",
    "\n",
    "**add.h:**\n",
    ">```\n",
    ">// 1) Thực sự chúng ta nên có một header guard ở đây, nhưng sẽ bỏ qua nó để đơn giản >(chúng tôi sẽ đề cập đến header guard trong bài học tiếp theo)\n",
    ">// 2) Đây là nội dung của tệp .h, đây là nơi chứa các khai báo\n",
    ">int add(int x, int y); // Nguyên mẫu hàm cho add.h - đừng quên dấu chấm phẩy!\n",
    ">```"
   ]
  },
  {
   "cell_type": "markdown",
   "id": "9dbb49f5-6196-465f-8698-cf92a31f9437",
   "metadata": {},
   "source": [
    "Để sử dụng tệp tiêu đề này trong `main.cpp`, chúng ta phải *include* nó (sử dụng dấu ngoặc kép `\"\"`, không sử dụng dấu ngoặc góc (`<>`)."
   ]
  },
  {
   "cell_type": "markdown",
   "id": "80846c38-6690-495c-8764-9e5c8d5ac855",
   "metadata": {},
   "source": [
    "**main.cpp:**\n",
    ">```\n",
    ">#include \"add.h\" // Chèn nội dung của add.h tại đây. Lưu ý sử dụng dấu ngoặc kép\n",
    ">#include <iostream>\n",
    ">\n",
    ">int main()\n",
    ">{\n",
    ">    std::cout << \"Tổng của 3 và 4 là \" << add(3, 4) << '\\n';\n",
    ">    return 0;\n",
    ">}\n",
    ">```\n",
    "\n",
    "**add.cpp:**\n",
    ">```\n",
    ">#include \"add.h\" // Chèn nội dung của add.h tại đây. Lưu ý sử dụng dấu ngoặc kép ở đây.\n",
    ">\n",
    ">int add(int x, int y)\n",
    ">{\n",
    ">    return x + y;\n",
    ">}\n",
    ">```"
   ]
  },
  {
   "cell_type": "markdown",
   "id": "47f59acf-f84f-48f2-8b0f-dc00b300bf63",
   "metadata": {},
   "source": [
    "Khi bộ tiền xử lý xử lý dòng `#include \"add.h\"`, nó sao chép nội dung của `add.h` vào tệp hiện tại tại thời điểm đó. Bởi vì `add.h` của chúng tôi chứa một tiền khai báo cho hàm `add()`, khai báo trước đó sẽ được sao chép vào `main.cpp`. Kết quả cuối cùng là một chương trình có chức năng giống như chương trình mà chúng tôi đã thêm thủ công khai báo trước ở đầu `main.cpp`.\n",
    "\n",
    "![minh họa](IncludeHeader.webp)"
   ]
  },
  {
   "cell_type": "markdown",
   "id": "b0a9ee16-88c0-4050-be76-2e808df131d2",
   "metadata": {},
   "source": [
    "### **Tại sao việc bao gồm các định nghĩa trong tệp tiêu đề lại dẫn đến vi phạm quy tắc định nghĩa một lần (ODR)**"
   ]
  },
  {
   "cell_type": "markdown",
   "id": "9c3a09b5-927c-4b7f-b36f-12a6e413a946",
   "metadata": {},
   "source": [
    "Hiện tại, bạn nên tránh đặt định nghĩa hàm hoặc biến trong các tệp header. Việc làm như vậy thường sẽ dẫn đến vi phạm **quy tắc định nghĩa một lần (ODR)** trong các trường hợp tệp tiêu đề được *include* vào nhiều hơn một tệp nguồn.\n",
    "\n",
    ">**Nội dung liên quan**<br>\n",
    ">Chúng tôi đã đề cập đến **quy tắc định nghĩa một lần (ODR)** trong bài học [**2.7 - Khai báo trước và định nghĩa**](lesson2_7.ipynb)."
   ]
  },
  {
   "cell_type": "markdown",
   "id": "9fa515e0-162e-4a5d-a35d-03c7f3fee16d",
   "metadata": {},
   "source": [
    "Hãy minh họa cách điều này xảy ra:\n",
    "\n",
    "**add.h:**\n",
    ">```\n",
    ">// Thực sự chúng ta nên có một header guard ở đây, nhưng sẽ bỏ qua nó để đơn giản (chúng tôi sẽ đề cập đến header guard trong bài học tiếp theo)\n",
    ">\n",
    ">// Định nghĩa cho add() trong tệp header - không nên làm điều này!\n",
    ">int add(int x, int y)\n",
    ">{\n",
    ">    return x + y;\n",
    ">}\n",
    ">```\n",
    "\n",
    "**main.cpp:**\n",
    ">```\n",
    ">#include \"add.h\" // Nội dung của add.h được sao chép tại đây\n",
    ">#include <iostream>\n",
    ">\n",
    ">int main()\n",
    ">{\n",
    ">    std::cout << \"Tổng của 3 và 4 là \" << add(3, 4) << '\\n';\n",
    ">\n",
    ">    return 0;\n",
    ">}\n",
    ">```\n",
    "\n",
    "**add.cpp:**\n",
    ">```\n",
    ">#include \"add.h\" // Nội dung của add.h được sao chép tại đây\n",
    ">```\n",
    "\n",
    "Khi `main.cpp` được biên dịch, `#include \"add.h\"` sẽ được thay thế bằng nội dung của `add.h` rồi mới được biên dịch. Do đó, trình biên dịch sẽ biên dịch thứ gì đó trông giống như thế này:\n",
    "\n",
    "**main.cpp (sau khi tiền xử lý):**\n",
    ">```\n",
    ">// từ add.h:\n",
    ">int add(int x, int y)\n",
    ">{\n",
    ">    return x + y;\n",
    ">}\n",
    ">\n",
    ">// nội dung của header iostream ở đây\n",
    ">\n",
    ">int main()\n",
    ">{\n",
    ">    std::cout << \"Tổng của 3 và 4 là \" << add(3, 4) << '\\n';\n",
    ">\n",
    ">    return 0;\n",
    ">}\n",
    ">```\n",
    "\n",
    "Các tệp này sẽ được biên dịch tốt.\n",
    "\n",
    "Khi trình biên dịch biên dịch `add.cpp`, `#include \"add.h\"` sẽ được thay thế bằng nội dung của `add.h` rồi mới được biên dịch. Do đó, trình biên dịch sẽ biên dịch thứ gì đó trông giống như thế này:\n",
    "\n",
    "**add.cpp (sau khi tiền xử lý):**\n",
    ">```\n",
    ">int add(int x, int y)\n",
    ">{\n",
    ">    return x + y;\n",
    ">}\n",
    ">```"
   ]
  },
  {
   "cell_type": "markdown",
   "id": "356f6b78-384c-425a-b3e9-c1919b242ca4",
   "metadata": {},
   "source": [
    "Cuối cùng, trình liên kết sẽ chạy. Và trình liên kết sẽ thấy rằng bây giờ có hai định nghĩa cho hàm `add()`: một trong `main.cpp` và một trong `add.cpp`. Đây là vi phạm phần 2 của **ODR**, quy định, **\"Trong một chương trình nhất định, một biến hoặc hàm thông thường chỉ có thể có một định nghĩa.\"**\n",
    "\n",
    ">**Thực hành tốt nhất**<br>\n",
    ">- Không đặt định nghĩa hàm và biến trong các tệp tiêu đề của bạn (hiện tại).\n",
    ">- Việc định nghĩa bất kỳ thứ nào trong số này trong tệp tiều đề có thể sẽ dẫn đến vi phạm quy tắc định nghĩa một lần (ODR) nếu tệp tiêu đề đó sau đó được `#include` vào nhiều hơn một tệp nguồn (.cpp).\n",
    "\n",
    ">**Lưu ý của tác giả**<br>\n",
    ">Trong các bài học tiếp theo, chúng ta sẽ gặp các loại định nghĩa bổ sung có thể được định nghĩa an toàn trong các tệp tiêu đề (bởi vì chúng được miễn trừ **ODR**). Điều này bao gồm các định nghĩa cho các hàm nội tuyến, biến nội tuyến, kiểu và khuôn mẫu. Chúng tôi sẽ thảo luận thêm về điều này khi chúng tôi giới thiệu từng loại này."
   ]
  },
  {
   "cell_type": "markdown",
   "id": "252653c6-69dd-49fc-81d0-6937b23dc794",
   "metadata": {},
   "source": [
    "### **Các tệp nguồn nên `include` tệp tiêu đề đi kèm của chúng**"
   ]
  },
  {
   "cell_type": "markdown",
   "id": "eee10e98-130b-4e77-bbc2-18782a406e0d",
   "metadata": {},
   "source": [
    "Trong C++, đây là cách thực hành tốt nhất để các tệp mã sử dụng `#include` tệp tiêu đề đi kèm của chúng (nếu có). Trong ví dụ trên, `add.cpp` sẽ *include* `add.h`.\n",
    "\n",
    "Điều này cho phép trình biên dịch phát hiện một số loại lỗi nhất định ở thời gian biên dịch thay vì thời gian liên kết. **Ví dụ:**\n",
    "\n",
    "**something.h:**\n",
    ">```\n",
    ">int something(int); // kiểu trả về của khai báo trước là int (int)\n",
    ">```\n",
    "\n",
    "**something.cpp:**\n",
    ">```\n",
    ">#include \"something.h\"\n",
    ">\n",
    ">void something(int) // lỗi: kiểu trả về không khớp\n",
    ">{\n",
    ">}\n",
    ">```\n"
   ]
  },
  {
   "cell_type": "markdown",
   "id": "f961df4e-ef94-4b6a-926c-9ea8230401b7",
   "metadata": {},
   "source": [
    "Vì `something.cpp` đã *include* `something.h`, trình biên dịch sẽ nhận thấy rằng hàm `something()` có kiểu trả về không khớp và cung cấp cho chúng ta lỗi biên dịch. Nếu `something.cpp` không bao gồm `something.h`, chúng ta sẽ phải đợi cho đến khi trình liên kết phát hiện ra sự không khớp, điều này gây lãng phí thời gian. Để biết một ví dụ khác, hãy xem [bình luận này](https://www.learncpp.com/cpp-tutorial/header-files/comment-page-8/#comment-398571).\n",
    "\n",
    "Chúng ta cũng sẽ thấy nhiều ví dụ trong các bài học tiếp theo, nơi nội dung mà tệp nguồn yêu cầu được định nghĩa trong tệp tiêu đề đi kèm. Trong những trường hợp như vậy, việc *include* tệp tiêu đề là cần thiết.\n",
    "\n",
    ">**Thực hành tốt nhất**<br>\n",
    ">Các tệp nguồn nên *include* tệp tiêu đề được ghép nối của chúng (nếu có)."
   ]
  },
  {
   "cell_type": "markdown",
   "id": "51f05c02-36d8-4036-bd95-f35b7e39fb2a",
   "metadata": {},
   "source": [
    "### **Không *include* các tệp .cpp**"
   ]
  },
  {
   "cell_type": "markdown",
   "id": "9b45473d-4b28-4eda-921f-3b9bbd492928",
   "metadata": {},
   "source": [
    "Mặc dù bộ tiền xử lí sẽ vui vẻ thực hiện việc đó, bạn thường không nên include các tệp .cpp. Chúng nên được thêm vào project của bạn và được biên dịch.\n",
    "\n",
    "Có một số lý do cho việc này:\n",
    "- Thực hiện việc này có thể gây ra xung đột đặt tên giữa các tệp nguồn.\n",
    "- Trong một project lớn, có thể khó tránh được các vấn đề về quy tắc định nghĩa 1 lần (ODR).\n",
    "- Bất kỳ thay đổi nào đối với một tệp .cpp như vậy sẽ khiến cả tệp .cpp đó và bất kỳ tệp .cpp nào khác *include* nó phải được biên dịch lại, điều này có thể mất nhiều thời gian. Các tệp tiêu đề có xu hướng thay đổi ít thường xuyên hơn các tệp nguồn.\n",
    "- Nó không theo quy ước.\n",
    "\n",
    ">**Thực hành tốt nhất**<br>\n",
    ">Tránh include các tệp .cpp.\n",
    "\n",
    ">**Mẹo**<br>\n",
    ">Nếu project của bạn không được biên dịch trừ khi bạn *include* các tệp .cpp, điều đó có nghĩa là các tệp .cpp đó không được biên dịch như một phần của project. Thêm chúng vào project hoặc dòng lệnh của bạn để chúng được biên dịch."
   ]
  },
  {
   "cell_type": "markdown",
   "id": "1593fc64-e057-41ce-9b79-7394db62e70f",
   "metadata": {},
   "source": [
    "### **Khắc phục sự cố (troubleshooting)**"
   ]
  },
  {
   "cell_type": "markdown",
   "id": "feb31557-048c-43db-b837-d0fef523686e",
   "metadata": {},
   "source": [
    "Nếu bạn gặp lỗi trình biên dịch cho biết `add.h` không được tìm thấy, hãy đảm bảo tệp đó thực sự được đặt tên là `add.h`. Tùy thuộc vào cách bạn tạo và đặt tên cho nó, tệp có thể được đặt tên là `add` (không có phần mở rộng) hoặc `add.h.txt` hoặc `add.hpp`. Ngoài ra, hãy đảm bảo nó nằm trong cùng thư mục với các tệp mã còn lại của bạn.\n",
    "\n",
    "Nếu bạn gặp lỗi liên kết về hàm `add` không được định nghĩa, hãy đảm bảo bạn đã bao gồm `add.cpp` vào project của mình để định nghĩa cho hàm `add` có thể được liên kết vào chương trình."
   ]
  },
  {
   "cell_type": "markdown",
   "id": "f333662b-a60a-4231-b74a-928b890b56f5",
   "metadata": {},
   "source": [
    "### **Dấu ngoặc góc vs. dấu ngoặc kép**\n"
   ]
  },
  {
   "cell_type": "markdown",
   "id": "4935a473-1fdd-4957-925d-ce102dd5253f",
   "metadata": {},
   "source": [
    "Có lẽ bạn đang tò mò tại sao chúng tôi sử dụng dấu ngoặc góc cho `iostream`, và dấu ngoặc kép cho `add.h`. Có khả năng là một tệp tiêu đề có cùng tên tệp có thể tồn tại trong nhiều thư mục. Việc chúng tôi sử dụng dấu ngoặc góc so với dấu ngoặc kép giúp cung cấp cho bộ tiền xử lí một manh mối về nơi nó nên tìm các tệp tiêu đề.\n",
    "\n",
    "Khi chúng tôi sử dụng dấu ngoặc góc, chúng ta đang nói với bộ tiền xử lí rằng đây là một tệp tiêu đề mà chúng ta không tự viết. Bộ tiền xử lí sẽ chỉ tìm kiếm tệp tiêu đề trong các thư mục được chỉ định bởi các **thư mục include** (include directories). Các **thư mục include** được cấu hình như một phần của **cài đặt project/IDE/cài đặt trình biên dịch** và thường mặc định thành các thư mục chứa các tệp tiêu đề đi kèm với trình biên dịch và/hoặc hệ điều hành hoặc thư viện của bên thứ ba mà bạn đã cài đặt ở một vị trí khác trên hệ thống của mình. Bộ tiền xử lí sẽ không tìm kiếm tệp tiêu đề trong thư mục mã nguồn của project của bạn.\n",
    "\n",
    "Khi chúng tôi sử dụng dấu ngoặc kép, chúng ta đang nói với bộ tiền xử lí rằng đây là một tệp tiêu đề do chúng ta viết. Bộ tiền xử lí sẽ đầu tiên tìm kiếm tệp tiêu đề trong thư mục hiện tại. Nếu nó không thể tìm thấy tệp tiêu đề phù hợp ở đó, thì nó sẽ tìm kiếm các **thư mục include**."
   ]
  },
  {
   "cell_type": "markdown",
   "id": "def65f91-9d66-4ec4-8aab-80aaada4b8ce",
   "metadata": {},
   "source": [
    ">**Quy tắc**<br>\n",
    ">- Sử dụng dấu ngoặc kép để *include* các tệp tiêu đề do bạn viết hoặc được dự kiến tìm thấy trong thư mục hiện tại.\n",
    ">- Sử dụng dấu ngoặc nhọn để *include* các tệp tiêu đề đi kèm với trình biên dịch, hệ điều hành hoặc thư viện của bên thứ ba mà bạn đã cài đặt ở một vị trí khác trên hệ thống của mình.\n"
   ]
  },
  {
   "cell_type": "markdown",
   "id": "760f7dcf-2ed3-4986-b971-75a209648eb0",
   "metadata": {},
   "source": [
    "### **Tại sao `iostream` không có phần mở rộng .h?**"
   ]
  },
  {
   "cell_type": "markdown",
   "id": "bdedc7d5-71ca-481a-9055-493e44a0b2d7",
   "metadata": {},
   "source": [
    "Một câu hỏi thường được hỏi khác là \"Tại sao `iostream` (hoặc bất kỳ tệp tiêu đề nào khác trong thư viện chuẩn) không có phần mở rộng .h?\". Câu trả lời là `iostream.h` là một tệp tiêu đề khác với iostream! Để giải thích cần một bài học lịch sử ngắn.\n",
    "\n",
    "Khi C++ lần đầu tiên được tạo ra, tất cả các tệp trong thư viện chuẩn đều kết thúc bằng hậu tố .h. Phiên bản gốc của `cout` và `cin` được khai báo trong `iostream.h`. Khi ngôn ngữ được ủy ban ANSI chuẩn hóa, họ đã quyết định chuyển tất cả các tên được sử dụng trong thư viện chuẩn vào không gian tên `std` để giúp tránh xung đột đặt tên với các định danh do người dùng khai báo. Tuy nhiên, điều này đã gây ra một vấn đề: nếu họ di chuyển tất cả các tên vào không gian tên `std`, thì không có chương trình cũ nào (bao gồm `iostream.h`) hoạt động nữa!\n",
    "\n",
    "Để giải quyết vấn đề này, một tập hợp mới các tệp tiêu đề đã được giới thiệu mà không có phần mở rộng .h. Các tệp tiêu đề mới này khai báo tất cả các tên bên trong không gian tên `std`. Bằng cách này, các chương trình cũ hơn bao gồm `#include <iostream.h>` không cần phải viết lại và các chương trình mới hơn có thể `#include <iostream>`.\n",
    "\n",
    ">**Kiến thức sâu sắc**\n",
    ">- Các tệp header với phần mở rộng .h khai báo tên của chúng trong không gian tên toàn cục. Chúng cũng có thể tùy chọn khai báo các tên đó trong không gian tên `std`.\n",
    ">- Các tệp header không có phần mở rộng .h khai báo tên của chúng trong không gian tên `std`. Thật không may và ngu ngốc, các tệp tiêu đề này cũng có thể tùy chọn khai báo các tên đó trong không gian tên toàn cục.\n",
    "\n",
    "Ngoài ra, nhiều thư viện được thừa hưởng từ C mà vẫn hữu ích trong C++ được đặt tiền tố *c* (ví dụ: stdlib.h trở thành cstdlib).\n",
    "\n",
    ">**Thực hành tốt nhất**<br>\n",
    ">- Khi *include* một tệp tiêu đề từ thư viện chuẩn, hãy sử dụng phiên bản không có phần mở rộng .h nếu nó tồn tại. Các header do người dùng định nghĩa vẫn nên sử dụng phần mở rộng .h.\n",
    ">- Nếu một tệp tiêu đề không có phần mở rộng .h khai báo tên vào không gian tên toàn cục, hãy tránh các tên đó, vì chúng có thể không khả dụng trong không gian tên toàn cục trên các trình biên dịch khác. Thay vào đó, hãy ưu tiên các tên được khai báo trong không gian tên `std`."
   ]
  },
  {
   "cell_type": "markdown",
   "id": "eb121223-7d5e-4d40-a6f8-2fcce110526c",
   "metadata": {},
   "source": [
    "### **Include các tệp tiêu đề từ các thư mục khác**"
   ]
  },
  {
   "cell_type": "markdown",
   "id": "a201f976-b7f4-47f0-b894-9223bfdb260e",
   "metadata": {},
   "source": [
    "Một câu hỏi phổ biến khác liên quan đến cách include các tệp tiêu đề từ các thư mục khác.\n",
    "\n",
    "Một cách (không tốt) để thực hiện việc này là include một đường dẫn tương đối đến tệp tiêu đề bạn muốn *include* như một phần của dòng `#include`. \n",
    "\n",
    "**Ví dụ:**\n",
    ">```\n",
    ">#include \"headers/myHeader.h\"\n",
    ">#include \"../moreHeaders/myOtherHeader.h\"\n",
    "\n",
    "Mặc dù tệp này sẽ biên dịch (giả sử các tệp tồn tại trong các thư mục đường dẫn tương đối đó), nhược điểm của cách tiếp cận này là nó yêu cầu bạn phải giữ nguyên cấu trúc thư mục của mình trong code. Nếu bạn cập nhật cấu trúc thư mục của mình, code của bạn sẽ không hoạt động nữa.\n",
    "\n",
    "Một phương pháp tốt hơn là cho trình biên dịch hoặc IDE của bạn biết rằng bạn có một số tệp tiêu đề ở một vị trí khác, để nó có thể tìm kiếm ở đó khi không tìm thấy chúng trong thư mục hiện tại. Điều này thường có thể được thực hiện bằng cách đặt *đường dẫn include* (include path) hoặc *thư mục tìm kiếm* (search directory) trong cài đặt project IDE của bạn.\n",
    "\n",
    ">**Đối với người dùng Visual Studio**\n",
    ">\n",
    ">Click chuột phải vào project của bạn trong **Solution Explorer**, và chọn **Properties**, sau đó là tab **VC++ Directories**. Tại đây, bạn sẽ thấy một dòng được gọi là **Include Directories**. Thêm các thư mục bạn muốn trình biên dịch tìm kiếm các tệp tiêu đề bổ sung ở đó.\n",
    "\n",
    ">**Đối với người dùng Code::Blocks**\n",
    ">\n",
    ">Trong Code::Blocks, hãy vào menu **Project** và chọn **Build Options**, sau đó là tab **Search directories**. Thêm các thư mục bạn muốn trình biên dịch tìm kiếm các tệp tiêu đề bổ sung ở đó.\n",
    "\n",
    ">**Đối với người dùng GCC/G++**\n",
    ">\n",
    ">Sử dụng `g++`, bạn có thể sử dụng tùy chọn `-I` để chỉ định một thư mục include thay thế:\n",
    ">\n",
    ">>`g++ -o main -I/source/includes main.cpp`\n",
    "\n",
    ">**Đối với người dùng VS Code**\n",
    ">\n",
    ">Trong file cấu hình `tasks.json` của bạn, thêm một dòng mới trong phần `“Args”`:\n",
    ">\n",
    ">>**JSON**\n",
    ">>\n",
    ">>`\"-I/source/includes\",`\n",
    "\n",
    "Điều tuyệt vời về cách tiếp cận này là nếu bạn thay đổi cấu trúc thư mục của mình, bạn chỉ cần thay đổi một cài đặt trình biên dịch hoặc IDE duy nhất thay vì mọi tệp code."
   ]
  },
  {
   "cell_type": "markdown",
   "id": "e7e9b5d3-02f8-4511-a103-cfd99f85cc8e",
   "metadata": {},
   "source": [
    "### **Các tệp tiêu đề có thể chèn các tệp tiêu đề khác**"
   ]
  },
  {
   "cell_type": "markdown",
   "id": "0e5a8894-1fe6-4fb9-bded-808fda892d48",
   "metadata": {},
   "source": [
    "Thông thường, một tệp tiêu đề sẽ cần một khai báo hoặc định nghĩa nằm trong một tệp header khác. Do đó, các tệp header thường sẽ `#include` các tệp tiêu đề khác.\n",
    "\n",
    "Khi tệp mã của bạn `#include` tệp tiêu đề đầu tiên, bạn cũng sẽ nhận được bất kỳ tệp tiêu đề nào khác mà tệp tiêu đề đầu tiên *include* (và bất kỳ tệp tiêu đề nào chúng *include*, v.v.). Các tệp tiêu đề bổ sung này đôi khi được gọi là ***include* trung gian**, vì chúng được *include* ngầm  chứ không phải rõ ràng.\n",
    "\n",
    "Nội dung của các *include* trung gian này có sẵn để sử dụng trong tệp mã của bạn. Tuy nhiên, bạn thường không nên dựa vào nội dung của các tệp tiêu đề được *include* trung gian (trừ khi tài liệu tham khảo cho biết các *include* trung gian đó là cần thiết). Việc triển khai các tệp tiêu đề có thể thay đổi theo thời gian hoặc khác nhau trên các hệ thống khác nhau. Nếu điều đó xảy ra, code của bạn chỉ có thể biên dịch trên một số hệ thống nhất định hoặc có thể biên dịch bây giờ nhưng không biên dịch được trong tương lai. Điều này có thể dễ dàng tránh được bằng cách *include* rõ ràng tất cả các tệp header mà nội dung của tệp code của bạn yêu cầu.\n",
    "\n",
    ">**Cách thực hành tốt nhất**<br>\n",
    ">Mỗi tệp nên `#include` rõ ràng tất cả các tệp tiêu đề mà nó cần để biên dịch. Không dựa vào các tiêu đề được đưa vào tạm thời từ các tiêu đề khác.\n",
    "\n",
    "Thật không may, không có cách nào dễ dàng để phát hiện khi tệp mã của bạn vô tình dựa vào nội dung của tệp tiêu đề đã được một tệp tiêu đề khác đưa vào.\n",
    "\n",
    ">**<u>Hỏi:</u> Tôi đã không *include* `<someheader>` và chương trình của tôi vẫn hoạt động! Tại sao?**<br>\n",
    ">Đây là một trong những câu hỏi thường gặp nhất trên trang web này.<br>\n",
    ">Câu trả lời là: nó có thể hoạt động vì bạn đã chèn một số tiêu đề khác (ví dụ: `<iostream>`), chính tiêu đề này đã bao gồm `<someheader>`. Mặc dù chương trình của bạn sẽ biên dịch nhưng theo cách thực hành tốt nhất ở trên, bạn không nên dựa vào điều này. Những gì biên dịch cho bạn có thể không biên dịch được trên máy của người khác."
   ]
  },
  {
   "cell_type": "markdown",
   "id": "9a1333c4-812e-4b60-93c5-9606f1e86983",
   "metadata": {},
   "source": [
    "### **Thứ tự của các file tiêu đề sử dụng `#include`**"
   ]
  },
  {
   "cell_type": "markdown",
   "id": "b41e6c34-2fc8-419e-8a30-6cd3025efe86",
   "metadata": {},
   "source": [
    "Nếu các file header của bạn được viết đúng cách và bao gồm tất cả những gì cần thiết, thì thứ tự *include* chúng không quan trọng.\n",
    "\n",
    "Bây giờ hãy xem xét tình huống sau: giả sử file header A cần các khai báo từ header B, nhưng quên *include* nó. Trong file code của chúng tôi, nếu chúng tôi include header B trước header A, code của chúng tôi vẫn sẽ biên dịch! Điều này là do trình biên dịch sẽ biên dịch tất cả các khai báo từ B trước khi nó biên dịch code từ A phụ thuộc vào các khai báo đó.\n",
    "\n",
    "Tuy nhiên, nếu chúng tôi include header A trước tiên, thì trình biên dịch sẽ phàn nàn vì code từ A sẽ được biên dịch trước khi trình biên dịch thấy các khai báo từ B. Thực ra đây là điều đáng ưu tiên, vì lỗi đã được phát hiện và sau đó chúng ta có thể khắc phục nó.\n",
    "\n",
    ">**Thực hành tốt nhất**<br>\n",
    ">Để tối đa hóa khả năng các include bị thiếu sẽ được đánh dấu bởi trình biên dịch, hãy sắp xếp các #include của bạn như sau:\n",
    ">1. File header được đính kèm (file header đi kèm với file code hiện tại)\n",
    ">2. Các header khác từ project của bạn\n",
    ">3. Header của thư viện của bên thứ ba (thư viện do người khác phát triển và bạn tích hợp vào project)\n",
    ">4. Header của thư viện chuẩn (các header đi kèm với trình biên dịch C++)\n",
    ">\n",
    ">Các header cho mỗi nhóm nên được sắp xếp theo bảng chữ cái (trừ khi tài liệu cho thư viện của bên thứ ba hướng dẫn bạn làm khác).\n",
    "\n",
    "Bằng cách đó, nếu một trong các header do bạn tự định nghĩa thiếu #include cho thư viện của bên thứ ba hoặc header của thư viện chuẩn, thì nó có nhiều khả năng gây ra lỗi biên dịch để bạn có thể khắc phục.\n",
    "\n"
   ]
  },
  {
   "cell_type": "markdown",
   "id": "2090d866-c02e-46fa-869d-62c79f04b0ff",
   "metadata": {},
   "source": [
    "### **Các thực hành tốt nhất cho tệp tiêu đề**"
   ]
  },
  {
   "cell_type": "markdown",
   "id": "46973cb4-6dff-497d-be82-cb2cb239f9af",
   "metadata": {},
   "source": [
    "Dưới đây là một vài đề xuất khác để tạo và sử dụng các tệp tiêu đề:\n",
    "\n",
    "- Luôn luôn *include* **header guard** (chúng tôi sẽ đề cập đến chúng trong bài học tiếp theo). **Header guard** giúp ngăn ngừa việc *include* một file header nhiều lần trong cùng một unit code (chẳng hạn như một file cpp).\n",
    "- Không định nghĩa biến và hàm trong các tệp header (trong bài học này).\n",
    "- Đặt tên cho tệp header giống với tệp nguồn được liên kết với nó (ví dụ: grades.h được đính kèm với grades.cpp).\n",
    "- Mỗi tệp header nên có một công việc cụ thể và độc lập nhất có thể. Ví dụ: bạn có thể đặt tất cả các khai báo liên quan đến chức năng A trong A.h và tất cả các khai báo liên quan đến chức năng B trong B.h. Bằng cách đó, nếu sau này bạn chỉ quan tâm đến A, bạn chỉ cần include A.h và không cần bất kỳ thứ gì liên quan đến B.\n",
    "- Hãy chú ý đến các header bạn cần *include* rõ ràng cho các chức năng bạn đang sử dụng trong các file code của mình, để tránh *include* trung gian không cần thiết.\n",
    "- Một file header nên `#include` bất kỳ header nào khác chứa các chức năng cần thiết. Header như vậy nên được biên dịch thành công khi được #include vào một file .cpp riêng lẻ.\n",
    "- Chỉ *include* những gì bạn cần (không *include* tất cả mọi thứ chỉ vì bạn có thể).\n",
    "- Không include các file .cpp.\n",
    "- Ưu tiên đặt tài liệu về những gì đó hoạt động hoặc cách sử dụng nó trong header. Nó có nhiều khả năng được nhìn thấy ở đó. Tài liệu mô tả cách thức hoạt động của một thứ gì đó nên nằm trong các file nguồn."
   ]
  }
 ],
 "metadata": {
  "kernelspec": {
   "display_name": "Python 3 (ipykernel)",
   "language": "python",
   "name": "python3"
  },
  "language_info": {
   "codemirror_mode": {
    "name": "ipython",
    "version": 3
   },
   "file_extension": ".py",
   "mimetype": "text/x-python",
   "name": "python",
   "nbconvert_exporter": "python",
   "pygments_lexer": "ipython3",
   "version": "3.12.2"
  }
 },
 "nbformat": 4,
 "nbformat_minor": 5
}
