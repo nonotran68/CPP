{
 "cells": [
  {
   "cell_type": "markdown",
   "id": "043e2050-4773-4375-9933-06f489fdd012",
   "metadata": {},
   "source": [
    "## **Bài 2.1: <u>Giới thiệu về hàm</u>**"
   ]
  },
  {
   "cell_type": "markdown",
   "id": "b9ae79e8-3a23-498c-b9ce-f3c1ab4f0cc4",
   "metadata": {},
   "source": [
    "Trong chương trước, chúng ta đã định nghĩa hàm là một tập hợp các câu lệnh được thực thi tuần tự. Mặc dù điều đó hoàn toàn đúng, nhưng định nghĩa đó không cung cấp nhiều thông tin chi tiết về lý do tại sao hàm lại hữu ích. Hãy cập nhật định nghĩa của chúng ta: **Hàm** là một chuỗi các câu lệnh có thể tái sử dụng được thiết kế để thực hiện một công việc cụ thể."
   ]
  },
  {
   "cell_type": "markdown",
   "id": "77ee1f19-d4b7-4110-b67a-a400120c2121",
   "metadata": {},
   "source": [
    "Bạn đã biết rằng mọi chương trình thực thi đều phải có một hàm được đặt tên là `main` (chính là nơi chương trình bắt đầu thực thi khi được chạy). Tuy nhiên, khi chương trình bắt đầu trở nên dài hơn, việc đặt tất cả code bên trong hàm main sẽ ngày càng khó quản lý. Hàm cung cấp một cách để chúng ta chia nhỏ chương trình thành các khối nhỏ, mô-đun dễ dàng tổ chức, kiểm tra và sử dụng hơn. Hầu hết các chương trình sử dụng nhiều hàm. Thư viện chuẩn C++ đi kèm với rất nhiều hàm đã được viết sẵn để bạn sử dụng - tuy nhiên, việc viết hàm của riêng bạn cũng rất phổ biến. Các hàm do bạn tự viết được gọi là **hàm do người dùng định nghĩa (user-defined functions).**"
   ]
  },
  {
   "cell_type": "markdown",
   "id": "488d15c1-2f08-4c23-99b9-fcb5c8d8613e",
   "metadata": {},
   "source": [
    "Hãy xem xét một trường hợp có thể xảy ra trong thực tế: bạn đang đọc sách, thì bạn nhớ ra mình cần gọi điện thoại. Bạn đánh dấu trang sách, thực hiện cuộc gọi điện thoại và khi kết thúc cuộc gọi, bạn quay lại vị trí đã đánh dấu và tiếp tục đọc sách chính xác từ nơi bạn dừng lại."
   ]
  },
  {
   "cell_type": "markdown",
   "id": "a3390088-9115-4d0f-89a1-be84781f94ec",
   "metadata": {},
   "source": [
    "Các chương trình C++ cũng có thể hoạt động theo cách tương tự. Một chương trình sẽ thực thi các câu lệnh tuần tự bên trong một hàm khi nó gặp một lời gọi hàm. **Lời gọi hàm** là một biểu thức yêu cầu CPU tạm dừng hàm hiện tại và thực thi một hàm khác. CPU “đánh dấu” tại điểm thực thi hiện tại, sau đó gọi (thực thi) hàm được đặt tên trong lời gọi hàm. Khi hàm được gọi kết thúc, CPU quay trở lại điểm đã đánh dấu và tiếp tục thực thi.\n",
    "\n",
    "**Hàm khởi tạo lời gọi hàm được gọi là hàm gọi (caller), còn hàm được gọi bởi caller được gọi là callee (hay hàm được gọi).**"
   ]
  },
  {
   "cell_type": "markdown",
   "id": "64aabe5a-d5a6-4e12-ab74-bc2313a0c517",
   "metadata": {},
   "source": [
    "### **Hàm do người dùng định nghĩa** "
   ]
  },
  {
   "cell_type": "markdown",
   "id": "1feb7c76-4a04-4640-acf3-915d4a9f6f7e",
   "metadata": {},
   "source": [
    "Trước tiên, hãy bắt đầu với cú pháp cơ bản nhất để định nghĩa một hàm do người dùng định nghĩa. Trong vài bài học tiếp theo, tất cả các hàm do người dùng định nghĩa sẽ có dạng sau:\n",
    "\n",
    ">```\n",
    ">returnType functionName() // Đây là tiêu đề hàm (thông báo cho trình biên dịch về sự tồn tại của hàm)\n",
    ">{\n",
    ">    // Đây là thân hàm (thông báo cho trình biên dịch hàm này làm gì)\n",
    ">}\n",
    ">```\n",
    "\n",
    "Dòng đầu tiên được gọi không chính thức là **tiêu đề hàm (function header)**, nó thông báo cho trình biên dịch về sự tồn tại của một hàm, tên của hàm và một số thông tin khác mà chúng ta sẽ đề cập trong các bài học tiếp theo (như kiểu trả về và kiểu tham số).\n",
    "\n",
    "Trong bài học này, chúng ta sẽ sử dụng **kiểu trả về (`returnType`)** là `int` (cho hàm `main()`) hoặc `void` (nếu không cần kiểu). Hiện tại, đừng lo lắng về chúng, vì chúng ta sẽ nói thêm về kiểu trả về và giá trị trả về trong bài học tiếp theo **(2.2 - Giá trị trả về của hàm (hàm trả về giá trị)).**\n",
    "\n",
    "Giống như biến có tên, các hàm do người dùng định nghĩa cũng có tên. **Tên hàm (functionName)** là tên (định danh) của hàm do người dùng định nghĩa của bạn.\n",
    "\n",
    "Dấu ngoặc đơn sau định danh cho biết với trình biên dịch rằng chúng ta đang định nghĩa một hàm.\n",
    "\n",
    "Các dấu ngoặc nhọn và các câu lệnh bên trong được gọi là **thân hàm (function body).** Đây là nơi chứa các câu lệnh xác định chức năng của hàm của bạn.\n",
    "\n",
    "Dưới đây là một chương trình mẫu cho thấy cách định nghĩa và gọi một hàm mới:\n",
    "\n",
    ">```\n",
    ">#include <iostream> // for std::cout\n",
    ">\n",
    ">// Định nghĩa hàm do người dùng định nghĩa doPrint()\n",
    ">void doPrint() // doPrint() là hàm được gọi trong ví dụ này\n",
    ">{\n",
    ">    std::cout << \"In doPrint()\\n\";\n",
    ">}\n",
    ">\n",
    ">// Định nghĩa hàm main()\n",
    ">int main()\n",
    ">{\n",
    ">    std::cout << \"Starting main()\\n\";\n",
    ">    doPrint(); // Tạm dừng main() bằng cách thực hiện một lời gọi hàm đến doPrint(). main() là hàm gọi.\n",
    ">    std::cout << \"Ending main()\\n\"; // câu lệnh này được thực thi sau khi doPrint() kết thúc\n",
    ">\n",
    ">    return 0;\n",
    ">}\n",
    ">```\n"
   ]
  },
  {
   "cell_type": "markdown",
   "id": "8ada9454-c6cd-489d-8406-5b7009aaaf60",
   "metadata": {},
   "source": [
    "Chương trình này tạo ra đầu ra sau:\n",
    ">```\n",
    ">Starting main()\n",
    ">In doPrint()\n",
    ">Ending main()\n",
    ">```\n",
    "\n",
    "Chương trình này bắt đầu thực thi ở đầu hàm `main`, và dòng đầu tiên được thực thi sẽ in ra `Starting main()`.\n",
    "\n",
    "Dòng thứ hai trong `main` là một lời gọi hàm đến hàm `doPrint`. Chúng ta gọi hàm `doPrint` bằng cách thêm một cặp dấu ngoặc đơn vào tên hàm như thế này: `doPrint()`.<br>\n",
    "Lưu ý rằng nếu bạn quên dấu ngoặc đơn, chương trình của bạn có thể không biên dịch được (và nếu có, thì hàm sẽ không được gọi)."
   ]
  },
  {
   "cell_type": "markdown",
   "id": "170a2c54-8cda-4fab-830b-00f1c8b72419",
   "metadata": {},
   "source": [
    ">**Cảnh báo** <br>\n",
    ">Đừng quên thêm dấu ngoặc đơn `()` sau tên hàm khi thực hiện lời gọi hàm.\n",
    "\n",
    "Vì một lời gọi hàm đã được thực hiện, việc thực thi các câu lệnh trong `main` bị tạm dừng và thực thi nhảy đến đầu của hàm được gọi `doPrint`. Dòng đầu tiên (và duy nhất) trong `doPrint` in ra `In doPrint()`. Khi `doPrint` kết thúc, việc thực thi quay trở lại hàm gọi (ở đây: hàm `main`) và tiếp tục từ điểm dừng lại. Do đó, câu lệnh tiếp theo được thực thi trong `main` in ra `Ending main()`."
   ]
  },
  {
   "cell_type": "markdown",
   "id": "b1bd9232-4a46-4f74-aa69-2347f7517ee3",
   "metadata": {},
   "source": [
    "### **Gọi hàm nhiều lần**"
   ]
  },
  {
   "cell_type": "markdown",
   "id": "9f0e1996-c309-4ba4-a92c-7e38440820aa",
   "metadata": {},
   "source": [
    "Một điều hữu ích về hàm là chúng có thể được gọi nhiều lần. Đây là một chương trình minh họa điều này:\n",
    "\n",
    ">```\n",
    ">#include <iostream> // for std::cout\n",
    ">\n",
    ">void doPrint()\n",
    ">{\n",
    ">    std::cout << \"In doPrint()\\n\";\n",
    ">}\n",
    ">\n",
    ">// Định nghĩa hàm main()\n",
    ">int main()\n",
    ">{\n",
    ">    std::cout << \"Starting main()\\n\";\n",
    ">    doPrint(); // doPrint() được gọi lần đầu tiên\n",
    ">    doPrint(); // doPrint() được gọi lần thứ hai\n",
    ">    std::cout << \"Ending main()\\n\";\n",
    ">\n",
    ">    return 0;\n",
    ">}\n",
    ">```\n",
    "\n",
    "Chương trình này tạo ra đầu ra sau:\n",
    ">```\n",
    ">Starting main()\n",
    ">In doPrint()\n",
    ">In doPrint()\n",
    ">Ending main()\n",
    ">```\n",
    "\n",
    "Vì `doPrint` được gọi hai lần bởi `main`, `doPrint` thực thi hai lần và `In doPrint()` được in ra hai lần (một lần cho mỗi lời gọi)."
   ]
  },
  {
   "cell_type": "markdown",
   "id": "3b0257fb-3250-44b7-a57d-b8875ee6689f",
   "metadata": {},
   "source": [
    "### **Hàm có thể gọi hàm khác, hàm khác lại gọi hàm khác**"
   ]
  },
  {
   "cell_type": "markdown",
   "id": "092c3c72-d824-449d-a035-786e0fdb6e1d",
   "metadata": {},
   "source": [
    "Bạn đã thấy rằng hàm `main` có thể gọi một hàm khác (chẳng hạn như hàm `doPrint` trong ví dụ ở trên). Bất kỳ hàm nào cũng có thể gọi bất kỳ hàm nào khác. Trong chương trình sau, hàm `main` gọi hàm `doA`, hàm `doA` lại gọi hàm `doB`:\n",
    "\n",
    ">```\n",
    ">#include <iostream> // for std::cout\n",
    ">\n",
    ">void doB()\n",
    ">{\n",
    ">    std::cout << \"In doB()\\n\";\n",
    ">}\n",
    ">\n",
    ">\n",
    ">void doA()\n",
    ">{\n",
    ">    std::cout << \"Starting doA()\\n\";\n",
    ">\n",
    ">    doB();\n",
    ">\n",
    ">.    std::cout << \"Ending doA()\\n\";\n",
    ">}\n",
    ">\n",
    ">// Định nghĩa hàm main()\n",
    ">int main()\n",
    ">{\n",
    ">    std::cout << \"Starting main()\\n\";\n",
    ">\n",
    ">    doA();\n",
    ">\n",
    ">    std::cout << \"Ending main()\\n\";\n",
    ">\n",
    ">    return 0;\n",
    ">}\n",
    ">```\n",
    "\n",
    "Chương trình này tạo ra đầu ra sau:\n",
    ">```\n",
    ">Starting main()\n",
    ">Starting doA()\n",
    ">In doB()\n",
    ">Ending doA()\n",
    ">Ending main()\n",
    ">```\n",
    "\n",
    "**Giải thích:**\n",
    "\n",
    "- Chương trình bắt đầu thực thi tại hàm `main`.\n",
    "- Dòng đầu tiên trong main in ra `\"Starting main()\"`.\n",
    "- Tiếp theo, `main` gọi hàm `doA` bằng cách sử dụng `doA()`.\n",
    "- Khi `doA` được gọi, nó in ra `\"Starting doA()\"`.\n",
    "- Bên trong `doA`, nó lại gọi hàm `doB` bằng cách sử dụng `doB()`.\n",
    "- Lúc này, điều khiển nhảy đến hàm `doB`.\n",
    "- `doB` in ra `\"In doB()\"`.\n",
    "- Sau khi `doB` thực thi xong, điều khiển quay trở lại `doA` (hàm gọi `doB`).\n",
    "- `doA` in ra `\"Ending doA()\"`.\n",
    "- Điều khiển quay trở lại `main` (hàm gọi `doA`).\n",
    "- `main` in ra `\"Ending main()\"`.\n",
    "- Chương trình kết thúc.\n",
    "\n",
    "**Tóm lại:**\n",
    "\n",
    "Các hàm có thể gọi cho nhau, tạo ra các chuỗi thực thi phức tạp hơn. Bất kỳ hàm nào cũng có thể gọi bất kỳ hàm nào khác, miễn là hàm được gọi đã được định nghĩa trước đó trong chương trình."
   ]
  },
  {
   "cell_type": "markdown",
   "id": "8cdd9b07-7b91-4123-aebd-00d05891e381",
   "metadata": {},
   "source": [
    "### **C++ không hỗ trợ hàm lồng nhau**"
   ]
  },
  {
   "cell_type": "markdown",
   "id": "0c8de48d-7eaf-4bb8-a9a2-1eaa7533c0bf",
   "metadata": {},
   "source": [
    "Trái ngược với một số ngôn ngữ lập trình khác, C++ không cho phép định nghĩa hàm bên trong các hàm khác. Tính năng này được gọi là định nghĩa hàm lồng nhau. (nested function)"
   ]
  },
  {
   "cell_type": "markdown",
   "id": "6b8a059f-8fc3-4dfb-8292-223c21990300",
   "metadata": {},
   "source": [
    ">```\n",
    ">#include <iostream>\n",
    ">\n",
    ">int main() {\n",
    ">    void foo() { // Dòng này bất hợp lệ trong C++\n",
    ">        std::cout << \"foo!\\n\";\n",
    ">    }\n",
    ">\n",
    ">    foo(); // Dòng này cố gắng gọi hàm lồng nhau\n",
    ">    return 0;\n",
    ">}\n",
    ">```\n",
    "\n",
    "**Lỗi:** Dòng `void foo()` cố gắng định nghĩa một hàm có tên `foo` bên trong hàm `main`. Điều này không được phép trong C++.\n",
    "\n",
    "Trong C++, các hàm cần được định nghĩa bên ngoài các hàm khác:\n",
    "\n",
    ">```\n",
    ">#include <iostream>\n",
    ">\n",
    ">void foo() { // Định nghĩa hàm bên ngoài main\n",
    ">    std::cout << \"foo!\\n\";\n",
    ">}\n",
    ">\n",
    ">int main() {\n",
    ">    foo(); // Gọi hàm foo\n",
    ">    return 0;\n",
    ">}\n",
    ">```\n",
    "\n",
    ">**Thông tin bổ sung:** <br>\n",
    ">Biến siêu cú pháp: Mã sử dụng `\"foo\"` làm tên giữ chỗ cho hàm. Những tên giữ chỗ này thường được sử dụng khi tên cụ thể không quan trọng để minh họa một khái niệm.<br>\n",
    "Các ví dụ phổ biến khác bao gồm `\"bar\"`, `\"baz\"` hoặc các từ 3 chữ cái kết thúc bằng `\"oo\"` (`goo`, `moo`, `boo`)."
   ]
  }
 ],
 "metadata": {
  "kernelspec": {
   "display_name": "Python 3 (ipykernel)",
   "language": "python",
   "name": "python3"
  },
  "language_info": {
   "codemirror_mode": {
    "name": "ipython",
    "version": 3
   },
   "file_extension": ".py",
   "mimetype": "text/x-python",
   "name": "python",
   "nbconvert_exporter": "python",
   "pygments_lexer": "ipython3",
   "version": "3.12.2"
  }
 },
 "nbformat": 4,
 "nbformat_minor": 5
}
