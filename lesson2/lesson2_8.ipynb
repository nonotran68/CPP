{
 "cells": [
  {
   "cell_type": "markdown",
   "id": "c4bda392-abdb-4bcd-af27-fd855fbe7722",
   "metadata": {},
   "source": [
    "## **Bài 2.8: <u>Chương trình với nhiều tệp mã</u>**"
   ]
  },
  {
   "cell_type": "markdown",
   "id": "a19136b4-22ff-4cd2-8093-f6b426513ff3",
   "metadata": {},
   "source": [
    "Khi chương trình trở nên lớn hơn, việc chia chúng thành nhiều tệp khác nhau cho mục đích tổ chức hoặc tái sử dụng mã là điều thường thấy. Một lợi thế của việc làm việc với IDE là chúng giúp việc làm việc với nhiều tệp trở nên dễ dàng hơn nhiều. Bạn đã biết cách tạo và biên dịch các dự án tệp đơn. Thêm các tệp mới vào các dự án hiện có rất dễ dàng.\n",
    "\n",
    ">**Thực hành tốt nhất**<br>\n",
    ">Khi bạn thêm các tệp mã mới vào dự án của mình, hãy đặt cho chúng phần mở rộng .cpp"
   ]
  },
  {
   "cell_type": "markdown",
   "id": "b687719f-56b8-4a70-9cb3-71e50d8f6530",
   "metadata": {},
   "source": [
    ">**Đối với người dùng Visual Studio:**\n",
    ">\n",
    ">Nhấp chuột phải vào thư mục **Source Files** (hoặc tên dự án) trong cửa sổ **Solution Explorer**, và chọn **Add > New Item…** (**Thêm > Thêm Mục Mới…**).\n",
    ">\n",
    ">![](VS-AddNewItem1.png)\n",
    ">\n",
    ">Kiểm tra xem bạn đã chọn **C++ File (.cpp)** (Tệp C++ (.cpp)) chưa. Đặt tên cho tệp mới và nó sẽ được thêm vào dự án của bạn.\n",
    ">\n",
    ">**Lưu ý:** Visual Studio của bạn có thể chọn hiển thị cho bạn chế độ xem gọn thay vì chế độ xem đầy đủ như được hiển thị ở trên. Bạn có thể sử dụng chế độ xem gọn hoặc nhấp vào **\"Show all Templates\"** (Hiển thị tất cả Mẫu) để chuyển sang chế độ xem đầy đủ.\n",
    ">\n",
    ">![](VS-AddNewItem2.webp)\n",
    ">\n",
    ">**Lưu ý:** Nếu bạn tạo một tệp mới từ menu **File** (Tệp) thay vì từ dự án của mình trong **Solution Explorer**, thì tệp mới sẽ không được tự động thêm vào dự án của bạn. Bạn sẽ phải thêm nó vào dự án theo cách thủ công. Để thực hiện việc này, hãy nhấp chuột phải vào **Source Files** trong **Solution Explorer**, chọn **Add > Existing Item** (Thêm > Mục Hiện Có), rồi chọn tệp của bạn.\n",
    ">\n",
    ">Bây giờ, khi bạn biên dịch chương trình của mình, bạn sẽ thấy trình biên dịch liệt kê tên tệp của mình khi nó biên dịch nó."
   ]
  },
  {
   "cell_type": "markdown",
   "id": "0b2ec2c0-24ee-4a0e-ad92-732a8af9d6e2",
   "metadata": {},
   "source": [
    ">**Đối với người dùng Code::Blocks**\n",
    ">\n",
    ">Trong Code::Blocks, hãy đi tới menu **File** (Tệp) và chọn **New > File…** (Mới > Tệp…).\n",
    ">\n",
    ">![](CB-AddNewItem1.webp)\n",
    ">\n",
    ">Trong hộp thoại **New from template** (Mới từ mẫu), chọn **C/C++ source** (Nguồn C/C++) và nhấp vào **Go** (Đi).\n",
    ">\n",
    ">![](CB-AddNewItem2.png)\n",
    ">\n",
    ">Lúc này, bạn có thể thấy hoặc không thấy hộp thoại **welcome to the C/C++ source file wizard** (chào mừng đến trình hướng dẫn tệp nguồn C/C++). Nếu có, hãy nhấp vào **Next** (Tiếp theo).\n",
    ">\n",
    ">![](CB-AddNewItem3.webp)\n",
    ">\n",
    ">Trên trang tiếp theo của trình hướng dẫn, chọn \"**C++**\" và nhấp vào **Next** (Tiếp theo).\n",
    ">\n",
    ">![](CB-AddNewItem4.webp)\n",
    ">\n",
    ">Bây giờ, đặt tên cho tệp mới (đừng quên phần mở rộng .cpp), và nhấp vào nút **All** (Tất cả) để đảm bảo tất cả các mục tiêu xây dựng được chọn. Cuối cùng, chọn **Finish** (Hoàn thành).\n",
    ">\n",
    ">![](CB-AddNewItem5.webp)\n",
    ">\n",
    ">Bây giờ, khi bạn biên dịch chương trình của mình, bạn sẽ thấy trình biên dịch liệt kê tên tệp của mình khi nó biên dịch nó."
   ]
  },
  {
   "cell_type": "markdown",
   "id": "172f72b7-da96-4dfb-b62b-b0406de692f3",
   "metadata": {},
   "source": [
    ">**Đối với người dùng GCC/G++**\n",
    ">\n",
    ">Từ dòng lệnh, bạn có thể tự tạo tệp bổ sung bằng trình soạn thảo yêu thích của mình và đặt tên cho nó. Khi bạn biên dịch chương trình của mình, bạn cần bao gồm tất cả các tệp mã liên quan trên dòng biên dịch. Ví dụ: `g++ main.cpp add.cpp -o main` , trong đó `main.cpp` và `add.cpp` là tên các tệp mã của bạn và `main` là tên của tệp đầu ra.\n",
    "\n",
    ">**Đối với người dùng VS Code**\n",
    ">\n",
    ">Để tạo một tệp mới, chọn **View > Explorer** từ thanh điều hướng trên cùng để mở ngăn **Explorer**, sau đó nhấp vào biểu tượng **New File** (Tệp mới) ở bên phải tên dự án. Hoặc, chọn **File > New File** (Tệp > Tệp mới) từ thanh điều hướng trên cùng. Sau đó, đặt tên cho tệp mới của bạn (đừng quên phần mở rộng .cpp). Nếu tệp xuất hiện bên trong thư mục .vscode, hãy kéo nó lên một cấp tới thư mục dự án.\n",
    ">\n",
    ">Tiếp theo, hãy mở tệp `tasks.json` và tìm dòng `\"${file}\"`,.\n",
    ">\n",
    ">Bạn có hai lựa chọn ở đây:\n",
    ">\n",
    ">Nếu bạn muốn rõ ràng về việc các tệp nào được biên dịch, hãy thay thế `\"${file}\"`, bằng tên của từng tệp bạn muốn biên dịch, mỗi tệp trên một dòng, giống như này:\n",
    ">>```\n",
    ">>\"main.cpp\",\n",
    ">>\"add.cpp\",\n"
   ]
  },
  {
   "cell_type": "markdown",
   "id": "0bc419c8-54b3-4f54-a1b1-af1bd281455d",
   "metadata": {},
   "source": [
    "### **Ví dụ về chương trình nhiều tệp mã**"
   ]
  },
  {
   "cell_type": "markdown",
   "id": "467efabf-78cc-4d1f-b85c-8fc21863c842",
   "metadata": {},
   "source": [
    "Trong bài học [**2.7 - Tiền khai báo và định nghĩa hàm**](lesson2_7.ipynb), chúng tôi đã xem xét một chương trình tệp đơn không thể biên dịch được:\n",
    ">```\n",
    ">#include <iostream>\n",
    ">\n",
    ">int main()\n",
    ">{\n",
    ">  std::cout << \"The sum of 3 and 4 is: \" << add(3, 4) << '\\n';\n",
    ">  return 0;\n",
    ">}\n",
    ">\n",
    ">int add(int x, int y)\n",
    ">{\n",
    ">  return x + y;\n",
    ">}\n",
    ">```\n",
    "\n",
    "Khi trình biên dịch đến lệnh gọi hàm `add` trên dòng *5* của `main`, nó không biết `add` là gì, bởi vì chúng tôi chưa định nghĩa `add` cho đến dòng *9*! Giải pháp của chúng tôi là sắp xếp lại các hàm (đặt `add` lên đầu) hoặc sử dụng **tiền khai báo** cho `add`.\n",
    "\n",
    "Bây giờ, chúng ta hãy xem xét một chương trình đa tệp tương tự:"
   ]
  },
  {
   "cell_type": "markdown",
   "id": "5f036b52-26d7-4445-b209-2693fd3339fa",
   "metadata": {},
   "source": [
    "**add.cpp:**\n",
    ">```\n",
    ">int add(int x, int y)\n",
    ">{\n",
    ">  return x + y;\n",
    ">}"
   ]
  },
  {
   "cell_type": "markdown",
   "id": "515b6200-c0b6-47eb-b0a5-46ea4efdba44",
   "metadata": {},
   "source": [
    "**main.cpp:**\n",
    ">```\n",
    ">#include <iostream>\n",
    ">\n",
    ">int main()\n",
    ">{\n",
    ">  std::cout << \"The sum of 3 and 4 is: \" << add(3, 4) << '\\n'; // lỗi biên dịch\n",
    ">  return 0;\n",
    ">}"
   ]
  },
  {
   "cell_type": "markdown",
   "id": "b356c5c2-affd-437d-8577-74141219fce8",
   "metadata": {},
   "source": [
    "Trình biên dịch của bạn có thể biên dịch `add.cpp` hoặc `main.cpp` trước. Dù bằng cách nào, `main.cpp` sẽ không thể biên dịch được, dẫn đến lỗi trình biên dịch giống như ví dụ trước:\n",
    ">`main.cpp(5) : error C3861: 'add': identifier not found`\n",
    "\n",
    "Lý do cũng chính xác như vậy: khi trình biên dịch đến dòng *5* của `main.cpp`, nó không biết định danh `add` là gì.\n",
    "\n",
    "Hãy nhớ rằng, trình biên dịch biên dịch từng tệp riêng lẻ. Nó không biết về nội dung của các tệp mã khác hoặc ghi nhớ bất kỳ điều gì nó đã thấy từ các tệp mã được biên dịch trước đó. Vì vậy, ngay cả khi trình biên dịch có thể đã thấy định nghĩa của hàm `add` trước đó (nếu nó biên dịch `add.cpp` trước), thì nó cũng không nhớ.\n",
    "\n",
    "Khả năng hiển thị hạn chế và bộ nhớ ngắn này là có chủ đích, vì một vài lý do:\n",
    "- Nó cho phép các tệp nguồn của một dự án được biên dịch theo bất kỳ thứ tự nào.\n",
    "- Khi chúng tôi thay đổi một tệp nguồn, chỉ tệp nguồn đó cần được biên dịch lại.\n",
    "- Nó giảm khả năng xung đột tên giữa các định danh trong các tệp khác nhau.\n",
    "\n",
    "Chúng tôi sẽ khám phá những gì xảy ra khi tên xung đột trong bài học tiếp theo ([**2.9 - Xung đột tên và Giới thiệu về Không gian tên**](lesson2_9.cpp)).\n",
    "\n",
    "Các tùy chọn giải pháp của chúng tôi ở đây giống như trước: đặt định nghĩa của hàm `add` trước hàm `main`, hoặc đáp ứng trình biên dịch bằng tiền khai báo. Trong trường hợp này, vì hàm `add` nằm trong một tệp khác, nên tùy chọn sắp xếp lại không khả thi."
   ]
  },
  {
   "cell_type": "markdown",
   "id": "41e5fb2b-cbb7-45f3-97c6-1e4ab8fd178a",
   "metadata": {},
   "source": [
    "Giải pháp ở đây là sử dụng tiền khai báo:\n",
    "\n",
    "**main.cpp (với tiền khai báo):**\n",
    ">```\n",
    ">#include <iostream>\n",
    ">\n",
    ">int add(int x, int y); // cần thiết để main.cpp biết rằng add() là một hàm được định nghĩa ở nơi khác\n",
    ">\n",
    ">int main()\n",
    ">{\n",
    ">  std::cout << \"The sum of 3 and 4 is: \" << add(3, 4) << '\\n';\n",
    ">  return 0;\n",
    ">}\n",
    "\n",
    "**add.cpp**\n",
    ">```\n",
    ">int add(int x, int y)\n",
    ">{\n",
    ">  return x + y;\n",
    ">}\n",
    "\n",
    "Bây giờ, khi trình biên dịch đang biên dịch `main.cpp`, nó sẽ biết định danh `add` là gì và hài lòng. Trình liên kết sẽ kết nối lệnh gọi hàm `add` trong `main.cpp` với định nghĩa của hàm `add` trong `add.cpp`.\n",
    "\n",
    "Sử dụng phương pháp này, chúng ta có thể cho các tệp truy cập vào các hàm nằm trong một tệp khác.\n",
    "\n",
    "Hãy thử tự biên dịch `add.cpp` và `main.cpp` với tiền khai báo. Nếu bạn gặp lỗi trình liên kết, hãy đảm bảo bạn đã thêm `add.cpp` vào dự án hoặc dòng biên dịch của mình một cách chính xác."
   ]
  },
  {
   "cell_type": "markdown",
   "id": "76bf2b36-18fc-424e-9408-29bc44c4ee1b",
   "metadata": {},
   "source": [
    ">**Mẹo**<br>\n",
    ">Do trình biên dịch biên dịch từng tệp mã riêng lẻ (và sau đó quên những gì nó đã thấy), mỗi tệp mã sử dụng `std::cout` hoặc `std::cin` đều cần `#include <iostream>`.\n",
    ">\n",
    ">Trong ví dụ trên, nếu `add.cpp` sử dụng `std::cout` hoặc `std::cin`, thì nó cũng cần `#include <iostream>`.\n",
    "\n",
    ">**Kiến thức trọng tâm**<br>\n",
    ">Khi một định danh được sử dụng trong một biểu thức, định danh đó phải được kết nối với định nghĩa của nó.\n",
    ">- Nếu trình biên dịch không thấy khai báo trước hoặc định nghĩa cho định danh trong tệp đang được biên dịch, thì nó sẽ báo lỗi tại điểm mà định danh được sử dụng.\n",
    ">- Hoặc là, nếu định nghĩa tồn tại trong cùng một tệp, trình biên dịch sẽ kết nối việc sử dụng định danh với định nghĩa của nó.\n",
    ">- Hoặc là, nếu định nghĩa tồn tại trong một tệp khác (và trình liên kết có thể nhìn thấy), thì trình liên kết sẽ kết nối việc sử dụng định danh với định nghĩa của nó.\n",
    ">\n",
    ">Nếu không thì cuối cùng, trình liên kết sẽ báo lỗi cho biết nó không thể tìm thấy định nghĩa cho định danh.\n"
   ]
  }
 ],
 "metadata": {
  "kernelspec": {
   "display_name": "Python 3 (ipykernel)",
   "language": "python",
   "name": "python3"
  },
  "language_info": {
   "codemirror_mode": {
    "name": "ipython",
    "version": 3
   },
   "file_extension": ".py",
   "mimetype": "text/x-python",
   "name": "python",
   "nbconvert_exporter": "python",
   "pygments_lexer": "ipython3",
   "version": "3.12.2"
  }
 },
 "nbformat": 4,
 "nbformat_minor": 5
}
