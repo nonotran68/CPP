{
 "cells": [
  {
   "cell_type": "markdown",
   "id": "c2594433-a692-4c5d-a26a-b3b9c339f740",
   "metadata": {},
   "source": [
    "# **Bài 1**: <u>Giới thiệu về CPP</u>"
   ]
  },
  {
   "cell_type": "markdown",
   "id": "b9d4da96-9dc9-41ab-ab4c-d20674ff64b1",
   "metadata": {},
   "source": [
    "- Máy tính ngày nay đã chạy vô cùng nhanh, và ngày càng nhanh hơn theo thời gian. Tuy nhiên, máy tính cũng có một số hạn chế đáng kể: chúng chỉ hiểu một tập lệnh giới hạn và phải được hướng dẫn chính xác những gì cần làm.\n",
    "- Một chương trình máy tính là tập các chỉ dẫn mà máy tính có thể thực hiện để hoàn thành tác vụ nào đó. Quá trình tạo ra 1 chương trình như vậy được gọi là *lập trình*.\n",
    "- Các thành phần vật lý tạo nên máy tính được gọi là *phần cứng*. Khi một chương trình được tải vào bộ nhớ và phần cứng lần lượt thực thi các chỉ dẫn lệnh, việc đó được là chạy hay thực thi chương trình. "
   ]
  },
  {
   "cell_type": "code",
   "execution_count": null,
   "id": "ea9c86e1-fe15-4533-bdd2-1e57088857a6",
   "metadata": {},
   "outputs": [],
   "source": []
  }
 ],
 "metadata": {
  "kernelspec": {
   "display_name": "Python 3 (ipykernel)",
   "language": "python",
   "name": "python3"
  },
  "language_info": {
   "codemirror_mode": {
    "name": "ipython",
    "version": 3
   },
   "file_extension": ".py",
   "mimetype": "text/x-python",
   "name": "python",
   "nbconvert_exporter": "python",
   "pygments_lexer": "ipython3",
   "version": "3.12.2"
  }
 },
 "nbformat": 4,
 "nbformat_minor": 5
}
