{
 "cells": [
  {
   "cell_type": "markdown",
   "id": "c2594433-a692-4c5d-a26a-b3b9c339f740",
   "metadata": {},
   "source": [
    "# **Bài 1**: <u>Giới thiệu về CPP</u>"
   ]
  },
  {
   "cell_type": "markdown",
   "id": "b9d4da96-9dc9-41ab-ab4c-d20674ff64b1",
   "metadata": {},
   "source": [
    "- Máy tính ngày nay đã chạy vô cùng nhanh, và ngày càng nhanh hơn theo thời gian. Tuy nhiên, máy tính cũng có một số hạn chế đáng kể: chúng chỉ hiểu một tập lệnh giới hạn và phải được hướng dẫn chính xác những gì cần làm.\n",
    "- Một chương trình máy tính là tập các chỉ dẫn mà máy tính có thể thực hiện để hoàn thành tác vụ nào đó. Quá trình tạo ra 1 chương trình như vậy được gọi là *lập trình*.\n",
    "- Các thành phần vật lý tạo nên máy tính được gọi là *phần cứng*. Khi một chương trình được tải vào bộ nhớ và phần cứng lần lượt thực thi các chỉ dẫn lệnh, việc đó được là chạy hay thực thi chương trình.\n",
    "## Ngôn ngữ máy:\n",
    "- CPU của máy không có khả năng đọc được các đoạn mã C++. Tập lệnh giới hạn mà CPU có thể hiểu trực tiếp được gọi là *mã máy* (hay *ngôn ngữ máy* hay *tập lệnh điều khiển (instruction set)* )\n",
    "- Đây là một tập lệnh ngôn ngữ máy ví dụ: **10110000 01100001**\n",
    "- Ở những ngày đầu máy tính được phát minh, các lập trình viên phải viết trực tiếp ngôn ngữ máy, vốn là việc rất khó và tốn nhiều thời gian thực hiện.\n",
    "- Tập lệnh mã máy là chuỗi các số 1 và 0. Mỗi số 1 hoặc 0 được là *đơn vị nhị phân* (*binary digit*) hay *bit*. Số lượng bit để tạo thành 1 câu lệnh đơn lẻ có thể thay đổi, vd. một số CPU thực thi tập lệnh có 1 độ dài 32 bit, trong khi CPU khác có kiến trúc tập lệnh 64 bit, 16 bit, 8 bit...\n",
    "- Các chuỗi nhị phân được CPU dịch thành câu lệnh thực hiện các công việc cụ thể, vd. so sánh 2 số, đặt 1 số vào ô địa chỉ bộ nhớ nào... Tuy nhiên, mỗi loại CPU có kiến trúc tập lệnh khác nhau, tập lệnh viết cho CPU này đọc được nhưng CPU khác có kiến trúc tập lệnh khác thì không đọc được. Điều đó có nghĩa chương trình viết bằng mã máy không **linh động** (portable) trên nhiều hệ thống khác nhau.\n",
    "## Hợp ngữ:\n",
    "- Bởi ngôn ngữ máy rất khó học, hợp ngữ đã được phát minh. Trong hợp ngữ, mỗi chỉ dẫn được xác định bởi 1 viết tắt ngắn gọn (thay vì một chuỗi bit), tên và các chữ số cũng có thể được sử dụng.\n",
    "> VD: *mov al, 061h*\n",
    "- Điều này khiến hợp ngữ dễ đọc và viết hơn ngôn ngữ máy. Tuy vậy, CPU không thể hiểu trực tiếp hợp ngữ. Thay vào đó, chương trình hợp ngữ được dịch ra thành mã máy trước khi được thực thi. Điều này được thực hiện bởi 1 chương trình gọi là *trình biên dịch hợp ngữ* (*assembler*). Các chương trình được viết bằng hợp ngữ có xu hướng chạy rất nhanh, và hợp ngữ vẫn được sử dụng ngày nay khi vấn đề tốc độ có tính quyết định.\n",
    "- Tuy nhiên hợp ngữ cũng có nhiều nhược điểm."
   ]
  },
  {
   "cell_type": "code",
   "execution_count": null,
   "id": "ea9c86e1-fe15-4533-bdd2-1e57088857a6",
   "metadata": {},
   "outputs": [],
   "source": []
  }
 ],
 "metadata": {
  "kernelspec": {
   "display_name": "Python 3 (ipykernel)",
   "language": "python",
   "name": "python3"
  },
  "language_info": {
   "codemirror_mode": {
    "name": "ipython",
    "version": 3
   },
   "file_extension": ".py",
   "mimetype": "text/x-python",
   "name": "python",
   "nbconvert_exporter": "python",
   "pygments_lexer": "ipython3",
   "version": "3.12.2"
  }
 },
 "nbformat": 4,
 "nbformat_minor": 5
}
