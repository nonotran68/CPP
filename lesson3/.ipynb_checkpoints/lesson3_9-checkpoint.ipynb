{
 "cells": [
  {
   "cell_type": "markdown",
   "id": "cae352c4-9be1-42a4-94d3-e5113a17e0f9",
   "metadata": {},
   "source": [
    "## **Bài 3.9: <u>Sử dụng trình gỡ lỗi tích hợp: Call Stack (Ngăn xếp lệnh gọi)</u>** "
   ]
  },
  {
   "cell_type": "markdown",
   "id": "7bb4378f-f5d6-4aef-b309-a80b9aa25aa6",
   "metadata": {},
   "source": [
    "Trình gỡ lỗi hiện đại chứa thêm một cửa sổ thông tin gỡ lỗi khác có thể rất hữu ích trong việc gỡ lỗi chương trình của bạn, đó là **cửa sổ ngăn xếp lệnh gọi (call stack)**.\n",
    "\n",
    "Khi chương trình của bạn gọi một hàm, bạn đã biết nó đánh dấu vị trí hiện tại, thực hiện lệnh gọi hàm và sau đó trả về. Làm thế nào nó biết được nơi để quay lại? Câu trả lời là nó được theo dõi trong **ngăn xếp lệnh gọi**."
   ]
  },
  {
   "cell_type": "markdown",
   "id": "f0fae9ae-8eaf-414c-8f1b-1ecd217fa7cc",
   "metadata": {},
   "source": [
    "### **Ngăn xếp lệnh gọi (Call Stack) là gì?**"
   ]
  },
  {
   "cell_type": "markdown",
   "id": "5a0d9c51-ebac-424a-9a6c-f9f62ac49e25",
   "metadata": {},
   "source": [
    "**Ngăn xếp lệnh gọi** là một danh sách tất cả các hàm đang hoạt động đã được gọi để đến điểm thực thi hiện tại. Ngăn xếp lệnh gọi bao gồm một mục cho mỗi hàm được gọi, cũng như dòng code nào sẽ được trả về khi hàm đó trả về. Bất cứ khi nào một hàm mới được gọi, hàm đó sẽ được thêm vào đầu của ngăn xếp lệnh gọi. Khi hàm hiện tại trả về cho hàm gọi, nó sẽ bị xóa khỏi đầu của ngăn xếp lệnh gọi và quyền điều khiển được trả lại cho hàm ngay bên dưới nó.\n",
    "\n",
    "**Cửa sổ ngăn xếp lệnh gọi** là một cửa sổ gỡ rối hiển thị ngăn xếp lệnh gọi hiện tại. Nếu bạn không thấy cửa sổ ngăn xếp lệnh gọi, bạn sẽ cần yêu cầu IDE hiển thị nó.\n",
    "\n",
    "\n",
    ">**Cách truy cập cửa sổ ngăn xếp lệnh gọi:**\n",
    ">- **Visual Studio**: Menu *Debug > Windows > Call Stack*. Lưu ý rằng bạn phải ở trong phiên gỡ lỗi để kích hoạt cửa sổ này.\n",
    ">- **Code::Blocks**: Menu *Debug > Debugging windows > Call Stack*.\n",
    ">- **VS Code**: Trong VS Code, cửa sổ ngăn xếp lệnh gọi xuất hiện ở chế độ gỡ lỗi, được neo bên trái.\n",
    "\n"
   ]
  },
  {
   "cell_type": "markdown",
   "id": "d2a606a2-3ab2-4e4d-939e-5ebfe8ccd0c1",
   "metadata": {},
   "source": [
    "**Ví dụ minh họa:**\n",
    "\n",
    ">```\n",
    ">#include <iostream>\n",
    ">\n",
    ">void a()\n",
    ">{\n",
    ">    std::cout << \"a() called\\n\";\n",
    ">}\n",
    ">\n",
    ">void b()\n",
    ">{\n",
    ">    std::cout << \"b() called\\n\";\n",
    ">    a();\n",
    ">}\n",
    ">\n",
    ">int main()\n",
    ">{\n",
    ">    a();\n",
    ">    b();\n",
    ">\n",
    ">    return 0;\n",
    ">}\n",
    ">```"
   ]
  },
  {
   "cell_type": "markdown",
   "id": "3cda985b-e69b-4e53-a56a-fd3c7b2c8135",
   "metadata": {},
   "source": [
    "Đặt điểm dừng trên dòng `5` và `10` của chương trình này, sau đó bắt đầu chế độ gỡ lỗi. Do hàm `a` được gọi đầu tiên, nên điểm dừng trên dòng `5` sẽ được chạy tới trước.\n",
    "\n",
    "Lúc này, bạn sẽ thấy thứ gì đó giống như này:\n",
    "\n",
    "![](VS-CallStack1-min.webp)\n",
    "\n"
   ]
  },
  {
   "cell_type": "markdown",
   "id": "ec5d3599-a880-460b-8e83-e240d80af2db",
   "metadata": {},
   "source": [
    "**IDE** của bạn có thể biểu hiện hiện một số khác biệt:\n",
    "- Định dạng tên hàm và số dòng của bạn có thể khác nhau.\n",
    "- Số dòng của bạn có thể hơi khác (chênh lệch 1).\n",
    "- Thay vì `[External Code]`, bạn có thể thấy một loạt các hàm khác có tên kỳ lạ.\n",
    "\n",
    "Những điểm khác biệt này không quan trọng.\n",
    "\n",
    "Điều quan trọng ở đây là hai dòng đầu tiên. Từ dưới lên trên, chúng ta có thể thấy rằng hàm `main` được gọi trước tiên, và sau đó hàm `a` được gọi tiếp theo.\n",
    "\n",
    "Dòng `5` bên cạnh hàm `a` cho chúng ta biết điểm thực thi hiện tại là ở đâu (phù hợp với dấu thực thi trong cửa sổ code). Dòng `17` trên dòng thứ hai cho biết dòng sẽ được trả về khi quyền điều khiển quay trở lại hàm `main`."
   ]
  },
  {
   "cell_type": "markdown",
   "id": "882e5f11-145b-42e8-9686-5ca4a200bfe4",
   "metadata": {},
   "source": [
    ">**Mẹo**\n",
    ">- Các số dòng sau tên hàm hiển thị dòng tiếp theo sẽ được thực thi trong mỗi hàm.\n",
    ">- Do mục đầu trên ngăn xếp lệnh gọi biểu thị cho hàm hiện đang được thực thi, số dòng ở đây hiển thị dòng tiếp theo sẽ được thực thi khi thực thi tiếp tục. Các mục còn lại trong ngăn xếp lệnh gọi đại diện cho các hàm sẽ được trả về tại một điểm nào đó, vì vậy số dòng cho những mục này đại diện cho lệnh tiếp theo sẽ được thực thi sau khi hàm được trả về.\n",
    "\n"
   ]
  },
  {
   "cell_type": "markdown",
   "id": "b27559c3-5d2a-4893-9f28-e6a20569effe",
   "metadata": {},
   "source": [
    "Bây giờ, hãy chọn lệnh gỡ rối *Continue* để tiến hành thực thi đến điểm dừng tiếp theo, điểm dừng này sẽ nằm trên dòng `10`. Ngăn xếp lệnh gọi sẽ được cập nhật để phản ánh trạng thái mới:\n",
    "\n",
    "![](VS-CallStack2-min.webp)\n",
    "\n",
    "Bạn sẽ nhận thấy rằng hàm `b` bây giờ là dòng trên cùng của ngăn xếp lệnh gọi, phản ánh thực tế rằng hàm `b` là hàm đang được thực thi. Lưu ý rằng hàm `a` không còn được biểu diễn trên ngăn xếp lệnh gọi nữa. Điều này là do hàm `a` đã bị xóa khỏi ngăn xếp lệnh gọi khi nó trả về.\n",
    "\n",
    "Chọn lại lệnh gỡ rối *Continue* một lần nữa và chúng ta sẽ chạm lại điểm dừng trên dòng `5` (bởi vì hàm `b` gọi hàm `a`). Ngăn xếp lệnh gọi sẽ trông như thế này:\n",
    "\n",
    "![](VS-CallStack3-min.webp)\n",
    "\n",
    "Bây giờ có ba hàm trên ngăn xếp lệnh gọi: (từ dưới lên trên) `main`, chính là hàm gọi `b`, và hàm `b` là hàm gọi lại `a`.\n",
    "\n",
    "Ngăn xếp lệnh gọi hữu ích khi kết hợp với các **breakpoint** (điểm dừng), khi breakpoint của bạn được chạm tới và bạn muốn biết những hàm nào được gọi để đến điểm cụ thể đó trong code."
   ]
  },
  {
   "cell_type": "markdown",
   "id": "3b78c7fd-2d97-42a7-89b1-485d75f0cde0",
   "metadata": {},
   "source": [
    "### **Kết luận**"
   ]
  },
  {
   "cell_type": "markdown",
   "id": "9ba3895e-f26d-4789-8a95-af81649e3537",
   "metadata": {},
   "source": [
    "Chúc mừng, bây giờ bạn đã biết những điều cơ bản về việc sử dụng trình gỡ lỗi tích hợp! Sử dụng các tính năng **kiểm tra từng bước (stepping)**, **điểm dừng (breakpoints)**, **theo dõi biến (watches)** và **cửa sổ ngăn xếp lệnh gọi (call stack window)**, bạn giờ đây đã có những nền tảng cơ bản để có thể gỡ lỗi hầu hết mọi vấn đề. Giống như nhiều thứ khác, việc trở nên giỏi sử dụng trình gỡ rối cần một chút thực hành và thử nghiệm. Nhưng một lần nữa, chúng tôi xin nhắc lại rằng thời gian dành cho việc học cách sử dụng hiệu quả trình gỡ lỗi tích hợp sẽ được đền đáp nhiều lần trong thời gian tiết kiệm gỡ lỗi các chương trình của bạn!"
   ]
  }
 ],
 "metadata": {
  "kernelspec": {
   "display_name": "Python 3 (ipykernel)",
   "language": "python",
   "name": "python3"
  },
  "language_info": {
   "codemirror_mode": {
    "name": "ipython",
    "version": 3
   },
   "file_extension": ".py",
   "mimetype": "text/x-python",
   "name": "python",
   "nbconvert_exporter": "python",
   "pygments_lexer": "ipython3",
   "version": "3.12.3"
  }
 },
 "nbformat": 4,
 "nbformat_minor": 5
}
