{
 "cells": [
  {
   "cell_type": "markdown",
   "id": "4aa8d066-4c81-484f-b0b8-f9057d6746a2",
   "metadata": {
    "jp-MarkdownHeadingCollapsed": true
   },
   "source": [
    "## **Bài 3.1: <u>Lỗi cú pháp và lỗi ngữ nghĩa</u>**"
   ]
  },
  {
   "cell_type": "markdown",
   "id": "a17f42c3-bf86-4bb6-b809-ca9d36b76c3c",
   "metadata": {},
   "source": [
    "Lỗi phần mềm rất phổ biến. Rất dễ mắc phải chúng và khó khăn để tìm ra chúng. Trong chương này, chúng ta sẽ khám phá các chủ đề liên quan đến việc tìm và loại bỏ lỗi trong các chương trình C++ của mình, bao gồm cả việc học cách sử dụng trình gỡ lỗi tích hợp đi kèm với IDE của bạn.\n",
    "\n",
    "Mặc dù các công cụ và kỹ thuật gỡ lỗi không phải là một phần của tiêu chuẩn C++, việc học cách tìm và loại bỏ lỗi trong các chương trình bạn viết là một phần cực kỳ quan trọng để trở thành một lập trình viên thành công. Do đó, chúng tôi sẽ dành một chút thời gian để đề cập đến các chủ đề như vậy, để khi các chương trình bạn viết trở nên phức tạp hơn, khả năng chẩn đoán và khắc phục sự cố của bạn cũng sẽ tiến triển theo cùng một nhịp độ.\n",
    "\n",
    "Nếu bạn có kinh nghiệm gỡ lỗi chương trình trong một ngôn ngữ lập trình khác, thì phần lớn nội dung này sẽ quen thuộc với bạn."
   ]
  },
  {
   "cell_type": "markdown",
   "id": "608490a8-c934-4b8d-b437-ca443f44adf7",
   "metadata": {},
   "source": [
    "### **Lỗi cú pháp và lỗi ngữ nghĩa**"
   ]
  },
  {
   "cell_type": "markdown",
   "id": "ebd7990e-b811-4c60-80f1-b9b88095ae5b",
   "metadata": {},
   "source": [
    "Lập trình có thể đầy thử thách và C++ là một ngôn ngữ hơi lập dị. Kết hợp cả hai điều đó lại, sẽ có rất nhiều cách để mắc lỗi. Lỗi thường thuộc một trong hai loại: lỗi cú pháp và lỗi ngữ nghĩa (lỗi logic)."
   ]
  },
  {
   "cell_type": "markdown",
   "id": "e1feea94-b853-4685-8a95-e4cdda4aff5c",
   "metadata": {},
   "source": [
    "**Lỗi cú pháp** xảy ra khi bạn viết một câu lệnh không hợp lệ theo ngữ pháp của ngôn ngữ C++. Điều này bao gồm các lỗi như thiếu dấu chấm phẩy, sử dụng các biến chưa được khai báo, dấu ngoặc hoặc ngoặc nhọn không khớp, v.v. Ví dụ, chương trình sau đây chứa một vài lỗi cú pháp:\n",
    "\n",
    ">```\n",
    ">#include <iostream>\n",
    ">\n",
    ">int main()\n",
    ">{\n",
    ">    std::cout < \"Hi there\"; << x << '\\n'; // Toán tử không hợp lệ (<), dấu chấm phẩy thừa, biến chưa được khai báo (x)\n",
    ">    return 0 // Thiếu dấu chấm phẩy ở cuối câu lệnh\n",
    ">}\n",
    ">```\n",
    "\n",
    "May mắn thay, trình biên dịch thường sẽ bắt được các lỗi cú pháp và tạo ra các cảnh báo hoặc lỗi, vì vậy bạn có thể dễ dàng xác định và khắc phục sự cố. Sau đó, bạn chỉ cần biên dịch lại cho đến khi loại bỏ được tất cả các lỗi.\n",
    "\n",
    "Khi chương trình của bạn đã được biên dịch chính xác, việc khiến nó thực sự tạo ra kết quả mong muốn có thể khá khó khăn. **Lỗi ngữ nghĩa** xảy ra khi một câu lệnh hợp lệ về cú pháp nhưng không thực hiện những gì lập trình viên định hướng.\n",
    "\n",
    "Đôi khi chúng sẽ khiến chương trình của bạn bị crash (chết), chẳng hạn như trong trường hợp chia cho `0`:\n",
    ">```\n",
    ">#include <iostream>\n",
    ">\n",
    ">int main()\n",
    ">{\n",
    ">    int a { 10 };\n",
    ">    int b { 0 };\n",
    ">    std::cout << a << \" / \" << b << \" = \" << a / b << '\\n'; // Chia cho 0 là không xác định trong toán học\n",
    ">    return 0;\n",
    ">}\n",
    ">```\n",
    "\n"
   ]
  },
  {
   "cell_type": "markdown",
   "id": "fd7e4e69-2535-417d-a697-66505edefea2",
   "metadata": {},
   "source": [
    "Thông thường hơn, chúng sẽ chỉ tạo ra giá trị hoặc hành vi sai:\n",
    ">```\n",
    ">#include <iostream>\n",
    ">\n",
    ">int main()\n",
    ">{\n",
    ">    int x; // no initializer provided\n",
    ">    std::cout << x << '\\n'; // Use of uninitialized variable leads to undefined result\n",
    ">\n",
    ">    return 0;\n",
    ">}\n",
    ">```\n",
    "\n",
    "Hoặc:\n",
    "\n",
    ">```\n",
    ">#include <iostream>\n",
    ">\n",
    ">int add(int x, int y) // Hàm này được cho là thực hiện phép cộng\n",
    ">{\n",
    ">    return x - y; // Nhưng nó không thực hiện được do sử dụng sai toán tử\n",
    ">}\n",
    ">\n",
    ">int main()\n",
    ">{\n",
    ">    std::cout << \"5 + 3 = \" << add(5, 3) << '\\n'; // Nên trả về 8, nhưng trả về 2\n",
    ">\n",
    ">    return 0;\n",
    ">}\n",
    ">```\n",
    "\n",
    "hay:\n",
    ">```\n",
    ">#include <iostream>\n",
    ">\n",
    ">int main()\n",
    ">{\n",
    ">    return 0; // function returns here\n",
    ">\n",
    ">    std::cout << \"Hello, world!\\n\"; // so this never executes\n",
    ">}\n",
    ">```"
   ]
  },
  {
   "cell_type": "markdown",
   "id": "7666c6cb-dc16-4060-95de-6dea5c73cafa",
   "metadata": {},
   "source": [
    "Trình biên dịch hiện đại đã được cải thiện hơn trong việc phát hiện một số loại lỗi ngữ nghĩa phổ biến (ví dụ: sử dụng biến chưa được khởi tạo). Tuy nhiên, trong hầu hết các trường hợp, trình biên dịch sẽ không thể bắt được hầu hết các loại vấn đề này, vì trình biên dịch được thiết kế để kiểm tra ngữ pháp, không phải ý định của người viết code.\n",
    "\n",
    "Trong các ví dụ trên, lỗi khá dễ dàng để phát hiện. Nhưng trong hầu hết các chương trình phức tạp, lỗi ngữ nghĩa không dễ dàng tìm thấy bằng cách nhìn trực tiếp vào mã nguồn. Đây là lúc các kỹ thuật gỡ lỗi có thể hữu ích."
   ]
  },
  {
   "cell_type": "markdown",
   "id": "517565f7-cfae-428f-809e-a8ca75447696",
   "metadata": {
    "jp-MarkdownHeadingCollapsed": true
   },
   "source": [
    "## **Bài 3.2: <u>Quá trình gỡ lỗi</u>**"
   ]
  },
  {
   "cell_type": "markdown",
   "id": "9a39bfce-c5cd-4a93-8785-f3e633957204",
   "metadata": {},
   "source": [
    "**Tình huống:** Bạn đã viết một chương trình, nhưng nó không hoạt động chính xác - mã biên dịch tốt, nhưng khi chạy lại cho kết quả không mong đợi. Chắc chắn là có một lỗi logic (semantic error) ở đâu đó. Làm thế nào để tìm ra nó?\n",
    "\n",
    "Nếu bạn đã tuân theo các thông lệ tốt bằng cách viết từng phần nhỏ của chương trình và kiểm tra nó, thì bạn có thể có một ý tưởng về vị trí của lỗi. Hoặc bạn có thể hoàn toàn không biết gì.\n",
    "\n",
    "**Nguồn gốc của lỗi:** Tất cả các lỗi đều bắt nguồn từ một tiền đề đơn giản: Điều gì bạn nghĩ là đúng, thì hóa ra lại không đúng. Việc thực sự xác định vị trí của lỗi này có thể rất khó khăn. Trong bài học này, chúng ta sẽ phác thảo quy trình chung để gỡ lỗi chương trình.\n",
    "\n",
    "**Lưu ý về độ phức tạp:** Do chúng ta chư đề cập nhiều chủ đề C++ cho đến thời điểm này, nên các chương trình ví dụ trong chương này sẽ khá cơ bản. Điều đó có thể khiến một số kỹ thuật mà chúng tôi trình bày ở đây có vẻ quá mức cần thiết. Tuy nhiên, hãy nhớ rằng các kỹ thuật này được thiết kế để sử dụng với các chương trình lớn hơn, phức tạp hơn và sẽ hữu ích hơn trong môi trường như vậy (đó là nơi bạn cần chúng nhất)."
   ]
  },
  {
   "cell_type": "markdown",
   "id": "276e29c4-54b9-4b72-999f-286bfc8f4aec",
   "metadata": {},
   "source": [
    "### **Cách tiếp cận chung để gỡ lỗi**"
   ]
  },
  {
   "cell_type": "markdown",
   "id": "34c8196f-7803-4f12-be24-2f853ddcf479",
   "metadata": {},
   "source": [
    "Khi một vấn đề được xác định, việc gỡ lỗi thường bao gồm sáu bước:\n",
    "\n",
    "1. Tìm ra gốc rễ của vấn đề (thường là dòng code không hoạt động).\n",
    "2. Đảm bảo bạn hiểu tại sao sự cố xảy ra.\n",
    "3. Xác định cách bạn sẽ khắc phục sự cố.\n",
    "4. Sửa chữa vấn đề gây ra trục trặc.\n",
    "5. Kiểm tra lại để đảm bảo vấn đề đã được khắc phục.\n",
    "6. Kiểm tra lại để đảm bảo không có vấn đề mới phát sinh.\n",
    "\n",
    "**<u>Ví dụ thực tế:</u>**\n",
    "\n",
    "Giả sử một buổi tối, bạn đi lấy đá từ ngăn chứa đá trong tủ lạnh. Bạn đặt cốc lên ngăn chứa, nhấn cần gạt và ... không có gì chảy ra. Ồ! Bạn đã phát hiện ra một số khiếm khuyết. Bạn sẽ làm gì? Bạn có thể sẽ bắt đầu một cuộc điều tra để xem liệu bạn có thể xác định được nguyên nhân gốc rễ của vấn đề hay không.\n",
    "\n",
    "**Tìm ra nguyên nhân gốc rễ:** Vì bạn nghe thấy ngăn chứa đá đang cố gắng lấy đá, nên có thể vấn đề không nằm ở chính cơ chế lấy đá. Vì vậy, bạn mở tủ lạnh và kiểm tra khay đá. Không có đá. Liệu đó có phải là nguyên nhân gốc rễ của vấn đề? Không, đó chỉ là một triệu chứng khác. Sau khi kiểm tra thêm, bạn xác định rằng máy làm đá dường như không tạo ra đá. Vấn đề là do máy làm đá hay do yếu tố khác? Tủ lạnh vẫn lạnh, đường nước không bị tắc, và mọi thứ khác dường như hoạt động bình thường, vì vậy bạn kết luận rằng nguyên nhân gốc rễ là do máy làm đá không hoạt động.\n",
    "\n",
    "**Hiểu vấn đề:** Điều này đơn giản trong trường hợp này. Một máy làm đá bị hỏng sẽ không tạo ra đá.\n",
    "\n",
    "**Xác định cách sửa chữa:** Lúc này, bạn có một vài lựa chọn để sửa chữa: Bạn có thể giải quyết vấn đề tạm thời (mua túi đá từ cửa hàng). Bạn có thể cố gắng chẩn đoán thêm máy làm đá, để xem có bộ phận nào có thể sửa chữa được không. Bạn có thể mua một máy làm đá mới và lắp đặt nó thay thế cho máy hiện tại. Hoặc bạn có thể mua một tủ lạnh mới. Bạn quyết định mua một máy làm đá mới.\n",
    "\n",
    "**Sửa chữa sự cố:** Khi máy làm đá đã đến, bạn tiến hành lắp đặt.\n",
    "\n",
    "**Kiểm tra lại:** Sau khi bật lại điện và đợi qua đêm, máy làm đá mới của bạn bắt đầu tạo đá. Không có vấn đề mới được phát hiện."
   ]
  },
  {
   "cell_type": "markdown",
   "id": "af08a1f8-faf9-4810-9855-12fb19cb6475",
   "metadata": {},
   "source": [
    "Bây giờ hãy áp dụng quy trình này cho chương trình đơn giản của chúng ta từ bài học trước:\n",
    ">```\n",
    ">#include <iostream>\n",
    ">\n",
    ">int add(int x, int y) // hàm này có nghĩa là thực hiện phép cộng\n",
    ">{\n",
    ">    return x - y; // nhưng nó không thực hiện được do sử dụng sai toán tử\n",
    ">}\n",
    ">\n",
    ">int main()\n",
    ">{\n",
    ">    std::cout << \"5 + 3 = \" << add(5, 3) << '\\n'; // đáng ra phải in ra 8, nhưng lại in ra 2\n",
    ">\n",
    ">    return 0;\n",
    ">}\n",
    ">```"
   ]
  },
  {
   "cell_type": "markdown",
   "id": "bc44273a-73e7-484c-a106-00065dcb0099",
   "metadata": {},
   "source": [
    "Đoạn code này khá hay ở một điểm: lỗi rất rõ ràng, vì câu trả lời sai được in ra màn hình thông qua dòng 10. Điều đó cung cấp cho chúng ta một điểm khởi đầu cho cuộc điều tra của mình.\n",
    "\n",
    "**Tìm ra nguyên nhân gốc rễ:** Ở dòng 10, chúng ta có thể thấy rằng chúng ta đang truyền các giá trị cố định cho đối số (`5` và `3`), vì vậy không có chỗ cho sai sót ở đây. Vì các đầu vào của hàm `add` là chính xác, nhưng đầu ra lại không, thì rõ ràng là hàm `add` phải tạo ra giá trị không đúng. Câu lệnh duy nhất trong hàm `add` là câu lệnh `return`, đây chính là thủ phạm. Chúng ta đã tìm thấy dòng có vấn đề. Bây giờ, khi chúng ta đã biết cần tập trung sự chú ý vào đâu, việc nhận thấy rằng chúng ta đang trừ thay vì cộng là điều bạn có thể dễ dàng phát hiện thông qua kiểm tra.\n",
    "\n",
    "**Hiểu vấn đề:** Trong trường hợp này, việc giá trị sai được tạo ra là điều hiển nhiên - chúng ta đang sử dụng sai toán tử.\n",
    "\n",
    "**Xác định cách sửa chữa:** Chúng ta chỉ đơn giản là thay đổi toán tử trừ (`-`) thành toán tử cộng (`+`).\n",
    "\n",
    "**Sửa chữa sự cố:** Thực tế việc này là thay đổi toán tử trừ (`-`) thành toán tử cộng (`+`) và đảm bảo chương trình được biên dịch lại.\n",
    "\n",
    "**Kiểm tra lại:** Sau khi thực hiện thay đổi, chạy lại chương trình sẽ cho thấy chương trình hiện tại tạo ra giá trị chính xác là `8`. Đối với chương trình đơn giản này, thì đó là tất cả các thử nghiệm cần thiết.\n",
    "\n",
    "Mặc dù ví dụ này rất đơn giản, nhưng nó minh họa quy trình cơ bản mà bạn sẽ trải qua khi chẩn đoán bất kỳ chương trình nào."
   ]
  },
  {
   "cell_type": "markdown",
   "id": "2997fe0f-54c2-4899-ad64-85cba0e57fc7",
   "metadata": {},
   "source": [
    "## **Bài 3.3: <u>Chiến lược gỡ lỗi</u>**"
   ]
  },
  {
   "cell_type": "markdown",
   "id": "3496150f-ee30-44e7-8887-8862a3ad6e7e",
   "metadata": {},
   "source": [
    "Trong quá trình gỡ lỗi chương trình, trong hầu hết các trường hợp, phần lớn thời gian của bạn sẽ được dành để cố gắng tìm ra vị trí thực sự của lỗi. Khi sự cố được tìm thấy, các bước còn lại (khắc phục sự cố và xác nhận rằng sự cố đã được khắc phục) thường đơn giản hơn nhiều so với việc tìm ra lỗi.\n",
    "\n",
    "Trong bài học này, chúng ta sẽ bắt đầu khám phá cách tìm lỗi."
   ]
  },
  {
   "cell_type": "markdown",
   "id": "f2ae3ac3-add4-4c04-a0e4-dc17a141ece0",
   "metadata": {},
   "source": [
    "### **Tìm ra vấn đề thông qua kiểm tra mã**"
   ]
  },
  {
   "cell_type": "markdown",
   "id": "4aa3729e-0c7c-4e01-b250-d64a97e7e5e3",
   "metadata": {},
   "source": [
    "Giả sử bạn đã nhận thấy một vấn đề và bạn muốn theo dõi nguyên nhân của vấn đề cụ thể đó. Trong nhiều trường hợp (đặc biệt là trong các chương trình nhỏ hơn), chúng ta có thể nhanh chóng xác định được vị trí tiềm ẩn của sự cố.\n",
    "\n",
    "Xem xét đoạn mã sau:\n",
    "\n",
    ">```\n",
    ">int main()\n",
    ">{\n",
    ">    getNames(); // yêu cầu người dùng nhập một loạt tên\n",
    ">    sortNames(); // sắp xếp chúng theo thứ tự bảng chữ cái\n",
    ">    printNames(); // in danh sách tên đã được sắp xếp\n",
    ">\n",
    ">    return 0;\n",
    ">}\n",
    ">```\n",
    "\n",
    "Nếu bạn mong đợi chương trình này in ra các tên theo thứ tự bảng chữ cái, nhưng thay vào đó nó lại in ra theo thứ tự ngược lại, thì vấn đề có thể nằm ở hàm `sortNames`. Trong trường hợp bạn có thể thu hẹp vấn đề xuống một hàm cụ thể, bạn có thể phát hiện ra vấn đề chỉ bằng cách nhìn vào mã.\n",
    "\n",
    "Tuy nhiên, khi chương trình trở nên phức tạp hơn, việc tìm kiếm vấn đề bằng cách kiểm tra mã cũng trở nên phức tạp hơn.\n",
    "\n",
    "Thứ nhất, có nhiều mã hơn để xem xét. Xem xét từng dòng code trong một chương trình dài hàng nghìn dòng có thể mất rất nhiều thời gian (chưa kể nó cực kỳ nhàm chán). Thứ hai, bản thân mã có xu hướng phức tạp hơn, với nhiều vị trí tiềm ẩn hơn để xảy ra lỗi. Thứ ba, hành vi của mã có thể không cung cấp cho bạn nhiều manh mối về việc mọi thứ đang diễn ra sai ở đâu. Nếu bạn viết một chương trình để đưa ra các đề xuất về cổ phiếu và nó thực sự không xuất ra bất kỳ nội dung gì, thì bạn có thể sẽ không có nhiều manh mối để bắt đầu tìm kiếm vấn đề.\n",
    "\n",
    "Cuối cùng, lỗi có thể do đưa ra những giả định sai lầm. Gần như không thể phát hiện trực quan một lỗi do đưa ra giả định sai lầm, bởi vì bạn có thể sẽ đưa ra cùng một giả định sai lầm khi kiểm tra mã và không nhận thấy lỗi. Vì vậy, nếu chúng ta có một sự cố mà chúng ta không thể tìm thấy thông qua kiểm tra mã, làm thế nào để chúng ta tìm thấy nó?"
   ]
  },
  {
   "cell_type": "markdown",
   "id": "5738a75d-2436-456a-97dd-edc4dce43cbd",
   "metadata": {},
   "source": [
    "### **Tìm ra vấn đề thông qua việc chạy chương trình**"
   ]
  },
  {
   "cell_type": "markdown",
   "id": "791f170d-6ca7-4846-9198-50b90445eaab",
   "metadata": {},
   "source": [
    "May mắn thay, nếu chúng ta không thể tìm thấy sự cố thông qua kiểm tra mã, thì còn một cách khác mà chúng ta có thể thực hiện: chúng ta có thể theo dõi hành vi của chương trình khi nó chạy và cố gắng chẩn đoán sự cố từ đó. Cách tiếp cận này có thể được khái quát thành:\n",
    "\n",
    "1. Tìm cách tái tạo sự cố\n",
    "2. Chạy chương trình và thu thập thông tin để thu hẹp phạm vi nơi xảy ra sự cố\n",
    "3. Lặp lại bước trước cho đến khi bạn tìm thấy sự cố\n",
    "\n",
    "Trong phần còn lại của chương này, chúng tôi sẽ thảo luận về các kỹ thuật để hỗ trợ cách tiếp cận này."
   ]
  },
  {
   "cell_type": "markdown",
   "id": "8270345c-abcf-49a9-a95d-2ba933b2e66c",
   "metadata": {},
   "source": [
    "### **Tái tạo sự cố**"
   ]
  },
  {
   "cell_type": "markdown",
   "id": "ca9e7366-7fef-4256-bb61-ff450a14f851",
   "metadata": {},
   "source": [
    "Bước đầu tiên và quan trọng nhất trong việc tìm kiếm vấn đề là khả năng tái tạo vấn đề. Tái tạo sự cố có nghĩa là khiến sự cố xuất hiện một cách nhất quán. Lý do rất đơn giản: rất khó để tìm ra vấn đề trừ khi bạn có thể quan sát thấy nó xảy ra.\n",
    "\n",
    "Quay trở lại phép loại suy về máy phân phối đá của chúng ta - giả sử một ngày nào đó bạn của bạn nói với bạn rằng máy phân phối đá của bạn không hoạt động. Bạn đến xem nó, và nó hoạt động tốt. Làm thế nào để bạn chẩn đoán vấn đề? Sẽ rất khó khăn. Tuy nhiên, nếu bạn thực sự có thể thấy sự cố của máy phân phối đá không hoạt động, thì bạn có thể bắt đầu chẩn đoán lý do tại sao nó không hoạt động hiệu quả hơn nhiều.\n",
    "\n",
    "Nếu sự cố phần mềm là hiển nhiên (ví dụ: chương trình bị treo ở cùng một chỗ mỗi lần bạn chạy nó) thì việc tái tạo sự cố có thể rất đơn giản. Tuy nhiên, đôi khi việc tái tạo sự cố có thể khó khăn hơn nhiều. Vấn đề chỉ có thể xảy ra trên một số máy tính nhất định hoặc trong những trường hợp cụ thể (ví dụ: khi người dùng nhập một đầu vào nhất định). Trong những trường hợp như vậy, việc tạo ra một tập hợp các bước tái tạo có thể hữu ích. **Bước tái tạo** (**Reproduction steps**) là một danh sách các bước rõ ràng và chính xác có thể được thực hiện để khiến sự cố tái diễn lại với mức độ dự đoán cao. Mục tiêu là có thể khiến sự cố tái diễn càng nhiều càng tốt, vì vậy chúng ta có thể chạy chương trình nhiều lần và tìm kiếm manh mối để xác định nguyên nhân gây ra sự cố. Nếu sự cố có thể được tái tạo 100% thời gian thì đó là điều lý tưởng, nhưng khả năng tái tạo dưới 100% cũng có thể chấp nhận được. Một sự cố chỉ xảy ra 50% thời gian đơn giản có nghĩa là nó sẽ mất gấp đôi thời gian để chẩn đoán sự cố, vì một nửa thời gian chương trình sẽ không hiển thị sự cố và do đó không cung cấp bất kỳ thông tin chẩn đoán hữu ích nào."
   ]
  },
  {
   "cell_type": "markdown",
   "id": "aff09369-88c9-42a1-9825-8b2d4a05a8d5",
   "metadata": {},
   "source": [
    "### **Thu hẹp phạm vi sự cố"
   ]
  },
  {
   "cell_type": "markdown",
   "id": "c61f772d-ca11-48e9-a5c1-bf537237d83e",
   "metadata": {},
   "source": [
    "Khi chúng ta đã có thể tái tạo vấn đề một cách hợp lý, bước tiếp theo là xác định vị trí trong code nơi xảy ra vấn đề. Dựa trên bản chất của vấn đề, điều này có thể dễ dàng hoặc khó khăn. Vì mục đích minh họa, giả sử chúng ta không có nhiều ý tưởng về vị trí thực sự của vấn đề. Làm thế nào để chúng ta tìm thấy nó?\n",
    "\n",
    "Để minh họa cho việc thu hẹp phạm vi vấn đề trong quá trình gỡ lỗi, hãy cùng chơi một trò chơi đơn giản gọi là Hi-Lo. Trong trò chơi này, tôi sẽ nghĩ đến một số ngẫu nhiên từ 1 đến 10, và bạn sẽ lần lượt đưa ra các phán đoán về số đó. Sau mỗi phán đoán, tôi sẽ cho bạn biết liệu số bạn đoán là cao hơn, thấp hơn hay bằng số tôi đang nghĩ.\n",
    "\n",
    "Hãy tưởng tượng bạn đang chơi Hi-Lo với một người bạn:\n",
    "\n",
    ">**Bạn:** 5\n",
    ">\n",
    ">**Bạn của bạn:** Quá thấp!\n",
    ">\n",
    ">**Bạn:** 8\n",
    ">\n",
    ">**Bạn của bạn:** Quá cao!\n",
    ">\n",
    ">**Bạn:** 6\n",
    ">\n",
    ">**Bạn của bạn:** Vẫn thấp!\n",
    ">\n",
    ">**Bạn:** 7\n",
    ">\n",
    ">**Bạn của bạn:** Chính xác!\n",
    "\n",
    "Trong trò chơi ở trên, bạn không cần phải đoán mọi số để tìm ra số tôi đang nghĩ. Thông qua quá trình đưa ra các phán đoán và xem xét thông tin bạn học được từ mỗi phán đoán, bạn có thể \"thu hẹp\" phạm vi tìm kiếm số chính xác chỉ với một vài lần đoán (nếu bạn sử dụng chiến lược tối ưu, bạn luôn có thể tìm ra số tôi đang nghĩ trong 4 lần đoán trở xuống)."
   ]
  },
  {
   "cell_type": "markdown",
   "id": "f59b5729-bd87-41ff-8f4f-9232673b9110",
   "metadata": {},
   "source": [
    "Quá trình này tương tự như cách thu hẹp phạm vi vấn đề trong gỡ lỗi chương trình.\n",
    "\n",
    "- **Bắt đầu với phạm vi rộng:** Khi bắt đầu gỡ lỗi, bạn thường không biết chính xác vị trí xảy ra lỗi. Tuy nhiên, bạn biết rằng lỗi phải nằm ở đâu đó trong đoạn mã được thực thi giữa đầu chương trình và điểm chương trình hiển thị triệu chứng không chính xác đầu tiên mà bạn có thể quan sát được.\n",
    "\n",
    "- **Thu hẹp phạm vi:** Dựa trên thông tin thu thập được khi chạy chương trình (ví dụ: thông báo lỗi, giá trị biến), bạn có thể dần dần thu hẹp phạm vi tìm kiếm vị trí lỗi.\n",
    "\n",
    "- **Sử dụng các kỹ thuật gỡ lỗi:** Có nhiều kỹ thuật gỡ lỗi khác nhau có thể giúp bạn thu hẹp phạm vi vấn đề, chẳng hạn như đặt điểm ngắt, theo dõi biến và phân tích luồng chương trình.\n",
    "\n",
    "**Mục tiêu:** Việc thu hẹp phạm vi vấn đề giúp bạn xác định vị trí lỗi một cách nhanh chóng và hiệu quả, tiết kiệm thời gian và công sức cho quá trình gỡ lỗi."
   ]
  },
  {
   "cell_type": "markdown",
   "id": "59de3da2-cf1a-49cb-80cb-f41d4bac8145",
   "metadata": {},
   "source": [
    "Phép chơi Hi-Lo tuy hữu ích nhưng không hoàn toàn chính xác khi áp dụng vào việc gỡ lỗi chương trình. Đôi khi, chúng ta có thể loại bỏ hoàn toàn một số đoạn mã khỏi quá trình xem xét mà không thu được bất kỳ thông tin nào về việc vấn đề thực sự nằm trước hay sau đoạn mã đó.\n",
    "\n",
    "Chúng tôi sẽ trình bày các ví dụ về cả ba trường hợp này trong bài học tiếp theo.\n",
    "\n",
    "Cuối cùng, với đủ nhiều lần phán đoán và một số kỹ thuật tốt, chúng ta có thể xác định chính xác dòng lệnh gây ra sự cố! Nếu chúng ta đã đưa ra bất kỳ giả định sai lầm nào, điều này sẽ giúp chúng ta phát hiện ra vị trí sai lầm. Khi bạn đã loại trừ tất cả các khả năng khác, thì điều duy nhất còn lại chắc chắn phải là nguyên nhân gây ra sự cố. Sau đó, vấn đề chỉ còn là hiểu tại sao.\n",
    "\n",
    "Chiến lược phán đoán nào bạn muốn sử dụng phụ thuộc vào bạn - chiến lược tốt nhất phụ thuộc vào loại lỗi, vì vậy bạn có thể muốn thử nhiều cách tiếp cận khác nhau để thu hẹp vấn đề. Khi bạn có thêm kinh nghiệm trong việc gỡ lỗi sự cố, trực giác của bạn sẽ giúp bạn định hướng.\n",
    "\n",
    "Vậy làm thế nào để chúng ta \"đưa ra những phán đoán\"? Có nhiều cách để thực hiện việc này. Chúng ta sẽ bắt đầu với một số cách tiếp cận đơn giản trong chương tiếp theo, sau đó chúng ta sẽ xây dựng dựa trên những cách này và khám phá các cách khác trong các chương sau."
   ]
  },
  {
   "cell_type": "markdown",
   "id": "168869b3-606d-4baf-9f29-6c5fb4432c20",
   "metadata": {},
   "source": [
    "## **Bài 3.4: <u>Các chiến thuật gỡ lỗi cơ bản </u>**"
   ]
  },
  {
   "cell_type": "markdown",
   "id": "31add5be-83ee-42c0-a600-61ea6b2723e0",
   "metadata": {},
   "source": [
    "Trong bài học trước, chúng ta đã khám phá một chiến lược để tìm ra vấn đề bằng cách chạy chương trình và sử dụng phỏng đoán để xác định vị trí của sự cố. Trong bài học này, chúng ta sẽ khám phá một số chiến thuật cơ bản để thực hiện những phỏng đoán đó và thu thập thông tin giúp tìm ra sự cố."
   ]
  },
  {
   "cell_type": "markdown",
   "id": "2e68ad98-fa86-47d5-874e-8ae758532918",
   "metadata": {},
   "source": [
    "### **Chiến thuật gỡ lỗi #1: Ghi chú code**"
   ]
  },
  {
   "cell_type": "markdown",
   "id": "05587794-664a-4783-8bc0-0ca667e2ecb6",
   "metadata": {},
   "source": [
    "**Ghi chú code (comment out code)** là một chiến thuật gỡ lỗi đơn giản nhưng hiệu quả giúp loại trừ những phần code không liên quan đến vấn đề đang gặp phải.\n",
    "\n",
    "Hãy bắt đầu với một chiến thuật đơn giản. Nếu chương trình của bạn đang hiển thị hành vi lỗi, một cách để giảm thiểu lượng code bạn phải tìm kiếm là chú thích một phần code và xem sự cố có tiếp tục xảy ra hay không. Nếu sự cố vẫn không thay đổi, thì đoạn code được chú thích ra có thể không phải là nguyên nhân gây ra sự cố.\n",
    "\n",
    "Hãy xem xét đoạn mã sau:\n",
    ">```\n",
    ">int main()\n",
    ">{\n",
    ">    getNames(); // yêu cầu người dùng nhập một loạt tên\n",
    ">    doMaintenance(); // thực hiện một số công việc ngẫu nhiên\n",
    ">    sortNames(); // sắp xếp chúng theo thứ tự bảng chữ cái\n",
    ">    printNames(); // in danh sách tên đã được sắp xếp\n",
    ">\n",
    ">    return 0;\n",
    ">}\n",
    ">```\n",
    "\n",
    "Giả sử chương trình này được cho là in ra các tên theo thứ tự bảng chữ cái mà lại in ra theo thứ tự ngược lại. Vấn đề ở đâu? Liệu `getNames` nhập tên không chính xác? Hay `sortNames` sắp xếp chúng theo thứ tự ngược? Hay `printNames` in chúng theo thứ tự ngược? Nó có thể là bất kỳ điều nào trong số những thứ đó. Nhưng chúng ta có thể nghi ngờ `doMaintenance` không liên quan gì đến vấn đề, vì vậy hãy bình luận nó ra.\n",
    "\n",
    "**Có ba kết quả có thể xảy ra:**\n",
    "- Nếu sự cố biến mất, thì `doMaintenance` phải là nguyên nhân gây ra sự cố và chúng ta nên tập trung sự chú ý vào đó.\n",
    "- Nếu sự cố không thay đổi (xác suất cao hơn), thì chúng ta có thể hợp lý cho rằng `doMaintenance` không phải là lỗi và chúng ta có thể tạm thời loại trừ toàn bộ hàm khỏi quá trình tìm kiếm. Điều này không giúp chúng ta hiểu liệu vấn đề thực sự nằm trước hay sau lệnh gọi `doMaintenance`, nhưng nó giảm thiểu lượng code mà chúng ta phải xem xét sau đó.\n",
    "- Nếu việc bình luận `doMaintenance` khiến sự cố chuyển sang một sự cố liên quan khác (ví dụ: chương trình ngừng in tên), thì có khả năng `doMaintenance` đang thực hiện một tác vụ hữu ích mà một số code khác phụ thuộc vào. Trong trường hợp này, chúng ta có thể không thể xác định liệu sự cố nằm trong `doMaintenance` hay ở nơi khác, vì vậy chúng ta có thể bỏ ghi chú cho `doMaintenance` và thử một cách tiếp cận khác.\n",
    "\n",
    ">**Tóm tắt:**\n",
    ">Cách thực hiện:\n",
    ">1. Xác định vị trí xảy ra lỗi trong chương trình.\n",
    ">2. Ghi chú một phần code nghi ngờ có liên quan đến lỗi.\n",
    ">3. Chạy lại chương trình và quan sát kết quả.\n",
    ">\n",
    ">Kết quả có thể xảy ra:\n",
    ">- *Vấn đề biến mất:* Phần code được ghi chú là nguyên nhân gây ra lỗi.\n",
    ">- *Vấn đề vẫn tiếp tục:* Phần code được ghi chú không liên quan đến lỗi.\n",
    ">- *Vấn đề thay đổi:* Phần code được ghi chú có thể đang thực hiện một tác vụ quan trọng ảnh hưởng đến các phần code khác."
   ]
  },
  {
   "cell_type": "markdown",
   "id": "178a65ec-ee33-454a-9e27-3f4469972737",
   "metadata": {},
   "source": [
    ">**Chú ý:**<br>\n",
    ">Trong khi sử dụng chú thích code để gỡ lỗi, bạn cần lưu ý đến những điều sau:\n",
    ">- **Không quên bỏ ghi chú code sau khi gỡ lỗi:** Sau khi xác định được phần code gây ra lỗi, bạn cần bỏ ghi chú lại phần code đó để chương trình có thể hoạt động bình thường. Quá trình gỡ lỗi thường bao gồm nhiều lần thêm, xóa và ghi chú/bỏ ghi chú code. Nếu bạn quên bỏ ghi chú một đoạn code nào đó, chương trình có thể bị lỗi hoặc hoạt động không mong đợi.\n",
    ">- **Sử dụng hệ thống kiểm soát phiên bản:** Việc sử dụng hệ thống kiểm soát phiên bản (version control system) như ***Git*** sẽ giúp bạn theo dõi những thay đổi của code theo thời gian. Nhờ đó, bạn có thể dễ dàng quay lại phiên bản code hoạt động trước đó nếu việc bình luận code gây ra lỗi hoặc tạo ra các vấn đề khác. Hệ thống kiểm soát phiên bản cũng giúp bạn phân biệt các thay đổi liên quan đến gỡ lỗi với các thay đổi tính năng của chương trình.\n",
    "\n",
    ">**Mẹo**<br>\n",
    ">**Sử dụng thư viện debug tùy chọn:** Một cách tiếp cận khác để thêm các lệnh gỡ lỗi (debug statements) vào code là sử dụng thư viện của bên thứ ba. Các thư viện này cho phép bạn đưa các lệnh gỡ lỗi vào code nhưng sẽ loại bỏ chúng khi biên dịch ở chế độ phát hành (release mode). Điều này giúp bạn giữ code gọn gàng và tránh ảnh hưởng đến hiệu suất của chương trình khi nó đã hoạt động ổn định. `dbg` là một thư viện header-only tiêu biểu có chức năng này (thông qua macro tiền xử lý `DBG_MACRO_DISABLE`)\n",
    ">\n",
    ">Chúng ta sẽ thảo luận về các thư viện chỉ có tiêu đề trong bài 5.7 -- Các hàm và biến nội tuyến."
   ]
  },
  {
   "cell_type": "markdown",
   "id": "81841820-cc09-445b-93f6-96e947641c4f",
   "metadata": {},
   "source": [
    "### **Chiến thuật gỡ lỗi #2: Kiểm tra luồng thực thi code**"
   ]
  },
  {
   "cell_type": "markdown",
   "id": "37cb62be-d8ea-484f-9597-1b297b3b25c7",
   "metadata": {},
   "source": [
    "Trong các chương trình phức tạp, một vấn đề thường gặp là việc một hàm được gọi quá nhiều lần, quá ít lần (hoặc thậm chí không được gọi).\n",
    "\n",
    "Để kiểm tra xem các hàm có được gọi đúng cách hay không, bạn có thể đặt các lệnh in tên của hàm vào đầu mỗi hàm. Khi chương trình chạy, bạn sẽ theo dõi được thứ tự các hàm được gọi và xác định xem hàm nào không được gọi hoặc được gọi không đúng số lần.\n",
    "\n",
    ">**Mẹo**<br>\n",
    ">Khi in thông tin để gỡ lỗi, hãy sử dụng `std::cerr` thay vì `std::cout`. Có một lý do cho việc này: `std::cout` có thể được lưu trữ đệm (*buffere*), nghĩa là có thể có một khoảng dừng giữa lúc bạn yêu cầu `std::cout` xuất ra thông tin và khi nó thực sự xuất ra. Nếu bạn xuất thông tin bằng `std::cout` và sau đó chương trình của bạn bị lỗi ngay lập tức, `std::cout` có thể vẫn chưa xuất ra thông tin đó. Điều này có thể khiến bạn hiểu sai về vị trí của sự cố. Mặt khác, `std::cerr` không được lưu trữ đệm, nghĩa là bất kỳ thứ gì bạn gửi đến nó sẽ được xuất ra ngay lập tức. Điều này giúp đảm bảo tất cả đầu ra gỡ lỗi xuất hiện càng sớm càng tốt (mặc dù nó có thể ảnh hưởng một chút đến hiệu suất, nhưng hiệu suất thường không phải là vấn đề quan trọng khi gỡ lỗi).\n",
    ">\n",
    ">Sử dụng `std::cerr` cũng giúp phân biệt rõ ràng rằng thông tin được xuất ra là dành cho trường hợp lỗi chứ không phải trường hợp bình thường.\n",
    ">\n",
    ">Chúng ta sẽ thảo luận thêm về thời điểm sử dụng `std::cout` và `std::cerr` trong bài 9.4 -- Phát hiện và xử lý lỗi.\n",
    "\n",
    "**Ví dụ:**\n",
    "\n",
    "Xét chương trình đơn giản sau không hoạt động chính xác:\n",
    ">```\n",
    ">#include <iostream>\n",
    ">\n",
    ">int getValue()\n",
    ">{\n",
    ">    return 4;\n",
    ">}\n",
    ">\n",
    ">int main()\n",
    ">{\n",
    ">    std::cout << getValue << '\\n';\n",
    ">\n",
    ">    return 0;\n",
    ">}\n",
    ">```\n",
    "\n",
    "Bạn có thể cần tắt \"Treat warnings as errors\" (Xử lý cảnh báo như lỗi) để biên dịch chương trình trên.\n",
    "\n",
    "Mặc dù chúng ta mong đợi chương trình này sẽ in giá trị `4`, nhưng trên thực tế nó lại in giá trị \n",
    ">`1`.\n",
    "\n",
    "Trên **Visual Studio** (và có thể một số trình biên dịch khác), nó có thể in ra thông tin sau:\n",
    ">`00101424`\n",
    "\n",
    ">**Nội dung liên quan**<br>\n",
    ">Chúng ta sẽ thảo luận tại sao một số trình biên dịch in số `1` và địa chỉ (và phải làm gì nếu trình biên dịch của bạn in số `1` nhưng bạn muốn nó in địa chỉ) trong bài 20.1 -- Con trỏ hàm.\n",
    "\n",
    "**Thêm lệnh gỡ lỗi:**\n",
    "\n",
    "Chúng ta hãy thêm một số lệnh gỡ lỗi vào các hàm này:\n",
    ">```\n",
    ">#include <iostream>\n",
    ">\n",
    ">int getValue()\n",
    ">{\n",
    ">std::cerr << \"getValue() called\\n\";\n",
    ">    return 4;\n",
    ">}\n",
    ">\n",
    ">int main()\n",
    ">{\n",
    ">std::cerr << \"main() called\\n\";\n",
    ">    std::cout << getValue << '\\n';\n",
    ">\n",
    ">    return 0;\n",
    ">}\n",
    ">```\n",
    "\n",
    ">**Mẹo:**<br>\n",
    ">Khi thêm các lệnh gỡ lỗi tạm thời, bạn có thể không cần thụt lề chúng. Điều này giúp bạn dễ dàng tìm thấy chúng để xóa sau.\n",
    "\n",
    "Bây giờ khi các hàm này được thực thi, chúng sẽ xuất ra tên của chúng, cho biết chúng đã được gọi:\n",
    ">```\n",
    ">main() called\n",
    ">1\n",
    ">```\n",
    "\n",
    "Bây giờ chúng ta có thể thấy rằng hàm `getValue` không bao giờ được gọi. Phải có vấn đề gì đó với dòng code gọi hàm. Hãy xem xét kỹ hơn dòng code đó:\n",
    ">```\n",
    ">std::cout << getValue << '\\n';\n",
    ">```\n",
    "\n",
    "Ồ, quên mất dấu ngoặc đơn trong lệnh gọi hàm. Nó phải là:\n",
    ">```\n",
    ">#include <iostream>\n",
    ">\n",
    ">int getValue()\n",
    ">{\n",
    ">std::cerr << \"getValue() called\\n\";\n",
    ">    return 4;\n",
    "}\n",
    "\n",
    "int main()\n",
    "{\n",
    "std::cerr << \"main() called\\n\";\n",
    "    std::cout << getValue() << '\\n'; // thêm dấu ngoặc đơn ở đây\n",
    "\n",
    "    return 0;\n",
    "}\n",
    "Hãy thận trọng khi sử dụng các đoạn mã.\n",
    "content_copy\n",
    "Bây giờ chương trình sẽ tạo ra đầu ra chính xác:\n",
    "\n",
    "main() called\n",
    "getValue() called\n",
    "4\n",
    "Và chúng ta có thể xóa các lệnh gỡ lỗi tạm thời."
   ]
  },
  {
   "cell_type": "code",
   "execution_count": null,
   "id": "0760516e-c255-492c-9810-0b3835811141",
   "metadata": {},
   "outputs": [],
   "source": []
  }
 ],
 "metadata": {
  "kernelspec": {
   "display_name": "Python 3 (ipykernel)",
   "language": "python",
   "name": "python3"
  },
  "language_info": {
   "codemirror_mode": {
    "name": "ipython",
    "version": 3
   },
   "file_extension": ".py",
   "mimetype": "text/x-python",
   "name": "python",
   "nbconvert_exporter": "python",
   "pygments_lexer": "ipython3",
   "version": "3.12.2"
  }
 },
 "nbformat": 4,
 "nbformat_minor": 5
}
