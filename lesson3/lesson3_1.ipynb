{
 "cells": [
  {
   "cell_type": "markdown",
   "id": "4aa8d066-4c81-484f-b0b8-f9057d6746a2",
   "metadata": {},
   "source": [
    "## **Bài 3.1: <u>Lỗi cú pháp và lỗi ngữ nghĩa</u>**"
   ]
  },
  {
   "cell_type": "markdown",
   "id": "a17f42c3-bf86-4bb6-b809-ca9d36b76c3c",
   "metadata": {},
   "source": [
    "Lỗi phần mềm rất phổ biến. Rất dễ mắc phải chúng và khó khăn để tìm ra chúng. Trong chương này, chúng ta sẽ khám phá các chủ đề liên quan đến việc tìm và loại bỏ lỗi trong các chương trình C++ của mình, bao gồm cả việc học cách sử dụng trình gỡ lỗi tích hợp đi kèm với IDE của bạn.\n",
    "\n",
    "Mặc dù các công cụ và kỹ thuật gỡ lỗi không phải là một phần của tiêu chuẩn C++, việc học cách tìm và loại bỏ lỗi trong các chương trình bạn viết là một phần cực kỳ quan trọng để trở thành một lập trình viên thành công. Do đó, chúng tôi sẽ dành một chút thời gian để đề cập đến các chủ đề như vậy, để khi các chương trình bạn viết trở nên phức tạp hơn, khả năng chẩn đoán và khắc phục sự cố của bạn cũng sẽ tiến triển theo cùng một nhịp độ.\n",
    "\n",
    "Nếu bạn có kinh nghiệm gỡ lỗi chương trình trong một ngôn ngữ lập trình khác, thì phần lớn nội dung này sẽ quen thuộc với bạn."
   ]
  },
  {
   "cell_type": "markdown",
   "id": "608490a8-c934-4b8d-b437-ca443f44adf7",
   "metadata": {},
   "source": [
    "### **Lỗi cú pháp và lỗi ngữ nghĩa**"
   ]
  },
  {
   "cell_type": "markdown",
   "id": "ebd7990e-b811-4c60-80f1-b9b88095ae5b",
   "metadata": {},
   "source": [
    "Lập trình có thể đầy thử thách và C++ là một ngôn ngữ hơi lập dị. Kết hợp cả hai điều đó lại, sẽ có rất nhiều cách để mắc lỗi. Lỗi thường thuộc một trong hai loại: lỗi cú pháp và lỗi ngữ nghĩa (lỗi logic)."
   ]
  },
  {
   "cell_type": "markdown",
   "id": "e1feea94-b853-4685-8a95-e4cdda4aff5c",
   "metadata": {},
   "source": [
    "**Lỗi cú pháp** xảy ra khi bạn viết một câu lệnh không hợp lệ theo ngữ pháp của ngôn ngữ C++. Điều này bao gồm các lỗi như thiếu dấu chấm phẩy, sử dụng các biến chưa được khai báo, dấu ngoặc hoặc ngoặc nhọn không khớp, v.v. Ví dụ, chương trình sau đây chứa một vài lỗi cú pháp:\n",
    "\n",
    ">```\n",
    ">#include <iostream>\n",
    ">\n",
    ">int main()\n",
    ">{\n",
    ">    std::cout < \"Hi there\"; << x << '\\n'; // Toán tử không hợp lệ (<), dấu chấm phẩy thừa, biến chưa được khai báo (x)\n",
    ">    return 0 // Thiếu dấu chấm phẩy ở cuối câu lệnh\n",
    ">}\n",
    ">```\n",
    "\n",
    "May mắn thay, trình biên dịch thường sẽ bắt được các lỗi cú pháp và tạo ra các cảnh báo hoặc lỗi, vì vậy bạn có thể dễ dàng xác định và khắc phục sự cố. Sau đó, bạn chỉ cần biên dịch lại cho đến khi loại bỏ được tất cả các lỗi.\n",
    "\n",
    "Khi chương trình của bạn đã được biên dịch chính xác, việc khiến nó thực sự tạo ra kết quả mong muốn có thể khá khó khăn. **Lỗi ngữ nghĩa** xảy ra khi một câu lệnh hợp lệ về cú pháp nhưng không thực hiện những gì lập trình viên định hướng.\n",
    "\n",
    "Đôi khi chúng sẽ khiến chương trình của bạn bị crash (chết), chẳng hạn như trong trường hợp chia cho `0`:\n",
    ">```\n",
    ">#include <iostream>\n",
    ">\n",
    ">int main()\n",
    ">{\n",
    ">    int a { 10 };\n",
    ">    int b { 0 };\n",
    ">    std::cout << a << \" / \" << b << \" = \" << a / b << '\\n'; // Chia cho 0 là không xác định trong toán học\n",
    ">    return 0;\n",
    ">}\n",
    ">```\n",
    "\n"
   ]
  },
  {
   "cell_type": "markdown",
   "id": "fd7e4e69-2535-417d-a697-66505edefea2",
   "metadata": {},
   "source": [
    "Thông thường hơn, chúng sẽ chỉ tạo ra giá trị hoặc hành vi sai:\n",
    ">```\n",
    ">#include <iostream>\n",
    ">\n",
    ">int main()\n",
    ">{\n",
    ">    int x; // no initializer provided\n",
    ">    std::cout << x << '\\n'; // Use of uninitialized variable leads to undefined result\n",
    ">\n",
    ">    return 0;\n",
    ">}\n",
    ">```\n",
    "\n",
    "Hoặc:\n",
    "\n",
    ">```\n",
    ">#include <iostream>\n",
    ">\n",
    ">int add(int x, int y) // Hàm này được cho là thực hiện phép cộng\n",
    ">{\n",
    ">    return x - y; // Nhưng nó không thực hiện được do sử dụng sai toán tử\n",
    ">}\n",
    ">\n",
    ">int main()\n",
    ">{\n",
    ">    std::cout << \"5 + 3 = \" << add(5, 3) << '\\n'; // Nên trả về 8, nhưng trả về 2\n",
    ">\n",
    ">    return 0;\n",
    ">}\n",
    ">```\n",
    "\n",
    "hay:\n",
    ">```\n",
    ">#include <iostream>\n",
    ">\n",
    ">int main()\n",
    ">{\n",
    ">    return 0; // function returns here\n",
    ">\n",
    ">    std::cout << \"Hello, world!\\n\"; // so this never executes\n",
    ">}\n",
    ">```"
   ]
  },
  {
   "cell_type": "markdown",
   "id": "7666c6cb-dc16-4060-95de-6dea5c73cafa",
   "metadata": {},
   "source": [
    "Trình biên dịch hiện đại đã được cải thiện hơn trong việc phát hiện một số loại lỗi ngữ nghĩa phổ biến (ví dụ: sử dụng biến chưa được khởi tạo). Tuy nhiên, trong hầu hết các trường hợp, trình biên dịch sẽ không thể bắt được hầu hết các loại vấn đề này, vì trình biên dịch được thiết kế để kiểm tra ngữ pháp, không phải ý định của người viết code.\n",
    "\n",
    "Trong các ví dụ trên, lỗi khá dễ dàng để phát hiện. Nhưng trong hầu hết các chương trình phức tạp, lỗi ngữ nghĩa không dễ dàng tìm thấy bằng cách nhìn trực tiếp vào mã nguồn. Đây là lúc các kỹ thuật gỡ lỗi có thể hữu ích."
   ]
  }
 ],
 "metadata": {
  "kernelspec": {
   "display_name": "Python 3 (ipykernel)",
   "language": "python",
   "name": "python3"
  },
  "language_info": {
   "codemirror_mode": {
    "name": "ipython",
    "version": 3
   },
   "file_extension": ".py",
   "mimetype": "text/x-python",
   "name": "python",
   "nbconvert_exporter": "python",
   "pygments_lexer": "ipython3",
   "version": "3.12.3"
  }
 },
 "nbformat": 4,
 "nbformat_minor": 5
}
