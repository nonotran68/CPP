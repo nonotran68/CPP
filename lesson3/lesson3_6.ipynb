{
 "cells": [
  {
   "cell_type": "markdown",
   "id": "a7ca0cd6-b824-4596-836b-cc11494875f5",
   "metadata": {},
   "source": [
    "## **Bài 3.6: <u>Sử dụng Trình gỡ lỗi tích hợp (integrated debugger): Stepping (Kiểm tra từng bước)</u>**\n"
   ]
  },
  {
   "cell_type": "markdown",
   "id": "fe446d55-83da-4c9f-8e49-34f33e4c849c",
   "metadata": {},
   "source": [
    "Khi bạn chạy chương trình, quá trình thực thi bắt đầu từ đầu hàm `main`, sau đó tiến hành tuần tự từng câu lệnh cho đến khi chương trình kết thúc. Tại bất kỳ thời điểm nào khi chương trình đang chạy, chương trình sẽ theo dõi rất nhiều thứ: giá trị của các biến bạn đang sử dụng, các hàm đã được gọi (để khi các hàm đó trả về, chương trình sẽ biết quay lại từ đâu), và điểm thực thi hiện tại trong chương trình (để biết câu lệnh nào cần thực thi tiếp theo). Tất cả thông tin được theo dõi này được gọi là **trạng thái chương trình** (hay ngắn gọn là **trạng thái**).\n",
    "\n",
    "Trong các bài học trước, chúng ta đã khám phá các cách khác nhau để thay đổi code để hỗ trợ gỡ lỗi, bao gồm in thông tin chẩn đoán hoặc sử dụng logger. Đây là những phương pháp đơn giản để kiểm tra trạng thái của chương trình trong khi nó đang chạy. Mặc dù chúng có thể hiệu quả nếu được sử dụng đúng cách, nhưng chúng vẫn có nhược điểm:\n",
    "- Yêu cầu sửa đổi code, tốn thời gian và có thể gây ra lỗi mới.\n",
    "- Làm lộn xộn code, khiến code hiện có khó hiểu hơn.\n",
    "\n",
    "Bên cạnh các kỹ thuật đã trình bày cho đến nay, còn một giả định ngầm hiểu: sau khi chạy code, nó sẽ chạy đến hoàn thành (chỉ tạm dừng để chấp nhận đầu vào) mà không có cơ hội để chúng ta can thiệp và kiểm tra kết quả của chương trình tại bất kỳ điểm nào mong muốn.\n",
    "\n",
    "Tuy nhiên, điều gì sẽ xảy ra nếu chúng ta có thể loại bỏ giả định này? May mắn thay, hầu hết các IDE hiện đại đều đi kèm với một công cụ tích hợp gọi là **debugger** được thiết kế để thực hiện chính xác việc này."
   ]
  },
  {
   "cell_type": "markdown",
   "id": "6b5a9ac5-ce4c-42a8-ab96-4dffab342068",
   "metadata": {},
   "source": [
    "### **Debugger là gì?**"
   ]
  },
  {
   "cell_type": "markdown",
   "id": "d871e930-39d3-492f-832f-79dbe9bee8ec",
   "metadata": {},
   "source": [
    "**Debugger (trình gỡ lỗi)** là một chương trình máy tính cho phép lập trình viên kiểm soát cách một chương trình khác thực thi và kiểm tra trạng thái của chương trình đó trong khi chương trình đó đang chạy. Ví dụ, lập trình viên có thể sử dụng debugger để chạy từng dòng chương trình, đồng thời kiểm tra giá trị của các biến. Bằng cách so sánh giá trị thực tế của các biến với giá trị mong đợi, hoặc theo dõi đường dẫn thực thi thông qua code, debugger có thể giúp rất nhiều trong việc theo dõi các lỗi logic (ngữ nghĩa).\n",
    "\n",
    "Sức mạnh của debugger đến từ hai yếu tố: khả năng kiểm soát chính xác việc thực thi chương trình và khả năng xem (và sửa đổi, nếu cần) trạng thái của chương trình."
   ]
  },
  {
   "cell_type": "markdown",
   "id": "b305d24b-dc79-498d-901a-0f889cf62226",
   "metadata": {},
   "source": [
    "**Các loại debugger:**\n",
    "- **Debugger dòng lệnh (command-line debugger):** Các debugger ban đầu (chẳng hạn như `**gdb**`) là các chương trình riêng biệt có giao diện dòng lệnh, nơi lập trình viên phải gõ các lệnh khó hiểu để chúng hoạt động.\n",
    "- **Debugger giao diện đồ họa (graphical debugger):** Các debugger sau này (chẳng hạn như các phiên bản đầu của [turbo debugger của Borland](https://en.wikipedia.org/wiki/Turbo_Debugger)) vẫn là các chương trình riêng biệt, nhưng cung cấp giao diện \"được đồ họa hóa\" để làm việc với chúng dễ dàng hơn.\n",
    "- **Debugger tích hợp (Integrated debugger):** Ngày nay, nhiều IDE hiện đại có một debugger tích hợp - đó là một debugger sử dụng cùng giao diện với trình soạn thảo code, vì vậy bạn có thể gỡ lỗi bằng cùng môi trường mà bạn sử dụng để viết code (thay vì phải chuyển đổi chương trình).\n",
    "\n",
    "Mặc dù debugger tích hợp rất tiện lợi và được khuyến khích cho người mới bắt đầu, nhưng debugger dòng lệnh vẫn được hỗ trợ tốt và thường được sử dụng trong các môi trường không hỗ trợ giao diện đồ họa (ví dụ: hệ thống nhúng).\n"
   ]
  },
  {
   "cell_type": "markdown",
   "id": "84608cb7-e490-4f28-bbc1-e856ce659044",
   "metadata": {},
   "source": [
    "**Các tính năng của debugger:**\n",
    "\n",
    "Hầu hết các debugger hiện đại đều chứa cùng một bộ tính năng cơ bản chuẩn. Tuy nhiên, cách sắp xếp menu để truy cập các tính năng này và thậm chí cả phím tắt bàn phím đều không thống nhất. Mặc dù các ví dụ của chúng tôi sẽ sử dụng ảnh chụp màn hình từ Microsoft Visual Studio (và chúng tôi cũng sẽ hướng dẫn cách thực hiện mọi thứ trong Code::Blocks), bạn sẽ không gặp khó khăn trong việc tìm cách truy cập từng tính năng mà chúng tôi thảo luận bất kể IDE nào bạn đang sử dụng.\n",
    "\n",
    "Lưu ý: Phím tắt bàn phím của debugger sẽ chỉ hoạt động nếu IDE/debugger tích hợp là cửa sổ đang hoạt động.\n",
    "\n",
    "Trong phần còn lại của bài học này, chúng ta sẽ tìm hiểu cách sử dụng debugger.\n",
    "\n",
    ">**Mẹo**<br>\n",
    ">Đừng bỏ qua việc học cách sử dụng debugger. Khi chương trình của bạn trở nên phức tạp hơn, thời gian bạn dành để học cách sử dụng debugger tích hợp hiệu quả sẽ không đáng kể so với thời gian bạn tiết kiệm được để tìm và sửa lỗi.\n",
    "\n",
    ">**Cảnh báo:**\n",
    ">Trước khi bắt đầu bài học này (và các bài học tiếp theo về debugger), hãy đảm bảo bạn đã biên dịch dự án với cấu hình gỡ lỗi (đã hướng dẫn ở bài 0.9).\n",
    ">Nếu bạn biên dịch dự án với cấu hình release, debugger có thể không hoạt động chính xác (ví dụ: khi bạn cố gắng bước vào chương trình, nó sẽ tự động chạy chương trình thay vì cho phép bạn kiểm tra từng bước).\n",
    "\n",
    ">**Hướng dẫn cho người dùng Code::Blocks:**\n",
    ">Kiểm tra xem debugger của bạn đã được thiết lập chính xác hay chưa:\n",
    ">- Vào menu *Settings > Debugger....*\n",
    ">- Mở cây *GDB/CDB debugger* ở bên trái và chọn **Default**.\n",
    ">\n",
    ">![](CB-DebuggingSetup-min.webp)\n",
    ">\n",
    ">Nếu bạn thấy một thanh màu đỏ lớn ở chỗ *\"Đường dẫn tệp thực thi\" (Executable path)*, hãy thực hiện theo các bước sau để xác định vị trí của debugger:\n",
    ">- Nhấp vào nút *\"...\"* ở bên phải trường *\"Đường dẫn tệp thực thi\"*.\n",
    ">- Tìm tệp *\"gdb32.exe\"* trên hệ thống của bạn (ví dụ: *C:\\Program Files (x86)\\CodeBlocks\\MinGW\\bin\\gdb32.exe*).\n",
    ">- Nhấp vào OK.\n",
    "\n",
    ">**Lưu ý cho người dùng Code::Blocks:**<br>\n",
    ">Debugger tích hợp Code::Blocks (`GDB`) có thể gặp vấn đề khi nhận dạng một số đường dẫn tệp chứa dấu cách hoặc ký tự không phải tiếng Anh. Nếu debugger hoạt động không bình thường, đây có thể là lý do.\n",
    "\n",
    ">**Hướng dẫn cho người dùng VS Code:**<br>\n",
    ">Thiết lập gỡ lỗi:\n",
    ">- Nhấn *Ctrl + Shift + P* và chọn *\"C/C++: Add Debug Configuration\"*.\n",
    ">- Chọn *\"C/C++: g++ build and debug active file\"*.\n",
    ">- File cấu hình `launch.json` sẽ được tạo và mở.\n",
    ">- Thay đổi *\"stopAtEntry\"* thành `true`:\n",
    ">\n",
    ">>**JSON**<br>\n",
    ">>`\"stopAtEntry\": true,`\n",
    ">\n",
    ">Mở `main.cpp` và bắt đầu gỡ lỗi bằng cách nhấn *F5* hoặc *Ctrl + Shift + P* và chọn *\"Debug: Start Debugging and Stop on Entry\"*.\n",
    "\n"
   ]
  },
  {
   "cell_type": "markdown",
   "id": "0424791f-89b6-45f0-ab5f-837370e68f61",
   "metadata": {},
   "source": [
    "### **Kiểm tra từng bước (Stepping)**\n"
   ]
  },
  {
   "cell_type": "markdown",
   "id": "61fabf95-bf23-4162-8c4a-136e6713324f",
   "metadata": {},
   "source": [
    "Bây giờ chúng ta sẽ bắt đầu khám phá debugger bằng cách xem xét một số công cụ gỡ lỗi cho phép kiểm soát cách chương trình thực thi.\n",
    "\n",
    "**Kiểm tra từng bước (Stepping)** là tên gọi chung cho một nhóm các tính năng của debugger cho phép chúng ta thực thi (đi từng bước) code theo từng câu lệnh.\n",
    "\n",
    "Có một số lệnh kiểm tra từng bước liên quan mà chúng ta sẽ lần lượt tìm hiểu."
   ]
  },
  {
   "cell_type": "markdown",
   "id": "0cee5307-93e7-4039-a8d1-1290a29958ad",
   "metadata": {},
   "source": [
    "### **Step Into (nhảy vào)**"
   ]
  },
  {
   "cell_type": "markdown",
   "id": "7413d523-35bc-484e-859d-f035b25ad8e0",
   "metadata": {},
   "source": [
    "Lệnh **step into (nhảy vào)** thực hiện câu lệnh tiếp theo trong đường dẫn thực thi thông thường của chương trình, sau đó tạm dừng thực thi chương trình để chúng ta có thể kiểm tra trạng thái của chương trình thông qua debugger. Nếu câu lệnh đang được thực thi chứa một hàm gọi, thì step into sẽ khiến chương trình nhảy đến đầu của hàm được gọi và tạm dừng tại đó.\n",
    "\n",
    "**Ví dụ:**\n",
    ">```\n",
    ">#include <iostream>\n",
    ">\n",
    ">void printValue(int value)\n",
    ">{\n",
    ">    std::cout << value << '\\n';\n",
    ">}\n",
    ">\n",
    ">int main()\n",
    ">{\n",
    ">    printValue(5);\n",
    ">\n",
    ">    return 0;\n",
    ">}\n",
    ">```\n",
    "\n",
    "Chúng ta hãy gỡ lỗi chương trình này bằng cách sử dụng lệnh **step into**.\n",
    "\n",
    "**Truy cập lệnh Step Into:**\n",
    "\n",
    ">**Đối với người dùng Visual Studio:**<br>\n",
    ">Truy cập menu *Debug > Step Into* hoặc nhấn phím tắt *F11*.\n",
    "\n",
    ">**Đối với người dùng Code::Blocks:**<br>\n",
    ">Truy cập menu Debug > Step Into hoặc nhấn tổ hợp phím tắt *Shift-F7*.\n",
    "\n",
    ">**Đối với người dùng VS Code:**<br>\n",
    ">Truy cập menu *Run > Step Into*.\n",
    "\n",
    ">**Đối với các trình biên dịch / IDE khác:**\n",
    "Lệnh **step into** thường nằm trong menu *Debug* hoặc *Run*."
   ]
  },
  {
   "cell_type": "markdown",
   "id": "29b62ff3-407d-4930-88fc-69beb9aaf0a2",
   "metadata": {},
   "source": [
    "Khi chương trình của bạn không chạy và bạn thực hiện lệnh gỡ lỗi đầu tiên, bạn có thể thấy một vài điều xảy ra:\n",
    "\n",
    "- Chương trình sẽ được biên dịch lại nếu cần thiết.\n",
    "- Chương trình sẽ bắt đầu chạy. Vì ứng dụng của chúng ta là chương trình console, một cửa sổ đầu ra console sẽ mở ra. Nó sẽ trống vì chúng ta chưa xuất ra bất kỳ thứ gì.\n",
    "- IDE của bạn có thể mở một số cửa sổ chẩn đoán, có thể có tên như *\"Diagnostic Tools\"* (Công cụ chẩn đoán), *\"Call Stack\"* (Ngăn xếp gọi) và *\"Watch\"* (Theo dõi). Chúng ta sẽ tìm hiểu về một số tính năng này sau - bây giờ bạn có thể bỏ qua chúng.\n",
    "\n",
    "Vì bạn đã thực hiện **step into**, bạn sẽ thấy một dấu hiệu xuất hiện bên trái của dấu ngoặc nhọn mở của hàm `main` (dòng `9`). Trong **Visual Studio**, dấu hiệu này là một mũi tên màu vàng (Code::Blocks sử dụng một hình tam giác màu vàng). Nếu bạn đang sử dụng một IDE khác, bạn sẽ thấy một thứ gì đó có cùng mục đích.\n",
    "\n",
    "![](VS2019-StepInto-Line9-min.webp)\n",
    "\n",
    "Dấu mũi tên này cho biết dòng được trỏ tới sẽ được thực thi tiếp theo. Trong trường hợp này, debugger đang cho chúng ta biết rằng dòng tiếp theo được thực thi là dấu ngoặc nhọn mở của hàm `main` (dòng `9`).\n",
    "\n",
    "Chọn step into (sử dụng lệnh phù hợp cho IDE của bạn, được liệt kê ở trên) để thực thi dấu ngoặc nhọn mở và mũi tên sẽ di chuyển đến câu lệnh tiếp theo (dòng `10`).\n",
    "\n",
    "![](VS2019-StepInto-Line10-min.webp)\n",
    "\n",
    "Điều này có nghĩa là dòng tiếp theo sẽ được thực thi là lệnh gọi đến hàm `printValue`.\n",
    "\n",
    "Chọn **step into** một lần nữa. Vì câu lệnh này chứa một hàm gọi đến `printValue`, chúng ta sẽ bước vào hàm và mũi tên sẽ di chuyển đến đầu thân của `printValue` (dòng `4`).\n",
    "\n",
    "![](VS2019-StepInto-Line4-min.webp)\n",
    "\n",
    "Chọn **step into** lại để thực thi dấu ngoặc nhọn mở của hàm `printValue`, điều này sẽ di chuyển mũi tên đến dòng `5`.\n",
    "\n",
    "![](VS2019-StepInto-Line5-min.webp)\n",
    "\n",
    "Chọn **step into** một lần nữa, lệnh này sẽ thực thi câu lệnh `std::cout << value << '\\n'` và di chuyển mũi tên đến dòng 6."
   ]
  },
  {
   "cell_type": "markdown",
   "id": "eaa054d2-e783-40bb-a69a-9550bae026c9",
   "metadata": {},
   "source": [
    ">**Mẹo**<br>\n",
    ">Trong bài học trước, chúng tôi đã đề cập rằng `std::cout` được đệm, nghĩa là có thể có một khoảng trễ giữa khi bạn yêu cầu `std::cout` in giá trị và khi nó thực sự in. Do đó, bạn có thể không thấy giá trị `5` xuất hiện tại thời điểm này. Để đảm bảo tất cả đầu ra từ `std::cout` được xuất ngay lập tức, bạn có thể tạm thời thêm câu lệnh sau vào đầu hàm `main()`:\n",
    ">>`std::cout << std::unitbuf; // Bật tự động đẩy (flush) cho std::cout (để gỡ lỗi)`\n",
    ">\n",
    ">Vì lý do hiệu suất, câu lệnh này nên được loại bỏ hoặc chú thích lại sau khi gỡ lỗi.\n",
    ">\n",
    ">Nếu bạn không muốn liên tục thêm/xóa/chú thích/bỏ chú thích cho lệnh trên, bạn có thể bọc lệnh trong một chỉ thị tiền xử lý biên dịch theo điều kiện (được đề cập trong bài học 2.10 - Giới thiệu về bộ tiền xử lý):\n",
    ">>```\n",
    ">>#ifdef DEBUG\n",
    ">>std::cout << std::unitbuf; // Bật tự động đẩy (flush) cho std::cout (để gỡ lỗi)\n",
    ">>#endif\n",
    ">>```\n",
    ">\n",
    ">Bạn sẽ cần đảm bảo rằng *macro* tiền xử lý `DEBUG` được định nghĩa, ở đâu đó phía trên câu lệnh này hoặc là một phần trong cài đặt trình biên dịch của bạn."
   ]
  },
  {
   "cell_type": "markdown",
   "id": "43006e03-d12d-48ad-ba4a-be8f7b527683",
   "metadata": {},
   "source": [
    "Chọn **step into** một lần nữa để thực thi dấu ngoặc nhọn đóng của hàm `printValue`. Lúc này, `printValue` đã thực thi xong và quyền điều khiển được trả về cho `main`.\n",
    "\n",
    "Bạn sẽ nhận thấy rằng mũi tên lại trỏ đến `printValue`!\n",
    "\n",
    "![](VS2019-StepInto-Line10-min.webp)\n",
    "\n",
    "Mặc dù bạn có thể nghĩ rằng debugger định gọi lại `printValue`, nhưng trên thực tế, debugger chỉ đang cho bạn biết rằng nó đang trả về từ lệnh gọi hàm.\n",
    "\n",
    "Chọn **step into** thêm ba lần nữa. Lúc này, chúng ta đã thực thi tất cả các dòng trong chương trình, vì vậy quá trình đã hoàn thành. Một số debugger sẽ tự động kết thúc phiên gỡ lỗi tại thời điểm này, một số khác thì không. Nếu debugger của bạn không tự kết thúc, bạn có thể cần tìm lệnh *\"Stop Debugging\"* trong menu (trong **Visual Studio**, lệnh này nằm trong *Debug > Stop Debugging*).\n",
    "\n",
    "Lưu ý rằng *Stop Debugging* có thể được sử dụng bất kỳ lúc nào trong quá trình gỡ lỗi để kết thúc phiên gỡ lỗi.\n",
    "\n",
    "Chúc mừng! Bạn vừa bước qua tất cả các bước trong chương trình và theo dõi từng dòng thực thi.\n",
    "\n",
    ">**Mẹo**<br>\n",
    ">Trong các bài học tiếp theo, chúng ta sẽ khám phá các lệnh gỡ lỗi khác, một số lệnh có thể không khả dụng trừ khi debugger đã chạy. Nếu lệnh gỡ lỗi mong muốn không khả dụng, hãy sử dụng step into cho code của bạn để khởi động debugger và thử lại."
   ]
  },
  {
   "cell_type": "markdown",
   "id": "f6afe135-fb09-4133-a5a6-3c07c503e848",
   "metadata": {},
   "source": [
    "### **Step Over (Nhảy qua)**"
   ]
  },
  {
   "cell_type": "markdown",
   "id": "1ed36c28-27e2-48e9-b2d8-90e485b71f27",
   "metadata": {},
   "source": [
    "Giống như **step into** (nhảy vào), lệnh **step over** (nhảy qua) thực thi câu lệnh tiếp theo trong đường dẫn thực thi thông thường của chương trình.\n",
    "\n",
    "Tuy nhiên, điểm khác biệt là:\n",
    "\n",
    "- **Step into** sẽ đi vào các hàm được gọi và thực thi từng dòng bên trong hàm đó.\n",
    "- **Step over** sẽ thực thi toàn bộ hàm mà không dừng lại và trả quyền điều khiển cho bạn sau khi hàm đã được thực thi xong.\n",
    "\n",
    "**Truy cập lệnh Step Over:**\n",
    ">**Đối với người dùng Visual Studio:**<br>\n",
    ">Truy cập menu *Debug > Step Over* hoặc nhấn phím tắt *F10*.\n",
    "\n",
    ">**Đối với người dùng Code::Blocks:**<br>\n",
    ">Lệnh **step over** được gọi là **Next line** (dòng tiếp theo), truy cập menu *Debug > Next line* hoặc nhấn phím tắt *F7*.\n",
    "\n",
    ">**Đối với người dùng VS Code:**<br>\n",
    ">Truy cập menu *Run > Step Over* hoặc nhấn phím tắt F10.\n",
    "\n",
    "**Ví dụ:**\n",
    ">```\n",
    ">#include <iostream>\n",
    ">\n",
    ">void printValue(int value)\n",
    ">{\n",
    ">    std::cout << value << '\\n';\n",
    ">}\n",
    ">\n",
    ">int main()\n",
    ">{\n",
    ">    printValue(5);\n",
    ">\n",
    ">    return 0;\n",
    ">}\n",
    ">```\n",
    "\n",
    "Trong ví dụ này, chúng ta sẽ sử dụng lệnh **step over** để bỏ qua việc bước vào hàm `printValue`.\n",
    "\n",
    "Đầu tiên, sử dụng lệnh **step into** nhiều lần cho đến khi dấu hiệu thực thi (mũi tên) nằm trên dòng `10`:\n",
    "Lúc này, chương trình đang chuẩn bị thực thi dòng gọi hàm `printValue(5)`.\n",
    "\n",
    "![](VS2019-StepInto-Line10-min.webp)\n",
    "\n",
    "Bây giờ, chọn lệnh **step over**.\n",
    "\n",
    "Debugger sẽ thực thi hàm `printValue` (in giá trị `5` ra cửa sổ console) và sau đó trả quyền điều khiển cho bạn trên dòng lệnh tiếp theo (dòng `12`).\n",
    "Lệnh **step over** cung cấp một cách thuận tiện để bỏ qua các hàm khi bạn đã chắc chắn chúng hoạt động bình thường hoặc không muốn gỡ lỗi chúng ngay bây giờ."
   ]
  },
  {
   "cell_type": "markdown",
   "id": "b4a33965-5be8-4fc8-8e94-78d1b2a8dc01",
   "metadata": {},
   "source": [
    "### **Step Out (Thoát ra)**"
   ]
  },
  {
   "cell_type": "markdown",
   "id": "c8238ebb-0b99-4466-899c-cec43d08b524",
   "metadata": {},
   "source": [
    "Không giống như hai lệnh Step khác (**Step Into** và **Step Over**), lệnh **Step Out (thoát ra)** không chỉ đơn giản là thực thi dòng code tiếp theo. Thay vào đó, nó thực thi toàn bộ mã còn lại trong hàm hiện đang được thực thi và sau đó trả quyền điều khiển lại cho bạn khi hàm đã trả về.\n",
    "\n",
    ">**Đối với người dùng Visual Studio**<br>\n",
    ">Trong Visual Studio, bạn có thể truy cập lệnh **Step Out** thông qua menu *Debug > Step Out* hoặc bằng cách nhấn tổ hợp phím *Shift-F11*.\n",
    "\n",
    ">**Đối với người dùng Code::Blocks**<br>\n",
    ">Trong Code::Blocks, bạn có thể truy cập lệnh Step Out thông qua menu *Debug > Step Out* hoặc bằng cách nhấn tổ hợp phím *Ctrl-F7*.\n",
    "\n",
    ">**Đối với người dùng VS Code**<br>\n",
    ">Trong VS Code, bạn có thể truy cập lệnh Thoát ra thông qua menu *Run > Step Out* hoặc bằng cách nhấn tổ hợp phím *Shift-F11*.\n",
    "\n",
    "**Ví dụ**\n",
    "\n",
    "Chúng ta hãy xem một ví dụ về cách sử dụng lệnh này bằng chương trình tương tự như ở trên:\n",
    "\n",
    ">```\n",
    ">#include <iostream>\n",
    ">\n",
    ">void inGiaTri(int value) // inGiaTri = printValue\n",
    ">{\n",
    ">    std::cout << value << '\\n';\n",
    ">}\n",
    ">\n",
    ">int main()\n",
    ">{\n",
    ">    inGiaTri(5); // inGiaTri(5) = printValue(5)\n",
    ">\n",
    ">    return 0;\n",
    ">}\n",
    ">```\n",
    "\n",
    "**Step Into** chương trình cho đến khi bạn vào bên trong hàm `inGiaTri` (`printValue`), với dấu nhọn đánh dấu trên dòng `4`.\n",
    "\n",
    "![](VS2019-StepInto-Line4-min.webp)\n",
    "\n",
    "Sau đó chọn **Step Out**. Bạn sẽ thấy giá trị `5` xuất hiện trong cửa sổ đầu ra và trình gỡ rối trả lại quyền điều khiển cho bạn sau khi hàm kết thúc (trên dòng `10`).\n",
    "\n",
    "![](VS2019-StepInto-Line10-min.webp)\n",
    "\n",
    "Lệnh này hữu ích nhất khi bạn vô tình bước vào một hàm mà bạn không muốn gỡ rối."
   ]
  },
  {
   "cell_type": "markdown",
   "id": "8439d14a-5f6d-4014-a3d5-5ad748cde75b",
   "metadata": {},
   "source": [
    "### **Bước quá xa**"
   ]
  },
  {
   "cell_type": "markdown",
   "id": "d8a77ff0-f98c-4ec6-889d-0e5440e1555f",
   "metadata": {},
   "source": [
    "Khi nhảy từng bước trong chương trình, thông thường bạn chỉ có thể nhảy về phía trước. Rất dễ dàng để vô tình nhảy qua (vượt quá) vị trí bạn muốn kiểm tra.\n",
    "\n",
    "Nếu bạn vượt qua điểm đến dự định, bạn thường sẽ dừng gỡ rối và bắt đầu lại quá trình gỡ rối, cẩn thận hơn một chút để không vượt qua mục tiêu lần này."
   ]
  },
  {
   "cell_type": "markdown",
   "id": "26b755ba-6a36-49f6-9e06-0eaa4d6c1100",
   "metadata": {},
   "source": [
    "### **Step Back (Nhảy lùi)** "
   ]
  },
  {
   "cell_type": "markdown",
   "id": "f6fe9f25-8006-44bc-aee4-94644d142ad4",
   "metadata": {},
   "source": [
    "Một số trình gỡ lỗi (chẳng hạn như Visual Studio Enterprise Edition và [rr](https://github.com/rr-debugger/rr)) đã giới thiệu khả năng nhảy thường được gọi là **Step Back (Nhảy lùi)** hoặc **Reverse Debugging (Gỡ lỗi ngược)**. Mục tiêu của **Step Back** là tua lại bước cuối cùng, để bạn có thể đưa chương trình trở lại trạng thái trước đó. Điều này có thể hữu ích nếu bạn vượt quá hoặc nếu bạn muốn kiểm tra lại một câu lệnh vừa mới thực thi.\n",
    "\n",
    "Việc triển khai **Step Back** đòi hỏi trình gỡ rối phải rất tinh vi (vì nó phải theo dõi trạng thái chương trình riêng biệt cho mỗi bước). Do tính phức tạp, khả năng này chưa được chuẩn hóa và thay đổi tùy theo trình gỡ rối. Tại thời điểm viết bài (tháng 1 năm 2019), cả Visual Studio Community Edition và phiên bản Code::Blocks mới nhất đều không hỗ trợ khả năng này. Hy vọng rằng trong tương lai, nó sẽ được tích hợp vào các sản phẩm này và có sẵn để sử dụng rộng rãi hơn."
   ]
  }
 ],
 "metadata": {
  "kernelspec": {
   "display_name": "Python 3 (ipykernel)",
   "language": "python",
   "name": "python3"
  },
  "language_info": {
   "codemirror_mode": {
    "name": "ipython",
    "version": 3
   },
   "file_extension": ".py",
   "mimetype": "text/x-python",
   "name": "python",
   "nbconvert_exporter": "python",
   "pygments_lexer": "ipython3",
   "version": "3.12.3"
  }
 },
 "nbformat": 4,
 "nbformat_minor": 5
}
