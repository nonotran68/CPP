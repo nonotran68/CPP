{
 "cells": [
  {
   "cell_type": "code",
   "execution_count": null,
   "id": "23ba0056-ee7e-41f4-a6f3-1fe38ce2de23",
   "metadata": {},
   "outputs": [],
   "source": []
  },
  {
   "cell_type": "markdown",
   "id": "13620a9b-f534-43df-aa47-7af026170db2",
   "metadata": {},
   "source": [
    "## **Bài 3.x: <u>Tổng kết và Bài tập</u>** "
   ]
  },
  {
   "cell_type": "markdown",
   "id": "02c74a0b-2bce-4a6c-9fa1-b3cc5f5d657a",
   "metadata": {},
   "source": [
    "### **Tổng quan chương**"
   ]
  },
  {
   "cell_type": "markdown",
   "id": "2b8f3e76-2a1b-47b7-afdd-80f1a0fd036d",
   "metadata": {},
   "source": [
    "- **Lỗi cú pháp (syntax error):** Là lỗi xảy ra khi bạn viết một câu lệnh không hợp lệ theo ngữ pháp của ngôn ngữ C++. Trình biên dịch sẽ phát hiện ra những lỗi này.\n",
    "- **Lỗi ngữ nghĩa (semantic error):** Là lỗi xảy ra khi một câu lệnh tuy hợp ngữ pháp nhưng không thực hiện được như ý định của lập trình viên.\n",
    "- **Gỡ lỗi (debugging):** Là quá trình tìm và loại bỏ lỗi ra khỏi chương trình.\n",
    "- **Quy trình gỡ lỗi gồm 5 bước:**\n",
    "    - Tìm nguyên nhân gốc.\n",
    "    - Hiểu rõ vấn đề.\n",
    "    - Xác định cách sửa chữa.\n",
    "    - Sửa chữa vấn đề.\n",
    "    - Kiểm tra lại.\n",
    "\n",
    "- Thường thì việc tìm ra lỗi là bước khó nhất trong quá trình gỡ lỗi.\n",
    "\n",
    "- **Công cụ phân tích tĩnh (static analysis tool):** Là các công cụ phân tích code của bạn và tìm kiếm các vấn đề ngữ nghĩa có thể cho thấy trục trặc trong code.\n",
    "\n",
    "- Để gỡ lỗi hiệu quả, bước đầu tiên và quan trọng nhất là phải tái tạo lại được lỗi một cách đáng tin cậy.\n",
    "\n",
    "- **Một số chiến thuật giúp tìm lỗi:**\n",
    "    - Chú thích code (commenting out code).\n",
    "    - Sử dụng các câu lệnh xuất ra màn hình (output statements) để xác nhận luồng code.\n",
    "    - In ra giá trị các biến (printing values).\n",
    "\n",
    "- Khi sử dụng các câu lệnh in để gỡ lỗi, nên dùng std::cerr thay vì std::cout. Tuy nhiên, cách tốt nhất là tránh gỡ lỗi hoàn toàn bằng cách in ra màn hình.\n",
    "\n",
    "- **Tệp nhật ký (log file):** Là một tệp tin ghi lại các sự kiện xảy ra trong chương trình. Quá trình ghi thông tin vào tệp nhật ký được gọi là **ghi nhật ký (logging).**\n",
    "\n",
    "- **Tái cấu trúc (refactoring):** Là quá trình sắp xếp lại code mà không làm thay đổi chức năng của nó. Thường được thực hiện để làm cho chương trình được tổ chức tốt hơn, mô đun hơn hoặc hoạt động hiệu quả hơn.\n",
    "\n",
    "- **Kiểm thử đơn vị (unit testing):** Là một phương pháp kiểm thử phần mềm theo đó các đơn vị nhỏ của mã nguồn được kiểm thử để xác định xem chúng có chính xác hay không.\n",
    "- **Lập trình phòng thủ (defensive programming):** Là một kỹ thuật mà lập trình viên cố gắng dự đoán tất cả các cách phần mềm có thể bị sử dụng sai. Những cách sử dụng sai này thường có thể được phát hiện và giảm thiểu.\n",
    "- **Trạng thái chương trình (program state):** Là tất cả thông tin được theo dõi trong một chương trình (giá trị biến, các hàm đã được gọi, điểm thực thi hiện tại).\n",
    "- **Bộ gỡ lỗi (debugger):** Là một công cụ cho phép lập trình viên kiểm soát cách chương trình thực thi và kiểm tra trạng thái chương trình trong khi chương trình đang chạy.\n",
    "- **Bộ gỡ lỗi tích hợp (integrated debugger):** Là một bộ gỡ lỗi tích hợp vào trình soạn thảo code.\n",
    "- **Kiểm tra từng bước (stepping):** Là tên gọi chung cho một tập hợp các tính năng gỡ lỗi liên quan cho phép bạn từng bước đi qua code theo từng câu lệnh.\n",
    "    - **Nhảy vào (step into):** Thực thi câu lệnh tiếp theo trong đường dẫn thực thi thông thường của chương trình, sau đó tạm dừng thực thi. Nếu câu lệnh chứa một lời gọi hàm, **step into** sẽ khiến chương trình nhảy đến đầu hàm được gọi.\n",
    "    - **Nhảy qua (step over):** Thực thi câu lệnh tiếp theo trong đường dẫn thực thi thông thường của chương trình, sau đó tạm dừng thực thi. Nếu câu lệnh chứa một lời gọi hàm, **step over** sẽ thực thi hàm đó và trả quyền điều khiển cho bạn sau khi hàm đã được thực thi.\n",
    "\n",
    "    - **Thoát ra (step out):** Thực thi tất cả mã còn lại trong hàm đang được thực thi và sau đó trả quyền điều khiển cho bạn khi hàm đã trả về.\n",
    "- **Chạy đến con trỏ chuột (run to cursor):** Thực thi chương trình cho đến khi thực thi đạt đến câu lệnh được chọn bởi con trỏ chuột của bạn.\n",
    "- **Tiếp tục (continue):** Chạy chương trình, cho đến khi chương trình kết thúc hoặc gặp **điểm dừng (breakpoint)**. **Bắt đầu (start)** giống như **Continue**, chỉ khác là bắt đầu từ đầu chương trình.\n",
    "- **Điểm dừng (breakpoint):** Là một đánh dấu đặc biệt trong code, thông báo cho bộ gỡ lỗi tạm dừng thực thi chương trình khi chạy đến điểm dừng này.\n",
    "- **Thiết lập câu lệnh tiếp theo (set next statement):** Lệnh này cho phép bạn thay đổi điểm thực thi sang một câu lệnh khác (đôi khi được gọi không chính thức là \"nhảy\"). Tính năng này có thể được sử dụng để:\n",
    "  - Nhảy đến một câu lệnh phía trước và bỏ qua một số đoạn code lẽ ra sẽ được thực thi.\n",
    "  - Nhảy ngược lại và thực thi lại một đoạn code đã được thực thi trước đó.\n",
    "- **Theo dõi biến (watching a variable):** Cho phép bạn kiểm tra giá trị của một biến trong khi chương trình đang chạy ở chế độ gỡ lỗi. **Cửa sổ theo dõi (watch window):** Là cửa sổ trong bộ gỡ lỗi hiển thị giá trị của các biến hoặc biểu thức.\n",
    "- **Ngăn xếp lệnh gọi (call stack):** Là danh sách tất cả các hàm đang hoạt động đã được thực thi để đến được điểm thực thi hiện tại. **Cửa sổ ngăn xếp lệnh gọi (call stack window):** Là cửa sổ trong bộ gỡ lỗi hiển thị ngăn xếp gọi."
   ]
  },
  {
   "cell_type": "markdown",
   "id": "25415281-1e0f-45cb-b021-b408642d2650",
   "metadata": {},
   "source": [
    "### **Bài tập**"
   ]
  },
  {
   "cell_type": "markdown",
   "id": "f4af8e2a-8e2c-4e95-8a2a-607024cf271d",
   "metadata": {},
   "source": [
    "#### **Câu hỏi #1:**"
   ]
  },
  {
   "cell_type": "markdown",
   "id": "91bf297a-661b-4478-b63f-00228373d102",
   "metadata": {},
   "source": [
    "Chương trình sau đây được thiết kế để cộng hai số, nhưng không hoạt động chính xác. Sử dụng bộ gỡ lỗi tích hợp để kiểm tra từng bước thực thi chương trình này và theo dõi giá trị của `x`. Dựa trên thông tin bạn tìm được, hãy sửa lỗi cho chương trình sau:\n",
    ">```\n",
    ">#include <iostream>\n",
    ">\n",
    ">int readNumber(int x) {\n",
    ">  std::cout << \"Please enter a number: \";\n",
    ">  std::cin >> x;\n",
    ">  return x;\n",
    ">}\n",
    ">\n",
    ">void writeAnswer(int x) {\n",
    ">  std::cout << \"The sum is: \" << x << '\\n';\n",
    ">}\n",
    ">\n",
    ">int main() {\n",
    ">  int x {};\n",
    ">  readNumber(x);\n",
    ">  x = x + readNumber(x);\n",
    ">  writeAnswer(x);\n",
    ">\n",
    ">  return 0;\n",
    ">}\n",
    ">```"
   ]
  },
  {
   "cell_type": "markdown",
   "id": "360f65a4-a9f0-412c-8a83-12f3154f9e61",
   "metadata": {
    "jp-MarkdownHeadingCollapsed": true
   },
   "source": [
    "#### ****Gợi ý giải:****"
   ]
  },
  {
   "cell_type": "markdown",
   "id": "d41a075b-277d-4af4-b80f-dd4be9f92e93",
   "metadata": {},
   "source": [
    "Vấn đề nằm ở dòng `x = x + readNumber(x)`. Hàm `readNumber` yêu cầu nhập giá trị nhưng không gán giá trị trả về cho `x` bên trong hàm `main`. Do đó, `readNumber(x)` được gọi lần thứ hai sẽ không ghi đè lên giá trị cũ của `x` mà cộng với giá trị cũ, dẫn đến kết quả sai.\n",
    "\n",
    "**Sửa chữa:**\n",
    ">```\n",
    ">x = x + readNumber();  // Gọi readNumber() mà không truyền tham số x\n",
    ">```"
   ]
  },
  {
   "cell_type": "markdown",
   "id": "b8336fcc-7095-46ad-9b90-c1ca3ce75ccc",
   "metadata": {},
   "source": [
    "#### **Câu hỏi #2** "
   ]
  },
  {
   "cell_type": "markdown",
   "id": "8503cb99-8a63-418e-98dc-6cf7f67140d5",
   "metadata": {},
   "source": [
    "Chương trình sau đây được thiết kế để chia hai số nhưng không hoạt động chính xác. Sử dụng bộ gỡ lỗi tích hợp để từng bước thực thi chương trình. Với đầu vào là 8 và 4. Dựa trên thông tin bạn tìm được, hãy sửa lỗi cho chương trình sau:\n",
    ">```\n",
    ">#include <iostream>\n",
    ">\n",
    ">int readNumber() {\n",
    ">  std::cout << \"Please enter a number: \";\n",
    ">  int x {};\n",
    ">  std::cin >> x;\n",
    ">  return x;\n",
    ">}\n",
    ">\n",
    ">void writeAnswer(int x) {\n",
    ">  std::cout << \"The quotient is: \" << x << '\\n';\n",
    ">}\n",
    ">\n",
    ">int main() {\n",
    ">  int x {};\n",
    ">  int y {};\n",
    ">  x = readNumber();\n",
    ">  x = readNumber();\n",
    ">  writeAnswer(x / y);\n",
    ">\n",
    ">  return 0;\n",
    ">}\n",
    ">```"
   ]
  },
  {
   "cell_type": "markdown",
   "id": "5556373c-1a3e-43f8-9ee3-3971a3e9cd50",
   "metadata": {
    "jp-MarkdownHeadingCollapsed": true
   },
   "source": [
    "#### **Gợi ý giải:**"
   ]
  },
  {
   "cell_type": "markdown",
   "id": "fe5a2662-4ef2-4b6f-9fd3-6e221c1acf88",
   "metadata": {},
   "source": [
    "Vấn đề nằm ở dòng `writeAnswer(x / y)`. Biến `y` chưa được gán giá trị trước khi sử dụng trong phép chia. Chia cho một biến chưa được khởi tạo thường dẫn đến lỗi.\n",
    "\n",
    "**Sửa chữa:**\n",
    ">```\n",
    ">y = readNumber();  // Đọc giá trị cho y trước khi thực hiện phép chia\n",
    ">writeAnswer(x / y);\n",
    ">```"
   ]
  },
  {
   "cell_type": "markdown",
   "id": "75e5192a-2d8e-480f-98dc-7a3899269943",
   "metadata": {},
   "source": [
    "#### **Câu hỏi #3:**"
   ]
  },
  {
   "cell_type": "markdown",
   "id": "296cd261-5a7c-4c67-9a05-3e344e73eb55",
   "metadata": {},
   "source": [
    "Ngăn xếp gọi trông như thế nào trong chương trình sau khi thực thi đến dòng `4`? Chỉ cần cung cấp tên hàm, không cần số dòng biểu thị điểm trả về.\n",
    ">```\n",
    ">#include <iostream>\n",
    ">\n",
    ">void d() { // here }\n",
    ">\n",
    ">void c() {\n",
    ">}\n",
    ">\n",
    ">void b() {\n",
    ">  c();\n",
    ">  d();\n",
    ">}\n",
    ">\n",
    ">void a() {\n",
    ">  b();\n",
    ">}\n",
    ">\n",
    ">int main() {\n",
    ">  a();\n",
    ">\n",
    ">  return 0;\n",
    ">}\n",
    ">```"
   ]
  },
  {
   "cell_type": "markdown",
   "id": "f3d8285c-1353-4dd0-87fd-7a5819c46f09",
   "metadata": {
    "jp-MarkdownHeadingCollapsed": true
   },
   "source": [
    "#### **Trả lời:**"
   ]
  },
  {
   "cell_type": "markdown",
   "id": "23986118-2e66-4eeb-a0cc-13790add3808",
   "metadata": {},
   "source": [
    "Ngăn xếp gọi khi thực thi đến dòng `4` sẽ là:\n",
    ">```\n",
    ">d  // Hàm hiện tại đang được thực thi\n",
    ">b  // Hàm b gọi hàm c và d\n",
    ">a  // Hàm a gọi hàm b\n",
    ">main  // Hàm main gọi hàm a\n",
    ">```\n",
    "\n",
    "Ngăn xếp gọi lưu trữ các hàm đang hoạt động theo thứ tự gọi, với hàm được gọi gần nhất nằm ở trên cùng."
   ]
  }
 ],
 "metadata": {
  "kernelspec": {
   "display_name": "Python 3 (ipykernel)",
   "language": "python",
   "name": "python3"
  },
  "language_info": {
   "codemirror_mode": {
    "name": "ipython",
    "version": 3
   },
   "file_extension": ".py",
   "mimetype": "text/x-python",
   "name": "python",
   "nbconvert_exporter": "python",
   "pygments_lexer": "ipython3",
   "version": "3.12.3"
  }
 },
 "nbformat": 4,
 "nbformat_minor": 5
}
