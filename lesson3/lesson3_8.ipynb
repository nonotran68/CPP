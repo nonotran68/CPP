{
 "cells": [
  {
   "cell_type": "markdown",
   "id": "756a5cdf-f2f5-4792-9420-cfdb920dff8d",
   "metadata": {},
   "source": [
    "## **Bài 3.8: <u>Sử dụng trình gỡ lỗi tích hợp: Watching variables (Theo dõi biến)</u>**"
   ]
  },
  {
   "cell_type": "markdown",
   "id": "b9d7844e-d242-4bbf-aaaf-7b543a47aa05",
   "metadata": {},
   "source": [
    "Trong các bài học trước ([3.6 - Sử dụng trình gỡ lỗi tích hợp: Kiểm tra từng bước](lesson3_6.ipynb) và [3.7 - Sử dụng trình gỡ lỗi tích hợp: Chạy đến con trỏ và điểm dừng](lesson3_7.ipynb)), bạn đã học cách sử dụng trình gỡ lỗi để theo dõi đường thực thi của chương trình. Tuy nhiên, việc bước từng bước qua chương trình chỉ là một nửa tính năng hữu ích của trình gỡ lỗi. Trình gỡ lỗi cũng cho phép bạn kiểm tra giá trị của các biến khi bạn bước qua code, tất cả mà không cần sửa đổi code của bạn.\n",
    "\n",
    "Giống như các bài học trước, các ví dụ ở đây sẽ sử dụng Visual Studio - nếu bạn đang sử dụng IDE/trình gỡ rối khác, các lệnh có thể có tên hơi khác nhau hoặc nằm ở các vị trí khác nhau.\n",
    "\n",
    ">**Cảnh báo**<br>\n",
    ">Hãy đảm bảo dự án của bạn được biên dịch bằng *Cấu hình gỡ lỗi (Debug build configuration)* (xem thêm 0.9 - Cấu hình trình biên dịch của bạn: Cấu hình xây dựng để biết thêm thông tin). Nếu thay vào đó bạn đang biên dịch dự án của mình bằng *Cấu hình phát hành (Release Configuration)*, thì chức năng của trình gỡ rối có thể không hoạt động chính xác."
   ]
  },
  {
   "cell_type": "markdown",
   "id": "422516b7-ac83-4cee-8fd1-27da659b1701",
   "metadata": {},
   "source": [
    "### **Theo dõi biến (Watching variables)** "
   ]
  },
  {
   "cell_type": "markdown",
   "id": "6f537216-60cf-4c24-a139-c70b55a5e280",
   "metadata": {},
   "source": [
    "**Theo dõi biến** là quá trình kiểm tra giá trị của một biến trong khi chương trình đang chạy ở chế độ gỡ lỗi. Hầu hết các trình gỡ lỗi cung cấp một số cách để thực hiện việc này.\n",
    "\n",
    "**Ví dụ minh họa:**\n",
    "\n",
    ">```\n",
    ">#include <iostream>\n",
    ">\n",
    ">int main()\n",
    ">{\n",
    ">    int x{ 1 };\n",
    ">    std::cout << x << ' ';\n",
    ">\n",
    ">    x = x + 2;\n",
    ">    std.cout << x << ' ';\n",
    ">\n",
    ">    x = x + 3;\n",
    ">    std::cout << x << ' ';\n",
    "\n",
    ">    return 0;\n",
    ">}\n",
    ">```\n",
    "\n",
    "Đây là một chương trình mẫu khá đơn giản - nó in ra các số `1`, `3` và `6`.\n",
    "\n",
    "Đầu tiên, hãy chạy đến con trỏ đến dòng `6`.\n",
    "\n",
    "![](VS-Watch1-min.png)\n",
    "\n",
    "Lúc này, biến `x` đã được tạo và khởi tạo với giá trị `1`, vì vậy khi chúng ta kiểm tra giá trị của `x`, chúng ta nên mong đợi thấy giá trị `1`.\n",
    "\n",
    "**Cách kiểm tra giá trị biến:**\n",
    "- *Di chuột qua biến*: Cách dễ nhất để kiểm tra giá trị của một biến đơn giản như `x` là di chuột qua biến `x`. Một số trình gỡ lỗi hiện đại hỗ trợ phương pháp kiểm tra các biến đơn giản này và đây là cách trực tiếp nhất để thực hiện.\n",
    "\n",
    ">**Lưu ý:**<br>\n",
    ">Tùy chọn này có thể bị tắt theo mặc định trong Code::Blocks. Để bật lên, vào menu *Settings) > Debugger…*, chọn *Default* dưới nút *GDB/CDB debugger*, bật chọn *Evaluate expression under cursor*.\n",
    ">\n",
    ">![](CB-EvaluateExpression-min.webp)\n",
    ">\n",
    ">*Visual Studio - QuickWatch:* Tô sáng tên biến x bằng chuột, sau đó chọn *\"QuickWatch\"* từ menu chuột phải.\n",
    "\n",
    ">![](VS-QuickWatch1-min.webp)\n",
    ">\n",
    ">Hành động này sẽ mở ra một cửa sổ phụ chứa giá trị hiện tại của biến.\n",
    ">\n",
    ">![](VS-QuickWatch2-min.webp)\n",
    "\n",
    "**Xem sự thay đổi của biến:**\n",
    "\n",
    "Bây giờ hãy theo dõi sự thay đổi của biến này khi chúng ta kiểm tra từng bước qua chương trình. Chọn **Step over** hai lần hoặc **Run to Cursor** đến dòng `9`. Biến `x` bây giờ sẽ có giá trị `3`. Hãy kiểm tra lại để đảm bảo!\n",
    "\n",
    "![](VS-Watch4-min.webp)\n",
    "\n"
   ]
  },
  {
   "cell_type": "markdown",
   "id": "8a070556-cf5b-41ea-af75-32e301a5206c",
   "metadata": {},
   "source": [
    "### **Cửa sổ theo dõi (Watch Window)**"
   ]
  },
  {
   "cell_type": "markdown",
   "id": "dad6b766-71b7-47ed-bac6-e4e08bcbd6db",
   "metadata": {},
   "source": [
    "Sử dụng phương pháp *di chuột qua biến* hoặc *QuickWatch* để kiểm tra giá trị của biến chỉ phù hợp khi bạn muốn biết giá trị của biến tại một thời điểm cụ thể. Chúng không thực sự phù hợp để theo dõi sự thay đổi giá trị của biến khi bạn chạy chương trình vì bạn phải liên tục di chuột lại/chọn lại biến đó.\n",
    "\n",
    "Để giải quyết vấn đề này, tất cả các trình gỡ lỗi tích hợp hiện đại đều cung cấp một tính năng khác, gọi là **cửa sổ theo dõi (watch window)**. **Cửa sổ theo dõi** là một cửa sổ nơi bạn có thể thêm các biến mà bạn muốn kiểm tra liên tục và các biến này sẽ được cập nhật khi bạn nhảy qua từng bước trong chương trình. **Cửa sổ theo dõi** có thể đã có trên màn hình của bạn khi bạn vào chế độ gỡ lỗi, nhưng nếu chưa, bạn có thể bật nó lên thông qua các lệnh cửa sổ của IDE (thường được tìm thấy trong menu *View* hoặc *Debug*)."
   ]
  },
  {
   "cell_type": "markdown",
   "id": "3108b048-1633-41ac-9a03-a561f549e487",
   "metadata": {},
   "source": [
    ">**Visual Studio**: Menu *Debug > Windows > Watch > Watch 1**. Lưu ý rằng bạn phải ở chế độ gỡ lỗi để tùy chọn này được bật, vì vậy hãy **Step into** chương trình của bạn trước. Vị trí xuất hiện của cửa sổ này (bên trái, bên phải hoặc bên dưới được neo) có thể thay đổi. Bạn có thể thay đổi vị trí neo của nó bằng cách kéo tab *Watch 1* sang một cạnh khác của cửa sổ ứng dụng.\n",
    "\n",
    ">**Code::Blocks**: Menu *Debug > Debugging windows > Watches**. Cửa sổ này có thể xuất hiện như một cửa sổ riêng biệt. Bạn có thể neo nó vào cửa sổ chính của bạn bằng cách kéo nó qua.\n",
    "\n",
    ">**VS Code**: Trong VS Code, cửa sổ theo dõi xuất hiện ở chế độ gỡ lỗi, được neo bên trái phía trên ngăn xếp lệnh gọi (call stack).\n"
   ]
  },
  {
   "cell_type": "markdown",
   "id": "fff56cb6-cc43-4ccf-a0c4-eaa6bbf2f8a4",
   "metadata": {},
   "source": [
    "![](VS-Watch5-min.webp)\n",
    "\n",
    "Cửa sổ theo dõi có thể trống hoặc đã chứa một số nội dung."
   ]
  },
  {
   "cell_type": "markdown",
   "id": "0d5af068-5b5b-4173-bcc1-d3d54b04e780",
   "metadata": {},
   "source": [
    "**Cách thêm biến vào cửa sổ theo dõi:**\n",
    "\n",
    "Thông thường có hai cách khác nhau để thêm biến vào cửa sổ theo dõi:\n",
    "- Mở cửa sổ theo dõi và nhập tên của biến bạn muốn theo dõi vào cột ngoài cùng bên trái của cửa sổ theo dõi.\n",
    "- Trong cửa sổ code, nhấp chuột phải vào biến bạn muốn theo dõi và chọn *Add Watch* (Visual Studio) hoặc *Watch x* (thay thế `x` bằng tên của biến) (Code::Blocks)."
   ]
  },
  {
   "cell_type": "markdown",
   "id": "1e28fe70-a064-4391-a2e4-1b18ee0e8a80",
   "metadata": {},
   "source": [
    "**Bắt đầu theo dõi sự thay đổi của biến:**\n",
    "\n",
    "Nếu bạn chưa bắt đầu phiên gỡ lỗi với dấu thực thi trên dòng `9` của chương trình, hãy bắt đầu một phiên gỡ lỗi mới và chạy đến con trỏ đến dòng `9`.\n",
    "\n",
    "Bây giờ, hãy thêm biến `x` vào danh sách theo dõi của bạn. Bạn sẽ thấy:\n",
    "\n",
    "![](VS-Watch6-min.webp)\n",
    "\n",
    "**Step over** hai lần hoặc Run to Cursor đến dòng `12`, và bạn sẽ thấy giá trị của `x` thay đổi từ `3` thành `6`.\n",
    "\n",
    "**Lưu ý về biến hết hiệu lực (out of scope):**\n",
    "\n",
    "Các biến hết hiệu lực (ví dụ: biến cục bộ bên trong một hàm đã trả về cho hàm gọi) sẽ vẫn nằm trong cửa sổ theo dõi của bạn, nhưng thường sẽ được đánh dấu là \"không khả dụng\" (not available) hoặc có thể hiển thị giá trị được biết cuối cùng nhưng mờ đi. Nếu biến quay lại phạm vi (ví dụ: hàm được gọi lại), giá trị của nó sẽ bắt đầu hiển thị lại. Do đó, việc để các biến trong cửa sổ theo dõi là hoàn toàn bình thường, ngay cả khi chúng đã hết hiệu lực.\n",
    "\n",
    "Sử dụng **cửa sổ theo dõi** là cách tốt nhất để theo dõi sự thay đổi giá trị của biến theo thời gian khi bạn kiểm tra từng bước qua chương trình."
   ]
  },
  {
   "cell_type": "markdown",
   "id": "4a655d54-4e3e-4706-adf7-9a13d25e9a96",
   "metadata": {},
   "source": [
    "### **Đặt breakpoint (điểm dừng) trên biến được theo dõi**"
   ]
  },
  {
   "cell_type": "markdown",
   "id": "a1479a8e-c94f-4460-88f3-f890f25b1043",
   "metadata": {},
   "source": [
    "Một số trình gỡ lỗi cho phép bạn đặt breakpoint trên một biến được theo dõi thay vì một dòng. Điều này sẽ khiến chương trình dừng thực thi bất cứ khi nào giá trị của biến đó thay đổi.\n",
    "\n",
    "Ví dụ, đặt một breakpoint như vậy trên biến `x` trong chương trình ở trên sẽ khiến trình gỡ lỗi dừng sau khi thực hiện các dòng `8` và `11` (nơi giá trị của `x` được thay đổi).\n",
    "\n",
    ">**Cách đặt điểm dừng trên biến được theo dõi trong Visual Studio:**\n",
    ">- Đảm bảo biến của bạn đang được theo dõi.\n",
    ">- Tiếp theo, **\"Step into\"** chương trình của bạn và đi đến cửa sổ theo dõi.\n",
    ">- Nhấp chuột phải vào biến và chọn *\"Break when value changes\" (Dừng khi giá trị thay đổi)*. \n",
    ">\n",
    ">Lưu ý: Bạn cần bật lại *\"Break when value changes\"* mỗi lần bạn bắt đầu phiên gỡ lỗi.\n",
    "\n"
   ]
  },
  {
   "cell_type": "markdown",
   "id": "890b301c-c983-41f3-a5f9-6117802155e0",
   "metadata": {},
   "source": [
    "### **Cửa sổ theo dõi cũng có thể đánh giá biểu thức**"
   ]
  },
  {
   "cell_type": "markdown",
   "id": "adab43a2-8444-4bac-a447-447378698491",
   "metadata": {},
   "source": [
    "Cửa sổ theo dõi cũng cho phép bạn đánh giá các biểu thức đơn giản. Nếu bạn chưa thực hiện, hãy *\"Run to cursor\"* đến dòng `12`. Sau đó thử nhập `x + 2` vào cửa sổ theo dõi và xem điều gì xảy ra (nó sẽ được đánh giá thành `8`).\n",
    "\n",
    "Bạn cũng có thể tô sáng một biểu thức trong code của mình và sau đó kiểm tra giá trị của biểu thức đó bằng cách di chuột qua hoặc thêm nó vào cửa sổ theo dõi thông qua menu chuột phải.\n",
    "\n",
    ">**Cảnh báo:**<br>\n",
    ">Các định danh trong biểu thức được theo dõi sẽ được đánh giá theo giá trị hiện tại của chúng. Nếu bạn muốn biết giá trị của một biểu thức trong code của bạn thực sự được đánh giá thành gì, hãy *\"Run to Cursor\"* đến biểu thức đó trước, để tất cả các định danh có giá trị chính xác."
   ]
  },
  {
   "cell_type": "markdown",
   "id": "954f423c-f0dd-4c4f-b2e5-fd215e6a5d57",
   "metadata": {},
   "source": [
    "### **Theo dõi cục bộ (Local watches)**"
   ]
  },
  {
   "cell_type": "markdown",
   "id": "824cf2b2-6798-4a8e-b2e3-2ff224f141eb",
   "metadata": {},
   "source": [
    "Do việc kiểm tra giá trị của các biến cục bộ bên trong một hàm là phổ biến trong khi gỡ rối, nhiều trình gỡ rối sẽ cung cấp một số cách để nhanh chóng theo dõi giá trị của tất cả các biến cục bộ trong phạm vi.\n",
    "\n",
    ">**Cách xem tất cả các biến cục bộ trong Visual Studio:**<br>\n",
    ">Trong Visual Studio, bạn có thể xem giá trị của tất cả các biến cục bộ trong cửa sổ *Locals (Biến cục bộ)*, có thể được tìm thấy tại Menu *Debug > Windows > Locals (Biến cục bộ)*. Lưu ý rằng bạn phải ở trong phiên gỡ lỗi để kích hoạt cửa sổ này.\n",
    "\n",
    ">**Cách xem tất cả các biến cục bộ trong Code::Blocks:**<br>\n",
    ">Trong Code::Blocks, tính năng này được tích hợp vào cửa sổ *Watch (Theo dõi)*, dưới nút *Locals (Biến cục bộ)*. Nếu bạn không thấy bất kỳ nút nào, thì có thể không có biến cục bộ nào hoặc bạn cần bung rộng nút đó ra.\n",
    "\n",
    ">**Cách xem tất cả các biến cục bộ trong VS Code:**<br>\n",
    ">Trong VS Code, giá trị của các biến cục bộ có thể được tìm thấy trong phần *VARIABLES (BIẾN)* xuất hiện được neo bên trái ở chế độ gỡ lỗi. Bạn có thể cần bung rộng nút *Locals (Biến cục bộ)*.\n",
    "\n",
    "Nếu bạn chỉ muốn theo dõi giá trị của một biến cục bộ, hãy kiểm tra cửa sổ *Locals (Biến cục bộ)* trước. Biến đó thường đã có sẵn ở đó."
   ]
  }
 ],
 "metadata": {
  "kernelspec": {
   "display_name": "Python 3 (ipykernel)",
   "language": "python",
   "name": "python3"
  },
  "language_info": {
   "codemirror_mode": {
    "name": "ipython",
    "version": 3
   },
   "file_extension": ".py",
   "mimetype": "text/x-python",
   "name": "python",
   "nbconvert_exporter": "python",
   "pygments_lexer": "ipython3",
   "version": "3.12.3"
  }
 },
 "nbformat": 4,
 "nbformat_minor": 5
}
