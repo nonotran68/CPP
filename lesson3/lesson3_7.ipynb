{
 "cells": [
  {
   "cell_type": "markdown",
   "id": "12696c2e-4dc6-4be2-a667-8d7db854e4cc",
   "metadata": {},
   "source": [
    "## **Bài 3.7: <u>Sử dụng trình gỡ lỗi tích hợp: Chạy đến con trỏ (Run to cursor) và Điểm dừng (Breakpoints)</u>**"
   ]
  },
  {
   "cell_type": "markdown",
   "id": "2c5802e5-57aa-45ba-84cb-faefb574454b",
   "metadata": {},
   "source": [
    "Mặc dù việc sử dụng bước nhảy (được đề cập trong bài học [3.6 - Sử dụng trình gỡ lỗi tích hợp: Kiểm tra từng bước](lesson3_6.ipynb)) rất hữu ích để kiểm tra từng dòng code riêng lẻ, nhưng trong một chương trình lớn, việc nhảy từng bước qua toàn bộ code để đến điểm bạn muốn kiểm tra chi tiết hơn có thể mất nhiều thời gian.\n",
    "\n",
    "May mắn thay, các trình gỡ lỗi hiện đại cung cấp nhiều công cụ hơn để giúp chúng ta gỡ rối chương trình hiệu quả. Trong bài học này, chúng ta sẽ xem xét một số tính năng của trình gỡ lỗi cho phép chúng ta điều hướng code nhanh hơn."
   ]
  },
  {
   "cell_type": "markdown",
   "id": "e42fe5ac-19bb-4ca4-b66f-61b57995216d",
   "metadata": {},
   "source": [
    "### **Run to Cursor (Chạy đến con trỏ)**"
   ]
  },
  {
   "cell_type": "markdown",
   "id": "48738363-d58e-41d3-b994-4e947685e56e",
   "metadata": {},
   "source": [
    "Lệnh hữu ích đầu tiên thường được gọi là **Run to Cursor (Chạy đến con trỏ)**. Lệnh **Run to Cursor** này thực thi chương trình cho đến khi thực thi đạt đến câu lệnh được chọn bởi con trỏ chuột (cursor) của bạn. Sau đó, nó trả lại quyền điều khiển cho bạn để bạn có thể bắt đầu gỡ rối từ điểm đó. Điều này giúp cho việc bắt đầu gỡ lỗi tại một điểm cụ thể trong code của bạn trở nên hiệu quả, hoặc nếu đã gỡ lỗi, để di chuyển thẳng đến một số vị trí bạn muốn kiểm tra thêm.\n",
    "\n",
    ">**Đối với người dùng Visual Studioo**<br>\n",
    ">Trong Visual Studio, bạn có thể truy cập lệnh **Run to Cursor** bằng cách nhấp chuột phải vào một câu lệnh trong code và chọn*Run to Cursor* từ menu ngữ cảnh, hoặc bằng cách nhấn tổ hợp phím *Ctrl-F10*.\n",
    "\n",
    ">**Đối với người dùng Code::Blocks**<br>\n",
    ">Trong Code::Blocks, bạn có thể truy cập lệnh **Run to Cursor** bằng cách nhấp chuột phải vào một câu lệnh trong code và chọn *Run to Cursor* từ menu ngữ cảnh hoặc menu *Debug > Run to Cursor*, hoặc bằng cách nhấn phím tắt *F4>*\n",
    "\n",
    ">**Đối với người dùng VS Code**<br>\n",
    ">Trong VS Code, bạn có thể truy cập lệnh **Run to Cursor** trong khi đang gỡ lỗi chương trình bằng cách nhấp chuột phải vào một câu lệnh trong code và chọn *Run to Cursor* từ menu ngữ cảnh.\n",
    "\n"
   ]
  },
  {
   "cell_type": "markdown",
   "id": "9c0bcf4a-049e-4653-a226-ee63ea5e6faa",
   "metadata": {},
   "source": [
    "Chúng ta hãy thử sử dụng chương trình tương tự như những gì chúng ta đã sử dụng:\n",
    "\n",
    ">```\n",
    ">#include <iostream>\n",
    ">\n",
    ">void inGiaTri(int value) // inGiaTri = printValue\n",
    ">{\n",
    ">    std::cout << value << '\\n';\n",
    ">}\n",
    ">\n",
    ">int main()\n",
    ">{\n",
    ">    inGiaTri(5); // inGiaTri(5) = printValue(5)\n",
    ">\n",
    ">    return 0;\n",
    ">}\n",
    ">```\n",
    "\n",
    "Chỉ cần nhấp chuột phải vào bất kỳ vị trí nào trên dòng `5`, sau đó chọn *“Run to Cursor”*.\n",
    "\n",
    "Bạn sẽ thấy chương trình bắt đầu chạy và dấu thực thi di chuyển đến dòng bạn vừa chọn. Chương trình của bạn đã thực thi đến thời điểm này và hiện đang chờ các lệnh gỡ lỗi tiếp theo của bạn. Từ đây, bạn có thể bước từng bước qua chương trình, Chạy đến con trỏ đến một vị trí khác, v.v.\n",
    "\n",
    "Nếu bạn Run to Cursor đến một vị trí không được thực thi, Run to Cursor sẽ đơn giản chỉ chạy chương trình của bạn cho đến khi kết thúc."
   ]
  },
  {
   "cell_type": "markdown",
   "id": "3972a443-369e-41dc-b999-56f6e8be15ce",
   "metadata": {},
   "source": [
    "### **Continue (Tiếp tục)**"
   ]
  },
  {
   "cell_type": "markdown",
   "id": "1c53d8c8-6c4c-4951-b97d-f62f25f07f0b",
   "metadata": {},
   "source": [
    "Khi bạn đang ở giữa phiên gỡ lỗi, bạn có thể chỉ muốn chạy chương trình từ điểm đó trở đi. Cách dễ nhất để thực hiện điều này là sử dụng lệnh **Continue (Tiếp tục)**. Lệnh gỡ lỗi **Continue** đơn giản là tiếp tục chạy chương trình theo bình thường, cho đến khi chương trình kết thúc hoặc cho đến khi có thứ gì đó kích hoạt quyền điều khiển quay trở lại với bạn (chẳng hạn như **Breakpoint (điểm dừng)**, chúng ta sẽ đề cập sau trong bài học này).\n",
    "\n",
    ">**Đối với người dùng Visual Studio**<br>\n",
    ">Trong Visual Studio, bạn có thể truy cập lệnh **Continue** trong khi đang gỡ lỗi chương trình thông qua menu *Debug > Continue*, hoặc bằng cách nhấn phím tắt *F5*.\n",
    "\n",
    ">**Đối với người dùng Code::Blocks**\n",
    ">Trong Code::Blocks, bạn có thể truy cập lệnh **Continue** trong khi đang gỡ lỗi chương trình thông qua menu *Debug > Start / Continue*, hoặc bằng cách nhấn phím tắt *F8*.\n",
    "\n",
    ">**Đối với người dùng VS Code**<br>\n",
    ">Trong VS Code, bạn có thể truy cập lệnh **Continue** trong khi đang gỡ lỗi chương trình thông qua menu *Run > Continue*, hoặc bằng cách nhấn phím tắt *F5*.\n",
    "\n",
    "Chúng ta hãy thử nghiệm lệnh **Continue**. Nếu dấu thực thi của bạn chưa nằm trên dòng `5`, hãy chạy đến con trỏ đến dòng `5`. Sau đó chọn **Continue** từ điểm này. Chương trình của bạn sẽ chạy xong và sau đó dừng lại."
   ]
  },
  {
   "cell_type": "markdown",
   "id": "3ed8bb43-f1a4-4527-b7b5-584869ca2798",
   "metadata": {},
   "source": [
    "### **Start (Bắt đầu)**"
   ]
  },
  {
   "cell_type": "markdown",
   "id": "ff8a3baf-f5f7-4800-8f69-c90a9e1e0072",
   "metadata": {},
   "source": [
    "Lệnh **Continue** có một người anh em song sinh tên là **Start** (Bắt đầu). Lệnh **Start** thực hiện hành động giống như **Continue**, chỉ khác là bắt đầu từ đầu chương trình. Nó chỉ có thể được kích hoạt khi <u>đang không trong phiên gỡ lỗi</u>.\n",
    "\n",
    ">**Đối với người dùng Visual Studio**<br>\n",
    ">Trong Visual Studio, bạn có thể truy cập lệnh **Start** trong khi không gỡ lỗi chương trình thông qua menu *Debug > Start Debugging*, hoặc bằng cách nhấn phím tắt *F5*.\n",
    "\n",
    ">**Đối với người dùng Code::Blocks**<br>\n",
    ">Trong Code::Blocks, bạn có thể truy cập lệnh **Start** trong khi không gỡ lỗi chương trình thông qua menu *Debug > Start / Continue*, hoặc bằng cách nhấn phím tắt *F8*.\n",
    "\n",
    ">**Đối với người dùng VS Code**<br>\n",
    ">Trong VS Code, bạn có thể truy cập lệnh **Start** trong khi không gỡ lỗi chương trình thông qua menu *Run > Start Debugging*, hoặc bằng cách nhấn phím tắt *F5*.\n",
    "\n",
    "Nếu bạn sử dụng lệnh **Start** trên chương trình mẫu ở trên, nó sẽ chạy toàn bộ mà không bị gián đoạn (ngoại trừ trên VS Code, vì chúng ta đã đặt `stopAtEntry: true` trong bài học trước). Mặc dù điều này có vẻ không đáng chú ý, nhưng đó chỉ là vì chúng ta chưa yêu cầu trình gỡ lỗi dừng chương trình. Chúng ta sẽ sử dụng lệnh này hiệu quả hơn trong phần tiếp theo."
   ]
  },
  {
   "cell_type": "markdown",
   "id": "ebb432b0-f00b-4bdb-b920-ff683ccda64a",
   "metadata": {},
   "source": [
    "### **Breakpoints (Điểm dừng)**"
   ]
  },
  {
   "cell_type": "markdown",
   "id": "6ca64e38-8864-4c0d-b99f-7a190816f946",
   "metadata": {},
   "source": [
    "Chủ đề cuối cùng chúng ta sẽ đề cập trong phần này là **Breakpoints (Điểm dừng). **Breakpoints** là một ký hiệu đặc biệt báo cho trình gỡ lỗi dừng thực thi chương trình tại **breakpoints** khi chạy ở chế độ gỡ lỗi.\n",
    "\n",
    ">**Đối với người dùng Visual Studio**<br>\n",
    ">Trong Visual Studio, bạn có thể đặt hoặc xóa điểm dừng thông qua menu *Debug > Toggle Breakpoint*, hoặc bằng cách nhấp chuột phải vào một câu lệnh và chọn *Toggle Breakpoint* từ menu ngữ cảnh, hoặc bằng cách nhấn phím tắt *F9*, hoặc bằng cách nhấp vào bên trái của số dòng (trong vùng màu xám nhạt).\n",
    "\n",
    ">**Đối với người dùng Code::Blocks**<br>\n",
    ">Trong Code::Blocks, bạn có thể đặt hoặc xóa điểm dừng thông qua menu **Debug > Toggle Breakpoint*, hoặc bằng cách nhấp chuột phải vào một câu lệnh và chọn *Toggle Breakpoint* từ menu ngữ cảnh, hoặc bằng cách nhấn phím tắt *F5*, hoặc bằng cách nhấp vào bên phải của số dòng.\n",
    "\n",
    ">**Đối với người dùng VS Code**<br>\n",
    ">Trong VS Code, bạn có thể đặt hoặc xóa điểm dừng thông qua menu *Run > Toggle Breakpoint*, hoặc bằng cách nhấn phím tắt *F9*, hoặc bằng cách nhấp vào bên trái của số dòng.\n",
    "\n",
    "Khi bạn đặt một điểm dừng, bạn sẽ thấy một loại biểu tượng mới xuất hiện. **Visual Studio** sử dụng một vòng tròn màu đỏ, **Code::Blocks** sử dụng một hình bát giác màu đỏ (giống như biển báo dừng):\n",
    "\n",
    "![](VS-Breakpoint1-min.png)\n",
    "\n",
    "Hãy tiếp tục và đặt một điểm dừng trên dòng `5`, như trong hình ảnh ở trên.\n",
    "\n",
    "Bây giờ, chọn lệnh **Start** để trình gỡ lỗi chạy code của bạn và chúng ta hãy xem điểm dừng hoạt động như thế nào. Bạn sẽ nhận thấy rằng thay vì chạy đến hết chương trình, trình gỡ lỗi dừng lại ở **breakpoint** (với dấu thực thi nằm trên biểu tượng điểm dừng):\n",
    "\n",
    "![](VS-Breakpoint2-min.png)\n",
    "\n",
    "Giống như bạn đã chạy đến con trỏ đến điểm này.\n",
    "\n",
    "**Breakpoints** có một vài ưu điểm so với **Run to Cursor**. Thứ nhất, **breakpoints** sẽ khiến trình gỡ lỗi trả quyền điều khiển cho bạn mỗi khi gặp chúng (không giống như **Run to Cursor**, chỉ chạy đến con trỏ một lần mỗi lần được kích hoạt). Thứ hai, bạn có thể đặt một **breakpoint** và nó sẽ tồn tại cho đến khi bạn xóa nó, trong khi với **Run to Cursor**, bạn phải xác định vị trí bạn muốn chạy đến mỗi lần bạn kích hoạt lệnh.\n",
    "\n",
    "Lưu ý rằng các **breakpoint** được đặt trên các dòng không nằm trên luồng thực thi sẽ không khiến trình gỡ lỗi dừng thực thi code."
   ]
  },
  {
   "cell_type": "markdown",
   "id": "b331421e-251a-4dda-9499-e907be7a6525",
   "metadata": {},
   "source": [
    "Chúng ta hãy xem một chương trình được sửa đổi một chút để minh họa rõ hơn sự khác biệt giữa điểm dừng và chạy đến con trỏ:\n",
    "\n",
    ">```\n",
    ">#include <iostream>\n",
    ">\n",
    ">void inGiaTri(int value) // inGiaTri = printValue\n",
    ">{\n",
    ">    std::cout << value << '\\n';\n",
    ">}\n",
    ">\n",
    ">int main()\n",
    ">{\n",
    ">    inGiaTri(5);\n",
    ">    inGiaTri(6);\n",
    ">    inGiaTri(7);\n",
    ">\n",
    ">    return 0;\n",
    ">}\n",
    ">```\n",
    "\n",
    "Đầu tiên, hãy bắt đầu một phiên gỡ lỗi mới và sau đó thực hiện **Run to Cursor** đến dòng `5`. Bây giờ chọn **Continue**. Chương trình sẽ tiếp tục chạy đến cuối (nó sẽ không dừng lại trên dòng `5` nữa, ngay cả khi dòng `5` được thực thi thêm hai lần).\n",
    "\n",
    "Tiếp theo, đặt một điểm dừng trên dòng `5`, sau đó chọn **Start**. Chương trình sẽ dừng lại trên dòng `5`. Bây giờ chọn **Continue**. Chương trình sẽ dừng lại trên dòng `5` lần thứ hai. Chọn **Continue** một lần nữa và nó sẽ dừng lại lần thứ ba. Thực hiện thêm một lần **Continue** nữa và chương trình sẽ kết thúc. Bạn có thể thấy rằng **breakpoint** khiến chương trình dừng lại nhiều lần như số lần dòng đó được thực thi."
   ]
  },
  {
   "cell_type": "markdown",
   "id": "f3e41654-d178-490a-891f-7b5a6917bede",
   "metadata": {},
   "source": [
    "### **Set Next Statement (Thiết lập câu lệnh tiếp theo)**"
   ]
  },
  {
   "cell_type": "markdown",
   "id": "d8b32c98-b0ee-425a-816a-b8f4feb86cc4",
   "metadata": {},
   "source": [
    "Còn một lệnh gỡ rối nữa được sử dụng khá hiếm, nhưng vẫn đáng để biết, ngay cả khi bạn không sử dụng nó thường xuyên. Lệnh **Set Next Statement (Thiết lập câu lệnh tiếp theo)** cho phép chúng ta thay đổi điểm thực thi thành một câu lệnh khác. Điều này có thể được sử dụng để nhảy điểm thực thi về phía trước và bỏ qua một số code lẽ ra sẽ được thực thi, hoặc nhảy ngược lại và thực thi lại một đoạn code đã được thực thi trước đó.\n",
    "\n",
    ">**Đối với người dùng Visual Studio**<br>\n",
    ">Trong Visual Studio, bạn có thể nhảy đến điểm thực thi bằng cách nhấp chuột phải vào một câu lệnh và chọn *Set Next Statement* từ menu ngữ cảnh, hoặc bằng cách nhấn tổ hợp phím tắt *Ctrl-Shift-F10*. Tùy chọn này theo ngữ cảnh và chỉ xuất hiện khi đang gỡ rối chương trình.\n",
    "\n",
    ">**Đối với người dùng Code::Blocks**<br>\n",
    ">Trong Code::Blocks, bạn có thể nhảy đến điểm thực thi thông qua menu *Debug > Set Next Statement*, hoặc bằng cách nhấp chuột phải vào một câu lệnh và chọn *Set Next Statement* từ menu ngữ cảnh. Code::Blocks không có phím tắt bàn phím cho lệnh này.\n",
    "\n",
    ">**Đối với người dùng VS Code**<br>\n",
    ">Trong VS Code, bạn có thể nhảy đến điểm thực thi bằng cách nhấp chuột phải vào một câu lệnh và chọn *Jump to Cursor* từ menu ngữ cảnh. Tùy chọn này theo ngữ cảnh và chỉ xuất hiện khi đang gỡ rối chương trình.\n",
    "\n",
    "**Ví dụ:**\n",
    "\n",
    "Giả sử bạn có đoạn code sau:\n",
    "\n",
    ">```\n",
    ">void printValue(int value) {\n",
    ">  std::cout << value << '\\n';\n",
    ">}\n",
    ">\n",
    ">int main() {\n",
    ">  printValue(5);\n",
    ">  printValue(6);\n",
    ">  printValue(7);\n",
    ">\n",
    ">  return 0;\n",
    ">}\n",
    ">```\n",
    "\n",
    "Đầu tiên, chạy đến con trỏ đến dòng `11`. Lúc này, bạn sẽ thấy giá trị của `5` trong cửa sổ đầu ra console.\n",
    "Bây giờ, nhấp chuột phải vào dòng `12` và chọn *Set Next Statement*. Điều này khiến dòng `11` bị bỏ qua và không được thực thi. Sau đó chọn *Continue* để hoàn thành việc thực thi chương trình của bạn.\n",
    "\n",
    "Đầu ra của chương trình của bạn sẽ trông như thế này:\n",
    ">```\n",
    ">5\n",
    ">7\n",
    ">```\n",
    "\n",
    "Chúng ta có thể thấy rằng `printValue(6)` đã bị bỏ qua.\n",
    "\n",
    "Tính năng này có thể hữu ích trong một số ngữ cảnh.\n",
    "\n",
    "Trong mục khám phá các kỹ thuật gỡ rối cơ bản, chúng ta đã thảo luận về việc đóng chú thích một hàm như một cách để xác định xem hàm đó có vai trò gì trong việc gây ra sự cố hay không. Điều này yêu cầu sửa đổi code của chúng ta và nhớ bỏ chú thích hàm sau đó. Trong trình gỡ rối, không có cách trực tiếp nào để bỏ qua một hàm, vì vậy nếu bạn muốn thực hiện điều này, sử dụng **Set Next Statement** để nhảy qua một lệnh gọi hàm là cách dễ nhất để thực hiện.\n",
    "\n",
    "Nhảy ngược lại cũng có thể hữu ích nếu chúng ta muốn xem lại một hàm vừa mới thực thi, để chúng ta có thể xem nó đang làm gì.\n",
    "\n",
    "Với cùng code ở trên, chạy đến con trỏ đến dòng `12`. Sau đó thiết lập câu lệnh tiếp theo trên dòng `11` và *Continue*. Đầu ra của chương trình sẽ là:\n",
    ">```\n",
    ">5\n",
    ">6\n",
    ">6\n",
    ">7\n",
    ">```\n",
    "\n",
    ">**Cảnh báo**<br>\n",
    ">Lệnh **Set Next Statement** sẽ thay đổi điểm thực thi, nhưng không làm thay đổi trạng thái chương trình. Biến của bạn sẽ giữ lại bất kỳ giá trị nào chúng có trước khi nhảy. Do đó, việc nhảy có thể khiến chương trình của bạn tạo ra các giá trị, kết quả hoặc hành vi khác so với bình thường. Sử dụng khả năng này một cách thận trọng (đặc biệt là nhảy ngược).\n",
    "\n",
    ">**Cảnh báo**<br>\n",
    ">Bạn không nên sử dụng **Set Next Statement** để thay đổi điểm thực thi sang một hàm khác. Điều này có thể dẫn đến hành vi không xác định và có khả năng gây ra *crash*."
   ]
  },
  {
   "cell_type": "markdown",
   "id": "2f8dbd27-2a19-4b02-a2b0-344e7e7f54ae",
   "metadata": {},
   "source": [
    "### **\"Step back\" (Bước lùi) vs nhảy ngược thông qua \"Set Next Statement\" (Thiết lập câu lệnh tiếp theo)**"
   ]
  },
  {
   "cell_type": "markdown",
   "id": "05a3b902-be81-4f05-9b51-4b04149f8826",
   "metadata": {},
   "source": [
    "**Step Back** và **Set Next Statement** đều là các tính năng gỡ lỗi giúp bạn quay lại một điểm trước đó trong chương trình, nhưng chúng hoạt động theo những cách khác nhau.\n",
    "\n",
    "**Step Back**: Giống như nút \"quay lại\" vậy. Nó **tua** lại toàn bộ trạng thái của chương trình, bao gồm cả giá trị của các biến, về trạng thái mà chúng có ở điểm trước đó. Điều này hữu ích nếu bạn muốn xem lại một phần code đã thực thi và muốn chương trình hoạt động như thể nó chưa từng xảy ra.\n",
    "\n",
    "**Set Next Statement**: Chỉ thay đổi điểm mà chương trình sẽ tiếp tục chạy từ đó. Nó không tua lại trạng thái của chương trình. Giá trị của các biến vẫn giữ nguyên như trước khi nhảy. Tính năng này hữu ích để bỏ qua một phần code cụ thể mà bạn không muốn xem xét chi tiết.\n",
    "\n",
    ">**Tóm lại**\n",
    ">- **Step Back** (Bước lùi): Hoàn tác hoàn toàn các bước đã thực hiện, đưa chương trình về trạng thái trước đó.\n",
    ">- **Set Next Statement** (Thiết lập câu lệnh tiếp theo): Chỉ thay đổi điểm thực thi tiếp theo, không ảnh hưởng đến trạng thái chương trình."
   ]
  },
  {
   "cell_type": "markdown",
   "id": "04046464-3a30-4475-bf4d-7dd70d4eddb9",
   "metadata": {},
   "source": [
    "### **Kết luận**"
   ]
  },
  {
   "cell_type": "markdown",
   "id": "844beca8-f9b9-4f56-919d-a71050971657",
   "metadata": {},
   "source": [
    "Bây giờ bạn đã biết những cách chính để sử dụng trình gỡ lỗi tích hợp để theo dõi và kiểm soát cách chương trình của bạn thực thi. Mặc dù các lệnh này hữu ích để chẩn đoán các vấn đề về luồng code (ví dụ: xác định xem một số hàm có được gọi hay không), chúng chỉ là một phần lợi ích mà trình gỡ lỗi tích hợp mang lại. Trong bài học tiếp theo, chúng tôi sẽ bắt đầu khám phá các cách bổ sung để kiểm tra trạng thái chương trình của bạn, việc này yêu cầu bạn phải nắm vững các lệnh này như là điều kiện tiên quyết. Bắt đầu thôi!"
   ]
  }
 ],
 "metadata": {
  "kernelspec": {
   "display_name": "Python 3 (ipykernel)",
   "language": "python",
   "name": "python3"
  },
  "language_info": {
   "codemirror_mode": {
    "name": "ipython",
    "version": 3
   },
   "file_extension": ".py",
   "mimetype": "text/x-python",
   "name": "python",
   "nbconvert_exporter": "python",
   "pygments_lexer": "ipython3",
   "version": "3.12.3"
  }
 },
 "nbformat": 4,
 "nbformat_minor": 5
}
