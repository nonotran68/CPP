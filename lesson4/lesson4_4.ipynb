{
 "cells": [
  {
   "cell_type": "markdown",
   "id": "e213cd50-900b-4892-ae47-4ea5e74d2dd5",
   "metadata": {},
   "source": [
    "## **Bài 4.4: <u>Số nguyên có dấu</u>** "
   ]
  },
  {
   "cell_type": "markdown",
   "id": "9b403b95-23d8-4a0f-805c-7640f2c2e74c",
   "metadata": {},
   "source": [
    "**Số nguyên (integer)** là một kiểu dữ liệu nguyên có thể biểu diễn các số nguyên dương, âm và số 0 (ví dụ: `-2`, `-1`, `0`, `1`, `2`). C++ cung cấp 4 kiểu số nguyên cơ bản chính để sử dụng:\n",
    "\n",
    "| Kiểu        | Kích thước tối thiểu | Ghi chú                                      |\n",
    "|-------------|----------------------|----------------------------------------------|\n",
    "| `short`     | 16 bits              |                                              |\n",
    "| `int`       | 16 bits              | Thường là 32 bit trên các kiến trúc hiện đại |\n",
    "| `long`      | 32 bits              |                                              |\n",
    "| `long long` | 64 bits              |                                              |\n",
    "\n",
    "Sự khác biệt chính giữa các kiểu số nguyên khác nhau là kích thước của chúng - các số nguyên lớn hơn có thể chứa các số lớn hơn.\n",
    "\n",
    ">**Lưu ý:**<br>\n",
    ">C++ chỉ đảm bảo rằng các số nguyên sẽ có một kích thước tối thiểu nhất định, chứ không đảm bảo chúng sẽ có một kích thước cụ thể. Xem bài học [**4.3 - Kích thước đối tượng và toán tử `sizeof`**](lesson4_3.ipynb) để biết thông tin về cách xác định kích thước của mỗi kiểu trên máy tính của bạn.\n",
    "\n",
    ">**Ngoài lề:**<br>\n",
    ">Về mặt kỹ thuật, các kiểu `bool` và `char` được coi là các kiểu nguyên (bởi vì các kiểu này lưu trữ giá trị của chúng dưới dạng giá trị nguyên). Trong một bài học tiếp theo, chúng tôi sẽ loại trừ các kiểu này khỏi bài thảo luận."
   ]
  },
  {
   "cell_type": "markdown",
   "id": "a6f5b480-4b84-4987-ad5c-9589e755666c",
   "metadata": {},
   "source": [
    "### **Số nguyên có dấu**"
   ]
  },
  {
   "cell_type": "markdown",
   "id": "3dbebb07-7f5a-483b-8346-49ca0698afbd",
   "metadata": {},
   "source": [
    "Trong cuộc sống hàng ngày, khi muốn viết các số âm, chúng ta sử dụng **dấu trừ**. Ví dụ, `-3` có nghĩa là \"âm 3\". Chúng ta cũng thường hiểu `+3` là \"dương 3\" (mặc dù theo quy ước thông thường, chúng ta thường bỏ qua tiền tố cộng).\n",
    "\n",
    "Thuộc tính là dương, âm hay bằng 0 này được gọi là dấu của số.\n",
    "\n",
    "Theo mặc định, các số nguyên trong C++ là có dấu, nghĩa là dấu của số được lưu trữ như một phần của số. Do đó, một số nguyên có dấu có thể chứa cả số dương, số âm và số 0.\n",
    "\n",
    "Trong bài học này, chúng ta sẽ tập trung vào các số nguyên có dấu. Chúng ta sẽ thảo luận về các số nguyên không dấu (chỉ có thể chứa các số không âm) trong bài học tiếp theo.\n",
    "\n",
    ">**Nội dung liên quan**<br>\n",
    ">Trong biểu diễn nhị phân, một bit duy nhất (gọi là bit dấu) được sử dụng để lưu trữ dấu của số. Các bit không dấu (gọi là bit trị tuyệt đối) xác định giá trị tuyệt đối của số.\n",
    ">\n",
    ">Chúng ta sẽ thảo luận về cách sử dụng bit dấu khi biểu diễn số trong nhị phân trong bài học O.4 - Chuyển đổi số nguyên giữa biểu diễn nhị phân và thập phân."
   ]
  },
  {
   "cell_type": "markdown",
   "id": "9ca91ef3-e42e-401f-a867-a99773b91ac9",
   "metadata": {},
   "source": [
    "### **Định nghĩa số nguyên có dấu**"
   ]
  },
  {
   "cell_type": "markdown",
   "id": "8c1a0f6e-f549-4e9c-8d2a-1630e8e998b8",
   "metadata": {},
   "source": [
    "Đây là cách ưa thích để định nghĩa bốn kiểu số nguyên có dấu:\n",
    "\n",
    ">```\n",
    ">short s;      // ưu tiên \"short\" thay vì \"short int\"\n",
    ">int i;\n",
    ">long l;       // ưu tiên \"long\" thay vì \"long int\"\n",
    ">long long ll; // ưu tiên \"long long\" thay vì \"long long int\"\n",
    ">\n",
    "Mặc dù `short int`, `long int`, hoặc `long long int` đều hoạt động, chúng ta thích sử dụng các tên viết tắt cho các kiểu này (không sử dụng hậu tố `int`). Ngoài việc gõ phím ít hơn, việc thêm hậu tố `int` khiến kiểu dữ liệu khó phân biệt hơn với các biến kiểu `int`. Điều này có thể dẫn đến sai lầm nếu vô tình bỏ qua các từ sửa đổi `short` hoặc `long`.\n",
    "\n",
    "Các kiểu số nguyên cũng có thể sử dụng từ khóa `signed` tùy chọn, theo quy ước, thường được đặt trước tên kiểu:\n",
    "\n",
    ">```\n",
    ">signed short ss;\n",
    ">signed int si;\n",
    ">signed long sl;\n",
    ">signed long long sll;\n",
    ">```\n",
    "\n",
    "Tuy nhiên, từ khóa này không nên được sử dụng vì nó là thừa, vì các số nguyên có dấu theo mặc định.\n",
    "\n",
    ">**Thực hành tốt nhất**<br>\n",
    "Ưu tiên các kiểu viết tắt không sử dụng hậu tố `int` hoặc tiền tố `signed`."
   ]
  },
  {
   "cell_type": "markdown",
   "id": "8885e102-56b0-415a-9a24-18a77956d8f0",
   "metadata": {},
   "source": [
    "### **Phạm vi của số nguyên có dấu**"
   ]
  },
  {
   "cell_type": "markdown",
   "id": "7b00e9c5-de38-449c-b31a-9e9c51d5601b",
   "metadata": {},
   "source": [
    "Như bạn đã học được trong phần trước, một biến có **n bit** có thể chứa **2<sup>n</sup>** giá trị khả thi. Nhưng các giá trị cụ thể nào? Chúng ta gọi tập hợp các giá trị cụ thể mà một kiểu dữ liệu có thể chứa là phạm vi của nó. Phạm vi của một biến số nguyên được xác định bởi hai yếu tố: kích thước của nó (theo bit) và nó có dấu hay không.\n",
    "\n",
    "Theo định nghĩa, một số nguyên có dấu **8 bit** có phạm vi từ `-128` đến `127`. Điều này có nghĩa là một số nguyên có dấu có thể lưu trữ an toàn bất kỳ giá trị số nguyên nào giữa `-128` và `127` (bao gồm cả giá trị cuối).\n",
    "\n",
    ">**Ngoài lề:**<br>\n",
    ">*Math time:* một số nguyên 8 bit chứa 8 bit. 2<sup>8</sup> là 256, do đó một số nguyên 8 bit có thể chứa 256 giá trị khả thi. Có 256 giá trị khả thi giữa `-128` đến `127`, bao gồm cả giá trị đầu mút.\\\n",
    ">7 bit được sử dụng để chứa giá trị tuyệt đối của số, và 1 bit được sử dụng để chứa dấu.\n",
    "\n",
    "Bảng dưới đây chứa phạm vi của các số nguyên có dấu có kích thước khác nhau:\n",
    "\n",
    "| Kích thước/Kiểu | Phạm vi                                                  |\n",
    "|-----------------|----------------------------------------------------------|\n",
    "| 8 bit signed    | -128 đến 127                                             |\n",
    "| 16 bit signed   | -32,768 đến 32,767                                       |\n",
    "| 32 bit signed   | -2,147,483,648 đến 2,147,483,647                         |\n",
    "| 64 bit signed   | -9,223,372,036,854,775,808 đến 9,223,372,036,854,775,807 |\n",
    "\n",
    "Đối với những người thích toán học, một biến có dấu **n-bit** có phạm vi từ **-2<sup>n-1</sup> đến 2<sup>n-1</sup>-1**.\n",
    "\n",
    "Đối với những người không thích toán học... hãy sử dụng bảng. :)"
   ]
  },
  {
   "cell_type": "markdown",
   "id": "3be59bab-8d7a-4bf7-8800-91b21a36de84",
   "metadata": {},
   "source": [
    "### **Tràn số (Overflow)**"
   ]
  },
  {
   "cell_type": "markdown",
   "id": "29338c25-2515-4cfa-9a53-e9908bd514d0",
   "metadata": {},
   "source": [
    "Điều gì xảy ra nếu chúng ta cố gắng gán giá trị `140` cho một số nguyên có dấu 8 bit? Số này nằm ngoài phạm vi mà một số nguyên có dấu 8 bit có thể chứa. Số `140` cần 9 bit để biểu diễn (8 bit giá trị tuyệt đối và 1 bit dấu), nhưng chúng ta chỉ có 8 bit (7 bit giá trị tuyệt đối và 1 bit dấu) khả dụng trong một số nguyên có dấu 8 bit.\n",
    "\n",
    "Tiêu chuẩn **C++20** đưa ra tuyên bố bao quát này:\\\n",
    "\"Nếu trong quá trình tính toán một biểu thức, kết quả không được xác định về mặt toán học hoặc không nằm trong phạm vi các giá trị có thể biểu diễn cho kiểu của nó, thì hành vi đó là hành vi bất định\".\\\n",
    "Theo diễn giải thông thường, điều này được gọi là **tràn số (overflow)**.\n",
    "\n",
    "Do đó, việc gán giá trị `140` cho một số nguyên có dấu 8 bit sẽ dẫn đến hành vi bất định.\n",
    "\n",
    "Nếu một phép toán số học (như cộng hoặc nhân) cố gắng tạo ra một giá trị nằm ngoài phạm vi có thể biểu diễn được, thì điều này được gọi là **tràn số nguyên (integer overflow)** (hoặc **tràn số học**). Đối với các số nguyên có dấu, **tràn số nguyên** sẽ dẫn đến **hành vi bất định**."
   ]
  },
  {
   "cell_type": "markdown",
   "id": "a47dd538-aa67-4985-b3eb-295650ca9fc3",
   "metadata": {},
   "source": [
    ">```\n",
    ">#include <iostream>\n",
    ">\n",
    ">int main()\n",
    ">{\n",
    ">    // Giả sử số nguyên chiếm 4 byte\n",
    ">    int x { 2'147'483'647 }; // giá trị tối đa của một số nguyên có dấu 4 byte\n",
    ">    std::cout << x << '\\n';\n",
    ">\n",
    ">    x = x + 1; // tràn số nguyên, hành vi không xác định\n",
    ">    std::cout << x << '\\n';\n",
    ">\n",
    ">    return 0;\n",
    ">}\n",
    ">```\n",
    "\n",
    "Trên máy của tác giả, mã trên in ra:\n",
    ">```\n",
    ">2147483647\n",
    ">-2147483648\n",
    ">```\n",
    "\n",
    "Tuy nhiên, vì kết quả thứ hai là kết quả của hành vi bất định, nên giá trị xuất ra có thể thay đổi trên máy của bạn.\n",
    "\n",
    ">**Đối với người đọc nâng cao**<br>\n",
    "Chúng ta sẽ đề cập về những gì xảy ra khi số nguyên không dấu bị tràn trong bài học 4.5 - Số nguyên không dấu và lý do tại sao nên tránh chúng.\n",
    "\n",
    "Nhìn chung, tràn số dẫn đến mất thông tin, điều này hầu như không mong muốn. Nếu có bất kỳ nghi ngờ nào rằng một đối tượng có thể cần lưu trữ một giá trị nằm ngoài phạm vi của nó, hãy sử dụng một kiểu dữ liệu có phạm vi lớn hơn!"
   ]
  },
  {
   "cell_type": "markdown",
   "id": "c65fb2bc-bf5b-4185-8032-59bae7ca0aaf",
   "metadata": {},
   "source": [
    "### **Phép chia số nguyên**"
   ]
  },
  {
   "cell_type": "markdown",
   "id": "754d7e25-0495-4071-84d5-085c99959bd8",
   "metadata": {},
   "source": [
    "Khi chia hai số nguyên, C++ hoạt động như chúng ta mong đợi khi thương là một số nguyên:\n",
    ">```\n",
    ">#include <iostream>\n",
    ">\n",
    ">int main()\n",
    ">{\n",
    ">    std::cout << 20 / 4 << '\\n';\n",
    ">    return 0;\n",
    ">}\n",
    ">```\n",
    "\n",
    "Điều này tạo ra kết quả mong đợi:\n",
    ">`5`\n",
    "\n",
    "Nhưng hãy xem điều gì xảy ra khi phép chia số nguyên tạo ra kết quả là một số thập phân:\n",
    ">```\n",
    ">#include <iostream>\n",
    ">\n",
    ">int main()\n",
    ">{\n",
    ">    std::cout << 8 / 5 << '\\n';\n",
    ">    return 0;\n",
    ">}\n",
    ">```\n",
    "\n",
    "Điều này có thể tạo ra một kết quả không mong đợi:\n",
    ">`1`\n",
    "\n",
    "Khi thực hiện phép chia với hai số nguyên (được gọi là **phép chia số nguyên**), C++ luôn tạo ra một **kết quả nguyên**. Vì các số nguyên không thể chứa các giá trị thập phân, bất kỳ phần thập phân nào cũng đơn giản bị loại bỏ (không được làm tròn!).\n",
    "\n",
    "Xem xét kỹ hơn ví dụ trên, `8 / 5` cho ra giá trị `1.6`. Phần thập phân (`0.6`) bị loại bỏ và kết quả là `1`. Ngoài ra, chúng ta có thể nói `8 / 5` bằng `1` dư `3`. Số dư bị loại bỏ, chỉ còn `1`.\n",
    "\n",
    "Tương tự, `-8 / 5` cho ra giá trị `-1`.\n",
    "\n",
    ">**Cảnh báo**<br>\n",
    ">Hãy cẩn thận khi sử dụng phép chia số nguyên, vì bạn sẽ mất bất kỳ phần thập phân nào của thương. Tuy nhiên, nếu đó là điều bạn muốn, phép chia số nguyên là an toàn để sử dụng vì kết quả có thể dự đoán được.\n",
    "\n",
    ">Nếu cần kết quả thập phân, chúng tôi sẽ hướng dẫn phương pháp thực hiện việc này trong bài học 6.2 - Toán tử số học."
   ]
  },
  {
   "cell_type": "markdown",
   "id": "80993227-55f9-4beb-ab89-a5001be9d46d",
   "metadata": {},
   "source": [
    "### **Trắc nghiệm**"
   ]
  },
  {
   "cell_type": "markdown",
   "id": "76efddea-9308-4ff5-aa0d-352f6f091a2e",
   "metadata": {},
   "source": [
    "**Câu hỏi #1**<br>\n",
    "Phạm vi của một số nguyên có dấu 5 bit sẽ là gì?\n",
    "\n",
    "<details>\n",
    "<summary><b>Lời giải:</b></summary>\n",
    "\n",
    "Một số 5 bit có thể hỗ trợ 2<sup>5</sup> = 32 giá trị duy nhất. Đối với một số nguyên có dấu, chúng được chia gần bằng nhau giữa các số dương và âm, với số âm nhận thêm một giá trị. Vì vậy, phạm vi sẽ là từ `-16` đến `15`.\n",
    "\n",
    "Một cách khác để suy nghĩ về điều này: 1 trong 5 bit được yêu cầu để chứa dấu. Điều đó còn lại 4 bit cho giá trị tuyệt đối. Với 4 bit, chúng ta có 16 giá trị duy nhất. Ở phía âm, các bit giá trị tuyệt đối này biểu diễn các giá trị từ `-1` đến `-16`. Ở phía không âm, các bit giá trị tuyệt đối này biểu diễn các giá trị từ `0` đến `15`. Phía không âm có phạm vi ít hơn một giá trị vì nó bao gồm `0`.\n",
    "</details>"
   ]
  },
  {
   "cell_type": "markdown",
   "id": "5413749f-e664-46a1-a463-854f11bffa05",
   "metadata": {},
   "source": [
    "**Câu hỏi #2**<br>\n",
    "***a***) Kết quả của `13 / 5` là gì?\n",
    "<details>\n",
    "<summary><b>Lời giải:</b></summary>\n",
    "\n",
    "`13 / 5` = `2` dư `3`. Số dư bị loại bỏ, chỉ còn `2`.\n",
    "</details>\n",
    "\n",
    "\n",
    "***b***) Kết quả của `-13 / 5` là gì?\n",
    "<details>\n",
    "<summary><b>Lời giải:</b></summary>\n",
    "    \n",
    "`-13 / 5` = `-2` dư `-3`. Số dư bị loại bỏ, chỉ còn `-2`.\n",
    "</details>"
   ]
  }
 ],
 "metadata": {
  "kernelspec": {
   "display_name": "Python 3 (ipykernel)",
   "language": "python",
   "name": "python3"
  },
  "language_info": {
   "codemirror_mode": {
    "name": "ipython",
    "version": 3
   },
   "file_extension": ".py",
   "mimetype": "text/x-python",
   "name": "python",
   "nbconvert_exporter": "python",
   "pygments_lexer": "ipython3",
   "version": "3.12.3"
  }
 },
 "nbformat": 4,
 "nbformat_minor": 5
}
