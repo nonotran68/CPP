{
 "cells": [
  {
   "cell_type": "markdown",
   "id": "b5b3ef7b-aa0b-42b5-affc-28934c315d24",
   "metadata": {
    "jp-MarkdownHeadingCollapsed": true
   },
   "source": [
    "## **Bài 4.1: <u>Giới thiệu về Kiểu dữ liệu cơ bản</u>**"
   ]
  },
  {
   "cell_type": "markdown",
   "id": "66b0895a-a0e0-427d-bd22-6303d937ca4e",
   "metadata": {},
   "source": [
    "### **Bit, Byte và Địa chỉ bộ nhớ**"
   ]
  },
  {
   "cell_type": "markdown",
   "id": "7c099c28-14b1-4088-998d-67bf3e16049a",
   "metadata": {},
   "source": [
    "Trong bài học [**1.3 - Giới thiệu về đối tượng và biến**](../lesson1/lesson1_3.ipynb), chúng ta đã đề cập đến việc biến là tên gọi của một vùng nhớ được sử dụng để lưu trữ thông tin. Nhắc lại một cách ngắn gọn, máy tính có bộ nhớ truy cập ngẫu nhiên (**RAM**) mà các chương trình có thể sử dụng. Khi một biến được khai báo, một phần của bộ nhớ đó được dành riêng cho biến đó.\n",
    "\n",
    "Đơn vị nhỏ nhất của bộ nhớ là một **bit** (còn gọi là **binary digit** hay đơn vị nhị phân), có thể chứa giá trị 0 hoặc 1. Bạn có thể coi một bit giống như công tắc đèn truyền thống - đèn tắt (0) hoặc bật (1). Không có trạng thái trung gian nào. Nếu bạn nhìn vào một đoạn bộ nhớ ngẫu nhiên, tất cả những gì bạn thấy là `...011010100101010...` hoặc một tổ hợp nào đó tương tự.\n",
    "\n",
    "Bộ nhớ được tổ chức thành các đơn vị tuần tự được gọi là **địa chỉ bộ nhớ** (hay ngắn gọn là **địa chỉ**). Tương tự như cách một địa chỉ đường phố có thể được sử dụng để tìm một ngôi nhà nhất định trên một con phố, **địa chỉ bộ nhớ** cho phép chúng ta tìm và truy cập nội dung của bộ nhớ tại một vị trí cụ thể.\n",
    "\n",
    "Có lẽ điều ngạc nhiên là, trong kiến trúc máy tính hiện đại, mỗi bit không có địa chỉ bộ nhớ riêng biệt. Điều này là do số lượng địa chỉ bộ nhớ bị hạn chế và nhu cầu truy cập dữ liệu từng bit là rất hiếm. Thay vào đó, mỗi địa chỉ bộ nhớ chứa 1 **byte** dữ liệu. **Byte** là một nhóm các bit được vận hành như một đơn vị. Tiêu chuẩn hiện đại là **1 byte** bao gồm **8 bit** tuần tự."
   ]
  },
  {
   "cell_type": "markdown",
   "id": "c9ad99b4-55d0-48c1-84fb-46532e442d39",
   "metadata": {},
   "source": [
    ">**Kiến thức cốt lõi:**<br>\n",
    ">Trong C++, chúng ta thường làm việc với các khối dữ liệu có kích thước bằng **byte**.\n",
    "\n",
    "Hình ảnh sau đây cho thấy một số địa chỉ bộ nhớ tuần tự, cùng với byte dữ liệu tương ứng:\n",
    ">![](MemoryAddresses.png)\n",
    "\n",
    "\n",
    ">**Ngoài lề**<br>\n",
    ">Một số máy cũ hoặc không theo tiêu chuẩn có thể có byte với kích thước khác nhau (từ 1 đến 48 bit) - tuy nhiên, chúng ta thường không cần lo lắng về những điều này, vì tiêu chuẩn thực tế hiện đại là 1 byte bằng 8 bit. Trong các bài hướng dẫn này, chúng ta sẽ giả sử 1 byte bằng 8 bit."
   ]
  },
  {
   "cell_type": "markdown",
   "id": "ed87071b-2e62-4ef1-bc1e-a4c6804a376c",
   "metadata": {},
   "source": [
    "### **Kiểu dữ liệu**"
   ]
  },
  {
   "cell_type": "markdown",
   "id": "361b91bb-1340-430d-8346-4323eecf271e",
   "metadata": {},
   "source": [
    "Vì tất cả dữ liệu trên máy tính chỉ là một dãy bit, chúng ta sử dụng **kiểu dữ liệu** (thường được gọi tắt là **\"kiểu\"**) để báo cho trình biên dịch cách giải thích nội dung của bộ nhớ theo một cách có ý nghĩa. Bạn đã thấy một ví dụ về kiểu dữ liệu: *số nguyên*. Khi chúng ta khai báo một biến là kiểu số nguyên, chúng ta đang nói với trình biên dịch \"phần bộ nhớ mà biến này sử dụng sẽ được giải thích là một giá trị số nguyên\".\n",
    "\n",
    "Khi bạn gán giá trị cho một đối tượng, trình biên dịch và CPU sẽ xử lý việc mã hóa giá trị của bạn thành chuỗi bit thích hợp cho kiểu dữ liệu đó, sau đó được lưu trữ trong bộ nhớ (nhớ rằng: bộ nhớ chỉ có thể lưu trữ bit). Ví dụ, nếu bạn gán cho một đối tượng kiểu số nguyên giá trị `65`, thì giá trị đó được chuyển đổi thành chuỗi bit `01000001` và được lưu trữ trong bộ nhớ được gán cho đối tượng.\n",
    "\n",
    "Ngược lại, khi đối tượng được đánh giá để tạo ra một giá trị, chuỗi bit đó được khôi phục lại thành giá trị ban đầu. Nghĩa là `01000001` được chuyển đổi trở lại thành giá trị `65`.\n",
    "\n",
    "May mắn thay, trình biên dịch và CPU thực hiện tất cả các công việc khó khăn ở đây, vì vậy bạn thường không cần lo lắng về cách các giá trị được chuyển đổi thành chuỗi bit và ngược lại.\n",
    "\n",
    "Tất cả bạn cần làm là chọn một kiểu dữ liệu cho đối tượng phù hợp nhất với việc sử dụng bạn muốn.\n",
    "\n"
   ]
  },
  {
   "cell_type": "markdown",
   "id": "a4ce0fcc-e67e-4c20-af5f-6d140844f2dd",
   "metadata": {},
   "source": [
    "### **Kiểu dữ liệu cơ bản**"
   ]
  },
  {
   "cell_type": "markdown",
   "id": "88e65dc6-467a-4895-9f8f-1b271f6b3637",
   "metadata": {},
   "source": [
    "C++ cung cấp sẵn hỗ trợ cho nhiều kiểu dữ liệu khác nhau. Chúng được gọi là **kiểu dữ liệu cơ bản (fundamental data types)**, nhưng thường được gọi không chính thức là **kiểu cơ bản (basic types)**, **kiểu nguyên thủy (primitive types)** hoặc **kiểu dựng sẵn (built-in types)**.\n",
    "\n",
    "Dưới đây là danh sách các kiểu dữ liệu cơ bản, một số trong số đó bạn đã từng gặp:"
   ]
  },
  {
   "cell_type": "markdown",
   "id": "f1cedea3-6e6b-42c7-96ba-bd24e3a95908",
   "metadata": {},
   "source": [
    "| Kiểu dữ liệu                                                                                    | Phân loại             | Ý nghĩa                                    | Ví dụ     |\n",
    "|--------------------------------------------------------------------------------------------|-----------------------|--------------------------------------------|-----------|\n",
    "| `float`<br><br>`double`<br><br>`long double`                                                     | Số thực dấu phẩy động | Đi kèm với phần thập phân sau dấu phẩy (chấm)     | `3.1415926` |\n",
    "| `bool`                                                                                       | Integral (Logic)     | Đúng (true) hoặc sai (false)                             | `true`      |\n",
    "| `char`<br><br>`wchar_t`<br><br>`char8_t` (C++20)<br><br>`char16_t` (C++11)<br><br>`char32_t` (C++11) |Integral (ký tự)     | Một ký tự trong bảng chữ cái               | `'c'`<br>   |\n",
    "| `short int`<br><br>`int`<br><br>`long int`<br><br>`long long int` (C++11)                          | Số nguyên (integer)            | Số nguyên âm và số nguyên dương bao gồm 0 | 64        |\n",
    "| `std::nullptr_t` (C++11)                                                                     | Con trỏ null          | Con trỏ null                               | `nullptr`   |\n",
    "| `void`                                                                                       | Void                  | Không có kiểu                              | `void`      |"
   ]
  },
  {
   "cell_type": "markdown",
   "id": "1e32c58f-43e8-4bea-92f3-dff3cd06e4dc",
   "metadata": {},
   "source": [
    "Chương này tập trung khám phá chi tiết các kiểu dữ liệu cơ bản (ngoại trừ `std::nullptr_t`, kiểu này sẽ được thảo luận khi chúng ta nói về con trỏ). C++ cũng hỗ trợ một số kiểu dữ liệu phức tạp hơn, được gọi là **kiểu phức hợp** (compound types). Chúng ta sẽ tìm hiểu về kiểu phức hợp trong một chương học sắp tới.\n",
    "\n",
    ">**Lưu ý của tác giả:**<br>\n",
    ">Các thuật ngữ *integer* (số nguyên) và *integral* (thuộc loại số nguyên) có vẻ tương đồng nhưng đôi khi lại có ý nghĩa khác nhau.\n",
    ">- Trong toán học, *integer* là một số không có phần thập phân hoặc phần phân số, bao gồm cả số âm, số dương và số 0.\n",
    ">- Trong C++, thuật ngữ *integer* thường được dùng để chỉ kiểu dữ liệu `int`, lưu trữ các giá trị số nguyên. Tuy nhiên, đôi khi nó cũng được dùng để chỉ một tập hợp rộng hơn các kiểu dữ liệu thường được sử dụng để lưu trữ và hiển thị các giá trị số nguyên. Điều này bao gồm `short`, `int`, `long`, `long long` và các biến thể có dấu và không dấu của chúng.\n",
    ">- Thuật ngữ *integral* có nghĩa là **\"giống như số nguyên\"**. Thường thì *integral* được sử dụng như một phần của cụm từ \"kiểu thuộc loại số nguyên\", bao gồm tập hợp rộng hơn các kiểu được lưu trữ trong bộ nhớ dưới dạng số nguyên, mặc dù hành vi của chúng có thể khác nhau (chúng ta sẽ thấy chi tiết hơn trong chương này khi nói về các kiểu ký tự `char`). Điều này bao gồm `bool`, các kiểu số nguyên và tất cả các kiểu ký tự khác nhau.\n",
    "\n",
    ">**Ngoài lề**<br>\n",
    ">Hầu hết các ngôn ngữ lập trình hiện đại đều bao gồm một kiểu dữ liệu cơ bản là `string` (chuỗi ký tự là một kiểu dữ liệu cho phép chúng ta lưu trữ một dãy các ký tự, thường được dùng để biểu diễn văn bản). Trong C++, `string` không phải là một kiểu dữ liệu cơ bản (mà là một kiểu phức hợp). Nhưng vì cách sử dụng cơ bản của `string` khá đơn giản và hữu ích, nên chúng ta sẽ giới thiệu về chuỗi trong chương tiếp theo (bài học 5.9 - Giới thiệu về `std::string`)."
   ]
  },
  {
   "cell_type": "markdown",
   "id": "e19b59e4-eb08-4273-b093-84ac9bb88307",
   "metadata": {},
   "source": [
    "### **Hậu tố `_t`**"
   ]
  },
  {
   "cell_type": "markdown",
   "id": "0e1a9aa5-63cf-4d82-bd86-7cc9490a863c",
   "metadata": {},
   "source": [
    "Nhiều kiểu dữ liệu được định nghĩa trong các phiên bản C++ mới hơn (ví dụ `std::nullptr_t`) sử dụng hậu tố `_t`. Hậu tố này có nghĩa là **\"kiểu\" (type)**, và đây là một thuật ngữ phổ biến được áp dụng cho các kiểu dữ liệu hiện đại.\n",
    "\n",
    "Nếu bạn thấy một cái gì đó có hậu tố `_t`, thì có thể nó là một kiểu dữ liệu. Nhưng nhiều kiểu dữ liệu không có hậu tố `_t`, vì vậy điều này không được áp dụng một cách nhất quán."
   ]
  },
  {
   "cell_type": "markdown",
   "id": "3c27b142-c11c-4db0-b484-058f09e19eb4",
   "metadata": {
    "jp-MarkdownHeadingCollapsed": true
   },
   "source": [
    "## **Bài 4.2: <u>`void`</u>** "
   ]
  },
  {
   "cell_type": "markdown",
   "id": "21e72d87-1109-4eb6-b759-0c779feae878",
   "metadata": {},
   "source": [
    "### **`void` - Kiểu dữ liệu đơn giản nhất**"
   ]
  },
  {
   "cell_type": "markdown",
   "id": "d5384144-7942-4eee-8c96-6f542e6ed344",
   "metadata": {},
   "source": [
    "`void` là một trong những kiểu dữ liệu dễ giải thích nhất. Về cơ bản, `void` có nghĩa là **\"không kiểu\"**!\n",
    "\n",
    "`void` là ví dụ đầu tiên về một **kiểu dữ liệu không đầy đủ (incomplete type)**. **Kiểu dữ liệu không đầy đủ** là kiểu đã được khai báo nhưng chưa được định nghĩa. Trình biên dịch biết về sự tồn tại của các kiểu như vậy, nhưng không có đủ thông tin để xác định cần phân bổ bao nhiêu bộ nhớ cho các đối tượng của kiểu đó. `void` được thiết kế là không đầy đủ vì nó đại diện cho sự thiếu kiểu, do đó không thể được định nghĩa.\n",
    "\n",
    "**Kiểu dữ liệu không đầy đủ không thể được khởi tạo:**\n",
    ">```\n",
    ">void value; // Không hợp lệ, biến không thể được khai báo với kiểu không đầy đủ void\n",
    ">```\n",
    "\n",
    "**`void` thường được sử dụng trong một số ngữ cảnh khác nhau:**"
   ]
  },
  {
   "cell_type": "markdown",
   "id": "d2473023-a799-4660-a75f-0fda0a7683c4",
   "metadata": {},
   "source": [
    "### **Hàm không trả về giá trị**"
   ]
  },
  {
   "cell_type": "markdown",
   "id": "4f55cf67-e000-41fd-ad92-63f9a5b0690a",
   "metadata": {},
   "source": [
    "Thông thường nhất, `void` được sử dụng để chỉ rằng một hàm không trả về giá trị:\n",
    "\n",
    ">```\n",
    ">void writeValue(int x) // void ở đây nghĩa là không có giá trị trả về\n",
    ">{\n",
    ">    std::cout << \"Giá trị của x là: \" << x << '\\n';\n",
    ">    // Không có lệnh return, vì hàm này không trả về giá trị\n",
    ">}\n",
    ">```\n",
    "\n",
    "Nếu bạn sử dụng lệnh `return` để cố gắng trả về giá trị trong một hàm như vậy, sẽ dẫn đến lỗi biên dịch:\n",
    "\n",
    ">```\n",
    ">void noReturn(int x) // void ở đây nghĩa là không có giá trị trả về\n",
    ">{\n",
    ">    std::cout << \"Giá trị của x là: \" << x << '\\n';\n",
    ">\n",
    ">    return 5; // Lỗi\n",
    ">}\n",
    ">```\n",
    "\n",
    "Trên Visual Studio 2017, lỗi này sẽ hiển thị:\n",
    ">```\n",
    ">error C2562: 'noReturn': 'void' function returning a value\n",
    ">```"
   ]
  },
  {
   "cell_type": "markdown",
   "id": "c645d275-1fb4-4634-b43b-505feb4c3500",
   "metadata": {},
   "source": [
    "### **Không khuyến khích: Hàm không nhận tham số**"
   ]
  },
  {
   "cell_type": "markdown",
   "id": "1396e9a8-1285-4d99-9574-dcf4fcbc6fab",
   "metadata": {},
   "source": [
    "Trong C, `void` được sử dụng để chỉ rằng một hàm không nhận bất kỳ tham số nào:\n",
    "\n",
    ">```\n",
    ">int getValue(void) // void ở đây nghĩa là không có tham số\n",
    ">{\n",
    ">    int x{};\n",
    ">    std::cin >> x;\n",
    ">\n",
    ">    return x;\n",
    ">}\n",
    ">```\n",
    "\n",
    "Mặc dù đoạn code này có thể biên dịch trong C++ (vì lý do tương thích ngược), cách sử dụng từ khóa `void` này được coi là không khuyến khích trong C++. Đoạn code sau đây tương đương và được ưu tiên hơn trong C++:\n",
    "\n",
    ">```\n",
    ">int getValue() // Danh sách tham số trống ngầm định là void\n",
    ">{\n",
    ">    int x{};\n",
    ">    std::cin >> x;\n",
    ">\n",
    ">    return x;\n",
    ">}\n",
    ">```\n",
    "\n",
    ">**Thực hành tốt nhất:**<br>\n",
    ">Sử dụng danh sách tham số trống thay vì `void` để chỉ rằng một hàm không có tham số."
   ]
  },
  {
   "cell_type": "markdown",
   "id": "1c0611a8-867b-4095-a8bf-2399a5b97e01",
   "metadata": {},
   "source": [
    "### **Những cách sử dụng `void` khác**"
   ]
  },
  {
   "cell_type": "markdown",
   "id": "4acc60f1-7448-4ddd-bf27-72f4734b2ae7",
   "metadata": {},
   "source": [
    "Từ khóa `void` có cách sử dụng thứ ba (nâng cao hơn) trong C++, được đề cập trong phần 19.5 - Con trỏ `void`. Vì chúng ta chưa học về con trỏ, bạn không cần lo lắng về trường hợp này hiện tại.\n",
    "\n",
    "Tiếp tục nào!"
   ]
  },
  {
   "cell_type": "markdown",
   "id": "dabccdd3-daca-4a9a-a899-f51a6aeecc0b",
   "metadata": {
    "jp-MarkdownHeadingCollapsed": true
   },
   "source": [
    "## **Bài 4.3: <u>Kích thước đối tượng và toán tử `sizeof`</u>** "
   ]
  },
  {
   "cell_type": "markdown",
   "id": "49bf6e40-7783-4edc-8624-ba5de5a2ebb7",
   "metadata": {},
   "source": [
    "Như bạn đã học trong bài học [**4.1 - Giới thiệu về kiểu dữ liệu cơ bản**](lesson4_1.ipynb), bộ nhớ trên các máy tính hiện đại thường được tổ chức thành các đơn vị **byte**, mỗi **byte** có một địa chỉ duy nhất. Cho đến thời điểm này, việc coi bộ nhớ như một dãy các ngăn tủ hoặc hộp thư nơi chúng ta có thể lưu trữ và truy xuất thông tin, và biến là tên để truy cập vào các ngăn tủ hoặc hộp thư đó, là một cách hữu ích.\n",
    "\n"
   ]
  },
  {
   "cell_type": "markdown",
   "id": "011705ae-758f-4da1-a14a-d5032df3dc5a",
   "metadata": {},
   "source": [
    "Tuy nhiên, phép so sánh này không hoàn toàn chính xác ở một khía cạnh - hầu hết các đối tượng thực sự chiếm hơn 1 byte bộ nhớ. Một đối tượng đơn có thể sử dụng 1, 2, 4, 8 hoặc thậm chí nhiều địa chỉ bộ nhớ liên tiếp hơn. Lượng bộ nhớ mà một đối tượng sử dụng phụ thuộc vào kiểu dữ liệu của nó.\n",
    "\n",
    "Vì chúng ta thường truy cập bộ nhớ thông qua tên biến (chứ không phải trực tiếp qua địa chỉ bộ nhớ), trình biên dịch có thể ẩn giấu chi tiết về số byte mà một đối tượng nhất định sử dụng khỏi chúng ta. Khi chúng ta truy cập một biến `x`, trình biên dịch biết cần truy xuất bao nhiêu byte dữ liệu (dựa trên kiểu của biến `x`), và có thể xử lý nhiệm vụ đó cho chúng ta.\n",
    "\n",
    "Mặc dù vậy, việc biết một đối tượng sử dụng bao nhiêu bộ nhớ vẫn có ích vì một số lý do.\n",
    "\n",
    "1. **Dung lượng lưu trữ:**\n",
    "\n",
    "    Càng nhiều bộ nhớ một đối tượng sử dụng, thì nó càng chứa được nhiều thông tin.\\\n",
    "    1 bit có thể chứa 2 giá trị khả dĩ, `0` hoặc `1`:\n",
    "    >**Bit 0**<br>\n",
    "    >`0`\\\n",
    "    >`1`\n",
    "\n",
    "    2 bit có thể chứa 4 giá trị khả dĩ:\n",
    "    >**Bit 0**&nbsp;&nbsp;&nbsp;&nbsp;&nbsp;&nbsp;**Bit 1**\\\n",
    "    >`0`&nbsp;&nbsp;&nbsp;&nbsp;&nbsp;&nbsp;&nbsp;&nbsp;&nbsp;&nbsp;`0`\\\n",
    "    >`0`&nbsp;&nbsp;&nbsp;&nbsp;&nbsp;&nbsp;&nbsp;&nbsp;&nbsp;&nbsp;`1`\\\n",
    "    >`1`&nbsp;&nbsp;&nbsp;&nbsp;&nbsp;&nbsp;&nbsp;&nbsp;&nbsp;&nbsp;`0`\\\n",
    "    >`1`&nbsp;&nbsp;&nbsp;&nbsp;&nbsp;&nbsp;&nbsp;&nbsp;&nbsp;&nbsp;`1`\n",
    "\n",
    "    3 bit có thể chứa 8 giá trị khả dĩ:\n",
    "    >**Bit 0**&nbsp;&nbsp;&nbsp;&nbsp;&nbsp;&nbsp;**Bit 1**&nbsp;&nbsp;&nbsp;&nbsp;&nbsp;&nbsp;**Bit 2**\\\n",
    "    >`0`&nbsp;&nbsp;&nbsp;&nbsp;&nbsp;&nbsp;&nbsp;&nbsp;&nbsp;&nbsp;`0`&nbsp;&nbsp;&nbsp;&nbsp;&nbsp;&nbsp;&nbsp;&nbsp;&nbsp;&nbsp;`0`\\\n",
    "    >`0`&nbsp;&nbsp;&nbsp;&nbsp;&nbsp;&nbsp;&nbsp;&nbsp;&nbsp;&nbsp;`0`&nbsp;&nbsp;&nbsp;&nbsp;&nbsp;&nbsp;&nbsp;&nbsp;&nbsp;&nbsp;`1`\\\n",
    "    >`0`&nbsp;&nbsp;&nbsp;&nbsp;&nbsp;&nbsp;&nbsp;&nbsp;&nbsp;&nbsp;`1`&nbsp;&nbsp;&nbsp;&nbsp;&nbsp;&nbsp;&nbsp;&nbsp;&nbsp;&nbsp;`0`\\\n",
    "    >`0`&nbsp;&nbsp;&nbsp;&nbsp;&nbsp;&nbsp;&nbsp;&nbsp;&nbsp;&nbsp;`1`&nbsp;&nbsp;&nbsp;&nbsp;&nbsp;&nbsp;&nbsp;&nbsp;&nbsp;&nbsp;`1`\\\n",
    "    >`1`&nbsp;&nbsp;&nbsp;&nbsp;&nbsp;&nbsp;&nbsp;&nbsp;&nbsp;&nbsp;`0`&nbsp;&nbsp;&nbsp;&nbsp;&nbsp;&nbsp;&nbsp;&nbsp;&nbsp;&nbsp;`0`\\\n",
    "    >`1`&nbsp;&nbsp;&nbsp;&nbsp;&nbsp;&nbsp;&nbsp;&nbsp;&nbsp;&nbsp;`0`&nbsp;&nbsp;&nbsp;&nbsp;&nbsp;&nbsp;&nbsp;&nbsp;&nbsp;&nbsp;`1`\\\n",
    "    >`1`&nbsp;&nbsp;&nbsp;&nbsp;&nbsp;&nbsp;&nbsp;&nbsp;&nbsp;&nbsp;`1`&nbsp;&nbsp;&nbsp;&nbsp;&nbsp;&nbsp;&nbsp;&nbsp;&nbsp;&nbsp;`0`\\\n",
    "    >`1`&nbsp;&nbsp;&nbsp;&nbsp;&nbsp;&nbsp;&nbsp;&nbsp;&nbsp;&nbsp;`1`&nbsp;&nbsp;&nbsp;&nbsp;&nbsp;&nbsp;&nbsp;&nbsp;&nbsp;&nbsp;`1`\n",
    "\n",
    "    Nói chung, một đối tượng có **n** bit (n là một số nguyên) có thể chứa **2<sup>n</sup>** (2 mũ n, cũng thường được viết là 2^n) giá trị duy nhất. Do đó, với một byte 8 bit, một đối tượng có kích thước byte có thể chứa 2<sup>8</sup> (256) giá trị khác nhau. Một đối tượng sử dụng 2 byte có thể chứa 2<sup>16</sup> (65536) giá trị khác nhau!\n",
    "\n",
    "    Do đó, kích thước của đối tượng đặt ra giới hạn cho lượng giá trị duy nhất mà nó có thể lưu trữ - các đối tượng sử dụng nhiều byte hơn có thể lưu trữ một số lượng giá trị duy nhất lớn hơn. Chúng ta sẽ tìm hiểu thêm về điều này khi nói về số nguyên.\n",
    "2. **Bộ nhớ hữu hạn:**\n",
    "\n",
    "    Máy tính có một lượng bộ nhớ trống hữu hạn. Mỗi lần chúng ta định nghĩa một đối tượng, một phần nhỏ của bộ nhớ trống đó được sử dụng miễn là đối tượng tồn tại. Do máy tính hiện đại có rất nhiều bộ nhớ, nên tác động này thường không đáng kể. Tuy nhiên, đối với các chương trình cần một lượng lớn đối tượng hoặc dữ liệu (ví dụ: trò chơi đang render hàng triệu đa giác), thì sự khác biệt giữa sử dụng đối tượng 1 byte và 8 byte có thể rất đáng kể.\n",
    "\n",
    ">**Điểm mấu chốt**<br>\n",
    ">Lập trình viên mới thường quá chú trọng vào việc tối ưu hóa code để sử dụng ít bộ nhớ nhất có thể. Trong hầu hết các trường hợp, điều này không tạo ra sự khác biệt đáng kể. Hãy tập trung vào việc viết code dễ bảo trì và chỉ tối ưu hóa khi nào và ở đâu lợi ích thực sự cần thiết."
   ]
  },
  {
   "cell_type": "markdown",
   "id": "f091b5bf-dce9-46e2-ba00-40a5acb03c43",
   "metadata": {},
   "source": [
    "### **Kích thước kiểu dữ liệu cơ bản** "
   ]
  },
  {
   "cell_type": "markdown",
   "id": "843a3778-dbdf-40e5-8722-fc664e6b6b5a",
   "metadata": {},
   "source": [
    "Câu hỏi hiển nhiên tiếp theo là: **\"Các biến có kiểu dữ liệu khác nhau chiếm bao nhiêu bộ nhớ?\".**\n",
    "\n",
    "Có lẽ điều ngạc nhiên là tiêu chuẩn C++ không định nghĩa kích thước chính xác (theo bit) cho bất kỳ kiểu dữ liệu cơ bản nào. Kiểu `char` phải là 1 byte, nhưng không có giả định rằng một byte bằng 8 bit. Các kiểu giống số nguyên (integral types) có kích thước tối thiểu (theo bit), nhưng có thể lớn hơn.\n",
    "\n",
    "Trong loạt bài hướng dẫn này, chúng ta sẽ sử dụng cách nhìn đơn giản hóa, bằng cách đưa ra một số giả định hợp lý thường đúng cho các kiến trúc hiện đại:\n",
    "- Một byte bằng 8 bit.\n",
    "- Bộ nhớ được truy xuất theo byte, do đó đối tượng nhỏ nhất là 1 byte.\n",
    "- Hỗ trợ dấu phẩy động tuân thủ theo chuẩn IEEE-754.\n",
    "- Chúng ta đang sử dụng kiến trúc 32 bit hoặc 64 bit.\n",
    "\n",
    "Dựa vào những điều kiện trên, chúng ta có thể xác định kích thước của các kiểu dữ liệu cơ bản như sau:"
   ]
  },
  {
   "cell_type": "markdown",
   "id": "2f3475c8-8d95-4de6-8c82-b0b529a4a759",
   "metadata": {},
   "source": [
    "| Mục                        | Kiểu dữ liệu     | Kích thước tối thiểu | Kích thước tiêu chuẩn | Ghi chú               |\n",
    "|----------------------------|------------------|----------------------|-----------------------|-----------------------|\n",
    "| Boolean (logic)            | `bool`           | 1 byte               | 1 byte                |                       |\n",
    "| Kí tự                      | `char`           | 1 byte               | 1 byte                | luôn chính xác 1 byte |\n",
    "|                            | `wchar_t`        | 1 byte               | 2 hoặc 4 byte         |                       |\n",
    "|                            | `char8_t`        | 1 byte               | 1 byte                |                       |\n",
    "|                            | `char16_t`       | 2 byte               | 2 byte                |                       |\n",
    "|                            | `char32_t`       | 4 byte               | 4 byte                |                       |\n",
    "| Số nguyên                  | `short`          | 2 byte               | 2 byte                |                       |\n",
    "|                            | `int`            | 2 byte               | 4 byte                |                       |\n",
    "|                            | `long`           | 4 byte               | 4 hoặc 8 byte         |                       |\n",
    "|                            | `long long`      | 8 byte               | 8 byte                |                       |\n",
    "| So thập phân dấu phẩy động | `float`          | 4 byte               | 4 byte                |                       |\n",
    "|                            | `double`         | 8 byte               | 8 byte                |                       |\n",
    "|                            | `long double`    | 8 byte               | 8, 12 hoặc 16 byte    |                       |\n",
    "| Con trỏ                    | `std::nullptr_t` | 4 byte               | 4 hoặc 8 byte         |                       |"
   ]
  },
  {
   "cell_type": "markdown",
   "id": "2370de16-b9bf-42d7-8c50-1979873e85fd",
   "metadata": {},
   "source": [
    ">**Mẹo**<br>\n",
    ">Để đạt được khả năng di động tối đa (chạy được trên nhiều nền tảng khác nhau), bạn không nên giả định rằng các biến có kích thước lớn hơn kích thước tối thiểu được quy định.<br>\n",
    ">Mặt khác, nếu bạn muốn giả định một kiểu dữ liệu có kích thước nhất định (ví dụ: kiểu `int` có ít nhất 4 byte), bạn có thể sử dụng `static_assert` để yêu cầu trình biên dịch báo lỗi khi biên dịch trên một kiến trúc không đáp ứng giả định này. Chúng ta sẽ tìm hiểu cách thực hiện việc này trong bài học 9.6 - `assert` và `static_assert`.\n",
    "\n",
    ">**Nội dung liên quan**<br>\n",
    ">Nếu bạn đang sử dụng C++ trên một hệ thống không tuân theo các giả định của chúng tôi, hoặc chỉ đơn giản là tò mò, bạn có thể tìm thêm thông tin về những gì tiêu chuẩn C++ nói về kích thước tối thiểu của các kiểu dữ liệu khác nhau [ở đây](https://en.cppreference.com/w/cpp/language/types)."
   ]
  },
  {
   "cell_type": "markdown",
   "id": "a9e519ed-7155-4372-b5ce-e8b8bfb216dc",
   "metadata": {},
   "source": [
    "### **Toán tử `sizeof`**"
   ]
  },
  {
   "cell_type": "markdown",
   "id": "8b5a316a-7fef-417e-bd4b-37396753ee90",
   "metadata": {},
   "source": [
    "Để xác định kích thước của các kiểu dữ liệu trên một máy cụ thể, C++ cung cấp một toán tử tên là `sizeof`. Toán tử `sizeof` là toán tử đơn ngôi nhận một kiểu dữ liệu hoặc một biến và trả về kích thước của nó theo byte. Bạn có thể biên dịch và chạy chương trình sau để xem một số kiểu dữ liệu của bạn có kích thước bao nhiêu:\n",
    "\n",
    ">```\n",
    ">#include <iomanip> // để sử dụng std::setw (hàm này thiết lập độ rộng của đầu ra tiếp theo)\n",
    ">#include <iostream>\n",
    ">\n",
    ">int main()\n",
    ">{\n",
    ">    std::cout << std::left; // canh chỉnh đầu ra sang trái\n",
    ">    std::cout << std::setw(16) << \"bool:\" << sizeof(bool) << \" bytes\\n\";\n",
    ">    std::cout << std::setw(16) << \"char:\" << sizeof(char) << \" bytes\\n\";\n",
    ">    std::cout << std::setw(16) << \"short:\" << sizeof(short) << \" bytes\\n\";\n",
    ">    std::cout << std::setw(16) << \"int:\" << sizeof(int) << \" bytes\\n\";\n",
    ">    std::cout << std::setw(16) << \"long:\" << sizeof(long) << \" bytes\\n\";\n",
    ">    std::cout << std::setw(16) << \"long long:\" << sizeof(long long) << \" bytes\\n\";\n",
    ">    std::cout << std::setw(16) << \"float:\" << sizeof(float) << \" bytes\\n\";\n",
    ">    std::cout << std::setw(16) << \"double:\" << sizeof(double) << \" bytes\\n\";\n",
    ">    std::cout << std::setw(16) << \"long double:\" << sizeof(long double) << \" bytes\\n\";\n",
    ">\n",
    ">    return 0;\n",
    ">}\n",
    "\n",
    "Kết quả đầu ra trên máy của tác giả:\n",
    ">```\n",
    ">bool:           1 bytes\n",
    ">char:           1 bytes\n",
    ">short:          2 bytes\n",
    ">int:            4 bytes\n",
    ">long:           4 bytes\n",
    ">long long:      8 bytes\n",
    ">float:          4 bytes\n",
    ">double:         8 bytes\n",
    ">long double:    8 bytes\n",
    "\n",
    "Lưu ý rằng kết quả của bạn có thể khác nhau tùy thuộc vào trình biên dịch, kiến trúc máy tính, hệ điều hành, cài đặt biên dịch (32-bit vs 64-bit), v.v."
   ]
  },
  {
   "cell_type": "markdown",
   "id": "073e487b-2a0d-4197-be33-93defb73e090",
   "metadata": {},
   "source": [
    "Sử dụng `sizeof` trên kiểu dữ liệu không đầy đủ sẽ dẫn đến lỗi biên dịch. Ví dụ, sử dụng `sizeof` trên `void` sẽ gây ra lỗi.\n",
    "\n",
    "Bạn cũng có thể sử dụng toán tử `sizeof` trên tên biến:\n",
    ">```\n",
    ">#include <iostream>\n",
    ">\n",
    ">int main()\n",
    ">{\n",
    ">    int x{};\n",
    ">    std::cout << \"x is \" << sizeof(x) << \" bytes\\n\";\n",
    ">\n",
    ">    return 0;\n",
    ">}\n",
    ">```\n",
    "\n",
    "**Kết quả:**\n",
    ">```\n",
    ">x is 4 bytes\n",
    ">```\n",
    "\n",
    ">**Đối với người đọc nâng cao:**\n",
    ">`sizeof` không bao gồm bộ nhớ được cấp phát động được sử dụng bởi một đối tượng. Chúng tôi sẽ thảo luận về cấp phát bộ nhớ động trong một bài học sau."
   ]
  },
  {
   "cell_type": "markdown",
   "id": "7a9faa27-b9b2-4fd9-b07a-14f707cf483b",
   "metadata": {},
   "source": [
    "### **Hiệu suất của kiểu dữ liệu cơ bản:**"
   ]
  },
  {
   "cell_type": "markdown",
   "id": "50f2236d-1d23-4a7e-be53-66fcc58e6ef2",
   "metadata": {},
   "source": [
    "Trên các máy tính hiện đại, các đối tượng của các kiểu dữ liệu cơ bản hoạt động nhanh, vì vậy hiệu suất khi sử dụng hoặc sao chép các kiểu này thường không cần quan tâm.\n",
    "\n",
    ">**Ngoài lề**<br>\n",
    ">Bạn có thể cho rằng các kiểu dữ liệu sử dụng ít bộ nhớ sẽ nhanh hơn các kiểu dữ liệu sử dụng nhiều bộ nhớ. Điều này không luôn luôn đúng. CPU thường được tối ưu hóa để xử lý dữ liệu có kích thước nhất định (ví dụ: 32 bit) và các kiểu dữ liệu phù hợp với kích thước đó có thể được xử lý nhanh hơn. Trên một máy tính như vậy, kiểu `int` 32 bit có thể nhanh hơn kiểu `short` 16 bit hoặc `char` 8 bit."
   ]
  },
  {
   "cell_type": "markdown",
   "id": "08206047-b7b0-43c5-b2bc-29ee7417dbe9",
   "metadata": {
    "jp-MarkdownHeadingCollapsed": true
   },
   "source": [
    "## **Bài 4.4: <u>Số nguyên có dấu</u>** "
   ]
  },
  {
   "cell_type": "markdown",
   "id": "a4d6d515-f8a5-4c3f-892e-aa94bd750b19",
   "metadata": {},
   "source": [
    "**Số nguyên (integer)** là một kiểu dữ liệu nguyên có thể biểu diễn các số nguyên dương, âm và số 0 (ví dụ: `-2`, `-1`, `0`, `1`, `2`). C++ cung cấp 4 kiểu số nguyên cơ bản chính để sử dụng:\n",
    "\n",
    "| Kiểu        | Kích thước tối thiểu | Ghi chú                                      |\n",
    "|-------------|----------------------|----------------------------------------------|\n",
    "| `short`     | 16 bits              |                                              |\n",
    "| `int`       | 16 bits              | Thường là 32 bit trên các kiến trúc hiện đại |\n",
    "| `long`      | 32 bits              |                                              |\n",
    "| `long long` | 64 bits              |                                              |\n",
    "\n",
    "Sự khác biệt chính giữa các kiểu số nguyên khác nhau là kích thước của chúng - các số nguyên lớn hơn có thể chứa các số lớn hơn.\n",
    "\n",
    ">**Lưu ý:**<br>\n",
    ">C++ chỉ đảm bảo rằng các số nguyên sẽ có một kích thước tối thiểu nhất định, chứ không đảm bảo chúng sẽ có một kích thước cụ thể. Xem bài học [**4.3 - Kích thước đối tượng và toán tử `sizeof`**](lesson4_3.ipynb) để biết thông tin về cách xác định kích thước của mỗi kiểu trên máy tính của bạn.\n",
    "\n",
    ">**Ngoài lề:**<br>\n",
    ">Về mặt kỹ thuật, các kiểu `bool` và `char` được coi là các kiểu nguyên (bởi vì các kiểu này lưu trữ giá trị của chúng dưới dạng giá trị nguyên). Trong một bài học tiếp theo, chúng tôi sẽ loại trừ các kiểu này khỏi bài thảo luận."
   ]
  },
  {
   "cell_type": "markdown",
   "id": "0822e15f-f2c4-4cd6-902a-4d293825c733",
   "metadata": {},
   "source": [
    "### **Số nguyên có dấu**"
   ]
  },
  {
   "cell_type": "markdown",
   "id": "c6a5605c-244f-43a9-93d0-6b5fe0192a33",
   "metadata": {},
   "source": [
    "Trong cuộc sống hàng ngày, khi muốn viết các số âm, chúng ta sử dụng **dấu trừ**. Ví dụ, `-3` có nghĩa là \"âm 3\". Chúng ta cũng thường hiểu `+3` là \"dương 3\" (mặc dù theo quy ước thông thường, chúng ta thường bỏ qua tiền tố cộng).\n",
    "\n",
    "Thuộc tính là dương, âm hay bằng 0 này được gọi là dấu của số.\n",
    "\n",
    "Theo mặc định, các số nguyên trong C++ là có dấu, nghĩa là dấu của số được lưu trữ như một phần của số. Do đó, một số nguyên có dấu có thể chứa cả số dương, số âm và số 0.\n",
    "\n",
    "Trong bài học này, chúng ta sẽ tập trung vào các số nguyên có dấu. Chúng ta sẽ thảo luận về các số nguyên không dấu (chỉ có thể chứa các số không âm) trong bài học tiếp theo.\n",
    "\n",
    ">**Nội dung liên quan**<br>\n",
    ">Trong biểu diễn nhị phân, một bit duy nhất (gọi là bit dấu) được sử dụng để lưu trữ dấu của số. Các bit không dấu (gọi là bit trị tuyệt đối) xác định giá trị tuyệt đối của số.\n",
    ">\n",
    ">Chúng ta sẽ thảo luận về cách sử dụng bit dấu khi biểu diễn số trong nhị phân trong bài học O.4 - Chuyển đổi số nguyên giữa biểu diễn nhị phân và thập phân."
   ]
  },
  {
   "cell_type": "markdown",
   "id": "5208aa6e-54d6-4290-8c24-708ec06d026c",
   "metadata": {},
   "source": [
    "### **Định nghĩa số nguyên có dấu**"
   ]
  },
  {
   "cell_type": "markdown",
   "id": "6e308dd4-fbde-4648-bb47-731ba7958116",
   "metadata": {},
   "source": [
    "Đây là cách ưa thích để định nghĩa bốn kiểu số nguyên có dấu:\n",
    "\n",
    ">```\n",
    ">short s;      // ưu tiên \"short\" thay vì \"short int\"\n",
    ">int i;\n",
    ">long l;       // ưu tiên \"long\" thay vì \"long int\"\n",
    ">long long ll; // ưu tiên \"long long\" thay vì \"long long int\"\n",
    ">\n",
    "Mặc dù `short int`, `long int`, hoặc `long long int` đều hoạt động, chúng ta thích sử dụng các tên viết tắt cho các kiểu này (không sử dụng hậu tố `int`). Ngoài việc gõ phím ít hơn, việc thêm hậu tố `int` khiến kiểu dữ liệu khó phân biệt hơn với các biến kiểu `int`. Điều này có thể dẫn đến sai lầm nếu vô tình bỏ qua các từ sửa đổi `short` hoặc `long`.\n",
    "\n",
    "Các kiểu số nguyên cũng có thể sử dụng từ khóa `signed` tùy chọn, theo quy ước, thường được đặt trước tên kiểu:\n",
    "\n",
    ">```\n",
    ">signed short ss;\n",
    ">signed int si;\n",
    ">signed long sl;\n",
    ">signed long long sll;\n",
    ">```\n",
    "\n",
    "Tuy nhiên, từ khóa này không nên được sử dụng vì nó là thừa, vì các số nguyên có dấu theo mặc định.\n",
    "\n",
    ">**Thực hành tốt nhất**<br>\n",
    "Ưu tiên các kiểu viết tắt không sử dụng hậu tố `int` hoặc tiền tố `signed`."
   ]
  },
  {
   "cell_type": "markdown",
   "id": "7c749281-c308-459d-a218-a0299a064eb4",
   "metadata": {},
   "source": [
    "### **Phạm vi của số nguyên có dấu**"
   ]
  },
  {
   "cell_type": "markdown",
   "id": "f1b289f9-b25d-4f15-9ee7-2e5357b4b033",
   "metadata": {},
   "source": [
    "Như bạn đã học được trong phần trước, một biến có **n bit** có thể chứa **2<sup>n</sup>** giá trị khả thi. Nhưng các giá trị cụ thể nào? Chúng ta gọi tập hợp các giá trị cụ thể mà một kiểu dữ liệu có thể chứa là phạm vi của nó. Phạm vi của một biến số nguyên được xác định bởi hai yếu tố: kích thước của nó (theo bit) và nó có dấu hay không.\n",
    "\n",
    "Theo định nghĩa, một số nguyên có dấu **8 bit** có phạm vi từ `-128` đến `127`. Điều này có nghĩa là một số nguyên có dấu có thể lưu trữ an toàn bất kỳ giá trị số nguyên nào giữa `-128` và `127` (bao gồm cả giá trị cuối).\n",
    "\n",
    ">**Ngoài lề:**<br>\n",
    ">*Math time:* một số nguyên 8 bit chứa 8 bit. 2<sup>8</sup> là 256, do đó một số nguyên 8 bit có thể chứa 256 giá trị khả thi. Có 256 giá trị khả thi giữa `-128` đến `127`, bao gồm cả giá trị đầu mút.\\\n",
    ">7 bit được sử dụng để chứa giá trị tuyệt đối của số, và 1 bit được sử dụng để chứa dấu.\n",
    "\n",
    "Bảng dưới đây chứa phạm vi của các số nguyên có dấu có kích thước khác nhau:\n",
    "\n",
    "| Kích thước/Kiểu | Phạm vi                                                  |\n",
    "|-----------------|----------------------------------------------------------|\n",
    "| 8 bit signed    | -128 đến 127                                             |\n",
    "| 16 bit signed   | -32,768 đến 32,767                                       |\n",
    "| 32 bit signed   | -2,147,483,648 đến 2,147,483,647                         |\n",
    "| 64 bit signed   | -9,223,372,036,854,775,808 đến 9,223,372,036,854,775,807 |\n",
    "\n",
    "Đối với những người thích toán học, một biến có dấu **n-bit** có phạm vi từ **-2<sup>n-1</sup> đến 2<sup>n-1</sup>-1**.\n",
    "\n",
    "Đối với những người không thích toán học... hãy sử dụng bảng. :)"
   ]
  },
  {
   "cell_type": "markdown",
   "id": "df447a25-4abe-4abb-bf78-da630475d4dc",
   "metadata": {},
   "source": [
    "### **Tràn số (Overflow)**"
   ]
  },
  {
   "cell_type": "markdown",
   "id": "a9068032-bdfe-41bb-94a1-163e25de5ded",
   "metadata": {},
   "source": [
    "Điều gì xảy ra nếu chúng ta cố gắng gán giá trị `140` cho một số nguyên có dấu 8 bit? Số này nằm ngoài phạm vi mà một số nguyên có dấu 8 bit có thể chứa. Số `140` cần 9 bit để biểu diễn (8 bit giá trị tuyệt đối và 1 bit dấu), nhưng chúng ta chỉ có 8 bit (7 bit giá trị tuyệt đối và 1 bit dấu) khả dụng trong một số nguyên có dấu 8 bit.\n",
    "\n",
    "Tiêu chuẩn **C++20** đưa ra tuyên bố bao quát này:\\\n",
    "\"Nếu trong quá trình tính toán một biểu thức, kết quả không được xác định về mặt toán học hoặc không nằm trong phạm vi các giá trị có thể biểu diễn cho kiểu của nó, thì hành vi đó là hành vi bất định\".\\\n",
    "Theo diễn giải thông thường, điều này được gọi là **tràn số (overflow)**.\n",
    "\n",
    "Do đó, việc gán giá trị `140` cho một số nguyên có dấu 8 bit sẽ dẫn đến hành vi bất định.\n",
    "\n",
    "Nếu một phép toán số học (như cộng hoặc nhân) cố gắng tạo ra một giá trị nằm ngoài phạm vi có thể biểu diễn được, thì điều này được gọi là **tràn số nguyên (integer overflow)** (hoặc **tràn số học**). Đối với các số nguyên có dấu, **tràn số nguyên** sẽ dẫn đến **hành vi bất định**."
   ]
  },
  {
   "cell_type": "markdown",
   "id": "0eb07e78-9f03-4509-9edf-83dfb40f1cf7",
   "metadata": {},
   "source": [
    ">```\n",
    ">#include <iostream>\n",
    ">\n",
    ">int main()\n",
    ">{\n",
    ">    // Giả sử số nguyên chiếm 4 byte\n",
    ">    int x { 2'147'483'647 }; // giá trị tối đa của một số nguyên có dấu 4 byte\n",
    ">    std::cout << x << '\\n';\n",
    ">\n",
    ">    x = x + 1; // tràn số nguyên, hành vi không xác định\n",
    ">    std::cout << x << '\\n';\n",
    ">\n",
    ">    return 0;\n",
    ">}\n",
    ">```\n",
    "\n",
    "Trên máy của tác giả, mã trên in ra:\n",
    ">```\n",
    ">2147483647\n",
    ">-2147483648\n",
    ">```\n",
    "\n",
    "Tuy nhiên, vì kết quả thứ hai là kết quả của hành vi bất định, nên giá trị xuất ra có thể thay đổi trên máy của bạn.\n",
    "\n",
    ">**Đối với người đọc nâng cao**<br>\n",
    "Chúng ta sẽ đề cập về những gì xảy ra khi số nguyên không dấu bị tràn trong bài học 4.5 - Số nguyên không dấu và lý do tại sao nên tránh chúng.\n",
    "\n",
    "Nhìn chung, tràn số dẫn đến mất thông tin, điều này hầu như không mong muốn. Nếu có bất kỳ nghi ngờ nào rằng một đối tượng có thể cần lưu trữ một giá trị nằm ngoài phạm vi của nó, hãy sử dụng một kiểu dữ liệu có phạm vi lớn hơn!"
   ]
  },
  {
   "cell_type": "markdown",
   "id": "cf0e4756-3fdc-4efd-b41f-7a54693b65f5",
   "metadata": {},
   "source": [
    "### **Phép chia số nguyên**"
   ]
  },
  {
   "cell_type": "markdown",
   "id": "03cb36ee-d281-450c-8ccb-91f64e67df80",
   "metadata": {},
   "source": [
    "Khi chia hai số nguyên, C++ hoạt động như chúng ta mong đợi khi thương là một số nguyên:\n",
    ">```\n",
    ">#include <iostream>\n",
    ">\n",
    ">int main()\n",
    ">{\n",
    ">    std::cout << 20 / 4 << '\\n';\n",
    ">    return 0;\n",
    ">}\n",
    ">```\n",
    "\n",
    "Điều này tạo ra kết quả mong đợi:\n",
    ">`5`\n",
    "\n",
    "Nhưng hãy xem điều gì xảy ra khi phép chia số nguyên tạo ra kết quả là một số thập phân:\n",
    ">```\n",
    ">#include <iostream>\n",
    ">\n",
    ">int main()\n",
    ">{\n",
    ">    std::cout << 8 / 5 << '\\n';\n",
    ">    return 0;\n",
    ">}\n",
    ">```\n",
    "\n",
    "Điều này có thể tạo ra một kết quả không mong đợi:\n",
    ">`1`\n",
    "\n",
    "Khi thực hiện phép chia với hai số nguyên (được gọi là **phép chia số nguyên**), C++ luôn tạo ra một **kết quả nguyên**. Vì các số nguyên không thể chứa các giá trị thập phân, bất kỳ phần thập phân nào cũng đơn giản bị loại bỏ (không được làm tròn!).\n",
    "\n",
    "Xem xét kỹ hơn ví dụ trên, `8 / 5` cho ra giá trị `1.6`. Phần thập phân (`0.6`) bị loại bỏ và kết quả là `1`. Ngoài ra, chúng ta có thể nói `8 / 5` bằng `1` dư `3`. Số dư bị loại bỏ, chỉ còn `1`.\n",
    "\n",
    "Tương tự, `-8 / 5` cho ra giá trị `-1`.\n",
    "\n",
    ">**Cảnh báo**<br>\n",
    ">Hãy cẩn thận khi sử dụng phép chia số nguyên, vì bạn sẽ mất bất kỳ phần thập phân nào của thương. Tuy nhiên, nếu đó là điều bạn muốn, phép chia số nguyên là an toàn để sử dụng vì kết quả có thể dự đoán được.\n",
    "\n",
    ">Nếu cần kết quả thập phân, chúng tôi sẽ hướng dẫn phương pháp thực hiện việc này trong bài học 6.2 - Toán tử số học."
   ]
  },
  {
   "cell_type": "markdown",
   "id": "d13dc0aa-f924-4c92-a341-31e9c89acca3",
   "metadata": {},
   "source": [
    "### **Trắc nghiệm**"
   ]
  },
  {
   "cell_type": "markdown",
   "id": "9e09ab9a-b62a-4552-81c1-0ee325a3fc4d",
   "metadata": {},
   "source": [
    "**Câu hỏi #1**<br>\n",
    "Phạm vi của một số nguyên có dấu 5 bit sẽ là gì?\n",
    "\n",
    "<details>\n",
    "<summary><b>Lời giải:</b></summary>\n",
    "\n",
    "Một số 5 bit có thể hỗ trợ 2<sup>5</sup> = 32 giá trị duy nhất. Đối với một số nguyên có dấu, chúng được chia gần bằng nhau giữa các số dương và âm, với số âm nhận thêm một giá trị. Vì vậy, phạm vi sẽ là từ `-16` đến `15`.\n",
    "\n",
    "Một cách khác để suy nghĩ về điều này: 1 trong 5 bit được yêu cầu để chứa dấu. Điều đó còn lại 4 bit cho giá trị tuyệt đối. Với 4 bit, chúng ta có 16 giá trị duy nhất. Ở phía âm, các bit giá trị tuyệt đối này biểu diễn các giá trị từ `-1` đến `-16`. Ở phía không âm, các bit giá trị tuyệt đối này biểu diễn các giá trị từ `0` đến `15`. Phía không âm có phạm vi ít hơn một giá trị vì nó bao gồm `0`.\n",
    "</details>"
   ]
  },
  {
   "cell_type": "markdown",
   "id": "03606aa6-8fef-4c89-ac8e-078b10b6ed15",
   "metadata": {},
   "source": [
    "**Câu hỏi #2**<br>\n",
    "***a***) Kết quả của `13 / 5` là gì?\n",
    "<details>\n",
    "<summary><b>Lời giải:</b></summary>\n",
    "\n",
    "`13 / 5` = `2` dư `3`. Số dư bị loại bỏ, chỉ còn `2`.\n",
    "</details>\n",
    "\n",
    "\n",
    "***b***) Kết quả của `-13 / 5` là gì?\n",
    "<details>\n",
    "<summary><b>Lời giải:</b></summary>\n",
    "    \n",
    "`-13 / 5` = `-2` dư `-3`. Số dư bị loại bỏ, chỉ còn `-2`.\n",
    "</details>"
   ]
  },
  {
   "cell_type": "markdown",
   "id": "52741b06-a722-4b18-8dba-e001b7cab4a6",
   "metadata": {
    "jp-MarkdownHeadingCollapsed": true
   },
   "source": [
    "## **Bài 4.5: <u>Số nguyên không dấu (Unsigned integers) và tại sao nên tránh sử dụng chúng</u>**"
   ]
  },
  {
   "cell_type": "markdown",
   "id": "1eaa1ab1-a79f-4730-a878-a0e5748b4782",
   "metadata": {},
   "source": [
    "### **Số nguyên không dấu**"
   ]
  },
  {
   "cell_type": "markdown",
   "id": "2e2bbbe8-f2ec-4554-88fd-3fb61465060b",
   "metadata": {},
   "source": [
    "Trong bài học trước ([**Bài 4.4: Số nguyên có dấu**](lesson4_4.ipynb)), chúng ta đã tìm hiểu về số nguyên có dấu, là một tập hợp các kiểu dữ liệu có thể chứa các số nguyên dương, âm và số 0.\n",
    "\n",
    "C++ cũng hỗ trợ các số nguyên không dấu. Số nguyên không dấu là các số nguyên chỉ có thể chứa các số nguyên không âm."
   ]
  },
  {
   "cell_type": "markdown",
   "id": "7d4f7f1e-2bb4-4128-9985-dff93756a351",
   "metadata": {},
   "source": [
    "### **Định nghĩa số nguyên không dấu**"
   ]
  },
  {
   "cell_type": "markdown",
   "id": "838d75bf-f477-4c20-9a30-f92bd48e6df2",
   "metadata": {},
   "source": [
    "Để định nghĩa một số nguyên không dấu, chúng ta sử dụng từ khóa `unsigned`. Theo quy ước, từ khóa này được đặt trước kiểu dữ liệu:\n",
    "\n",
    ">```\n",
    ">unsigned short us;\n",
    ">unsigned int ui;\n",
    ">unsigned long ul;\n",
    ">unsigned long long ull;\n",
    ">```"
   ]
  },
  {
   "cell_type": "markdown",
   "id": "658c5191-7cdf-46a8-95ea-73e5a2dfaa82",
   "metadata": {},
   "source": [
    "### **Phạm vi của số nguyên không dấu**"
   ]
  },
  {
   "cell_type": "markdown",
   "id": "1ca581c9-0163-4c3b-af7a-7bd40a4fd8ff",
   "metadata": {},
   "source": [
    "Một số nguyên không dấu 1 byte có phạm vi từ `0` đến `255`. So sánh điều này với phạm vi của số nguyên có dấu 1 byte là từ `-128` đến `127`. Cả hai đều có thể lưu trữ **256** giá trị khác nhau, nhưng số nguyên có dấu sử dụng một nửa phạm vi của chúng cho các số âm, trong khi số nguyên không dấu có thể lưu trữ các số dương lớn gấp đôi.\n",
    "\n",
    "Bảng dưới đây hiển thị phạm vi của số nguyên không dấu:\n",
    "\n",
    "| Kích thước/Kiểu | Phạm vi                          |\n",
    "|-----------------|----------------------------------|\n",
    "| 8 bit unsigned  | 0 đến 255                        |\n",
    "| 16 bit signed   | 0 đến 65,535                     |\n",
    "| 32 bit signed   | 0 đến 4,294,967,295              |\n",
    "| 64 bit signed   | 0 đến 18,446,744,073,709,551,615 |p\n",
    "\n",
    "Một biến không dấu **n-bit** có phạm vi từ **0** đến **2<sup>n</sup>-1**.\n",
    "\n",
    "Số nguyên không dấu phù hợp cho các tình huống **không yêu cầu lưu trữ các số âm**, chẳng hạn như mạng và các hệ thống có ít bộ nhớ, vì số nguyên không dấu có thể lưu trữ nhiều số dương hơn mà không chiếm thêm bộ nhớ."
   ]
  },
  {
   "cell_type": "markdown",
   "id": "3bd8e8b8-0778-4b3b-9416-8b71285c54e7",
   "metadata": {},
   "source": [
    "### **Lưu ý các thuật ngữ `signed` và `unsigned`**"
   ]
  },
  {
   "cell_type": "markdown",
   "id": "fc69b96a-ec13-4114-bfeb-af081f0939bd",
   "metadata": {},
   "source": [
    "Lập trình viên mới đôi khi bị nhầm lẫn giữa **`signed`** và **`unsigned`**. Dưới đây là một cách đơn giản để ghi nhớ sự khác biệt: để phân biệt các số âm với các số dương, chúng ta sử dụng dấu âm. Nếu không có dấu, chúng ta mặc định số đó là dương. Do đó, một **số nguyên có dấu** (signed integer) có thể **phân biệt** giữa **số dương** và **số âm**. Một **số nguyên không dấu** (unsigned integer) giả định tất cả các giá trị đều **dương**."
   ]
  },
  {
   "cell_type": "markdown",
   "id": "73277367-21ab-4e8c-9513-b8fafaab32d3",
   "metadata": {},
   "source": [
    "### **Tràn số nguyên không dấu (Unsigned integer overflow)**"
   ]
  },
  {
   "cell_type": "markdown",
   "id": "82830a04-4b83-4a91-8b57-1c8d52e29f07",
   "metadata": {},
   "source": [
    "Điều gì xảy ra nếu chúng ta cố gắng lưu trữ số `280` (yêu cầu 9 bit để biểu diễn) trong một số nguyên không dấu 1 byte (8 bit)? Câu trả lời là **tràn số** (overflow)."
   ]
  },
  {
   "cell_type": "markdown",
   "id": "f50d1466-b844-4e46-8370-bf418f542862",
   "metadata": {},
   "source": [
    ">**Lưu ý của tác giả**<br>\n",
    ">Điều lạ là tiêu chuẩn C++ nói rõ ràng rằng: \"Một phép toán liên quan đến toán hạng không dấu không bao giờ có thể bị tràn số\". Điều này trái ngược với sự đồng thuận lập trình chung cho rằng tràn số nguyên bao gồm cả các trường hợp `signed` và `unsigned` [<sup>dẫn nguồn</sup>](https://en.wikipedia.org/wiki/Integer_overflow#Definition_variations_and_ambiguity). Cho rằng hầu hết các lập trình viên sẽ coi đây là tràn số, chúng tôi sẽ gọi đây là tràn số bất chấp tuyên bố ngược lại của tiêu chuẩn C++."
   ]
  },
  {
   "cell_type": "markdown",
   "id": "b30be9c8-7871-411a-8eb5-be1301d64d4d",
   "metadata": {},
   "source": [
    "Nếu một giá trị không dấu nằm ngoài phạm vi, nó sẽ được chia cho (*giá trị lớn nhất kiểu đó* + 1) và chỉ giữ lại phần dư. (*phép modulo*)\n",
    "\n",
    "Số `280` quá lớn để có thể chứa trong phạm vi 1 byte của chúng ta từ `0` đến `255`. (*giá trị lớn nhất kiểu này* + 1) là 256. Do đó, chúng ta chia `280` cho `256`, được kết quả là `1` dư `24`. Phần dư `24` là thứ được lưu trữ.\n",
    "\n",
    "**Ví dụ về điều này khi sử dụng kiểu short 2 byte:**\n",
    "\n",
    ">```\n",
    ">#include <iostream>\n",
    ">\n",
    ">int main()\n",
    ">{\n",
    ">    unsigned short x{ 65535 }; // giá trị không dấu 16-bit lớn nhất có thể\n",
    ">    std::cout << \"x was: \" << x << '\\n';\n",
    ">\n",
    ">    x = 65536; // 65536 nằm ngoài phạm vi của chúng ta, vì vậy chúng ta có modulo wrap-around\n",
    ">    std::cout << \"x is now: \" << x << '\\n';\n",
    ">\n",
    ">    x = 65537; // 65537 nằm ngoài phạm vi của chúng ta, vì vậy chúng ta có modulo wrap-around\n",
    ">    std::cout << \"x is now: \" << x << '\\n';\n",
    ">\n",
    ">    return 0;\n",
    ">}"
   ]
  },
  {
   "cell_type": "markdown",
   "id": "429c8913-601c-4fca-af27-fb55cfccd7c9",
   "metadata": {},
   "source": [
    "Bạn nghĩ kết quả của chương trình này sẽ là gì?\n",
    "\n",
    "(**Lưu ý:** Nếu bạn cố gắng biên dịch chương trình trên, trình biên dịch của bạn sẽ đưa ra cảnh báo về tràn số hoặc cắt bớt - bạn sẽ cần tắt *\"Treat warnings as errors\"* để chạy chương trình)\n",
    ">```\n",
    ">x was: 65535\n",
    ">x is now: 0\n",
    ">x is now: 1\n",
    ">```"
   ]
  },
  {
   "cell_type": "markdown",
   "id": "31f814de-ae27-48de-b08e-7541193067c2",
   "metadata": {},
   "source": [
    "Cũng có thể tràn số theo hướng khác. `0` có thể được biểu diễn trong một số nguyên không dấu 2 byte, vì vậy điều đó ổn. `-1` không thể biểu diễn được, vì vậy nó sẽ cuộn tròn lên đầu phạm vi, tạo ra giá trị `65535`. `-2` cuộn tròn thành `65534`. Và cứ thế.\n",
    "\n",
    ">```\n",
    ">#include <iostream>\n",
    ">\n",
    ">int main()\n",
    ">{\n",
    ">    unsigned short x{ 0 }; // giá trị không dấu 2-byte nhỏ nhất có thể\n",
    ">    std::cout << \"x was: \" << x << '\\n';\n",
    ">\n",
    ">    x = -1; // -1 nằm ngoài phạm vi của chúng ta, vì vậy chúng ta có modulo wrap-around\n",
    ">    std::cout << \"x is now: \" << x << '\\n';\n",
    ">\n",
    ">    x = -2; // -2 nằm ngoài phạm vi của chúng ta\n",
    ">```\n",
    "\n",
    "**Kết quả:**\n",
    ">```\n",
    ">x was: 0\n",
    ">x is now: 65535\n",
    ">x is now: 65534\n",
    ">```\n",
    "\n",
    ">**Ngoài lề**<br>\n",
    ">Nhiều lỗi nghiêm trọng trong lịch sử trò chơi điện tử xảy ra do hành vi \"wrap-around\" (modulo wrapping) với số nguyên không dấu. Trong trò chơi arcade Donkey Kong, không thể vượt qua level 22 do lỗi tràn số khiến người chơi không đủ thời gian thưởng để hoàn thành level.\n",
    ">\n",
    ">Trong game PC Civilization, Gandhi nổi tiếng là người đầu tiên sử dụng vũ khí hạt nhân, điều này trái ngược với tính cách ôn hòa vốn có của ông. Theo giả thuyết của người chơi, ban đầu Gandhi được đặt mức độ hung hăng là 1. Tuy nhiên, nếu ông chọn chính phủ dân chủ, ông sẽ nhận được bộ điều chỉnh tính hung hăng -2 (giảm giá trị hung hăng hiện tại xuống 2). Điều này khiến mức độ hung hăng của Gandhi \"chuyển thành giá trị đầu\" thành 255, biến ông thành kẻ hung hăng tối đa! Tuy nhiên, Sid Meier (tác giả của trò chơi) đã đính chính rằng đây không phải là nguyên nhân thực sự dẫn đến hành vi này."
   ]
  },
  {
   "cell_type": "markdown",
   "id": "973411c1-80e2-47be-8eba-ecd83f445ae4",
   "metadata": {},
   "source": [
    "### **Tranh luận về số nguyên không dấu (Unsigned Integers)**"
   ]
  },
  {
   "cell_type": "markdown",
   "id": "a87d6311-d9a1-4c83-93a2-e318ca0c684f",
   "metadata": {},
   "source": [
    "Nhiều lập trình viên (và cả một số công ty phát triển lớn như Google) cho rằng nên hạn chế sử dụng số nguyên không dấu.\n",
    "\n",
    "Lý do chính cho khuyến cáo này là hai hành vi có thể gây ra vấn đề:\n",
    "- Thứ nhất, với số nguyên có dấu, việc tràn số về giá trị tối đa hoặc tối thiểu (dương lớn nhất hoặc âm bé nhất) khó xảy ra hơn vì các giá trị này cách xa 0. Ngược lại, với số nguyên không dấu, tràn số về giá trị tối thiểu (`0`) rất dễ xảy ra bởi `0` thường gần với các giá trị hay dùng.\n",
    "\n",
    "    **Ví dụ:** Hãy xem xét phép trừ hai số nguyên không dấu `2` và `3`:\n",
    "    >```\n",
    "    >#include <iostream>\n",
    "    >// giả sử int là 4 byte\n",
    "    >int main()\n",
    "    >{\n",
    "    >    unsigned int x{ 2 };\n",
    "    >    unsigned int y{ 3 };\n",
    "    >\n",
    "    >    std::cout << x - y << '\\n'; // in ra 4294967295 (sai!)\n",
    "    >\n",
    "    >    return 0;\n",
    "    >}\n",
    "    >```\n",
    "    \n",
    "    Chúng ta biết rằng `2 - 3` bằng `-1`, nhưng `-1` không thể biểu diễn được trong một số nguyên không dấu, nên xảy ra tràn số và kết quả là:\n",
    "    >`4294967295`\n",
    "\n",
    "    Một trường hợp \"cuộn tròn\" (wrap-around) không mong muốn khác xảy ra khi một số nguyên không dấu liên tục bị giảm `1` đơn vị cho đến khi nó cố gắng giảm xuống thành một số âm. Bạn sẽ thấy ví dụ về điều này khi tìm hiểu về vòng lặp.\n",
    "- Thứ hai, và nguy hiểm hơn, là hành vi không mong muốn có thể xảy ra khi trộn lẫn số nguyên có dấu và số nguyên không dấu. Trong C++, nếu một phép toán (ví dụ toán học hoặc so sánh) có một số nguyên có dấu và một số nguyên không dấu, thì số nguyên có dấu thường sẽ được chuyển đổi thành số nguyên không dấu. Do đó, kết quả cũng sẽ là không dấu.\n",
    "\n",
    "    **Ví dụ:**\n",
    "    >```\n",
    "    >#include <iostream>\n",
    "    >\n",
    "    >// giả sử int là 4 byte\n",
    "    >int main()\n",
    "    >{\n",
    "    >    unsigned int u{ 2 };\n",
    "    >    signed int s{ 3 };\n",
    "    >\n",
    "    >    std::cout << u - s << '\\n'; // 2 - 3 = 4294967295\n",
    "    >\n",
    "    >    return 0;\n",
    "    >}\n",
    "    >```\n",
    "\n",
    "    Trong trường hợp này, nếu `u` là số có dấu, kết quả chính xác sẽ được tạo ra. Nhưng vì `u` là không dấu, `s` sẽ được chuyển đổi thành không dấu và kết quả (`-1`) được coi là một giá trị không dấu. Do `-1` không thể lưu trữ trong một giá trị không dấu, nên xảy ra tràn số và tạo ra câu trả lời không mong đợi.\n",
    "\n",
    "    **Đây là một ví dụ khác:**\n",
    "    >```\n",
    "    >#include <iostream>\n",
    "    >\n",
    "    >// giả sử int là 4 byte\n",
    "    >int main()\n",
    "    >{\n",
    "    >    signed int s { -1 };\n",
    "    >    unsigned int u { 1 };\n",
    "    >\n",
    "    >    if (s < u) // -1 được ngầm chuyển đổi thành 4294967295, và 4294967295 < 1 là sai\n",
    "    >        std::cout << \"-1 nhỏ hơn 1\\n\";\n",
    "    >    else\n",
    "    >        std::cout << \"1 nhỏ hơn -1\\n\"; // lệnh này được thực thi\n",
    "    >\n",
    "    >    return 0;\n",
    "    >}\n",
    "    >```\n",
    "\n",
    "    Chương trình này được viết tốt, biên dịch thành công và logic có vẻ hợp lý. Nhưng nó in ra câu trả lời sai. Mặc dù trình biên dịch sẽ cảnh báo bạn về sự không tương thích giữa số có dấu và không dấu trong trường hợp này, nhưng nó cũng sẽ tạo ra các cảnh báo tương tự cho các trường hợp khác không gặp vấn đề này (ví dụ: khi cả hai số đều dương), khiến việc phát hiện ra sự cố thực sự trở nên khó khăn.\n",
    "\n",
    ">**Liên quan:**\n",
    ">- Bạn có thể tìm hiểu thêm về các quy tắc chuyển đổi yêu cầu cả hai toán hạng của một số phép toán nhị phân phải cùng kiểu trong bài học 10.5 - Chuyển đổi số học (Arithmetic conversions).\n",
    ">- Bài học 4.10 - Giới thiệu về câu lệnh if sẽ hướng dẫn về các câu lệnh if.\n"
   ]
  },
  {
   "cell_type": "markdown",
   "id": "af1f742c-1c50-47f7-a66d-69e75328487b",
   "metadata": {},
   "source": [
    "Ngoài ra còn các trường hợp rắc rối khác khó phát hiện\n",
    "\n",
    "**Xem xét ví dụ sau:**\n",
    ">```\n",
    ">#include <iostream>\n",
    ">\n",
    ">// giả sử int là 4 byte\n",
    ">void doSomething(unsigned int x)\n",
    ">{\n",
    ">    // Chạy một đoạn code x lần\n",
    ">\n",
    ">    std::cout << \"x là \" << x << '\\n';\n",
    ">}\n",
    ">\n",
    ">int main()\n",
    ">{\n",
    ">    doSomething(-1);\n",
    ">\n",
    ">    return 0;\n",
    ">}\n",
    ">```\n",
    "\n",
    "Người viết hàm `doSomething()` mong đợi hàm này chỉ được gọi với các số dương. Nhưng hàm gọi nó lại truyền vào `-1` - rõ ràng là một sai lầm. Vậy điều gì xảy ra trong trường hợp này?\n",
    "\n",
    "Tham số kiểu `signed` là `-1` được ngầm chuyển đổi thành một tham số kiểu `unsigned`. `-1` không nằm trong phạm vi của một số `unsigned`, vì vậy nó sẽ \"cuộn tròn\" thành `4294967295`. Sau đó, chương trình của bạn có thể hoạt động bất thường.\n",
    "\n",
    "Vấn đề hơn nữa là việc ngăn chặn điều này xảy ra có thể rất khó. Trừ khi bạn đã cấu hình trình biên dịch cảnh báo mạnh mẽ về việc chuyển đổi `signed/unsigned` (và bạn nên làm vậy), trình biên dịch của bạn có thể sẽ không phàn nàn về điều này.\n",
    "\n",
    "Tất cả các vấn đề này đều thường gặp, gây ra hành vi không mong đợi và khó tìm, ngay cả khi sử dụng các công cụ tự động được thiết kế để phát hiện các trường hợp có vấn đề.\n",
    "\n",
    "Xét theo những điều trên, cách thực hành tốt nhất hơi gây tranh cãi mà chúng tôi sẽ ủng hộ là tránh sử dụng các kiểu `unsigned` ngoại trừ trong những trường hợp cụ thể.\n",
    "\n",
    ">**Thực hành tốt nhất**\n",
    ">- Ưu tiên sử dụng số signed hơn số unsigned để chứa các giá trị (ngay cả các giá trị đáng lẽ không âm) và các phép toán.\n",
    ">- Tránh trộn lẫn các số signed và unsigned.\n",
    "\n",
    ">**Tài liệu tham khảo**\n",
    ">- [Interactive C++ panel](https://www.youtube.com/watch?v=_nrly6PH6NU) (xem [9:48-13:08], [41:06-45:26] và [1:02:50-1:03:15])\n",
    ">- [Subscripts and sizes should be signed](http://www.open-std.org/jtc1/sc22/wg21/docs/papers/2019/p1428r0.pdf) (from Bjarne Stroustrup, the creator of C++)\n",
    ">- [Unsigned integers from the libtorrent blog](https://blog.libtorrent.org/2016/05/unsigned-integers/)"
   ]
  },
  {
   "cell_type": "markdown",
   "id": "3db75680-82ab-4d29-ad01-5e272653656e",
   "metadata": {},
   "source": [
    "### **Vậy khi nào bạn nên sử dụng số unsigned?**"
   ]
  },
  {
   "cell_type": "markdown",
   "id": "a9ac7d16-d330-4d73-9068-aee3e87e343f",
   "metadata": {},
   "source": [
    "Vẫn có một vài trường hợp trong C++ mà việc sử dụng số `unsigned` là ổn/cần thiết.\n",
    "\n",
    "- Thứ nhất, số `unsigned` được ưu tiên hơn khi xử lý thao tác bit (được đề cập trong chương O - đó là ‘o’ hoa, không phải ‘0’). Chúng cũng hữu ích khi cần hành vi \"cuộn tròn\" được xác định rõ ràng (hữu ích trong một số thuật toán như mã hóa và tạo số ngẫu nhiên).\n",
    "\n",
    "- Thứ hai, việc sử dụng số `unsigned` đôi khi vẫn không thể tránh khỏi, chủ yếu liên quan đến việc lập chỉ mục mảng (**array indexing**). Chúng tôi sẽ nói thêm về điều này trong các bài học về mảng và lập chỉ mục mảng.\n",
    "\n",
    "- Ngoài ra, lưu ý rằng nếu bạn đang phát triển cho hệ thống nhúng (ví dụ: Arduino) hoặc một số bộ xử lý / bối cảnh hạn chế bộ nhớ khác, việc sử dụng số `unsigned` phổ biến hơn và được chấp nhận hơn (và trong một số trường hợp, không thể tránh khỏi) vì lý do hiệu suất."
   ]
  },
  {
   "cell_type": "markdown",
   "id": "4a75b618-16c7-4d18-b75a-752dcdb583be",
   "metadata": {
    "jp-MarkdownHeadingCollapsed": true
   },
   "source": [
    "## **Bài 4.6: <u>Số nguyên kích thước cố định và `size_t`</u>** "
   ]
  },
  {
   "cell_type": "markdown",
   "id": "4df6b9a0-a6a8-44da-b282-4274a8f468c9",
   "metadata": {},
   "source": [
    "Trong các bài học trước về số nguyên, chúng ta đã đề cập rằng C++ chỉ đảm bảo các biến kiểu nguyên có kích thước tối thiểu - nhưng chúng có thể lớn hơn, tùy thuộc vào hệ thống đích."
   ]
  },
  {
   "cell_type": "markdown",
   "id": "09e9838b-cb5b-4bbf-beff-1a573c71aaf7",
   "metadata": {},
   "source": [
    "### **Tại sao kích thước của số nguyên lại không cố định?**"
   ]
  },
  {
   "cell_type": "markdown",
   "id": "a071107e-2530-4608-a376-771bfb3da5aa",
   "metadata": {},
   "source": [
    "Lý do chính cho điều này bắt nguồn từ những ngày đầu của C, khi máy tính còn chậm và hiệu suất là mối quan tâm hàng đầu. C cố tình để kích thước của một số nguyên là tùy ý để trình biên dịch có thể chọn kích thước cho int sao cho hoạt động tốt nhất trên kiến trúc máy tính cụ thể."
   ]
  },
  {
   "cell_type": "markdown",
   "id": "5fe4968a-d424-4365-af42-4f1ad5121d64",
   "metadata": {},
   "source": [
    "### **Vấn đề của số nguyên kích thước không cố định**"
   ]
  },
  {
   "cell_type": "markdown",
   "id": "f0b6bff4-cbb8-4448-8149-2d0edce82799",
   "metadata": {},
   "source": [
    "Theo tiêu chuẩn hiện đại, việc sử dụng số nguyên có kích thước không cố định có thể dẫn đến một số vấn đề:\n",
    "- **Khó dự đoán hành vi chương trình:** Do kích thước của `int` có thể thay đổi, việc dự đoán cách các biến `int` sẽ được lưu trữ và xử lý trên các hệ thống khác nhau trở nên khó khăn. Điều này có thể dẫn đến lỗi chương trình và hành vi không mong muốn.\n",
    "- **Hạn chế phạm vi giá trị:** Kích thước nhỏ hơn của `int` trên một số hệ thống có thể hạn chế phạm vi giá trị mà chúng có thể lưu trữ. Điều này có thể gây ra vấn đề nếu chương trình cần xử lý các giá trị lớn.\n",
    "- **Lãng phí bộ nhớ:** Trên các hệ thống có `int` lớn hơn, việc sử dụng `int` nhỏ hơn có thể dẫn đến lãng phí bộ nhớ.\n",
    "\n",
    ">**Ngoài lề**<br>\n",
    ">Trong hầu hết các trường hợp, chúng ta chỉ tạo một số lượng nhỏ biến `int` tại một thời điểm và chúng thường bị hủy tại cuối hàm nơi chúng được tạo. Trong những trường hợp như vậy, việc lãng phí *2 byte* bộ nhớ cho mỗi biến không phải là vấn đề (phạm vi bị hạn chế là vấn đề lớn hơn). Tuy nhiên, trong trường hợp chương trình của chúng ta phân bổ hàng nghìn hoặc hàng triệu biến `int`, việc lãng phí *2 byte* bộ nhớ cho mỗi biến có thể ảnh hưởng đáng kể đến tổng thể dung lượng bộ nhớ sử dụng của chương trình."
   ]
  },
  {
   "cell_type": "markdown",
   "id": "130a6d6f-8b0e-418a-aa10-44cb9ad62fc4",
   "metadata": {},
   "source": [
    "### **Số nguyên kích thước cố định**"
   ]
  },
  {
   "cell_type": "markdown",
   "id": "0fc39b73-4f41-41a5-a1b0-b52fe2fb9b02",
   "metadata": {},
   "source": [
    "Để giải quyết các vấn đề nêu trên, **C99** đã định nghĩa một tập hợp các số nguyên kích thước cố định (trong tiêu đề `stdint.h`) được đảm bảo có cùng kích thước trên mọi kiến trúc.\n",
    "\n",
    "Các kiểu dữ liệu này được định nghĩa như sau:\n",
    "\n",
    "| Tên           | Kiểu   | Phạm vi                                                  | Ghi chú                                                                        |\n",
    "|-----------------|--------|----------------------------------------------------------|--------------------------------------------------------------------------------|\n",
    "| `std::int8_t`   | 1 byte | -128 đến 127                                             | Thường được coi như một signed char trên nhiều hệ thống. Xem lưu ý bên dưới.   |\n",
    "| `std::uint8_t`  | 1 byte | 0 đến 255                                                | Thường được coi như một unsigned char trên nhiều hệ thống. Xem lưu ý bên dưới. |\n",
    "| `std::int16_t`  | 2 byte | -32,768 đến 32,767                                       |                                                                                |\n",
    "| `std::uint16_t` | 2 byte | 0 đến 65,535                                             |                                                                                |\n",
    "| `std::int32_t`  | 4 byte | -2,147,483,648 đến 2,147,483,647                         |                                                                                |\n",
    "| `std::uint32_t` | 4 byte | 0 đến 4,294,967,295                                      |                                                                                |\n",
    "| `std::int64_t`  | 8 byte | -9,223,372,036,854,775,808 đến 9,223,372,036,854,775,807 |                                                                                |\n",
    "| `std::uint64_t` | 8 byte | 0 đến 18,446,744,073,709,551,615                         |                                                                                |"
   ]
  },
  {
   "cell_type": "markdown",
   "id": "1981e0ee-a434-48de-ba1f-e691795d92fc",
   "metadata": {},
   "source": [
    "C++ chính thức áp dụng các số nguyên kích thước cố định này như một phần của **C++11**. Bạn có thể truy cập chúng bằng cách bao gồm tiêu đề `<cstdint>`, nơi chúng được định nghĩa bên trong không gian tên `std`. Đây là một ví dụ:\n",
    "\n",
    ">```\n",
    ">#include <cstdint> // for fixed-width integers\n",
    ">#include <iostream>\n",
    ">\n",
    ">int main()\n",
    ">{\n",
    ">    std::int16_t i{5};\n",
    ">    std::cout << i << '\\n';\n",
    ">    return 0;\n",
    ">}\n",
    ">```"
   ]
  },
  {
   "cell_type": "markdown",
   "id": "9907db1d-0dba-4e1c-aed0-0b55ec6f8ff3",
   "metadata": {},
   "source": [
    "### **Nhược điểm của số nguyên kích thước cố định**"
   ]
  },
  {
   "cell_type": "markdown",
   "id": "a4bdea16-0064-49f7-808a-5f48762247ea",
   "metadata": {},
   "source": [
    "Thông thường, có hai nhược điểm thường được nêu ra về số nguyên kích thước cố định.\n",
    "\n",
    "Thứ nhất, số nguyên kích thước cố định không được đảm bảo được định nghĩa trên tất cả các kiến trúc. Chúng chỉ tồn tại trên các hệ thống có các kiểu dữ liệu cơ bản khớp với chiều rộng của chúng và tuân theo biểu diễn nhị phân nhất định. Chương trình của bạn sẽ không thể biên dịch trên bất kỳ kiến trúc nào không hỗ trợ một số nguyên kích thước cố định mà chương trình của bạn đang sử dụng. Tuy nhiên, do hầu hết các kiến trúc hiện đại đều được chuẩn hóa xung quanh các biến 8/16/32/64-bit, nên điều này không có khả năng là vấn đề trừ khi chương trình của bạn cần có tính di động trên một số kiến trúc mainframe hoặc kiến trúc nhúng độc lạ.\n",
    "\n",
    "Thứ hai, nếu bạn sử dụng một số nguyên kích thước cố định, nó có thể chậm hơn một kiểu rộng hơn trên một số kiến trúc. Ví dụ, nếu bạn cần một số nguyên được đảm bảo là 32 bit, bạn có thể quyết định sử dụng `std::int32_t`, nhưng CPU của bạn thực sự có thể xử lý các số nguyên 64 bit nhanh hơn. Tuy nhiên, chỉ vì CPU của bạn có thể xử lý một kiểu nhất định nhanh hơn không có nghĩa là chương trình của bạn sẽ nhanh hơn tổng thể - các chương trình hiện đại thường bị hạn chế bởi sử dụng bộ nhớ hơn là CPU, và dung lượng bộ nhớ lớn hơn có thể làm chậm chương trình của bạn nhiều hơn so với việc xử lý CPU nhanh hơn. Rất khó để biết chắc chắn mà không thực sự đo lường."
   ]
  },
  {
   "cell_type": "markdown",
   "id": "7c79c969-fc66-45c8-a9c8-e7949a54949a",
   "metadata": {},
   "source": [
    "### **Số nguyên nhanh và nhỏ nhất**"
   ]
  },
  {
   "cell_type": "markdown",
   "id": "47289be5-b382-4755-8ff7-571daa912163",
   "metadata": {},
   "source": [
    "Để giúp giải quyết những nhược điểm nêu trên, C++ cũng định nghĩa hai tập hợp số nguyên thay thế được đảm bảo được định nghĩa.\n",
    "\n",
    "**Các kiểu nhanh** (*`std::int_fast#_t`* và *`std::uint_fast#_t`*): Cung cấp kiểu số nguyên có dấu/không dấu nhanh nhất với chiều rộng tối thiểu *#* bit (trong đó *#* = 8, 16, 32 hoặc 64). Ví dụ, `std::int_fast32_t` sẽ cung cấp cho bạn kiểu số nguyên có dấu nhanh nhất có ít nhất 32 bit. \"Nhanh nhất\" ở đây có nghĩa là kiểu số nguyên có thể được CPU xử lý nhanh nhất.\n",
    "\n",
    "**Các kiểu nhỏ nhất** (*`std::int_least#_t`* và *`std::uint_least#_t`*): Cung cấp kiểu số nguyên có dấu/không dấu nhỏ nhất với chiều rộng tối thiểu *#* bit (trong đó *#* = 8, 16, 32 hoặc 64). Ví dụ, `std::uint_least32_t` sẽ cung cấp cho bạn kiểu số nguyên không dấu nhỏ nhất có ít nhất 32 bit.\n",
    "\n",
    "**Đây là một ví dụ từ Visual Studio của tác giả (console 32-bit):**\n",
    ">```\n",
    ">#include <cstdint> // for fast and least types\n",
    ">#include <iostream>\n",
    ">\n",
    ">int main()\n",
    ">{\n",
    ">    std::cout << \"least 8:  \" << sizeof(std::int_least8_t) * 8 << \" bits\\n\";\n",
    ">    std::cout << \"least 16: \" << sizeof(std::int_least16_t) * 8 << \" bits\\n\";\n",
    ">    std::cout << \"least 32: \" << sizeof(std::int_least32_t) * 8 << \" bits\\n\";\n",
    ">    std::cout << '\\n';\n",
    ">    std::cout << \"fast 8:  \" << sizeof(std::int_fast8_t) * 8 << \" bits\\n\";\n",
    ">    std::cout << \"fast 16: \" << sizeof(std::int_fast16_t) * 8 << \" bits\\n\";\n",
    ">    std::cout << \"fast 32: \" << sizeof(std::int_fast32_t) * 8 << \" bits\\n\";\n",
    ">    \n",
    ">    return 0;\n",
    ">}\n",
    ">```\n",
    "\n",
    "Đoạn code này cho kết quả:\n",
    ">```\n",
    ">least 8:  8 bits\n",
    ">least 16: 16 bits\n",
    ">least 32: 32 bits\n",
    ">\n",
    ">fast 8:  8 bits\n",
    ">fast 16: 32 bits\n",
    ">fast 32: 32 bits\n",
    ">```\n",
    "\n",
    "Bạn có thể thấy rằng `std::int_least16_t` là 16 bit, trong khi `std::int_fast16_t` thực sự là 32 bit. Điều này là do trên máy của tác giả, các số nguyên 32 bit được xử lý nhanh hơn các số nguyên 16 bit.\n",
    "\n",
    "Tuy nhiên, các số nguyên nhanh và nhỏ nhất này cũng có những nhược điểm riêng:\n",
    "\n",
    "Thứ nhất, không nhiều lập trình viên thực sự sử dụng chúng và việc không quen thuộc có thể dẫn đến lỗi.\n",
    "Thứ hai, các kiểu nhanh có thể dẫn đến lãng phí bộ nhớ, vì kích thước thực tế của chúng có thể lớn hơn so với tên gọi của chúng. Nghiêm trọng hơn, vì kích thước của các số nguyên nhanh/nhỏ nhất có thể thay đổi, nên chương trình của bạn có thể thể hiện các hành vi khác nhau trên các kiến trúc nơi chúng có kích thước khác nhau. Ví dụ:\n",
    "\n",
    ">```\n",
    ">#include <cstdint>\n",
    ">#include <iostream>\n",
    ">\n",
    ">int main()\n",
    ">{\n",
    ">    std::uint_fast16_t sometype { 0 };\n",
    ">    sometype = sometype - 1; // cố tình tràn số để kích hoạt hành vi \"cuộn tròn\"\n",
    ">\n",
    ">    std::cout << sometype << '\\n';\n",
    ">\n",
    ">    return 0;\n",
    ">}\n",
    ">```\n",
    "\n",
    "Đoạn code này sẽ tạo ra các kết quả khác nhau tùy thuộc vào việc `std::uint_fast16_t` là 16, 32 hoặc 64 bit.\n",
    "\n",
    "Rất khó để biết chương trình của bạn có thể không hoạt động như mong đợi ở đâu cho đến khi bạn kiểm tra nghiêm ngặt chương trình của mình trên các kiến trúc như vậy."
   ]
  },
  {
   "cell_type": "markdown",
   "id": "95cda03d-a072-437f-993e-32e1d6328743",
   "metadata": {},
   "source": [
    "### **`std::int8_t` và `std::uint8_t` có thể hoạt động giống như `char`**"
   ]
  },
  {
   "cell_type": "markdown",
   "id": "183aca15-d670-4713-a5e0-7bf2cfacda01",
   "metadata": {},
   "source": [
    "Do sự thiếu sót trong đặc tả C++, hầu hết các trình biên dịch định nghĩa và xử lý `std::int8_t` và `std::uint8_t` (và các kiểu tương ứng nhanh và nhỏ nhất) giống hệt với các kiểu `signed char` và `unsigned char` tương ứng. Điều này có nghĩa là các kiểu 8-bit này có thể (hoặc có thể không) hoạt động khác so với các kiểu kích thước cố định còn lại, điều này có thể dẫn đến lỗi. Hành vi này phụ thuộc vào hệ thống, vì vậy một chương trình hoạt động chính xác trên một kiến trúc có thể không biên dịch hoặc hoạt động chính xác trên một kiến trúc khác.\n",
    "\n",
    "Chúng tôi sẽ hiển thị một ví dụ về điều này trong bài học 4.12 - Giới thiệu về chuyển đổi kiểu và static_cast.\n",
    "\n",
    "Khi lưu trữ các giá trị số nguyên mà kích thước cụ thể là quan trọng, thường tốt nhất là tránh `std::int8_t` và `std::uint8_t` (và các kiểu nhanh và nhỏ nhất liên quan) và sử dụng `std::int16_t` hoặc `std::uint16_t` thay thế.\n",
    "\n",
    ">**Cảnh báo**<br>\n",
    ">Các kiểu số nguyên kích thước cố định 8-bit thường được xử lý giống như các ký tự `char` thay vì các giá trị số nguyên (và điều này có thể thay đổi theo từng hệ thống). Ưu tiên các kiểu số nguyên cố định 16-bit cho hầu hết các trường hợp."
   ]
  },
  {
   "cell_type": "markdown",
   "id": "cbfe6f67-82c1-474c-b8a3-afc5e957eba3",
   "metadata": {},
   "source": [
    "### **Các thực hành tốt nhất cho kiểu số nguyên**"
   ]
  },
  {
   "cell_type": "markdown",
   "id": "ef4a3bcf-8143-4d61-9aab-46c100eef670",
   "metadata": {},
   "source": [
    "Mặc dù C++ cung cấp nhiều lựa chọn để biểu diễn các giá trị số nguyên, không có giải pháp ***\"phù hợp cho tất cả\"***. Dưới đây là một số hướng dẫn giúp bạn chọn loại phù hợp nhất cho tình huống của mình:\n",
    "\n",
    "- **Ưu tiên tính chính xác hơn tốc độ:** Mục tiêu là tạo ra mã hoạt động đáng tin cậy thay vì chỉ tập trung đạt được tốc độ thực thi nhanh nhất. Lỗi thời gian biên dịch dễ sửa hơn lỗi thời gian chạy.\n",
    "\n",
    "- **Kiểu kích thước cố định để đảm bảo kích thước:** Nếu chương trình của bạn phụ thuộc vào các số nguyên có kích thước cụ thể, hãy sử dụng các kiểu `std::int#_t` (với # là 8, 16, 32 hoặc 64) thay vì các kiểu `fast` hoặc `least`. Bạn luôn có thể điều chỉnh mã sau này nếu cần hỗ trợ nền tảng không biên dịch được với một kiểu kích thước cố định cụ thể.\n",
    "\n",
    "- **Sử dụng `int` cho mục đích chung:** Khi kích thước của số nguyên không quan trọng và biến chỉ tồn tại tạm thời (như bộ đếm vòng lặp), `int` là một lựa chọn tốt. Nó có khả năng hiệu quả cho hầu hết các trường hợp sử dụng phổ biến như nhập liệu người dùng hoặc đếm cơ bản.\n",
    "\n",
    "- **`std::int#_t` cho các khoảng cụ thể:** Nếu bạn cần lưu trữ giá trị trong một khoảng được đảm bảo, hãy chọn loại `std::int#_t` phù hợp dựa trên các giá trị dự kiến.\n",
    "\n",
    "- **`std::uint#_t` cho thao tác bit:** Khi làm việc với các phép toán bit hoặc yêu cầu hành vi tràn số được xác định rõ ràng, hãy sử dụng các kiểu `std::uint#_t`.\n",
    "\n",
    "**Tránh các kiểu này khi có thể:**\n",
    "- `short` và `long`: Chọn các kiểu kích thước cố định để có hành vi dự đoán được.\n",
    "- Kiểu không dấu cho số lượng: Sử dụng kiểu có dấu cho các giá trị biểu thị số lượng có thể âm.\n",
    "- Kiểu số nguyên kích thước cố định 8-bit: Hành vi của chúng có thể không nhất quán trên các hệ thống.\n",
    "- Kiểu kích thước cố định nhanh/nhỏ nhất: Kích thước của chúng có thể thay đổi, gây ra các vấn đề tiềm ẩn trên các kiến trúc khác nhau.\n",
    "- Kiểu phụ thuộc vào trình biên dịch: Sử dụng các kiểu chuẩn để đảm bảo khả năng di động tốt hơn.\n",
    "\n",
    "Lưu ý, đây chỉ là những khuyến nghị chung. Lựa chọn tốt nhất cho chương trình của bạn sẽ phụ thuộc vào các nhu cầu cụ thể và nền tảng mục tiêu của nó."
   ]
  },
  {
   "cell_type": "markdown",
   "id": "a24d361b-9c31-4471-8f6e-eb928c5df6fb",
   "metadata": {},
   "source": [
    "### **Kiểu `std::size_t`là gì?**"
   ]
  },
  {
   "cell_type": "markdown",
   "id": "a6136f6b-b2e3-4fc5-b39b-43ae178facb1",
   "metadata": {},
   "source": [
    "**Hãy xem xét đoạn mã sau:**\n",
    ">```\n",
    ">#include <iostream>\n",
    ">\n",
    ">int main()\n",
    ">{\n",
    ">    std::cout << sizeof(int) << '\\n';\n",
    ">\n",
    ">    return 0;\n",
    ">}\n",
    ">```\n",
    "\n",
    "Trên máy tính của tác giả, đoạn mã này in ra:\n",
    ">`4`\n",
    "\n",
    "Rất đơn giản, phải không? Chúng ta có thể suy luận rằng toán tử `sizeof` trả về một giá trị số nguyên - nhưng kiểu số nguyên đó là gì? Một `int`? Một `short`? Câu trả lời là `sizeof` trả về một giá trị thuộc kiểu `std::size_t`. `std::size_t` được định nghĩa là một kiểu số nguyên không dấu được triển khai theo cách phụ thuộc vào hệ thống.\n",
    "\n",
    ">**Lưu ý quan trọng**<br>\n",
    ">`std::size_t` thường được sử dụng để biểu diễn kích thước hoặc độ dài của các đối tượng, đặc biệt là trong thư viện chuẩn C++.\n",
    "\n",
    "Điều thú vị là, chúng ta có thể sử dụng toán tử `sizeof` (trả về một giá trị kiểu `std::size_t`) để truy vấn kích thước của chính `std::size_t`:\n",
    ">```\n",
    ">#include <cstddef> // for std::size_t\n",
    ">#include <iostream>\n",
    ">\n",
    ">int main()\n",
    ">{\n",
    ">    std::cout << sizeof(std::size_t) << '\\n';\n",
    ">\n",
    ">    return 0;\n",
    ">}\n",
    ">```\n",
    "\n",
    "Khi được biên dịch thành ứng dụng console 32-bit (4 byte) trên hệ thống của tác giả, đoạn mã này in ra:\n",
    ">`4`\n",
    "\n",
    "`std::size_t` được định nghĩa trong một số header khác nhau. `<cstddef>` là lựa chọn tốt nhất để include, vì nó chứa ít định danh được xác định khác nhất.\n",
    "\n",
    ">**Thực hành tốt nhất**<br>\n",
    ">Nếu bạn sử dụng `std::size_t` trực tiếp trong code, hãy include một trong những header định nghĩa `std::size_t` (khuyến nghị `<cstddef>`).\n",
    ">\n",
    ">Sử dụng `sizeof` không yêu cầu header (mặc dù nó trả về một giá trị có kiểu là `std::size_t`).\n",
    "\n",
    "**Kích thước của `std::size_t`**\n",
    "\n",
    "Giống như kiểu số nguyên có thể thay đổi kích thước tùy theo hệ thống, `std::size_t` cũng có kích thước khác nhau. `std::size_t` được đảm bảo là không dấu và có kích thước tối thiểu là 16 bit, nhưng trên hầu hết các hệ thống, nó sẽ tương đương với độ rộng địa chỉ của ứng dụng. Nghĩa là, đối với các ứng dụng 32-bit, `std::size_t` thường là một số nguyên không dấu 32-bit, và đối với ứng dụng 64-bit, `std::size_t` thường là một số nguyên không dấu 64-bit.\n",
    "\n",
    "\n"
   ]
  },
  {
   "cell_type": "markdown",
   "id": "6f8fb925-de77-48c6-a256-4c7493f765dd",
   "metadata": {},
   "source": [
    "### **`std::size_t` áp đặt một giới hạn trên về kích thước của một đối tượng được tạo trên hệ thống. <sub>(Bài đọc thêm)</sup>**"
   ]
  },
  {
   "cell_type": "markdown",
   "id": "5d9e1118-71c2-4863-998e-e25f562e58f0",
   "metadata": {},
   "source": [
    "Toán tử `sizeof` phải có khả năng trả về kích thước byte của một đối tượng dưới dạng giá trị kiểu `std::size_t`. Do đó, kích thước byte của một đối tượng không được lớn hơn giá trị lớn nhất mà `std::size_t` có thể chứa. Nếu có thể tạo một đối tượng lớn hơn, `sizeof` sẽ không thể trả về kích thước byte của nó, vì nó sẽ nằm ngoài phạm vi mà `std::size_t` có thể lưu trữ.\n",
    "\n",
    "Do đó, bất kỳ đối tượng nào có kích thước (tính bằng byte) lớn hơn giá trị lớn nhất mà một đối tượng kiểu `std::size_t` có thể chứa đều được coi là không hợp lệ (và sẽ gây ra lỗi biên dịch).\n",
    "\n",
    "Ví dụ, hãy giả sử rằng `std::size_t` có kích thước 4 byte trên hệ thống của chúng ta. Một kiểu số nguyên không dấu 4 byte có phạm vi từ `0` đến `4.294.967.295`. Do đó, một đối tượng `std::size_t` 4 byte có thể chứa bất kỳ giá trị nào từ `0` đến `4.294.967.295`. Nếu kích thước byte của một đối tượng lớn hơn 4.294.967.295 byte, thì `sizeof` sẽ không thể trả về kích thước của đối tượng đó một cách chính xác, vì giá trị sẽ nằm ngoài phạm vi của `std::size_t`. Do đó, không thể tạo đối tượng kích thước lớn hơn 4.294.967.295 byte.\n",
    "\n",
    "Vào thời các ứng dụng 8 bit và 16 bit là tiêu chuẩn, điều này đặt ra một hạn chế đáng kể về kích thước của các đối tượng. Trong kỷ nguyên 32 bit và 64 bit, điều này hiếm khi xảy ra và do đó không phải là điều bạn thường cần phải lo lắng.\n",
    "\n",
    "\n",
    ">**Ngoài lề**<br>\n",
    ">Kích thước của `std::size_t` áp đặt một giới hạn trên lý thuyết nghiêm ngặt cho kích thước của một đối tượng. Trong thực tế, đối tượng lớn nhất có thể tạo ra có thể nhỏ hơn giá trị này (có thể là đáng kể).\n",
    ">\n",
    ">Một số trình biên dịch giới hạn đối tượng lớn nhất có thể tạo ra bằng một nửa giá trị tối đa của `std::size_t` (có thể tìm thấy giải thích cho điều này [ở đây](https://stackoverflow.com/a/42428240)).\n",
    ">\n",
    ">Các yếu tố khác cũng có thể đóng vai trò, chẳng hạn như dung lượng bộ nhớ *contiguous* (liền kề) có sẵn trên máy tính của bạn để phân bổ.\n"
   ]
  },
  {
   "cell_type": "markdown",
   "id": "7e7a133c-7433-4d8f-8113-59aba4480aa5",
   "metadata": {
    "jp-MarkdownHeadingCollapsed": true
   },
   "source": [
    "## **Bài 4.7: <u>Giới thiệu về ký hiệu khoa học (scientific notation)</u>**"
   ]
  },
  {
   "cell_type": "markdown",
   "id": "e66ffa67-0e32-4c26-8232-f097eef909cb",
   "metadata": {},
   "source": [
    "Trước khi đi vào chủ đề tiếp theo, chúng ta sẽ tìm hiểu sơ lược về ký hiệu khoa học.\n",
    "\n",
    "**Ký hiệu khoa học** là một cách viết tắt hữu ích cho các số phức tạp theo dạng gọn hơn. Mặc dù thoạt nhìn ký hiệu khoa học có vẻ lạ, nhưng hiểu được ký hiệu khoa học sẽ giúp bạn hiểu cách các số thực hoạt động và quan trọng hơn, giới hạn của chúng là gì.\n",
    "\n",
    "Số trong ký hiệu khoa học được viết theo dạng: *thừa số × 10<sup>số mũ</sup>*. \n",
    "\n",
    "Ví dụ, trong ký hiệu khoa học 1.2 x 10⁴, 1.2 là thừa số và 4 là số mũ. Vì 10⁴ bằng 10.000, nên 1.2 x 10⁴ bằng 12.000.\n",
    "\n",
    "Theo quy ước, các số trong ký hiệu khoa học được viết với một chữ số trước dấu thập phân và các chữ số còn lại sau dấu thập phân.\n",
    "\n",
    "Xét khối lượng của Trái Đất. Trong dạng thập phân, chúng ta sẽ viết nó là 5972200000000000000000000 kg. Đó là một con số thực sự lớn (quá lớn để chứa vừa trong một số nguyên 8 byte). Nó cũng khó đọc (có phải là 19 hay 20 số 0?). Ngay cả với dấu phân cách (5.972.200.000.000.000.000.000), con số vẫn khó đọc.\n",
    "\n",
    "Trong ký hiệu khoa học, điều này sẽ được viết là 5.9722 x 10²⁴ kg, dễ đọc hơn nhiều. Ký hiệu khoa học có thêm lợi ích là giúp dễ dàng so sánh độ lớn của hai số cực lớn hoặc cực nhỏ chỉ đơn giản bằng cách so sánh số mũ.\n",
    "\n",
    "Do việc gõ hoặc hiển thị số mũ trong C++ có thể khó khăn, chúng ta sử dụng ký tự *'e'* (hoặc đôi khi là *'E'*) để biểu diễn phần \"nhân với 10 mũ\" của phương trình. Ví dụ, 1.2 x 10⁴ sẽ được viết là `1.2e4`, và 5.9722 x 10²⁴ sẽ được viết là `5.9722e24`.\n",
    "\n",
    "Đối với các số nhỏ hơn 1, số mũ có thể là âm. Số `5e-2` tương đương với 5 * 10⁻², bằng 5 / 10², hoặc 0.05. Khối lượng của một electron là `9.1093837e-31` kg."
   ]
  },
  {
   "cell_type": "markdown",
   "id": "7a1b547a-6a1f-402e-b569-efcc8d9c6c7c",
   "metadata": {},
   "source": [
    "### **Các chữ số có nghĩa**"
   ]
  },
  {
   "cell_type": "markdown",
   "id": "3d39ae96-c373-4387-9ae6-9d39d7368328",
   "metadata": {},
   "source": [
    "Giả sử bạn cần biết giá trị của hằng số toán học *pi* cho một số phương trình, nhưng bạn đã quên. Bạn hỏi hai người. Một người nói với bạn giá trị của pi là 3.14. Người khác nói với bạn giá trị của pi là 3.14159. Cả hai giá trị này đều \"chính xác\", nhưng giá trị thứ hai chính xác hơn nhiều.\n",
    "\n",
    "Đây là điều quan trọng nhất cần hiểu về ký hiệu khoa học: Các chữ số trong thừa số (phần trước dấu 'e') được gọi là các chữ số có nghĩa (hoặc chữ số có giá trị). Càng nhiều chữ số có nghĩa, thì số càng chính xác.\n",
    "\n",
    ">**Lưu ý quan trọng**<br>\n",
    ">Càng nhiều chữ số trong thừa số, thì số càng chính xác.\n",
    "\n",
    "Trong ký hiệu khoa học, chúng ta sẽ viết 3.14 thành `3.14e0`. Vì có 3 số trong thừa số, nên số này có 3 chữ số có nghĩa.\n",
    "\n",
    "3.14159 sẽ được viết thành `3.14159e0`. Vì có 6 số trong thừa số, nên số này có 6 chữ số có nghĩa."
   ]
  },
  {
   "cell_type": "markdown",
   "id": "49417bed-354b-44c9-8cba-900302b2975c",
   "metadata": {},
   "source": [
    "### **Cách chuyển đổi số thập phân sang ký hiệu khoa học**"
   ]
  },
  {
   "cell_type": "markdown",
   "id": "dbc9be09-b48f-4fd1-ac74-1fedfcf3a030",
   "metadata": {},
   "source": [
    "Thực hiện theo các bước sau để chuyển đổi số thập phân sang ký hiệu khoa học:\n",
    "1. **Bắt đầu với số mũ bằng 0**.\n",
    "2. **Di chuyển dấu thập phân sang trái hoặc phải** cho đến khi chỉ có một chữ số khác 0 ở bên trái dấu thập phân.\n",
    "    - Mỗi lần bạn di chuyển dấu thập phân sang trái một vị trí, số mũ sẽ tăng thêm 1.\n",
    "    - Mỗi lần bạn di chuyển dấu thập phân sang phải một vị trí, số mũ sẽ giảm đi 1.\n",
    "3. **Xóa bỏ các số 0 ở đầu** (bên trái dấu thập phân) của thừa số (phần trước dấu \"e\").\n",
    "4. **Xóa bỏ các số 0 ở cuối** (bên phải dấu thập phân) của thừa số chỉ khi số thập phân ban đầu không có dấu thập phân. Chúng tôi giả định rằng các số 0 này không có nghĩa. Nếu bạn có thêm thông tin cho thấy chúng có nghĩa, bạn có thể giữ lại chúng.\n",
    "\n",
    "Ví dụ:\n",
    ">```\n",
    ">Bắt đầu với: 600.410\n",
    ">Di chuyển dấu thập phân sang trái 2 vị trí: 6.00410e2\n",
    ">Không có số 0 ở đầu để xóa: 6.00410e2\n",
    ">Giữ lại các số 0 ở cuối: 6.00410e2 (có 6 chữ số có nghĩa)\n",
    ">```\n",
    "\n",
    ">```\n",
    ">Bắt đầu với: 0.0078900\n",
    ">Di chuyển dấu thập phân sang phải 3 vị trí: 0007.8900e-3\n",
    ">Xóa bỏ số 0 dẫn đầu: 7.8900e-3\n",
    ">Giữ lại các số 0 ở cuối: 7.8900e-3 (có 5 chữ số có nghĩa)\n",
    ">```\n",
    "\n",
    ">```\n",
    ">Bắt đầu với: 42030 (không có thông tin cho thấy số 0 cuối cùng có nghĩa)\n",
    ">Di chuyển dấu thập phân sang trái 4 vị trí: 4.2030e4\n",
    ">Không có số 0 dẫn đầu để xóa: 4.2030e4\n",
    ">Xóa bỏ số 0 ở cuối: 4.203e4 (có 4 chữ số có nghĩa)\n",
    ">```\n",
    "\n",
    ">```\n",
    ">Bắt đầu với: 42030 (số 0 cuối cùng có nghĩa)\n",
    ">Di chuyển dấu thập phân sang trái 4 vị trí: 4.2030e4\n",
    ">Không có số 0 dẫn đầu để xóa: 4.2030e4\n",
    ">Giữ lại các số 0 ở cuối: 4.2030e4 (có 5 chữ số có nghĩa)\n",
    ">```"
   ]
  },
  {
   "cell_type": "markdown",
   "id": "ed778d57-5881-4c24-bc0f-53b786c25cc6",
   "metadata": {},
   "source": [
    "### **Xử lý các số 0 ở cuối (trailing zeros)**"
   ]
  },
  {
   "cell_type": "markdown",
   "id": "4cc2623a-dec6-411d-9466-e1b9e2061193",
   "metadata": {},
   "source": [
    "Hãy xem xét trường hợp chúng ta yêu cầu hai trợ lý phòng thí nghiệm cùng cân một quả táo. Một người quay lại và nói quả táo nặng 87.0 gram. Người kia quay lại và nói quả táo nặng 87.000 gram. Giả sử cân nặng là chính xác. Trong trường hợp trước, trọng lượng thực tế của quả táo có thể nằm bất cứ đâu giữa 86.950 và 87.049 gram. Có thể cân chỉ chính xác đến phần mười gam gần nhất. Hoặc có thể trợ lý của chúng ta đã làm tròn một chút. Trong trường hợp thứ hai, chúng ta tin tưởng hơn nhiều về trọng lượng thực tế của quả táo (thực tế nó nặng từ 86.99950 đến 87.00049 gram, độ dao động ít hơn nhiều).\n",
    "\n",
    "Khi chuyển đổi sang ký hiệu khoa học, các số 0 ở cuối sau dấu thập phân được coi là có nghĩa, vì vậy chúng ta giữ lại chúng:\n",
    "\n",
    ">87.0g = `8.70e1`\n",
    ">87.000g = `8.7000e1`\n",
    "\n",
    "Đối với các số không có dấu thập phân, theo mặc định, các số 0 ở cuối được coi là không có nghĩa. Với số 2100 (không có thông tin bổ sung), chúng ta giả định rằng các số 0 ở cuối không có nghĩa, vì vậy chúng ta loại bỏ chúng:\n",
    ">2100 = `2.1e3` (số 0 ở cuối được cho là không có nghĩa)\n",
    "\n",
    "Tuy nhiên, nếu biết rằng số này được đo chính xác (hoặc số thực tế nằm giữa 2099.5 và 2100.5), thì chúng ta nên coi các số 0 đó là có nghĩa:\n",
    ">2100 = `2.100e3` (số 0 ở cuối được biết là có nghĩa)\n",
    "\n",
    ">**Mẹo:**<br>\n",
    ">Thỉnh thoảng bạn có thể thấy một số được viết với dấu thập phân có các số 0 ở cuối. Đây là dấu hiệu cho biết các số đó có nghĩa.\n",
    ">- 2100 = `2.100e3` (số 0 ở cuối được biết là có nghĩa)\n",
    "\n",
    "Một trong những điều tuyệt vời về ký hiệu khoa học là nó luôn làm rõ có bao nhiêu chữ số có nghĩa.\n",
    "\n",
    "Về mặt kỹ thuật, các số 87.0 và 87.000 có cùng giá trị (và cùng kiểu). Khi C++ lưu trữ bất kỳ số nào trong số này trong bộ nhớ, nó sẽ chỉ lưu trữ giá trị `87`. Và một khi được lưu trữ, không có cách nào để xác định từ giá trị được lưu trữ xem số nào trong hai số được nhập ban đầu.\n",
    "\n",
    "Bây giờ chúng ta đã tìm hiểu về ký hiệu khoa học, chúng ta đã sẵn sàng để tìm hiểu về các số thực."
   ]
  },
  {
   "cell_type": "markdown",
   "id": "d6d9f3a4-a500-454e-9552-07674007a3cd",
   "metadata": {},
   "source": [
    "### **Bài Tập**"
   ]
  },
  {
   "cell_type": "markdown",
   "id": "34b39924-0a74-47f7-a503-afc932699f9f",
   "metadata": {},
   "source": [
    "#### **Câu hỏi #1**"
   ]
  },
  {
   "cell_type": "markdown",
   "id": "2bc3ecb1-1285-4d40-9631-e5c9d32bf0f0",
   "metadata": {},
   "source": [
    "Chuyển đổi các số sau sang ký hiệu khoa học (sử dụng ký tự e để biểu diễn số mũ) và xác định xem mỗi số có bao nhiêu chữ số có nghĩa.\n",
    "Nhớ giữ lại các số 0 ở cuối sau dấu thập phân, loại bỏ các số 0 ở cuối nếu không có dấu thập phân.\n",
    "\n",
    "**a)** 34.50. \n",
    "\n",
    "<details>\n",
    "<summary><b>Xem đáp án</b></summary>\n",
    "    \n",
    "`3.450e1` (4 chữ số có nghĩa)\n",
    "</details>\n",
    "\n",
    "**b)** 0.004000\n",
    "<details>\n",
    "<summary><b>Xem đáp án</b></summary>\n",
    "\n",
    "`4.000e-3` (4 chữ số có nghĩa)\n",
    "</details>\n",
    "\n",
    "**c)** 123.005\n",
    "<details>\n",
    "<summary><b>Xem đáp án</b></summary>\n",
    "\n",
    "`1.23005e2` (6 chữ số có nghĩa)\n",
    "</details>\n",
    "\n",
    "**d)** 146000\n",
    "<details>\n",
    "<summary><b>Xem đáp án</b></summary>\n",
    "\n",
    "`1.46e5` (3 chữ số có nghĩa). Lưu ý, theo mặc định, các số 0 ở cuối trong một số nguyên không có dấu thập phân được coi là không có nghĩa.\n",
    "</details>\n",
    "\n",
    "**e)** 146000.001\n",
    "<details>\n",
    "<summary><b>Xem đáp án</b></summary>\n",
    "\n",
    "`1.46000001e5` (9 chữ số có nghĩa)\n",
    "</details>\n",
    "\n",
    "**f)** 0.0000000008\n",
    "<details>\n",
    "<summary><b>Xem đáp án</b></summary>\n",
    "\n",
    "`8e-10` (1 chữ số có nghĩa). Thừa số chính xác là 8 (có 1 chữ số có nghĩa), không phải 8.0 (có 2 chữ số có nghĩa).\n",
    "</details>\n",
    "\n",
    "**g)** 34500.0\n",
    "<details>\n",
    "<summary><b>Xem đáp án</b></summary>\n",
    "\n",
    "`3.45000e4` (6 chữ số có nghĩa). Chúng ta không loại bỏ các số 0 ở cuối ở đây vì số này có dấu thập phân. Mặc dù dấu thập phân không ảnh hưởng đến giá trị của số, nó ảnh hưởng đến độ chính xác, do đó cần được tính vào các chữ số có nghĩa. Nếu số được ghi là 34500, thì đáp án sẽ là 3.45e4 (3 chữ số có nghĩa).\n",
    "</details>\n",
    "\n",
    "**h)** 146000 (giả sử biết các số 0 có nghĩa)\n",
    "<details>\n",
    "<summary><b>Xem đáp án</b></summary>\n",
    "\n",
    "`1.46000e5` (6 chữ số có nghĩa)\n",
    "</details>"
   ]
  },
  {
   "cell_type": "markdown",
   "id": "9478d158-af4f-459e-9be3-8ef36df63a0e",
   "metadata": {
    "jp-MarkdownHeadingCollapsed": true
   },
   "source": [
    "## **Bài 4.8: <u>Số thực dấu phẩy động (Floating Point Numbers)</u>**"
   ]
  },
  {
   "cell_type": "markdown",
   "id": "22881fc6-4eca-4061-a863-4b98a6fa1d9f",
   "metadata": {},
   "source": [
    "Số nguyên là lựa chọn tuyệt vời để đếm các số nguyên, nhưng đôi khi chúng ta cần lưu trữ những con số rất lớn (dương hoặc âm), hoặc những con số có phần thập phân. **Biến kiểu số thực (floating point)** là biến có thể lưu trữ một số có phần thập phân, ví dụ như `4320.0`, `-3.33` hoặc `0.01226`. Từ *\"floating\"* trong tên *\"floating point\"* ám chỉ việc dấu thập phân có thể \"di chuyển\" - nghĩa là nó có thể hỗ trợ một số lượng chữ số thay đổi trước và sau dấu thập phân.\n",
    "\n",
    ">**Mẹo:**<br>\n",
    ">Khi viết số thực trong code, dấu phân cách thập phân phải là dấu chấm (`.`). Nếu bạn đến từ quốc gia sử dụng dấu phẩy thập phân, bạn sẽ cần làm quen với việc sử dụng dấu chấm thay thế.\n",
    "\n",
    "Có ba kiểu dữ liệu số thực phổ biến: `float`, `double` và `long double`. Giống như số nguyên, C++ không xác định kích thước cụ thể của các kiểu này (nhưng đảm bảo kích thước tối thiểu).\n",
    "\n",
    "Trên các kiến trúc hiện đại, cách biểu diễn số thực gần như luôn tuân theo định dạng nhị phân **IEEE 754** (do William Kahan tạo ra). Trong định dạng này, một `float` chiếm 4 byte, một `double` chiếm 8 byte và một `long double` có thể tương đương với một double (8 byte), 80-bit (thường được làm tròn thành 12 byte) hoặc 16 byte.\n",
    "\n",
    "Kiểu dữ liệu số thực luôn có dấu (có thể chứa các giá trị dương và âm).\n",
    "\n",
    "|       Loại      | Kích thước tối thiểu | Kích thước điển hình |\n",
    "|:---------------:|:--------------------:|:--------------------:|\n",
    "| `float`         | 4 byte               | 4 byte               |\n",
    "| `double`        | 8 byte               | 8 byte               |\n",
    "| `long double`   | 8 byte               | 8, 12 hoặc 16 byte   |"
   ]
  },
  {
   "cell_type": "markdown",
   "id": "5dc7244c-366d-46c0-bc3c-b2616826413c",
   "metadata": {},
   "source": [
    "Dưới đây là một số ví dụ về định nghĩa biến số thực:\n",
    ">```\n",
    ">float fValue;\n",
    ">double dValue;\n",
    ">long double ldValue;\n",
    ">```\n",
    "\n",
    "Khi sử dụng hằng số thực (floating point literals), hãy luôn bao gồm ít nhất một chữ số thập phân (ngay cả khi số thập phân là 0). Điều này giúp trình biên dịch hiểu rằng số đó là số thực chứ không phải số nguyên.\n",
    "\n",
    ">```\n",
    ">int x {5};      // 5 là số nguyên\n",
    ">double y {5.0}; // 5.0 là số thực (không có hậu tố mặc định là kiểu double)\n",
    ">float z {5.0f}; // 5.0 là số thực, hậu tố f nghĩa là kiểu float\n",
    ">```\n",
    "\n",
    "Lưu ý rằng theo mặc định, số thực mặc định là kiểu `double`. Hậu tố `f` được sử dụng để biểu thị một số thực kiểu `float`.\n",
    "\n",
    ">**Thực hành tốt nhất**<br>\n",
    ">Luôn đảm bảo kiểu của số thực bạn sử dụng khớp với kiểu của biến được gán hoặc dùng để khởi tạo. Nếu không, việc chuyển đổi không cần thiết sẽ xảy ra, có thể dẫn đến mất độ chính xác."
   ]
  },
  {
   "cell_type": "markdown",
   "id": "ee97c45d-5130-4b20-997a-51e6d560241c",
   "metadata": {},
   "source": [
    "### **In ra số thực (Floating Point Numbers)**"
   ]
  },
  {
   "cell_type": "markdown",
   "id": "2ae23262-1499-4af0-8f97-a5da37279358",
   "metadata": {},
   "source": [
    "**Xét chương trình đơn giản sau:**\n",
    ">```\n",
    ">#include <iostream>\n",
    ">\n",
    ">int main() {\n",
    ">  std::cout << 5.0 << '\\n';\n",
    ">  std::cout << 6.7f << '\\n';\n",
    ">  std::cout << 9876543.21 << '\\n';\n",
    ">\n",
    ">  return 0;\n",
    ">}\n",
    ">```\n",
    "\n",
    "Kết quả của chương trình đơn giản này có thể khiến bạn ngạc nhiên:\n",
    ">```\n",
    ">5\n",
    ">6.7\n",
    ">9.87654e+06\n",
    ">```\n"
   ]
  },
  {
   "cell_type": "markdown",
   "id": "445cadc0-739f-49fd-86af-e16375d0c53d",
   "metadata": {},
   "source": [
    "Trong trường hợp đầu tiên, `std::cout` in ra `5`, mặc dù chúng ta đã nhập `5.0`. Theo mặc định, `std::cout` sẽ không in ra phần thập phân của một số nếu phần thập phân đó bằng 0.\n",
    "\n",
    "Trong trường hợp thứ hai, số được in ra như mong đợi.\n",
    "\n",
    "Trong trường hợp thứ ba, nó được in ra ở dạng ký hiệu khoa học (nếu bạn cần ôn lại về dạng ký hiệu khoa học, hãy xem bài học [**4.7:\n",
    "Giới thiệu về ký hiệu khoa học**](lesson4_7.ipynb)."
   ]
  },
  {
   "cell_type": "markdown",
   "id": "eaeedc2a-bde3-45c3-bb1b-db14cd52c419",
   "metadata": {},
   "source": [
    "### **Phạm vi của số thực dấu phẩy động**"
   ]
  },
  {
   "cell_type": "markdown",
   "id": "6c8d2911-ede6-4fd6-9291-ec911c914083",
   "metadata": {},
   "source": [
    "Giả sử sử dụng biểu diễn IEEE 754:\n",
    "\n",
    "| Kích thước                              | Giới hạn                                                                     | Độ chính xác |\n",
    "|-----------------------------------------|------------------------------------------------------------------------------|--------------|\n",
    "| 4 byte                                  | ±1.18 x 10<sup>-38</sup> đến ±3.4 x 10<sup>38</sup> and 0.0                  | 6-9 chữ số có nghĩa, thường là 7         | \n",
    "| 8 byte                                  | ±2.23 x 10<sup>-308</sup> đến ±1.80 x 10<sup>308</sup> và 0.0                | 15-18 chữ số có nghĩa, thường là 16     |\n",
    "| 80-bit (thường sử dụng 12 hoặc 16 byte) | ±3.36 x 10<sup>-4932</sup> đến ±1.18 x 10<sup>4932</sup> và 0.0              | 18-21 chữ số có nghĩa                   |\n",
    "| 16 byte                                 | ±3.36 x 10<sup>-4932</sup> đến ±1.18 x 10<sup>4932</sup> và 0.0              | 33-36 chữ số có nghĩa                   |\n",
    "\n",
    "Kiểu số thực 80-bit là một ngoại lệ lịch sử. Trên các bộ xử lý hiện đại, nó thường được triển khai bằng cách sử dụng 12 hoặc 16 byte (đây là kích thước tự nhiên hơn để bộ xử lý xử lý).\n",
    "\n",
    "Có vẻ hơi lạ khi kiểu số thực 80-bit có cùng phạm vi với kiểu số thực 16 byte. Điều này là do chúng có cùng số bit dành cho số mũ - tuy nhiên, số 16 byte có thể lưu trữ nhiều chữ số có nghĩa hơn."
   ]
  },
  {
   "cell_type": "markdown",
   "id": "e56bddd6-e1e2-4716-a8c5-426018bc38c4",
   "metadata": {},
   "source": [
    "### **Độ chính xác của số thực (Floating Point Precision)**"
   ]
  },
  {
   "cell_type": "markdown",
   "id": "adc808bc-6dda-492d-a639-5b7ecc441eef",
   "metadata": {},
   "source": [
    "Hãy xét phân số 1/3. Biểu diễn thập phân của số này là 0.33333333333333... với các chữ số 3 lặp lại vô hạn. Nếu bạn viết con số này ra giấy, đến một lúc nào đó tay bạn sẽ mỏi và cuối cùng bạn sẽ dừng lại. Và con số bạn có được sẽ gần với 0.3333333333... (với các chữ số 3 lặp lại vô hạn) nhưng không chính xác tuyệt đối.\n",
    "\n",
    "Trên máy tính, một số có độ chính xác vô hạn sẽ yêu cầu bộ nhớ vô hạn để lưu trữ, và chúng ta thường chỉ có 4 hoặc 8 byte cho mỗi giá trị. Bộ nhớ hạn chế này có nghĩa là số thực chỉ có thể lưu trữ một số lượng chữ số có nghĩa nhất định - bất kỳ chữ số có nghĩa bổ sung nào cũng bị mất hoặc được biểu diễn không chính xác. Số thực được lưu trữ thực sự sẽ gần với số mong muốn, nhưng không chính xác. Chúng tôi sẽ cung cấp một ví dụ về điều này trong phần tiếp theo.\n",
    "\n",
    "**Độ chính xác** của một kiểu số thực xác định số chữ số có nghĩa mà nó có thể biểu diễn mà không mất thông tin.\n",
    "\n",
    "Số chữ số có nghĩa của một kiểu số thực phụ thuộc vào cả kích thước (`float` có độ chính xác thấp hơn `double`) và giá trị cụ thể được lưu trữ (một số giá trị có thể được biểu diễn chính xác hơn những giá trị khác).\n",
    "\n",
    "Ví dụ, một số kiểu `float` có độ chính xác từ 6 đến 9 chữ số. Điều này có nghĩa là `float` có thể biểu diễn chính xác bất kỳ số nào có tới 6 chữ số có nghĩa. Một số có 7 đến 9 chữ số có nghĩa có thể được biểu diễn chính xác hay không tùy thuộc vào giá trị cụ thể. Và một số có độ chính xác hơn 9 chữ số chắc chắn sẽ không được biểu diễn chính xác.\n",
    "\n",
    "`double` có độ chính xác từ 15 đến 18 chữ số, với hầu hết các giá trị double có ít nhất 16 chữ số có nghĩa. `long double` có độ chính xác tối thiểu là 15, 18 hoặc 33 chữ số có nghĩa tùy thuộc vào số byte nó chiếm dụng.\n",
    "\n",
    ">**Lưu ý quan trọng**<br>\n",
    ">Một kiểu số thực chỉ có thể biểu diễn chính xác một số lượng nhất định các chữ số có nghĩa. Sử dụng một giá trị có nhiều chữ số có nghĩa hơn mức tối thiểu có thể dẫn đến việc giá trị được lưu trữ không chính xác."
   ]
  },
  {
   "cell_type": "markdown",
   "id": "2c25deb0-2995-43e8-87df-13b871981c45",
   "metadata": {},
   "source": [
    "### **Xuất số thực ra màn hình**"
   ]
  },
  {
   "cell_type": "markdown",
   "id": "bd3e63d8-f6e3-4db4-a731-29c58e7ef54b",
   "metadata": {},
   "source": [
    "Khi xuất số thực, `std::cout` có độ chính xác mặc định là 6 - nghĩa là nó giả định tất cả các biến số thực chỉ có ý nghĩa đến 6 chữ số (độ chính xác tối thiểu của một `float`), và do đó nó sẽ cắt bỏ bất kỳ thứ gì sau đó.\n",
    "\n",
    "Chương trình sau đây cho thấy `std::cout` cắt thành 6 chữ số:\n",
    ">```\n",
    ">#include <iostream>\n",
    ">\n",
    ">int main() {\n",
    ">  std::cout << 9.87654321f << '\\n';\n",
    ">  std::cout << 987.654321f << '\\n';\n",
    ">  std::cout << 987654.321f << '\\n';\n",
    ">  std::cout << 9876543.21f << '\\n';\n",
    ">  std::cout << 0.0000987654321f << '\\n';\n",
    ">\n",
    ">  return 0;\n",
    ">}\n",
    ">```\n",
    "\n",
    "Chương trình này xuất ra:\n",
    ">```\n",
    ">9.87654\n",
    ">987.654\n",
    ">987654\n",
    ">9.87654e+006\n",
    ">9.87654e-005\n",
    ">```\n",
    "\n",
    "Lưu ý rằng mỗi số này chỉ có 6 chữ số có nghĩa.\n",
    "\n",
    "Ngoài ra, lưu ý rằng `std::cout` sẽ chuyển sang xuất số theo ký hiệu khoa học trong một số trường hợp. Tùy thuộc vào trình biên dịch, số mũ thường được lấp đầy với một số chữ số tối thiểu. Đừng lo lắng, `9.87654e+006` giống với `9.87654e6`, chỉ khác là có thêm một vài số mũ 0. Số lượng tối thiểu chữ số mũ được hiển thị phụ thuộc vào trình biên dịch (Visual Studio sử dụng 3, một số trình biên dịch khác sử dụng 2 theo tiêu chuẩn C99).\n",
    "\n",
    "Chúng ta có thể ghi đè lên độ chính xác mặc định mà `std::cout` hiển thị bằng cách sử dụng **hàm thao tác xuất** có tên `std::setprecision()`. Hàm thao tác xuất thay đổi cách dữ liệu được xuất ra và được định nghĩa trong header `<iomanip>`."
   ]
  },
  {
   "cell_type": "markdown",
   "id": "adf63777-a758-4cdb-a546-61aa2a73485f",
   "metadata": {},
   "source": [
    ">```\n",
    ">#include <iomanip> // for output manipulator std::setprecision()\n",
    ">#include <iostream>\n",
    ">\n",
    ">int main() {\n",
    ">  std::cout << std::setprecision(17); // hiển thị 17 chữ số thập phân\n",
    ">  std::cout << 3.33333333333333333333333333333333333333f << '\\n'; // hậu tố f nghĩa là float\n",
    ">  std::cout << 3.33333333333333333333333333333333333333 << '\\n'; // không có hậu tố nghĩa là double\n",
    ">\n",
    ">  return 0;\n",
    ">}\n",
    ">```\n",
    "\n",
    "**Xuất ra:**\n",
    ">```\n",
    ">3.3333332538604736\n",
    ">3.3333333333333335\n",
    ">```\n",
    "\n",
    "Bởi vì chúng tôi đặt độ chính xác thành 17 chữ số có nghĩa trong hàm `std::setprecision()`, mỗi số ở trên được in với 17 chữ số. Nhưng, như bạn có thể thấy, các số chắc chắn không chính xác đến 17 chữ số! Và vì `float` kém chính xác hơn `double` nên `float` có nhiều lỗi hơn.\n",
    "\n",
    ">**Mẹo**<br>\n",
    ">Hàm thao tác xuất (và hàm thao tác nhập) có tính **dính**. Nghĩa là nếu bạn đặt giá trị cho chúng, giá trị đó sẽ được giữ nguyên cho các lần in/nhập tiếp theo.\\\n",
    ">Ngoại lệ duy nhất là hàm `std::setw`. Một số hoạt động IO có thể đặt lại `std::setw`, vì vậy ta nên sử dụng `std::setw` mỗi khi cần thiết.\n",
    "\n",
    "Vấn đề về độ chính xác không chỉ ảnh hưởng đến các số thập phân mà còn ảnh hưởng đến bất kỳ số nào có quá nhiều chữ số có nghĩa. Hãy xem xét một số lớn:\n",
    "\n",
    ">```\n",
    ">#include <iomanip> // for std::setprecision()\n",
    ">#include <iostream>\n",
    ">\n",
    ">int main() {\n",
    ">  float f { 123456789.0f }; // f có 10 chữ số có nghĩa\n",
    ">  std::cout << std::setprecision(9); // để hiển thị 9 chữ số trong f\n",
    ">  std::cout << f << '\\n';\n",
    ">\n",
    ">  return 0;\n",
    ">}\n",
    ">```\n",
    "\n",
    "Kết quả in ra:\n",
    ">`123456792`\n",
    "\n",
    "Số `123456792` lớn hơn `123456789`. Giá trị `123456789.0` có 10 chữ số có nghĩa, nhưng các giá trị `float` thường chỉ có độ chính xác khoảng `7` chữ số (và kết quả `123456792` chỉ chính xác đến 7 chữ số có nghĩa). Điều này có nghĩa là chúng ta đã mất một phần độ chính xác! Khi mất độ chính xác vì không thể lưu trữ số chính xác, đây được gọi là **lỗi làm tròn (rounding error)**.\n",
    "\n",
    "Do đó, cần thận trọng khi sử dụng số thực yêu cầu độ chính xác cao hơn khả năng lưu trữ của biến.\n",
    "\n",
    ">**Thực hành tốt nhất**<br>\n",
    ">Ưu tiên sử dụng `double` hơn `float` trừ khi dung lượng là hạn chế, vì thiếu độ chính xác trong `float` thường dẫn đến sai số.\n",
    "\n"
   ]
  },
  {
   "cell_type": "markdown",
   "id": "7af19bad-931c-44bd-970e-cb6144ffbde0",
   "metadata": {},
   "source": [
    "### **Các lỗi làm tròn khiến việc so sánh số thực trở nên khó khăn`**"
   ]
  },
  {
   "cell_type": "markdown",
   "id": "17c21cbc-3d68-42bd-895f-82e0a1d97fec",
   "metadata": {},
   "source": [
    "Số thực phức tạp để làm việc do những khác biệt không dễ thấy giữa số nhị phân (cách lưu trữ dữ liệu) và số thập phân (cách chúng ta suy nghĩ) về một giá trị. Xét phân số 1/10. Trong hệ thập phân, nó được biểu diễn dễ dàng dưới dạng 0.1, và chúng ta thường coi 0.1 là một số dễ biểu diễn với 1 chữ số có nghĩa. Tuy nhiên, trong hệ nhị phân, giá trị thập phân 0.1 được biểu diễn bởi chuỗi vô hạn: `0.00011001100110011…` Do đó, khi gán 0.1 cho một số thực, chúng ta sẽ gặp phải các vấn đề về độ chính xác.\n",
    ">```\n",
    ">#include <iomanip> // for std::setprecision()\n",
    ">#include <iostream>\n",
    ">\n",
    ">int main()\n",
    ">{\n",
    ">    double d {0.1};\n",
    ">    std::cout << d << '\\n'; // sử dụng độ chính xác mặc định của cout là 6\n",
    ">    std::cout << std::setprecision(17);\n",
    ">    std::cout << d << '\\n';\n",
    ">\n",
    ">    return 0;\n",
    ">}\n",
    ">```\n",
    "\n",
    "**Kết quả in ra:**\n",
    ">```\n",
    ">0.1\n",
    ">0.10000000000000001\n",
    ">```\n",
    "\n",
    "Ở dòng đầu tiên, `std::cout` in ra `0.1`, như mong đợi.\n",
    "\n",
    "Ở dòng dưới cùng, nơi chúng ta yêu cầu `std::cout` hiển thị 17 chữ số thập phân, chúng ta thấy rằng `d` thực ra không hoàn toàn bằng `0.1`! Điều này là do kiểu `double` phải cắt bớt giá trị xấp xỉ do bộ nhớ của nó bị hạn chế. Kết quả là một số chính xác đến 16 chữ số có nghĩa (đó là đảm bảo của kiểu `double`), nhưng số đó không chính xác bằng `0.1`. Lỗi làm tròn có thể khiến một số nhỏ hơn hoặc lớn hơn một chút, tùy thuộc vào vị trí xảy ra việc cắt bỏ giá trị.\n",
    "\n",
    "Lỗi làm tròn có thể dẫn đến những hậu quả không mong đợi:\n",
    ">```\n",
    ">#include <iomanip> // for std::setprecision()\n",
    ">#include <iostream>\n",
    ">\n",
    ">int main()\n",
    ">{\n",
    ">    std::cout << std::setprecision(17);\n",
    ">\n",
    ">    double d1 { 1.0 };\n",
    ">    std::cout << d1 << '\\n';\n",
    ">\n",
    ">    double d2 { 0.1 + 0.1 + 0.1 + 0.1 + 0.1 + 0.1 + 0.1 + 0.1 + 0.1 + 0.1 }; // đáng ra phải bằng 1.0\n",
    ">    std::cout << d2 << '\\n';\n",
    ">\n",
    ">    return 0;\n",
    ">}\n",
    ">```\n",
    "\n",
    ">```\n",
    ">1\n",
    ">0.99999999999999989\n",
    ">```\n",
    "\n",
    "Mặc dù chúng ta có thể mong đợi `d1` và `d2` bằng nhau, nhưng chúng ta thấy rằng chúng không bằng nhau. Nếu chúng ta so sánh `d1` và `d2` trong chương trình, chương trình có thể sẽ không hoạt động như mong đợi. Do số thực thường không chính xác, việc so sánh số thực nói chung là một vấn đề rắc rối - chúng tôi sẽ thảo luận thêm về chủ đề này (và các giải pháp) trong bài **6.6 - Các toán tử quan hệ và so sánh số thực**.\n",
    "\n",
    "Một lưu ý cuối cùng về lỗi làm tròn: các phép toán (như cộng và nhân) có xu hướng khiến lỗi làm tròn tăng lên. Vì vậy, mặc dù `0.1` có lỗi làm tròn ở chữ số thập phân thứ 17, nhưng khi chúng ta cộng `0.1` mười lần, lỗi làm tròn đã lan sang chữ số thập phân thứ 16. Các phép toán tiếp tục sẽ khiến lỗi này trở nên đáng kể hơn.\n",
    "\n",
    ">**Lưu ý quan trọng:**<br>\n",
    ">Lỗi làm tròn xảy ra khi không thể lưu trữ chính xác một số. Điều này có thể xảy ra ngay cả với những số đơn giản, như 0.1. Do đó, lỗi làm tròn có thể, và thực sự, xảy ra mọi lúc. Lỗi làm tròn không phải là ngoại lệ - chúng là quy tắc. Không bao giờ giả định số thực của bạn là chính xác tuyệt đối.\n",
    ">\n",
    ">Một hệ quả phụ của quy tắc này là: hãy cẩn thận khi số dấu phẩy động cho dữ liệu tài chính hoặc tiền tệ.\n",
    "\n",
    ">**Nội dung liên quan**<br>\n",
    ">Để hiểu rõ hơn về cách các số dấu phẩy động được lưu trữ ở dạng nhị phân, hãy xem công cụ [float.expose](https://float.exposed/0x3dcccccd).\n",
    ">\n",
    ">Để tìm hiểu thêm về số dấu phẩy động và lỗi làm tròn, [floating-point-gui.de](https://floating-point-gui.de/) và [fabiensanglard.net](https://fabiensanglard.net/floating_point_visually_explained/index.html) có các hướng dẫn dễ tiếp cận về chủ đề này.\n",
    "\n"
   ]
  },
  {
   "cell_type": "markdown",
   "id": "54759c5d-f0ba-4735-9753-c74241fec3a2",
   "metadata": {},
   "source": [
    "### **`NaN` và `Inf` (Not a Number và Infinity)**"
   ]
  },
  {
   "cell_type": "markdown",
   "id": "0b97dded-8e3c-465e-942f-b9c9ed81ed4f",
   "metadata": {},
   "source": [
    "Có hai loại đặc biệt của số thực:\n",
    "- `Inf` (Infinity): Biểu diễn vô cực, có thể là dương hoặc âm.\n",
    "- `NaN` (Not a Number): Không phải là một số. Có nhiều loại `NaN` khác nhau (chúng tôi sẽ không đề cập ở đây).\n",
    "\n",
    "`NaN` và `Inf` chỉ khả dụng nếu trình biên dịch sử dụng một định dạng cụ thể (IEEE 754) cho số thực. Nếu sử dụng định dạng khác, đoạn mã sau sẽ tạo ra hành vi bất định.\n",
    "\n",
    "Đây là một chương trình hiển thị cả ba loại số:\n",
    ">```\n",
    ">#include <iostream>\n",
    ">\n",
    ">int main()\n",
    ">{\n",
    ">    double zero {0.0};\n",
    ">    double posinf { 5.0 / zero }; // vô cực dương\n",
    ">    std::cout << posinf << '\\n';\n",
    ">\n",
    ">    double neginf { -5.0 / zero }; // vô cực âm\n",
    ">    std::cout << neginf << '\\n';\n",
    ">\n",
    ">    double nan { zero / zero }; // không phải là một số (không hợp lý về mặt toán học)\n",
    ">    std::cout << nan << '\\n';\n",
    ">\n",
    ">    return 0;\n",
    ">}\n",
    ">```\n",
    "\n",
    "Kết quả chạy trên Visual Studio 2008 trên Windows:\n",
    ">```\n",
    ">1.#INF\n",
    ">-1.#INF\n",
    ">1.#IND\n",
    ">```\n",
    "\n",
    "`INF` là viết tắt của vô cực (infinity), và `IND` là viết tắt của không xác định (indeterminate). Lưu ý rằng kết quả của việc in ra `Inf` và `NaN` phụ thuộc vào nền tảng, vì vậy kết quả của bạn có thể khác nhau.\n",
    "\n",
    ">**Thực hành tốt nhất**<br>\n",
    ">Tốt nhất là nên tránh chia cho `0.0` hoàn toàn, ngay cả khi trình biên dịch của bạn hỗ trợ."
   ]
  },
  {
   "cell_type": "markdown",
   "id": "e3ab9803-67d9-41d7-a588-95542f94e5a2",
   "metadata": {},
   "source": [
    "### **Kết luận**"
   ]
  },
  {
   "cell_type": "markdown",
   "id": "8cc6f3cd-6277-430b-bb8c-37e913a91ef4",
   "metadata": {},
   "source": [
    "Tóm lại, có hai điều bạn cần nhớ về số thực:\n",
    "- Số thực hữu ích để lưu trữ các số rất lớn hoặc rất nhỏ, bao gồm cả các số có phần thập phân.\n",
    "- Số thực thường có các lỗi làm tròn nhỏ, ngay cả khi số đó có ít chữ số có nghĩa hơn độ chính xác. Trong nhiều trường hợp, chúng ta không chú ý đến những lỗi này vì chúng rất nhỏ và vì các số được cắt bớt để hiển thị. Tuy nhiên, việc so sánh các số thực có thể không mang lại kết quả mong đợi. Thực hiện các phép toán trên các giá trị này sẽ khiến lỗi làm tròn tăng lên."
   ]
  },
  {
   "cell_type": "markdown",
   "id": "110337b7-d9d2-49b2-b814-cc47bf3dcd6b",
   "metadata": {
    "jp-MarkdownHeadingCollapsed": true
   },
   "source": [
    "## **Bài 4.9: <u>Giá trị logic (Boolean Values)</u>**"
   ]
  },
  {
   "cell_type": "markdown",
   "id": "f2565e48-1303-4279-873e-2c5241ce61f4",
   "metadata": {},
   "source": [
    "Trong thực tế, chúng ta thường xuyên đặt ra hoặc được hỏi những câu hỏi chỉ có thể trả lời bằng \"có\" hoặc \"không\". Ví dụ: \"Táo có phải là trái cây?\" (Có) hoặc \"Bạn có thích măng tây không?\" (Không).\n",
    "\n",
    "Tương tự, ta có thể đặt ra những câu hỏi có thể trả lời bằng \"đúng\" hoặc \"sai\". Ví dụ: \"Táo là một loại trái cây\" (Đúng) hoặc \"Tôi thích măng tây\" (Sai).\n",
    "\n",
    "Những loại câu chỉ có hai kết quả khả thi này (có/đúng hoặc không/sai) rất phổ biến, do đó nhiều ngôn ngữ lập trình bao gồm một kiểu dữ liệu đặc biệt để xử lý chúng. Kiểu dữ liệu này được gọi là **Boolean** (Lưu ý: **Boolean** được viết hoa vì nó được đặt theo tên của nhà phát minh ra nó, George Boole)."
   ]
  },
  {
   "cell_type": "markdown",
   "id": "10766d36-c692-46b8-9bc5-047fd3844c19",
   "metadata": {},
   "source": [
    "### **Biến Boolean**"
   ]
  },
  {
   "cell_type": "markdown",
   "id": "435ee5df-6d73-487b-9fa4-fef6e9b1e5e8",
   "metadata": {},
   "source": [
    "**Biến Boolean** là biến chỉ có thể có hai giá trị: `true` (đúng) và `false` (sai).\n",
    "\n",
    "Để khai báo một biến Boolean, chúng ta sử dụng từ khóa `bool`.\n",
    ">`bool b;`\n",
    "\n",
    "Để khởi tạo hoặc gán giá trị `true` hoặc `false` cho một biến Boolean, chúng ta sử dụng các từ khóa `true` và `false`.\n",
    ">```\n",
    ">bool b1 { true };\n",
    ">bool b2 { false };\n",
    ">b1 = false;\n",
    ">bool b3 {}; // mặc định khởi tạo thành false\n",
    ">```\n",
    "\n",
    "Giống như toán tử một ngôi \"trừ\" (`-`) có thể được sử dụng để tạo ra một số nguyên âm, toán tử logic **NOT** (`!`) có thể được sử dụng để đảo ngược giá trị Boolean từ `true` thành `false` hoặc `false` thành `true`:\n",
    ">```\n",
    ">bool b1 { !true }; // b1 sẽ được khởi tạo với giá trị false\n",
    ">bool b2 { !false }; // b2 sẽ được khởi tạo với giá trị true\n",
    ">```\n",
    "\n",
    "Giá trị Boolean không thực sự được lưu trữ trong các biến Boolean dưới dạng các từ `\"true\"` hoặc `\"false\"`. Thay vào đó, chúng được lưu trữ dưới dạng số nguyên: `true` trở thành số nguyên `1`, và `false` trở thành số nguyên `0`. Tương tự, khi các giá trị Boolean được đánh giá, chúng không thực sự được đánh giá thành `\"true\"` hoặc `\"false\"`. Chúng được đánh giá thành các số nguyên `0` (sai) hoặc `1` (đúng). \n",
    "\n",
    "Vì Boolean thực sự lưu trữ các số nguyên, nên chúng được coi là một **kiểu dữ liệu giống số nguyên (integral type)**."
   ]
  },
  {
   "cell_type": "markdown",
   "id": "cec4bc15-8149-4149-b0d0-e39da9d78884",
   "metadata": {},
   "source": [
    "### **In giá trị Boolean**"
   ]
  },
  {
   "cell_type": "markdown",
   "id": "dcd04e5f-ef7c-464e-bbb0-af9b3e5d5b35",
   "metadata": {},
   "source": [
    "Khi chúng ta in các giá trị Boolean, `std::cout` sẽ in `0` cho `false` và `1` cho `true`:\n",
    ">```\n",
    ">#include <iostream>\n",
    ">\n",
    ">int main()\n",
    ">{\n",
    ">    std::cout << true << '\\n'; // true được đánh giá thành 1\n",
    ">    std::cout << !true << '\\n'; // !true được đánh giá thành 0\n",
    ">\n",
    ">    bool b {false};\n",
    ">    std::cout << b << '\\n'; // b là false, được đánh giá thành 0\n",
    ">    std::cout << !b << '\\n'; // !b là true, được đánh giá thành 1\n",
    ">    return 0;\n",
    ">}\n",
    ">```\n",
    "\n",
    "**Kết quả in:**\n",
    ">```\n",
    ">1\n",
    ">0\n",
    ">0\n",
    ">1\n",
    ">```\n",
    "\n",
    "Nếu bạn muốn `std::cout` in `\"true\"` hoặc `\"false\"` thay vì `0` hoặc `1`, bạn có thể sử dụng `std::boolalpha`. \n",
    "\n",
    "**Đây là một ví dụ:**\n",
    ">```\n",
    ">#include <iostream>\n",
    ">\n",
    ">int main()\n",
    ">{\n",
    ">    std::cout << true << '\\n';\n",
    ">    std::cout << false << '\\n';\n",
    ">\n",
    ">    std::cout << std::boolalpha; // in bool dưới dạng true hoặc false\n",
    ">\n",
    ">    std::cout << true << '\\n';\n",
    ">    std::cout << false << '\\n';\n",
    ">    return 0;\n",
    ">}\n",
    ">```\n",
    "\n",
    "**Kết quả in:**\n",
    ">```\n",
    ">1\n",
    ">0\n",
    ">true\n",
    ">false\n",
    ">```\n",
    "\n",
    "Bạn có thể sử dụng `std::noboolalpha` để tắt tính năng in `\"true\"` hoặc `\"false\"`."
   ]
  },
  {
   "cell_type": "markdown",
   "id": "f5cff25f-17e0-49a6-8beb-e57b4ba5ab52",
   "metadata": {},
   "source": [
    "### **Chuyển đổi từ số nguyên sang Boolean**"
   ]
  },
  {
   "cell_type": "markdown",
   "id": "8f1d3122-0e67-424f-9591-9fbd67306c01",
   "metadata": {},
   "source": [
    "Khi sử dụng khởi tạo chuẩn (uniform initialization), bạn có thể khởi tạo biến bằng các giá trị số nguyên `0` (cho `false`) và `1` (cho `true`) (nhưng thực sự nên sử dụng `false` và `true` thay thế). Các giá trị số nguyên khác sẽ gây ra lỗi biên dịch:\n",
    ">```\n",
    ">#include <iostream>\n",
    ">\n",
    ">int main()\n",
    ">{\n",
    ">\tbool bFalse { 0 }; // okay: khởi tạo thành false\n",
    ">\tbool bTrue  { 1 }; // okay: khởi tạo thành true\n",
    ">\tbool bNo    { 2 }; // error: không được phép chuyển đổi thu hẹp kiểu dữ liệu\n",
    ">\n",
    ">\tstd::cout << bFalse << bTrue << bNo << '\\n';\n",
    ">\n",
    ">\treturn 0;\n",
    ">}\n",
    ">```\n",
    "\n",
    "Tuy nhiên, trong bất kỳ ngữ cảnh khai báo nào cho phép chuyển đổi số nguyên sang Boolean, số nguyên `0` sẽ được chuyển đổi thành `false`, và bất kỳ số nguyên nào khác sẽ được chuyển đổi thành `true`.\n",
    ">```\n",
    ">#include <iostream>\n",
    ">\n",
    ">int main()\n",
    ">{\n",
    ">    std::cout << std::boolalpha; // in bool dưới dạng true hoặc false\n",
    ">\t\n",
    ">    bool b1 = 4 ; // khởi tạo sao chép cho phép chuyển đổi ẩn từ int sang bool\n",
    ">    std::cout << b1 << '\\n';\n",
    ">\n",
    ">    bool b2 = 0 ; // khởi tạo sao chép cho phép chuyển đổi ẩn từ int sang bool\n",
    ">    std::cout << b2 << '\\n';\n",
    ">    \n",
    ">    return 0;\n",
    ">}\n",
    ">```\n",
    "\n",
    "**Kết quả in ra:**\n",
    ">```\n",
    ">true\n",
    ">false\n",
    ">```\n",
    "\n",
    "**Lưu ý:** `bool b1 = 4;` có thể tạo ra cảnh báo. Nếu vậy, bạn cần tắt tính năng `\"treating warnings as errors\"` (coi cảnh báo như lỗi) để biên dịch ví dụ."
   ]
  },
  {
   "cell_type": "markdown",
   "id": "6b65d636-bdfc-4a62-91c0-4e037598c8cb",
   "metadata": {},
   "source": [
    "### **Nhập giá trị Boolean**"
   ]
  },
  {
   "cell_type": "markdown",
   "id": "61d2d562-effc-4759-995a-1dd481c58938",
   "metadata": {},
   "source": [
    "Nhập giá trị Boolean bằng `std::cin` đôi khi gây khó khăn cho người lập trình mới.\n",
    "\n",
    "Xem xét chương trình sau:\n",
    ">```\n",
    ">#include <iostream>\n",
    ">\n",
    ">int main()\n",
    ">{\n",
    ">    bool b{}; // mặc định khởi tạo thành false\n",
    ">    std::cout << \"Nhập một giá trị Boolean: \";\n",
    ">    std::cin >> b;\n",
    ">    std::cout << \"Bạn đã nhập: \" << b << '\\n';\n",
    ">    \n",
    ">    return 0;\n",
    ">}\n",
    ">```\n",
    "\n",
    ">```\n",
    ">Nhập một giá trị Boolean: true\n",
    ">Bạn đã nhập: 0\n",
    ">```\n",
    "\n",
    "Điều gì đã xảy ra vậy?\n",
    "\n",
    "Lý do là `std::cin` chỉ chấp nhận hai đầu vào cho biến Boolean: `0` (sai) và `1` (đúng). Bất kỳ đầu vào nào khác sẽ khiến `std::cin` hoạt động không chính xác mà không báo lỗi. Trong trường hợp này, vì chúng ta nhập `\"true\"`, `std::cin` đã sai sót và gán giá trị `false` cho biến `b`. Do đó, khi `std::cout` in giá trị của `b`, nó hiển thị `0`.\n",
    "\n",
    "Để cho phép `std::cin` chấp nhận `\"false\"` và `\"true\"` làm đầu vào, tùy chọn `std::boolalpha` phải được bật:\n",
    ">```\n",
    ">#include <iostream>\n",
    ">\n",
    ">int main()\n",
    ">{\n",
    ">    bool b{};\n",
    ">    std::cout << \"Nhập một giá trị Boolean: \";\n",
    ">\n",
    ">    // Cho phép người dùng nhập \"true\" hoặc \"false\" cho giá trị Boolean\n",
    ">    // Phân biệt chữ hoa chữ thường, ví dụ: True hoặc TRUE sẽ không hoạt động\n",
    ">    std::cin >> std::boolalpha;\n",
    ">    std::cin >> b;\n",
    ">\n",
    ">    std::cout << \"Bạn đã nhập: \" << b << '\\n';\n",
    ">\n",
    ">    return 0;\n",
    ">}\n",
    "\n",
    ">**Cảnh báo**<br>\n",
    ">Khi bật `std::boolalpha`, `0` và `1` sẽ không còn được coi là đầu vào Boolean mà sẽ được chuyển đổi thành `\"false\"` (cùng với bất kỳ đầu vào nào khác ngoài `\"true\"`).\\\n",
    ">Bật `std::boolalpha` chỉ cho phép chấp nhận `\"true\"` và `\"false\"` viết thường. Các biến thể viết hoa sẽ không được chấp nhận.\n"
   ]
  },
  {
   "cell_type": "markdown",
   "id": "a4dc5c71-25b9-4e0d-aa88-d8986a226c8a",
   "metadata": {},
   "source": [
    "### **Giá trị trả về Boolean (Boolean Return Values)**"
   ]
  },
  {
   "cell_type": "markdown",
   "id": "7ac1d919-a261-41d3-8f12-ee47672fb7b0",
   "metadata": {},
   "source": [
    "Giá trị Boolean thường được sử dụng làm giá trị trả về cho các hàm kiểm tra xem một điều kiện nào đó là đúng hay sai. Các hàm này thường được đặt tên bắt đầu bằng từ **`is`** (ví dụ: `isEqual`) hoặc **`has`** (ví dụ: `hasCommonDivisor`).\n",
    "\n",
    "**Xem xét ví dụ sau về hàm `isEqual`:**\n",
    ">```\n",
    ">#include <iostream>\n",
    ">\n",
    ">// Trả về true nếu x và y bằng nhau, ngược lại trả về false\n",
    ">bool isEqual(int x, int y)\n",
    ">{\n",
    ">    return x == y; // toán tử == trả về true nếu x bằng y, ngược lại trả về false\n",
    ">}\n",
    ">\n",
    ">int main()\n",
    ">{\n",
    ">    std::cout << \"Nhập một số nguyên: \";\n",
    ">    int x{};\n",
    ">    std::cin >> x;\n",
    ">\n",
    ">    std::cout << \"Nhập một số nguyên khác: \";\n",
    ">    int y{};\n",
    ">    std::cin >> y;\n",
    ">\n",
    ">    std::cout << std::boolalpha; // in bool dưới dạng true hoặc false\n",
    ">\n",
    ">    std::cout << x << \" và \" << y << \" có bằng nhau không? \";\n",
    ">    std::cout << isEqual(x, y) << '\\n'; // sẽ trả về true hoặc false\n",
    ">\n",
    ">    return 0;\n",
    ">}\n",
    ">```\n",
    "\n",
    "**Đây là kết quả chạy của chương trình:**\n",
    ">```\n",
    ">Nhập một số nguyên: 5\n",
    ">Nhập một số nguyên khác: 5\n",
    ">5 và 5 có bằng nhau không? true\n",
    "\n",
    ">```\n",
    ">Nhập một số nguyên: 6\n",
    ">Nhập một số nguyên khác: 4\n",
    ">6 và 4 có bằng nhau không? false\n",
    ">```\n",
    "\n",
    "**Giải thích hoạt động:**\n",
    "\n",
    "Đầu tiên, chương trình đọc các giá trị số nguyên cho `x` và `y`. Tiếp theo, biểu thức `isEqual (x, y)` được tính toán. Trong lần chạy đầu tiên, điều này dẫn đến việc gọi hàm `isEqual(5, 5)`. Bên trong hàm đó, `5 == 5` được đánh giá, tạo ra giá trị `true`. Giá trị `true` được trả về cho trình gọi để được in bởi `std::cout`. Trong lần chạy thứ hai, lệnh gọi `isEqual(6, 4)` trả về giá trị `false`.\n",
    "\n",
    "Mặc dù ban đầu giá trị Boolean có thể hơi khó làm quen, nhưng một khi bạn hiểu được cách thức hoạt động của chúng, bạn sẽ thấy chúng đơn giản và hữu ích! Giá trị Boolean đóng vai trò quan trọng trong ngôn ngữ lập trình C++, và bạn sẽ sử dụng chúng nhiều hơn tất cả các kiểu dữ liệu cơ bản khác cộng lại!"
   ]
  },
  {
   "cell_type": "markdown",
   "id": "73b012a6-cb50-4038-95e7-3cd1072de651",
   "metadata": {
    "jp-MarkdownHeadingCollapsed": true
   },
   "source": [
    "## **Bài 4.10: <u>Giới thiệu về câu lệnh `if`</u>**"
   ]
  },
  {
   "cell_type": "markdown",
   "id": "e01f598c-28fa-40e6-bcd1-81e6a1e04115",
   "metadata": {},
   "source": [
    "Hãy tưởng tượng bạn đang đi chợ và bạn cùng phòng nói với bạn, *\"nếu họ có bán dâu tây giảm giá, hãy mua một ít\"*. Đây là một câu lệnh điều kiện, nghĩa là bạn chỉ thực hiện một hành động *(\"mua một ít\")* khi điều kiện *(\"họ có bán dâu tây giảm giá\")* là đúng.\n",
    "\n",
    "Những câu lệnh điều kiện như vậy rất phổ biến trong lập trình, vì chúng cho phép chúng ta triển khai hành vi theo điều kiện vào các chương trình của mình. Loại câu lệnh điều kiện đơn giản nhất trong C++ được gọi là câu lệnh `if`. Câu lệnh `if` cho phép chúng ta chỉ thực thi một (hoặc nhiều) dòng lệnh nếu một điều kiện nào đó là đúng.\n",
    "\n",
    "**Cấu trúc đơn giản nhất của câu lệnh `if` như sau:**\n",
    ">```\n",
    ">if (condition) true_statement;\n",
    ">```\n",
    "\n",
    "Để dễ đọc, cấu trúc này thường được viết thành:\n",
    ">```\n",
    ">if (condition)\n",
    ">    true_statement;\n",
    ">```\n",
    "\n",
    "**Điều kiện** (còn được gọi là **biểu thức điều kiện**) là một biểu thức được đánh giá thành giá trị Boolean (`true` hoặc `false`).\n",
    "\n",
    "Nếu điều kiện của câu lệnh `if` được đánh giá thành giá trị Boolean `true`, thì `true_statement` được thực thi. Ngược lại, nếu điều kiện được đánh giá thành giá trị Boolean `false`, thì `true_statement` sẽ bị bỏ qua.\n",
    "\n"
   ]
  },
  {
   "cell_type": "markdown",
   "id": "03399f98-5a6c-4dab-b5d2-5ffa73e036ba",
   "metadata": {},
   "source": [
    "### **Ví dụ về chương trình sử dụng câu lệnh `if`**"
   ]
  },
  {
   "cell_type": "markdown",
   "id": "8c1614ae-e57b-4e84-a3bd-04488734b577",
   "metadata": {},
   "source": [
    "**Xét chương trình sau:**\n",
    ">```\n",
    ">#include <iostream>\n",
    ">\n",
    ">int main()\n",
    ">{\n",
    ">    std::cout << \"Nhập một số nguyên: \";\n",
    ">    int x {};\n",
    ">    std::cin >> x;\n",
    ">\n",
    ">    if (x == 0)\n",
    ">        std::cout << \"Giá trị bằng 0\\n\";\n",
    ">\n",
    ">    return 0;\n",
    ">}\n",
    ">```\n",
    "\n",
    "\n",
    "**Đây là kết quả chạy của chương trình:**\n",
    ">```\n",
    ">Nhập một số nguyên: 0\n",
    ">Giá trị bằng 0\n",
    ">```\n",
    "\n",
    "Chúng ta hãy xem xét chi tiết cách hoạt động của chương trình này.\n",
    "\n",
    "Đầu tiên, người dùng nhập một số nguyên. Sau đó, điều kiện `x == 0` được đánh giá. Toán tử so sánh bằng (`==`) được sử dụng để kiểm tra xem hai giá trị có bằng nhau hay không. Toán tử `==` trả về `true` nếu các toán hạng bằng nhau và `false` nếu chúng không bằng nhau. Vì `x` có giá trị `0` và `0 == 0` là `true`, biểu thức này được đánh giá thành `true`.\n",
    "\n",
    "Do điều kiện được đánh giá thành `true`, câu lệnh tiếp theo được thực thi, in ra `\"Giá trị bằng 0\"`.\n",
    "\n",
    "Đây là một lần chạy khác của chương trình này:\n",
    ">```\n",
    ">Nhập một số nguyên: 5\n",
    ">```\n",
    "\n",
    "Trong trường hợp này, `x == 0` được đánh giá thành `false`. Câu lệnh tiếp theo bị bỏ qua, chương trình kết thúc và không in thêm gì nữa.\n",
    "\n",
    ">**Cảnh báo**<br>\n",
    ">Câu lệnh `if` chỉ có thể thực thi có điều kiện một câu lệnh duy nhất. Chúng ta sẽ thảo luận về cách thực thi có điều kiện nhiều câu lệnh trong bài học 8.2 - Câu lệnh if và khối lệnh (If statements and blocks)."
   ]
  },
  {
   "cell_type": "markdown",
   "id": "7fd9715a-8590-410f-9de6-d53f24b3b08c",
   "metadata": {},
   "source": [
    "### **Câu lệnh `if-else`**"
   ]
  },
  {
   "cell_type": "markdown",
   "id": "8e3ec378-4d8a-4f7c-9503-169db0ca3f06",
   "metadata": {},
   "source": [
    "Trong ví dụ trên, nếu chúng ta muốn thông báo cho người dùng rằng số họ nhập vào khác `0` thì sao?\n",
    "\n",
    "**Chúng ta có thể viết như thế này:**\n",
    ">```\n",
    ">#include <iostream>\n",
    ">\n",
    ">int main()\n",
    ">{\n",
    ">    std::cout << \"Nhập một số nguyên: \";\n",
    ">    int x {};\n",
    ">    std::cin >> x;\n",
    ">\n",
    ">    if (x == 0)\n",
    ">        std::cout << \"Giá trị bằng 0\\n\";\n",
    ">    if (x != 0)\n",
    ">        std::cout << \"Giá trị khác 0\\n\";\n",
    ">\n",
    ">    return 0;\n",
    ">}\n",
    ">```\n",
    "\n",
    "**Hoặc như thế này:**\n",
    ">```\n",
    ">#include <iostream>\n",
    ">\n",
    ">int main()\n",
    ">{\n",
    ">    std::cout << \"Nhập một số nguyên: \";\n",
    ">    int x {};\n",
    ">    std::cin >> x;\n",
    ">\n",
    ">    bool zero { (x == 0) };\n",
    ">    if (zero)\n",
    ">        std::cout << \"Giá trị bằng 0\\n\";\n",
    ">    if (!zero)\n",
    ">        std::cout << \"Giá trị khác 0\\n\";\n",
    ">\n",
    ">    return 0;\n",
    ">}\n",
    ">```\n",
    "\n",
    "Cả hai chương trình này đều phức tạp hơn mức cần thiết. Thay vào đó, chúng ta có thể sử dụng một dạng khác của câu lệnh `if` được gọi là `if-else`. Cấu trúc của `if-else` như sau:\n",
    ">```\n",
    ">if (condition)\n",
    ">    true_statement;\n",
    ">else\n",
    ">    false_statement;\n",
    ">```\n",
    "\n",
    "Nếu điều kiện được đánh giá thành giá trị Boolean `true`, thì `true_statement` được thực thi. Ngược lại, `false_statement` sẽ được thực thi.\n",
    "\n",
    "**Hãy sửa đổi chương trình trước đó của chúng ta để sử dụng `if-else`:**\n",
    ">```\n",
    ">#include <iostream>\n",
    ">\n",
    ">int main()\n",
    ">{\n",
    ">    std::cout << \"Nhập một số nguyên: \";\n",
    ">    int x {};\n",
    ">    std::cin >> x;\n",
    ">\n",
    ">    if (x == 0)\n",
    ">        std::cout << \"Giá trị bằng 0\\n\";\n",
    ">    else\n",
    ">        std::cout << \"Giá trị khác 0\\n\";\n",
    ">\n",
    ">    return 0;\n",
    ">}\n",
    ">```\n",
    "\n",
    "**Bây giờ chương trình của chúng ta sẽ tạo ra đầu ra sau:**\n",
    ">```\n",
    ">Nhập một số nguyên: 0\n",
    ">Giá trị bằng 0\n",
    ">Nhập một số nguyên: 5\n",
    ">Giá trị khác 0\n",
    ">```"
   ]
  },
  {
   "cell_type": "markdown",
   "id": "d7ad22b4-85af-4fc1-aad5-56d28b6bb758",
   "metadata": {},
   "source": [
    "### **Nối tiếp các câu lệnh `if` (chaining `if` statements)**"
   ]
  },
  {
   "cell_type": "markdown",
   "id": "ae592aa5-8336-4811-b78f-b5809eaad5e8",
   "metadata": {},
   "source": [
    "Trong lập trình, đôi khi chúng ta cần kiểm tra nhiều điều kiện theo thứ tự. Để thực hiện điều này, chúng ta có thể sử dụng các câu lệnh `if` (hoặc `if-else`) nối tiếp nhau.\n",
    "\n",
    "**Ví dụ:**\n",
    ">```\n",
    ">#include <iostream>\n",
    ">\n",
    ">int main() {\n",
    ">  std::cout << \"Nhập một số nguyên: \";\n",
    ">  int x;\n",
    ">  std::cin >> x;\n",
    ">\n",
    ">  if (x > 0) {\n",
    ">    std::cout << \"Giá trị dương\\n\";\n",
    ">  } else if (x < 0) {\n",
    ">    std::cout << \"Giá trị âm\\n\";\n",
    ">  } else {\n",
    ">    std::cout << \"Giá trị bằng 0\\n\";\n",
    ">  }\n",
    ">\n",
    ">  return 0;\n",
    ">}\n",
    ">```\n",
    "\n",
    "**Đây là kết quả chạy của chương trình trong một vài trường hợp:**\n",
    ">```\n",
    ">Nhập một số nguyên: 4\n",
    ">Giá trị dương\n",
    ">```\n",
    "\n",
    ">```\n",
    ">Nhập một số nguyên: -3\n",
    ">Giá trị âm\n",
    ">```\n",
    "\n",
    ">```\n",
    ">Nhập một số nguyên: 0\n",
    ">Giá trị bằng 0\n",
    ">```\n",
    "\n",
    "**Giải thích:**\n",
    "\n",
    "Toán tử so sánh `<` được dùng để kiểm tra xem một giá trị có nhỏ hơn giá trị khác hay không. Tương tự, toán tử so sánh `>` dùng để kiểm tra xem một giá trị có lớn hơn giá trị khác hay không. Cả hai toán tử này đều trả về giá trị **Boolean** (`true` hoặc `false`).\n",
    "Chương trình có thể in ra nhiều kết quả khác nhau phụ thuộc vào điều kiện được đáp ứng.\n",
    "\n",
    "\n",
    "\n",
    "**Lưu ý:** Bạn có thể nối tiếp các câu lệnh `if` nhiều lần tùy thuộc vào số điều kiện cần kiểm tra. Cách sử dụng này sẽ được minh họa rõ hơn trong phần bài tập ở cuối bài.\n"
   ]
  },
  {
   "cell_type": "markdown",
   "id": "2b7c4171-7a11-4b34-abcb-44830203dc3b",
   "metadata": {},
   "source": [
    "### **Giá trị trả về Boolean và câu lệnh `if`**"
   ]
  },
  {
   "cell_type": "markdown",
   "id": "8c60a3d7-8791-449e-8676-e9b98b960980",
   "metadata": {},
   "source": [
    "Trong bài học trước ([**4.9 - Giá trị logic**](lesson4_9.ipynb)), chúng ta đã viết một chương trình sử dụng hàm để trả về giá trị Boolean:\n",
    ">```\n",
    ">#include <iostream>\n",
    ">\n",
    ">// Kiểm tra xem x và y có bằng nhau không (true nếu bằng, false nếu khác)\n",
    ">bool isEqual(int x, int y)\n",
    ">{\n",
    ">    return x == y; // Toán tử == trả về true nếu x bằng y, và false nếu khác\n",
    ">}\n",
    ">\n",
    ">int main()\n",
    ">{\n",
    ">    std::cout << \"Nhập một số nguyên: \";\n",
    ">    int x {};\n",
    ">    std::cin >> x;\n",
    ">\n",
    ">    std::cout << \"Nhập một số nguyên khác: \";\n",
    ">    int y {};\n",
    ">    std::cin >> y;\n",
    ">\n",
    ">    std::cout << std::boolalpha; // In giá trị Boolean dưới dạng true hoặc false\n",
    ">\n",
    ">    std::cout << x << \" và \" << y << \" có bằng nhau không? \";\n",
    ">    std::cout << isEqual(x, y); // Sẽ trả về true hoặc false\n",
    ">\n",
    ">    std::cout << '\\n';\n",
    ">\n",
    ">    return 0;\n",
    ">}\n",
    ">```\n",
    "\n",
    "Bây giờ, chúng ta hãy cải thiện chương trình này bằng cách sử dụng câu lệnh `if`:\n",
    ">```\n",
    ">#include <iostream>\n",
    ">\n",
    ">// Kiểm tra xem x và y có bằng nhau không (true nếu bằng, false nếu khác)\n",
    ">bool isEqual(int x, int y)\n",
    ">{\n",
    ">    return x == y; // Toán tử == trả về true nếu x bằng y, và false nếu khác\n",
    ">}\n",
    ">\n",
    ">int main()\n",
    ">{\n",
    ">    std::cout << \"Nhập một số nguyên: \";\n",
    ">    int x {};\n",
    ">    std::cin >> x;\n",
    ">\n",
    ">    std::cout << \"Nhập một số nguyên khác: \";\n",
    ">    int y {};\n",
    ">    std::cin >> y;\n",
    ">\n",
    ">    if (isEqual(x, y))\n",
    ">        std::cout << x << \" và \" << y << \" bằng nhau\\n\";\n",
    ">    else\n",
    ">        std::cout << x << \" và \" << y << \" không bằng nhau\\n\";\n",
    ">\n",
    ">    return 0;\n",
    ">}\n",
    ">```\n",
    "\n",
    "**Giải thích:**\n",
    "- Biểu thức điều kiện trong trường hợp này đơn giản là việc gọi hàm `isEqual`, vốn sẽ trả về một giá trị Boolean.\n",
    "- Chương trình kiểm tra giá trị trả về của hàm `isEqual` bằng câu lệnh `if`.\n",
    "    - Nếu `isEqual` trả về `true` (nghĩa là `x` và `y` bằng nhau), dòng lệnh trong khối `if` sẽ được thực thi.\n",
    "    - Ngược lại, nếu `isEqual` trả về `false` (nghĩa là `x` và `y` khác nhau), dòng lệnh trong khối `else` sẽ được thực thi.\n",
    "\n",
    "**Ưu điểm:**\n",
    "- Sử dụng câu lệnh `if` với hàm trả về giá trị Boolean giúp code dễ đọc và dễ hiểu hơn.\n",
    "- Tách biệt logic kiểm tra điều kiện ra thành một hàm riêng, giúp code có tính mô-đun hơn và dễ dàng tái sử dụng.\n",
    "\n",
    "**Chạy thử:**\n",
    ">```\n",
    ">Nhập một số nguyên: 5\n",
    ">Nhập một số nguyên khác: 5\n",
    ">5 và 5 bằng nhau\n",
    ">```\n",
    "\n",
    ">```\n",
    ">Nhập một số nguyên: 6\n",
    ">Nhập một số nguyên khác: 4\n",
    ">6 và 4 không bằng nhau\n",
    ">```\n",
    "\n",
    "**Lưu ý:** Bất kỳ hàm nào trả về giá trị Boolean đều có thể được sử dụng trong biểu thức điều kiện của câu lệnh `if`."
   ]
  },
  {
   "cell_type": "markdown",
   "id": "8a23fa50-3269-469e-9ee0-4d8505861071",
   "metadata": {},
   "source": [
    "### **Điều kiện không phải Boolean (Non-Boolean conditionals)**"
   ]
  },
  {
   "cell_type": "markdown",
   "id": "e9c2b849-6879-4985-ae55-16be561624e8",
   "metadata": {},
   "source": [
    "Trong các ví dụ trước đó, điều kiện của câu lệnh `if` đều là các giá trị Boolean (`true` hoặc `false`), biến Boolean hoặc hàm trả về giá trị Boolean. Nhưng điều gì xảy ra nếu điều kiện là một biểu thức không được tính toán thành giá trị Boolean?\n",
    "\n",
    "**Sẽ có phép chuyển đổi ngầm**\n",
    "\n",
    "Trong trường hợp này, biểu thức điều kiện sẽ được chuyển đổi ngầm sang giá trị Boolean. Các quy tắc chuyển đổi như sau:\n",
    "- Giá trị khác `0` được chuyển thành `true`.\n",
    "- Giá trị bằng `0` được chuyển thành `false`.\n",
    "\n",
    "**Ví dụ:**\n",
    ">```\n",
    ">#include <iostream>\n",
    ">\n",
    ">int main() {\n",
    ">  if (4) // Không hợp lý nhưng dùng để minh họa\n",
    ">    std::cout << \"hi\\n\";\n",
    ">  else\n",
    ">    std::cout << \"bye\\n\";\n",
    ">\n",
    ">  return 0;\n",
    ">}\n",
    ">```\n",
    "\n",
    "Kết quả chạy sẽ in ra `\"hi\"` vì `4` là giá trị khác `0` nên được chuyển đổi thành `true`, khiến câu lệnh trong khối `if` được thực thi.\n",
    "\n",
    "**Lưu ý:**\n",
    "- Mặc dù cú pháp cho phép điều kiện không phải Boolean, nhưng đây thường không phải là cách viết code tốt.\n",
    "- Sử dụng các biểu thức trả về giá trị Boolean rõ ràng sẽ giúp code dễ đọc và dễ hiểu hơn.\n",
    "- Tránh sử dụng các phép chuyển đổi ngầm này trừ khi bạn hiểu rõ tác dụng của chúng và chắc chắn rằng chúng sẽ không gây ra lỗi.\n",
    "\n",
    "    **Sử dụng điều kiện Boolean rõ ràng**\n",
    "    >```\n",
    "    >#include <iostream>\n",
    "    >\n",
    "    >int main() {\n",
    "    >  int x = 4;\n",
    "    >  if (x != 0) // Điều kiện rõ ràng\n",
    "    >    std::cout << \"x khác 0\\n\";\n",
    "    >  else\n",
    "    >    std::cout << \"x bằng 0\\n\";\n",
    "    >\n",
    "    >  return 0;\n",
    "    >}\n",
    "    >```\n",
    "\n",
    "    Trong đoạn code này, điều kiện `x != 0` rõ ràng hơn so với việc dựa vào phép chuyển đổi ngầm."
   ]
  },
  {
   "cell_type": "markdown",
   "id": "3be13617-c123-4bd5-ab67-2e0bcff7a044",
   "metadata": {},
   "source": [
    "### **Câu lệnh `if` và early return (If-statements and early returns)**"
   ]
  },
  {
   "cell_type": "markdown",
   "id": "d4cd7caf-40d5-4f6a-a7b4-25e57fbf05f3",
   "metadata": {
    "jp-MarkdownHeadingCollapsed": true
   },
   "source": [
    "**Early Return là gì?**\n",
    "\n",
    "Trong lập trình, **early return** (trả về sớm) là một câu lệnh `return` xuất hiện bên trong một hàm nhưng không phải là dòng lệnh cuối cùng. Khi gặp early return, hàm sẽ dừng thực thi và trả về giá trị cho bên hàm gọi (caller) ngay lập tức, thay vì thực hiện đến hết hàm như thông thường.\n",
    "\n",
    "Ví dụ về early return không cần thiết:\n",
    ">```\n",
    ">void print() {\n",
    ">  std::cout << \"A\" << '\\n';\n",
    ">\n",
    ">  return; // Hàm luôn trả về cho bên gọi tại đây\n",
    ">\n",
    ">  std::cout << \"B\" << '\\n'; // Dòng này không bao giờ được in ra\n",
    ">}\n",
    ">```\n",
    "\n",
    "Trong ví dụ này, vì `return;` luôn được thực thi trước, dòng `std::cout << \"B\" << '\\n';` sẽ không bao giờ được thực hiện. Do đó, thay vì dùng early return không cần thiết, chúng ta có thể loại bỏ dòng `std::cout << \"B\" << '\\n';` và lúc này return không còn là early return nữa.\n",
    "\n",
    "**Sử dụng early return kết hợp với câu lệnh `if`:**\n",
    "\n",
    "Tuy nhiên, khi kết hợp với câu lệnh `if`, early return trở thành một cách hữu ích để kiểm soát giá trị trả về của hàm dựa trên điều kiện.\n",
    ">```\n",
    ">#include <iostream>\n",
    ">\n",
    ">// Tính giá trị tuyệt đối của x\n",
    ">int abs(int x) {\n",
    ">  if (x < 0)\n",
    ">    return -x; // Early return (chỉ khi x < 0)\n",
    ">\n",
    ">  return x;\n",
    ">}\n",
    ">\n",
    ">int main() {\n",
    ">  std::cout << abs(4) << '\\n'; // In ra 4\n",
    ">  std::cout << abs(-3) << '\\n'; // In ra 3\n",
    ">\n",
    ">  return 0;\n",
    ">}\n",
    ">```\n",
    "\n",
    "Khi gọi `abs(4)`, giá trị của `x` là `4`. Điều kiện `if (x < 0)` sai nên early return không được thực thi. Hàm trả về giá trị `x` (bằng `4`) cho bên gọi ở cuối hàm.\n",
    "\n",
    "Khi gọi `abs(-3)`, giá trị của `x` là `-3`. Điều kiện `if (x < 0)` đúng nên early return được thực thi. Hàm trả về `-x` (bằng `3`) cho bên gọi tại thời điểm này.\n",
    "\n",
    "Trước đây, việc sử dụng **early return** thường không được khuyến khích. Tuy nhiên, trong lập trình hiện đại, **early return** được chấp nhận rộng rãi hơn, đặc biệt khi chúng giúp đơn giản hóa hàm hoặc dừng hàm sớm do lỗi.\n",
    "\n",
    ">**Bài học liên quan:**<br>\n",
    ">Bài 8.11 - Break và Continue sẽ thảo luận chi tiết hơn về tranh cãi liên quan đến early return.\\\n",
    ">Bài 8.2 - Câu Lệnh if và Khối Lệnh sẽ tiếp tục khám phá về các câu lệnh if."
   ]
  },
  {
   "cell_type": "markdown",
   "id": "26ea3258-25cb-4f38-acd9-2e020500f445",
   "metadata": {},
   "source": [
    "### **Bài tập**"
   ]
  },
  {
   "cell_type": "markdown",
   "id": "69ddcf8c-c32b-4e32-8188-e42b57406a36",
   "metadata": {},
   "source": [
    "**Câu hỏi #1:** Early return (trả về sớm) là gì và hoạt động như thế nào?\n",
    "<details>\n",
    "<summary><b>Đáp án:</b></summary>\n",
    "\n",
    "Early return là một câu lệnh `return` xuất hiện bên trong một hàm nhưng không phải là dòng lệnh cuối cùng. Khi gặp early return, hàm sẽ dừng thực thi và trả về giá trị cho hàm gọi (caller) ngay lập tức, thay vì thực hiện đến hết hàm như thông thường.\n",
    "</details>\n",
    "\n",
    "**Câu hỏi #2:** Số nguyên tố là một số tự nhiên lớn hơn 1 chỉ chia hết cho 1 và chính nó. Viết chương trình yêu cầu người dùng nhập một số từ 0 đến 9 (bao gồm cả 0 và 9). Nếu người dùng nhập một số nguyên tố (2, 3, 5 hoặc 7), hãy in ra \"The digit is prime\" (Số này là số nguyên tố). Ngược lại, hãy in ra \"The digit is not prime\" (Số này không phải số nguyên tố). \n",
    "<details>\n",
    "<summary><b>Gợi ý:</b></summary>\n",
    "  \n",
    "Sử dụng chuỗi các câu lệnh `if-else` để so sánh số người dùng nhập với các số nguyên tố và kiểm tra xem có khớp hay không.\n",
    "\n",
    "\n",
    "</details>\n",
    "<details>\n",
    "<summary><b>Đáp án:</b></summary>\n",
    "\n",
    ">```\n",
    ">#include <iostream>\n",
    ">\n",
    ">bool isPrime(int x) {\n",
    ">  if (x == 2) // Nếu người dùng nhập 2, đây là số nguyên tố\n",
    ">    return true;\n",
    ">  else if (x == 3) // Nếu người dùng nhập 3, đây là số nguyên tố\n",
    ">    return true;\n",
    ">  else if (x == 5) // Nếu người dùng nhập 5, đây là số nguyên tố\n",
    ">    return true;\n",
    ">  else if (x == 7) // Nếu người dùng nhập 7, đây là số nguyên tố\n",
    ">    return true;\n",
    ">\n",
    ">  return false; // Nếu người dùng không nhập 2, 3, 5, 7, thì số này không phải số nguyên tố\n",
    ">}\n",
    ">\n",
    ">int main() {\n",
    ">  std::cout << \"Enter a number 0 through 9: \";\n",
    ">  int x;\n",
    ">  std::cin >> x;\n",
    ">\n",
    ">  if (isPrime(x))\n",
    ">    std::cout << \"The digit is prime\\n\";\n",
    ">  else\n",
    ">    std::cout << \"The digit is not prime\\n\";\n",
    ">\n",
    ">  return 0;\n",
    ">}\n",
    ">```\n",
    "\n",
    ">**Đối với người đọc nâng cao:**<br>\n",
    ">Nếu hàm `isPrime()` ở trên có vẻ hơi dài dòng/lặp lại thì đúng là như vậy. Chúng ta có thể viết `isPrime()` gọn hơn và hiệu quả hơn bằng cách sử dụng một số khái niệm sẽ được giải thích trong các bài học tiếp theo.\n",
    ">\n",
    ">- Sử dụng toán tử logic **OR** (`||`) ([Bài 6.7 - Toán tử logic]()):\n",
    ">\n",
    ">>```\n",
    ">>bool isPrime(int x) {\n",
    ">>  return x == 2 || x == 3 || x == 5 || x == 7; // Nếu người dùng nhập 2 hoặc 3 hoặc 5 hoặc 7, đây là số nguyên tố\n",
    ">>}\n",
    ">>```\n",
    ">\n",
    ">- Sử dụng câu lệnh `switch` ([Bài 8.5 - Giới thiệu về câu lệnh switch]()):\n",
    ">\n",
    ">>```\n",
    ">>bool isPrime(int x) {\n",
    ">>  switch (x) {\n",
    ">>    case 2: // Nếu người dùng nhập 2\n",
    ">>    case 3: // Hoặc nếu người dùng nhập 3\n",
    ">>    case 5: // Hoặc nếu người dùng nhập 5\n",
    ">>    case 7: // Hoặc nếu người dùng nhập 7\n",
    ">>      return true; // Thì đây là số nguyên tố\n",
    ">>  }\n",
    ">>\n",
    ">>  return false; // Ngược lại thì số này không phải số nguyên tố\n",
    ">>}\n",
    ">>```\n",
    "</details>\n",
    "\n",
    "\n",
    "**Câu hỏi #3**: Làm thế nào để giảm độ dài của đoạn code sau (không thay đổi định dạng)?\n",
    ">```\n",
    ">#include <iostream>\n",
    ">\n",
    ">bool isAllowedToTakeFunRide()\n",
    ">{\n",
    ">  std::cout << \"How tall are you? (cm)\\n\";\n",
    ">\n",
    ">  double height{};\n",
    ">  std::cin >> height;\n",
    ">\n",
    ">  if (height >= 140.0)\n",
    ">    return true;\n",
    ">  else\n",
    ">    return false;\n",
    ">}\n",
    ">\n",
    ">int main()\n",
    ">{\n",
    ">  if (isAllowedToTakeFunRide())\n",
    ">    std::cout << \"Have fun!\\n\";\n",
    ">  else\n",
    ">    std::cout << \"Sorry, you're too short.\\n\";\n",
    ">\n",
    ">  return 0;\n",
    ">}\n",
    ">```\n",
    "<details>\n",
    "    <summary><b>Đáp án:</b></summary>\n",
    "\n",
    "Chúng ta không cần câu lệnh `if` trong `isAllowedToTakeFunRide()`. Biểu thức `height >= 140.0` được đánh giá thành thành giá trị `bool`, có thể được trả về trực tiếp.\n",
    ">```\n",
    ">bool isAllowedToTakeFunRide()\n",
    ">{\n",
    ">  std::cout << \"How tall are you? (cm)\\n\";\n",
    ">\n",
    ">  double height{};\n",
    ">  std::cin >> height;\n",
    ">\n",
    ">  return height >= 140.0;\n",
    ">}\n",
    ">```\n",
    "\n",
    "Bạn không bao giờ cần câu lệnh `if` có dạng:\n",
    ">```\n",
    ">if (condition)\n",
    ">  return true;\n",
    ">else\n",
    ">  return false;\n",
    ">```\n",
    "\n",
    "Bởi điều này có thể được thay thế bằng câu lệnh trả về `return condition`.\n",
    "\n",
    "Tóm lại, khi biểu thức trả về giá trị `bool` (`true` hoặc `false`), bạn có thể trực tiếp trả về giá trị của biểu thức đó thay vì sử dụng câu lệnh `if` để kiểm tra và trả về `true` hoặc `false`.\n",
    "</details>\n"
   ]
  },
  {
   "cell_type": "markdown",
   "id": "6aafe40b-76d3-4b4c-8e94-fe864c4da396",
   "metadata": {
    "jp-MarkdownHeadingCollapsed": true
   },
   "source": [
    "## **Bài 4.11: <u>Ký tự (`char`)</u>**"
   ]
  },
  {
   "cell_type": "markdown",
   "id": "e28d6f57-5b20-4e61-9702-27bfcc65f291",
   "metadata": {},
   "source": [
    "Cho đến thời điểm này, chúng ta đã tìm hiểu các kiểu dữ liệu cơ bản được sử dụng để lưu trữ số (số nguyên và số thực) hoặc các giá trị đúng/sai (`bool`). Nhưng nếu chúng ta muốn lưu trữ các chữ cái, dấu câu hoặc các ký hiệu khác thì sao?\n",
    ">```\n",
    ">#include <iostream>\n",
    ">\n",
    ">int main()\n",
    ">{\n",
    ">    std::cout << \"Would you like a burrito? (y/n)\";\n",
    ">\n",
    ">    // We want the user to enter a 'y' or 'n' character\n",
    ">    // How do we do this?\n",
    ">\n",
    ">    return 0;\n",
    ">}\n",
    ">```\n",
    "\n",
    "Kiểu dữ liệu `char` được thiết kế đặc biệt để chứa một ký tự đơn lẻ. Ký tự này có thể là một chữ cái, số, ký hiệu hoặc thậm chí là khoảng trắng (giống như dấu cách).\n",
    "\n",
    "Kiểu dữ liệu `char` được coi là một kiểu dữ liệu nguyên. Điều này có nghĩa là giá trị một biến `char` thực sự được lưu trữ dưới dạng một số nguyên. Tương tự như cách một giá trị `bool` bằng `0` được hiểu là `false` và bất kỳ giá trị nào khác `0` được hiểu là `true`, số nguyên được lưu trữ trong một biến char được hiểu là một **ký tự ASCII**.\n",
    "\n",
    "**ASCII** (American Standard Code for Information Interchange hay Chuẩn mã trao đổi thông tin Hoa Kỳ) xác định một cách tiêu chuẩn để biểu diễn các ký tự tiếng Anh (cùng với một số ký hiệu bổ sung) thành các số từ `0` đến `127`. Những số này được gọi là **mã ASCII**. Ví dụ, mã ASCII `97` được dịch thành chữ cái thường `'a'`.\n",
    "\n",
    "Chú ý: bất cứ khi nào bạn muốn biểu diễn trực tiếp một hằng ký tự trong code, bạn hãy đặt nó trong dấu nháy đơn. Dưới đây là một vài ví dụ:\n",
    ">```\n",
    ">'g' (chữ g thường)\n",
    ">'1' (số một)\n",
    ">' ' (dấu cách)\n",
    ">```"
   ]
  },
  {
   "cell_type": "markdown",
   "id": "5c66f768-7e01-496b-bc78-c8969b373804",
   "metadata": {},
   "source": [
    "**Dưới đây bảng mã ASCII cho các ký tự:**"
   ]
  },
  {
   "cell_type": "markdown",
   "id": "e6a179fd-db19-437c-8433-5b0aa4b3b8c4",
   "metadata": {},
   "source": [
    "![](ASCII-Table.svg)"
   ]
  },
  {
   "cell_type": "markdown",
   "id": "614270d3-289b-493f-9907-baa90a34bc66",
   "metadata": {},
   "source": [
    "Mã ASCII từ 0 đến 31 và 127 được gọi là **các ký tự không in được (unprintable chars)**. Những ký hiệu này được thiết kế để điều khiển các thiết bị ngoại vi như máy in (ví dụ: hướng dẫn máy in cách di chuyển đầu in). Hầu hết các ký hiệu này hiện nay đã lỗi thời. Nếu bạn cố gắng in các ký hiệu này, kết quả sẽ phụ thuộc vào hệ điều hành của bạn (bạn có thể nhận được một số ký tự giống biểu tượng cảm xúc).\n",
    "\n",
    "Các mã từ 32 đến 126 được gọi là các **ký tự in được (printable chars)**, chúng đại diện cho các chữ cái, chữ số và dấu câu mà hầu hết các máy tính sử dụng để hiển thị văn bản tiếng Anh cơ bản."
   ]
  },
  {
   "cell_type": "markdown",
   "id": "0e83df8b-86ad-4098-889d-3ffd702b8b90",
   "metadata": {},
   "source": [
    "### **Khởi tạo các biến kiểu `char`**"
   ]
  },
  {
   "cell_type": "markdown",
   "id": "63411344-a119-4911-a945-f5858c6a3c7e",
   "metadata": {},
   "source": [
    "Bạn có thể khởi tạo các biến kiểu char bằng các **hằng ký tự (character literals):**\n",
    ">```\n",
    ">char ch2{ 'a' }; // Khởi tạo với giá trị điểm mã cho 'a' (lưu trữ dưới dạng số nguyên 97) (khuyến khích)\n",
    ">```\n",
    "\n",
    "Bạn cũng có thể khởi tạo các biến kiểu `char` bằng các số nguyên, nhưng nên tránh cách này nếu có thể:\n",
    ">```\n",
    ">char ch1{ 97 }; // Khởi tạo với số nguyên 97 ('a') (không khuyến khích)\n",
    ">```\n",
    "\n",
    ">**Cảnh báo**<br>\n",
    ">Chú ý không nhầm lẫn giữa giá trị mã ASCII của ký tự với giá trị số nguyên. Hai cách khởi tạo sau đây không giống nhau:\n",
    ">>```\n",
    ">>char ch{5}; // Khởi tạo với số nguyên 5 (lưu trữ dưới dạng số nguyên 5)\n",
    ">>char ch{'5'}; // Khởi tạo với giá trị điểm mã ASCII của '5' (lưu trữ dưới dạng số nguyên 53)\n",
    ">>```\n",
    ">\n",
    ">Ký tự chữ số (ví dụ: `'5'`) ở đây được sử dụng để biểu diễn các chữ số dưới dạng văn bản, khác với việc sử dụng chúng để thực hiện các phép toán."
   ]
  },
  {
   "cell_type": "markdown",
   "id": "d57ea9e0-2716-4b96-8908-0c7961d91790",
   "metadata": {},
   "source": [
    "### **In các biến kiểu `char`**"
   ]
  },
  {
   "cell_type": "markdown",
   "id": "d4eec759-f7f6-4619-bf5c-a1f9f0c40174",
   "metadata": {},
   "source": [
    "Khi sử dụng `std::cout` để in một biến kiểu `char`, `std::cout` sẽ xuất giá trị của biến đó dưới dạng **ký tự ASCII**:\n",
    ">```\n",
    ">#include <iostream>\n",
    ">\n",
    ">int main()\n",
    ">{\n",
    ">    char ch1{ 'a' }; // (khuyến khích)\n",
    ">    std::cout << ch1; // cout in ra ký tự 'a'\n",
    ">\n",
    ">    char ch2{ 98 }; // giá trị mã ASCII cho 'b' (không khuyến khích)\n",
    ">    std::cout << ch2; // cout in ra một ký tự ('b')\n",
    ">\n",
    ">    return 0;\n",
    ">}\n",
    ">```"
   ]
  },
  {
   "cell_type": "markdown",
   "id": "786d8ac9-ba0b-4e3c-bc57-a744eaa12058",
   "metadata": {},
   "source": [
    "Đoạn code này sẽ tạo ra kết quả:\n",
    ">`ab`\n",
    "\n",
    "Chúng ta cũng có thể in trực tiếp các hằng ký tự:\n",
    ">```\n",
    ">std::cout << 'c';\n",
    ">```\n",
    "\n",
    "Đoạn code này sẽ tạo ra kết quả:\n",
    ">`c`"
   ]
  },
  {
   "cell_type": "markdown",
   "id": "b8d9766e-0e4a-4b32-ae8d-d72850ffe406",
   "metadata": {},
   "source": [
    "### **Nhập ký tự**"
   ]
  },
  {
   "cell_type": "markdown",
   "id": "8f2604b7-b761-4060-9200-daa64e298cd6",
   "metadata": {},
   "source": [
    "Đoạn chương trình sau yêu cầu người dùng nhập một ký tự từ bàn phím, sau đó in ký tự đó ra màn hình:\n",
    ">```\n",
    ">#include <iostream>\n",
    ">\n",
    ">int main()\n",
    ">{\n",
    ">  std::cout << \"Nhập một ký tự từ bàn phím: \";\n",
    ">\n",
    ">  char ch{};\n",
    ">  std::cin >> ch;\n",
    ">  std::cout << \"Bạn đã nhập: \" << ch << '\\n';\n",
    ">\n",
    ">  return 0;\n",
    ">}\n",
    ">```\n",
    "\n",
    "Đây là kết quả đầu ra của một lần chạy:\n",
    ">```\n",
    ">Nhập một ký tự từ bàn phím: q\n",
    ">Bạn đã nhập: q\n",
    ">```\n",
    "\n",
    "Lưu ý rằng `std::cin` cho phép bạn nhập nhiều ký tự. Tuy nhiên, biến `ch` chỉ lưu trữ được **1** ký tự. Do đó, chỉ ký tự đầu tiên được nhập sẽ được trích xuất vào biến `ch`. Các ký tự còn lại của người dùng sẽ được lưu trữ trong **bộ đệm nhập liệu (input buffer)** mà `std::cin` sử dụng và có thể được trích xuất bằng các lần gọi `std::cin` tiếp theo.\n",
    "\n",
    "Bạn có thể thấy hành vi này trong ví dụ sau:\n",
    ">```\n",
    ">#include <iostream>\n",
    ">\n",
    ">int main()\n",
    ">{\n",
    ">  std::cout << \"Nhập một ký tự từ bàn phím: \"; // Giả sử người dùng nhập \"abcd\" (không có dấu ngoặc kép)\n",
    ">\n",
    ">  char ch{};\n",
    ">  std::cin >> ch; // ch = 'a', \"bcd\" vẫn còn trong hàng đợi.\n",
    ">  std::cout << \"Bạn đã nhập: \" << ch << '\\n';\n",
    ">\n",
    ">  // Lưu ý: Lần cin thứ hai KHÔNG yêu cầu người dùng nhập liệu, nó lấy ký tự từ hàng đợi!\n",
    ">  std::cin >> ch; // ch = 'b', \"cd\" vẫn còn trong hàng đợi.\n",
    ">  std::cout << \"Bạn đã nhập: \" << ch << '\\n';\n",
    ">\n",
    ">  return 0;\n",
    ">}\n",
    ">```\n",
    "\n",
    ">```\n",
    ">Nhập một ký tự từ bàn phím: abcd\n",
    ">Bạn đã nhập: a\n",
    ">Bạn đã nhập: b\n",
    ">```\n",
    "\n",
    "Nếu bạn muốn đọc nhiều hơn một ký tự cùng một lúc (ví dụ: để đọc tên, từ hoặc câu), bạn nên sử dụng **chuỗi** (`string`) thay vì ký tự (`char`). **Chuỗi** là một tập hợp các ký tự theo thứ tự (do đó, một chuỗi có thể chứa nhiều ký tự). Chúng ta sẽ thảo luận về điều này trong bài học sắp tới (**5.9 - Giới thiệu về std::string**)."
   ]
  },
  {
   "cell_type": "markdown",
   "id": "2696ffcb-0c00-46c3-88a6-5426fcdac268",
   "metadata": {},
   "source": [
    "### **Kích thước, phạm vi và dấu mặc định của `char`**"
   ]
  },
  {
   "cell_type": "markdown",
   "id": "3a12c8d6-59e1-4c76-9ff7-fcd69cf8280e",
   "metadata": {},
   "source": [
    "`char` được C++ định nghĩa luôn có kích thước 1 byte. Theo mặc định, một `char` có thể có dấu hoặc không dấu (mặc dù nó thường có dấu). Nếu bạn đang sử dụng `char` để chứa các ký tự ASCII, bạn không cần chỉ định dấu (vì cả `char` có dấu và không dấu đều có thể chứa giá trị từ `0` đến `127`).\n",
    "\n",
    "Nếu bạn đang sử dụng `char` để lưu trữ các số nguyên nhỏ (điều bạn không nên làm trừ khi bạn đang tối ưu hóa dung lượng một cách rõ ràng), bạn nên luôn chỉ định xem nó có dấu hay không dấu. Một `char` có dấu có thể chứa một số từ `-128` đến `127`. Một `char` không dấu (`unsigned char`) có thể chứa một số từ 0 đến 255."
   ]
  },
  {
   "cell_type": "markdown",
   "id": "a0a64a61-34ed-44e1-8b89-408a14e17fcb",
   "metadata": {},
   "source": [
    "### **Các chuỗi thoát (Escape Sequences)**"
   ]
  },
  {
   "cell_type": "markdown",
   "id": "6bf483a2-17db-42fe-b3f5-ac4464f5959a",
   "metadata": {},
   "source": [
    "Trong C++, có một số dãy ký tự đặc biệt có ý nghĩa riêng. Những ký tự này được gọi là **chuỗi thoát (escape sequences)**. **Một chuỗi thoát** bắt đầu bằng ký tự `\\` (gạch chéo ngược) và theo sau là một chữ cái hoặc số.\n",
    "\n",
    "Bạn đã gặp chuỗi thoát phổ biến nhất: `\\n`, được sử dụng để in xuống dòng:\n",
    ">```\n",
    ">#include <iostream>\n",
    ">\n",
    ">int main()\n",
    ">{\n",
    ">    int x { 5 };\n",
    ">    std::cout << \"The value of x is: \" << x << '\\n'; // \\n riêng biệt nằm trong dấu nháy đơn\n",
    ">    std::cout << \"First line\\nSecond line\\n\";        // \\n có thể nhúng trong dấu nháy kép\n",
    ">    return 0;\n",
    ">}\n",
    ">```\n",
    "\n",
    "Đoạn code này sẽ in ra:\n",
    ">```\n",
    ">The value of x is: 5\n",
    ">First line\n",
    ">Second line\n",
    ">```\n",
    "\n",
    "Một chuỗi thoát thường được sử dụng khác là `\\t`, dùng để tạo một tab ngang:\n",
    ">```\n",
    ">#include <iostream>\n",
    ">\n",
    ">int main()\n",
    ">{\n",
    ">    std::cout << \"First part\\tSecond part\";\n",
    ">    return 0;\n",
    ">}\n",
    ">```\n",
    "\n",
    "Đoạn code này sẽ in ra:\n",
    ">`First part\tSecond part`\n",
    "\n",
    "Ba chuỗi thoát đáng chú ý khác là:\n",
    "\n",
    "- `\\'` in ra một dấu nháy đơn\n",
    "- `\\\"` in ra một dấu nháy kép\n",
    "- `\\\\` in ra một dấu gạch chéo ngược "
   ]
  },
  {
   "cell_type": "markdown",
   "id": "cf00dd90-7f32-4e00-b3c4-2906e4cc1dc4",
   "metadata": {},
   "source": [
    "**Bảng dưới đây liệt kê tất cả các chuỗi thoát:**\n",
    "\n",
    "| Tên              | Ký hiệu    | Ý nghĩa                                                    | Ghi chú                                                                    |\n",
    "|------------------|------------|------------------------------------------------------------|----------------------------------------------------------------------------|\n",
    "| Alert            | `\\a`         | Phát ra cảnh báo, ví dụ như tiếng bíp                      |                                                                            |\n",
    "| Backspace        | `\\b`         | Di chuyển con trỏ trở lại một vị trí                       |                                                                            |\n",
    "| Formfeed         | `\\f`         | Di chuyển con trỏ đến trang logic tiếp theo                |                                                                            |\n",
    "| Newline          | `\\n`        | Di chuyển con trỏ xuống dòng tiếp theo                     |                                                                            |\n",
    "| Carriage return  | `\\r`         | Di chuyển con trỏ đến đầu dòng                             |                                                                            |\n",
    "| Tab ngang        | `\\t`         | In tab ngang                                               |                                                                            |\n",
    "| Tab dọc          | `\\v`         | In tab dọc                                                 |                                                                            |\n",
    "| Dấu nháy đơn     | `\\’`         | In dấu nháy đơn                                            |                                                                            |\n",
    "| Dấu nháy kép     | `\\”`         | In dấu nháy kép                                            |                                                                            |\n",
    "| Dấu gạch chéo ngược    | `\\\\`          | In dấu gạch chéo ngược                                       |                                                                            |\n",
    "| Dấu hỏi          | `?`          | In dấu hỏi                                                 | Lưu ý: Không còn liên quan. Bạn có thể sử dụng dấu hỏi không có dấu thoát. |\n",
    "| Số bát phân      | `\\(số)` | Chuyển đổi thành ký tự được biểu thị bằng số bát phân      | `số` ở dạng số bát phân                                                                         |\n",
    "| Số thập lục phân | `\\x(số)`     | Chuyển đổi thành ký tự được biểu thị bằng số thập lục phân | `số` ở dạng số thập lục phân                                                                          |"
   ]
  },
  {
   "cell_type": "markdown",
   "id": "32b54389-95a8-4fd2-adf6-a79df2d8f2cd",
   "metadata": {},
   "source": [
    "Dưới đây là một số ví dụ về chuỗi thoát:\n",
    "\n",
    ">```\n",
    ">#include <iostream>\n",
    ">\n",
    ">int main()\n",
    ">{\n",
    ">    std::cout << \"\\\"This is quoted text\\\"\\n\"; // In ra \"This is quoted text\"\n",
    ">    std::cout << \"This string contains a single backslash \\\\\\n\"; // In ra \"This string contains a single backslash \\\"\n",
    ">    std::cout << \"6F in hex is char '\\x6F'\\n\"; // In ra \"6F in hex is char 'o'\"\n",
    ">    return 0;\n",
    ">}\n",
    ">```\n",
    "\n",
    "Đoạn code này sẽ in ra:\n",
    ">```\n",
    ">\"This is quoted text\"\n",
    ">This string contains a single backslash \\\n",
    ">6F in hex is char 'o'\n",
    ">```\n",
    "\n",
    ">**Cảnh báo**<br>\n",
    ">Chuỗi thoát bắt đầu bằng dấu gạch chéo ngược (`\\`), không phải dấu gạch chéo (`/`). Nếu bạn vô tình sử dụng dấu gạch chéo, chương trình có thể vẫn biên dịch được, nhưng sẽ không tạo ra kết quả mong muốn.\n",
    "\n"
   ]
  },
  {
   "cell_type": "markdown",
   "id": "18869337-e86a-477f-b2e8-471c0a2cf623",
   "metadata": {},
   "source": [
    "### **Newline (`\\n`) vs. `std::endl`**"
   ]
  },
  {
   "cell_type": "markdown",
   "id": "d57ae3f0-644e-4444-97b6-16c2f9ea706b",
   "metadata": {},
   "source": [
    "Chúng ta đã đề cập đến chủ đề này trong bài học 1.5 - Giới thiệu về iostream: cout, cin và endl."
   ]
  },
  {
   "cell_type": "markdown",
   "id": "8a04514e-b19c-4435-8fce-663434d264bd",
   "metadata": {},
   "source": [
    "### **Sự khác biệt giữa việc đặt ký hiệu trong dấu nháy đơn và dấu nháy kép là gì?**"
   ]
  },
  {
   "cell_type": "markdown",
   "id": "9f4109a6-a62e-4758-a54f-ee9686a2d1d3",
   "metadata": {},
   "source": [
    "Các kí tự đơn lẻ luôn được đặt trong các cặp nháy đơn (ví dụ: `'a'`, `'+'`, `'5'`). Một ký tự chỉ có thể biểu diễn một ký hiệu (ví dụ: chữ cái a, dấu cộng, số 5).\n",
    "\n",
    "Văn bản nằm giữa dấu nháy kép (ví dụ: `“Hello, world!”`) được coi là một chuỗi gồm nhiều ký tự. Chúng tôi sẽ thảo luận về chuỗi trong bài học 5.2 - Kiểu dữ liệu.\n",
    "\n",
    ">**Thực hành tốt nhất**<br>\n",
    ">Đặt các ký tự đơn lẻ trong dấu nháy đơn (ví dụ: `'t'` hoặc `'\\n'`, không phải `\"t\"` hoặc `\"\\n\"`). Điều này giúp trình biên dịch tối ưu hóa hiệu quả hơn."
   ]
  },
  {
   "cell_type": "markdown",
   "id": "fc9e5373-f0b1-45e6-a9e0-1037c8632f62",
   "metadata": {},
   "source": [
    "### **Tránh sử dụng các hằng đa kí tự**"
   ]
  },
  {
   "cell_type": "markdown",
   "id": "14df4b3b-6a05-4493-a390-a20e41ff95dc",
   "metadata": {},
   "source": [
    "Vì lý do tương thích ngược, nhiều trình biên dịch C++ hỗ trợ các **hằng đa ký tự (multi-character literals)**. Đây là những hằng ký tự được bao trong dấu nháy đơn nhưng chứa nhiều ký tự (ví dụ: `'56'`). Nếu được hỗ trợ, các ký tự này sẽ có giá trị phụ thuộc vào cách triển khai của trình biên dịch (nghĩa là nó thay đổi tùy theo trình biên dịch). Do chúng không phải là một phần của tiêu chuẩn C++ và giá trị của chúng không được xác định chặt chẽ, nên tránh sử dụng các hằng đa ký tự này."
   ]
  },
  {
   "cell_type": "markdown",
   "id": "f5d10bcf-3daf-4643-98ac-4a21a8512424",
   "metadata": {},
   "source": [
    "Việc sử dụng các hằng đa ký tự đôi khi gây ra vấn đề cho người lập trình mới. Xem xét chương trình đơn giản sau:\n",
    ">```\n",
    ">#include <iostream>\n",
    ">\n",
    ">int add(int x, int y)\n",
    ">{\n",
    ">    return x + y;\n",
    ">}\n",
    ">\n",
    ">int main()\n",
    ">{\n",
    ">    std::cout << add(1, 2) << '/n';\n",
    ">\n",
    ">    return 0;\n",
    ">}\n",
    ">```\n",
    "\n",
    "Lập trình viên nào đó có lẽ mong đợi chương trình này sẽ in ra giá trị `3` và một ký tự xuống dòng. Nhưng thay vào đó, trên máy của tác giả, nó lại xuất ra:\n",
    ">`312142`\n",
    "\n",
    "Vấn đề ở đây là người lập trình vô tình sử dụng `'/n'` (một hằng đa ký tự bao gồm dấu gạch chéo `/` và ký tự `'n'`) thay vì `'\\n'` (chuỗi thoát cho xuống dòng). Chương trình đầu tiên in ra `3` (kết quả của `add(1, 2)`) một cách chính xác. Nhưng sau đó, nó in ra giá trị của `'/n'`, trên máy của tác giả có giá trị phụ thuộc vào cách triển khai là `12142`.\n",
    "\n",
    ">**Cảnh báo**<br>\n",
    ">Hãy đảm bảo rằng ký tự xuống dòng của bạn đang sử dụng chuỗi thoát `'\\n'`, không phải hằng đa ký tự `'/n'`.\n",
    "\n",
    "Đây là một ví dụ khác:\n",
    ">```\n",
    ">#include <iostream>\n",
    ">\n",
    ">int main()\n",
    ">{\n",
    ">    int x { 5 };\n",
    ">    std::cout << \"The value of x is \" << x << '\\n';\n",
    ">\n",
    ">    return 0;\n",
    ">}\n",
    ">```\n",
    "\n",
    "Chương trình này sẽ in ra chính xác như bạn mong đợi:\n",
    ">```\n",
    ">The value of x is 5\n",
    ">```\n",
    "\n",
    "Nhưng đầu ra này có vẻ hơi đơn điệu, vì vậy chúng ta quyết định thêm một dấu chấm than trước khi xuống dòng:\n",
    ">```\n",
    ">#include <iostream>\n",
    ">\n",
    ">int main()\n",
    ">{\n",
    ">    int x { 5 };\n",
    ">    std::cout << \"The value of x is \" << x << '!\\n'; // Thêm dấu chấm than\n",
    ">\n",
    ">    return 0;\n",
    ">}\n",
    ">```\n",
    "\n",
    "Vì `'!\\n'` là một hằng đa ký tự, chương trình này bây giờ sẽ in ra:\n",
    ">```\n",
    ">The value of x is 58458\n",
    ">```\n",
    "\n",
    "Đây có lẽ không phải là những gì bạn mong đợi.\n",
    "\n",
    ">**Ngoài lề**<br>\n",
    ">Lí do trình biên dịch trả về các giá trị cho các hằng đa kí tự trên [ở đây](https://stackoverflow.com/a/51134773)"
   ]
  },
  {
   "cell_type": "markdown",
   "id": "8238abbb-13d8-471b-8303-4a77bf4fbd92",
   "metadata": {},
   "source": [
    "### **Các kiểu ký tự khác (`wchar_t`, `char8_t`, `char16_t` và `char32_t`)**"
   ]
  },
  {
   "cell_type": "markdown",
   "id": "793fe6c4-e5f2-4057-aab1-371c1a6ca0e8",
   "metadata": {},
   "source": [
    "**`wchar_t`**: Nên tránh sử dụng `wchar_t` trong hầu hết các trường hợp (trừ khi tương tác với **Windows API**). Kích thước của nó phụ thuộc vào cách triển khai và không đáng tin cậy. Việc sử dụng `wchar_t` đã lỗi thời (deprecated) trong hầu hết các trường hợp.\n",
    "\n",
    ">**Ngoài lề**<br>\n",
    ">Thuật ngữ *\"deprecated\"* có nghĩa là *\"vẫn được hỗ trợ, nhưng không còn được khuyến khích sử dụng vì nó đã được thay thế bằng thứ tốt hơn hoặc không còn được coi là an toàn\"*.\n"
   ]
  },
  {
   "cell_type": "markdown",
   "id": "edd3f18b-c66c-442b-9e66-136332a024b5",
   "metadata": {},
   "source": [
    "Giống như ASCII ánh xạ các số nguyên từ 0-127 sang các ký tự latinh, các tiêu chuẩn mã hóa ký tự khác cũng tồn tại để ánh xạ các số nguyên (có kích thước khác nhau) sang các ký tự trong các ngôn ngữ khác. Bảng mã được biết đến nhiều nhất bên ngoài ASCII là **chuẩn Unicode**, ánh xạ hơn 144.000 số nguyên sang các ký tự trong nhiều ngôn ngữ khác nhau. Do Unicode chứa rất nhiều điểm mã, nên một điểm mã Unicode cần 32 bit để biểu diễn một ký tự (gọi là **UTF-32**). Tuy nhiên, các ký tự Unicode cũng có thể được mã hóa bằng nhiều ký tự 16-bit hoặc 8-bit (gọi tương ứng là **UTF-16** và **UTF-8**).\n",
    "- `char16_t` và `char32_t`: Được thêm vào C++11 để cung cấp hỗ trợ rõ ràng cho các ký tự Unicode 16-bit và 32-bit. Các kiểu ký tự này có kích thước tương ứng với `std::uint_least16_t` và `std::uint_least32_t` (nhưng là các kiểu riêng biệt).\n",
    "-`char8_t`: Được thêm vào C++20 để hỗ trợ Unicode 8-bit (UTF-8). Đây là một kiểu riêng biệt sử dụng cùng một biểu diễn như `unsigned char`.\n",
    "\n",
    "Bạn sẽ không cần sử dụng `char8_t`, `char16_t` hoặc `char32_t` trừ khi bạn dự định làm cho chương trình của mình tương thích với Unicode. Unicode và bản địa hóa nói chung nằm ngoài phạm vi của các hướng dẫn này, vì vậy chúng tôi sẽ không đề cập thêm về chúng.\n",
    "\n",
    "Trong khi đó, bạn chỉ nên sử dụng các ký tự ASCII khi làm việc với ký tự (và chuỗi). Sử dụng các ký tự từ các bộ ký tự khác có thể khiến ký tự của bạn hiển thị không chính xác."
   ]
  },
  {
   "cell_type": "markdown",
   "id": "b16b6ee9-e1d3-4e09-bce7-95b7c60896d2",
   "metadata": {},
   "source": [
    "## **Bài 4.12: <u>Giới thiệu về ép kiểu dữ liệu và `static_cast`</u>**"
   ]
  },
  {
   "cell_type": "markdown",
   "id": "7d84af7b-050f-4736-86cc-385ed17928c7",
   "metadata": {},
   "source": [
    "### **Ép kiểu ngầm định (Implicit Type Conversion)**"
   ]
  },
  {
   "cell_type": "markdown",
   "id": "f6b60a02-0923-47c9-a0e0-56667883b1aa",
   "metadata": {},
   "source": [
    "**Xét chương trình sau:**\n",
    ">```\n",
    ">#include <iostream>\n",
    ">\n",
    ">void print(double x) // print nhận tham số kiểu double\n",
    ">{\n",
    ">    std::cout << x << '\\n';\n",
    ">}\n",
    ">\n",
    ">int main()\n",
    "{\n",
    ">    print(5); // Điều gì xảy ra khi truyền giá trị int?\n",
    ">    \n",
    ">    return 0;\n",
    "}\n",
    ">```\n",
    "\n",
    "Trong ví dụ trên, hàm `print()` có tham số kiểu `double` nhưng hàm gọi lại truyền vào giá trị `5` có kiểu `int`. Chuyện gì xảy ra trong trường hợp này?\n",
    "\n",
    "Trong hầu hết các trường hợp, C++ cho phép chúng ta chuyển đổi giá trị giữa các kiểu dữ liệu cơ bản. Quá trình chuyển đổi giá trị từ một kiểu sang kiểu khác được gọi là **chuyển đổi kiểu** hay **ép kiểu (type conversion)**. Do đó, đối số kiểu `int` là `5` sẽ được ép thành giá trị `double` là `5.0` và sau đó được sao chép vào tham số `x`. Hàm `print()` sẽ in giá trị này, dẫn đến kết quả đầu ra như sau:\n",
    ">```\n",
    ">5\n",
    ">```\n",
    "\n",
    ">**Lưu ý:**<br>\n",
    ">Theo mặc định, các giá trị dấu phẩy động có phần thập phân bằng 0 sẽ được in ra mà không có dấu thập phân (ví dụ: `5.0` được in thành `5`).\n",
    "\n",
    "Khi trình biên dịch tự động ép kiểu thay mặt cho chúng ta mà không cần yêu cầu rõ ràng, chúng ta gọi đây là **ép kiểu ngầm định (implicit type conversion)**. Ví dụ trên minh họa điều này - không có chỗ nào chúng ta yêu cầu rõ ràng trình biên dịch chuyển đổi giá trị kiểu `int 5` thành giá trị kiểu `double 5.0`. Thay vào đó, hàm mong đợi một giá trị `double` và chúng ta truyền vào một đối số kiểu `int`. Trình biên dịch sẽ nhận thấy sự không khớp và ngầm định ép kiểu `int` thành `double`.\n",
    "\n",
    "Đây là một ví dụ tương tự khác, trong đó đối số của chúng ta là một biến `int` thay vì một hằng số nguyên:\n",
    ">```\n",
    ">#include <iostream>\n",
    ">\n",
    ">void print(double x) { // Hàm print nhận tham số kiểu double\n",
    ">  std::cout << x << '\\n';\n",
    ">}\n",
    ">\n",
    ">int main() {\n",
    ">  int y { 5 };\n",
    ">  print(y); // y có kiểu int\n",
    ">\n",
    ">  return 0;\n",
    ">}\n",
    ">```\n",
    "\n",
    "Điều này hoạt động giống hệt với ví dụ trên. Giá trị do biến `int y` (`5`) nắm giữ sẽ được ép kiểu thành giá trị `double 5.0`, và sau đó được sao chép vào tham số `x`."
   ]
  },
  {
   "cell_type": "markdown",
   "id": "97ca7b1d-4be0-4be3-b4fe-96cbc5ce1946",
   "metadata": {},
   "source": [
    "### **Ép kiểu tạo ra một giá trị mới**"
   ]
  },
  {
   "cell_type": "markdown",
   "id": "829a72b5-9b7e-4e5f-b851-0374f15b8856",
   "metadata": {},
   "source": [
    "Mặc dù được gọi là ép kiểu, quy trình này không thực sự thay đổi giá trị hoặc kiểu của giá trị được chuyển đổi. Thay vào đó, giá trị được chuyển đổi được sử dụng làm đầu vào và việc ép kiểu tạo ra một giá trị mới thuộc kiểu đích (thông qua khởi tạo trực tiếp).\n",
    "\n",
    "Trong ví dụ trên, việc ép kiểu không thay đổi biến `y` từ kiểu `int` thành `double`. Thay vào đó, việc ép kiểu sử dụng giá trị của `y` (`5`) làm đầu vào để tạo một giá trị `double` mới (`5.0`). Giá trị `double` này sau đó được truyền cho hàm `print`.\n",
    "\n",
    ">**Điểm mấu chốt**<br>\n",
    ">Ép kiểu sử dụng khởi tạo trực tiếp để tạo ra giá trị mới của kiểu đích từ giá trị của một kiểu khác.\n"
   ]
  },
  {
   "cell_type": "markdown",
   "id": "7591c261-2b7e-45ed-a979-0222125be766",
   "metadata": {},
   "source": [
    "### **Cảnh báo ép kiểu ngầm định (Implicit Type Conversion Warnings)**"
   ]
  },
  {
   "cell_type": "markdown",
   "id": "a407bd9e-f665-4138-a5ee-3b36c42d30d6",
   "metadata": {},
   "source": [
    "Mặc dù ép kiểu ngầm định (implicit type conversion) hữu ích trong hầu hết các trường hợp cần chuyển đổi kiểu dữ liệu, nhưng cũng có một số trường hợp ngoại lệ. Xét chương trình sau, tương tự như ví dụ ở trên:\n",
    "\n",
    ">```\n",
    ">#include <iostream>\n",
    ">\n",
    ">void print(int x) // print bây giờ nhận tham số kiểu int\n",
    ">{\n",
    ">\tstd::cout << x << '\\n';\n",
    ">}\n",
    ">\n",
    ">int main()\n",
    ">{\n",
    ">\tprint(5.5); // cảnh báo: chúng ta đang truyền vào một giá trị double\n",
    ">\n",
    ">\treturn 0;\n",
    ">}\n",
    ">```\n",
    "\n",
    "Trong chương trình này, chúng ta đã thay đổi hàm `print()` để nhận một tham số kiểu `int`, và hàm gọi `print()` bây giờ đang truyền vào giá trị `double` là `5.5`. Tương tự như ví dụ trên, trình biên dịch sẽ sử dụng ép kiểu ngầm định để chuyển đổi giá trị `double 5.5` thành giá trị kiểu `int`, để nó có thể được truyền cho hàm `print()`.\n",
    "\n",
    "Tuy nhiên, khác với ví dụ ban đầu, khi biên dịch chương trình này, trình biên dịch của bạn sẽ tạo ra một cảnh báo về việc có thể mất dữ liệu. Và vì bạn đã bật tùy chọn *\"treat warnings as errors\"* (chắc chắn là vậy, phải không?), trình biên dịch sẽ dừng quá trình biên dịch.\n",
    "\n",
    ">**Mẹo:**<br>\n",
    ">Bạn sẽ cần tắt tạm thời tùy chọn *\"treat warnings as errors\"* nếu muốn biên dịch ví dụ này. Tham khảo bài học 0.11 - Cấu hình trình biên dịch: Cấp độ cảnh báo và lỗi để biết thêm thông tin về cài đặt này."
   ]
  },
  {
   "cell_type": "markdown",
   "id": "fe5931bd-a9cd-4589-9639-f6416f3d0d09",
   "metadata": {},
   "source": [
    "Khi được biên dịch và chạy, chương trình này sẽ in ra kết quả như sau:\n",
    ">`5`\n",
    "\n",
    "Lưu ý rằng mặc dù chúng ta truyền vào giá trị `5.5`, chương trình lại in ra `5`. Bởi vì các giá trị nguyên không thể chứa phần thập phân, nên khi giá trị `double 5.5` được ép kiểu ngầm định thành `int`, phần thập phân sẽ bị loại bỏ và chỉ giữ lại phần nguyên.\n",
    "\n",
    "Do việc chuyển đổi giá trị dấu phẩy động sang giá trị nguyên dẫn đến mất phần thập phân, trình biên dịch sẽ cảnh báo chúng ta khi thực hiện ép kiểu ngầm định từ kiểu dấu phẩy động sang kiểu nguyên. Điều này xảy ra ngay cả khi chúng ta truyền vào một giá trị dấu phẩy động không có phần thập phân, chẳng hạn như `5.0` - trong trường hợp cụ thể này, không có mất giá trị thực sự trong quá trình chuyển đổi thành giá trị nguyên `5`, nhưng trình biên dịch vẫn có thể cảnh báo chúng ta rằng việc chuyển đổi không an toàn.\n",
    "\n",
    ">**Điểm mấu chốt:**<br>\n",
    ">Một số phép ép kiểu luôn an toàn để thực hiện (chẳng hạn như `int` sang `double`), trong khi những phép khác có thể dẫn đến việc giá trị bị thay đổi trong quá trình chuyển đổi (chẳng hạn như `double` sang `int`). Các phép ép kiểu ngầm định không an toàn thường sẽ tạo ra cảnh báo của trình biên dịch hoặc (trong trường hợp khởi tạo ngoặc nhọn) gây ra lỗi.\n",
    ">\n",
    ">Đây là một trong những lý do chính khiến khởi tạo ngoặc nhọn là dạng khởi tạo được ưu tiên. Khởi tạo ngoặc nhọn sẽ đảm bảo chúng ta không cố gắng khởi tạo biến bằng một bộ khởi tạo sẽ mất giá trị khi được ép kiểu ngầm định:\n",
    ">\n",
    ">>```\n",
    ">>int main()\n",
    ">>{\n",
    ">>    double d { 5 }; // ổn: int sang double là an toàn\n",
    ">>    int x { 5.5 }; // lỗi: double sang int không an toàn\n",
    ">>\n",
    ">>    return 0;\n",
    ">>}\n",
    ">>```\n",
    "\n",
    ">**Nội dung liên quan:**<br>\n",
    ">Ép kiểu ngầm định là một chủ đề phức tạp. Chúng ta sẽ đi sâu hơn vào chủ đề này trong các bài học tiếp theo, bắt đầu với bài học **10.1 - Ép kiểu ngầm định.**\n",
    "\n"
   ]
  },
  {
   "cell_type": "markdown",
   "id": "1cc5e656-6f6e-4fb1-84e8-d9c16d2c4fd5",
   "metadata": {},
   "source": [
    "### **Giới thiệu về ép kiểu tường minh (Explicit Type Conversion) sử dụng toán tử `static_cast`**"
   ]
  },
  {
   "cell_type": "markdown",
   "id": "c615c6b6-09b6-44ee-8386-b7a061b1dd95",
   "metadata": {},
   "source": [
    "Quay lại ví dụ `print()` gần đây nhất của chúng ta, nếu chúng ta có chủ ý muốn truyền một giá trị `double` cho một hàm nhận kiểu `int` (biết rằng giá trị được chuyển đổi sẽ loại bỏ mọi phần thập phân) thì sao? Tắt tùy chọn *“treat warnings as errors”* chỉ để biên dịch chương trình là một ý tưởng tồi, bởi vì sau đó chúng ta sẽ có cảnh báo mỗi lần biên dịch (điều mà chúng ta sẽ nhanh chóng học cách bỏ qua), và chúng ta có nguy cơ bỏ qua các cảnh báo về các vấn đề nghiêm trọng hơn.\n",
    "\n",
    "C++ hỗ trợ một phương thức chuyển đổi kiểu thứ hai, gọi là **ép kiểu tường minh (explicit type conversion)**. Ép kiểu tường minh cho phép chúng ta (người lập trình) yêu cầu cụ thể trình biên dịch chuyển đổi một giá trị từ kiểu này sang kiểu khác và chúng ta hoàn toàn chịu trách nhiệm về kết quả của việc ép kiểu đó. Nếu việc chuyển đổi như vậy dẫn đến mất giá trị, trình biên dịch sẽ không cảnh báo chúng ta.\n",
    "\n",
    "Để thực hiện ép kiểu tường minh, trong hầu hết các trường hợp, chúng ta sẽ sử dụng toán tử `static_cast`. Cú pháp của `static_cast` trông hơi lạ:\n",
    ">`static_cast<kiểu_mới>(biểu_thức)`\n",
    "\n",
    "`static_cast` lấy giá trị từ một biểu thức làm đầu vào và trả về giá trị đó được chuyển đổi thành kiểu được chỉ định bởi `kiểu_mới` (ví dụ: `int`, `bool`, `char`, `double`).\n",
    "\n",
    ">**Điểm mấu chốt:**<br>\n",
    ">Bất cứ khi nào bạn thấy cú pháp C++ (ngoại trừ tiền xử lý) sử dụng dấu ngoặc góc (`<>`), thì thứ nằm giữa dấu ngoặc góc rất có thể là một kiểu dữ liệu. Đây thường là cách C++ xử lý mã cần một kiểu dữ liệu được tham số hóa.\n",
    "\n",
    "Hãy cập nhật chương trình trước đó của chúng ta bằng cách sử dụng `static_cast`:\n",
    ">```\n",
    ">#include <iostream>\n",
    ">\n",
    ">void print(int x)\n",
    ">{\n",
    ">    std::cout << x << '\\n';\n",
    ">}\n",
    ">\n",
    ">int main()\n",
    ">{\n",
    ">    print( static_cast<int>(5.5) ); // rõ ràng chuyển đổi giá trị double 5.5 thành kiểu int\n",
    ">    \n",
    ">    return 0;\n",
    ">}\n",
    ">```\n",
    "\n",
    "Vì bây giờ chúng ta yêu cầu rõ ràng rằng giá trị `double 5.5` được chuyển đổi thành giá trị `int`, trình biên dịch sẽ không tạo ra cảnh báo về việc có thể mất dữ liệu khi biên dịch (có nghĩa là chúng ta có thể để tùy chọn \"xử lý cảnh báo như lỗi\" được bật).\n",
    "\n",
    ">**Nội dung liên quan:**<br>\n",
    ">C++ hỗ trợ các loại phép chuyển đổi khác. Chúng ta sẽ tìm hiểu thêm về các loại phép chuyển đổi khác nhau trong bài học **10.6 - Ép kiểu tường minh (casting) và `static_cast`.**"
   ]
  },
  {
   "cell_type": "markdown",
   "id": "442cc73f-86e3-400c-9562-7c10c5b78b8a",
   "metadata": {},
   "source": [
    "### **Sử dụng `static_cast` để chuyển đổi `char` sang `int`**"
   ]
  },
  {
   "cell_type": "markdown",
   "id": "ec5a49e3-2880-46bb-a4d7-26427f7364b2",
   "metadata": {},
   "source": [
    "Trong bài học về ký tự (`char`) [**Bài 4.11: Ký tự (chars)**](lesson4_11.ipynb), chúng ta đã thấy rằng việc in một giá trị `char` bằng `std::cout` sẽ dẫn đến việc giá trị được in ra dưới dạng một ký tự:\n",
    ">```\n",
    ">#include <iostream>\n",
    ">\n",
    ">int main()\n",
    ">{\n",
    ">    char ch{ 97 }; // 97 là mã ASCII của ký tự 'a'\n",
    ">    std::cout << ch << '\\n';\n",
    ">\n",
    ">    return 0;\n",
    ">}\n",
    "\n",
    "Đoạn code này sẽ in ra:\n",
    ">`a`\n",
    "\n",
    "Nếu muốn in ra giá trị số nguyên thay vì ký tự, chúng ta có thể thực hiện điều này bằng cách sử dụng `static_cast` để ép kiểu giá trị từ `char` sang `int`:\n",
    ">```\n",
    ">#include <iostream>\n",
    ">\n",
    ">int main()\n",
    ">{\n",
    ">    char ch{ 97 }; // 97 là mã ASCII của ký tự 'a'\n",
    ">    std::cout << ch << \" has value \" << static_cast<int>(ch) << '\\n'; // in giá trị của biến ch dưới dạng int\n",
    ">\n",
    ">    return 0;\n",
    ">}\n",
    ">```\n",
    "\n",
    "Đoạn code này sẽ in ra:\n",
    ">`a has value 97`\n",
    "\n",
    "Điều đáng chú ý là đối số truyền vào `static_cast` được đánh giá như một biểu thức. Khi chúng ta truyền vào một biến, biến đó sẽ được tính toán để tạo ra giá trị của nó, và giá trị đó sau đó được chuyển đổi thành kiểu dữ liệu mới. Bản thân biến không bị ảnh hưởng bởi việc ép kiểu giá trị của nó thành một kiểu dữ liệu mới. Trong trường hợp trên, biến `ch` vẫn là một `char` và vẫn giữ giá trị ban đầu ngay cả sau khi chúng ta ép kiểu giá trị của nó thành `int`."
   ]
  },
  {
   "cell_type": "markdown",
   "id": "6566e8a5-f33e-47fa-b7af-88ec9a6a2326",
   "metadata": {},
   "source": [
    "### **Chuyển đổi số không dấu sang số có dấu**"
   ]
  },
  {
   "cell_type": "markdown",
   "id": "11bb4f9d-c645-4d11-b3e3-243ae84bbca8",
   "metadata": {},
   "source": [
    "Để chuyển đổi một số không dấu sang số có dấu, bạn cũng có thể sử dụng toán tử `static_cast`:\n",
    ">```\n",
    ">#include <iostream>\n",
    ">\n",
    ">int main()\n",
    ">{\n",
    ">    unsigned int u { 5 };\n",
    ">    int s { static_cast<int>(u) }; // trả về giá trị của biến u dưới dạng int\n",
    ">\n",
    ">    std::cout << s << '\\n';\n",
    ">    return 0;\n",
    ">}\n",
    ">```\n",
    "\n",
    "Toán tử `static_cast` không thực hiện bất kỳ kiểm tra phạm vi nào, vì vậy nếu bạn ép kiểu một giá trị thành một kiểu có phạm vi không chứa giá trị đó, kết quả sẽ là **hành vi bất định**. Do đó, việc ép kiểu từ `unsigned int` sang `int` ở trên sẽ dẫn đến kết quả không thể dự đoán được nếu giá trị của `unsigned int` lớn hơn giá trị tối đa mà một `int` có dấu có thể chứa.\n",
    "\n",
    ">**Cảnh báo:**<br>\n",
    ">Toán tử `static_cast` sẽ tạo ra hành vi bất định (undefined behavior) nếu giá trị được chuyển đổi không nằm trong phạm vi của kiểu dữ liệu mới."
   ]
  },
  {
   "cell_type": "markdown",
   "id": "775ed01f-6291-4ef5-b0fb-462cb010853c",
   "metadata": {},
   "source": [
    "### **`std::int8_t` và `std::uint8_t` có thể hoạt động giống như `char` thay vì số nguyên**"
   ]
  },
  {
   "cell_type": "markdown",
   "id": "b4e6d2a8-3f6c-4c28-96b4-c30d47ec02b7",
   "metadata": {},
   "source": [
    "Như đã lưu ý trong bài học [**4.6: Số nguyên kích thước cố định và `size_t`**](lesson4_6.ipynb), hầu hết các trình biên dịch đều định nghĩa và xử lý `std::int8_t` và `std::uint8_t` (cùng các kiểu có kích thước cố định, `fast` và `least` tương tự) giống hệt với các kiểu `signed char` và `unsigned char` theo thứ tự. Bây giờ, khi đã biết ký tự (`char`) là gì, chúng ta có thể trình bày trường hợp này có thể gây ra vấn đề ở đâu:\n",
    ">```\n",
    ">#include <cstdint>\n",
    ">#include <iostream>\n",
    ">\n",
    ">int main()\n",
    ">{\n",
    ">    std::int8_t myInt{65};      // khởi tạo myInt với giá trị 65\n",
    ">    std::cout << myInt << '\\n'; // bạn có thể mong đợi đoạn code này in ra 65\n",
    ">\n",
    ">    return 0;\n",
    ">}\n",
    ">```\n",
    "\n",
    "Bởi vì `std::int8_t` được mô tả là một kiểu số nguyên (`int`), bạn có thể bị đánh lừa tin rằng chương trình trên sẽ in ra giá trị số nguyên là `65`. Tuy nhiên, trên hầu hết các hệ thống, chương trình này sẽ in ra ký tự `A` (xử lý `myInt` như một `signed char`). Mặc dù vậy, điều này không được đảm bảo (trên một số hệ thống, nó thực sự có thể in ra `65`).\n",
    "\n",
    "Nếu bạn muốn đảm bảo rằng một đối tượng `std::int8_t` hoặc `std::uint8_t` được xử lý như một số nguyên, bạn có thể chuyển đổi giá trị thành số nguyên bằng cách sử dụng `static_cast`:\n",
    ">```\n",
    ">#include <cstdint>\n",
    ">#include <iostream>\n",
    ">\n",
    ">int main()\n",
    ">{\n",
    ">    std::cout << \"Nhập một số từ 0 đến 127: \";\n",
    ">    std::int8_t myInt{};\n",
    ">    std::cin >> myInt;\n",
    ">\n",
    ">    std::cout << \"Bạn đã nhập: \" << static_cast<int>(myInt) << '\\n';\n",
    ">\n",
    ">    return 0;\n",
    ">}\n",
    ">```\n",
    "\n",
    "Ví dụ chạy chương trình này:\n",
    ">```\n",
    ">Nhập một số từ 0 đến 127: 35\n",
    ">Bạn đã nhập: 51\n",
    ">```\n",
    "\n",
    "Đây là những gì xảy ra. Khi `std::int8_t` được xử lý như một `char`, các quy trình nhập liệu giải thích đầu vào của chúng là một chuỗi các ký tự, chứ không phải là một số nguyên. Vì vậy, khi chúng ta nhập `35`, chúng ta thực sự đang nhập hai ký tự, `'3'` và `'5'`. Bởi vì một đối tượng `char` chỉ có thể chứa một ký tự, nên ký tự `'3'` được trích xuất (ký tự `'5'` được để lại trong luồng đầu vào để có thể trích xuất sau). Do ký tự `'3'` có mã ASCII là `51`, nên giá trị `51` được lưu trữ trong `myInt`, sau đó chúng ta in ra dưới dạng số nguyên.\n",
    "\n",
    "Ngoại trừ ngoại lệ này, các kiểu có kích thước cố định khác sẽ luôn in và nhập dưới dạng giá trị số nguyên."
   ]
  },
  {
   "cell_type": "markdown",
   "id": "64d987b2-a405-4f95-9ae3-c2a444acbab5",
   "metadata": {},
   "source": [
    "### **Bài tập** "
   ]
  },
  {
   "cell_type": "markdown",
   "id": "a18ac178-4979-4bdc-a079-fdefb2f7a419",
   "metadata": {},
   "source": [
    "**Câu hỏi #1**: Viết một chương trình ngắn yêu cầu người dùng nhập một ký tự duy nhất. In ra giá trị của ký tự đó và mã ASCII của nó, sử dụng `static_cast`.\n",
    "\n",
    "Đầu ra của chương trình phải có dạng:\n",
    ">```\n",
    ">Nhập một ký tự duy nhất: a\n",
    ">Bạn đã nhập 'a', có mã ASCII là 97.\n",
    ">```\n",
    "\n",
    "<details>\n",
    "<summary><b>Đáp án:</b></summary>\n",
    "\n",
    ">```\n",
    ">#include <iostream>\n",
    ">\n",
    ">int main()\n",
    ">{\n",
    ">    std::cout << \"Nhập một ký tự duy nhất: \";\n",
    ">    char c{};\n",
    ">    std::cin >> c;\n",
    ">    std::cout << \"Bạn đã nhập '\" << c << \"', có mã ASCII là \" << static_cast<int>(c) << \".\\n\";\n",
    ">    \n",
    ">    return 0;\n",
    ">}\n",
    ">```\n",
    "</details>\n",
    "\n",
    "**Câu hỏi #2**: Sửa đổi chương trình bạn đã viết cho câu hỏi #1 để sử dụng ép kiểu ngầm định thay vì `static_cast`. Bạn có thể nghĩ ra bao nhiêu cách khác nhau để thực hiện việc này?\n",
    "\n",
    "*Lưu ý:* Bạn nên ưu tiên sử dụng ép kiểu tường minh so với ép kiểu ngầm định, vì vậy đừng thực sự làm điều này trong các chương trình thực tế - đây chỉ là để kiểm tra sự hiểu biết của bạn về những trường hợp ép kiểu ngầm định có thể xảy ra.\n",
    "\n",
    "<details>\n",
    "<summary><b>Đáp án:</b></summary>\n",
    "\n",
    "**Cách 1:** Khởi tạo biến kiểu `int` với giá trị `char`\n",
    "\n",
    "Đầu tiên, chúng ta có thể tạo một biến `int` và khởi tạo nó bằng giá trị `char` của chúng ta. Điều này sẽ thực hiện ép kiểu ngầm định khi khởi tạo.\n",
    ">```\n",
    ">#include <iostream>\n",
    ">\n",
    ">int main()\n",
    ">{\n",
    ">    std::cout << \"Nhập một ký tự duy nhất: \";\n",
    ">    char c{};\n",
    ">    std::cin >> c;\n",
    ">    \n",
    ">    int ascii{ c };\n",
    ">    std::cout << \"Bạn đã nhập '\" << c << \"', có mã ASCII là \" << ascii << \".\\n\";\n",
    ">    \n",
    ">    return 0;\n",
    ">}\n",
    ">```\n",
    "\n",
    "**Cách 2:** Sử dụng hàm trả về giá trị `char` dưới dạng `int`\n",
    "\n",
    "Ngoài ra, chúng ta có thể sử dụng một hàm để trả về giá trị `char` dưới dạng `int`. Điều này sẽ thực hiện chuyển đổi ngầm định tại thời điểm trả về.\n",
    ">```\n",
    ">#include <iostream>\n",
    ">\n",
    ">int charAsInt(char c)\n",
    ">{\n",
    ">    return c;\n",
    ">}\n",
    ">\n",
    ">int main()\n",
    ">{\n",
    ">    std::cout << \"Nhập một ký tự duy nhất: \";\n",
    ">    char c{};\n",
    ">    std::cin >> c;\n",
    ">    \n",
    ">    std::cout << \"Bạn đã nhập '\" << c << \"', có mã ASCII là \" << charAsInt(c) << \".\\n\";\n",
    ">    \n",
    ">    return 0;\n",
    ">}\n",
    ">```\n",
    "\n",
    "**Cách 3:** Sử dụng hàm và ép kiểu ngầm định khi truyền tham số\n",
    "\n",
    "Chúng ta cũng có thể sử dụng một hàm và để chuyển đổi ngầm định xảy ra tại thời điểm đối số được sao chép vào tham số hàm:\n",
    "\n",
    ">```\n",
    ">#include <iostream>\n",
    ">\n",
    ">int getInt(int c)\n",
    ">{\n",
    ">    return c;\n",
    ">}\n",
    ">\n",
    ">int main()\n",
    ">{\n",
    ">    std::cout << \"Nhập một ký tự duy nhất: \";\n",
    ">    char c{};\n",
    ">    std::cin >> c;\n",
    ">    \n",
    ">    std::cout << \"Bạn đã nhập '\" << c << \"', có mã ASCII là \" << getInt(c) << \".\\n\";\n",
    ">    \n",
    ">    return 0;\n",
    ">}\n",
    ">```\n",
    "\n",
    "</details>"
   ]
  },
  {
   "cell_type": "code",
   "execution_count": null,
   "id": "f91036fd-5b38-4e03-bb6d-cf99df78120f",
   "metadata": {},
   "outputs": [],
   "source": []
  }
 ],
 "metadata": {
  "kernelspec": {
   "display_name": "Python 3 (ipykernel)",
   "language": "python",
   "name": "python3"
  },
  "language_info": {
   "codemirror_mode": {
    "name": "ipython",
    "version": 3
   },
   "file_extension": ".py",
   "mimetype": "text/x-python",
   "name": "python",
   "nbconvert_exporter": "python",
   "pygments_lexer": "ipython3",
   "version": "3.12.3"
  }
 },
 "nbformat": 4,
 "nbformat_minor": 5
}
