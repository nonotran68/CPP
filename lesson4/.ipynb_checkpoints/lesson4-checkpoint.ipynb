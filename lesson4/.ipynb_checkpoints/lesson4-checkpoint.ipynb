{
 "cells": [
  {
   "cell_type": "markdown",
   "id": "b5b3ef7b-aa0b-42b5-affc-28934c315d24",
   "metadata": {
    "jp-MarkdownHeadingCollapsed": true
   },
   "source": [
    "## **Bài 4.1: <u>Giới thiệu về Kiểu dữ liệu cơ bản</u>**"
   ]
  },
  {
   "cell_type": "markdown",
   "id": "66b0895a-a0e0-427d-bd22-6303d937ca4e",
   "metadata": {},
   "source": [
    "### **Bit, Byte và Địa chỉ bộ nhớ**"
   ]
  },
  {
   "cell_type": "markdown",
   "id": "7c099c28-14b1-4088-998d-67bf3e16049a",
   "metadata": {},
   "source": [
    "Trong bài học [**1.3 - Giới thiệu về đối tượng và biến**](../lesson1/lesson1_3.ipynb), chúng ta đã đề cập đến việc biến là tên gọi của một vùng nhớ được sử dụng để lưu trữ thông tin. Nhắc lại một cách ngắn gọn, máy tính có bộ nhớ truy cập ngẫu nhiên (**RAM**) mà các chương trình có thể sử dụng. Khi một biến được khai báo, một phần của bộ nhớ đó được dành riêng cho biến đó.\n",
    "\n",
    "Đơn vị nhỏ nhất của bộ nhớ là một **bit** (còn gọi là **binary digit** hay đơn vị nhị phân), có thể chứa giá trị 0 hoặc 1. Bạn có thể coi một bit giống như công tắc đèn truyền thống - đèn tắt (0) hoặc bật (1). Không có trạng thái trung gian nào. Nếu bạn nhìn vào một đoạn bộ nhớ ngẫu nhiên, tất cả những gì bạn thấy là `...011010100101010...` hoặc một tổ hợp nào đó tương tự.\n",
    "\n",
    "Bộ nhớ được tổ chức thành các đơn vị tuần tự được gọi là **địa chỉ bộ nhớ** (hay ngắn gọn là **địa chỉ**). Tương tự như cách một địa chỉ đường phố có thể được sử dụng để tìm một ngôi nhà nhất định trên một con phố, **địa chỉ bộ nhớ** cho phép chúng ta tìm và truy cập nội dung của bộ nhớ tại một vị trí cụ thể.\n",
    "\n",
    "Có lẽ điều ngạc nhiên là, trong kiến trúc máy tính hiện đại, mỗi bit không có địa chỉ bộ nhớ riêng biệt. Điều này là do số lượng địa chỉ bộ nhớ bị hạn chế và nhu cầu truy cập dữ liệu từng bit là rất hiếm. Thay vào đó, mỗi địa chỉ bộ nhớ chứa 1 **byte** dữ liệu. **Byte** là một nhóm các bit được vận hành như một đơn vị. Tiêu chuẩn hiện đại là **1 byte** bao gồm **8 bit** tuần tự."
   ]
  },
  {
   "cell_type": "markdown",
   "id": "c9ad99b4-55d0-48c1-84fb-46532e442d39",
   "metadata": {},
   "source": [
    ">**Kiến thức cốt lõi:**<br>\n",
    ">Trong C++, chúng ta thường làm việc với các khối dữ liệu có kích thước bằng **byte**.\n",
    "\n",
    "Hình ảnh sau đây cho thấy một số địa chỉ bộ nhớ tuần tự, cùng với byte dữ liệu tương ứng:\n",
    ">![](MemoryAddresses.png)\n",
    "\n",
    "\n",
    ">**Ngoài lề**<br>\n",
    ">Một số máy cũ hoặc không theo tiêu chuẩn có thể có byte với kích thước khác nhau (từ 1 đến 48 bit) - tuy nhiên, chúng ta thường không cần lo lắng về những điều này, vì tiêu chuẩn thực tế hiện đại là 1 byte bằng 8 bit. Trong các bài hướng dẫn này, chúng ta sẽ giả sử 1 byte bằng 8 bit."
   ]
  },
  {
   "cell_type": "markdown",
   "id": "ed87071b-2e62-4ef1-bc1e-a4c6804a376c",
   "metadata": {},
   "source": [
    "### **Kiểu dữ liệu**"
   ]
  },
  {
   "cell_type": "markdown",
   "id": "361b91bb-1340-430d-8346-4323eecf271e",
   "metadata": {},
   "source": [
    "Vì tất cả dữ liệu trên máy tính chỉ là một dãy bit, chúng ta sử dụng **kiểu dữ liệu** (thường được gọi tắt là **\"kiểu\"**) để báo cho trình biên dịch cách giải thích nội dung của bộ nhớ theo một cách có ý nghĩa. Bạn đã thấy một ví dụ về kiểu dữ liệu: *số nguyên*. Khi chúng ta khai báo một biến là kiểu số nguyên, chúng ta đang nói với trình biên dịch \"phần bộ nhớ mà biến này sử dụng sẽ được giải thích là một giá trị số nguyên\".\n",
    "\n",
    "Khi bạn gán giá trị cho một đối tượng, trình biên dịch và CPU sẽ xử lý việc mã hóa giá trị của bạn thành chuỗi bit thích hợp cho kiểu dữ liệu đó, sau đó được lưu trữ trong bộ nhớ (nhớ rằng: bộ nhớ chỉ có thể lưu trữ bit). Ví dụ, nếu bạn gán cho một đối tượng kiểu số nguyên giá trị `65`, thì giá trị đó được chuyển đổi thành chuỗi bit `01000001` và được lưu trữ trong bộ nhớ được gán cho đối tượng.\n",
    "\n",
    "Ngược lại, khi đối tượng được đánh giá để tạo ra một giá trị, chuỗi bit đó được khôi phục lại thành giá trị ban đầu. Nghĩa là `01000001` được chuyển đổi trở lại thành giá trị `65`.\n",
    "\n",
    "May mắn thay, trình biên dịch và CPU thực hiện tất cả các công việc khó khăn ở đây, vì vậy bạn thường không cần lo lắng về cách các giá trị được chuyển đổi thành chuỗi bit và ngược lại.\n",
    "\n",
    "Tất cả bạn cần làm là chọn một kiểu dữ liệu cho đối tượng phù hợp nhất với việc sử dụng bạn muốn.\n",
    "\n"
   ]
  },
  {
   "cell_type": "markdown",
   "id": "a4ce0fcc-e67e-4c20-af5f-6d140844f2dd",
   "metadata": {},
   "source": [
    "### **Kiểu dữ liệu cơ bản**"
   ]
  },
  {
   "cell_type": "markdown",
   "id": "88e65dc6-467a-4895-9f8f-1b271f6b3637",
   "metadata": {},
   "source": [
    "C++ cung cấp sẵn hỗ trợ cho nhiều kiểu dữ liệu khác nhau. Chúng được gọi là **kiểu dữ liệu cơ bản (fundamental data types)**, nhưng thường được gọi không chính thức là **kiểu cơ bản (basic types)**, **kiểu nguyên thủy (primitive types)** hoặc **kiểu dựng sẵn (built-in types)**.\n",
    "\n",
    "Dưới đây là danh sách các kiểu dữ liệu cơ bản, một số trong số đó bạn đã từng gặp:"
   ]
  },
  {
   "cell_type": "markdown",
   "id": "f1cedea3-6e6b-42c7-96ba-bd24e3a95908",
   "metadata": {},
   "source": [
    "| Kiểu dữ liệu                                                                                    | Phân loại             | Ý nghĩa                                    | Ví dụ     |\n",
    "|--------------------------------------------------------------------------------------------|-----------------------|--------------------------------------------|-----------|\n",
    "| `float`<br><br>`double`<br><br>`long double`                                                     | Số thực dấu phẩy động | Đi kèm với phần thập phân sau dấu phẩy (chấm)     | `3.1415926` |\n",
    "| `bool`                                                                                       | Integral (Logic)     | Đúng (true) hoặc sai (false)                             | `true`      |\n",
    "| `char`<br><br>`wchar_t`<br><br>`char8_t` (C++20)<br><br>`char16_t` (C++11)<br><br>`char32_t` (C++11) |Integral (ký tự)     | Một ký tự trong bảng chữ cái               | `'c'`<br>   |\n",
    "| `short int`<br><br>`int`<br><br>`long int`<br><br>`long long int` (C++11)                          | Số nguyên (integer)            | Số nguyên âm và số nguyên dương bao gồm 0 | 64        |\n",
    "| `std::nullptr_t` (C++11)                                                                     | Con trỏ null          | Con trỏ null                               | `nullptr`   |\n",
    "| `void`                                                                                       | Void                  | Không có kiểu                              | `void`      |"
   ]
  },
  {
   "cell_type": "markdown",
   "id": "1e32c58f-43e8-4bea-92f3-dff3cd06e4dc",
   "metadata": {},
   "source": [
    "Chương này tập trung khám phá chi tiết các kiểu dữ liệu cơ bản (ngoại trừ `std::nullptr_t`, kiểu này sẽ được thảo luận khi chúng ta nói về con trỏ). C++ cũng hỗ trợ một số kiểu dữ liệu phức tạp hơn, được gọi là **kiểu phức hợp** (compound types). Chúng ta sẽ tìm hiểu về kiểu phức hợp trong một chương học sắp tới.\n",
    "\n",
    ">**Lưu ý của tác giả:**<br>\n",
    ">Các thuật ngữ *integer* (số nguyên) và *integral* (thuộc loại số nguyên) có vẻ tương đồng nhưng đôi khi lại có ý nghĩa khác nhau.\n",
    ">- Trong toán học, *integer* là một số không có phần thập phân hoặc phần phân số, bao gồm cả số âm, số dương và số 0.\n",
    ">- Trong C++, thuật ngữ *integer* thường được dùng để chỉ kiểu dữ liệu `int`, lưu trữ các giá trị số nguyên. Tuy nhiên, đôi khi nó cũng được dùng để chỉ một tập hợp rộng hơn các kiểu dữ liệu thường được sử dụng để lưu trữ và hiển thị các giá trị số nguyên. Điều này bao gồm `short`, `int`, `long`, `long long` và các biến thể có dấu và không dấu của chúng.\n",
    ">- Thuật ngữ *integral* có nghĩa là **\"giống như số nguyên\"**. Thường thì *integral* được sử dụng như một phần của cụm từ \"kiểu thuộc loại số nguyên\", bao gồm tập hợp rộng hơn các kiểu được lưu trữ trong bộ nhớ dưới dạng số nguyên, mặc dù hành vi của chúng có thể khác nhau (chúng ta sẽ thấy chi tiết hơn trong chương này khi nói về các kiểu ký tự `char`). Điều này bao gồm `bool`, các kiểu số nguyên và tất cả các kiểu ký tự khác nhau.\n",
    "\n",
    ">**Ngoài lề**<br>\n",
    ">Hầu hết các ngôn ngữ lập trình hiện đại đều bao gồm một kiểu dữ liệu cơ bản là `string` (chuỗi ký tự là một kiểu dữ liệu cho phép chúng ta lưu trữ một dãy các ký tự, thường được dùng để biểu diễn văn bản). Trong C++, `string` không phải là một kiểu dữ liệu cơ bản (mà là một kiểu phức hợp). Nhưng vì cách sử dụng cơ bản của `string` khá đơn giản và hữu ích, nên chúng ta sẽ giới thiệu về chuỗi trong chương tiếp theo (bài học 5.9 - Giới thiệu về `std::string`)."
   ]
  },
  {
   "cell_type": "markdown",
   "id": "e19b59e4-eb08-4273-b093-84ac9bb88307",
   "metadata": {},
   "source": [
    "### **Hậu tố `_t`**"
   ]
  },
  {
   "cell_type": "markdown",
   "id": "0e1a9aa5-63cf-4d82-bd86-7cc9490a863c",
   "metadata": {},
   "source": [
    "Nhiều kiểu dữ liệu được định nghĩa trong các phiên bản C++ mới hơn (ví dụ `std::nullptr_t`) sử dụng hậu tố `_t`. Hậu tố này có nghĩa là **\"kiểu\" (type)**, và đây là một thuật ngữ phổ biến được áp dụng cho các kiểu dữ liệu hiện đại.\n",
    "\n",
    "Nếu bạn thấy một cái gì đó có hậu tố `_t`, thì có thể nó là một kiểu dữ liệu. Nhưng nhiều kiểu dữ liệu không có hậu tố `_t`, vì vậy điều này không được áp dụng một cách nhất quán."
   ]
  },
  {
   "cell_type": "markdown",
   "id": "3c27b142-c11c-4db0-b484-058f09e19eb4",
   "metadata": {
    "jp-MarkdownHeadingCollapsed": true
   },
   "source": [
    "## **Bài 4.2: <u>`void`</u>** "
   ]
  },
  {
   "cell_type": "markdown",
   "id": "21e72d87-1109-4eb6-b759-0c779feae878",
   "metadata": {},
   "source": [
    "### **`void` - Kiểu dữ liệu đơn giản nhất**"
   ]
  },
  {
   "cell_type": "markdown",
   "id": "d5384144-7942-4eee-8c96-6f542e6ed344",
   "metadata": {},
   "source": [
    "`void` là một trong những kiểu dữ liệu dễ giải thích nhất. Về cơ bản, `void` có nghĩa là **\"không kiểu\"**!\n",
    "\n",
    "`void` là ví dụ đầu tiên về một **kiểu dữ liệu không đầy đủ (incomplete type)**. **Kiểu dữ liệu không đầy đủ** là kiểu đã được khai báo nhưng chưa được định nghĩa. Trình biên dịch biết về sự tồn tại của các kiểu như vậy, nhưng không có đủ thông tin để xác định cần phân bổ bao nhiêu bộ nhớ cho các đối tượng của kiểu đó. `void` được thiết kế là không đầy đủ vì nó đại diện cho sự thiếu kiểu, do đó không thể được định nghĩa.\n",
    "\n",
    "**Kiểu dữ liệu không đầy đủ không thể được khởi tạo:**\n",
    ">```\n",
    ">void value; // Không hợp lệ, biến không thể được khai báo với kiểu không đầy đủ void\n",
    ">```\n",
    "\n",
    "**`void` thường được sử dụng trong một số ngữ cảnh khác nhau:**"
   ]
  },
  {
   "cell_type": "markdown",
   "id": "d2473023-a799-4660-a75f-0fda0a7683c4",
   "metadata": {},
   "source": [
    "### **Hàm không trả về giá trị**"
   ]
  },
  {
   "cell_type": "markdown",
   "id": "4f55cf67-e000-41fd-ad92-63f9a5b0690a",
   "metadata": {},
   "source": [
    "Thông thường nhất, `void` được sử dụng để chỉ rằng một hàm không trả về giá trị:\n",
    "\n",
    ">```\n",
    ">void writeValue(int x) // void ở đây nghĩa là không có giá trị trả về\n",
    ">{\n",
    ">    std::cout << \"Giá trị của x là: \" << x << '\\n';\n",
    ">    // Không có lệnh return, vì hàm này không trả về giá trị\n",
    ">}\n",
    ">```\n",
    "\n",
    "Nếu bạn sử dụng lệnh `return` để cố gắng trả về giá trị trong một hàm như vậy, sẽ dẫn đến lỗi biên dịch:\n",
    "\n",
    ">```\n",
    ">void noReturn(int x) // void ở đây nghĩa là không có giá trị trả về\n",
    ">{\n",
    ">    std::cout << \"Giá trị của x là: \" << x << '\\n';\n",
    ">\n",
    ">    return 5; // Lỗi\n",
    ">}\n",
    ">```\n",
    "\n",
    "Trên Visual Studio 2017, lỗi này sẽ hiển thị:\n",
    ">```\n",
    ">error C2562: 'noReturn': 'void' function returning a value\n",
    ">```"
   ]
  },
  {
   "cell_type": "markdown",
   "id": "c645d275-1fb4-4634-b43b-505feb4c3500",
   "metadata": {},
   "source": [
    "### **Không khuyến khích: Hàm không nhận tham số**"
   ]
  },
  {
   "cell_type": "markdown",
   "id": "1396e9a8-1285-4d99-9574-dcf4fcbc6fab",
   "metadata": {},
   "source": [
    "Trong C, `void` được sử dụng để chỉ rằng một hàm không nhận bất kỳ tham số nào:\n",
    "\n",
    ">```\n",
    ">int getValue(void) // void ở đây nghĩa là không có tham số\n",
    ">{\n",
    ">    int x{};\n",
    ">    std::cin >> x;\n",
    ">\n",
    ">    return x;\n",
    ">}\n",
    ">```\n",
    "\n",
    "Mặc dù đoạn code này có thể biên dịch trong C++ (vì lý do tương thích ngược), cách sử dụng từ khóa `void` này được coi là không khuyến khích trong C++. Đoạn code sau đây tương đương và được ưu tiên hơn trong C++:\n",
    "\n",
    ">```\n",
    ">int getValue() // Danh sách tham số trống ngầm định là void\n",
    ">{\n",
    ">    int x{};\n",
    ">    std::cin >> x;\n",
    ">\n",
    ">    return x;\n",
    ">}\n",
    ">```\n",
    "\n",
    ">**Thực hành tốt nhất:**<br>\n",
    ">Sử dụng danh sách tham số trống thay vì `void` để chỉ rằng một hàm không có tham số."
   ]
  },
  {
   "cell_type": "markdown",
   "id": "1c0611a8-867b-4095-a8bf-2399a5b97e01",
   "metadata": {},
   "source": [
    "### **Những cách sử dụng `void` khác**"
   ]
  },
  {
   "cell_type": "markdown",
   "id": "4acc60f1-7448-4ddd-bf27-72f4734b2ae7",
   "metadata": {},
   "source": [
    "Từ khóa `void` có cách sử dụng thứ ba (nâng cao hơn) trong C++, được đề cập trong phần 19.5 - Con trỏ `void`. Vì chúng ta chưa học về con trỏ, bạn không cần lo lắng về trường hợp này hiện tại.\n",
    "\n",
    "Tiếp tục nào!"
   ]
  },
  {
   "cell_type": "markdown",
   "id": "dabccdd3-daca-4a9a-a899-f51a6aeecc0b",
   "metadata": {},
   "source": [
    "## **Bài 4.3: <u>Kích thước đối tượng và toán tử `sizeof`</u>** "
   ]
  },
  {
   "cell_type": "markdown",
   "id": "49bf6e40-7783-4edc-8624-ba5de5a2ebb7",
   "metadata": {},
   "source": [
    "Như bạn đã học trong bài học [**4.1 - Giới thiệu về kiểu dữ liệu cơ bản**](lesson4_1.ipynb), bộ nhớ trên các máy tính hiện đại thường được tổ chức thành các đơn vị **byte**, mỗi **byte** có một địa chỉ duy nhất. Cho đến thời điểm này, việc coi bộ nhớ như một dãy các ngăn tủ hoặc hộp thư nơi chúng ta có thể lưu trữ và truy xuất thông tin, và biến là tên để truy cập vào các ngăn tủ hoặc hộp thư đó, là một cách hữu ích.\n",
    "\n"
   ]
  },
  {
   "cell_type": "markdown",
   "id": "011705ae-758f-4da1-a14a-d5032df3dc5a",
   "metadata": {},
   "source": [
    "Tuy nhiên, phép so sánh này không hoàn toàn chính xác ở một khía cạnh - hầu hết các đối tượng thực sự chiếm hơn 1 byte bộ nhớ. Một đối tượng đơn có thể sử dụng 1, 2, 4, 8 hoặc thậm chí nhiều địa chỉ bộ nhớ liên tiếp hơn. Lượng bộ nhớ mà một đối tượng sử dụng phụ thuộc vào kiểu dữ liệu của nó.\n",
    "\n",
    "Vì chúng ta thường truy cập bộ nhớ thông qua tên biến (chứ không phải trực tiếp qua địa chỉ bộ nhớ), trình biên dịch có thể ẩn giấu chi tiết về số byte mà một đối tượng nhất định sử dụng khỏi chúng ta. Khi chúng ta truy cập một biến `x`, trình biên dịch biết cần truy xuất bao nhiêu byte dữ liệu (dựa trên kiểu của biến `x`), và có thể xử lý nhiệm vụ đó cho chúng ta.\n",
    "\n",
    "Mặc dù vậy, việc biết một đối tượng sử dụng bao nhiêu bộ nhớ vẫn có ích vì một số lý do.\n",
    "\n",
    "1. **Dung lượng lưu trữ:**\n",
    "\n",
    "    Càng nhiều bộ nhớ một đối tượng sử dụng, thì nó càng chứa được nhiều thông tin.\\\n",
    "    1 bit có thể chứa 2 giá trị khả dĩ, `0` hoặc `1`:\n",
    "    >**Bit 0**<br>\n",
    "    >`0`\\\n",
    "    >`1`\n",
    "\n",
    "    2 bit có thể chứa 4 giá trị khả dĩ:\n",
    "    >**Bit 0**&nbsp;&nbsp;&nbsp;&nbsp;&nbsp;&nbsp;**Bit 1**\\\n",
    "    >`0`&nbsp;&nbsp;&nbsp;&nbsp;&nbsp;&nbsp;&nbsp;&nbsp;&nbsp;&nbsp;`0`\\\n",
    "    >`0`&nbsp;&nbsp;&nbsp;&nbsp;&nbsp;&nbsp;&nbsp;&nbsp;&nbsp;&nbsp;`1`\\\n",
    "    >`1`&nbsp;&nbsp;&nbsp;&nbsp;&nbsp;&nbsp;&nbsp;&nbsp;&nbsp;&nbsp;`0`\\\n",
    "    >`1`&nbsp;&nbsp;&nbsp;&nbsp;&nbsp;&nbsp;&nbsp;&nbsp;&nbsp;&nbsp;`1`\n",
    "\n",
    "    3 bit có thể chứa 8 giá trị khả dĩ:\n",
    "    >**Bit 0**&nbsp;&nbsp;&nbsp;&nbsp;&nbsp;&nbsp;**Bit 1**&nbsp;&nbsp;&nbsp;&nbsp;&nbsp;&nbsp;**Bit 2**\\\n",
    "    >`0`&nbsp;&nbsp;&nbsp;&nbsp;&nbsp;&nbsp;&nbsp;&nbsp;&nbsp;&nbsp;`0`&nbsp;&nbsp;&nbsp;&nbsp;&nbsp;&nbsp;&nbsp;&nbsp;&nbsp;&nbsp;`0`\\\n",
    "    >`0`&nbsp;&nbsp;&nbsp;&nbsp;&nbsp;&nbsp;&nbsp;&nbsp;&nbsp;&nbsp;`0`&nbsp;&nbsp;&nbsp;&nbsp;&nbsp;&nbsp;&nbsp;&nbsp;&nbsp;&nbsp;`1`\\\n",
    "    >`0`&nbsp;&nbsp;&nbsp;&nbsp;&nbsp;&nbsp;&nbsp;&nbsp;&nbsp;&nbsp;`1`&nbsp;&nbsp;&nbsp;&nbsp;&nbsp;&nbsp;&nbsp;&nbsp;&nbsp;&nbsp;`0`\\\n",
    "    >`0`&nbsp;&nbsp;&nbsp;&nbsp;&nbsp;&nbsp;&nbsp;&nbsp;&nbsp;&nbsp;`1`&nbsp;&nbsp;&nbsp;&nbsp;&nbsp;&nbsp;&nbsp;&nbsp;&nbsp;&nbsp;`1`\\\n",
    "    >`1`&nbsp;&nbsp;&nbsp;&nbsp;&nbsp;&nbsp;&nbsp;&nbsp;&nbsp;&nbsp;`0`&nbsp;&nbsp;&nbsp;&nbsp;&nbsp;&nbsp;&nbsp;&nbsp;&nbsp;&nbsp;`0`\\\n",
    "    >`1`&nbsp;&nbsp;&nbsp;&nbsp;&nbsp;&nbsp;&nbsp;&nbsp;&nbsp;&nbsp;`0`&nbsp;&nbsp;&nbsp;&nbsp;&nbsp;&nbsp;&nbsp;&nbsp;&nbsp;&nbsp;`1`\\\n",
    "    >`1`&nbsp;&nbsp;&nbsp;&nbsp;&nbsp;&nbsp;&nbsp;&nbsp;&nbsp;&nbsp;`1`&nbsp;&nbsp;&nbsp;&nbsp;&nbsp;&nbsp;&nbsp;&nbsp;&nbsp;&nbsp;`0`\\\n",
    "    >`1`&nbsp;&nbsp;&nbsp;&nbsp;&nbsp;&nbsp;&nbsp;&nbsp;&nbsp;&nbsp;`1`&nbsp;&nbsp;&nbsp;&nbsp;&nbsp;&nbsp;&nbsp;&nbsp;&nbsp;&nbsp;`1`\n",
    "\n",
    "    Nói chung, một đối tượng có **n** bit (n là một số nguyên) có thể chứa **2<sup>n</sup>** (2 mũ n, cũng thường được viết là 2^n) giá trị duy nhất. Do đó, với một byte 8 bit, một đối tượng có kích thước byte có thể chứa 2<sup>8</sup> (256) giá trị khác nhau. Một đối tượng sử dụng 2 byte có thể chứa 2<sup>16</sup> (65536) giá trị khác nhau!\n",
    "\n",
    "    Do đó, kích thước của đối tượng đặt ra giới hạn cho lượng giá trị duy nhất mà nó có thể lưu trữ - các đối tượng sử dụng nhiều byte hơn có thể lưu trữ một số lượng giá trị duy nhất lớn hơn. Chúng ta sẽ tìm hiểu thêm về điều này khi nói về số nguyên.\n",
    "2. **Bộ nhớ hữu hạn:**\n",
    "\n",
    "    Máy tính có một lượng bộ nhớ trống hữu hạn. Mỗi lần chúng ta định nghĩa một đối tượng, một phần nhỏ của bộ nhớ trống đó được sử dụng miễn là đối tượng tồn tại. Do máy tính hiện đại có rất nhiều bộ nhớ, nên tác động này thường không đáng kể. Tuy nhiên, đối với các chương trình cần một lượng lớn đối tượng hoặc dữ liệu (ví dụ: trò chơi đang render hàng triệu đa giác), thì sự khác biệt giữa sử dụng đối tượng 1 byte và 8 byte có thể rất đáng kể.\n",
    "\n",
    ">**Điểm mấu chốt**<br>\n",
    ">Lập trình viên mới thường quá chú trọng vào việc tối ưu hóa code để sử dụng ít bộ nhớ nhất có thể. Trong hầu hết các trường hợp, điều này không tạo ra sự khác biệt đáng kể. Hãy tập trung vào việc viết code dễ bảo trì và chỉ tối ưu hóa khi nào và ở đâu lợi ích thực sự cần thiết."
   ]
  },
  {
   "cell_type": "markdown",
   "id": "f091b5bf-dce9-46e2-ba00-40a5acb03c43",
   "metadata": {},
   "source": [
    "### **Kích thước kiểu dữ liệu cơ bản** "
   ]
  },
  {
   "cell_type": "markdown",
   "id": "843a3778-dbdf-40e5-8722-fc664e6b6b5a",
   "metadata": {},
   "source": [
    "Câu hỏi hiển nhiên tiếp theo là: **\"Các biến có kiểu dữ liệu khác nhau chiếm bao nhiêu bộ nhớ?\".**\n",
    "\n",
    "Có lẽ điều ngạc nhiên là tiêu chuẩn C++ không định nghĩa kích thước chính xác (theo bit) cho bất kỳ kiểu dữ liệu cơ bản nào. Kiểu `char` phải là 1 byte, nhưng không có giả định rằng một byte bằng 8 bit. Các kiểu giống số nguyên (integral types) có kích thước tối thiểu (theo bit), nhưng có thể lớn hơn.\n",
    "\n",
    "Trong loạt bài hướng dẫn này, chúng ta sẽ sử dụng cách nhìn đơn giản hóa, bằng cách đưa ra một số giả định hợp lý thường đúng cho các kiến trúc hiện đại:\n",
    "- Một byte bằng 8 bit.\n",
    "- Bộ nhớ được寻truy xuất theo byte, do đó đối tượng nhỏ nhất là 1 byte.\n",
    "- Hỗ trợ dấu phẩy động tuân thủ theo chuẩn IEEE-754.\n",
    "- Chúng ta đang sử dụng kiến trúc 32 bit hoặc 64 bit.\n",
    "\n",
    "Dựa vào những điều kiện trên, chúng ta có thể xác định kích thước của các kiểu dữ liệu cơ bản như sau:"
   ]
  },
  {
   "cell_type": "markdown",
   "id": "2f3475c8-8d95-4de6-8c82-b0b529a4a759",
   "metadata": {},
   "source": [
    "| Mục                        | Kiểu dữ liệu     | Kích thước tối thiểu | Kích thước tiêu chuẩn | Ghi chú               |\n",
    "|----------------------------|------------------|----------------------|-----------------------|-----------------------|\n",
    "| Boolean (logic)            | `bool`           | 1 byte               | 1 byte                |                       |\n",
    "| Kí tự                      | `char`           | 1 byte               | 1 byte                | luôn chính xác 1 byte |\n",
    "|                            | `wchar_t`        | 1 byte               | 2 hoặc 4 byte         |                       |\n",
    "|                            | `char8_t`        | 1 byte               | 1 byte                |                       |\n",
    "|                            | `char16_t`       | 2 byte               | 2 byte                |                       |\n",
    "|                            | `char32_t`       | 4 byte               | 4 byte                |                       |\n",
    "| Số nguyên                  | `short`          | 2 byte               | 2 byte                |                       |\n",
    "|                            | `int`            | 2 byte               | 4 byte                |                       |\n",
    "|                            | `long`           | 4 byte               | 4 hoặc 8 byte         |                       |\n",
    "|                            | `long long`      | 8 byte               | 8 byte                |                       |\n",
    "| So thập phân dấu phẩy động | `float`          | 4 byte               | 4 byte                |                       |\n",
    "|                            | `double`         | 8 byte               | 8 byte                |                       |\n",
    "|                            | `long double`    | 8 byte               | 8, 12 hoặc 16 byte    |                       |\n",
    "| Con trỏ                    | `std::nullptr_t` | 4 byte               | 4 hoặc 8 byte         |                       |"
   ]
  },
  {
   "cell_type": "markdown",
   "id": "2370de16-b9bf-42d7-8c50-1979873e85fd",
   "metadata": {},
   "source": [
    ">**Mẹo**<br>\n",
    ">Để đạt được khả năng di động tối đa (chạy được trên nhiều nền tảng khác nhau), bạn không nên giả định rằng các biến có kích thước lớn hơn kích thước tối thiểu được quy định.<br>\n",
    ">Mặt khác, nếu bạn muốn giả định một kiểu dữ liệu có kích thước nhất định (ví dụ: kiểu `int` có ít nhất 4 byte), bạn có thể sử dụng `static_assert` để yêu cầu trình biên dịch báo lỗi khi biên dịch trên một kiến trúc không đáp ứng giả định này. Chúng ta sẽ tìm hiểu cách thực hiện việc này trong bài học 9.6 - `assert` và `static_assert`.\n",
    "\n",
    ">**Nội dung liên quan**<br>\n",
    ">Nếu bạn đang sử dụng C++ trên một hệ thống không tuân theo các giả định của chúng tôi, hoặc chỉ đơn giản là tò mò, bạn có thể tìm thêm thông tin về những gì tiêu chuẩn C++ nói về kích thước tối thiểu của các kiểu dữ liệu khác nhau [ở đây](https://en.cppreference.com/w/cpp/language/types)."
   ]
  },
  {
   "cell_type": "markdown",
   "id": "a9e519ed-7155-4372-b5ce-e8b8bfb216dc",
   "metadata": {},
   "source": [
    "### **Toán tử sizeof**"
   ]
  },
  {
   "cell_type": "markdown",
   "id": "8b5a316a-7fef-417e-bd4b-37396753ee90",
   "metadata": {},
   "source": [
    "Để xác định kích thước của các kiểu dữ liệu trên một máy cụ thể, C++ cung cấp một toán tử tên là `sizeof`. Toán tử `sizeof` là toán tử đơn ngôi nhận một kiểu dữ liệu hoặc một biến và trả về kích thước của nó theo byte. Bạn có thể biên dịch và chạy chương trình sau để xem một số kiểu dữ liệu của bạn có kích thước bao nhiêu:\n",
    "\n",
    ">```\n",
    ">#include <iomanip> // để sử dụng std::setw (hàm này thiết lập độ rộng của đầu ra tiếp theo)\n",
    ">#include <iostream>\n",
    ">\n",
    ">int main()\n",
    ">{\n",
    ">    std::cout << std::left; // canh chỉnh đầu ra sang trái\n",
    ">    std::cout << std::setw(16) << \"bool:\" << sizeof(bool) << \" bytes\\n\";\n",
    ">    std::cout << std::setw(16) << \"char:\" << sizeof(char) << \" bytes\\n\";\n",
    ">    std::cout << std::setw(16) << \"short:\" << sizeof(short) << \" bytes\\n\";\n",
    ">    std::cout << std::setw(16) << \"int:\" << sizeof(int) << \" bytes\\n\";\n",
    ">    std::cout << std::setw(16) << \"long:\" << sizeof(long) << \" bytes\\n\";\n",
    ">    std::cout << std::setw(16) << \"long long:\" << sizeof(long long) << \" bytes\\n\";\n",
    ">    std::cout << std::setw(16) << \"float:\" << sizeof(float) << \" bytes\\n\";\n",
    ">    std::cout << std::setw(16) << \"double:\" << sizeof(double) << \" bytes\\n\";\n",
    ">    std::cout << std::setw(16) << \"long double:\" << sizeof(long double) << \" bytes\\n\";\n",
    ">\n",
    ">    return 0;\n",
    ">}\n",
    "\n",
    "Kết quả đầu ra trên máy của tác giả:\n",
    ">```\n",
    ">bool:           1 bytes\n",
    ">char:           1 bytes\n",
    ">short:          2 bytes\n",
    ">int:            4 bytes\n",
    ">long:           4 bytes\n",
    ">long long:      8 bytes\n",
    ">float:          4 bytes\n",
    ">double:         8 bytes\n",
    ">long double:    8 bytes\n",
    "\n",
    "Lưu ý rằng kết quả của bạn có thể khác nhau tùy thuộc vào trình biên dịch, kiến trúc máy tính, hệ điều hành, cài đặt biên dịch (32-bit vs 64-bit), v.v."
   ]
  },
  {
   "cell_type": "markdown",
   "id": "073e487b-2a0d-4197-be33-93defb73e090",
   "metadata": {},
   "source": [
    "Sử dụng `sizeof` trên kiểu dữ liệu không đầy đủ sẽ dẫn đến lỗi biên dịch. Ví dụ, sử dụng `sizeof` trên `void` sẽ gây ra lỗi.\n",
    "\n",
    "Bạn cũng có thể sử dụng toán tử `sizeof` trên tên biến:\n",
    ">```\n",
    ">#include <iostream>\n",
    ">\n",
    ">int main()\n",
    ">{\n",
    ">    int x{};\n",
    ">    std::cout << \"x is \" << sizeof(x) << \" bytes\\n\";\n",
    ">\n",
    ">    return 0;\n",
    ">}\n",
    ">```\n",
    "\n",
    "**Kết quả:**\n",
    ">```\n",
    ">x is 4 bytes\n",
    ">```\n",
    "\n",
    ">**Đối với người đọc nâng cao:**\n",
    ">`sizeof` không bao gồm bộ nhớ được cấp phát động được sử dụng bởi một đối tượng. Chúng tôi sẽ thảo luận về cấp phát bộ nhớ động trong một bài học sau."
   ]
  },
  {
   "cell_type": "markdown",
   "id": "7a9faa27-b9b2-4fd9-b07a-14f707cf483b",
   "metadata": {},
   "source": [
    "### **Hiệu suất của kiểu dữ liệu cơ bản:**"
   ]
  },
  {
   "cell_type": "markdown",
   "id": "50f2236d-1d23-4a7e-be53-66fcc58e6ef2",
   "metadata": {},
   "source": [
    "Trên các máy tính hiện đại, các đối tượng của các kiểu dữ liệu cơ bản hoạt động nhanh, vì vậy hiệu suất khi sử dụng hoặc sao chép các kiểu này thường không cần quan tâm.\n",
    "\n",
    ">**Ngoài lề**<br>\n",
    ">Bạn có thể cho rằng các kiểu dữ liệu sử dụng ít bộ nhớ sẽ nhanh hơn các kiểu dữ liệu sử dụng nhiều bộ nhớ. Điều này không luôn luôn đúng. CPU thường được tối ưu hóa để xử lý dữ liệu có kích thước nhất định (ví dụ: 32 bit) và các kiểu dữ liệu phù hợp với kích thước đó có thể được xử lý nhanh hơn. Trên một máy tính như vậy, kiểu `int` 32 bit có thể nhanh hơn kiểu `short` 16 bit hoặc `char` 8 bit."
   ]
  },
  {
   "cell_type": "code",
   "execution_count": null,
   "id": "5f72525c-439c-4e03-bd5f-a9f5dcb8b329",
   "metadata": {},
   "outputs": [],
   "source": []
  }
 ],
 "metadata": {
  "kernelspec": {
   "display_name": "Python 3 (ipykernel)",
   "language": "python",
   "name": "python3"
  },
  "language_info": {
   "codemirror_mode": {
    "name": "ipython",
    "version": 3
   },
   "file_extension": ".py",
   "mimetype": "text/x-python",
   "name": "python",
   "nbconvert_exporter": "python",
   "pygments_lexer": "ipython3",
   "version": "3.12.3"
  }
 },
 "nbformat": 4,
 "nbformat_minor": 5
}
