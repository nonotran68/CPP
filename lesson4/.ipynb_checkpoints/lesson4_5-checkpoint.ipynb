{
 "cells": [
  {
   "cell_type": "markdown",
   "id": "979c43d3-7226-4086-99aa-ee16a6403e2d",
   "metadata": {},
   "source": [
    "## **Bài 4.5: <u>Số nguyên không dấu (Unsigned integers) và tại sao nên tránh sử dụng chúng</u>**"
   ]
  },
  {
   "cell_type": "markdown",
   "id": "bd07e135-1bb3-49da-9e28-30943f84a682",
   "metadata": {},
   "source": [
    "### **Số nguyên không dấu**"
   ]
  },
  {
   "cell_type": "markdown",
   "id": "ad8845e3-2811-4871-9362-feed601101d0",
   "metadata": {},
   "source": [
    "Trong bài học trước ([**Bài 4.4: Số nguyên có dấu**](lesson4_4.ipynb)), chúng ta đã tìm hiểu về số nguyên có dấu, là một tập hợp các kiểu dữ liệu có thể chứa các số nguyên dương, âm và số 0.\n",
    "\n",
    "C++ cũng hỗ trợ các số nguyên không dấu. Số nguyên không dấu là các số nguyên chỉ có thể chứa các số nguyên không âm."
   ]
  },
  {
   "cell_type": "markdown",
   "id": "46c8009c-3b7c-40fc-a8af-faa21694aedd",
   "metadata": {},
   "source": [
    "### **Định nghĩa số nguyên không dấu**"
   ]
  },
  {
   "cell_type": "markdown",
   "id": "79b17bc0-2d15-4685-bd9d-3cd1b8e6a1f1",
   "metadata": {},
   "source": [
    "Để định nghĩa một số nguyên không dấu, chúng ta sử dụng từ khóa `unsigned`. Theo quy ước, từ khóa này được đặt trước kiểu dữ liệu:\n",
    "\n",
    ">```\n",
    ">unsigned short us;\n",
    ">unsigned int ui;\n",
    ">unsigned long ul;\n",
    ">unsigned long long ull;\n",
    ">```"
   ]
  },
  {
   "cell_type": "markdown",
   "id": "c11886ac-6141-4b5e-bc5a-01147479bef9",
   "metadata": {},
   "source": [
    "### **Phạm vi của số nguyên không dấu**"
   ]
  },
  {
   "cell_type": "markdown",
   "id": "d6041d2a-9225-463f-839a-ca4806b7595f",
   "metadata": {},
   "source": [
    "Một số nguyên không dấu 1 byte có phạm vi từ `0` đến `255`. So sánh điều này với phạm vi của số nguyên có dấu 1 byte là từ `-128` đến `127`. Cả hai đều có thể lưu trữ **256** giá trị khác nhau, nhưng số nguyên có dấu sử dụng một nửa phạm vi của chúng cho các số âm, trong khi số nguyên không dấu có thể lưu trữ các số dương lớn gấp đôi.\n",
    "\n",
    "Bảng dưới đây hiển thị phạm vi của số nguyên không dấu:\n",
    "\n",
    "| Kích thước/Kiểu | Phạm vi                          |\n",
    "|-----------------|----------------------------------|\n",
    "| 8 bit unsigned  | 0 đến 255                        |\n",
    "| 16 bit signed   | 0 đến 65,535                     |\n",
    "| 32 bit signed   | 0 đến 4,294,967,295              |\n",
    "| 64 bit signed   | 0 đến 18,446,744,073,709,551,615 |p\n",
    "\n",
    "Một biến không dấu **n-bit** có phạm vi từ **0** đến **2<sup>n</sup>-1**.\n",
    "\n",
    "Số nguyên không dấu phù hợp cho các tình huống **không yêu cầu lưu trữ các số âm**, chẳng hạn như mạng và các hệ thống có ít bộ nhớ, vì số nguyên không dấu có thể lưu trữ nhiều số dương hơn mà không chiếm thêm bộ nhớ."
   ]
  },
  {
   "cell_type": "markdown",
   "id": "a420221c-8aa8-4298-bc2b-f681d4c00ab9",
   "metadata": {},
   "source": [
    "### **Lưu ý các thuật ngữ `signed` và `unsigned`**"
   ]
  },
  {
   "cell_type": "markdown",
   "id": "abac25f7-a227-4f46-9ac6-766321c1701d",
   "metadata": {},
   "source": [
    "Lập trình viên mới đôi khi bị nhầm lẫn giữa **`signed`** và **`unsigned`**. Dưới đây là một cách đơn giản để ghi nhớ sự khác biệt: để phân biệt các số âm với các số dương, chúng ta sử dụng dấu âm. Nếu không có dấu, chúng ta mặc định số đó là dương. Do đó, một **số nguyên có dấu** (signed integer) có thể **phân biệt** giữa **số dương** và **số âm**. Một **số nguyên không dấu** (unsigned integer) giả định tất cả các giá trị đều **dương**."
   ]
  },
  {
   "cell_type": "markdown",
   "id": "51525a53-ad13-4856-9f40-fc24e911a23f",
   "metadata": {},
   "source": [
    "### **Tràn số nguyên không dấu (Unsigned integer overflow)**"
   ]
  },
  {
   "cell_type": "markdown",
   "id": "2d7e8ffd-bbf3-4103-9aeb-ba31029006e7",
   "metadata": {},
   "source": [
    "Điều gì xảy ra nếu chúng ta cố gắng lưu trữ số `280` (yêu cầu 9 bit để biểu diễn) trong một số nguyên không dấu 1 byte (8 bit)? Câu trả lời là **tràn số** (overflow)."
   ]
  },
  {
   "cell_type": "markdown",
   "id": "b9f2f68d-2084-4739-bfd0-6a9b1b247c73",
   "metadata": {},
   "source": [
    ">**Lưu ý của tác giả**<br>\n",
    ">Điều lạ là tiêu chuẩn C++ nói rõ ràng rằng: \"Một phép toán liên quan đến toán hạng không dấu không bao giờ có thể bị tràn số\". Điều này trái ngược với sự đồng thuận lập trình chung cho rằng tràn số nguyên bao gồm cả các trường hợp `signed` và `unsigned` [<sup>dẫn nguồn</sup>](https://en.wikipedia.org/wiki/Integer_overflow#Definition_variations_and_ambiguity). Cho rằng hầu hết các lập trình viên sẽ coi đây là tràn số, chúng tôi sẽ gọi đây là tràn số bất chấp tuyên bố ngược lại của tiêu chuẩn C++."
   ]
  },
  {
   "cell_type": "markdown",
   "id": "f0a0ced3-3fe9-4b2f-8c6c-7f0d3a3555b8",
   "metadata": {},
   "source": [
    "Nếu một giá trị không dấu nằm ngoài phạm vi, nó sẽ được chia cho (*giá trị lớn nhất kiểu đó* + 1) và chỉ giữ lại phần dư. (*phép modulo*)\n",
    "\n",
    "Số `280` quá lớn để có thể chứa trong phạm vi 1 byte của chúng ta từ `0` đến `255`. (*giá trị lớn nhất kiểu này* + 1) là 256. Do đó, chúng ta chia `280` cho `256`, được kết quả là `1` dư `24`. Phần dư `24` là thứ được lưu trữ.\n",
    "\n",
    "**Ví dụ về điều này khi sử dụng kiểu short 2 byte:**\n",
    "\n",
    ">```\n",
    ">#include <iostream>\n",
    ">\n",
    ">int main()\n",
    ">{\n",
    ">    unsigned short x{ 65535 }; // giá trị không dấu 16-bit lớn nhất có thể\n",
    ">    std::cout << \"x was: \" << x << '\\n';\n",
    ">\n",
    ">    x = 65536; // 65536 nằm ngoài phạm vi của chúng ta, vì vậy chúng ta có modulo wrap-around\n",
    ">    std::cout << \"x is now: \" << x << '\\n';\n",
    ">\n",
    ">    x = 65537; // 65537 nằm ngoài phạm vi của chúng ta, vì vậy chúng ta có modulo wrap-around\n",
    ">    std::cout << \"x is now: \" << x << '\\n';\n",
    ">\n",
    ">    return 0;\n",
    ">}"
   ]
  },
  {
   "cell_type": "markdown",
   "id": "67074f1d-9932-40d3-ba90-99a4f1d44f3a",
   "metadata": {},
   "source": [
    "Bạn nghĩ kết quả của chương trình này sẽ là gì?\n",
    "\n",
    "(**Lưu ý:** Nếu bạn cố gắng biên dịch chương trình trên, trình biên dịch của bạn sẽ đưa ra cảnh báo về tràn số hoặc cắt bớt - bạn sẽ cần tắt *\"Treat warnings as errors\"* để chạy chương trình)\n",
    ">```\n",
    ">x was: 65535\n",
    ">x is now: 0\n",
    ">x is now: 1\n",
    ">```"
   ]
  },
  {
   "cell_type": "markdown",
   "id": "bf127c4e-aa10-45d3-abed-e9809fc9cdf9",
   "metadata": {},
   "source": [
    "Cũng có thể tràn số theo hướng khác. `0` có thể được biểu diễn trong một số nguyên không dấu 2 byte, vì vậy điều đó ổn. `-1` không thể biểu diễn được, vì vậy nó sẽ cuộn tròn lên đầu phạm vi, tạo ra giá trị `65535`. `-2` cuộn tròn thành `65534`. Và cứ thế.\n",
    "\n",
    ">```\n",
    ">#include <iostream>\n",
    ">\n",
    ">int main()\n",
    ">{\n",
    ">    unsigned short x{ 0 }; // giá trị không dấu 2-byte nhỏ nhất có thể\n",
    ">    std::cout << \"x was: \" << x << '\\n';\n",
    ">\n",
    ">    x = -1; // -1 nằm ngoài phạm vi của chúng ta, vì vậy chúng ta có modulo wrap-around\n",
    ">    std::cout << \"x is now: \" << x << '\\n';\n",
    ">\n",
    ">    x = -2; // -2 nằm ngoài phạm vi của chúng ta\n",
    ">```\n",
    "\n",
    "**Kết quả:**\n",
    ">```\n",
    ">x was: 0\n",
    ">x is now: 65535\n",
    ">x is now: 65534\n",
    ">```\n",
    "\n",
    ">**Ngoài lề**<br>\n",
    ">Nhiều lỗi nghiêm trọng trong lịch sử trò chơi điện tử xảy ra do hành vi \"wrap-around\" (modulo wrapping) với số nguyên không dấu. Trong trò chơi arcade Donkey Kong, không thể vượt qua level 22 do lỗi tràn số khiến người chơi không đủ thời gian thưởng để hoàn thành level.\n",
    ">\n",
    ">Trong game PC Civilization, Gandhi nổi tiếng là người đầu tiên sử dụng vũ khí hạt nhân, điều này trái ngược với tính cách ôn hòa vốn có của ông. Theo giả thuyết của người chơi, ban đầu Gandhi được đặt mức độ hung hăng là 1. Tuy nhiên, nếu ông chọn chính phủ dân chủ, ông sẽ nhận được bộ điều chỉnh tính hung hăng -2 (giảm giá trị hung hăng hiện tại xuống 2). Điều này khiến mức độ hung hăng của Gandhi \"chuyển thành giá trị đầu\" thành 255, biến ông thành kẻ hung hăng tối đa! Tuy nhiên, Sid Meier (tác giả của trò chơi) đã đính chính rằng đây không phải là nguyên nhân thực sự dẫn đến hành vi này."
   ]
  },
  {
   "cell_type": "markdown",
   "id": "5cede152-0d7c-40d5-b27d-ef574832b086",
   "metadata": {},
   "source": [
    "### **Tranh luận về số nguyên không dấu (Unsigned Integers)**"
   ]
  },
  {
   "cell_type": "markdown",
   "id": "fcf168c4-a89b-4a44-a0b1-31af7bab14db",
   "metadata": {},
   "source": [
    "Nhiều lập trình viên (và cả một số công ty phát triển lớn như Google) cho rằng nên hạn chế sử dụng số nguyên không dấu.\n",
    "\n",
    "Lý do chính cho khuyến cáo này là hai hành vi có thể gây ra vấn đề:\n",
    "- Thứ nhất, với số nguyên có dấu, việc tràn số về giá trị tối đa hoặc tối thiểu (dương lớn nhất hoặc âm bé nhất) khó xảy ra hơn vì các giá trị này cách xa 0. Ngược lại, với số nguyên không dấu, tràn số về giá trị tối thiểu (`0`) rất dễ xảy ra bởi `0` thường gần với các giá trị hay dùng.\n",
    "\n",
    "    **Ví dụ:** Hãy xem xét phép trừ hai số nguyên không dấu `2` và `3`:\n",
    "    >```\n",
    "    >#include <iostream>\n",
    "    >// giả sử int là 4 byte\n",
    "    >int main()\n",
    "    >{\n",
    "    >    unsigned int x{ 2 };\n",
    "    >    unsigned int y{ 3 };\n",
    "    >\n",
    "    >    std::cout << x - y << '\\n'; // in ra 4294967295 (sai!)\n",
    "    >\n",
    "    >    return 0;\n",
    "    >}\n",
    "    >```\n",
    "    \n",
    "    Chúng ta biết rằng `2 - 3` bằng `-1`, nhưng `-1` không thể biểu diễn được trong một số nguyên không dấu, nên xảy ra tràn số và kết quả là:\n",
    "    >`4294967295`\n",
    "\n",
    "    Một trường hợp \"cuộn tròn\" (wrap-around) không mong muốn khác xảy ra khi một số nguyên không dấu liên tục bị giảm `1` đơn vị cho đến khi nó cố gắng giảm xuống thành một số âm. Bạn sẽ thấy ví dụ về điều này khi tìm hiểu về vòng lặp.\n",
    "- Thứ hai, và nguy hiểm hơn, là hành vi không mong muốn có thể xảy ra khi trộn lẫn số nguyên có dấu và số nguyên không dấu. Trong C++, nếu một phép toán (ví dụ toán học hoặc so sánh) có một số nguyên có dấu và một số nguyên không dấu, thì số nguyên có dấu thường sẽ được chuyển đổi thành số nguyên không dấu. Do đó, kết quả cũng sẽ là không dấu.\n",
    "\n",
    "    **Ví dụ:**\n",
    "    >```\n",
    "    >#include <iostream>\n",
    "    >\n",
    "    >// giả sử int là 4 byte\n",
    "    >int main()\n",
    "    >{\n",
    "    >    unsigned int u{ 2 };\n",
    "    >    signed int s{ 3 };\n",
    "    >\n",
    "    >    std::cout << u - s << '\\n'; // 2 - 3 = 4294967295\n",
    "    >\n",
    "    >    return 0;\n",
    "    >}\n",
    "    >```\n",
    "\n",
    "    Trong trường hợp này, nếu `u` là số có dấu, kết quả chính xác sẽ được tạo ra. Nhưng vì `u` là không dấu, `s` sẽ được chuyển đổi thành không dấu và kết quả (`-1`) được coi là một giá trị không dấu. Do `-1` không thể lưu trữ trong một giá trị không dấu, nên xảy ra tràn số và tạo ra câu trả lời không mong đợi.\n",
    "\n",
    "    **Đây là một ví dụ khác:**\n",
    "    >```\n",
    "    >#include <iostream>\n",
    "    >\n",
    "    >// giả sử int là 4 byte\n",
    "    >int main()\n",
    "    >{\n",
    "    >    signed int s { -1 };\n",
    "    >    unsigned int u { 1 };\n",
    "    >\n",
    "    >    if (s < u) // -1 được ngầm chuyển đổi thành 4294967295, và 4294967295 < 1 là sai\n",
    "    >        std::cout << \"-1 nhỏ hơn 1\\n\";\n",
    "    >    else\n",
    "    >        std::cout << \"1 nhỏ hơn -1\\n\"; // lệnh này được thực thi\n",
    "    >\n",
    "    >    return 0;\n",
    "    >}\n",
    "    >```\n",
    "\n",
    "    Chương trình này được viết tốt, biên dịch thành công và logic có vẻ hợp lý. Nhưng nó in ra câu trả lời sai. Mặc dù trình biên dịch sẽ cảnh báo bạn về sự không tương thích giữa số có dấu và không dấu trong trường hợp này, nhưng nó cũng sẽ tạo ra các cảnh báo tương tự cho các trường hợp khác không gặp vấn đề này (ví dụ: khi cả hai số đều dương), khiến việc phát hiện ra sự cố thực sự trở nên khó khăn.\n",
    "\n",
    ">**Liên quan:**\n",
    ">- Bạn có thể tìm hiểu thêm về các quy tắc chuyển đổi yêu cầu cả hai toán hạng của một số phép toán nhị phân phải cùng kiểu trong bài học 10.5 - Chuyển đổi số học (Arithmetic conversions).\n",
    ">- Bài học 4.10 - Giới thiệu về câu lệnh if sẽ hướng dẫn về các câu lệnh if.\n"
   ]
  },
  {
   "cell_type": "markdown",
   "id": "c10ed740-573e-4ea1-8011-67bacada3656",
   "metadata": {},
   "source": [
    "Ngoài ra còn các trường hợp rắc rối khác khó phát hiện\n",
    "\n",
    "**Xem xét ví dụ sau:**\n",
    ">```\n",
    ">#include <iostream>\n",
    ">\n",
    ">// giả sử int là 4 byte\n",
    ">void doSomething(unsigned int x)\n",
    ">{\n",
    ">    // Chạy một đoạn code x lần\n",
    ">\n",
    ">    std::cout << \"x là \" << x << '\\n';\n",
    ">}\n",
    ">\n",
    ">int main()\n",
    ">{\n",
    ">    doSomething(-1);\n",
    ">\n",
    ">    return 0;\n",
    ">}\n",
    ">```\n",
    "\n",
    "Người viết hàm `doSomething()` mong đợi hàm này chỉ được gọi với các số dương. Nhưng hàm gọi nó lại truyền vào `-1` - rõ ràng là một sai lầm. Vậy điều gì xảy ra trong trường hợp này?\n",
    "\n",
    "Tham số kiểu `signed` là `-1` được ngầm chuyển đổi thành một tham số kiểu `unsigned`. `-1` không nằm trong phạm vi của một số `unsigned`, vì vậy nó sẽ \"cuộn tròn\" thành `4294967295`. Sau đó, chương trình của bạn có thể hoạt động bất thường.\n",
    "\n",
    "Vấn đề hơn nữa là việc ngăn chặn điều này xảy ra có thể rất khó. Trừ khi bạn đã cấu hình trình biên dịch cảnh báo mạnh mẽ về việc chuyển đổi `signed/unsigned` (và bạn nên làm vậy), trình biên dịch của bạn có thể sẽ không phàn nàn về điều này.\n",
    "\n",
    "Tất cả các vấn đề này đều thường gặp, gây ra hành vi không mong đợi và khó tìm, ngay cả khi sử dụng các công cụ tự động được thiết kế để phát hiện các trường hợp có vấn đề.\n",
    "\n",
    "Xét theo những điều trên, cách thực hành tốt nhất hơi gây tranh cãi mà chúng tôi sẽ ủng hộ là tránh sử dụng các kiểu `unsigned` ngoại trừ trong những trường hợp cụ thể.\n",
    "\n",
    ">**Thực hành tốt nhất**\n",
    ">- Ưu tiên sử dụng số signed hơn số unsigned để chứa các giá trị (ngay cả các giá trị đáng lẽ không âm) và các phép toán.\n",
    ">- Tránh trộn lẫn các số signed và unsigned.\n",
    "\n",
    ">**Tài liệu tham khảo**\n",
    ">- [Interactive C++ panel](https://www.youtube.com/watch?v=_nrly6PH6NU) (xem [9:48-13:08], [41:06-45:26] và [1:02:50-1:03:15])\n",
    ">- [Subscripts and sizes should be signed](http://www.open-std.org/jtc1/sc22/wg21/docs/papers/2019/p1428r0.pdf) (from Bjarne Stroustrup, the creator of C++)\n",
    ">- [Unsigned integers from the libtorrent blog](https://blog.libtorrent.org/2016/05/unsigned-integers/)"
   ]
  },
  {
   "cell_type": "markdown",
   "id": "64236e38-e3ba-44c7-8fdd-5c82fed1d7fd",
   "metadata": {},
   "source": [
    "### **Vậy khi nào bạn nên sử dụng số unsigned?**"
   ]
  },
  {
   "cell_type": "markdown",
   "id": "991ea890-74b9-4d9c-94dc-c45e43872a67",
   "metadata": {},
   "source": [
    "Vẫn có một vài trường hợp trong C++ mà việc sử dụng số `unsigned` là ổn/cần thiết.\n",
    "\n",
    "- Thứ nhất, số `unsigned` được ưu tiên hơn khi xử lý thao tác bit (được đề cập trong chương O - đó là ‘o’ hoa, không phải ‘0’). Chúng cũng hữu ích khi cần hành vi \"cuộn tròn\" được xác định rõ ràng (hữu ích trong một số thuật toán như mã hóa và tạo số ngẫu nhiên).\n",
    "\n",
    "- Thứ hai, việc sử dụng số `unsigned` đôi khi vẫn không thể tránh khỏi, chủ yếu liên quan đến việc lập chỉ mục mảng (**array indexing**). Chúng tôi sẽ nói thêm về điều này trong các bài học về mảng và lập chỉ mục mảng.\n",
    "\n",
    "- Ngoài ra, lưu ý rằng nếu bạn đang phát triển cho hệ thống nhúng (ví dụ: Arduino) hoặc một số bộ xử lý / bối cảnh hạn chế bộ nhớ khác, việc sử dụng số `unsigned` phổ biến hơn và được chấp nhận hơn (và trong một số trường hợp, không thể tránh khỏi) vì lý do hiệu suất."
   ]
  }
 ],
 "metadata": {
  "kernelspec": {
   "display_name": "Python 3 (ipykernel)",
   "language": "python",
   "name": "python3"
  },
  "language_info": {
   "codemirror_mode": {
    "name": "ipython",
    "version": 3
   },
   "file_extension": ".py",
   "mimetype": "text/x-python",
   "name": "python",
   "nbconvert_exporter": "python",
   "pygments_lexer": "ipython3",
   "version": "3.12.3"
  }
 },
 "nbformat": 4,
 "nbformat_minor": 5
}
