{
 "cells": [
  {
   "cell_type": "markdown",
   "id": "b5b3ef7b-aa0b-42b5-affc-28934c315d24",
   "metadata": {
    "jp-MarkdownHeadingCollapsed": true
   },
   "source": [
    "## **Bài 4.1: <u>Giới thiệu về Kiểu dữ liệu cơ bản</u>**"
   ]
  },
  {
   "cell_type": "markdown",
   "id": "66b0895a-a0e0-427d-bd22-6303d937ca4e",
   "metadata": {},
   "source": [
    "### **Bit, Byte và Địa chỉ bộ nhớ**"
   ]
  },
  {
   "cell_type": "markdown",
   "id": "7c099c28-14b1-4088-998d-67bf3e16049a",
   "metadata": {},
   "source": [
    "Trong bài học [**1.3 - Giới thiệu về đối tượng và biến**](../lesson1/lesson1_3.ipynb), chúng ta đã đề cập đến việc biến là tên gọi của một vùng nhớ được sử dụng để lưu trữ thông tin. Nhắc lại một cách ngắn gọn, máy tính có bộ nhớ truy cập ngẫu nhiên (**RAM**) mà các chương trình có thể sử dụng. Khi một biến được khai báo, một phần của bộ nhớ đó được dành riêng cho biến đó.\n",
    "\n",
    "Đơn vị nhỏ nhất của bộ nhớ là một **bit** (còn gọi là **binary digit** hay đơn vị nhị phân), có thể chứa giá trị 0 hoặc 1. Bạn có thể coi một bit giống như công tắc đèn truyền thống - đèn tắt (0) hoặc bật (1). Không có trạng thái trung gian nào. Nếu bạn nhìn vào một đoạn bộ nhớ ngẫu nhiên, tất cả những gì bạn thấy là `...011010100101010...` hoặc một tổ hợp nào đó tương tự.\n",
    "\n",
    "Bộ nhớ được tổ chức thành các đơn vị tuần tự được gọi là **địa chỉ bộ nhớ** (hay ngắn gọn là **địa chỉ**). Tương tự như cách một địa chỉ đường phố có thể được sử dụng để tìm một ngôi nhà nhất định trên một con phố, **địa chỉ bộ nhớ** cho phép chúng ta tìm và truy cập nội dung của bộ nhớ tại một vị trí cụ thể.\n",
    "\n",
    "Có lẽ điều ngạc nhiên là, trong kiến trúc máy tính hiện đại, mỗi bit không có địa chỉ bộ nhớ riêng biệt. Điều này là do số lượng địa chỉ bộ nhớ bị hạn chế và nhu cầu truy cập dữ liệu từng bit là rất hiếm. Thay vào đó, mỗi địa chỉ bộ nhớ chứa 1 **byte** dữ liệu. **Byte** là một nhóm các bit được vận hành như một đơn vị. Tiêu chuẩn hiện đại là **1 byte** bao gồm **8 bit** tuần tự."
   ]
  },
  {
   "cell_type": "markdown",
   "id": "c9ad99b4-55d0-48c1-84fb-46532e442d39",
   "metadata": {},
   "source": [
    ">**Kiến thức cốt lõi:**<br>\n",
    ">Trong C++, chúng ta thường làm việc với các khối dữ liệu có kích thước bằng **byte**.\n",
    "\n",
    "Hình ảnh sau đây cho thấy một số địa chỉ bộ nhớ tuần tự, cùng với byte dữ liệu tương ứng:\n",
    ">![](MemoryAddresses.png)\n",
    "\n",
    "\n",
    ">**Ngoài lề**<br>\n",
    ">Một số máy cũ hoặc không theo tiêu chuẩn có thể có byte với kích thước khác nhau (từ 1 đến 48 bit) - tuy nhiên, chúng ta thường không cần lo lắng về những điều này, vì tiêu chuẩn thực tế hiện đại là 1 byte bằng 8 bit. Trong các bài hướng dẫn này, chúng ta sẽ giả sử 1 byte bằng 8 bit."
   ]
  },
  {
   "cell_type": "markdown",
   "id": "ed87071b-2e62-4ef1-bc1e-a4c6804a376c",
   "metadata": {},
   "source": [
    "### **Kiểu dữ liệu**"
   ]
  },
  {
   "cell_type": "markdown",
   "id": "361b91bb-1340-430d-8346-4323eecf271e",
   "metadata": {},
   "source": [
    "Vì tất cả dữ liệu trên máy tính chỉ là một dãy bit, chúng ta sử dụng **kiểu dữ liệu** (thường được gọi tắt là **\"kiểu\"**) để báo cho trình biên dịch cách giải thích nội dung của bộ nhớ theo một cách có ý nghĩa. Bạn đã thấy một ví dụ về kiểu dữ liệu: *số nguyên*. Khi chúng ta khai báo một biến là kiểu số nguyên, chúng ta đang nói với trình biên dịch \"phần bộ nhớ mà biến này sử dụng sẽ được giải thích là một giá trị số nguyên\".\n",
    "\n",
    "Khi bạn gán giá trị cho một đối tượng, trình biên dịch và CPU sẽ xử lý việc mã hóa giá trị của bạn thành chuỗi bit thích hợp cho kiểu dữ liệu đó, sau đó được lưu trữ trong bộ nhớ (nhớ rằng: bộ nhớ chỉ có thể lưu trữ bit). Ví dụ, nếu bạn gán cho một đối tượng kiểu số nguyên giá trị `65`, thì giá trị đó được chuyển đổi thành chuỗi bit `01000001` và được lưu trữ trong bộ nhớ được gán cho đối tượng.\n",
    "\n",
    "Ngược lại, khi đối tượng được đánh giá để tạo ra một giá trị, chuỗi bit đó được khôi phục lại thành giá trị ban đầu. Nghĩa là `01000001` được chuyển đổi trở lại thành giá trị `65`.\n",
    "\n",
    "May mắn thay, trình biên dịch và CPU thực hiện tất cả các công việc khó khăn ở đây, vì vậy bạn thường không cần lo lắng về cách các giá trị được chuyển đổi thành chuỗi bit và ngược lại.\n",
    "\n",
    "Tất cả bạn cần làm là chọn một kiểu dữ liệu cho đối tượng phù hợp nhất với việc sử dụng bạn muốn.\n",
    "\n"
   ]
  },
  {
   "cell_type": "markdown",
   "id": "a4ce0fcc-e67e-4c20-af5f-6d140844f2dd",
   "metadata": {},
   "source": [
    "### **Kiểu dữ liệu cơ bản**"
   ]
  },
  {
   "cell_type": "markdown",
   "id": "88e65dc6-467a-4895-9f8f-1b271f6b3637",
   "metadata": {},
   "source": [
    "C++ cung cấp sẵn hỗ trợ cho nhiều kiểu dữ liệu khác nhau. Chúng được gọi là **kiểu dữ liệu cơ bản (fundamental data types)**, nhưng thường được gọi không chính thức là **kiểu cơ bản (basic types)**, **kiểu nguyên thủy (primitive types)** hoặc **kiểu dựng sẵn (built-in types)**.\n",
    "\n",
    "Dưới đây là danh sách các kiểu dữ liệu cơ bản, một số trong số đó bạn đã từng gặp:"
   ]
  },
  {
   "cell_type": "markdown",
   "id": "f1cedea3-6e6b-42c7-96ba-bd24e3a95908",
   "metadata": {},
   "source": [
    "| Kiểu dữ liệu                                                                                    | Phân loại             | Ý nghĩa                                    | Ví dụ     |\n",
    "|--------------------------------------------------------------------------------------------|-----------------------|--------------------------------------------|-----------|\n",
    "| `float`<br><br>`double`<br><br>`long double`                                                     | Số thực dấu phẩy động | Đi kèm với phần thập phân sau dấu phẩy (chấm)     | `3.1415926` |\n",
    "| `bool`                                                                                       | Integral (Logic)     | Đúng (true) hoặc sai (false)                             | `true`      |\n",
    "| `char`<br><br>`wchar_t`<br><br>`char8_t` (C++20)<br><br>`char16_t` (C++11)<br><br>`char32_t` (C++11) |Integral (ký tự)     | Một ký tự trong bảng chữ cái               | `'c'`<br>   |\n",
    "| `short int`<br><br>`int`<br><br>`long int`<br><br>`long long int` (C++11)                          | Số nguyên (integer)            | Số nguyên âm và số nguyên dương bao gồm 0 | 64        |\n",
    "| `std::nullptr_t` (C++11)                                                                     | Con trỏ null          | Con trỏ null                               | `nullptr`   |\n",
    "| `void`                                                                                       | Void                  | Không có kiểu                              | `void`      |"
   ]
  },
  {
   "cell_type": "markdown",
   "id": "1e32c58f-43e8-4bea-92f3-dff3cd06e4dc",
   "metadata": {},
   "source": [
    "Chương này tập trung khám phá chi tiết các kiểu dữ liệu cơ bản (ngoại trừ `std::nullptr_t`, kiểu này sẽ được thảo luận khi chúng ta nói về con trỏ). C++ cũng hỗ trợ một số kiểu dữ liệu phức tạp hơn, được gọi là **kiểu phức hợp** (compound types). Chúng ta sẽ tìm hiểu về kiểu phức hợp trong một chương học sắp tới.\n",
    "\n",
    ">**Lưu ý của tác giả:**<br>\n",
    ">Các thuật ngữ *integer* (số nguyên) và *integral* (thuộc loại số nguyên) có vẻ tương đồng nhưng đôi khi lại có ý nghĩa khác nhau.\n",
    ">- Trong toán học, *integer* là một số không có phần thập phân hoặc phần phân số, bao gồm cả số âm, số dương và số 0.\n",
    ">- Trong C++, thuật ngữ *integer* thường được dùng để chỉ kiểu dữ liệu `int`, lưu trữ các giá trị số nguyên. Tuy nhiên, đôi khi nó cũng được dùng để chỉ một tập hợp rộng hơn các kiểu dữ liệu thường được sử dụng để lưu trữ và hiển thị các giá trị số nguyên. Điều này bao gồm `short`, `int`, `long`, `long long` và các biến thể có dấu và không dấu của chúng.\n",
    ">- Thuật ngữ *integral* có nghĩa là **\"giống như số nguyên\"**. Thường thì *integral* được sử dụng như một phần của cụm từ \"kiểu thuộc loại số nguyên\", bao gồm tập hợp rộng hơn các kiểu được lưu trữ trong bộ nhớ dưới dạng số nguyên, mặc dù hành vi của chúng có thể khác nhau (chúng ta sẽ thấy chi tiết hơn trong chương này khi nói về các kiểu ký tự `char`). Điều này bao gồm `bool`, các kiểu số nguyên và tất cả các kiểu ký tự khác nhau.\n",
    "\n",
    ">**Ngoài lề**<br>\n",
    ">Hầu hết các ngôn ngữ lập trình hiện đại đều bao gồm một kiểu dữ liệu cơ bản là `string` (chuỗi ký tự là một kiểu dữ liệu cho phép chúng ta lưu trữ một dãy các ký tự, thường được dùng để biểu diễn văn bản). Trong C++, `string` không phải là một kiểu dữ liệu cơ bản (mà là một kiểu phức hợp). Nhưng vì cách sử dụng cơ bản của `string` khá đơn giản và hữu ích, nên chúng ta sẽ giới thiệu về chuỗi trong chương tiếp theo (bài học 5.9 - Giới thiệu về `std::string`)."
   ]
  },
  {
   "cell_type": "markdown",
   "id": "e19b59e4-eb08-4273-b093-84ac9bb88307",
   "metadata": {},
   "source": [
    "### **Hậu tố `_t`**"
   ]
  },
  {
   "cell_type": "markdown",
   "id": "0e1a9aa5-63cf-4d82-bd86-7cc9490a863c",
   "metadata": {},
   "source": [
    "Nhiều kiểu dữ liệu được định nghĩa trong các phiên bản C++ mới hơn (ví dụ `std::nullptr_t`) sử dụng hậu tố `_t`. Hậu tố này có nghĩa là **\"kiểu\" (type)**, và đây là một thuật ngữ phổ biến được áp dụng cho các kiểu dữ liệu hiện đại.\n",
    "\n",
    "Nếu bạn thấy một cái gì đó có hậu tố `_t`, thì có thể nó là một kiểu dữ liệu. Nhưng nhiều kiểu dữ liệu không có hậu tố `_t`, vì vậy điều này không được áp dụng một cách nhất quán."
   ]
  },
  {
   "cell_type": "markdown",
   "id": "3c27b142-c11c-4db0-b484-058f09e19eb4",
   "metadata": {
    "jp-MarkdownHeadingCollapsed": true
   },
   "source": [
    "## **Bài 4.2: <u>`void`</u>** "
   ]
  },
  {
   "cell_type": "markdown",
   "id": "21e72d87-1109-4eb6-b759-0c779feae878",
   "metadata": {},
   "source": [
    "### **`void` - Kiểu dữ liệu đơn giản nhất**"
   ]
  },
  {
   "cell_type": "markdown",
   "id": "d5384144-7942-4eee-8c96-6f542e6ed344",
   "metadata": {},
   "source": [
    "`void` là một trong những kiểu dữ liệu dễ giải thích nhất. Về cơ bản, `void` có nghĩa là **\"không kiểu\"**!\n",
    "\n",
    "`void` là ví dụ đầu tiên về một **kiểu dữ liệu không đầy đủ (incomplete type)**. **Kiểu dữ liệu không đầy đủ** là kiểu đã được khai báo nhưng chưa được định nghĩa. Trình biên dịch biết về sự tồn tại của các kiểu như vậy, nhưng không có đủ thông tin để xác định cần phân bổ bao nhiêu bộ nhớ cho các đối tượng của kiểu đó. `void` được thiết kế là không đầy đủ vì nó đại diện cho sự thiếu kiểu, do đó không thể được định nghĩa.\n",
    "\n",
    "**Kiểu dữ liệu không đầy đủ không thể được khởi tạo:**\n",
    ">```\n",
    ">void value; // Không hợp lệ, biến không thể được khai báo với kiểu không đầy đủ void\n",
    ">```\n",
    "\n",
    "**`void` thường được sử dụng trong một số ngữ cảnh khác nhau:**"
   ]
  },
  {
   "cell_type": "markdown",
   "id": "d2473023-a799-4660-a75f-0fda0a7683c4",
   "metadata": {},
   "source": [
    "### **Hàm không trả về giá trị**"
   ]
  },
  {
   "cell_type": "markdown",
   "id": "4f55cf67-e000-41fd-ad92-63f9a5b0690a",
   "metadata": {},
   "source": [
    "Thông thường nhất, `void` được sử dụng để chỉ rằng một hàm không trả về giá trị:\n",
    "\n",
    ">```\n",
    ">void writeValue(int x) // void ở đây nghĩa là không có giá trị trả về\n",
    ">{\n",
    ">    std::cout << \"Giá trị của x là: \" << x << '\\n';\n",
    ">    // Không có lệnh return, vì hàm này không trả về giá trị\n",
    ">}\n",
    ">```\n",
    "\n",
    "Nếu bạn sử dụng lệnh `return` để cố gắng trả về giá trị trong một hàm như vậy, sẽ dẫn đến lỗi biên dịch:\n",
    "\n",
    ">```\n",
    ">void noReturn(int x) // void ở đây nghĩa là không có giá trị trả về\n",
    ">{\n",
    ">    std::cout << \"Giá trị của x là: \" << x << '\\n';\n",
    ">\n",
    ">    return 5; // Lỗi\n",
    ">}\n",
    ">```\n",
    "\n",
    "Trên Visual Studio 2017, lỗi này sẽ hiển thị:\n",
    ">```\n",
    ">error C2562: 'noReturn': 'void' function returning a value\n",
    ">```"
   ]
  },
  {
   "cell_type": "markdown",
   "id": "c645d275-1fb4-4634-b43b-505feb4c3500",
   "metadata": {},
   "source": [
    "### **Không khuyến khích: Hàm không nhận tham số**"
   ]
  },
  {
   "cell_type": "markdown",
   "id": "1396e9a8-1285-4d99-9574-dcf4fcbc6fab",
   "metadata": {},
   "source": [
    "Trong C, `void` được sử dụng để chỉ rằng một hàm không nhận bất kỳ tham số nào:\n",
    "\n",
    ">```\n",
    ">int getValue(void) // void ở đây nghĩa là không có tham số\n",
    ">{\n",
    ">    int x{};\n",
    ">    std::cin >> x;\n",
    ">\n",
    ">    return x;\n",
    ">}\n",
    ">```\n",
    "\n",
    "Mặc dù đoạn code này có thể biên dịch trong C++ (vì lý do tương thích ngược), cách sử dụng từ khóa `void` này được coi là không khuyến khích trong C++. Đoạn code sau đây tương đương và được ưu tiên hơn trong C++:\n",
    "\n",
    ">```\n",
    ">int getValue() // Danh sách tham số trống ngầm định là void\n",
    ">{\n",
    ">    int x{};\n",
    ">    std::cin >> x;\n",
    ">\n",
    ">    return x;\n",
    ">}\n",
    ">```\n",
    "\n",
    ">**Thực hành tốt nhất:**<br>\n",
    ">Sử dụng danh sách tham số trống thay vì `void` để chỉ rằng một hàm không có tham số."
   ]
  },
  {
   "cell_type": "markdown",
   "id": "1c0611a8-867b-4095-a8bf-2399a5b97e01",
   "metadata": {},
   "source": [
    "### **Những cách sử dụng `void` khác**"
   ]
  },
  {
   "cell_type": "markdown",
   "id": "4acc60f1-7448-4ddd-bf27-72f4734b2ae7",
   "metadata": {},
   "source": [
    "Từ khóa `void` có cách sử dụng thứ ba (nâng cao hơn) trong C++, được đề cập trong phần 19.5 - Con trỏ `void`. Vì chúng ta chưa học về con trỏ, bạn không cần lo lắng về trường hợp này hiện tại."
   ]
  },
  {
   "cell_type": "markdown",
   "id": "dabccdd3-daca-4a9a-a899-f51a6aeecc0b",
   "metadata": {},
   "source": [
    "## **Bài 4.3** "
   ]
  },
  {
   "cell_type": "code",
   "execution_count": null,
   "id": "ab125cd0-43a4-4dd2-aca1-c6e8ff947624",
   "metadata": {},
   "outputs": [],
   "source": []
  }
 ],
 "metadata": {
  "kernelspec": {
   "display_name": "Python 3 (ipykernel)",
   "language": "python",
   "name": "python3"
  },
  "language_info": {
   "codemirror_mode": {
    "name": "ipython",
    "version": 3
   },
   "file_extension": ".py",
   "mimetype": "text/x-python",
   "name": "python",
   "nbconvert_exporter": "python",
   "pygments_lexer": "ipython3",
   "version": "3.12.3"
  }
 },
 "nbformat": 4,
 "nbformat_minor": 5
}
