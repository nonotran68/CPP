{
 "cells": [
  {
   "cell_type": "markdown",
   "id": "17452528-6701-437a-a915-c5352cae77cc",
   "metadata": {},
   "source": [
    "## **Bài 4.3: <u>Kích thước đối tượng và toán tử `sizeof`</u>** "
   ]
  },
  {
   "cell_type": "markdown",
   "id": "abba5426-29a5-41da-9be2-b78d3d5e3bbd",
   "metadata": {},
   "source": [
    "Như bạn đã học trong bài học [**4.1 - Giới thiệu về kiểu dữ liệu cơ bản**](lesson4_1.ipynb), bộ nhớ trên các máy tính hiện đại thường được tổ chức thành các đơn vị **byte**, mỗi **byte** có một địa chỉ duy nhất. Cho đến thời điểm này, việc coi bộ nhớ như một dãy các ngăn tủ hoặc hộp thư nơi chúng ta có thể lưu trữ và truy xuất thông tin, và biến là tên để truy cập vào các ngăn tủ hoặc hộp thư đó, là một cách hữu ích.\n",
    "\n"
   ]
  },
  {
   "cell_type": "markdown",
   "id": "19261106-159d-4320-a218-9c72fcd4b18b",
   "metadata": {},
   "source": [
    "Tuy nhiên, phép so sánh này không hoàn toàn chính xác ở một khía cạnh - hầu hết các đối tượng thực sự chiếm hơn 1 byte bộ nhớ. Một đối tượng đơn có thể sử dụng 1, 2, 4, 8 hoặc thậm chí nhiều địa chỉ bộ nhớ liên tiếp hơn. Lượng bộ nhớ mà một đối tượng sử dụng phụ thuộc vào kiểu dữ liệu của nó.\n",
    "\n",
    "Vì chúng ta thường truy cập bộ nhớ thông qua tên biến (chứ không phải trực tiếp qua địa chỉ bộ nhớ), trình biên dịch có thể ẩn giấu chi tiết về số byte mà một đối tượng nhất định sử dụng khỏi chúng ta. Khi chúng ta truy cập một biến `x`, trình biên dịch biết cần truy xuất bao nhiêu byte dữ liệu (dựa trên kiểu của biến `x`), và có thể xử lý nhiệm vụ đó cho chúng ta.\n",
    "\n",
    "Mặc dù vậy, việc biết một đối tượng sử dụng bao nhiêu bộ nhớ vẫn có ích vì một số lý do.\n",
    "\n",
    "1. **Dung lượng lưu trữ:**\n",
    "\n",
    "    Càng nhiều bộ nhớ một đối tượng sử dụng, thì nó càng chứa được nhiều thông tin.\\\n",
    "    1 bit có thể chứa 2 giá trị khả dĩ, `0` hoặc `1`:\n",
    "    >**Bit 0**<br>\n",
    "    >`0`\\\n",
    "    >`1`\n",
    "\n",
    "    2 bit có thể chứa 4 giá trị khả dĩ:\n",
    "    >**Bit 0**&nbsp;&nbsp;&nbsp;&nbsp;&nbsp;&nbsp;**Bit 1**\\\n",
    "    >`0`&nbsp;&nbsp;&nbsp;&nbsp;&nbsp;&nbsp;&nbsp;&nbsp;&nbsp;&nbsp;`0`\\\n",
    "    >`0`&nbsp;&nbsp;&nbsp;&nbsp;&nbsp;&nbsp;&nbsp;&nbsp;&nbsp;&nbsp;`1`\\\n",
    "    >`1`&nbsp;&nbsp;&nbsp;&nbsp;&nbsp;&nbsp;&nbsp;&nbsp;&nbsp;&nbsp;`0`\\\n",
    "    >`1`&nbsp;&nbsp;&nbsp;&nbsp;&nbsp;&nbsp;&nbsp;&nbsp;&nbsp;&nbsp;`1`\n",
    "\n",
    "    3 bit có thể chứa 8 giá trị khả dĩ:\n",
    "    >**Bit 0**&nbsp;&nbsp;&nbsp;&nbsp;&nbsp;&nbsp;**Bit 1**&nbsp;&nbsp;&nbsp;&nbsp;&nbsp;&nbsp;**Bit 2**\\\n",
    "    >`0`&nbsp;&nbsp;&nbsp;&nbsp;&nbsp;&nbsp;&nbsp;&nbsp;&nbsp;&nbsp;`0`&nbsp;&nbsp;&nbsp;&nbsp;&nbsp;&nbsp;&nbsp;&nbsp;&nbsp;&nbsp;`0`\\\n",
    "    >`0`&nbsp;&nbsp;&nbsp;&nbsp;&nbsp;&nbsp;&nbsp;&nbsp;&nbsp;&nbsp;`0`&nbsp;&nbsp;&nbsp;&nbsp;&nbsp;&nbsp;&nbsp;&nbsp;&nbsp;&nbsp;`1`\\\n",
    "    >`0`&nbsp;&nbsp;&nbsp;&nbsp;&nbsp;&nbsp;&nbsp;&nbsp;&nbsp;&nbsp;`1`&nbsp;&nbsp;&nbsp;&nbsp;&nbsp;&nbsp;&nbsp;&nbsp;&nbsp;&nbsp;`0`\\\n",
    "    >`0`&nbsp;&nbsp;&nbsp;&nbsp;&nbsp;&nbsp;&nbsp;&nbsp;&nbsp;&nbsp;`1`&nbsp;&nbsp;&nbsp;&nbsp;&nbsp;&nbsp;&nbsp;&nbsp;&nbsp;&nbsp;`1`\\\n",
    "    >`1`&nbsp;&nbsp;&nbsp;&nbsp;&nbsp;&nbsp;&nbsp;&nbsp;&nbsp;&nbsp;`0`&nbsp;&nbsp;&nbsp;&nbsp;&nbsp;&nbsp;&nbsp;&nbsp;&nbsp;&nbsp;`0`\\\n",
    "    >`1`&nbsp;&nbsp;&nbsp;&nbsp;&nbsp;&nbsp;&nbsp;&nbsp;&nbsp;&nbsp;`0`&nbsp;&nbsp;&nbsp;&nbsp;&nbsp;&nbsp;&nbsp;&nbsp;&nbsp;&nbsp;`1`\\\n",
    "    >`1`&nbsp;&nbsp;&nbsp;&nbsp;&nbsp;&nbsp;&nbsp;&nbsp;&nbsp;&nbsp;`1`&nbsp;&nbsp;&nbsp;&nbsp;&nbsp;&nbsp;&nbsp;&nbsp;&nbsp;&nbsp;`0`\\\n",
    "    >`1`&nbsp;&nbsp;&nbsp;&nbsp;&nbsp;&nbsp;&nbsp;&nbsp;&nbsp;&nbsp;`1`&nbsp;&nbsp;&nbsp;&nbsp;&nbsp;&nbsp;&nbsp;&nbsp;&nbsp;&nbsp;`1`\n",
    "\n",
    "    Nói chung, một đối tượng có **n** bit (n là một số nguyên) có thể chứa **2<sup>n</sup>** (2 mũ n, cũng thường được viết là 2^n) giá trị duy nhất. Do đó, với một byte 8 bit, một đối tượng có kích thước byte có thể chứa 2<sup>8</sup> (256) giá trị khác nhau. Một đối tượng sử dụng 2 byte có thể chứa 2<sup>16</sup> (65536) giá trị khác nhau!\n",
    "\n",
    "    Do đó, kích thước của đối tượng đặt ra giới hạn cho lượng giá trị duy nhất mà nó có thể lưu trữ - các đối tượng sử dụng nhiều byte hơn có thể lưu trữ một số lượng giá trị duy nhất lớn hơn. Chúng ta sẽ tìm hiểu thêm về điều này khi nói về số nguyên.\n",
    "2. **Bộ nhớ hữu hạn:**\n",
    "\n",
    "    Máy tính có một lượng bộ nhớ trống hữu hạn. Mỗi lần chúng ta định nghĩa một đối tượng, một phần nhỏ của bộ nhớ trống đó được sử dụng miễn là đối tượng tồn tại. Do máy tính hiện đại có rất nhiều bộ nhớ, nên tác động này thường không đáng kể. Tuy nhiên, đối với các chương trình cần một lượng lớn đối tượng hoặc dữ liệu (ví dụ: trò chơi đang render hàng triệu đa giác), thì sự khác biệt giữa sử dụng đối tượng 1 byte và 8 byte có thể rất đáng kể.\n",
    "\n",
    ">**Điểm mấu chốt**<br>\n",
    ">Lập trình viên mới thường quá chú trọng vào việc tối ưu hóa code để sử dụng ít bộ nhớ nhất có thể. Trong hầu hết các trường hợp, điều này không tạo ra sự khác biệt đáng kể. Hãy tập trung vào việc viết code dễ bảo trì và chỉ tối ưu hóa khi nào và ở đâu lợi ích thực sự cần thiết."
   ]
  },
  {
   "cell_type": "markdown",
   "id": "fcb3db5b-7a09-404b-a70e-9cbdc2a4a33a",
   "metadata": {},
   "source": [
    "### **Kích thước kiểu dữ liệu cơ bản** "
   ]
  },
  {
   "cell_type": "markdown",
   "id": "20896142-780a-4ff6-bb7f-f38849b1d7d6",
   "metadata": {},
   "source": [
    "Câu hỏi hiển nhiên tiếp theo là: **\"Các biến có kiểu dữ liệu khác nhau chiếm bao nhiêu bộ nhớ?\".**\n",
    "\n",
    "Có lẽ điều ngạc nhiên là tiêu chuẩn C++ không định nghĩa kích thước chính xác (theo bit) cho bất kỳ kiểu dữ liệu cơ bản nào. Kiểu `char` phải là 1 byte, nhưng không có giả định rằng một byte bằng 8 bit. Các kiểu giống số nguyên (integral types) có kích thước tối thiểu (theo bit), nhưng có thể lớn hơn.\n",
    "\n",
    "Trong loạt bài hướng dẫn này, chúng ta sẽ sử dụng cách nhìn đơn giản hóa, bằng cách đưa ra một số giả định hợp lý thường đúng cho các kiến trúc hiện đại:\n",
    "- Một byte bằng 8 bit.\n",
    "- Bộ nhớ được寻truy xuất theo byte, do đó đối tượng nhỏ nhất là 1 byte.\n",
    "- Hỗ trợ dấu phẩy động tuân thủ theo chuẩn IEEE-754.\n",
    "- Chúng ta đang sử dụng kiến trúc 32 bit hoặc 64 bit.\n",
    "\n",
    "Dựa vào những điều kiện trên, chúng ta có thể xác định kích thước của các kiểu dữ liệu cơ bản như sau:"
   ]
  },
  {
   "cell_type": "markdown",
   "id": "c5a1d442-3f71-4528-86ae-6f05e0b92807",
   "metadata": {},
   "source": [
    "| Mục                        | Kiểu dữ liệu     | Kích thước tối thiểu | Kích thước tiêu chuẩn | Ghi chú               |\n",
    "|----------------------------|------------------|----------------------|-----------------------|-----------------------|\n",
    "| Boolean (logic)            | `bool`           | 1 byte               | 1 byte                |                       |\n",
    "| Kí tự                      | `char`           | 1 byte               | 1 byte                | luôn chính xác 1 byte |\n",
    "|                            | `wchar_t`        | 1 byte               | 2 hoặc 4 byte         |                       |\n",
    "|                            | `char8_t`        | 1 byte               | 1 byte                |                       |\n",
    "|                            | `char16_t`       | 2 byte               | 2 byte                |                       |\n",
    "|                            | `char32_t`       | 4 byte               | 4 byte                |                       |\n",
    "| Số nguyên                  | `short`          | 2 byte               | 2 byte                |                       |\n",
    "|                            | `int`            | 2 byte               | 4 byte                |                       |\n",
    "|                            | `long`           | 4 byte               | 4 hoặc 8 byte         |                       |\n",
    "|                            | `long long`      | 8 byte               | 8 byte                |                       |\n",
    "| So thập phân dấu phẩy động | `float`          | 4 byte               | 4 byte                |                       |\n",
    "|                            | `double`         | 8 byte               | 8 byte                |                       |\n",
    "|                            | `long double`    | 8 byte               | 8, 12 hoặc 16 byte    |                       |\n",
    "| Con trỏ                    | `std::nullptr_t` | 4 byte               | 4 hoặc 8 byte         |                       |"
   ]
  },
  {
   "cell_type": "markdown",
   "id": "a95b11e3-ebab-425c-a6fd-2d67e084b976",
   "metadata": {},
   "source": [
    ">**Mẹo**<br>\n",
    ">Để đạt được khả năng di động tối đa (chạy được trên nhiều nền tảng khác nhau), bạn không nên giả định rằng các biến có kích thước lớn hơn kích thước tối thiểu được quy định.<br>\n",
    ">Mặt khác, nếu bạn muốn giả định một kiểu dữ liệu có kích thước nhất định (ví dụ: kiểu `int` có ít nhất 4 byte), bạn có thể sử dụng `static_assert` để yêu cầu trình biên dịch báo lỗi khi biên dịch trên một kiến trúc không đáp ứng giả định này. Chúng ta sẽ tìm hiểu cách thực hiện việc này trong bài học 9.6 - `assert` và `static_assert`.\n",
    "\n",
    ">**Nội dung liên quan**<br>\n",
    ">Nếu bạn đang sử dụng C++ trên một hệ thống không tuân theo các giả định của chúng tôi, hoặc chỉ đơn giản là tò mò, bạn có thể tìm thêm thông tin về những gì tiêu chuẩn C++ nói về kích thước tối thiểu của các kiểu dữ liệu khác nhau [ở đây](https://en.cppreference.com/w/cpp/language/types)."
   ]
  },
  {
   "cell_type": "markdown",
   "id": "b28f5e5b-7469-407e-93e8-4717abc5e423",
   "metadata": {},
   "source": [
    "### **Toán tử sizeof**"
   ]
  },
  {
   "cell_type": "markdown",
   "id": "5950ce7e-b573-437c-92d4-8405cc5480df",
   "metadata": {},
   "source": [
    "Để xác định kích thước của các kiểu dữ liệu trên một máy cụ thể, C++ cung cấp một toán tử tên là `sizeof`. Toán tử `sizeof` là toán tử đơn ngôi nhận một kiểu dữ liệu hoặc một biến và trả về kích thước của nó theo byte. Bạn có thể biên dịch và chạy chương trình sau để xem một số kiểu dữ liệu của bạn có kích thước bao nhiêu:\n",
    "\n",
    ">```\n",
    ">#include <iomanip> // để sử dụng std::setw (hàm này thiết lập độ rộng của đầu ra tiếp theo)\n",
    ">#include <iostream>\n",
    ">\n",
    ">int main()\n",
    ">{\n",
    ">    std::cout << std::left; // canh chỉnh đầu ra sang trái\n",
    ">    std::cout << std::setw(16) << \"bool:\" << sizeof(bool) << \" bytes\\n\";\n",
    ">    std::cout << std::setw(16) << \"char:\" << sizeof(char) << \" bytes\\n\";\n",
    ">    std::cout << std::setw(16) << \"short:\" << sizeof(short) << \" bytes\\n\";\n",
    ">    std::cout << std::setw(16) << \"int:\" << sizeof(int) << \" bytes\\n\";\n",
    ">    std::cout << std::setw(16) << \"long:\" << sizeof(long) << \" bytes\\n\";\n",
    ">    std::cout << std::setw(16) << \"long long:\" << sizeof(long long) << \" bytes\\n\";\n",
    ">    std::cout << std::setw(16) << \"float:\" << sizeof(float) << \" bytes\\n\";\n",
    ">    std::cout << std::setw(16) << \"double:\" << sizeof(double) << \" bytes\\n\";\n",
    ">    std::cout << std::setw(16) << \"long double:\" << sizeof(long double) << \" bytes\\n\";\n",
    ">\n",
    ">    return 0;\n",
    ">}\n",
    "\n",
    "Kết quả đầu ra trên máy của tác giả:\n",
    ">```\n",
    ">bool:           1 bytes\n",
    ">char:           1 bytes\n",
    ">short:          2 bytes\n",
    ">int:            4 bytes\n",
    ">long:           4 bytes\n",
    ">long long:      8 bytes\n",
    ">float:          4 bytes\n",
    ">double:         8 bytes\n",
    ">long double:    8 bytes\n",
    "\n",
    "Lưu ý rằng kết quả của bạn có thể khác nhau tùy thuộc vào trình biên dịch, kiến trúc máy tính, hệ điều hành, cài đặt biên dịch (32-bit vs 64-bit), v.v."
   ]
  },
  {
   "cell_type": "markdown",
   "id": "6c300a1b-a406-4825-80ae-88710749da6c",
   "metadata": {},
   "source": [
    "Sử dụng `sizeof` trên kiểu dữ liệu không đầy đủ sẽ dẫn đến lỗi biên dịch. Ví dụ, sử dụng `sizeof` trên `void` sẽ gây ra lỗi.\n",
    "\n",
    "Bạn cũng có thể sử dụng toán tử `sizeof` trên tên biến:\n",
    ">```\n",
    ">#include <iostream>\n",
    ">\n",
    ">int main()\n",
    ">{\n",
    ">    int x{};\n",
    ">    std::cout << \"x is \" << sizeof(x) << \" bytes\\n\";\n",
    ">\n",
    ">    return 0;\n",
    ">}\n",
    ">```\n",
    "\n",
    "**Kết quả:**\n",
    ">```\n",
    ">x is 4 bytes\n",
    ">```\n",
    "\n",
    ">**Đối với người đọc nâng cao:**\n",
    ">`sizeof` không bao gồm bộ nhớ được cấp phát động được sử dụng bởi một đối tượng. Chúng tôi sẽ thảo luận về cấp phát bộ nhớ động trong một bài học sau."
   ]
  },
  {
   "cell_type": "markdown",
   "id": "308ee3b5-31f2-40a1-ad1a-0d4cd3b1e5ee",
   "metadata": {},
   "source": [
    "### **Hiệu suất của kiểu dữ liệu cơ bản:**"
   ]
  },
  {
   "cell_type": "markdown",
   "id": "512a9e70-0cb3-4654-905b-8ed0d14a3f0c",
   "metadata": {},
   "source": [
    "Trên các máy tính hiện đại, các đối tượng của các kiểu dữ liệu cơ bản hoạt động nhanh, vì vậy hiệu suất khi sử dụng hoặc sao chép các kiểu này thường không cần quan tâm.\n",
    "\n",
    ">**Ngoài lề**<br>\n",
    ">Bạn có thể cho rằng các kiểu dữ liệu sử dụng ít bộ nhớ sẽ nhanh hơn các kiểu dữ liệu sử dụng nhiều bộ nhớ. Điều này không luôn luôn đúng. CPU thường được tối ưu hóa để xử lý dữ liệu có kích thước nhất định (ví dụ: 32 bit) và các kiểu dữ liệu phù hợp với kích thước đó có thể được xử lý nhanh hơn. Trên một máy tính như vậy, kiểu `int` 32 bit có thể nhanh hơn kiểu `short` 16 bit hoặc `char` 8 bit."
   ]
  }
 ],
 "metadata": {
  "kernelspec": {
   "display_name": "Python 3 (ipykernel)",
   "language": "python",
   "name": "python3"
  },
  "language_info": {
   "codemirror_mode": {
    "name": "ipython",
    "version": 3
   },
   "file_extension": ".py",
   "mimetype": "text/x-python",
   "name": "python",
   "nbconvert_exporter": "python",
   "pygments_lexer": "ipython3",
   "version": "3.12.3"
  }
 },
 "nbformat": 4,
 "nbformat_minor": 5
}
